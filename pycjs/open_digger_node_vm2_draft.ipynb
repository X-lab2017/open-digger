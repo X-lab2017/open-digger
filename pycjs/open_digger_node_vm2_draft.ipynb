{
 "cells": [
  {
   "cell_type": "code",
   "execution_count": 1,
   "id": "dac5bcb4-e08d-4b94-b42a-b0e54ba46471",
   "metadata": {},
   "outputs": [
    {
     "name": "stdout",
     "output_type": "stream",
     "text": [
      "Defaulting to user installation because normal site-packages is not writeable\n",
      "Requirement already satisfied: node_vm2 in /home/node/.local/lib/python3.8/site-packages (0.4.7)\n",
      "\u001b[33mWARNING: You are using pip version 21.3.1; however, version 23.3.2 is available.\n",
      "You should consider upgrading via the '/usr/bin/python3 -m pip install --upgrade pip' command.\u001b[0m\n"
     ]
    }
   ],
   "source": [
    "!pip install node_vm2"
   ]
  },
  {
   "cell_type": "code",
   "execution_count": 2,
   "id": "d8b412ba-6d99-4a22-adca-601ef83a7476",
   "metadata": {},
   "outputs": [
    {
     "name": "stdout",
     "output_type": "stream",
     "text": [
      "1\n",
      "{'constants': {'UV_UDP_REUSEADDR': 4, 'dlopen': {'RTLD_LAZY': 1, 'RTLD_NOW': 2, 'RTLD_GLOBAL': 256, 'RTLD_LOCAL': 0, 'RTLD_DEEPBIND': 8}, 'errno': {'E2BIG': 7, 'EACCES': 13, 'EADDRINUSE': 98, 'EADDRNOTAVAIL': 99, 'EAFNOSUPPORT': 97, 'EAGAIN': 11, 'EALREADY': 114, 'EBADF': 9, 'EBADMSG': 74, 'EBUSY': 16, 'ECANCELED': 125, 'ECHILD': 10, 'ECONNABORTED': 103, 'ECONNREFUSED': 111, 'ECONNRESET': 104, 'EDEADLK': 35, 'EDESTADDRREQ': 89, 'EDOM': 33, 'EDQUOT': 122, 'EEXIST': 17, 'EFAULT': 14, 'EFBIG': 27, 'EHOSTUNREACH': 113, 'EIDRM': 43, 'EILSEQ': 84, 'EINPROGRESS': 115, 'EINTR': 4, 'EINVAL': 22, 'EIO': 5, 'EISCONN': 106, 'EISDIR': 21, 'ELOOP': 40, 'EMFILE': 24, 'EMLINK': 31, 'EMSGSIZE': 90, 'EMULTIHOP': 72, 'ENAMETOOLONG': 36, 'ENETDOWN': 100, 'ENETRESET': 102, 'ENETUNREACH': 101, 'ENFILE': 23, 'ENOBUFS': 105, 'ENODATA': 61, 'ENODEV': 19, 'ENOENT': 2, 'ENOEXEC': 8, 'ENOLCK': 37, 'ENOLINK': 67, 'ENOMEM': 12, 'ENOMSG': 42, 'ENOPROTOOPT': 92, 'ENOSPC': 28, 'ENOSR': 63, 'ENOSTR': 60, 'ENOSYS': 38, 'ENOTCONN': 107, 'ENOTDIR': 20, 'ENOTEMPTY': 39, 'ENOTSOCK': 88, 'ENOTSUP': 95, 'ENOTTY': 25, 'ENXIO': 6, 'EOPNOTSUPP': 95, 'EOVERFLOW': 75, 'EPERM': 1, 'EPIPE': 32, 'EPROTO': 71, 'EPROTONOSUPPORT': 93, 'EPROTOTYPE': 91, 'ERANGE': 34, 'EROFS': 30, 'ESPIPE': 29, 'ESRCH': 3, 'ESTALE': 116, 'ETIME': 62, 'ETIMEDOUT': 110, 'ETXTBSY': 26, 'EWOULDBLOCK': 11, 'EXDEV': 18}, 'signals': {'SIGHUP': 1, 'SIGINT': 2, 'SIGQUIT': 3, 'SIGILL': 4, 'SIGTRAP': 5, 'SIGABRT': 6, 'SIGIOT': 6, 'SIGBUS': 7, 'SIGFPE': 8, 'SIGKILL': 9, 'SIGUSR1': 10, 'SIGSEGV': 11, 'SIGUSR2': 12, 'SIGPIPE': 13, 'SIGALRM': 14, 'SIGTERM': 15, 'SIGCHLD': 17, 'SIGSTKFLT': 16, 'SIGCONT': 18, 'SIGSTOP': 19, 'SIGTSTP': 20, 'SIGTTIN': 21, 'SIGTTOU': 22, 'SIGURG': 23, 'SIGXCPU': 24, 'SIGXFSZ': 25, 'SIGVTALRM': 26, 'SIGPROF': 27, 'SIGWINCH': 28, 'SIGIO': 29, 'SIGPOLL': 29, 'SIGPWR': 30, 'SIGSYS': 31, 'SIGUNUSED': 31}, 'priority': {'PRIORITY_LOW': 19, 'PRIORITY_BELOW_NORMAL': 10, 'PRIORITY_NORMAL': 0, 'PRIORITY_ABOVE_NORMAL': -7, 'PRIORITY_HIGH': -14, 'PRIORITY_HIGHEST': -20}}, 'EOL': '\\n', 'devNull': '/dev/null'}\n",
      "Hello Jhon!\n"
     ]
    },
    {
     "name": "stderr",
     "output_type": "stream",
     "text": [
      "/home/node/.local/lib/python3.8/site-packages/node_vm2/__init__.py:17: FutureWarning: node_vm2 is deprecated. Please use deno_vm instead.\n",
      "  warnings.warn(\"node_vm2 is deprecated. Please use deno_vm instead.\", FutureWarning)\n"
     ]
    }
   ],
   "source": [
    "from node_vm2 import NodeVM\n",
    "\n",
    "\n",
    "js_tst = '''\n",
    "var x = 1;\n",
    "exports.ex = x;\n",
    "const os = require(\"os\");\n",
    "exports.eos = os;\n",
    "exports.greet = name => console.log(`Hello ${name}!`);\n",
    "'''\n",
    "\n",
    "vm_option = {\n",
    "    'require': {\n",
    "        'builtin': ['os'],\n",
    "    }\n",
    "}\n",
    "\n",
    "with NodeVM(**vm_option) as vm:\n",
    "    vmr = vm.run(js_tst)\n",
    "    print(vmr.get_member(\"ex\"))\n",
    "    print(vmr.get_member(\"eos\"))\n",
    "    vmr.call_member(\"greet\", \"Jhon\")"
   ]
  },
  {
   "cell_type": "code",
   "execution_count": 3,
   "id": "a62bf096-6562-4202-81b1-04e5ec2065aa",
   "metadata": {},
   "outputs": [],
   "source": [
    "from node_vm2 import NodeVM\n",
    "\n",
    "\n",
    "vm_option = {\n",
    "    # 'console': 'inherit',\n",
    "    # \"wrapper\": 'commonjs',\n",
    "    # 'sandbox': {},\n",
    "    'require': {\n",
    "        'external': '../lib',\n",
    "        # 'builtin': ['os'],\n",
    "        # 'import': [\"ijavascript-plotly\"],\n",
    "        'root': '../',\n",
    "        # 'mock': { }\n",
    "    }\n",
    "}"
   ]
  },
  {
   "cell_type": "code",
   "execution_count": 4,
   "id": "9e0436b7-e7e8-4dab-8eaf-d1cd186ba3ea",
   "metadata": {},
   "outputs": [],
   "source": [
    "js_open_digger_app = '''\n",
    "var LEN_YEARS = 6;\n",
    "var TOP_N_REPOS = 10;\n",
    "var openDigger = require('../src/open_digger');\n",
    "var year = 2023, startMonth = 1, endMonth = 12;\n",
    "var len_years = LEN_YEARS;\n",
    "var startYear = year - len_years + 1;\n",
    "var baseOptions = {\n",
    "    startYear: startYear, endYear: year,\n",
    "    startMonth, endMonth,\n",
    "    groupTimeRange: 'year',\n",
    "    order: 'DESC'\n",
    "};\n",
    "var years = Array.from({ length: len_years }, (_, i) => i + startYear); // [2018, 2019, 2020, 2021, 2022, 2023]\n",
    "\n",
    "var data = openDigger.index.openrank.getRepoOpenrank({\n",
    "    labelUnion: [':technology/database'],\n",
    "    startYear: year, endYear: year, startMonth: 1, endMonth: 12,\n",
    "    groupTimeRange: 'year', limit: 10, order: 'DESC',\n",
    "});\n",
    "\n",
    "var getRepoOpenrank = openDigger.index.openrank.getRepoOpenrank;\n",
    "\n",
    "exports.openDigger = openDigger;\n",
    "exports.data = data;\n",
    "exports.getRepoOpenrank = getRepoOpenrank;\n",
    "'''\n"
   ]
  },
  {
   "cell_type": "code",
   "execution_count": 5,
   "id": "de253e83-551d-4c3b-99b0-41b3726f46d7",
   "metadata": {},
   "outputs": [
    {
     "name": "stdout",
     "output_type": "stream",
     "text": [
      "openDigger: \n",
      " {'label': {}, 'render': {}, 'driver': {'neo4j': {}, 'clickhouse': {}}, 'index': {'activity': {}, 'openrank': {}, 'attention': {}}, 'metric': {'chaoss': {}, 'xlab': {}}, 'quick': {}}\n",
      "\n",
      "data: \n",
      " [{'id': '60246359', 'platform': 'GitHub', 'name': 'ClickHouse/ClickHouse', 'openrank': [4941.99]}, {'id': '99919302', 'platform': 'GitHub', 'name': 'apache/doris', 'openrank': [4307.26]}, {'id': '507775', 'platform': 'GitHub', 'name': 'elastic/elasticsearch', 'openrank': [3729.39]}, {'id': '16563587', 'platform': 'GitHub', 'name': 'cockroachdb/cockroach', 'openrank': [3443.7]}, {'id': '402945349', 'platform': 'GitHub', 'name': 'StarRocks/starrocks', 'openrank': [3194.56]}, {'id': '166515022', 'platform': 'GitHub', 'name': 'trinodb/trino', 'openrank': [2703.4]}, {'id': '17165658', 'platform': 'GitHub', 'name': 'apache/spark', 'openrank': [2654.02]}, {'id': '41986369', 'platform': 'GitHub', 'name': 'pingcap/tidb', 'openrank': [2200.38]}, {'id': '208728772', 'platform': 'GitHub', 'name': 'milvus-io/milvus', 'openrank': [2001.11]}, {'id': '105944401', 'platform': 'GitHub', 'name': 'yugabyte/yugabyte-db', 'openrank': [1940.75]}]\n",
      "\n",
      "data: \n",
      " [{'id': '60246359', 'platform': 'GitHub', 'name': 'ClickHouse/ClickHouse', 'openrank': [4941.99]}, {'id': '99919302', 'platform': 'GitHub', 'name': 'apache/doris', 'openrank': [4307.26]}, {'id': '507775', 'platform': 'GitHub', 'name': 'elastic/elasticsearch', 'openrank': [3729.39]}, {'id': '16563587', 'platform': 'GitHub', 'name': 'cockroachdb/cockroach', 'openrank': [3443.7]}, {'id': '402945349', 'platform': 'GitHub', 'name': 'StarRocks/starrocks', 'openrank': [3194.56]}, {'id': '166515022', 'platform': 'GitHub', 'name': 'trinodb/trino', 'openrank': [2703.4]}, {'id': '17165658', 'platform': 'GitHub', 'name': 'apache/spark', 'openrank': [2654.02]}, {'id': '41986369', 'platform': 'GitHub', 'name': 'pingcap/tidb', 'openrank': [2200.38]}, {'id': '208728772', 'platform': 'GitHub', 'name': 'milvus-io/milvus', 'openrank': [2001.11]}, {'id': '105944401', 'platform': 'GitHub', 'name': 'yugabyte/yugabyte-db', 'openrank': [1940.75]}]\n"
     ]
    }
   ],
   "source": [
    "year = 2023\n",
    "startMonth = 1\n",
    "endMonth = 12\n",
    "baseOptions = {\n",
    "    \"startYear\": year, \n",
    "    \"endYear\": year,\n",
    "    \"startMonth\": startMonth, \n",
    "    \"endMonth\": endMonth,\n",
    "    \"groupTimeRange\": 'year',\n",
    "    \"order\": 'DESC'\n",
    "}\n",
    "\n",
    "localOptions = {\n",
    "    \"labelUnion\": [':technology/database'],\n",
    "    \"limit\": 10\n",
    "}\n",
    "\n",
    "import copy\n",
    "options = copy.deepcopy(baseOptions)\n",
    "options.update(localOptions)\n",
    "\n",
    "with NodeVM(**vm_option) as vm:\n",
    "    vm_rt = vm.run(js_open_digger_app)\n",
    "    print(\"openDigger: \\n\", vm_rt.get_member(\"openDigger\"))  # variable\n",
    "    print(\"\\ndata: \\n\", vm_rt.get_member(\"data\"))  # function return result\n",
    "    print(\"\\ndata: \\n\", vm_rt.call_member(\"getRepoOpenrank\", options))  # function executor\n"
   ]
  },
  {
   "cell_type": "code",
   "execution_count": 6,
   "id": "dedc96d9-8314-4f51-a59f-c2d8d1aa3693",
   "metadata": {},
   "outputs": [],
   "source": [
    "class NodeVMFuncGen(object):\n",
    "    def __init__(self, func_name='_', vm_rt=None, *args, **kwargs):\n",
    "        self.func_name = func_name    \n",
    "        self.vm_rt = vm_rt\n",
    "        self.args = args\n",
    "        self.kwargs = kwargs\n",
    "        self.func = self.func_impl\n",
    "        return \n",
    "    \n",
    "    def func_impl(self, *args, **kwargs):\n",
    "        kwargs = kwargs or self.kwargs\n",
    "        vm_rt = kwargs.pop(\"vm_rt\", None) or self.vm_rt\n",
    "        res = vm_rt.call_member(self.func_name, *args, **kwargs)\n",
    "        return res"
   ]
  },
  {
   "cell_type": "code",
   "execution_count": 7,
   "id": "1ef1d3a2-2c46-4bba-ad3b-e4afa562764a",
   "metadata": {},
   "outputs": [
    {
     "name": "stdout",
     "output_type": "stream",
     "text": [
      "Initialize vm_rt in the constructor: \n",
      "<class 'list'> [{'id': '60246359', 'platform': 'GitHub', 'name': 'ClickHouse/ClickHouse', 'openrank': [4941.99]}, {'id': '99919302', 'platform': 'GitHub', 'name': 'apache/doris', 'openrank': [4307.26]}, {'id': '507775', 'platform': 'GitHub', 'name': 'elastic/elasticsearch', 'openrank': [3729.39]}, {'id': '16563587', 'platform': 'GitHub', 'name': 'cockroachdb/cockroach', 'openrank': [3443.7]}, {'id': '402945349', 'platform': 'GitHub', 'name': 'StarRocks/starrocks', 'openrank': [3194.56]}, {'id': '166515022', 'platform': 'GitHub', 'name': 'trinodb/trino', 'openrank': [2703.4]}, {'id': '17165658', 'platform': 'GitHub', 'name': 'apache/spark', 'openrank': [2654.02]}, {'id': '41986369', 'platform': 'GitHub', 'name': 'pingcap/tidb', 'openrank': [2200.38]}, {'id': '208728772', 'platform': 'GitHub', 'name': 'milvus-io/milvus', 'openrank': [2001.11]}, {'id': '105944401', 'platform': 'GitHub', 'name': 'yugabyte/yugabyte-db', 'openrank': [1940.75]}]\n",
      "Initialize vm_rt when calling a function: \n",
      "<class 'list'> [{'id': '60246359', 'platform': 'GitHub', 'name': 'ClickHouse/ClickHouse', 'openrank': [4941.99]}, {'id': '99919302', 'platform': 'GitHub', 'name': 'apache/doris', 'openrank': [4307.26]}, {'id': '507775', 'platform': 'GitHub', 'name': 'elastic/elasticsearch', 'openrank': [3729.39]}, {'id': '16563587', 'platform': 'GitHub', 'name': 'cockroachdb/cockroach', 'openrank': [3443.7]}, {'id': '402945349', 'platform': 'GitHub', 'name': 'StarRocks/starrocks', 'openrank': [3194.56]}, {'id': '166515022', 'platform': 'GitHub', 'name': 'trinodb/trino', 'openrank': [2703.4]}, {'id': '17165658', 'platform': 'GitHub', 'name': 'apache/spark', 'openrank': [2654.02]}, {'id': '41986369', 'platform': 'GitHub', 'name': 'pingcap/tidb', 'openrank': [2200.38]}, {'id': '208728772', 'platform': 'GitHub', 'name': 'milvus-io/milvus', 'openrank': [2001.11]}, {'id': '105944401', 'platform': 'GitHub', 'name': 'yugabyte/yugabyte-db', 'openrank': [1940.75]}]\n"
     ]
    }
   ],
   "source": [
    "with NodeVM(**vm_option) as vm:\n",
    "    vm_rt = vm.run(js_open_digger_app)\n",
    "    getRepoOpenrank = NodeVMFuncGen(\"getRepoOpenrank\", vm_rt=vm_rt).func  # Initialize vm_rt in the constructor\n",
    "    data1 = getRepoOpenrank(options)\n",
    "    print(\"Initialize vm_rt in the constructor: \")\n",
    "    print(type(data1), data1)\n",
    "\n",
    "with NodeVM(**vm_option) as vm:\n",
    "    vm_rt = vm.run(js_open_digger_app)\n",
    "    getRepoOpenrank = NodeVMFuncGen(\"getRepoOpenrank\").func  # Initialize vm_rt when calling a function\n",
    "    data2 = getRepoOpenrank(options, vm_rt=vm_rt)\n",
    "    print(\"Initialize vm_rt when calling a function: \")\n",
    "    print(type(data2), data2)"
   ]
  },
  {
   "cell_type": "code",
   "execution_count": 8,
   "id": "a0072f7e-8c5f-44ba-915e-cd47b43bf2e3",
   "metadata": {},
   "outputs": [
    {
     "name": "stdout",
     "output_type": "stream",
     "text": [
      "1 2\n"
     ]
    }
   ],
   "source": [
    "class Obj(object):\n",
    "    def __init__(self, d):\n",
    "        for k, v in d.items():\n",
    "            if isinstance(v, (list, tuple)):\n",
    "                setattr(self, k, [Obj(x) if isinstance(x, dict) else x for x in v])\n",
    "            else:\n",
    "                setattr(self, k, Obj(v) if isinstance(v, dict) else v)\n",
    "\n",
    "            getattr(self, k)\n",
    "\n",
    "    def __getattr__(self, name):\n",
    "        try:\n",
    "            return self.__getattribute__(name)\n",
    "        except AttributeError as e:\n",
    "            msg = str(e) + f\" for {self}!\"\n",
    "            raise AttributeError(msg)\n",
    "\n",
    "\n",
    "obj_dict = {\n",
    "    \"point\": {\n",
    "        \"x\": 1,\n",
    "        \"y\": 2,\n",
    "    },\n",
    "}\n",
    "\n",
    "obj = Obj(obj_dict)\n",
    "print(obj.point.x, obj.point.y)"
   ]
  },
  {
   "cell_type": "code",
   "execution_count": null,
   "id": "d3c21d59-54b8-4248-9b66-13aa68832832",
   "metadata": {},
   "outputs": [],
   "source": []
  }
 ],
 "metadata": {
  "kernelspec": {
   "display_name": "Python 3 (ipykernel)",
   "language": "python",
   "name": "python3"
  },
  "language_info": {
   "codemirror_mode": {
    "name": "ipython",
    "version": 3
   },
   "file_extension": ".py",
   "mimetype": "text/x-python",
   "name": "python",
   "nbconvert_exporter": "python",
   "pygments_lexer": "ipython3",
   "version": "3.8.10"
  }
 },
 "nbformat": 4,
 "nbformat_minor": 5
}
