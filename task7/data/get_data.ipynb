{
 "cells": [
  {
   "cell_type": "markdown",
   "metadata": {},
   "source": [
    "### 前期准备"
   ]
  },
  {
   "cell_type": "code",
   "execution_count": 1,
   "metadata": {},
   "outputs": [
    {
     "name": "stdout",
     "output_type": "stream",
     "text": [
      "-- Add root directory \"/home/node/notebook\" to system path.\n",
      "For localhost developers:\n",
      "Please start a jupyter servive with the bash command: jupyter notebook --allow-root --notebook-dir=/home/node/notebook\n",
      "Defaulting to user installation because normal site-packages is not writeable\n",
      "Requirement already satisfied: easydict==1.9 in /home/node/.local/lib/python3.8/site-packages (from -r ../python/requirements.txt (line 1)) (1.9)\n",
      "Requirement already satisfied: py2neo>=2021.2.3 in /home/node/.local/lib/python3.8/site-packages (from -r ../python/requirements.txt (line 2)) (2021.2.4)\n",
      "Requirement already satisfied: plotly==5.9.0 in /home/node/.local/lib/python3.8/site-packages (from -r ../python/requirements.txt (line 3)) (5.9.0)\n",
      "Requirement already satisfied: clickhouse-driver>=0.2.8 in /home/node/.local/lib/python3.8/site-packages (from -r ../python/requirements.txt (line 4)) (0.2.8)\n",
      "Requirement already satisfied: numpy>=1.23.2 in /home/node/.local/lib/python3.8/site-packages (from -r ../python/requirements.txt (line 5)) (1.24.4)\n",
      "Requirement already satisfied: jupyterlab==3.4.5 in /home/node/.local/lib/python3.8/site-packages (from -r ../python/requirements.txt (line 6)) (3.4.5)\n",
      "Requirement already satisfied: matplotlib>=3.5.3 in /home/node/.local/lib/python3.8/site-packages (from -r ../python/requirements.txt (line 7)) (3.7.5)\n",
      "Requirement already satisfied: pandas>=1.4.3 in /home/node/.local/lib/python3.8/site-packages (from -r ../python/requirements.txt (line 8)) (2.0.3)\n",
      "Requirement already satisfied: pyyaml>=6.0 in /home/node/.local/lib/python3.8/site-packages (from -r ../python/requirements.txt (line 9)) (6.0.1)\n",
      "Requirement already satisfied: tenacity>=6.2.0 in /home/node/.local/lib/python3.8/site-packages (from plotly==5.9.0->-r ../python/requirements.txt (line 3)) (8.5.0)\n",
      "Requirement already satisfied: nbclassic in /usr/local/lib/python3.8/dist-packages (from jupyterlab==3.4.5->-r ../python/requirements.txt (line 6)) (0.3.5)\n",
      "Requirement already satisfied: ipython in /usr/local/lib/python3.8/dist-packages (from jupyterlab==3.4.5->-r ../python/requirements.txt (line 6)) (8.0.1)\n",
      "Requirement already satisfied: notebook<7 in /usr/local/lib/python3.8/dist-packages (from jupyterlab==3.4.5->-r ../python/requirements.txt (line 6)) (6.4.7)\n",
      "Requirement already satisfied: packaging in /usr/local/lib/python3.8/dist-packages (from jupyterlab==3.4.5->-r ../python/requirements.txt (line 6)) (21.3)\n",
      "Requirement already satisfied: tornado>=6.1.0 in /usr/local/lib/python3.8/dist-packages (from jupyterlab==3.4.5->-r ../python/requirements.txt (line 6)) (6.1)\n",
      "Requirement already satisfied: jinja2>=2.1 in /usr/local/lib/python3.8/dist-packages (from jupyterlab==3.4.5->-r ../python/requirements.txt (line 6)) (3.0.3)\n",
      "Requirement already satisfied: jupyter-core in /home/node/.local/lib/python3.8/site-packages (from jupyterlab==3.4.5->-r ../python/requirements.txt (line 6)) (5.7.2)\n",
      "Requirement already satisfied: jupyter-server~=1.16 in /home/node/.local/lib/python3.8/site-packages (from jupyterlab==3.4.5->-r ../python/requirements.txt (line 6)) (1.24.0)\n",
      "Requirement already satisfied: jupyterlab-server~=2.10 in /usr/local/lib/python3.8/dist-packages (from jupyterlab==3.4.5->-r ../python/requirements.txt (line 6)) (2.10.3)\n",
      "Requirement already satisfied: interchange~=2021.0.4 in /home/node/.local/lib/python3.8/site-packages (from py2neo>=2021.2.3->-r ../python/requirements.txt (line 2)) (2021.0.4)\n",
      "Requirement already satisfied: pansi>=2020.7.3 in /home/node/.local/lib/python3.8/site-packages (from py2neo>=2021.2.3->-r ../python/requirements.txt (line 2)) (2020.7.3)\n",
      "Requirement already satisfied: urllib3 in /usr/lib/python3/dist-packages (from py2neo>=2021.2.3->-r ../python/requirements.txt (line 2)) (1.25.8)\n",
      "Requirement already satisfied: six>=1.15.0 in /home/node/.local/lib/python3.8/site-packages (from py2neo>=2021.2.3->-r ../python/requirements.txt (line 2)) (1.16.0)\n",
      "Requirement already satisfied: pygments>=2.0.0 in /usr/local/lib/python3.8/dist-packages (from py2neo>=2021.2.3->-r ../python/requirements.txt (line 2)) (2.11.2)\n",
      "Requirement already satisfied: monotonic in /home/node/.local/lib/python3.8/site-packages (from py2neo>=2021.2.3->-r ../python/requirements.txt (line 2)) (1.6)\n",
      "Requirement already satisfied: certifi in /usr/lib/python3/dist-packages (from py2neo>=2021.2.3->-r ../python/requirements.txt (line 2)) (2019.11.28)\n",
      "Requirement already satisfied: tzlocal in /home/node/.local/lib/python3.8/site-packages (from clickhouse-driver>=0.2.8->-r ../python/requirements.txt (line 4)) (5.2)\n",
      "Requirement already satisfied: pytz in /usr/local/lib/python3.8/dist-packages (from clickhouse-driver>=0.2.8->-r ../python/requirements.txt (line 4)) (2021.3)\n",
      "Requirement already satisfied: pyparsing>=2.3.1 in /usr/local/lib/python3.8/dist-packages (from matplotlib>=3.5.3->-r ../python/requirements.txt (line 7)) (3.0.6)\n",
      "Requirement already satisfied: contourpy>=1.0.1 in /home/node/.local/lib/python3.8/site-packages (from matplotlib>=3.5.3->-r ../python/requirements.txt (line 7)) (1.1.1)\n",
      "Requirement already satisfied: importlib-resources>=3.2.0 in /usr/local/lib/python3.8/dist-packages (from matplotlib>=3.5.3->-r ../python/requirements.txt (line 7)) (5.4.0)\n",
      "Requirement already satisfied: fonttools>=4.22.0 in /home/node/.local/lib/python3.8/site-packages (from matplotlib>=3.5.3->-r ../python/requirements.txt (line 7)) (4.53.1)\n",
      "Requirement already satisfied: python-dateutil>=2.7 in /usr/local/lib/python3.8/dist-packages (from matplotlib>=3.5.3->-r ../python/requirements.txt (line 7)) (2.8.2)\n",
      "Requirement already satisfied: pillow>=6.2.0 in /home/node/.local/lib/python3.8/site-packages (from matplotlib>=3.5.3->-r ../python/requirements.txt (line 7)) (10.4.0)\n",
      "Requirement already satisfied: cycler>=0.10 in /home/node/.local/lib/python3.8/site-packages (from matplotlib>=3.5.3->-r ../python/requirements.txt (line 7)) (0.12.1)\n",
      "Requirement already satisfied: kiwisolver>=1.0.1 in /home/node/.local/lib/python3.8/site-packages (from matplotlib>=3.5.3->-r ../python/requirements.txt (line 7)) (1.4.5)\n",
      "Requirement already satisfied: tzdata>=2022.1 in /home/node/.local/lib/python3.8/site-packages (from pandas>=1.4.3->-r ../python/requirements.txt (line 8)) (2024.1)\n",
      "Requirement already satisfied: zipp>=3.1.0 in /usr/local/lib/python3.8/dist-packages (from importlib-resources>=3.2.0->matplotlib>=3.5.3->-r ../python/requirements.txt (line 7)) (3.7.0)\n",
      "Requirement already satisfied: MarkupSafe>=2.0 in /usr/local/lib/python3.8/dist-packages (from jinja2>=2.1->jupyterlab==3.4.5->-r ../python/requirements.txt (line 6)) (2.0.1)\n",
      "Requirement already satisfied: pyzmq>=17 in /usr/local/lib/python3.8/dist-packages (from jupyter-server~=1.16->jupyterlab==3.4.5->-r ../python/requirements.txt (line 6)) (22.3.0)\n",
      "Requirement already satisfied: Send2Trash in /usr/local/lib/python3.8/dist-packages (from jupyter-server~=1.16->jupyterlab==3.4.5->-r ../python/requirements.txt (line 6)) (1.8.0)\n",
      "Requirement already satisfied: websocket-client in /usr/local/lib/python3.8/dist-packages (from jupyter-server~=1.16->jupyterlab==3.4.5->-r ../python/requirements.txt (line 6)) (1.2.3)\n",
      "Requirement already satisfied: anyio<4,>=3.1.0 in /usr/local/lib/python3.8/dist-packages (from jupyter-server~=1.16->jupyterlab==3.4.5->-r ../python/requirements.txt (line 6)) (3.5.0)\n",
      "Requirement already satisfied: nbconvert>=6.4.4 in /home/node/.local/lib/python3.8/site-packages (from jupyter-server~=1.16->jupyterlab==3.4.5->-r ../python/requirements.txt (line 6)) (7.16.4)\n",
      "Requirement already satisfied: nbformat>=5.2.0 in /home/node/.local/lib/python3.8/site-packages (from jupyter-server~=1.16->jupyterlab==3.4.5->-r ../python/requirements.txt (line 6)) (5.10.4)\n",
      "Requirement already satisfied: terminado>=0.8.3 in /usr/local/lib/python3.8/dist-packages (from jupyter-server~=1.16->jupyterlab==3.4.5->-r ../python/requirements.txt (line 6)) (0.12.1)\n",
      "Requirement already satisfied: argon2-cffi in /usr/local/lib/python3.8/dist-packages (from jupyter-server~=1.16->jupyterlab==3.4.5->-r ../python/requirements.txt (line 6)) (21.3.0)\n",
      "Requirement already satisfied: jupyter-client>=6.1.12 in /usr/local/lib/python3.8/dist-packages (from jupyter-server~=1.16->jupyterlab==3.4.5->-r ../python/requirements.txt (line 6)) (7.1.1)\n",
      "Requirement already satisfied: traitlets>=5.1 in /home/node/.local/lib/python3.8/site-packages (from jupyter-server~=1.16->jupyterlab==3.4.5->-r ../python/requirements.txt (line 6)) (5.14.3)\n",
      "Requirement already satisfied: prometheus-client in /usr/local/lib/python3.8/dist-packages (from jupyter-server~=1.16->jupyterlab==3.4.5->-r ../python/requirements.txt (line 6)) (0.12.0)\n",
      "Requirement already satisfied: platformdirs>=2.5 in /home/node/.local/lib/python3.8/site-packages (from jupyter-core->jupyterlab==3.4.5->-r ../python/requirements.txt (line 6)) (4.2.2)\n",
      "Requirement already satisfied: json5 in /usr/local/lib/python3.8/dist-packages (from jupyterlab-server~=2.10->jupyterlab==3.4.5->-r ../python/requirements.txt (line 6)) (0.9.6)\n",
      "Requirement already satisfied: babel in /usr/local/lib/python3.8/dist-packages (from jupyterlab-server~=2.10->jupyterlab==3.4.5->-r ../python/requirements.txt (line 6)) (2.9.1)\n",
      "Requirement already satisfied: entrypoints>=0.2.2 in /usr/local/lib/python3.8/dist-packages (from jupyterlab-server~=2.10->jupyterlab==3.4.5->-r ../python/requirements.txt (line 6)) (0.3)\n",
      "Requirement already satisfied: jsonschema>=3.0.1 in /usr/local/lib/python3.8/dist-packages (from jupyterlab-server~=2.10->jupyterlab==3.4.5->-r ../python/requirements.txt (line 6)) (4.4.0)\n",
      "Requirement already satisfied: requests in /usr/lib/python3/dist-packages (from jupyterlab-server~=2.10->jupyterlab==3.4.5->-r ../python/requirements.txt (line 6)) (2.22.0)\n",
      "Requirement already satisfied: nest-asyncio>=1.5 in /usr/local/lib/python3.8/dist-packages (from notebook<7->jupyterlab==3.4.5->-r ../python/requirements.txt (line 6)) (1.5.4)\n",
      "Requirement already satisfied: ipython-genutils in /usr/local/lib/python3.8/dist-packages (from notebook<7->jupyterlab==3.4.5->-r ../python/requirements.txt (line 6)) (0.2.0)\n",
      "Requirement already satisfied: ipykernel in /usr/local/lib/python3.8/dist-packages (from notebook<7->jupyterlab==3.4.5->-r ../python/requirements.txt (line 6)) (6.7.0)\n",
      "Requirement already satisfied: setuptools>=18.5 in /usr/local/lib/python3.8/dist-packages (from ipython->jupyterlab==3.4.5->-r ../python/requirements.txt (line 6)) (60.5.0)\n",
      "Requirement already satisfied: decorator in /usr/local/lib/python3.8/dist-packages (from ipython->jupyterlab==3.4.5->-r ../python/requirements.txt (line 6)) (5.1.1)\n",
      "Requirement already satisfied: prompt-toolkit!=3.0.0,!=3.0.1,<3.1.0,>=2.0.0 in /usr/local/lib/python3.8/dist-packages (from ipython->jupyterlab==3.4.5->-r ../python/requirements.txt (line 6)) (3.0.24)\n",
      "Requirement already satisfied: stack-data in /usr/local/lib/python3.8/dist-packages (from ipython->jupyterlab==3.4.5->-r ../python/requirements.txt (line 6)) (0.1.4)\n",
      "Requirement already satisfied: pickleshare in /usr/local/lib/python3.8/dist-packages (from ipython->jupyterlab==3.4.5->-r ../python/requirements.txt (line 6)) (0.7.5)\n",
      "Requirement already satisfied: matplotlib-inline in /usr/local/lib/python3.8/dist-packages (from ipython->jupyterlab==3.4.5->-r ../python/requirements.txt (line 6)) (0.1.3)\n",
      "Requirement already satisfied: pexpect>4.3 in /usr/local/lib/python3.8/dist-packages (from ipython->jupyterlab==3.4.5->-r ../python/requirements.txt (line 6)) (4.8.0)\n",
      "Requirement already satisfied: backcall in /usr/local/lib/python3.8/dist-packages (from ipython->jupyterlab==3.4.5->-r ../python/requirements.txt (line 6)) (0.2.0)\n",
      "Requirement already satisfied: black in /usr/local/lib/python3.8/dist-packages (from ipython->jupyterlab==3.4.5->-r ../python/requirements.txt (line 6)) (21.12b0)\n",
      "Requirement already satisfied: jedi>=0.16 in /usr/local/lib/python3.8/dist-packages (from ipython->jupyterlab==3.4.5->-r ../python/requirements.txt (line 6)) (0.18.1)\n",
      "Requirement already satisfied: backports.zoneinfo in /home/node/.local/lib/python3.8/site-packages (from tzlocal->clickhouse-driver>=0.2.8->-r ../python/requirements.txt (line 4)) (0.2.1)\n",
      "Requirement already satisfied: sniffio>=1.1 in /usr/local/lib/python3.8/dist-packages (from anyio<4,>=3.1.0->jupyter-server~=1.16->jupyterlab==3.4.5->-r ../python/requirements.txt (line 6)) (1.2.0)\n",
      "Requirement already satisfied: idna>=2.8 in /usr/lib/python3/dist-packages (from anyio<4,>=3.1.0->jupyter-server~=1.16->jupyterlab==3.4.5->-r ../python/requirements.txt (line 6)) (2.8)\n",
      "Requirement already satisfied: parso<0.9.0,>=0.8.0 in /usr/local/lib/python3.8/dist-packages (from jedi>=0.16->ipython->jupyterlab==3.4.5->-r ../python/requirements.txt (line 6)) (0.8.3)\n",
      "Requirement already satisfied: pyrsistent!=0.17.0,!=0.17.1,!=0.17.2,>=0.14.0 in /usr/local/lib/python3.8/dist-packages (from jsonschema>=3.0.1->jupyterlab-server~=2.10->jupyterlab==3.4.5->-r ../python/requirements.txt (line 6)) (0.18.1)\n",
      "Requirement already satisfied: attrs>=17.4.0 in /usr/local/lib/python3.8/dist-packages (from jsonschema>=3.0.1->jupyterlab-server~=2.10->jupyterlab==3.4.5->-r ../python/requirements.txt (line 6)) (21.4.0)\n",
      "Requirement already satisfied: defusedxml in /usr/local/lib/python3.8/dist-packages (from nbconvert>=6.4.4->jupyter-server~=1.16->jupyterlab==3.4.5->-r ../python/requirements.txt (line 6)) (0.7.1)\n",
      "Requirement already satisfied: jupyterlab-pygments in /usr/local/lib/python3.8/dist-packages (from nbconvert>=6.4.4->jupyter-server~=1.16->jupyterlab==3.4.5->-r ../python/requirements.txt (line 6)) (0.1.2)\n",
      "Requirement already satisfied: bleach!=5.0.0 in /usr/local/lib/python3.8/dist-packages (from nbconvert>=6.4.4->jupyter-server~=1.16->jupyterlab==3.4.5->-r ../python/requirements.txt (line 6)) (4.1.0)\n",
      "Requirement already satisfied: pandocfilters>=1.4.1 in /usr/local/lib/python3.8/dist-packages (from nbconvert>=6.4.4->jupyter-server~=1.16->jupyterlab==3.4.5->-r ../python/requirements.txt (line 6)) (1.5.0)\n",
      "Requirement already satisfied: mistune<4,>=2.0.3 in /home/node/.local/lib/python3.8/site-packages (from nbconvert>=6.4.4->jupyter-server~=1.16->jupyterlab==3.4.5->-r ../python/requirements.txt (line 6)) (3.0.2)\n",
      "Requirement already satisfied: importlib-metadata>=3.6 in /usr/local/lib/python3.8/dist-packages (from nbconvert>=6.4.4->jupyter-server~=1.16->jupyterlab==3.4.5->-r ../python/requirements.txt (line 6)) (4.10.1)\n",
      "Requirement already satisfied: tinycss2 in /home/node/.local/lib/python3.8/site-packages (from nbconvert>=6.4.4->jupyter-server~=1.16->jupyterlab==3.4.5->-r ../python/requirements.txt (line 6)) (1.3.0)\n",
      "Requirement already satisfied: beautifulsoup4 in /usr/local/lib/python3.8/dist-packages (from nbconvert>=6.4.4->jupyter-server~=1.16->jupyterlab==3.4.5->-r ../python/requirements.txt (line 6)) (4.10.0)\n",
      "Requirement already satisfied: nbclient>=0.5.0 in /usr/local/lib/python3.8/dist-packages (from nbconvert>=6.4.4->jupyter-server~=1.16->jupyterlab==3.4.5->-r ../python/requirements.txt (line 6)) (0.5.10)\n",
      "Requirement already satisfied: fastjsonschema>=2.15 in /home/node/.local/lib/python3.8/site-packages (from nbformat>=5.2.0->jupyter-server~=1.16->jupyterlab==3.4.5->-r ../python/requirements.txt (line 6)) (2.20.0)\n",
      "Requirement already satisfied: ptyprocess>=0.5 in /usr/local/lib/python3.8/dist-packages (from pexpect>4.3->ipython->jupyterlab==3.4.5->-r ../python/requirements.txt (line 6)) (0.7.0)\n",
      "Requirement already satisfied: wcwidth in /usr/local/lib/python3.8/dist-packages (from prompt-toolkit!=3.0.0,!=3.0.1,<3.1.0,>=2.0.0->ipython->jupyterlab==3.4.5->-r ../python/requirements.txt (line 6)) (0.2.5)\n",
      "Requirement already satisfied: argon2-cffi-bindings in /usr/local/lib/python3.8/dist-packages (from argon2-cffi->jupyter-server~=1.16->jupyterlab==3.4.5->-r ../python/requirements.txt (line 6)) (21.2.0)\n",
      "Requirement already satisfied: mypy-extensions>=0.4.3 in /usr/local/lib/python3.8/dist-packages (from black->ipython->jupyterlab==3.4.5->-r ../python/requirements.txt (line 6)) (0.4.3)\n",
      "Requirement already satisfied: click>=7.1.2 in /usr/local/lib/python3.8/dist-packages (from black->ipython->jupyterlab==3.4.5->-r ../python/requirements.txt (line 6)) (8.0.3)\n",
      "Requirement already satisfied: typing-extensions>=3.10.0.0 in /usr/local/lib/python3.8/dist-packages (from black->ipython->jupyterlab==3.4.5->-r ../python/requirements.txt (line 6)) (4.0.1)\n",
      "Requirement already satisfied: pathspec<1,>=0.9.0 in /usr/local/lib/python3.8/dist-packages (from black->ipython->jupyterlab==3.4.5->-r ../python/requirements.txt (line 6)) (0.9.0)\n",
      "Requirement already satisfied: tomli<2.0.0,>=0.2.6 in /usr/local/lib/python3.8/dist-packages (from black->ipython->jupyterlab==3.4.5->-r ../python/requirements.txt (line 6)) (1.2.3)\n",
      "Requirement already satisfied: debugpy<2.0,>=1.0.0 in /usr/local/lib/python3.8/dist-packages (from ipykernel->notebook<7->jupyterlab==3.4.5->-r ../python/requirements.txt (line 6)) (1.5.1)\n",
      "Requirement already satisfied: executing in /usr/local/lib/python3.8/dist-packages (from stack-data->ipython->jupyterlab==3.4.5->-r ../python/requirements.txt (line 6)) (0.8.2)\n",
      "Requirement already satisfied: asttokens in /usr/local/lib/python3.8/dist-packages (from stack-data->ipython->jupyterlab==3.4.5->-r ../python/requirements.txt (line 6)) (2.0.5)\n",
      "Requirement already satisfied: pure-eval in /usr/local/lib/python3.8/dist-packages (from stack-data->ipython->jupyterlab==3.4.5->-r ../python/requirements.txt (line 6)) (0.2.1)\n",
      "Requirement already satisfied: webencodings in /usr/local/lib/python3.8/dist-packages (from bleach!=5.0.0->nbconvert>=6.4.4->jupyter-server~=1.16->jupyterlab==3.4.5->-r ../python/requirements.txt (line 6)) (0.5.1)\n",
      "Requirement already satisfied: cffi>=1.0.1 in /usr/local/lib/python3.8/dist-packages (from argon2-cffi-bindings->argon2-cffi->jupyter-server~=1.16->jupyterlab==3.4.5->-r ../python/requirements.txt (line 6)) (1.15.0)\n",
      "Requirement already satisfied: soupsieve>1.2 in /usr/local/lib/python3.8/dist-packages (from beautifulsoup4->nbconvert>=6.4.4->jupyter-server~=1.16->jupyterlab==3.4.5->-r ../python/requirements.txt (line 6)) (2.3.1)\n",
      "Requirement already satisfied: pycparser in /usr/local/lib/python3.8/dist-packages (from cffi>=1.0.1->argon2-cffi-bindings->argon2-cffi->jupyter-server~=1.16->jupyterlab==3.4.5->-r ../python/requirements.txt (line 6)) (2.21)\n",
      "\u001b[33mWARNING: You are using pip version 21.3.1; however, version 24.1.2 is available.\n",
      "You should consider upgrading via the '/usr/bin/python3 -m pip install --upgrade pip' command.\u001b[0m\n",
      "Note: you may need to restart the kernel to use updated packages.\n"
     ]
    }
   ],
   "source": [
    "import os\n",
    "import sys\n",
    " \n",
    "# 1. 确定pkg_rootdir，即根据%pwd或os.getcwd()的结果截取出工程目录pkg_rootdir。\n",
    "cur_dir = os.getcwd()\n",
    "pkg_rootdir = os.path.dirname(cur_dir)  # *注意改为项目自定义包的根路径\n",
    "# print(pkg_rootdir)\n",
    "if pkg_rootdir not in sys.path:  # 解决ipynb引用上层路径中的模块时的ModuleNotFoundError问题\n",
    "    sys.path.append(pkg_rootdir)\n",
    "    print('-- Add root directory \"{}\" to system path.'.format(pkg_rootdir))\n",
    "# 2. 在shell中启动jupyter服务：\n",
    "print(\"For localhost developers:\\nPlease start a jupyter servive with the bash command: jupyter notebook --allow-root --notebook-dir={pkg_rootdir}\".format(pkg_rootdir=pkg_rootdir.replace(\"\\\\\", \"/\")))\n",
    "# 3. 切换kernel为jupyter notebook:\n",
    "# 可在开发环境中切换kernel，或者直接在jupyter notebook上开发。\n",
    "# 4. 推荐模板\n",
    "# 推荐模板只需在使用python开发的自定义pkg最外层目录下的__init__.py中加入一次即可。如在示例中的D:/github_data/__init__py中加入一次即可。\n",
    "# 推荐模板在[这里](https://blog.csdn.net/bird_fly_i/article/details/117739729)的文末。\n",
    "\n",
    "# %pip list --format=freeze > ../python_v2/requirements.txt\n",
    "%pip install -r ../python/requirements.txt"
   ]
  },
  {
   "cell_type": "code",
   "execution_count": 2,
   "metadata": {},
   "outputs": [
    {
     "name": "stdout",
     "output_type": "stream",
     "text": [
      "-- Add root directory \"/home/node/notebook/python_v2\" to system path.\n"
     ]
    }
   ],
   "source": [
    "from python_v2.open_digger import openDigger"
   ]
  },
  {
   "cell_type": "code",
   "execution_count": 23,
   "metadata": {
    "vscode": {
     "languageId": "python"
    }
   },
   "outputs": [],
   "source": [
    "import sys\n",
    "import os\n",
    "import pandas as pd\n",
    "import plotly.express as px\n",
    "import plotly.graph_objects as go\n",
    "import numpy as np\n",
    "baseDir = os.path.dirname(os.getcwd())\n",
    "sys.path.append(os.path.join(baseDir, 'python_v2'))\n",
    "sys.path.append(os.path.join(baseDir, 'python_v2', 'metrics'))\n",
    "sys.path.append(os.path.join(baseDir, 'python_v2', 'db'))\n",
    "db_driver = openDigger.driver\n",
    "_clickhouse = db_driver.clickhouse\n",
    "_neo4j = db_driver.neo4j\n",
    "\n",
    "repo_id_name = dict()\n",
    "repo_id_name['65711522'] = \"Paddle\"\n",
    "repo_id_name['262296122'] = \"PaddleOCR\"\n",
    "repo_id_name['336274588'] = \"PaddleNLP\"\n",
    "repo_id_name['217475193'] = \"PaddleDetection\"\n",
    "repo_id_name['88868842'] = \"models\"\n",
    "repo_id_name['204380779'] = \"PaddleSeg\"\n",
    "repo_id_name['162672577'] = \"PaddleHub\"\n",
    "repo_id_name['507861208'] = \"FastDeploy\"\n",
    "repo_id_name['273214029'] = \"PaddleGAN\"\n",
    "repo_id_name['228290594'] = \"PaddleSlim\"\n",
    "repo_id_list = list(map(lambda x : int(x), repo_id_name.keys()))\n",
    "repo_name_list = list(map(lambda x : str(x), repo_id_name.values()))\n",
    "\n",
    "startYear = 2015\n",
    "endYear = 2022"
   ]
  },
  {
   "cell_type": "code",
   "execution_count": 4,
   "metadata": {
    "vscode": {
     "languageId": "python"
    }
   },
   "outputs": [
    {
     "data": {
      "text/html": [
       "<div>\n",
       "<style scoped>\n",
       "    .dataframe tbody tr th:only-of-type {\n",
       "        vertical-align: middle;\n",
       "    }\n",
       "\n",
       "    .dataframe tbody tr th {\n",
       "        vertical-align: top;\n",
       "    }\n",
       "\n",
       "    .dataframe thead th {\n",
       "        text-align: right;\n",
       "    }\n",
       "</style>\n",
       "<table border=\"1\" class=\"dataframe\">\n",
       "  <thead>\n",
       "    <tr style=\"text-align: right;\">\n",
       "      <th></th>\n",
       "      <th>database</th>\n",
       "      <th>name</th>\n",
       "      <th>uuid</th>\n",
       "      <th>engine</th>\n",
       "      <th>is_temporary</th>\n",
       "      <th>data_paths</th>\n",
       "      <th>metadata_path</th>\n",
       "      <th>metadata_modification_time</th>\n",
       "      <th>dependencies_database</th>\n",
       "      <th>dependencies_table</th>\n",
       "      <th>...</th>\n",
       "      <th>total_rows</th>\n",
       "      <th>total_bytes</th>\n",
       "      <th>lifetime_rows</th>\n",
       "      <th>lifetime_bytes</th>\n",
       "      <th>comment</th>\n",
       "      <th>has_own_data</th>\n",
       "      <th>loading_dependencies_database</th>\n",
       "      <th>loading_dependencies_table</th>\n",
       "      <th>loading_dependent_database</th>\n",
       "      <th>loading_dependent_table</th>\n",
       "    </tr>\n",
       "  </thead>\n",
       "  <tbody>\n",
       "    <tr>\n",
       "      <th>0</th>\n",
       "      <td>INFORMATION_SCHEMA</td>\n",
       "      <td>COLUMNS</td>\n",
       "      <td>00000000-0000-0000-0000-000000000000</td>\n",
       "      <td>View</td>\n",
       "      <td>0</td>\n",
       "      <td>[]</td>\n",
       "      <td></td>\n",
       "      <td>1970-01-01</td>\n",
       "      <td>[]</td>\n",
       "      <td>[]</td>\n",
       "      <td>...</td>\n",
       "      <td>NaN</td>\n",
       "      <td>NaN</td>\n",
       "      <td>None</td>\n",
       "      <td>None</td>\n",
       "      <td></td>\n",
       "      <td>0</td>\n",
       "      <td>[]</td>\n",
       "      <td>[]</td>\n",
       "      <td>[]</td>\n",
       "      <td>[]</td>\n",
       "    </tr>\n",
       "    <tr>\n",
       "      <th>1</th>\n",
       "      <td>INFORMATION_SCHEMA</td>\n",
       "      <td>SCHEMATA</td>\n",
       "      <td>00000000-0000-0000-0000-000000000000</td>\n",
       "      <td>View</td>\n",
       "      <td>0</td>\n",
       "      <td>[]</td>\n",
       "      <td></td>\n",
       "      <td>1970-01-01</td>\n",
       "      <td>[]</td>\n",
       "      <td>[]</td>\n",
       "      <td>...</td>\n",
       "      <td>NaN</td>\n",
       "      <td>NaN</td>\n",
       "      <td>None</td>\n",
       "      <td>None</td>\n",
       "      <td></td>\n",
       "      <td>0</td>\n",
       "      <td>[]</td>\n",
       "      <td>[]</td>\n",
       "      <td>[]</td>\n",
       "      <td>[]</td>\n",
       "    </tr>\n",
       "    <tr>\n",
       "      <th>2</th>\n",
       "      <td>INFORMATION_SCHEMA</td>\n",
       "      <td>TABLES</td>\n",
       "      <td>00000000-0000-0000-0000-000000000000</td>\n",
       "      <td>View</td>\n",
       "      <td>0</td>\n",
       "      <td>[]</td>\n",
       "      <td></td>\n",
       "      <td>1970-01-01</td>\n",
       "      <td>[]</td>\n",
       "      <td>[]</td>\n",
       "      <td>...</td>\n",
       "      <td>NaN</td>\n",
       "      <td>NaN</td>\n",
       "      <td>None</td>\n",
       "      <td>None</td>\n",
       "      <td></td>\n",
       "      <td>0</td>\n",
       "      <td>[]</td>\n",
       "      <td>[]</td>\n",
       "      <td>[]</td>\n",
       "      <td>[]</td>\n",
       "    </tr>\n",
       "    <tr>\n",
       "      <th>3</th>\n",
       "      <td>INFORMATION_SCHEMA</td>\n",
       "      <td>VIEWS</td>\n",
       "      <td>00000000-0000-0000-0000-000000000000</td>\n",
       "      <td>View</td>\n",
       "      <td>0</td>\n",
       "      <td>[]</td>\n",
       "      <td></td>\n",
       "      <td>1970-01-01</td>\n",
       "      <td>[]</td>\n",
       "      <td>[]</td>\n",
       "      <td>...</td>\n",
       "      <td>NaN</td>\n",
       "      <td>NaN</td>\n",
       "      <td>None</td>\n",
       "      <td>None</td>\n",
       "      <td></td>\n",
       "      <td>0</td>\n",
       "      <td>[]</td>\n",
       "      <td>[]</td>\n",
       "      <td>[]</td>\n",
       "      <td>[]</td>\n",
       "    </tr>\n",
       "    <tr>\n",
       "      <th>4</th>\n",
       "      <td>information_schema</td>\n",
       "      <td>columns</td>\n",
       "      <td>00000000-0000-0000-0000-000000000000</td>\n",
       "      <td>View</td>\n",
       "      <td>0</td>\n",
       "      <td>[]</td>\n",
       "      <td></td>\n",
       "      <td>1970-01-01</td>\n",
       "      <td>[]</td>\n",
       "      <td>[]</td>\n",
       "      <td>...</td>\n",
       "      <td>NaN</td>\n",
       "      <td>NaN</td>\n",
       "      <td>None</td>\n",
       "      <td>None</td>\n",
       "      <td></td>\n",
       "      <td>0</td>\n",
       "      <td>[]</td>\n",
       "      <td>[]</td>\n",
       "      <td>[]</td>\n",
       "      <td>[]</td>\n",
       "    </tr>\n",
       "    <tr>\n",
       "      <th>...</th>\n",
       "      <td>...</td>\n",
       "      <td>...</td>\n",
       "      <td>...</td>\n",
       "      <td>...</td>\n",
       "      <td>...</td>\n",
       "      <td>...</td>\n",
       "      <td>...</td>\n",
       "      <td>...</td>\n",
       "      <td>...</td>\n",
       "      <td>...</td>\n",
       "      <td>...</td>\n",
       "      <td>...</td>\n",
       "      <td>...</td>\n",
       "      <td>...</td>\n",
       "      <td>...</td>\n",
       "      <td>...</td>\n",
       "      <td>...</td>\n",
       "      <td>...</td>\n",
       "      <td>...</td>\n",
       "      <td>...</td>\n",
       "      <td>...</td>\n",
       "    </tr>\n",
       "    <tr>\n",
       "      <th>83</th>\n",
       "      <td>system</td>\n",
       "      <td>user_directories</td>\n",
       "      <td>e1406b3f-87b9-4d40-810e-a82b344a1771</td>\n",
       "      <td>SystemUserDirectories</td>\n",
       "      <td>0</td>\n",
       "      <td>[]</td>\n",
       "      <td>/var/lib/clickhouse/store/3d6/3d69eb29-a674-41...</td>\n",
       "      <td>1970-01-01</td>\n",
       "      <td>[]</td>\n",
       "      <td>[]</td>\n",
       "      <td>...</td>\n",
       "      <td>NaN</td>\n",
       "      <td>NaN</td>\n",
       "      <td>None</td>\n",
       "      <td>None</td>\n",
       "      <td></td>\n",
       "      <td>0</td>\n",
       "      <td>[]</td>\n",
       "      <td>[]</td>\n",
       "      <td>[]</td>\n",
       "      <td>[]</td>\n",
       "    </tr>\n",
       "    <tr>\n",
       "      <th>84</th>\n",
       "      <td>system</td>\n",
       "      <td>users</td>\n",
       "      <td>f045a590-3ad3-4d05-ac3f-5f60e4c56959</td>\n",
       "      <td>SystemUsers</td>\n",
       "      <td>0</td>\n",
       "      <td>[]</td>\n",
       "      <td>/var/lib/clickhouse/store/3d6/3d69eb29-a674-41...</td>\n",
       "      <td>1970-01-01</td>\n",
       "      <td>[]</td>\n",
       "      <td>[]</td>\n",
       "      <td>...</td>\n",
       "      <td>NaN</td>\n",
       "      <td>NaN</td>\n",
       "      <td>None</td>\n",
       "      <td>None</td>\n",
       "      <td></td>\n",
       "      <td>0</td>\n",
       "      <td>[]</td>\n",
       "      <td>[]</td>\n",
       "      <td>[]</td>\n",
       "      <td>[]</td>\n",
       "    </tr>\n",
       "    <tr>\n",
       "      <th>85</th>\n",
       "      <td>system</td>\n",
       "      <td>warnings</td>\n",
       "      <td>e3e41348-a89f-455d-b479-68d6236b31d9</td>\n",
       "      <td>SystemWarnings</td>\n",
       "      <td>0</td>\n",
       "      <td>[]</td>\n",
       "      <td>/var/lib/clickhouse/store/3d6/3d69eb29-a674-41...</td>\n",
       "      <td>1970-01-01</td>\n",
       "      <td>[]</td>\n",
       "      <td>[]</td>\n",
       "      <td>...</td>\n",
       "      <td>NaN</td>\n",
       "      <td>NaN</td>\n",
       "      <td>None</td>\n",
       "      <td>None</td>\n",
       "      <td></td>\n",
       "      <td>0</td>\n",
       "      <td>[]</td>\n",
       "      <td>[]</td>\n",
       "      <td>[]</td>\n",
       "      <td>[]</td>\n",
       "    </tr>\n",
       "    <tr>\n",
       "      <th>86</th>\n",
       "      <td>system</td>\n",
       "      <td>zeros</td>\n",
       "      <td>6aaab58e-d445-4ecd-b97c-cebadf4ba5c7</td>\n",
       "      <td>SystemZeros</td>\n",
       "      <td>0</td>\n",
       "      <td>[]</td>\n",
       "      <td>/var/lib/clickhouse/store/3d6/3d69eb29-a674-41...</td>\n",
       "      <td>1970-01-01</td>\n",
       "      <td>[]</td>\n",
       "      <td>[]</td>\n",
       "      <td>...</td>\n",
       "      <td>NaN</td>\n",
       "      <td>NaN</td>\n",
       "      <td>None</td>\n",
       "      <td>None</td>\n",
       "      <td></td>\n",
       "      <td>0</td>\n",
       "      <td>[]</td>\n",
       "      <td>[]</td>\n",
       "      <td>[]</td>\n",
       "      <td>[]</td>\n",
       "    </tr>\n",
       "    <tr>\n",
       "      <th>87</th>\n",
       "      <td>system</td>\n",
       "      <td>zeros_mt</td>\n",
       "      <td>4fb14993-e8cb-4470-8484-edabd5cec119</td>\n",
       "      <td>SystemZeros</td>\n",
       "      <td>0</td>\n",
       "      <td>[]</td>\n",
       "      <td>/var/lib/clickhouse/store/3d6/3d69eb29-a674-41...</td>\n",
       "      <td>1970-01-01</td>\n",
       "      <td>[]</td>\n",
       "      <td>[]</td>\n",
       "      <td>...</td>\n",
       "      <td>NaN</td>\n",
       "      <td>NaN</td>\n",
       "      <td>None</td>\n",
       "      <td>None</td>\n",
       "      <td></td>\n",
       "      <td>0</td>\n",
       "      <td>[]</td>\n",
       "      <td>[]</td>\n",
       "      <td>[]</td>\n",
       "      <td>[]</td>\n",
       "    </tr>\n",
       "  </tbody>\n",
       "</table>\n",
       "<p>88 rows × 28 columns</p>\n",
       "</div>"
      ],
      "text/plain": [
       "              database              name  \\\n",
       "0   INFORMATION_SCHEMA           COLUMNS   \n",
       "1   INFORMATION_SCHEMA          SCHEMATA   \n",
       "2   INFORMATION_SCHEMA            TABLES   \n",
       "3   INFORMATION_SCHEMA             VIEWS   \n",
       "4   information_schema           columns   \n",
       "..                 ...               ...   \n",
       "83              system  user_directories   \n",
       "84              system             users   \n",
       "85              system          warnings   \n",
       "86              system             zeros   \n",
       "87              system          zeros_mt   \n",
       "\n",
       "                                    uuid                 engine  is_temporary  \\\n",
       "0   00000000-0000-0000-0000-000000000000                   View             0   \n",
       "1   00000000-0000-0000-0000-000000000000                   View             0   \n",
       "2   00000000-0000-0000-0000-000000000000                   View             0   \n",
       "3   00000000-0000-0000-0000-000000000000                   View             0   \n",
       "4   00000000-0000-0000-0000-000000000000                   View             0   \n",
       "..                                   ...                    ...           ...   \n",
       "83  e1406b3f-87b9-4d40-810e-a82b344a1771  SystemUserDirectories             0   \n",
       "84  f045a590-3ad3-4d05-ac3f-5f60e4c56959            SystemUsers             0   \n",
       "85  e3e41348-a89f-455d-b479-68d6236b31d9         SystemWarnings             0   \n",
       "86  6aaab58e-d445-4ecd-b97c-cebadf4ba5c7            SystemZeros             0   \n",
       "87  4fb14993-e8cb-4470-8484-edabd5cec119            SystemZeros             0   \n",
       "\n",
       "   data_paths                                      metadata_path  \\\n",
       "0          []                                                      \n",
       "1          []                                                      \n",
       "2          []                                                      \n",
       "3          []                                                      \n",
       "4          []                                                      \n",
       "..        ...                                                ...   \n",
       "83         []  /var/lib/clickhouse/store/3d6/3d69eb29-a674-41...   \n",
       "84         []  /var/lib/clickhouse/store/3d6/3d69eb29-a674-41...   \n",
       "85         []  /var/lib/clickhouse/store/3d6/3d69eb29-a674-41...   \n",
       "86         []  /var/lib/clickhouse/store/3d6/3d69eb29-a674-41...   \n",
       "87         []  /var/lib/clickhouse/store/3d6/3d69eb29-a674-41...   \n",
       "\n",
       "   metadata_modification_time dependencies_database dependencies_table  ...  \\\n",
       "0                  1970-01-01                    []                 []  ...   \n",
       "1                  1970-01-01                    []                 []  ...   \n",
       "2                  1970-01-01                    []                 []  ...   \n",
       "3                  1970-01-01                    []                 []  ...   \n",
       "4                  1970-01-01                    []                 []  ...   \n",
       "..                        ...                   ...                ...  ...   \n",
       "83                 1970-01-01                    []                 []  ...   \n",
       "84                 1970-01-01                    []                 []  ...   \n",
       "85                 1970-01-01                    []                 []  ...   \n",
       "86                 1970-01-01                    []                 []  ...   \n",
       "87                 1970-01-01                    []                 []  ...   \n",
       "\n",
       "   total_rows total_bytes lifetime_rows lifetime_bytes comment has_own_data  \\\n",
       "0         NaN         NaN          None           None                    0   \n",
       "1         NaN         NaN          None           None                    0   \n",
       "2         NaN         NaN          None           None                    0   \n",
       "3         NaN         NaN          None           None                    0   \n",
       "4         NaN         NaN          None           None                    0   \n",
       "..        ...         ...           ...            ...     ...          ...   \n",
       "83        NaN         NaN          None           None                    0   \n",
       "84        NaN         NaN          None           None                    0   \n",
       "85        NaN         NaN          None           None                    0   \n",
       "86        NaN         NaN          None           None                    0   \n",
       "87        NaN         NaN          None           None                    0   \n",
       "\n",
       "   loading_dependencies_database loading_dependencies_table  \\\n",
       "0                             []                         []   \n",
       "1                             []                         []   \n",
       "2                             []                         []   \n",
       "3                             []                         []   \n",
       "4                             []                         []   \n",
       "..                           ...                        ...   \n",
       "83                            []                         []   \n",
       "84                            []                         []   \n",
       "85                            []                         []   \n",
       "86                            []                         []   \n",
       "87                            []                         []   \n",
       "\n",
       "    loading_dependent_database  loading_dependent_table  \n",
       "0                           []                       []  \n",
       "1                           []                       []  \n",
       "2                           []                       []  \n",
       "3                           []                       []  \n",
       "4                           []                       []  \n",
       "..                         ...                      ...  \n",
       "83                          []                       []  \n",
       "84                          []                       []  \n",
       "85                          []                       []  \n",
       "86                          []                       []  \n",
       "87                          []                       []  \n",
       "\n",
       "[88 rows x 28 columns]"
      ]
     },
     "execution_count": 4,
     "metadata": {},
     "output_type": "execute_result"
    }
   ],
   "source": [
    "_clickhouse.queryDataframe(\n",
    "    'SELECT * FROM system.tables;' \n",
    ")"
   ]
  },
  {
   "cell_type": "code",
   "execution_count": 5,
   "metadata": {},
   "outputs": [
    {
     "data": {
      "text/html": [
       "<div>\n",
       "<style scoped>\n",
       "    .dataframe tbody tr th:only-of-type {\n",
       "        vertical-align: middle;\n",
       "    }\n",
       "\n",
       "    .dataframe tbody tr th {\n",
       "        vertical-align: top;\n",
       "    }\n",
       "\n",
       "    .dataframe thead th {\n",
       "        text-align: right;\n",
       "    }\n",
       "</style>\n",
       "<table border=\"1\" class=\"dataframe\">\n",
       "  <thead>\n",
       "    <tr style=\"text-align: right;\">\n",
       "      <th></th>\n",
       "      <th>name</th>\n",
       "    </tr>\n",
       "  </thead>\n",
       "  <tbody>\n",
       "    <tr>\n",
       "      <th>0</th>\n",
       "      <td>events</td>\n",
       "    </tr>\n",
       "  </tbody>\n",
       "</table>\n",
       "</div>"
      ],
      "text/plain": [
       "     name\n",
       "0  events"
      ]
     },
     "execution_count": 5,
     "metadata": {},
     "output_type": "execute_result"
    }
   ],
   "source": [
    "df = _clickhouse.queryDataframe(\n",
    "    'SHOW TABLES FROM opensource' \n",
    ")\n",
    "df"
   ]
  },
  {
   "cell_type": "markdown",
   "metadata": {},
   "source": [
    "### 社区日志总量比较"
   ]
  },
  {
   "cell_type": "code",
   "execution_count": 25,
   "metadata": {
    "vscode": {
     "languageId": "python"
    }
   },
   "outputs": [
    {
     "name": "stdout",
     "output_type": "stream",
     "text": [
      "       repo_id  count  year\n",
      "0     74094333      1  2016\n",
      "1     76994289      2  2016\n",
      "2     74094673      2  2016\n",
      "3     74427002      8  2016\n",
      "4     73922086     12  2016\n",
      "..         ...    ...   ...\n",
      "531  217475193   1486  2024\n",
      "532  104208128   1645  2024\n",
      "533  336274588   3746  2024\n",
      "534  262296122   4772  2024\n",
      "535   65711522  20796  2024\n",
      "\n",
      "[536 rows x 3 columns]\n"
     ]
    }
   ],
   "source": [
    "\n",
    "df = _clickhouse.queryDataframe(\n",
    "    '''\n",
    "    SELECT repo_id, COUNT() AS count, formatDateTime(created_at, '%Y') AS year\n",
    "    FROM events \n",
    "    GROUP BY year,repo_id\n",
    "    ORDER BY year,count\n",
    "    '''\n",
    ")\n",
    "\n",
    "print(df) \n",
    "repo_names = list(map(lambda x: repo_id_name.get(str(x)),df.get('repo_id')))\n",
    "df['community'] = repo_names\n",
    "df = df.dropna()\n",
    "df.to_csv('log_all.csv')"
   ]
  },
  {
   "cell_type": "markdown",
   "metadata": {},
   "source": [
    "### 每月成功 Merge 的 PR 数量"
   ]
  },
  {
   "cell_type": "code",
   "execution_count": 26,
   "metadata": {
    "vscode": {
     "languageId": "python"
    }
   },
   "outputs": [
    {
     "name": "stdout",
     "output_type": "stream",
     "text": [
      "        repo_id  record_num year_month\n",
      "0      65711522          43    2016-11\n",
      "1      65711522         144    2016-12\n",
      "2      76616099           5    2016-12\n",
      "3      75804012           2    2016-12\n",
      "4      75261722           1    2016-12\n",
      "...         ...         ...        ...\n",
      "2306  312259012           1    2024-03\n",
      "2307  427252454           1    2024-03\n",
      "2308  513813137           1    2024-03\n",
      "2309  273214029           1    2024-03\n",
      "2310  228290594           1    2024-03\n",
      "\n",
      "[2311 rows x 3 columns]\n"
     ]
    }
   ],
   "source": [
    "df = _clickhouse.queryDataframe(\n",
    "    '''\n",
    "    SELECT repo_id,COUNT(id) AS record_num, formatDateTime(created_at, '%Y-%m') AS year_month \n",
    "    FROM events \n",
    "    WHERE (type='PullRequestEvent' AND action='closed' AND pull_merged=1)\n",
    "    GROUP BY repo_id, year_month\n",
    "    ORDER BY year_month, record_num \n",
    "    DESC\n",
    "    '''\n",
    ")\n",
    "\n",
    "print(df)\n",
    "repo_names = list(map(lambda x: repo_id_name.get(str(x)),df.get('repo_id')))\n",
    "df[\"community\"] = repo_names\n",
    "df = df.dropna()\n",
    "df.to_csv('merge_all.csv')"
   ]
  },
  {
   "cell_type": "markdown",
   "metadata": {},
   "source": [
    "### 每月新增 Star 的数量"
   ]
  },
  {
   "cell_type": "code",
   "execution_count": 27,
   "metadata": {
    "vscode": {
     "languageId": "python"
    }
   },
   "outputs": [],
   "source": [
    "df = _clickhouse.queryDataframe(\n",
    "    '''\n",
    "    SELECT repo_id, countIf(type='WatchEvent') AS stars, formatDateTime(created_at, '%Y-%m') AS year_month\n",
    "    FROM events \n",
    "    GROUP BY repo_id, year_month\n",
    "    ORDER BY year_month, stars\n",
    "    DESC\n",
    "    '''\n",
    ")\n",
    "repo_names = list(map(lambda x: repo_id_name.get(str(x)),df.get('repo_id')))\n",
    "df['community'] = repo_names\n",
    "df = df.dropna()\n",
    "df.to_csv('star_all.csv')"
   ]
  },
  {
   "cell_type": "markdown",
   "metadata": {},
   "source": [
    "### 每月新增 Fork 的数量"
   ]
  },
  {
   "cell_type": "code",
   "execution_count": 28,
   "metadata": {
    "vscode": {
     "languageId": "python"
    }
   },
   "outputs": [],
   "source": [
    "df = _clickhouse.queryDataframe(\n",
    "    '''\n",
    "    SELECT repo_id, countIf(type='ForkEvent') AS forks, formatDateTime(created_at, '%Y-%m') AS year_month\n",
    "    FROM events \n",
    "    GROUP BY repo_id, year_month\n",
    "    ORDER BY year_month, forks\n",
    "    DESC\n",
    "    '''\n",
    ")\n",
    "repo_names = list(map(lambda x: repo_id_name.get(str(x)),df.get('repo_id')))\n",
    "df['community'] = repo_names\n",
    "df = df.dropna()\n",
    "df.to_csv('fork_all.csv')"
   ]
  },
  {
   "cell_type": "markdown",
   "metadata": {},
   "source": [
    "### 每月在仓库中活跃的不同开发者总数"
   ]
  },
  {
   "cell_type": "code",
   "execution_count": 29,
   "metadata": {
    "vscode": {
     "languageId": "python"
    }
   },
   "outputs": [],
   "source": [
    "df = _clickhouse.queryDataframe(\n",
    "    '''\n",
    "    SELECT repo_id, COUNT(DISTINCT actor_id) AS actor_count, formatDateTime(created_at, '%Y-%m') AS year_month\n",
    "    FROM events\n",
    "    WHERE type = 'PullRequestEvent'\n",
    "    GROUP BY repo_id, year_month\n",
    "    ORDER BY year_month, actor_count\n",
    "    '''\n",
    ")\n",
    "repo_names = list(map(lambda x: repo_id_name.get(str(x)),df.get('repo_id')))\n",
    "df['community'] = repo_names\n",
    "df = df.dropna()\n",
    "df.to_csv('activity_all.csv')"
   ]
  },
  {
   "cell_type": "markdown",
   "metadata": {},
   "source": [
    "### 各个社区贡献者的数量占比"
   ]
  },
  {
   "cell_type": "code",
   "execution_count": 30,
   "metadata": {
    "vscode": {
     "languageId": "python"
    }
   },
   "outputs": [
    {
     "data": {
      "application/vnd.plotly.v1+json": {
       "config": {
        "plotlyServerURL": "https://plot.ly"
       },
       "data": [
        {
         "domain": {
          "x": [
           0,
           1
          ],
          "y": [
           0,
           1
          ]
         },
         "hovertemplate": "community=%{label}<br>contributor_count=%{value}<extra></extra>",
         "labels": [
          "Paddle",
          "models",
          "PaddleOCR",
          "PaddleNLP",
          "PaddleDetection",
          "PaddleSeg",
          "FastDeploy",
          "PaddleHub",
          "PaddleSlim",
          "PaddleGAN"
         ],
         "legendgroup": "",
         "name": "",
         "showlegend": true,
         "type": "pie",
         "values": [
          1157,
          381,
          285,
          280,
          196,
          164,
          86,
          78,
          58,
          56
         ]
        }
       ],
       "layout": {
        "autosize": true,
        "legend": {
         "tracegroupgap": 0
        },
        "margin": {
         "t": 60
        },
        "template": {
         "data": {
          "bar": [
           {
            "error_x": {
             "color": "#2a3f5f"
            },
            "error_y": {
             "color": "#2a3f5f"
            },
            "marker": {
             "line": {
              "color": "#E5ECF6",
              "width": 0.5
             },
             "pattern": {
              "fillmode": "overlay",
              "size": 10,
              "solidity": 0.2
             }
            },
            "type": "bar"
           }
          ],
          "barpolar": [
           {
            "marker": {
             "line": {
              "color": "#E5ECF6",
              "width": 0.5
             },
             "pattern": {
              "fillmode": "overlay",
              "size": 10,
              "solidity": 0.2
             }
            },
            "type": "barpolar"
           }
          ],
          "carpet": [
           {
            "aaxis": {
             "endlinecolor": "#2a3f5f",
             "gridcolor": "white",
             "linecolor": "white",
             "minorgridcolor": "white",
             "startlinecolor": "#2a3f5f"
            },
            "baxis": {
             "endlinecolor": "#2a3f5f",
             "gridcolor": "white",
             "linecolor": "white",
             "minorgridcolor": "white",
             "startlinecolor": "#2a3f5f"
            },
            "type": "carpet"
           }
          ],
          "choropleth": [
           {
            "colorbar": {
             "outlinewidth": 0,
             "ticks": ""
            },
            "type": "choropleth"
           }
          ],
          "contour": [
           {
            "colorbar": {
             "outlinewidth": 0,
             "ticks": ""
            },
            "colorscale": [
             [
              0,
              "#0d0887"
             ],
             [
              0.1111111111111111,
              "#46039f"
             ],
             [
              0.2222222222222222,
              "#7201a8"
             ],
             [
              0.3333333333333333,
              "#9c179e"
             ],
             [
              0.4444444444444444,
              "#bd3786"
             ],
             [
              0.5555555555555556,
              "#d8576b"
             ],
             [
              0.6666666666666666,
              "#ed7953"
             ],
             [
              0.7777777777777778,
              "#fb9f3a"
             ],
             [
              0.8888888888888888,
              "#fdca26"
             ],
             [
              1,
              "#f0f921"
             ]
            ],
            "type": "contour"
           }
          ],
          "contourcarpet": [
           {
            "colorbar": {
             "outlinewidth": 0,
             "ticks": ""
            },
            "type": "contourcarpet"
           }
          ],
          "heatmap": [
           {
            "colorbar": {
             "outlinewidth": 0,
             "ticks": ""
            },
            "colorscale": [
             [
              0,
              "#0d0887"
             ],
             [
              0.1111111111111111,
              "#46039f"
             ],
             [
              0.2222222222222222,
              "#7201a8"
             ],
             [
              0.3333333333333333,
              "#9c179e"
             ],
             [
              0.4444444444444444,
              "#bd3786"
             ],
             [
              0.5555555555555556,
              "#d8576b"
             ],
             [
              0.6666666666666666,
              "#ed7953"
             ],
             [
              0.7777777777777778,
              "#fb9f3a"
             ],
             [
              0.8888888888888888,
              "#fdca26"
             ],
             [
              1,
              "#f0f921"
             ]
            ],
            "type": "heatmap"
           }
          ],
          "heatmapgl": [
           {
            "colorbar": {
             "outlinewidth": 0,
             "ticks": ""
            },
            "colorscale": [
             [
              0,
              "#0d0887"
             ],
             [
              0.1111111111111111,
              "#46039f"
             ],
             [
              0.2222222222222222,
              "#7201a8"
             ],
             [
              0.3333333333333333,
              "#9c179e"
             ],
             [
              0.4444444444444444,
              "#bd3786"
             ],
             [
              0.5555555555555556,
              "#d8576b"
             ],
             [
              0.6666666666666666,
              "#ed7953"
             ],
             [
              0.7777777777777778,
              "#fb9f3a"
             ],
             [
              0.8888888888888888,
              "#fdca26"
             ],
             [
              1,
              "#f0f921"
             ]
            ],
            "type": "heatmapgl"
           }
          ],
          "histogram": [
           {
            "marker": {
             "pattern": {
              "fillmode": "overlay",
              "size": 10,
              "solidity": 0.2
             }
            },
            "type": "histogram"
           }
          ],
          "histogram2d": [
           {
            "colorbar": {
             "outlinewidth": 0,
             "ticks": ""
            },
            "colorscale": [
             [
              0,
              "#0d0887"
             ],
             [
              0.1111111111111111,
              "#46039f"
             ],
             [
              0.2222222222222222,
              "#7201a8"
             ],
             [
              0.3333333333333333,
              "#9c179e"
             ],
             [
              0.4444444444444444,
              "#bd3786"
             ],
             [
              0.5555555555555556,
              "#d8576b"
             ],
             [
              0.6666666666666666,
              "#ed7953"
             ],
             [
              0.7777777777777778,
              "#fb9f3a"
             ],
             [
              0.8888888888888888,
              "#fdca26"
             ],
             [
              1,
              "#f0f921"
             ]
            ],
            "type": "histogram2d"
           }
          ],
          "histogram2dcontour": [
           {
            "colorbar": {
             "outlinewidth": 0,
             "ticks": ""
            },
            "colorscale": [
             [
              0,
              "#0d0887"
             ],
             [
              0.1111111111111111,
              "#46039f"
             ],
             [
              0.2222222222222222,
              "#7201a8"
             ],
             [
              0.3333333333333333,
              "#9c179e"
             ],
             [
              0.4444444444444444,
              "#bd3786"
             ],
             [
              0.5555555555555556,
              "#d8576b"
             ],
             [
              0.6666666666666666,
              "#ed7953"
             ],
             [
              0.7777777777777778,
              "#fb9f3a"
             ],
             [
              0.8888888888888888,
              "#fdca26"
             ],
             [
              1,
              "#f0f921"
             ]
            ],
            "type": "histogram2dcontour"
           }
          ],
          "mesh3d": [
           {
            "colorbar": {
             "outlinewidth": 0,
             "ticks": ""
            },
            "type": "mesh3d"
           }
          ],
          "parcoords": [
           {
            "line": {
             "colorbar": {
              "outlinewidth": 0,
              "ticks": ""
             }
            },
            "type": "parcoords"
           }
          ],
          "pie": [
           {
            "automargin": true,
            "type": "pie"
           }
          ],
          "scatter": [
           {
            "fillpattern": {
             "fillmode": "overlay",
             "size": 10,
             "solidity": 0.2
            },
            "type": "scatter"
           }
          ],
          "scatter3d": [
           {
            "line": {
             "colorbar": {
              "outlinewidth": 0,
              "ticks": ""
             }
            },
            "marker": {
             "colorbar": {
              "outlinewidth": 0,
              "ticks": ""
             }
            },
            "type": "scatter3d"
           }
          ],
          "scattercarpet": [
           {
            "marker": {
             "colorbar": {
              "outlinewidth": 0,
              "ticks": ""
             }
            },
            "type": "scattercarpet"
           }
          ],
          "scattergeo": [
           {
            "marker": {
             "colorbar": {
              "outlinewidth": 0,
              "ticks": ""
             }
            },
            "type": "scattergeo"
           }
          ],
          "scattergl": [
           {
            "marker": {
             "colorbar": {
              "outlinewidth": 0,
              "ticks": ""
             }
            },
            "type": "scattergl"
           }
          ],
          "scattermapbox": [
           {
            "marker": {
             "colorbar": {
              "outlinewidth": 0,
              "ticks": ""
             }
            },
            "type": "scattermapbox"
           }
          ],
          "scatterpolar": [
           {
            "marker": {
             "colorbar": {
              "outlinewidth": 0,
              "ticks": ""
             }
            },
            "type": "scatterpolar"
           }
          ],
          "scatterpolargl": [
           {
            "marker": {
             "colorbar": {
              "outlinewidth": 0,
              "ticks": ""
             }
            },
            "type": "scatterpolargl"
           }
          ],
          "scatterternary": [
           {
            "marker": {
             "colorbar": {
              "outlinewidth": 0,
              "ticks": ""
             }
            },
            "type": "scatterternary"
           }
          ],
          "surface": [
           {
            "colorbar": {
             "outlinewidth": 0,
             "ticks": ""
            },
            "colorscale": [
             [
              0,
              "#0d0887"
             ],
             [
              0.1111111111111111,
              "#46039f"
             ],
             [
              0.2222222222222222,
              "#7201a8"
             ],
             [
              0.3333333333333333,
              "#9c179e"
             ],
             [
              0.4444444444444444,
              "#bd3786"
             ],
             [
              0.5555555555555556,
              "#d8576b"
             ],
             [
              0.6666666666666666,
              "#ed7953"
             ],
             [
              0.7777777777777778,
              "#fb9f3a"
             ],
             [
              0.8888888888888888,
              "#fdca26"
             ],
             [
              1,
              "#f0f921"
             ]
            ],
            "type": "surface"
           }
          ],
          "table": [
           {
            "cells": {
             "fill": {
              "color": "#EBF0F8"
             },
             "line": {
              "color": "white"
             }
            },
            "header": {
             "fill": {
              "color": "#C8D4E3"
             },
             "line": {
              "color": "white"
             }
            },
            "type": "table"
           }
          ]
         },
         "layout": {
          "annotationdefaults": {
           "arrowcolor": "#2a3f5f",
           "arrowhead": 0,
           "arrowwidth": 1
          },
          "autotypenumbers": "strict",
          "coloraxis": {
           "colorbar": {
            "outlinewidth": 0,
            "ticks": ""
           }
          },
          "colorscale": {
           "diverging": [
            [
             0,
             "#8e0152"
            ],
            [
             0.1,
             "#c51b7d"
            ],
            [
             0.2,
             "#de77ae"
            ],
            [
             0.3,
             "#f1b6da"
            ],
            [
             0.4,
             "#fde0ef"
            ],
            [
             0.5,
             "#f7f7f7"
            ],
            [
             0.6,
             "#e6f5d0"
            ],
            [
             0.7,
             "#b8e186"
            ],
            [
             0.8,
             "#7fbc41"
            ],
            [
             0.9,
             "#4d9221"
            ],
            [
             1,
             "#276419"
            ]
           ],
           "sequential": [
            [
             0,
             "#0d0887"
            ],
            [
             0.1111111111111111,
             "#46039f"
            ],
            [
             0.2222222222222222,
             "#7201a8"
            ],
            [
             0.3333333333333333,
             "#9c179e"
            ],
            [
             0.4444444444444444,
             "#bd3786"
            ],
            [
             0.5555555555555556,
             "#d8576b"
            ],
            [
             0.6666666666666666,
             "#ed7953"
            ],
            [
             0.7777777777777778,
             "#fb9f3a"
            ],
            [
             0.8888888888888888,
             "#fdca26"
            ],
            [
             1,
             "#f0f921"
            ]
           ],
           "sequentialminus": [
            [
             0,
             "#0d0887"
            ],
            [
             0.1111111111111111,
             "#46039f"
            ],
            [
             0.2222222222222222,
             "#7201a8"
            ],
            [
             0.3333333333333333,
             "#9c179e"
            ],
            [
             0.4444444444444444,
             "#bd3786"
            ],
            [
             0.5555555555555556,
             "#d8576b"
            ],
            [
             0.6666666666666666,
             "#ed7953"
            ],
            [
             0.7777777777777778,
             "#fb9f3a"
            ],
            [
             0.8888888888888888,
             "#fdca26"
            ],
            [
             1,
             "#f0f921"
            ]
           ]
          },
          "colorway": [
           "#636efa",
           "#EF553B",
           "#00cc96",
           "#ab63fa",
           "#FFA15A",
           "#19d3f3",
           "#FF6692",
           "#B6E880",
           "#FF97FF",
           "#FECB52"
          ],
          "font": {
           "color": "#2a3f5f"
          },
          "geo": {
           "bgcolor": "white",
           "lakecolor": "white",
           "landcolor": "#E5ECF6",
           "showlakes": true,
           "showland": true,
           "subunitcolor": "white"
          },
          "hoverlabel": {
           "align": "left"
          },
          "hovermode": "closest",
          "mapbox": {
           "style": "light"
          },
          "paper_bgcolor": "white",
          "plot_bgcolor": "#E5ECF6",
          "polar": {
           "angularaxis": {
            "gridcolor": "white",
            "linecolor": "white",
            "ticks": ""
           },
           "bgcolor": "#E5ECF6",
           "radialaxis": {
            "gridcolor": "white",
            "linecolor": "white",
            "ticks": ""
           }
          },
          "scene": {
           "xaxis": {
            "backgroundcolor": "#E5ECF6",
            "gridcolor": "white",
            "gridwidth": 2,
            "linecolor": "white",
            "showbackground": true,
            "ticks": "",
            "zerolinecolor": "white"
           },
           "yaxis": {
            "backgroundcolor": "#E5ECF6",
            "gridcolor": "white",
            "gridwidth": 2,
            "linecolor": "white",
            "showbackground": true,
            "ticks": "",
            "zerolinecolor": "white"
           },
           "zaxis": {
            "backgroundcolor": "#E5ECF6",
            "gridcolor": "white",
            "gridwidth": 2,
            "linecolor": "white",
            "showbackground": true,
            "ticks": "",
            "zerolinecolor": "white"
           }
          },
          "shapedefaults": {
           "line": {
            "color": "#2a3f5f"
           }
          },
          "ternary": {
           "aaxis": {
            "gridcolor": "white",
            "linecolor": "white",
            "ticks": ""
           },
           "baxis": {
            "gridcolor": "white",
            "linecolor": "white",
            "ticks": ""
           },
           "bgcolor": "#E5ECF6",
           "caxis": {
            "gridcolor": "white",
            "linecolor": "white",
            "ticks": ""
           }
          },
          "title": {
           "x": 0.05
          },
          "xaxis": {
           "automargin": true,
           "gridcolor": "white",
           "linecolor": "white",
           "ticks": "",
           "title": {
            "standoff": 15
           },
           "zerolinecolor": "white",
           "zerolinewidth": 2
          },
          "yaxis": {
           "automargin": true,
           "gridcolor": "white",
           "linecolor": "white",
           "ticks": "",
           "title": {
            "standoff": 15
           },
           "zerolinecolor": "white",
           "zerolinewidth": 2
          }
         }
        },
        "title": {
         "text": "社区贡献者人数比例",
         "x": 0.49,
         "xanchor": "center",
         "y": 0.95,
         "yanchor": "top"
        }
       }
      },
      "image/png": "[encoded data removed]",
      "text/html": [
       "<div>                            <div id=\"4ca16554-2da9-4f28-8fb5-e326123d252c\" class=\"plotly-graph-div\" style=\"height:525px; width:100%;\"></div>            <script type=\"text/javascript\">                require([\"plotly\"], function(Plotly) {                    window.PLOTLYENV=window.PLOTLYENV || {};                                    if (document.getElementById(\"4ca16554-2da9-4f28-8fb5-e326123d252c\")) {                    Plotly.newPlot(                        \"4ca16554-2da9-4f28-8fb5-e326123d252c\",                        [{\"domain\":{\"x\":[0.0,1.0],\"y\":[0.0,1.0]},\"hovertemplate\":\"community=%{label}<br>contributor_count=%{value}<extra></extra>\",\"labels\":[\"Paddle\",\"models\",\"PaddleOCR\",\"PaddleNLP\",\"PaddleDetection\",\"PaddleSeg\",\"FastDeploy\",\"PaddleHub\",\"PaddleSlim\",\"PaddleGAN\"],\"legendgroup\":\"\",\"name\":\"\",\"showlegend\":true,\"values\":[1157,381,285,280,196,164,86,78,58,56],\"type\":\"pie\"}],                        {\"template\":{\"data\":{\"histogram2dcontour\":[{\"type\":\"histogram2dcontour\",\"colorbar\":{\"outlinewidth\":0,\"ticks\":\"\"},\"colorscale\":[[0.0,\"#0d0887\"],[0.1111111111111111,\"#46039f\"],[0.2222222222222222,\"#7201a8\"],[0.3333333333333333,\"#9c179e\"],[0.4444444444444444,\"#bd3786\"],[0.5555555555555556,\"#d8576b\"],[0.6666666666666666,\"#ed7953\"],[0.7777777777777778,\"#fb9f3a\"],[0.8888888888888888,\"#fdca26\"],[1.0,\"#f0f921\"]]}],\"choropleth\":[{\"type\":\"choropleth\",\"colorbar\":{\"outlinewidth\":0,\"ticks\":\"\"}}],\"histogram2d\":[{\"type\":\"histogram2d\",\"colorbar\":{\"outlinewidth\":0,\"ticks\":\"\"},\"colorscale\":[[0.0,\"#0d0887\"],[0.1111111111111111,\"#46039f\"],[0.2222222222222222,\"#7201a8\"],[0.3333333333333333,\"#9c179e\"],[0.4444444444444444,\"#bd3786\"],[0.5555555555555556,\"#d8576b\"],[0.6666666666666666,\"#ed7953\"],[0.7777777777777778,\"#fb9f3a\"],[0.8888888888888888,\"#fdca26\"],[1.0,\"#f0f921\"]]}],\"heatmap\":[{\"type\":\"heatmap\",\"colorbar\":{\"outlinewidth\":0,\"ticks\":\"\"},\"colorscale\":[[0.0,\"#0d0887\"],[0.1111111111111111,\"#46039f\"],[0.2222222222222222,\"#7201a8\"],[0.3333333333333333,\"#9c179e\"],[0.4444444444444444,\"#bd3786\"],[0.5555555555555556,\"#d8576b\"],[0.6666666666666666,\"#ed7953\"],[0.7777777777777778,\"#fb9f3a\"],[0.8888888888888888,\"#fdca26\"],[1.0,\"#f0f921\"]]}],\"heatmapgl\":[{\"type\":\"heatmapgl\",\"colorbar\":{\"outlinewidth\":0,\"ticks\":\"\"},\"colorscale\":[[0.0,\"#0d0887\"],[0.1111111111111111,\"#46039f\"],[0.2222222222222222,\"#7201a8\"],[0.3333333333333333,\"#9c179e\"],[0.4444444444444444,\"#bd3786\"],[0.5555555555555556,\"#d8576b\"],[0.6666666666666666,\"#ed7953\"],[0.7777777777777778,\"#fb9f3a\"],[0.8888888888888888,\"#fdca26\"],[1.0,\"#f0f921\"]]}],\"contourcarpet\":[{\"type\":\"contourcarpet\",\"colorbar\":{\"outlinewidth\":0,\"ticks\":\"\"}}],\"contour\":[{\"type\":\"contour\",\"colorbar\":{\"outlinewidth\":0,\"ticks\":\"\"},\"colorscale\":[[0.0,\"#0d0887\"],[0.1111111111111111,\"#46039f\"],[0.2222222222222222,\"#7201a8\"],[0.3333333333333333,\"#9c179e\"],[0.4444444444444444,\"#bd3786\"],[0.5555555555555556,\"#d8576b\"],[0.6666666666666666,\"#ed7953\"],[0.7777777777777778,\"#fb9f3a\"],[0.8888888888888888,\"#fdca26\"],[1.0,\"#f0f921\"]]}],\"surface\":[{\"type\":\"surface\",\"colorbar\":{\"outlinewidth\":0,\"ticks\":\"\"},\"colorscale\":[[0.0,\"#0d0887\"],[0.1111111111111111,\"#46039f\"],[0.2222222222222222,\"#7201a8\"],[0.3333333333333333,\"#9c179e\"],[0.4444444444444444,\"#bd3786\"],[0.5555555555555556,\"#d8576b\"],[0.6666666666666666,\"#ed7953\"],[0.7777777777777778,\"#fb9f3a\"],[0.8888888888888888,\"#fdca26\"],[1.0,\"#f0f921\"]]}],\"mesh3d\":[{\"type\":\"mesh3d\",\"colorbar\":{\"outlinewidth\":0,\"ticks\":\"\"}}],\"scatter\":[{\"fillpattern\":{\"fillmode\":\"overlay\",\"size\":10,\"solidity\":0.2},\"type\":\"scatter\"}],\"parcoords\":[{\"type\":\"parcoords\",\"line\":{\"colorbar\":{\"outlinewidth\":0,\"ticks\":\"\"}}}],\"scatterpolargl\":[{\"type\":\"scatterpolargl\",\"marker\":{\"colorbar\":{\"outlinewidth\":0,\"ticks\":\"\"}}}],\"bar\":[{\"error_x\":{\"color\":\"#2a3f5f\"},\"error_y\":{\"color\":\"#2a3f5f\"},\"marker\":{\"line\":{\"color\":\"#E5ECF6\",\"width\":0.5},\"pattern\":{\"fillmode\":\"overlay\",\"size\":10,\"solidity\":0.2}},\"type\":\"bar\"}],\"scattergeo\":[{\"type\":\"scattergeo\",\"marker\":{\"colorbar\":{\"outlinewidth\":0,\"ticks\":\"\"}}}],\"scatterpolar\":[{\"type\":\"scatterpolar\",\"marker\":{\"colorbar\":{\"outlinewidth\":0,\"ticks\":\"\"}}}],\"histogram\":[{\"marker\":{\"pattern\":{\"fillmode\":\"overlay\",\"size\":10,\"solidity\":0.2}},\"type\":\"histogram\"}],\"scattergl\":[{\"type\":\"scattergl\",\"marker\":{\"colorbar\":{\"outlinewidth\":0,\"ticks\":\"\"}}}],\"scatter3d\":[{\"type\":\"scatter3d\",\"line\":{\"colorbar\":{\"outlinewidth\":0,\"ticks\":\"\"}},\"marker\":{\"colorbar\":{\"outlinewidth\":0,\"ticks\":\"\"}}}],\"scattermapbox\":[{\"type\":\"scattermapbox\",\"marker\":{\"colorbar\":{\"outlinewidth\":0,\"ticks\":\"\"}}}],\"scatterternary\":[{\"type\":\"scatterternary\",\"marker\":{\"colorbar\":{\"outlinewidth\":0,\"ticks\":\"\"}}}],\"scattercarpet\":[{\"type\":\"scattercarpet\",\"marker\":{\"colorbar\":{\"outlinewidth\":0,\"ticks\":\"\"}}}],\"carpet\":[{\"aaxis\":{\"endlinecolor\":\"#2a3f5f\",\"gridcolor\":\"white\",\"linecolor\":\"white\",\"minorgridcolor\":\"white\",\"startlinecolor\":\"#2a3f5f\"},\"baxis\":{\"endlinecolor\":\"#2a3f5f\",\"gridcolor\":\"white\",\"linecolor\":\"white\",\"minorgridcolor\":\"white\",\"startlinecolor\":\"#2a3f5f\"},\"type\":\"carpet\"}],\"table\":[{\"cells\":{\"fill\":{\"color\":\"#EBF0F8\"},\"line\":{\"color\":\"white\"}},\"header\":{\"fill\":{\"color\":\"#C8D4E3\"},\"line\":{\"color\":\"white\"}},\"type\":\"table\"}],\"barpolar\":[{\"marker\":{\"line\":{\"color\":\"#E5ECF6\",\"width\":0.5},\"pattern\":{\"fillmode\":\"overlay\",\"size\":10,\"solidity\":0.2}},\"type\":\"barpolar\"}],\"pie\":[{\"automargin\":true,\"type\":\"pie\"}]},\"layout\":{\"autotypenumbers\":\"strict\",\"colorway\":[\"#636efa\",\"#EF553B\",\"#00cc96\",\"#ab63fa\",\"#FFA15A\",\"#19d3f3\",\"#FF6692\",\"#B6E880\",\"#FF97FF\",\"#FECB52\"],\"font\":{\"color\":\"#2a3f5f\"},\"hovermode\":\"closest\",\"hoverlabel\":{\"align\":\"left\"},\"paper_bgcolor\":\"white\",\"plot_bgcolor\":\"#E5ECF6\",\"polar\":{\"bgcolor\":\"#E5ECF6\",\"angularaxis\":{\"gridcolor\":\"white\",\"linecolor\":\"white\",\"ticks\":\"\"},\"radialaxis\":{\"gridcolor\":\"white\",\"linecolor\":\"white\",\"ticks\":\"\"}},\"ternary\":{\"bgcolor\":\"#E5ECF6\",\"aaxis\":{\"gridcolor\":\"white\",\"linecolor\":\"white\",\"ticks\":\"\"},\"baxis\":{\"gridcolor\":\"white\",\"linecolor\":\"white\",\"ticks\":\"\"},\"caxis\":{\"gridcolor\":\"white\",\"linecolor\":\"white\",\"ticks\":\"\"}},\"coloraxis\":{\"colorbar\":{\"outlinewidth\":0,\"ticks\":\"\"}},\"colorscale\":{\"sequential\":[[0.0,\"#0d0887\"],[0.1111111111111111,\"#46039f\"],[0.2222222222222222,\"#7201a8\"],[0.3333333333333333,\"#9c179e\"],[0.4444444444444444,\"#bd3786\"],[0.5555555555555556,\"#d8576b\"],[0.6666666666666666,\"#ed7953\"],[0.7777777777777778,\"#fb9f3a\"],[0.8888888888888888,\"#fdca26\"],[1.0,\"#f0f921\"]],\"sequentialminus\":[[0.0,\"#0d0887\"],[0.1111111111111111,\"#46039f\"],[0.2222222222222222,\"#7201a8\"],[0.3333333333333333,\"#9c179e\"],[0.4444444444444444,\"#bd3786\"],[0.5555555555555556,\"#d8576b\"],[0.6666666666666666,\"#ed7953\"],[0.7777777777777778,\"#fb9f3a\"],[0.8888888888888888,\"#fdca26\"],[1.0,\"#f0f921\"]],\"diverging\":[[0,\"#8e0152\"],[0.1,\"#c51b7d\"],[0.2,\"#de77ae\"],[0.3,\"#f1b6da\"],[0.4,\"#fde0ef\"],[0.5,\"#f7f7f7\"],[0.6,\"#e6f5d0\"],[0.7,\"#b8e186\"],[0.8,\"#7fbc41\"],[0.9,\"#4d9221\"],[1,\"#276419\"]]},\"xaxis\":{\"gridcolor\":\"white\",\"linecolor\":\"white\",\"ticks\":\"\",\"title\":{\"standoff\":15},\"zerolinecolor\":\"white\",\"automargin\":true,\"zerolinewidth\":2},\"yaxis\":{\"gridcolor\":\"white\",\"linecolor\":\"white\",\"ticks\":\"\",\"title\":{\"standoff\":15},\"zerolinecolor\":\"white\",\"automargin\":true,\"zerolinewidth\":2},\"scene\":{\"xaxis\":{\"backgroundcolor\":\"#E5ECF6\",\"gridcolor\":\"white\",\"linecolor\":\"white\",\"showbackground\":true,\"ticks\":\"\",\"zerolinecolor\":\"white\",\"gridwidth\":2},\"yaxis\":{\"backgroundcolor\":\"#E5ECF6\",\"gridcolor\":\"white\",\"linecolor\":\"white\",\"showbackground\":true,\"ticks\":\"\",\"zerolinecolor\":\"white\",\"gridwidth\":2},\"zaxis\":{\"backgroundcolor\":\"#E5ECF6\",\"gridcolor\":\"white\",\"linecolor\":\"white\",\"showbackground\":true,\"ticks\":\"\",\"zerolinecolor\":\"white\",\"gridwidth\":2}},\"shapedefaults\":{\"line\":{\"color\":\"#2a3f5f\"}},\"annotationdefaults\":{\"arrowcolor\":\"#2a3f5f\",\"arrowhead\":0,\"arrowwidth\":1},\"geo\":{\"bgcolor\":\"white\",\"landcolor\":\"#E5ECF6\",\"subunitcolor\":\"white\",\"showland\":true,\"showlakes\":true,\"lakecolor\":\"white\"},\"title\":{\"x\":0.05},\"mapbox\":{\"style\":\"light\"}}},\"legend\":{\"tracegroupgap\":0},\"margin\":{\"t\":60},\"title\":{\"text\":\"\\u793e\\u533a\\u8d21\\u732e\\u8005\\u4eba\\u6570\\u6bd4\\u4f8b\",\"y\":0.95,\"x\":0.49,\"xanchor\":\"center\",\"yanchor\":\"top\"}},                        {\"responsive\": true}                    ).then(function(){\n",
       "                            \n",
       "var gd = document.getElementById('4ca16554-2da9-4f28-8fb5-e326123d252c');\n",
       "var x = new MutationObserver(function (mutations, observer) {{\n",
       "        var display = window.getComputedStyle(gd).display;\n",
       "        if (!display || display === 'none') {{\n",
       "            console.log([gd, 'removed!']);\n",
       "            Plotly.purge(gd);\n",
       "            observer.disconnect();\n",
       "        }}\n",
       "}});\n",
       "\n",
       "// Listen for the removal of the full notebook cells\n",
       "var notebookContainer = gd.closest('#notebook-container');\n",
       "if (notebookContainer) {{\n",
       "    x.observe(notebookContainer, {childList: true});\n",
       "}}\n",
       "\n",
       "// Listen for the clearing of the current output cell\n",
       "var outputEl = gd.closest('.output');\n",
       "if (outputEl) {{\n",
       "    x.observe(outputEl, {childList: true});\n",
       "}}\n",
       "\n",
       "                        })                };                });            </script>        </div>"
      ]
     },
     "metadata": {},
     "output_type": "display_data"
    }
   ],
   "source": [
    "df = _clickhouse.queryDataframe(\n",
    "    '''\n",
    "    SELECT repo_id, COUNT(DISTINCT(arrayJoin(push_commits.name))) AS contributor_count \n",
    "    FROM events\n",
    "    GROUP BY repo_id\n",
    "    ORDER BY contributor_count\n",
    "    DESC\n",
    "    '''\n",
    ")\n",
    "repo_names = list(map(lambda x: repo_id_name.get(str(x)), df.get('repo_id')))\n",
    "df['community'] = repo_names\n",
    "df = df.dropna()\n",
    "df.to_csv('contributor_all.csv')\n",
    "fig = px.pie(df, names= \"community\",values=\"contributor_count\")\n",
    "fig.update_layout(\n",
    "    title={   \n",
    "        \"text\":\"社区贡献者人数比例\",\n",
    "        \"y\":0.95,\n",
    "        \"x\":0.49,\n",
    "        \"xanchor\":\"center\",\n",
    "        \"yanchor\":\"top\"\n",
    "    }\n",
    ")\n",
    "fig.show()"
   ]
  },
  {
   "cell_type": "markdown",
   "metadata": {},
   "source": [
    "### 每年各个社区 Star & Fork 数量对比"
   ]
  },
  {
   "cell_type": "code",
   "execution_count": 31,
   "metadata": {
    "vscode": {
     "languageId": "python"
    }
   },
   "outputs": [],
   "source": [
    "df = _clickhouse.queryDataframe(\n",
    "    '''\n",
    "    SELECT repo_id,SUM(CASE WHEN type = 'WatchEvent' THEN 1 ELSE 0 END) AS stars, SUM(CASE WHEN type = 'ForkEvent' THEN 1 ELSE 0 END) AS forks, formatDateTime(created_at, '%Y') AS year\n",
    "    FROM events \n",
    "    WHERE type = 'WatchEvent' OR type = 'ForkEvent'\n",
    "    GROUP BY repo_id, year\n",
    "    ORDER BY  year,stars,forks \n",
    "    DESC\n",
    "    '''\n",
    ")\n",
    "repo_names = list(map(lambda x: repo_id_name.get(str(x)),df.get('repo_id')))\n",
    "repo_names = list(map(lambda x: repo_id_name.get(str(x)), df.get('repo_id')))\n",
    "df['community'] = repo_names\n",
    "df = df.dropna()\n",
    "df.to_csv('star_and_fork.csv')"
   ]
  }
 ],
 "metadata": {
  "kernelspec": {
   "display_name": "Python 3 (ipykernel)",
   "language": "python",
   "name": "python3"
  },
  "language_info": {
   "codemirror_mode": {
    "name": "ipython",
    "version": 3
   },
   "file_extension": ".py",
   "mimetype": "text/x-python",
   "name": "python",
   "nbconvert_exporter": "python",
   "pygments_lexer": "ipython3",
   "version": "3.8.10"
  }
 },
 "nbformat": 4,
 "nbformat_minor": 4
}
