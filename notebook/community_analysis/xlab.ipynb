{
 "cells": [
  {
   "cell_type": "code",
   "execution_count": 1,
   "id": "710e0e3f-4bba-42e2-b863-6911294b01ea",
   "metadata": {},
   "outputs": [],
   "source": [
    "var openDigger = require('../../src/open_digger');\n",
    "var now = new Date();\n",
    "var res = now.setMonth(now.getMonth() - 1); // handle new year\n",
    "var startYear = 2022, startMonth = 1, endYear = now.getFullYear(), endMonth = now.getMonth() + 1;\n",
    "var forEveryMonth = f => {\n",
    "    var index = 0;\n",
    "    for (var y = startYear; y <= endYear; y++)\n",
    "        for (var m = (y === startYear ? startMonth : 1); m <= (y === endYear ? endMonth : 12); m++)\n",
    "            f(y, m, index++);\n",
    "};"
   ]
  },
  {
   "cell_type": "markdown",
   "id": "e879e7a8-87d8-48b8-89a1-bcc02793b306",
   "metadata": {},
   "source": [
    "# X-lab Community Analysis Report\n",
    "\n",
    "This notebook is used to track the members active and influence status in X-lab community.\n",
    "\n",
    "The result can be used for community measurement and incentive.\n",
    "\n",
    "The start date for this report is 2022-01-01 and the end date is up-to-date."
   ]
  },
  {
   "cell_type": "markdown",
   "id": "4776b302-9508-43f7-b636-03259e4d78d0",
   "metadata": {},
   "source": [
    "## Overview\n",
    "\n",
    "This part is the history OpenRank trending of all projects in X-lab community."
   ]
  },
  {
   "cell_type": "code",
   "execution_count": 2,
   "id": "c38d4170-fa00-43da-a800-51b4f5a4dd68",
   "metadata": {},
   "outputs": [
    {
     "name": "stdout",
     "output_type": "stream",
     "text": [
      "┌─────────┬─────────────┬─────────────────────────────────────┬─────────┬─────────┬─────────┬─────────┬─────────┬─────────┬─────────┬─────────┬─────────┬──────────┬──────────┬──────────┬─────────┬─────────┬─────────┬─────────┬─────────┬─────────┬─────────┬─────────┬─────────┐\n",
      "│ (index) │     id      │                name                 │ Y2022M1 │ Y2022M2 │ Y2022M3 │ Y2022M4 │ Y2022M5 │ Y2022M6 │ Y2022M7 │ Y2022M8 │ Y2022M9 │ Y2022M10 │ Y2022M11 │ Y2022M12 │ Y2023M1 │ Y2023M2 │ Y2023M3 │ Y2023M4 │ Y2023M5 │ Y2023M6 │ Y2023M7 │ Y2023M8 │ Y2023M9 │\n",
      "├─────────┼─────────────┼─────────────────────────────────────┼─────────┼─────────┼─────────┼─────────┼─────────┼─────────┼─────────┼─────────┼─────────┼──────────┼──────────┼──────────┼─────────┼─────────┼─────────┼─────────┼─────────┼─────────┼─────────┼─────────┼─────────┤\n",
      "│    0    │ '259035151' │     'hypertrons/hypertrons-crx'     │  3.09   │  3.11   │  3.54   │    3    │  2.93   │  5.85   │  6.49   │  4.93   │  5.55   │   10.2   │   12.1   │   7.37   │  5.22   │  4.39   │  10.61  │    9    │  8.52   │  6.44   │  6.36   │  8.54   │  10.87  │\n",
      "│    1    │ '288431943' │       'X-lab2017/open-digger'       │  3.52   │  3.55   │  4.49   │  2.69   │  2.88   │  5.59   │  6.47   │  6.01   │  7.16   │   9.32   │  11.82   │  15.16   │  15.38  │  32.22  │  16.17  │  13.55  │  13.42  │  10.05  │  10.56  │  9.83   │  8.59   │\n",
      "│    2    │ '470364208' │     'X-lab2017/open-wonderland'     │    0    │    0    │  0.88   │  1.53   │  1.64   │  1.51   │  4.36   │  5.05   │  4.06   │   1.53   │   2.86   │   3.46   │  2.45   │  2.18   │  5.14   │  5.81   │   3.5   │  2.46   │  7.16   │    5    │  5.32   │\n",
      "│    3    │ '461374162' │      'X-lab2017/open-research'      │    0    │    0    │  1.43   │  2.87   │  6.41   │  6.14   │  2.89   │  2.45   │  6.56   │   5.99   │   4.4    │   2.87   │  1.42   │  1.21   │  0.61   │   0.6   │  2.44   │  5.73   │  3.49   │   1.6   │  1.84   │\n",
      "│    4    │ '639923640' │     'X-lab2017/gi-assets-xlab'      │    0    │    0    │    0    │    0    │    0    │    0    │    0    │    0    │    0    │    0     │    0     │    0     │    0    │    0    │    0    │    0    │  0.63   │  2.71   │  2.71   │  2.31   │  0.99   │\n",
      "│    5    │ '508325123' │    'OpenEduTech/EduTechResearch'    │    0    │    0    │    0    │    0    │    0    │    0    │   0.7   │  0.61   │  2.62   │   3.07   │   4.62   │   3.2    │  2.72   │  2.32   │  1.93   │  1.64   │  1.39   │  1.97   │  1.67   │  1.42   │  0.85   │\n",
      "│    6    │ '572845686' │         'X-lab2017/od-api'          │    0    │    0    │    0    │    0    │    0    │    0    │    0    │    0    │    0    │    0     │    0     │   1.86   │   0.8   │  0.56   │  1.04   │   1.8   │  1.53   │   1.3   │   1.1   │  0.94   │   0.8   │\n",
      "│    7    │ '467768946' │        'X-lab2017/open-perf'        │    0    │    0    │  1.47   │  1.19   │   0.6   │  0.83   │  0.47   │  0.68   │  0.58   │   0.32   │   0.49   │   0.42   │  0.36   │   0.3   │  0.48   │  0.41   │  0.35   │  0.71   │  0.79   │  1.56   │  0.78   │\n",
      "│    8    │ '428629051' │       'X-lab2017/open-galaxy'       │  1.97   │  1.67   │  1.42   │  1.21   │  1.03   │  0.87   │  0.74   │  0.63   │  0.54   │   0.46   │   0.39   │   0.33   │  0.28   │  1.93   │  1.73   │  1.47   │  1.25   │  1.06   │   0.9   │  0.77   │  0.65   │\n",
      "│    9    │ '471252840' │    'X-lab2017/open-leaderboard'     │    0    │    0    │  0.83   │  1.04   │  0.47   │  1.75   │  1.54   │  1.31   │  1.11   │   0.88   │   0.43   │   0.37   │  0.31   │  3.07   │  2.36   │  1.67   │  2.19   │  2.53   │  3.01   │   1.4   │  0.57   │\n",
      "│   10    │ '221379769' │       'hypertrons/hypertrons'       │   0.3   │  0.26   │  0.13   │  0.61   │   0.5   │  0.42   │  0.36   │  0.34   │  0.29   │   0.25   │   0.21   │   0.26   │  0.31   │  0.26   │  0.22   │  1.24   │  1.06   │   0.9   │  0.76   │  0.65   │  0.55   │\n",
      "│   11    │ '533339106' │       'OpenEduTech/OpenEduKG'       │    0    │    0    │    0    │    0    │    0    │    0    │    0    │    0    │  2.47   │   1.87   │   1.39   │   1.18   │    1    │  0.85   │  0.73   │  0.62   │  0.52   │  0.45   │  0.38   │  0.32   │  0.27   │\n",
      "│   12    │ '358757145' │ 'hypertrons/hypertrons-crx-website' │  0.35   │  0.29   │  0.25   │  0.21   │  0.18   │  0.15   │  0.13   │  0.11   │  0.09   │   0.08   │   0.07   │   0.06   │  0.05   │  0.04   │  0.04   │  0.59   │   0.5   │  0.42   │  0.36   │  0.31   │  0.26   │\n",
      "│   13    │ '262909684' │   'X-lab2017/X-lab2017.github.io'   │  0.05   │  0.05   │  0.04   │  0.03   │  0.03   │  0.11   │  0.09   │  0.08   │  0.06   │   0.06   │   0.05   │   0.04   │  0.03   │  0.03   │  0.02   │  0.02   │  0.02   │  0.02   │  0.01   │  0.01   │  0.01   │\n",
      "└─────────┴─────────────┴─────────────────────────────────────┴─────────┴─────────┴─────────┴─────────┴─────────┴─────────┴─────────┴─────────┴─────────┴──────────┴──────────┴──────────┴─────────┴─────────┴─────────┴─────────┴─────────┴─────────┴─────────┴─────────┴─────────┘\n"
     ]
    },
    {
     "data": {
      "application/vnd.plotly.v1+json": {
       "data": [
        {
         "name": "OpenRank",
         "type": "scatter",
         "x": [
          "Y2022M1",
          "Y2022M2",
          "Y2022M3",
          "Y2022M4",
          "Y2022M5",
          "Y2022M6",
          "Y2022M7",
          "Y2022M8",
          "Y2022M9",
          "Y2022M10",
          "Y2022M11",
          "Y2022M12",
          "Y2023M1",
          "Y2023M2",
          "Y2023M3",
          "Y2023M4",
          "Y2023M5",
          "Y2023M6",
          "Y2023M7",
          "Y2023M8",
          "Y2023M9"
         ],
         "y": [
          9.280000000000001,
          8.93,
          14.480000000000002,
          14.379999999999997,
          16.67,
          23.22,
          24.239999999999995,
          22.199999999999992,
          31.089999999999993,
          34.029999999999994,
          38.83,
          36.58,
          30.33,
          49.36,
          41.07999999999999,
          38.42,
          37.32000000000001,
          36.750000000000014,
          39.26,
          34.66,
          32.35
         ]
        },
        {
         "name": "Growth",
         "type": "bar",
         "x": [
          "Y2022M1",
          "Y2022M2",
          "Y2022M3",
          "Y2022M4",
          "Y2022M5",
          "Y2022M6",
          "Y2022M7",
          "Y2022M8",
          "Y2022M9",
          "Y2022M10",
          "Y2022M11",
          "Y2022M12",
          "Y2023M1",
          "Y2023M2",
          "Y2023M3",
          "Y2023M4",
          "Y2023M5",
          "Y2023M6",
          "Y2023M7",
          "Y2023M8",
          "Y2023M9"
         ],
         "y": [
          0,
          -3,
          63,
          0,
          16,
          40,
          5,
          -8,
          41,
          10,
          15,
          -5,
          -17,
          63,
          -16,
          -6,
          -2,
          -1,
          7,
          -11,
          -6
         ],
         "yaxis": "y2"
        }
       ],
       "layout": {
        "autosize": true,
        "title": {
         "text": "X-lab OpenRank trending"
        },
        "xaxis": {
         "autorange": true,
         "range": [
          -0.5,
          20.5
         ],
         "type": "category"
        },
        "yaxis": {
         "autorange": true,
         "range": [
          6.683888888888889,
          51.60611111111111
         ],
         "type": "linear"
        },
        "yaxis2": {
         "autorange": true,
         "overlaying": "y",
         "range": [
          -21.444444444444443,
          67.44444444444444
         ],
         "side": "right",
         "type": "linear"
        }
       }
      },
      "image/png": "[encoded data removed]"
     },
     "execution_count": 2,
     "metadata": {},
     "output_type": "execute_result"
    },
    {
     "name": "stdout",
     "output_type": "stream",
     "text": [
      "2022.7 based growth: 0.38,0.37,0.60,0.59,0.69,0.96,1.00,0.92,1.28,1.40,1.60,1.51,1.25,2.04,1.69,1.58,1.54,1.52,1.62,1.43,1.33\n"
     ]
    }
   ],
   "source": [
    "openDigger.index.openrank.getRepoOpenrank({\n",
    "    repoIds: [288431943, 470364208, 467768946, 461374162, 471252840, 477937218, 428629051, 262909684, 221379769, 259035151, 358757145, 502755745, 508325123, 533339106, 572845686, 639923640 ],\n",
    "    startYear, startMonth,\n",
    "    endYear, endMonth, percision: 2,\n",
    "    groupTimeRange: 'month', limit: -1, order: 'DESC',\n",
    "}).then(data => {\n",
    "    var x = [], v = [], g = []; g.push(0);\n",
    "    forEveryMonth((y, m, index) => {\n",
    "        var key = `Y${y}M${m}`;\n",
    "        x.push(key); v.push(0);\n",
    "        data.forEach(row => { v[index] += (row.openrank[index] ? row.openrank[index] : 0); row[key] = row.openrank[index] ? row.openrank[index] : 0; });\n",
    "        if (index > 0) g.push(Math.ceil((v[index]-v[index-1])*100/v[index-1]));\n",
    "    });\n",
    "    data.forEach(row => { delete row.openrank; delete row.org; });\n",
    "    console.table(data);\n",
    "    openDigger.render.plotly([\n",
    "        { x, y: v, type: 'scatter', name: 'OpenRank' },\n",
    "        { x, y: g, type: 'bar', yaxis: 'y2', name: 'Growth'}\n",
    "    ], {\n",
    "        title: 'X-lab OpenRank trending',\n",
    "        yaxis2: { overlaying: 'y', side: 'right' }\n",
    "    });\n",
    "    console.log(`2022.7 based growth: ${v.map(i => (i/v[6]).toFixed(2))}`);\n",
    "    fs.writeFileSync('all_data.json', JSON.stringify(data));\n",
    "});"
   ]
  },
  {
   "cell_type": "markdown",
   "id": "220519b1-c3c0-4b15-b82d-2e6c15670c89",
   "metadata": {},
   "source": [
    "## OpenRank Distribution\n",
    "\n",
    "The OpenRank distribution for certain month is calculated by every repo with OpenRank in this month and all the developers' OpenRank in these repos in this month.\n",
    "\n",
    "The algorithm means:\n",
    "\n",
    "- If you contribute to a high OpenRank repo, your final OpenRank may higher.\n",
    "- If you contribute more in any repo, your final OpenRank may higher.\n",
    "- If you have a high OpenRank in a certain repo, make the repo's OpenRank higher, your OpenRank will be higher.\n",
    "\n",
    "So please contribute more and contribute to the important repos, or make your own repo important."
   ]
  },
  {
   "cell_type": "code",
   "execution_count": 3,
   "id": "b288f2fd-d2e5-4d41-ae2f-5c953c9fbfec",
   "metadata": {},
   "outputs": [],
   "source": [
    "var calculateOpenRankDistribution = (y, m, base) => {\n",
    "    var actors = openDigger.label.getGitHubData([':communities/xlab']).githubUsers;\n",
    "    var key = `Y${y}M${m}`;\n",
    "    var repos = JSON.parse(fs.readFileSync('all_data.json').toString()).filter(row => row[key] > 0);\n",
    "    var actorOpenrankMap = new Map();\n",
    "    var actorLoginMap = new Map();\n",
    "    var repoArr = [];\n",
    "    var nextMonth = new Date(`${y}-${m}-1`);\n",
    "    nextMonth.setMonth(nextMonth.getMonth() + 1);\n",
    "    actors.forEach(id => actorOpenrankMap.set(id, 0));\n",
    "    Promise.all(repos.map(r => {\n",
    "        return new Promise(resolve => {\n",
    "            var sql = `MATCH (u:User)\n",
    "            WHERE apoc.any.property(u, 'open_rank_${r.id}_${y}${m}') > 0\n",
    "            AND EXISTS { MATCH (u)-[a:ACTION]->()-[:BELONG]->(r:Repo{id:${r.id}}) WHERE datetime({year:${nextMonth.getFullYear()},month:${nextMonth.getMonth() + 1}})>datetime(a.time)>=datetime({year:${y},month:${m}}) }\n",
    "            RETURN u.id AS id, u.login AS login, apoc.any.property(u, 'open_rank_${r.id}_${y}${m}') AS openrank`;\n",
    "            openDigger.driver.neo4j.query(sql).then(data => {\n",
    "                var total = 0;\n",
    "                var devs = [];\n",
    "                data.forEach(item => total += item.openrank);\n",
    "                data.filter(item => actors.includes(item.id)).forEach(item => {\n",
    "                    actorLoginMap.set(item.id, item.login);\n",
    "                    var openrank = item.openrank / total;\n",
    "                    actorOpenrankMap.set(item.id, actorOpenrankMap.get(item.id) + r[key] * openrank);\n",
    "                    devs.push({login: item.login, openrank });\n",
    "                });\n",
    "                if (devs.length > 0)\n",
    "                    repoArr.push({ name: r.name, openrank: r[key], devsOrigin: devs, devs: devs.sort((a, b) => b.openrank - a.openrank).map(i => `${i.login}(${(i.openrank*100).toFixed(2)}%)`).join(',')});\n",
    "                resolve();\n",
    "            });\n",
    "        });\n",
    "    })).then(() => {\n",
    "        var arr = [];\n",
    "        var total = 0;\n",
    "        for (var [ id, openrank ] of actorOpenrankMap.entries()) {\n",
    "            arr.push({login: actorLoginMap.get(id), openrank});\n",
    "            total += openrank;\n",
    "        }\n",
    "        repoArr.sort((a,b) => b.openrank - a.openrank).forEach(r => console.log(r.name, r.openrank, r.devs));\n",
    "        console.table(arr.map(i => { return { ...i, ratio: (i.openrank*100/total).toFixed(2) + '%', final: Math.round(i.openrank * base / total) } }).filter(i => i.login).sort((a, b) => b.openrank - a.openrank));\n",
    "        var detail = {};\n",
    "        if (fs.existsSync('./detail.json')) detail = JSON.parse(fs.readFileSync('./detail.json').toString());\n",
    "        detail[`${y}-${m}`] = {\n",
    "            period: (y === 2022) ? (m - 5) : ((y - 2022 - 1) * 12 + 7 + m),\n",
    "            reward: base,\n",
    "            total: arr.filter(i => i.login).sort((a, b) => b.openrank - a.openrank),\n",
    "            detail: repoArr.map(r => { return { name: r.name, openrank: r.openrank, actors: r.devsOrigin }; }),\n",
    "        }\n",
    "        fs.writeFileSync('./detail.json', JSON.stringify(detail));\n",
    "    });\n",
    "};"
   ]
  },
  {
   "cell_type": "markdown",
   "id": "4c99f229-f765-4802-abd0-075d312a6992",
   "metadata": {},
   "source": [
    "## The OpenRank distibution"
   ]
  },
  {
   "cell_type": "code",
   "execution_count": 10,
   "id": "ae5a1288-e502-4d26-8a0b-0fc4eb76a729",
   "metadata": {},
   "outputs": [
    {
     "name": "stdout",
     "output_type": "stream",
     "text": [
      "X-lab2017/open-research 7.83 will-ww(39.16%),birdflyi(19.43%),xiaoya-yaya(9.53%),frank-zsy(6.17%),JingbenShi668(5.44%),zhuxiangning(4.55%),bifenglin(4.50%),kongzhongsanbu(2.96%),wengzhenjie(2.41%),AliceCodeZhang(2.31%),tyn1998(1.63%),gymgym1212(0.81%),longyanz(0.48%)\n",
      "X-lab2017/open-digger 7.67 frank-zsy(57.13%),xiaoya-yaya(11.64%),Best-Eminem(3.05%),xgdyp(1.04%),gymgym1212(0.82%),bifenglin(0.43%),tyn1998(0.38%),birdflyi(0.15%),zhicheng-ning(0.15%),chunchill(0.15%),soobun(0.15%),wangleo61(0.15%),kongzhongsanbu(0.07%),wengzhenjie(0.07%)\n",
      "hypertrons/hypertrons-crx 7.65 tyn1998(57.31%),wxharry(7.73%),zhicheng-ning(4.64%),xgdyp(2.66%),frank-zsy(2.29%),will-ww(0.46%)\n",
      "X-lab2017/open-leaderboard 2.19 gymgym1212(80.05%),will-ww(11.34%),tyn1998(3.28%),frank-zsy(1.47%)\n",
      "X-lab2017/open-wonderland 1.85 will-ww(37.44%),xiaoya-yaya(24.11%),xgdyp(11.21%),soobun(8.82%),tyn1998(6.82%),gymgym1212(5.68%),zhicheng-ning(3.08%),zhuxiangning(2.84%)\n",
      "X-lab2017/open-perf 0.93 bifenglin(53.66%),will-ww(34.27%),frank-zsy(12.07%)\n",
      "X-lab2017/X-lab2017.github.io 0.36 will-ww(100.00%)\n",
      "┌─────────┬──────────────────┬─────────────────────┬──────────┬───────┐\n",
      "│ (index) │      login       │      openrank       │  ratio   │ final │\n",
      "├─────────┼──────────────────┼─────────────────────┼──────────┼───────┤\n",
      "│    0    │   'frank-zsy'    │  5.183922709599158  │ '21.11%' │ 2111  │\n",
      "│    1    │    'tyn1998'     │  4.739585013415567  │ '19.30%' │ 1930  │\n",
      "│    2    │    'will-ww'     │  4.72148854483098   │ '19.23%' │ 1923  │\n",
      "│    3    │  'xiaoya-yaya'   │ 2.0844866158818105  │ '8.49%'  │  849  │\n",
      "│    4    │   'gymgym1212'   │ 1.9848130457504525  │ '8.08%'  │  808  │\n",
      "│    5    │    'birdflyi'    │ 1.5323710465234295  │ '6.24%'  │  624  │\n",
      "│    6    │   'bifenglin'    │ 0.8846138642650992  │ '3.60%'  │  360  │\n",
      "│    7    │    'wxharry'     │ 0.5914257637479682  │ '2.41%'  │  241  │\n",
      "│    8    │     'xgdyp'      │ 0.49066578501965025 │ '2.00%'  │  200  │\n",
      "│    9    │ 'JingbenShi668'  │ 0.42564989080154725 │ '1.73%'  │  173  │\n",
      "│   10    │ 'zhicheng-ning'  │ 0.42333294094365165 │ '1.72%'  │  172  │\n",
      "│   11    │  'zhuxiangning'  │ 0.4087575367344145  │ '1.66%'  │  166  │\n",
      "│   12    │ 'kongzhongsanbu' │ 0.23737239254067619 │ '0.97%'  │  97   │\n",
      "│   13    │  'Best-Eminem'   │ 0.23355689545248304 │ '0.95%'  │  95   │\n",
      "│   14    │  'wengzhenjie'   │ 0.19363511969378897 │ '0.79%'  │  79   │\n",
      "│   15    │ 'AliceCodeZhang' │ 0.18104893326050875 │ '0.74%'  │  74   │\n",
      "│   16    │     'soobun'     │ 0.17442482158643294 │ '0.71%'  │  71   │\n",
      "│   17    │    'longyanz'    │ 0.03775814276836733 │ '0.15%'  │  15   │\n",
      "│   18    │   'wangleo61'    │ 0.0113297294607186  │ '0.05%'  │   5   │\n",
      "│   19    │   'chunchill'    │ 0.0113297294607186  │ '0.05%'  │   5   │\n",
      "└─────────┴──────────────────┴─────────────────────┴──────────┴───────┘\n"
     ]
    }
   ],
   "source": [
    "calculateOpenRankDistribution(2022, 6, 10000);"
   ]
  },
  {
   "cell_type": "code",
   "execution_count": 11,
   "id": "c2a24299-e25d-423e-a2b1-dd2011ae2cd8",
   "metadata": {},
   "outputs": [
    {
     "name": "stdout",
     "output_type": "stream",
     "text": [
      "X-lab2017/open-digger 9.17 frank-zsy(51.79%),yoyo-wu98(8.70%),longyanz(5.88%),xiaoya-yaya(3.38%),Best-Eminem(2.15%),xgdyp(1.12%),zhuxiangning(0.97%),zhicheng-ning(0.23%)\n",
      "hypertrons/hypertrons-crx 8.18 tyn1998(66.22%),wxharry(9.50%),xgdyp(4.10%),zhicheng-ning(3.18%),frank-zsy(2.07%),will-ww(0.89%)\n",
      "X-lab2017/open-wonderland 5.46 will-ww(54.17%),bifenglin(14.15%),xiaoya-yaya(12.44%),TieWay59(3.72%),xgdyp(2.21%),wangleo61(2.10%),frank-zsy(1.58%),kongzhongsanbu(1.24%),tyn1998(1.24%),birdflyi(1.03%),yoyo-wu98(1.03%),longyanz(0.94%),zhicheng-ning(0.84%),gymgym1212(0.82%),JingbenShi668(0.73%)\n",
      "X-lab2017/open-research 3.71 will-ww(48.61%),bifenglin(24.31%),yoyo-wu98(8.22%),xgdyp(2.16%)\n",
      "X-lab2017/open-leaderboard 1.97 gymgym1212(68.75%),will-ww(31.25%)\n",
      "OpenEduTech/EduTechResearch 0.7 soobun(59.28%),will-ww(30.36%),AliceCodeZhang(10.36%)\n",
      "X-lab2017/open-perf 0.48 bifenglin(64.67%),will-ww(35.33%)\n",
      "┌─────────┬──────────────────┬──────────────────────┬──────────┬───────┐\n",
      "│ (index) │      login       │       openrank       │  ratio   │ final │\n",
      "├─────────┼──────────────────┼──────────────────────┼──────────┼───────┤\n",
      "│    0    │    'will-ww'     │  5.8316123920234375  │ '22.92%' │ 2292  │\n",
      "│    1    │    'tyn1998'     │  5.484358204406453   │ '21.55%' │ 2155  │\n",
      "│    2    │   'frank-zsy'    │  5.005160538106951   │ '19.67%' │ 1967  │\n",
      "│    3    │   'bifenglin'    │  1.985015390887443   │ '7.80%'  │  780  │\n",
      "│    4    │   'gymgym1212'   │  1.3991615681953897  │ '5.50%'  │  550  │\n",
      "│    5    │   'yoyo-wu98'    │  1.1590928655695252  │ '4.56%'  │  456  │\n",
      "│    6    │  'xiaoya-yaya'   │  0.9894217049373486  │ '3.89%'  │  389  │\n",
      "│    7    │    'wxharry'     │  0.7771478802416969  │ '3.05%'  │  305  │\n",
      "│    8    │     'xgdyp'      │  0.6387628745617916  │ '2.51%'  │  251  │\n",
      "│    9    │    'longyanz'    │  0.5906564879603201  │ '2.32%'  │  232  │\n",
      "│   10    │     'soobun'     │  0.4149571519532799  │ '1.63%'  │  163  │\n",
      "│   11    │ 'zhicheng-ning'  │  0.3272238812487138  │ '1.29%'  │  129  │\n",
      "│   12    │    'TieWay59'    │ 0.20331099013140763  │ '0.80%'  │  80   │\n",
      "│   13    │  'Best-Eminem'   │ 0.19698328472323537  │ '0.77%'  │  77   │\n",
      "│   14    │   'wangleo61'    │ 0.11486316512251663  │ '0.45%'  │  45   │\n",
      "│   15    │  'zhuxiangning'  │ 0.08911374508603795  │ '0.35%'  │  35   │\n",
      "│   16    │ 'AliceCodeZhang' │ 0.07252144577142913  │ '0.29%'  │  29   │\n",
      "│   17    │ 'kongzhongsanbu' │  0.0679543438046433  │ '0.27%'  │  27   │\n",
      "│   18    │    'birdflyi'    │ 0.05636856389302188  │ '0.22%'  │  22   │\n",
      "│   19    │ 'JingbenShi668'  │ 0.039926289357797705 │ '0.16%'  │  16   │\n",
      "└─────────┴──────────────────┴──────────────────────┴──────────┴───────┘\n"
     ]
    }
   ],
   "source": [
    "calculateOpenRankDistribution(2022, 7, 10000);"
   ]
  },
  {
   "cell_type": "code",
   "execution_count": 12,
   "id": "efaa0884-0175-41fc-8f32-2514cc54c466",
   "metadata": {},
   "outputs": [
    {
     "name": "stdout",
     "output_type": "stream",
     "text": [
      "X-lab2017/open-digger 8.53 frank-zsy(44.66%),Best-Eminem(13.02%),xiaoya-yaya(6.78%),longyanz(6.52%),PureNatural(3.70%)\n",
      "X-lab2017/open-wonderland 6.82 xiaoya-yaya(26.28%),will-ww(23.78%),bifenglin(10.70%),wangleo61(9.91%),birdflyi(6.23%),tyn1998(4.82%),zhicheng-ning(4.78%),xgdyp(3.89%),TieWay59(3.31%)\n",
      "hypertrons/hypertrons-crx 6.19 tyn1998(36.80%),wxharry(20.17%),frank-zsy(6.80%)\n",
      "X-lab2017/open-research 3.16 will-ww(100.00%)\n",
      "X-lab2017/open-perf 0.71 will-ww(67.09%),bifenglin(32.91%)\n",
      "OpenEduTech/EduTechResearch 0.61 AliceCodeZhang(100.00%)\n",
      "┌─────────┬──────────────────┬─────────────────────┬──────────┬───────┐\n",
      "│ (index) │      login       │      openrank       │  ratio   │ final │\n",
      "├─────────┼──────────────────┼─────────────────────┼──────────┼───────┤\n",
      "│    0    │    'will-ww'     │  5.258053762396429  │ '24.82%' │ 2482  │\n",
      "│    1    │   'frank-zsy'    │  4.230722231006283  │ '19.97%' │ 1997  │\n",
      "│    2    │    'tyn1998'     │ 2.6068227349811006  │ '12.30%' │ 1230  │\n",
      "│    3    │  'xiaoya-yaya'   │  2.369927311199607  │ '11.19%' │ 1119  │\n",
      "│    4    │    'wxharry'     │ 1.2487951821733556  │ '5.89%'  │  589  │\n",
      "│    5    │  'Best-Eminem'   │  1.110273019053647  │ '5.24%'  │  524  │\n",
      "│    6    │   'bifenglin'    │ 0.9631299703923463  │ '4.55%'  │  455  │\n",
      "│    7    │   'wangleo61'    │ 0.6759877182827808  │ '3.19%'  │  319  │\n",
      "│    8    │ 'AliceCodeZhang' │        0.61         │ '2.88%'  │  288  │\n",
      "│    9    │    'longyanz'    │ 0.5560558974737283  │ '2.62%'  │  262  │\n",
      "│   10    │    'birdflyi'    │ 0.4247558577830366  │ '2.00%'  │  200  │\n",
      "│   11    │ 'zhicheng-ning'  │ 0.3259187384133923  │ '1.54%'  │  154  │\n",
      "│   12    │  'PureNatural'   │ 0.3153993714783857  │ '1.49%'  │  149  │\n",
      "│   13    │     'xgdyp'      │ 0.2655869089776759  │ '1.25%'  │  125  │\n",
      "│   14    │    'TieWay59'    │ 0.22573236631908478 │ '1.07%'  │  107  │\n",
      "└─────────┴──────────────────┴─────────────────────┴──────────┴───────┘\n"
     ]
    }
   ],
   "source": [
    "calculateOpenRankDistribution(2022, 8, 10000);"
   ]
  },
  {
   "cell_type": "code",
   "execution_count": 13,
   "id": "9c32f763-b2c8-4366-a01c-0dc91bc7a694",
   "metadata": {},
   "outputs": [
    {
     "name": "stdout",
     "output_type": "stream",
     "text": [
      "X-lab2017/open-digger 9.96 frank-zsy(40.44%),xgdyp(10.33%),Best-Eminem(7.94%),zhicheng-ning(5.26%),PureNatural(1.44%),will-ww(0.49%),wxharry(0.32%),AliceCodeZhang(0.32%),tvbboy(0.32%),tyn1998(0.28%),JingbenShi668(0.21%)\n",
      "X-lab2017/open-research 8.01 xiaoya-yaya(25.39%),will-ww(22.37%),frank-zsy(17.68%),birdflyi(7.59%),bifenglin(5.33%),xgdyp(5.27%),zhicheng-ning(2.86%),yoyo-wu98(1.58%),wengzhenjie(1.28%),springyulu(0.94%),wj23027(0.94%),lhbvvvvv(0.94%),andyhuang18(0.94%),gymgym1212(0.69%),longyanz(0.56%)\n",
      "hypertrons/hypertrons-crx 6.95 tyn1998(32.21%),wxharry(23.63%),frank-zsy(3.23%),zhicheng-ning(1.87%)\n",
      "X-lab2017/open-wonderland 5.18 will-ww(53.61%),bifenglin(25.38%),tyn1998(10.83%),xgdyp(10.18%)\n",
      "OpenEduTech/EduTechResearch 3.17 AliceCodeZhang(53.62%),will-ww(12.56%),lijinlus(7.52%),foursevenlove(5.63%),springyulu(1.84%),wj23027(1.84%)\n",
      "OpenEduTech/OpenEduKG 2.5 will-ww(24.13%),blackburnnnn(17.66%),tvbboy(17.30%),AliceCodeZhang(1.88%)\n",
      "┌─────────┬──────────────────┬──────────────────────┬──────────┬───────┐\n",
      "│ (index) │      login       │       openrank       │  ratio   │ final │\n",
      "├─────────┼──────────────────┼──────────────────────┼──────────┼───────┤\n",
      "│    0    │   'frank-zsy'    │  5.667808603124174   │ '20.36%' │ 2504  │\n",
      "│    1    │    'will-ww'     │   5.61892177018453   │ '20.19%' │ 2483  │\n",
      "│    2    │    'tyn1998'     │  2.828435580766894   │ '10.16%' │ 1250  │\n",
      "│    3    │  'xiaoya-yaya'   │  2.033871549651967   │ '7.31%'  │  899  │\n",
      "│    4    │     'xgdyp'      │  1.9788489437251013  │ '7.11%'  │  874  │\n",
      "│    5    │ 'AliceCodeZhang' │  1.7786070720074139  │ '6.39%'  │  786  │\n",
      "│    6    │   'bifenglin'    │  1.7412826947769315  │ '6.26%'  │  769  │\n",
      "│    7    │    'wxharry'     │  1.6742627585929901  │ '6.01%'  │  740  │\n",
      "│    8    │ 'zhicheng-ning'  │   0.88269806743348   │ '3.17%'  │  390  │\n",
      "│    9    │  'Best-Eminem'   │  0.7906435464893632  │ '2.84%'  │  349  │\n",
      "│   10    │    'birdflyi'    │  0.6077162979003139  │ '2.18%'  │  269  │\n",
      "│   11    │     'tvbboy'     │  0.4642164226629942  │ '1.67%'  │  205  │\n",
      "│   12    │  'blackburnnnn'  │  0.4414301350408517  │ '1.59%'  │  195  │\n",
      "│   13    │    'lijinlus'    │ 0.23849970781530783  │ '0.86%'  │  105  │\n",
      "│   14    │ 'foursevenlove'  │ 0.17862750047112702  │ '0.64%'  │  79   │\n",
      "│   15    │  'PureNatural'   │ 0.14302385827291353  │ '0.51%'  │  63   │\n",
      "│   16    │    'wj23027'     │  0.1336099093860583  │ '0.48%'  │  59   │\n",
      "│   17    │   'springyulu'   │  0.1336099093860583  │ '0.48%'  │  59   │\n",
      "│   18    │   'yoyo-wu98'    │ 0.12615789547797238  │ '0.45%'  │  56   │\n",
      "│   19    │  'wengzhenjie'   │ 0.10238411507323346  │ '0.37%'  │  45   │\n",
      "│   20    │  'andyhuang18'   │ 0.07535898850716928  │ '0.27%'  │  33   │\n",
      "│   21    │    'lhbvvvvv'    │ 0.07535898850716928  │ '0.27%'  │  33   │\n",
      "│   22    │   'gymgym1212'   │  0.054955116490918   │ '0.20%'  │  24   │\n",
      "│   23    │    'longyanz'    │ 0.04520307899060463  │ '0.16%'  │  20   │\n",
      "│   24    │ 'JingbenShi668'  │ 0.020498083144149606 │ '0.07%'  │   9   │\n",
      "└─────────┴──────────────────┴──────────────────────┴──────────┴───────┘\n"
     ]
    }
   ],
   "source": [
    "calculateOpenRankDistribution(2022, 9, 12300);"
   ]
  },
  {
   "cell_type": "code",
   "execution_count": 14,
   "id": "f3bc5b64-3fad-4621-9b11-ab9957073b3b",
   "metadata": {},
   "outputs": [
    {
     "name": "stdout",
     "output_type": "stream",
     "text": [
      "hypertrons/hypertrons-crx 13.01 tyn1998(31.99%),andyhuang18(12.00%),wxharry(9.83%),frank-zsy(6.24%),wj23027(5.16%),zhicheng-ning(4.39%),Zzzzzhuzhiwei(2.64%),xgdyp(1.56%),will-ww(0.31%)\n",
      "X-lab2017/open-digger 11.84 xgdyp(26.52%),frank-zsy(19.26%),zhicheng-ning(9.79%),yoyo-wu98(7.24%),will-ww(4.06%),lhbvvvvv(2.40%),tyn1998(1.14%),xiaoya-yaya(0.89%),bifenglin(0.69%),Zzzzzhuzhiwei(0.51%),foursevenlove(0.24%),lijinlus(0.24%),blackburnnnn(0.24%),betaberry(0.24%),19883235(0.24%),Kx-Chen-99(0.24%)\n",
      "X-lab2017/open-research 7.69 xiaoya-yaya(30.42%),will-ww(24.93%),bifenglin(20.96%),birdflyi(8.97%),PureNatural(5.47%),xgdyp(3.26%),frank-zsy(2.85%),tyn1998(1.99%),wangleo61(1.15%)\n",
      "OpenEduTech/EduTechResearch 4.19 foursevenlove(33.09%),19883235(28.13%),AliceCodeZhang(18.76%),Kx-Chen-99(6.08%),lijinlus(5.83%),will-ww(4.55%),zhicheng-ning(1.04%),tyn1998(0.73%)\n",
      "OpenEduTech/OpenEduKG 2.15 tvbboy(58.35%),will-ww(14.95%),blackburnnnn(13.27%)\n",
      "X-lab2017/open-wonderland 2.13 will-ww(52.49%),bifenglin(26.45%),zhicheng-ning(10.67%)\n",
      "X-lab2017/open-leaderboard 0.96 will-ww(49.95%),tyn1998(41.30%),zhicheng-ning(8.75%)\n",
      "X-lab2017/open-perf 0.29 will-ww(100.00%)\n",
      "┌─────────┬──────────────────┬─────────────────────┬──────────┬───────┐\n",
      "│ (index) │      login       │      openrank       │  ratio   │ final │\n",
      "├─────────┼──────────────────┼─────────────────────┼──────────┼───────┤\n",
      "│    0    │    'tyn1998'     │  4.877809329449983  │ '13.85%' │ 1911  │\n",
      "│    1    │    'will-ww'     │  4.837545177484833  │ '13.73%' │ 1895  │\n",
      "│    2    │     'xgdyp'      │  3.594119488844604  │ '10.20%' │ 1408  │\n",
      "│    3    │   'frank-zsy'    │  3.311703413276029  │ '9.40%'  │ 1298  │\n",
      "│    4    │  'xiaoya-yaya'   │ 2.4448740614902924  │ '6.94%'  │  958  │\n",
      "│    5    │   'bifenglin'    │  2.257566804756431  │ '6.41%'  │  885  │\n",
      "│    6    │ 'zhicheng-ning'  │ 2.0849614755867516  │ '5.92%'  │  817  │\n",
      "│    7    │  'andyhuang18'   │  1.560908394041564  │ '4.43%'  │  612  │\n",
      "│    8    │ 'foursevenlove'  │ 1.4144839471255044  │ '4.02%'  │  554  │\n",
      "│    9    │    'wxharry'     │  1.278866435559088  │ '3.63%'  │  501  │\n",
      "│   10    │     'tvbboy'     │ 1.2545610219190646  │ '3.56%'  │  492  │\n",
      "│   11    │    '19883235'    │ 1.2064465177652808  │ '3.43%'  │  473  │\n",
      "│   12    │   'yoyo-wu98'    │ 0.8576918177428811  │ '2.44%'  │  336  │\n",
      "│   13    │ 'AliceCodeZhang' │ 0.7859222620210955  │ '2.23%'  │  308  │\n",
      "│   14    │    'birdflyi'    │ 0.6901670443356847  │ '1.96%'  │  270  │\n",
      "│   15    │    'wj23027'     │ 0.6712201583126706  │ '1.91%'  │  263  │\n",
      "│   16    │  'PureNatural'   │ 0.42051588680588653 │ '1.19%'  │  165  │\n",
      "│   17    │ 'Zzzzzhuzhiwei'  │ 0.4036602979103219  │ '1.15%'  │  158  │\n",
      "│   18    │  'blackburnnnn'  │ 0.3133381713682622  │ '0.89%'  │  123  │\n",
      "│   19    │    'lhbvvvvv'    │ 0.28463003993887437 │ '0.81%'  │  112  │\n",
      "│   20    │   'Kx-Chen-99'   │ 0.28270006365777434 │ '0.80%'  │  111  │\n",
      "│   21    │    'lijinlus'    │ 0.2722355923252731  │ '0.77%'  │  107  │\n",
      "│   22    │   'wangleo61'    │ 0.08806437850740305 │ '0.25%'  │  35   │\n",
      "│   23    │   'betaberry'    │ 0.0279294024860705  │ '0.08%'  │  11   │\n",
      "└─────────┴──────────────────┴─────────────────────┴──────────┴───────┘\n"
     ]
    }
   ],
   "source": [
    "calculateOpenRankDistribution(2022, 10, 13800);"
   ]
  },
  {
   "cell_type": "code",
   "execution_count": 15,
   "id": "e0ac8957-af3c-45e2-a623-50ab22fd988f",
   "metadata": {},
   "outputs": [
    {
     "name": "stdout",
     "output_type": "stream",
     "text": [
      "hypertrons/hypertrons-crx 15.39 tyn1998(31.09%),frank-zsy(10.23%),andyhuang18(8.24%),wj23027(7.02%),wxharry(5.61%),Zzzzzhuzhiwei(5.58%),will-ww(2.76%),xgdyp(1.48%),zhicheng-ning(1.00%),lhbvvvvv(0.45%)\n",
      "X-lab2017/open-digger 14.65 frank-zsy(37.68%),xgdyp(27.24%),longyanz(6.73%),zhicheng-ning(3.17%),will-ww(1.96%),xiaoya-yaya(1.09%),Best-Eminem(0.81%),springyulu(0.79%),bifenglin(0.61%),lhbvvvvv(0.45%),tyn1998(0.36%),birdflyi(0.07%)\n",
      "OpenEduTech/EduTechResearch 5.87 19883235(24.00%),foursevenlove(20.83%),lijinlus(14.44%),AliceCodeZhang(10.76%),will-ww(5.65%),Kx-Chen-99(4.74%)\n",
      "X-lab2017/open-research 5.87 yoyo-wu98(20.91%),bifenglin(18.56%),tyn1998(11.42%),birdflyi(11.36%),xiaoya-yaya(11.02%),will-ww(9.11%),xgdyp(9.09%),zhicheng-ning(4.54%),longyanz(2.47%)\n",
      "X-lab2017/open-wonderland 3.62 zhicheng-ning(31.01%),bifenglin(26.98%),will-ww(17.97%),tyn1998(10.25%),PureNatural(8.53%)\n",
      "OpenEduTech/OpenEduKG 1.5 tvbboy(60.43%),blackburnnnn(39.57%)\n",
      "X-lab2017/open-perf 0.55 bifenglin(63.26%),will-ww(36.74%)\n",
      "X-lab2017/open-leaderboard 0.41 xgdyp(52.03%),zhicheng-ning(47.97%)\n",
      "┌─────────┬──────────────────┬─────────────────────┬──────────┬───────┐\n",
      "│ (index) │      login       │      openrank       │  ratio   │ final │\n",
      "├─────────┼──────────────────┼─────────────────────┼──────────┼───────┤\n",
      "│    0    │   'frank-zsy'    │  7.095225691000987  │ '17.94%' │ 2780  │\n",
      "│    1    │    'tyn1998'     │  5.87963544484142   │ '14.86%' │ 2304  │\n",
      "│    2    │     'xgdyp'      │  4.964025465149429  │ '12.55%' │ 1945  │\n",
      "│    3    │   'bifenglin'    │  2.503570740244153  │ '6.33%'  │  981  │\n",
      "│    4    │    'will-ww'     │  2.429606572766338  │ '6.14%'  │  952  │\n",
      "│    5    │ 'zhicheng-ning'  │  2.204419974942276  │ '5.57%'  │  864  │\n",
      "│    6    │    '19883235'    │ 1.4089473726640547  │ '3.56%'  │  552  │\n",
      "│    7    │  'andyhuang18'   │  1.268188461598458  │ '3.21%'  │  497  │\n",
      "│    8    │   'yoyo-wu98'    │ 1.2271793434171125  │ '3.10%'  │  481  │\n",
      "│    9    │ 'foursevenlove'  │ 1.2227526491226017  │ '3.09%'  │  479  │\n",
      "│   10    │    'longyanz'    │ 1.1313838457072982  │ '2.86%'  │  443  │\n",
      "│   11    │    'wj23027'     │  1.080898847494124  │ '2.73%'  │  424  │\n",
      "│   12    │     'tvbboy'     │ 0.9064783932852438  │ '2.29%'  │  355  │\n",
      "│   13    │    'wxharry'     │ 0.8634822025660723  │ '2.18%'  │  338  │\n",
      "│   14    │ 'Zzzzzhuzhiwei'  │ 0.8594213584526855  │ '2.17%'  │  337  │\n",
      "│   15    │    'lijinlus'    │ 0.8473388388922534  │ '2.14%'  │  332  │\n",
      "│   16    │  'xiaoya-yaya'   │ 0.8069047049586426  │ '2.04%'  │  316  │\n",
      "│   17    │    'birdflyi'    │ 0.6766019907047925  │ '1.71%'  │  265  │\n",
      "│   18    │ 'AliceCodeZhang' │ 0.6314276421223731  │ '1.60%'  │  247  │\n",
      "│   19    │  'blackburnnnn'  │ 0.5935216067147561  │ '1.50%'  │  233  │\n",
      "│   20    │  'PureNatural'   │ 0.30872594666655223 │ '0.78%'  │  121  │\n",
      "│   21    │   'Kx-Chen-99'   │ 0.2780187699277188  │ '0.70%'  │  109  │\n",
      "│   22    │    'lhbvvvvv'    │ 0.13574578076679839 │ '0.34%'  │  53   │\n",
      "│   23    │  'Best-Eminem'   │ 0.11898367180429818 │ '0.30%'  │  47   │\n",
      "│   24    │   'springyulu'   │ 0.1153956936045639  │ '0.29%'  │  45   │\n",
      "└─────────┴──────────────────┴─────────────────────┴──────────┴───────┘\n"
     ]
    }
   ],
   "source": [
    "calculateOpenRankDistribution(2022, 11, 15500);"
   ]
  },
  {
   "cell_type": "code",
   "execution_count": 16,
   "id": "8f95f19c-6210-42a3-ac76-61bfdaba7f31",
   "metadata": {},
   "outputs": [
    {
     "name": "stdout",
     "output_type": "stream",
     "text": [
      "X-lab2017/open-digger 19.36 frank-zsy(42.64%),xgdyp(16.73%),longyanz(11.20%),zhicheng-ning(3.49%),tyn1998(3.22%),PureNatural(2.97%),birdflyi(1.78%),bifenglin(0.99%),xiaoya-yaya(0.55%)\n",
      "hypertrons/hypertrons-crx 10.02 tyn1998(41.77%),lhbvvvvv(10.58%),frank-zsy(9.77%),wxharry(3.72%)\n",
      "OpenEduTech/EduTechResearch 4.33 19883235(43.31%),AliceCodeZhang(21.11%),lijinlus(18.23%),Kx-Chen-99(17.35%)\n",
      "X-lab2017/open-research 3.89 xiaoya-yaya(70.10%),will-ww(10.94%),xgdyp(7.87%),lhbvvvvv(6.49%),birdflyi(4.59%)\n",
      "X-lab2017/open-wonderland 3.84 zhicheng-ning(35.83%),xgdyp(30.89%),will-ww(19.14%),frank-zsy(9.07%)\n",
      "X-lab2017/od-api 2.38 zhicheng-ning(87.81%)\n",
      "┌─────────┬──────────────────┬─────────────────────┬──────────┬───────┐\n",
      "│ (index) │      login       │      openrank       │  ratio   │ final │\n",
      "├─────────┼──────────────────┼─────────────────────┼──────────┼───────┤\n",
      "│    0    │   'frank-zsy'    │  9.582714119641706  │ '26.09%' │ 3730  │\n",
      "│    1    │    'tyn1998'     │  4.809405174325107  │ '13.09%' │ 1872  │\n",
      "│    2    │     'xgdyp'      │  4.731276772124084  │ '12.88%' │ 1842  │\n",
      "│    3    │ 'zhicheng-ning'  │  4.141564970416485  │ '11.27%' │ 1612  │\n",
      "│    4    │  'xiaoya-yaya'   │ 2.8342231285162702  │ '7.72%'  │ 1103  │\n",
      "│    5    │    'longyanz'    │ 2.1690785362878677  │ '5.90%'  │  844  │\n",
      "│    6    │    '19883235'    │ 1.8752285273906928  │ '5.10%'  │  730  │\n",
      "│    7    │    'lhbvvvvv'    │ 1.3126630277494047  │ '3.57%'  │  511  │\n",
      "│    8    │    'will-ww'     │ 1.1608484658658669  │ '3.16%'  │  452  │\n",
      "│    9    │ 'AliceCodeZhang' │ 0.9142488153499565  │ '2.49%'  │  356  │\n",
      "│   10    │    'lijinlus'    │ 0.7891705717443623  │ '2.15%'  │  307  │\n",
      "│   11    │   'Kx-Chen-99'   │ 0.7513520855149886  │ '2.05%'  │  292  │\n",
      "│   12    │  'PureNatural'   │ 0.5753740858884816  │ '1.57%'  │  224  │\n",
      "│   13    │    'birdflyi'    │ 0.5239895104188514  │ '1.43%'  │  204  │\n",
      "│   14    │    'wxharry'     │ 0.3724000123291137  │ '1.01%'  │  145  │\n",
      "│   15    │   'bifenglin'    │ 0.19255979313667235 │ '0.52%'  │  75   │\n",
      "└─────────┴──────────────────┴─────────────────────┴──────────┴───────┘\n"
     ]
    }
   ],
   "source": [
    "calculateOpenRankDistribution(2022, 12, 14300);"
   ]
  },
  {
   "cell_type": "code",
   "execution_count": 17,
   "id": "5fed4ba2-e7cf-4e8f-a69b-653c10bfaf4b",
   "metadata": {},
   "outputs": [
    {
     "name": "stdout",
     "output_type": "stream",
     "text": [
      "X-lab2017/open-digger 19.9 frank-zsy(46.68%),xgdyp(10.51%),PureNatural(3.82%),birdflyi(3.47%),bifenglin(1.98%),tyn1998(1.72%),xiaoya-yaya(1.22%),zhicheng-ning(1.04%),will-ww(0.75%),wangleo61(0.28%)\n",
      "hypertrons/hypertrons-crx 7.04 tyn1998(36.97%),wxharry(9.16%),frank-zsy(6.77%),andyhuang18(3.11%),wj23027(2.74%),zhicheng-ning(0.93%)\n",
      "X-lab2017/open-wonderland 2.65 will-ww(38.08%),zhicheng-ning(32.52%),PureNatural(14.02%),bifenglin(12.66%)\n",
      "X-lab2017/open-research 2.18 xiaoya-yaya(66.51%)\n",
      "X-lab2017/od-api 1.01 zhicheng-ning(100.00%)\n",
      "┌─────────┬─────────────────┬─────────────────────┬──────────┬───────┐\n",
      "│ (index) │      login      │      openrank       │  ratio   │ final │\n",
      "├─────────┼─────────────────┼─────────────────────┼──────────┼───────┤\n",
      "│    0    │   'frank-zsy'   │   9.7649981214232   │ '41.63%' │ 5079  │\n",
      "│    1    │    'tyn1998'    │ 2.9455644366777736  │ '12.56%' │ 1532  │\n",
      "│    2    │ 'zhicheng-ning' │  2.14416861956719   │ '9.14%'  │ 1115  │\n",
      "│    3    │     'xgdyp'     │ 2.0906027973611976  │ '8.91%'  │ 1087  │\n",
      "│    4    │  'xiaoya-yaya'  │ 1.6923163390040263  │ '7.21%'  │  880  │\n",
      "│    5    │    'will-ww'    │ 1.1576350818435788  │ '4.93%'  │  602  │\n",
      "│    6    │  'PureNatural'  │ 1.1313601356412424  │ '4.82%'  │  588  │\n",
      "│    7    │   'bifenglin'   │ 0.7293838832479975  │ '3.11%'  │  379  │\n",
      "│    8    │   'birdflyi'    │ 0.6897661003529781  │ '2.94%'  │  359  │\n",
      "│    9    │    'wxharry'    │ 0.6445964406565085  │ '2.75%'  │  335  │\n",
      "│   10    │  'andyhuang18'  │ 0.21878142436660278 │ '0.93%'  │  114  │\n",
      "│   11    │    'wj23027'    │ 0.19303557338393112 │ '0.82%'  │  100  │\n",
      "│   12    │   'wangleo61'   │ 0.05557066039759489 │ '0.24%'  │  29   │\n",
      "└─────────┴─────────────────┴─────────────────────┴──────────┴───────┘\n"
     ]
    }
   ],
   "source": [
    "calculateOpenRankDistribution(2023, 1, 12200);"
   ]
  },
  {
   "cell_type": "code",
   "execution_count": 18,
   "id": "e3bf0376-538a-4928-8316-12ac611c2e99",
   "metadata": {},
   "outputs": [
    {
     "name": "stdout",
     "output_type": "stream",
     "text": [
      "X-lab2017/open-digger 40.48 frank-zsy(50.21%),xgdyp(4.86%),tyn1998(3.83%),xiaoya-yaya(3.19%),will-ww(1.60%),zhicheng-ning(0.73%),Miaheeee(0.39%),springyulu(0.11%),wj23027(0.09%),andyhuang18(0.09%),lhbvvvvv(0.06%),Zzzzzhuzhiwei(0.03%)\n",
      "hypertrons/hypertrons-crx 5.69 tyn1998(49.99%),wxharry(8.35%),lhbvvvvv(5.45%),wj23027(3.13%),frank-zsy(0.86%)\n",
      "X-lab2017/open-leaderboard 3.83 tyn1998(46.22%),andyhuang18(17.37%),wj23027(15.35%),zhicheng-ning(10.60%),will-ww(8.54%),frank-zsy(0.48%),bifenglin(0.48%)\n",
      "X-lab2017/oss101 3.23 will-ww(54.04%),tyn1998(13.65%),zhicheng-ning(2.60%),AliceCodeZhang(1.35%)\n",
      "X-lab2017/open-wonderland 2.37 will-ww(54.65%),zhicheng-ning(24.71%),xgdyp(13.21%),bifenglin(5.55%),tyn1998(0.87%),frank-zsy(0.67%)\n",
      "X-lab2017/open-galaxy 2.18 tyn1998(95.19%),frank-zsy(1.60%)\n",
      "X-lab2017/od-api 0.55 zhicheng-ning(100.00%)\n",
      "┌─────────┬──────────────────┬──────────────────────┬──────────┬───────┐\n",
      "│ (index) │      login       │       openrank       │  ratio   │ final │\n",
      "├─────────┼──────────────────┼──────────────────────┼──────────┼───────┤\n",
      "│    0    │   'frank-zsy'    │  20.444604559924183  │ '49.41%' │ 9684  │\n",
      "│    1    │    'tyn1998'     │  8.703275480487644   │ '21.03%' │ 4122  │\n",
      "│    2    │    'will-ww'     │  4.017386935689917   │ '9.71%'  │ 1903  │\n",
      "│    3    │     'xgdyp'      │  2.2818145591253245  │ '5.51%'  │ 1081  │\n",
      "│    4    │ 'zhicheng-ning'  │  1.9211396100940468  │ '4.64%'  │  910  │\n",
      "│    5    │  'xiaoya-yaya'   │  1.2895453893295568  │ '3.12%'  │  611  │\n",
      "│    6    │    'wj23027'     │  0.8033901993739998  │ '1.94%'  │  381  │\n",
      "│    7    │  'andyhuang18'   │  0.702436950062952   │ '1.70%'  │  333  │\n",
      "│    8    │    'wxharry'     │ 0.47506895066189464  │ '1.15%'  │  225  │\n",
      "│    9    │    'lhbvvvvv'    │  0.3345454636743652  │ '0.81%'  │  158  │\n",
      "│   10    │    'Miaheeee'    │ 0.15769673358986183  │ '0.38%'  │  75   │\n",
      "│   11    │   'bifenglin'    │ 0.14989754677344788  │ '0.36%'  │  71   │\n",
      "│   12    │ 'AliceCodeZhang' │ 0.04348022061502695  │ '0.11%'  │  21   │\n",
      "│   13    │   'springyulu'   │ 0.04262937392401509  │ '0.10%'  │  20   │\n",
      "│   14    │ 'Zzzzzhuzhiwei'  │ 0.013798220920561835 │ '0.03%'  │   7   │\n",
      "└─────────┴──────────────────┴──────────────────────┴──────────┴───────┘\n"
     ]
    }
   ],
   "source": [
    "calculateOpenRankDistribution(2023, 2, 19600);"
   ]
  },
  {
   "cell_type": "code",
   "execution_count": 19,
   "id": "534f6e94-b058-4b67-90c5-db0d98178ecd",
   "metadata": {},
   "outputs": [
    {
     "name": "stdout",
     "output_type": "stream",
     "text": [
      "X-lab2017/oss101 23.75 will-ww(32.41%),zhicheng-ning(13.29%),TieWay59(3.31%),andyhuang18(2.24%),tyn1998(1.56%),wj23027(1.00%),Bruce-Jay(0.95%),springyulu(0.68%),lhbvvvvv(0.47%),xgdyp(0.44%),Zzzzzhuzhiwei(0.43%),frank-zsy(0.38%)\n",
      "X-lab2017/open-digger 22.05 frank-zsy(23.21%),xgdyp(10.95%),Zzzzzhuzhiwei(9.06%),tyn1998(6.70%),bifenglin(3.50%),xiaoya-yaya(2.28%),zhicheng-ning(2.09%),dlimeng(1.26%)\n",
      "hypertrons/hypertrons-crx 14.47 tyn1998(27.19%),lhbvvvvv(12.31%),andyhuang18(8.96%),wj23027(7.16%),frank-zsy(4.34%),xgdyp(2.13%),wxharry(1.94%),Zzzzzhuzhiwei(1.73%),will-ww(0.82%),dlimeng(0.65%)\n",
      "X-lab2017/open-wonderland 6.31 zhicheng-ning(39.44%),will-ww(19.83%),tyn1998(11.76%),xgdyp(5.75%),PureNatural(5.24%),xiaoya-yaya(4.30%),longyanz(3.69%),yoyo-wu98(3.44%),bifenglin(3.15%),birdflyi(2.23%)\n",
      "X-lab2017/open-leaderboard 2.93 zhicheng-ning(47.70%),andyhuang18(28.94%),wj23027(19.41%),will-ww(3.95%)\n",
      "OpenEduTech/EduTechResearch 2.54 AliceCodeZhang(30.56%),foursevenlove(12.40%)\n",
      "X-lab2017/open-galaxy 2.15 tyn1998(66.67%),frank-zsy(21.13%)\n",
      "X-lab2017/od-api 1.08 zhicheng-ning(82.06%),tyn1998(17.94%)\n",
      "X-lab2017/open-research 0.81 will-ww(100.00%)\n",
      "X-lab2017/open-perf 0.65 bifenglin(64.39%),will-ww(35.61%)\n",
      "┌─────────┬──────────────────┬─────────────────────┬──────────┬───────┐\n",
      "│ (index) │      login       │      openrank       │  ratio   │ final │\n",
      "├─────────┼──────────────────┼─────────────────────┼──────────┼───────┤\n",
      "│    0    │    'will-ww'     │ 10.223930219511914  │ '20.04%' │ 4931  │\n",
      "│    1    │ 'zhicheng-ning'  │  8.388165014828049  │ '16.44%' │ 4045  │\n",
      "│    2    │    'tyn1998'     │  8.15319415632058   │ '15.98%' │ 3932  │\n",
      "│    3    │   'frank-zsy'    │ 6.2899683743115675  │ '12.33%' │ 3033  │\n",
      "│    4    │     'xgdyp'      │  3.190277307113291  │ '6.25%'  │ 1539  │\n",
      "│    5    │  'andyhuang18'   │ 2.6772839116773786  │ '5.25%'  │ 1291  │\n",
      "│    6    │ 'Zzzzzhuzhiwei'  │ 2.3499610229490666  │ '4.61%'  │ 1133  │\n",
      "│    7    │    'lhbvvvvv'    │ 1.8922739173575511  │ '3.71%'  │  913  │\n",
      "│    8    │    'wj23027'     │ 1.8414031378386593  │ '3.61%'  │  888  │\n",
      "│    9    │   'bifenglin'    │ 1.3897637149242896  │ '2.72%'  │  670  │\n",
      "│   10    │    'TieWay59'    │ 0.7872341110370842  │ '1.54%'  │  380  │\n",
      "│   11    │ 'AliceCodeZhang' │ 0.7762949868073442  │ '1.52%'  │  374  │\n",
      "│   12    │  'xiaoya-yaya'   │ 0.7736257270503631  │ '1.52%'  │  373  │\n",
      "│   13    │    'dlimeng'     │ 0.37114647402728734 │ '0.73%'  │  179  │\n",
      "│   14    │  'PureNatural'   │ 0.3309109199301015  │ '0.65%'  │  160  │\n",
      "│   15    │ 'foursevenlove'  │ 0.3150282192748112  │ '0.62%'  │  152  │\n",
      "│   16    │    'wxharry'     │  0.280332150458107  │ '0.55%'  │  135  │\n",
      "│   17    │    'longyanz'    │ 0.23288146979894994 │ '0.46%'  │  112  │\n",
      "│   18    │   'Bruce-Jay'    │ 0.22594796644691023 │ '0.44%'  │  109  │\n",
      "│   19    │   'yoyo-wu98'    │ 0.21697316006320166 │ '0.43%'  │  105  │\n",
      "│   20    │   'springyulu'   │ 0.1625589224366151  │ '0.32%'  │  78   │\n",
      "│   21    │    'birdflyi'    │ 0.14084915054102937 │ '0.28%'  │  68   │\n",
      "└─────────┴──────────────────┴─────────────────────┴──────────┴───────┘\n"
     ]
    }
   ],
   "source": [
    "calculateOpenRankDistribution(2023, 3, 24600);"
   ]
  },
  {
   "cell_type": "code",
   "execution_count": 20,
   "id": "d9cf2856-b365-478c-8789-f25fadccd8be",
   "metadata": {},
   "outputs": [
    {
     "name": "stdout",
     "output_type": "stream",
     "text": [
      "X-lab2017/oss101 30.57 will-ww(14.21%),TieWay59(13.54%),zhicheng-ning(5.26%),springyulu(1.41%),andyhuang18(1.16%),Zzzzzhuzhiwei(0.89%),Bruce-Jay(0.40%),wj23027(0.35%),tyn1998(0.33%),lhbvvvvv(0.26%)\n",
      "X-lab2017/open-digger 18.79 xgdyp(22.40%),frank-zsy(21.38%),birdflyi(7.70%),Zzzzzhuzhiwei(6.22%),tyn1998(4.62%),PureNatural(3.65%),Nliver(3.15%),will-ww(2.83%),bifenglin(2.59%),Bruce-Jay(1.43%),TieWay59(1.17%)\n",
      "hypertrons/hypertrons-crx 11.74 tyn1998(32.68%),wxharry(12.39%),lhbvvvvv(5.83%),andyhuang18(4.06%),Nliver(2.55%),wj23027(2.15%),zhicheng-ning(1.13%),will-ww(0.92%)\n",
      "X-lab2017/open-wonderland 6.79 zhicheng-ning(23.54%),tyn1998(21.84%),frank-zsy(15.42%),will-ww(15.06%),xiaoya-yaya(7.63%),birdflyi(5.45%),longyanz(4.91%),bifenglin(4.25%),andyhuang18(1.90%)\n",
      "X-lab2017/open-leaderboard 2.15 zhicheng-ning(40.71%),andyhuang18(28.73%),tyn1998(4.58%),will-ww(4.17%)\n",
      "hypertrons/hypertrons 1.93 frank-zsy(53.53%)\n",
      "X-lab2017/od-api 1.92 zhicheng-ning(82.20%),andyhuang18(10.59%)\n",
      "X-lab2017/open-research 0.67 xiaoya-yaya(47.50%),zhicheng-ning(27.19%),will-ww(13.89%),tyn1998(11.42%)\n",
      "┌─────────┬─────────────────┬─────────────────────┬──────────┬───────┐\n",
      "│ (index) │      login      │      openrank       │  ratio   │ final │\n",
      "├─────────┼─────────────────┼─────────────────────┼──────────┼───────┤\n",
      "│    0    │    'tyn1998'    │  6.462932149598931  │ '14.28%' │ 3656  │\n",
      "│    1    │    'will-ww'    │  6.188304100140379  │ '13.67%' │ 3500  │\n",
      "│    2    │   'frank-zsy'   │  6.09801312020031   │ '13.47%' │ 3449  │\n",
      "│    3    │ 'zhicheng-ning' │  5.976230761273768  │ '13.21%' │ 3381  │\n",
      "│    4    │   'TieWay59'    │  4.359494820286139  │ '9.63%'  │ 2466  │\n",
      "│    5    │     'xgdyp'     │  4.20961435186719   │ '9.30%'  │ 2381  │\n",
      "│    6    │   'birdflyi'    │ 1.8175420477276358  │ '4.02%'  │ 1028  │\n",
      "│    7    │  'andyhuang18'  │ 1.7818404040474036  │ '3.94%'  │ 1008  │\n",
      "│    8    │    'wxharry'    │  1.455158721048998  │ '3.22%'  │  823  │\n",
      "│    9    │ 'Zzzzzhuzhiwei' │ 1.4395904569017168  │ '3.18%'  │  814  │\n",
      "│   10    │    'Nliver'     │ 0.8907383969596406  │ '1.97%'  │  504  │\n",
      "│   11    │  'xiaoya-yaya'  │ 0.8365030868754044  │ '1.85%'  │  473  │\n",
      "│   12    │   'bifenglin'   │ 0.7757557961957422  │ '1.71%'  │  439  │\n",
      "│   13    │   'lhbvvvvv'    │ 0.7633177029126514  │ '1.69%'  │  432  │\n",
      "│   14    │  'PureNatural'  │ 0.6850403303110908  │ '1.51%'  │  387  │\n",
      "│   15    │  'springyulu'   │ 0.4319958377015818  │ '0.95%'  │  244  │\n",
      "│   16    │   'Bruce-Jay'   │ 0.3924745247945415  │ '0.87%'  │  222  │\n",
      "│   17    │    'wj23027'    │ 0.3591014708212187  │ '0.79%'  │  203  │\n",
      "│   18    │   'longyanz'    │ 0.33330269853697486 │ '0.74%'  │  189  │\n",
      "└─────────┴─────────────────┴─────────────────────┴──────────┴───────┘\n"
     ]
    }
   ],
   "source": [
    "calculateOpenRankDistribution(2023, 4, 25600);"
   ]
  },
  {
   "cell_type": "code",
   "execution_count": 4,
   "id": "14dd7464-5175-44fb-a413-3be329ea2e2a",
   "metadata": {},
   "outputs": [
    {
     "name": "stdout",
     "output_type": "stream",
     "text": [
      "X-lab2017/open-digger 18.42 frank-zsy(27.79%),xgdyp(19.23%),PureNatural(7.39%),xiaoya-yaya(5.43%),Zzzzzhuzhiwei(5.12%),birdflyi(3.78%),tyn1998(2.92%),bifenglin(1.77%),zhicheng-ning(1.19%)\n",
      "hypertrons/hypertrons-crx 11.17 tyn1998(29.70%),andyhuang18(13.11%),wxharry(8.93%),lhbvvvvv(6.61%),wj23027(2.82%),frank-zsy(2.21%)\n",
      "X-lab2017/open-wonderland 3.87 zhicheng-ning(23.36%),tyn1998(20.43%),andyhuang18(14.63%),frank-zsy(11.13%),will-ww(9.12%),PureNatural(4.11%),lhbvvvvv(3.95%),bifenglin(2.61%)\n",
      "X-lab2017/open-research 2.98 bifenglin(40.98%),zhicheng-ning(14.84%),will-ww(11.81%),tyn1998(10.11%),birdflyi(8.31%),xgdyp(3.48%),longyanz(3.44%)\n",
      "X-lab2017/open-leaderboard 2.64 zhicheng-ning(38.33%),andyhuang18(33.80%),wj23027(17.52%)\n",
      "X-lab2017/od-api 1.63 zhicheng-ning(100.00%)\n",
      "X-lab2017/gi-assets-xlab 0.61 tyn1998(61.82%),wj23027(19.09%)\n",
      "┌─────────┬─────────────────┬─────────────────────┬──────────┬───────┐\n",
      "│ (index) │      login      │      openrank       │  ratio   │ final │\n",
      "├─────────┼─────────────────┼─────────────────────┼──────────┼───────┤\n",
      "│    0    │   'frank-zsy'   │  5.79598966576729   │ '18.38%' │ 2812  │\n",
      "│    1    │    'tyn1998'    │  5.324434955377903  │ '16.88%' │ 2583  │\n",
      "│    2    │ 'zhicheng-ning' │  4.206579091979894  │ '13.34%' │ 2041  │\n",
      "│    3    │     'xgdyp'     │ 3.6453278345562787  │ '11.56%' │ 1768  │\n",
      "│    4    │  'andyhuang18'  │ 2.9226034321931396  │ '9.27%'  │ 1418  │\n",
      "│    5    │   'bifenglin'   │ 1.6479073680786673  │ '5.22%'  │  799  │\n",
      "│    6    │  'PureNatural'  │ 1.5208285504663246  │ '4.82%'  │  738  │\n",
      "│    7    │  'xiaoya-yaya'  │ 0.9995737993501486  │ '3.17%'  │  485  │\n",
      "│    8    │    'wxharry'    │ 0.9972829929861752  │ '3.16%'  │  484  │\n",
      "│    9    │   'birdflyi'    │ 0.9437301577363377  │ '2.99%'  │  458  │\n",
      "│   10    │ 'Zzzzzhuzhiwei' │ 0.9425027870376611  │ '2.99%'  │  457  │\n",
      "│   11    │    'wj23027'    │ 0.8936509198485169  │ '2.83%'  │  434  │\n",
      "│   12    │   'lhbvvvvv'    │ 0.8910239587618639  │ '2.83%'  │  432  │\n",
      "│   13    │    'will-ww'    │ 0.7049179726698394  │ '2.24%'  │  342  │\n",
      "│   14    │   'longyanz'    │ 0.10258311249572906 │ '0.33%'  │  50   │\n",
      "└─────────┴─────────────────┴─────────────────────┴──────────┴───────┘\n"
     ]
    }
   ],
   "source": [
    "calculateOpenRankDistribution(2023, 5, 15300);"
   ]
  },
  {
   "cell_type": "code",
   "execution_count": 5,
   "id": "01446bca-a4b4-4311-ae4b-0065ebb776bb",
   "metadata": {},
   "outputs": [
    {
     "name": "stdout",
     "output_type": "stream",
     "text": [
      "X-lab2017/open-digger 14.3 xgdyp(24.23%),Zzzzzhuzhiwei(17.59%),frank-zsy(14.22%),birdflyi(8.71%),PureNatural(6.36%),will-ww(4.96%),bifenglin(3.68%),tyn1998(3.44%)\n",
      "hypertrons/hypertrons-crx 8.15 tyn1998(19.69%),wxharry(16.81%),andyhuang18(13.96%),lhbvvvvv(3.21%),Zzzzzhuzhiwei(3.01%)\n",
      "X-lab2017/open-research 6.45 will-ww(25.07%),bifenglin(21.40%),xiaoya-yaya(15.65%),zhicheng-ning(7.01%),tyn1998(5.39%),yoyo-wu98(4.07%),longyanz(3.66%),TieWay59(3.63%),PureNatural(3.38%),Zzzzzhuzhiwei(2.40%),xgdyp(2.26%),wj23027(2.18%)\n",
      "X-lab2017/open-leaderboard 3.55 andyhuang18(35.96%),tyn1998(26.39%),wj23027(18.86%)\n",
      "X-lab2017/gi-assets-xlab 3.28 tyn1998(46.76%),wj23027(4.54%),andyhuang18(4.27%),frank-zsy(2.50%)\n",
      "X-lab2017/open-wonderland 2.68 tyn1998(34.85%),andyhuang18(25.31%),will-ww(21.53%),wj23027(3.42%),PureNatural(3.32%),lhbvvvvv(3.26%),birdflyi(3.04%),bifenglin(2.83%),Zzzzzhuzhiwei(2.44%)\n",
      "OpenEduTech/EduTechResearch 2.36 lijinlus(40.24%),will-ww(32.29%),AliceCodeZhang(10.90%),tvbboy(8.29%)\n",
      "X-lab2017/open-perf 0.87 bifenglin(52.34%),will-ww(34.42%),birdflyi(13.24%)\n",
      "┌─────────┬──────────────────┬─────────────────────┬──────────┬───────┐\n",
      "│ (index) │      login       │      openrank       │  ratio   │ final │\n",
      "├─────────┼──────────────────┼─────────────────────┼──────────┼───────┤\n",
      "│    0    │    'tyn1998'     │ 5.8480405491844305  │ '17.61%' │ 2623  │\n",
      "│    1    │    'will-ww'     │  3.96562142790942   │ '11.94%' │ 1779  │\n",
      "│    2    │     'xgdyp'      │  3.610572718457601  │ '10.87%' │ 1620  │\n",
      "│    3    │  'andyhuang18'   │ 3.2325555933742853  │ '9.73%'  │ 1450  │\n",
      "│    4    │ 'Zzzzzhuzhiwei'  │ 2.9809532128948164  │ '8.97%'  │ 1337  │\n",
      "│    5    │   'bifenglin'    │  2.438185008634028  │ '7.34%'  │ 1094  │\n",
      "│    6    │   'frank-zsy'    │ 2.1158355704630933  │ '6.37%'  │  949  │\n",
      "│    7    │    'birdflyi'    │ 1.4419823072751359  │ '4.34%'  │  647  │\n",
      "│    8    │    'wxharry'     │ 1.3696721236354896  │ '4.12%'  │  614  │\n",
      "│    9    │  'PureNatural'   │  1.216346923613589  │ '3.66%'  │  546  │\n",
      "│   10    │    'wj23027'     │ 1.0509484639333841  │ '3.16%'  │  471  │\n",
      "│   11    │  'xiaoya-yaya'   │ 1.0092972081658973  │ '3.04%'  │  453  │\n",
      "│   12    │    'lijinlus'    │ 0.9495936595130114  │ '2.86%'  │  426  │\n",
      "│   13    │ 'zhicheng-ning'  │ 0.4521290030228621  │ '1.36%'  │  203  │\n",
      "│   14    │    'lhbvvvvv'    │ 0.3489705087842021  │ '1.05%'  │  157  │\n",
      "│   15    │   'yoyo-wu98'    │ 0.2622674048638006  │ '0.79%'  │  118  │\n",
      "│   16    │ 'AliceCodeZhang' │ 0.2573495849462304  │ '0.77%'  │  115  │\n",
      "│   17    │    'longyanz'    │ 0.23616715905469918 │ '0.71%'  │  106  │\n",
      "│   18    │    'TieWay59'    │ 0.2340643353685563  │ '0.70%'  │  105  │\n",
      "│   19    │     'tvbboy'     │ 0.19555365685178433 │ '0.59%'  │  88   │\n",
      "└─────────┴──────────────────┴─────────────────────┴──────────┴───────┘\n"
     ]
    }
   ],
   "source": [
    "calculateOpenRankDistribution(2023, 6, 14900);"
   ]
  },
  {
   "cell_type": "code",
   "execution_count": 4,
   "id": "32667164-e4bc-4337-97b1-4446be76c9f2",
   "metadata": {},
   "outputs": [
    {
     "name": "stdout",
     "output_type": "stream",
     "text": [
      "X-lab2017/open-digger 14.75 frank-zsy(28.91%),xgdyp(18.65%),Zzzzzhuzhiwei(8.36%),birdflyi(7.26%),PureNatural(5.79%),lhbvvvvv(5.30%),bifenglin(5.28%),will-ww(1.96%),tyn1998(1.56%)\n",
      "X-lab2017/open-wonderland 8.49 will-ww(29.10%),bifenglin(16.50%),zhicheng-ning(9.14%),andyhuang18(8.85%),frank-zsy(5.61%),tyn1998(5.04%),xgdyp(4.89%),longyanz(4.57%),xiaoya-yaya(3.99%),PureNatural(3.36%),wj23027(1.65%),yoyo-wu98(1.57%),TieWay59(1.24%)\n",
      "hypertrons/hypertrons-crx 8.17 wxharry(20.22%),tyn1998(18.56%),andyhuang18(13.06%),lhbvvvvv(7.68%),Zzzzzhuzhiwei(6.38%)\n",
      "X-lab2017/gi-assets-xlab 4.55 bifenglin(15.60%),tyn1998(14.99%),wj23027(8.03%)\n",
      "X-lab2017/open-research 4.38 bifenglin(33.18%),will-ww(31.82%),xiaoya-yaya(19.18%),andyhuang18(15.82%)\n",
      "X-lab2017/open-leaderboard 3.83 andyhuang18(35.81%),zhicheng-ning(23.38%),wj23027(19.01%),tyn1998(9.71%),will-ww(6.53%),frank-zsy(5.57%)\n",
      "X-lab2017/open-perf 0.96 will-ww(73.74%),bifenglin(26.26%)\n",
      "┌─────────┬─────────────────┬─────────────────────┬──────────┬───────┐\n",
      "│ (index) │      login      │      openrank       │  ratio   │ final │\n",
      "├─────────┼─────────────────┼─────────────────────┼──────────┼───────┤\n",
      "│    0    │    'will-ww'    │  5.112260754100516  │ '13.94%' │ 2286  │\n",
      "│    1    │   'frank-zsy'   │  4.953620264320518  │ '13.51%' │ 2215  │\n",
      "│    2    │   'bifenglin'   │  4.594834732002363  │ '12.53%' │ 2055  │\n",
      "│    3    │  'andyhuang18'  │ 3.8829155620876477  │ '10.59%' │ 1736  │\n",
      "│    4    │    'tyn1998'    │ 3.2282090388525173  │ '8.80%'  │ 1444  │\n",
      "│    5    │     'xgdyp'     │  3.166476971386376  │ '8.63%'  │ 1416  │\n",
      "│    6    │ 'Zzzzzhuzhiwei' │ 1.7541870892531355  │ '4.78%'  │  784  │\n",
      "│    7    │ 'zhicheng-ning' │ 1.6711511572269468  │ '4.56%'  │  747  │\n",
      "│    8    │    'wxharry'    │ 1.6521141746604728  │ '4.50%'  │  739  │\n",
      "│    9    │   'lhbvvvvv'    │  1.409878115912902  │ '3.84%'  │  630  │\n",
      "│   10    │    'wj23027'    │ 1.2336975705130087  │ '3.36%'  │  552  │\n",
      "│   11    │  'xiaoya-yaya'  │ 1.1790490517841836  │ '3.21%'  │  527  │\n",
      "│   12    │  'PureNatural'  │  1.139191778421944  │ '3.11%'  │  509  │\n",
      "│   13    │   'birdflyi'    │ 1.0705157676781103  │ '2.92%'  │  479  │\n",
      "│   14    │   'longyanz'    │ 0.3880340197692003  │ '1.06%'  │  174  │\n",
      "│   15    │   'yoyo-wu98'   │ 0.13292253833388046 │ '0.36%'  │  59   │\n",
      "│   16    │   'TieWay59'    │ 0.1053734073921797  │ '0.29%'  │  47   │\n",
      "└─────────┴─────────────────┴─────────────────────┴──────────┴───────┘\n"
     ]
    }
   ],
   "source": [
    "calculateOpenRankDistribution(2023, 7, 16400);"
   ]
  },
  {
   "cell_type": "code",
   "execution_count": 4,
   "id": "d6a33e18-5d12-4903-ba39-2838510a14d8",
   "metadata": {},
   "outputs": [
    {
     "name": "stdout",
     "output_type": "stream",
     "text": [
      "X-lab2017/open-digger 9.83 frank-zsy(34.19%),xgdyp(17.69%),Zzzzzhuzhiwei(9.63%),lhbvvvvv(6.97%),birdflyi(5.49%),PureNatural(4.54%),xiaoya-yaya(2.51%),tyn1998(1.76%)\n",
      "hypertrons/hypertrons-crx 8.54 tyn1998(24.23%),wxharry(16.38%),andyhuang18(12.74%),TieWay59(7.01%),lhbvvvvv(6.95%),frank-zsy(6.21%),wj23027(3.74%),will-ww(2.47%)\n",
      "X-lab2017/open-wonderland 5 bifenglin(34.34%),will-ww(22.94%),tyn1998(13.64%),zhicheng-ning(9.67%),xgdyp(5.55%),xiaoya-yaya(5.23%),yoyo-wu98(4.37%),TieWay59(4.25%)\n",
      "X-lab2017/open-research 1.6 will-ww(79.62%),TieWay59(20.38%)\n",
      "X-lab2017/open-perf 1.56 will-ww(46.46%),PureNatural(43.60%),bifenglin(9.94%)\n",
      "X-lab2017/open-leaderboard 1.4 tyn1998(100.00%)\n",
      "┌─────────┬─────────────────┬─────────────────────┬──────────┬───────┐\n",
      "│ (index) │      login      │      openrank       │  ratio   │ final │\n",
      "├─────────┼─────────────────┼─────────────────────┼──────────┼───────┤\n",
      "│    0    │    'tyn1998'    │ 4.3244357672823615  │ '17.65%' │ 2523  │\n",
      "│    1    │   'frank-zsy'   │  3.891356570030305  │ '15.88%' │ 2271  │\n",
      "│    2    │    'will-ww'    │ 3.3561951807335464  │ '13.69%' │ 1958  │\n",
      "│    3    │     'xgdyp'     │ 2.0170416935746562  │ '8.23%'  │ 1177  │\n",
      "│    4    │   'bifenglin'   │  1.872199298902984  │ '7.64%'  │ 1092  │\n",
      "│    5    │    'wxharry'    │ 1.3989535583306894  │ '5.71%'  │  816  │\n",
      "│    6    │   'lhbvvvvv'    │ 1.2790097418172728  │ '5.22%'  │  746  │\n",
      "│    7    │   'TieWay59'    │ 1.1369973584430908  │ '4.64%'  │  663  │\n",
      "│    8    │  'PureNatural'  │  1.126215506781734  │ '4.60%'  │  657  │\n",
      "│    9    │  'andyhuang18'  │ 1.0878553990754192  │ '4.44%'  │  635  │\n",
      "│   10    │ 'Zzzzzhuzhiwei' │ 0.9465953895371966  │ '3.86%'  │  552  │\n",
      "│   11    │   'birdflyi'    │ 0.5400117789466603  │ '2.20%'  │  315  │\n",
      "│   12    │  'xiaoya-yaya'  │ 0.5083953289868554  │ '2.07%'  │  297  │\n",
      "│   13    │ 'zhicheng-ning' │ 0.48373101333840995 │ '1.97%'  │  282  │\n",
      "│   14    │    'wj23027'    │  0.319688232801499  │ '1.30%'  │  187  │\n",
      "│   15    │   'yoyo-wu98'   │ 0.2183385228308624  │ '0.89%'  │  127  │\n",
      "└─────────┴─────────────────┴─────────────────────┴──────────┴───────┘\n"
     ]
    }
   ],
   "source": [
    "calculateOpenRankDistribution(2023, 8, 14300);"
   ]
  },
  {
   "cell_type": "code",
   "execution_count": 5,
   "id": "915cb1db-7d88-4dc0-ac96-e5475c2983fd",
   "metadata": {},
   "outputs": [
    {
     "name": "stdout",
     "output_type": "stream",
     "text": [
      "hypertrons/hypertrons-crx 10.87 tyn1998(26.58%),lhbvvvvv(15.19%),TieWay59(9.06%),wxharry(8.87%),andyhuang18(8.65%),wj23027(5.34%),Tenth-crew(2.09%),wangyantong2000(1.79%),frank-zsy(1.72%),Zzzzzhuzhiwei(1.68%),zhaosj975(1.57%)\n",
      "X-lab2017/open-digger 8.59 frank-zsy(23.03%),xgdyp(15.30%),Zzzzzhuzhiwei(14.76%),PureNatural(8.91%),birdflyi(5.26%),lhbvvvvv(5.03%),bifenglin(3.25%),will-ww(2.52%),zhaosj975(1.53%),tyn1998(1.42%),Tenth-crew(1.11%),wangyantong2000(1.11%)\n",
      "X-lab2017/open-wonderland 5.32 will-ww(39.94%),bifenglin(18.38%),tyn1998(13.98%),frank-zsy(11.76%),andyhuang18(7.13%),PureNatural(4.62%),xgdyp(2.33%),birdflyi(1.86%)\n",
      "X-lab2017/open-research 1.84 will-ww(44.82%),bifenglin(14.40%),PureNatural(14.22%),Tenth-crew(9.90%),birdflyi(9.08%),TieWay59(7.57%)\n",
      "OpenEduTech/EduTechResearch 0.85 lijinlus(74.03%),will-ww(25.97%)\n",
      "X-lab2017/open-perf 0.78 bifenglin(100.00%)\n",
      "X-lab2017/open-leaderboard 0.57 TieWay59(43.35%)\n",
      "┌─────────┬───────────────────┬────────────────────┬──────────┬───────┐\n",
      "│ (index) │       login       │      openrank      │  ratio   │ final │\n",
      "├─────────┼───────────────────┼────────────────────┼──────────┼───────┤\n",
      "│    0    │     'tyn1998'     │ 3.7545914883034768 │ '14.92%' │ 1985  │\n",
      "│    1    │     'will-ww'     │ 3.386515944521152  │ '13.46%' │ 1790  │\n",
      "│    2    │    'frank-zsy'    │ 2.7906448148243577 │ '11.09%' │ 1475  │\n",
      "│    3    │    'bifenglin'    │ 2.302134384261575  │ '9.15%'  │ 1217  │\n",
      "│    4    │    'lhbvvvvv'     │ 2.083271867463001  │ '8.28%'  │ 1101  │\n",
      "│    5    │  'Zzzzzhuzhiwei'  │ 1.450750466686483  │ '5.77%'  │  767  │\n",
      "│    6    │      'xgdyp'      │ 1.438172126096692  │ '5.72%'  │  760  │\n",
      "│    7    │    'TieWay59'     │ 1.3717285684479052 │ '5.45%'  │  725  │\n",
      "│    8    │   'andyhuang18'   │ 1.319713828747095  │ '5.25%'  │  698  │\n",
      "│    9    │   'PureNatural'   │ 1.272767132047168  │ '5.06%'  │  673  │\n",
      "│   10    │     'wxharry'     │ 0.9644383630498179 │ '3.83%'  │  510  │\n",
      "│   11    │    'birdflyi'     │ 0.7178905335123058 │ '2.85%'  │  380  │\n",
      "│   12    │    'lijinlus'     │ 0.6292935237573954 │ '2.50%'  │  333  │\n",
      "│   13    │     'wj23027'     │ 0.5799342380088792 │ '2.31%'  │  307  │\n",
      "│   14    │   'Tenth-crew'    │ 0.5047669485829887 │ '2.01%'  │  267  │\n",
      "│   15    │    'zhaosj975'    │ 0.3013168623482564 │ '1.20%'  │  159  │\n",
      "│   16    │ 'wangyantong2000' │ 0.2894187069368743 │ '1.15%'  │  153  │\n",
      "└─────────┴───────────────────┴────────────────────┴──────────┴───────┘\n"
     ]
    }
   ],
   "source": [
    "calculateOpenRankDistribution(2023, 9, 13300);"
   ]
  },
  {
   "cell_type": "code",
   "execution_count": null,
   "id": "40198f29-4b1c-4e91-9bb8-821fba900ace",
   "metadata": {},
   "outputs": [],
   "source": []
  }
 ],
 "metadata": {
  "kernelspec": {
   "display_name": "JavaScript (Node.js)",
   "language": "javascript",
   "name": "javascript"
  },
  "language_info": {
   "file_extension": ".js",
   "mimetype": "application/javascript",
   "name": "javascript",
   "version": "16.13.2"
  }
 },
 "nbformat": 4,
 "nbformat_minor": 5
}
