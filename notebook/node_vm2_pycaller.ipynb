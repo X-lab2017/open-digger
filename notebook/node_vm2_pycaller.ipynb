{
 "cells": [
  {
   "cell_type": "code",
   "execution_count": 1,
   "id": "dac5bcb4-e08d-4b94-b42a-b0e54ba46471",
   "metadata": {
    "pycharm": {
     "name": "#%%\n"
    }
   },
   "outputs": [
    {
     "name": "stdout",
     "output_type": "stream",
     "text": [
      "Defaulting to user installation because normal site-packages is not writeable\n",
      "Requirement already satisfied: ipynbname==2023.2.0.0 in /home/node/.local/lib/python3.8/site-packages (from -r ../pycjs/requirements.txt (line 1)) (2023.2.0.0)\n",
      "Requirement already satisfied: ipython==8.0.1 in /usr/local/lib/python3.8/dist-packages (from -r ../pycjs/requirements.txt (line 2)) (8.0.1)\n",
      "Requirement already satisfied: ipython-genutils==0.2.0 in /usr/local/lib/python3.8/dist-packages (from -r ../pycjs/requirements.txt (line 3)) (0.2.0)\n",
      "Requirement already satisfied: jupyterlab>=3.2.8 in /usr/local/lib/python3.8/dist-packages (from -r ../pycjs/requirements.txt (line 4)) (3.2.8)\n",
      "Requirement already satisfied: matplotlib>=3.5.3 in /home/node/.local/lib/python3.8/site-packages (from -r ../pycjs/requirements.txt (line 5)) (3.7.4)\n",
      "Requirement already satisfied: node-vm2==0.4.7 in /home/node/.local/lib/python3.8/site-packages (from -r ../pycjs/requirements.txt (line 6)) (0.4.7)\n",
      "Requirement already satisfied: numpy>=1.21.5 in /home/node/.local/lib/python3.8/site-packages (from -r ../pycjs/requirements.txt (line 7)) (1.24.4)\n",
      "Requirement already satisfied: pandas>=1.4.4 in /home/node/.local/lib/python3.8/site-packages (from -r ../pycjs/requirements.txt (line 8)) (2.0.3)\n",
      "Requirement already satisfied: ipykernel in /usr/local/lib/python3.8/dist-packages (from ipynbname==2023.2.0.0->-r ../pycjs/requirements.txt (line 1)) (6.7.0)\n",
      "Requirement already satisfied: jedi>=0.16 in /usr/local/lib/python3.8/dist-packages (from ipython==8.0.1->-r ../pycjs/requirements.txt (line 2)) (0.18.1)\n",
      "Requirement already satisfied: pygments in /usr/local/lib/python3.8/dist-packages (from ipython==8.0.1->-r ../pycjs/requirements.txt (line 2)) (2.11.2)\n",
      "Requirement already satisfied: setuptools>=18.5 in /usr/local/lib/python3.8/dist-packages (from ipython==8.0.1->-r ../pycjs/requirements.txt (line 2)) (60.5.0)\n",
      "Requirement already satisfied: pexpect>4.3 in /usr/local/lib/python3.8/dist-packages (from ipython==8.0.1->-r ../pycjs/requirements.txt (line 2)) (4.8.0)\n",
      "Requirement already satisfied: backcall in /usr/local/lib/python3.8/dist-packages (from ipython==8.0.1->-r ../pycjs/requirements.txt (line 2)) (0.2.0)\n",
      "Requirement already satisfied: stack-data in /usr/local/lib/python3.8/dist-packages (from ipython==8.0.1->-r ../pycjs/requirements.txt (line 2)) (0.1.4)\n",
      "Requirement already satisfied: matplotlib-inline in /usr/local/lib/python3.8/dist-packages (from ipython==8.0.1->-r ../pycjs/requirements.txt (line 2)) (0.1.3)\n",
      "Requirement already satisfied: pickleshare in /usr/local/lib/python3.8/dist-packages (from ipython==8.0.1->-r ../pycjs/requirements.txt (line 2)) (0.7.5)\n",
      "Requirement already satisfied: traitlets>=5 in /usr/local/lib/python3.8/dist-packages (from ipython==8.0.1->-r ../pycjs/requirements.txt (line 2)) (5.1.1)\n",
      "Requirement already satisfied: black in /usr/local/lib/python3.8/dist-packages (from ipython==8.0.1->-r ../pycjs/requirements.txt (line 2)) (21.12b0)\n",
      "Requirement already satisfied: prompt-toolkit!=3.0.0,!=3.0.1,<3.1.0,>=2.0.0 in /usr/local/lib/python3.8/dist-packages (from ipython==8.0.1->-r ../pycjs/requirements.txt (line 2)) (3.0.24)\n",
      "Requirement already satisfied: decorator in /usr/local/lib/python3.8/dist-packages (from ipython==8.0.1->-r ../pycjs/requirements.txt (line 2)) (5.1.1)\n",
      "Requirement already satisfied: jinja2>=2.1 in /usr/local/lib/python3.8/dist-packages (from jupyterlab>=3.2.8->-r ../pycjs/requirements.txt (line 4)) (3.0.3)\n",
      "Requirement already satisfied: jupyterlab-server~=2.3 in /usr/local/lib/python3.8/dist-packages (from jupyterlab>=3.2.8->-r ../pycjs/requirements.txt (line 4)) (2.10.3)\n",
      "Requirement already satisfied: packaging in /usr/local/lib/python3.8/dist-packages (from jupyterlab>=3.2.8->-r ../pycjs/requirements.txt (line 4)) (21.3)\n",
      "Requirement already satisfied: jupyter-server~=1.4 in /usr/local/lib/python3.8/dist-packages (from jupyterlab>=3.2.8->-r ../pycjs/requirements.txt (line 4)) (1.13.3)\n",
      "Requirement already satisfied: nbclassic~=0.2 in /usr/local/lib/python3.8/dist-packages (from jupyterlab>=3.2.8->-r ../pycjs/requirements.txt (line 4)) (0.3.5)\n",
      "Requirement already satisfied: jupyter-core in /usr/local/lib/python3.8/dist-packages (from jupyterlab>=3.2.8->-r ../pycjs/requirements.txt (line 4)) (4.9.1)\n",
      "Requirement already satisfied: tornado>=6.1.0 in /usr/local/lib/python3.8/dist-packages (from jupyterlab>=3.2.8->-r ../pycjs/requirements.txt (line 4)) (6.1)\n",
      "Requirement already satisfied: python-dateutil>=2.7 in /usr/local/lib/python3.8/dist-packages (from matplotlib>=3.5.3->-r ../pycjs/requirements.txt (line 5)) (2.8.2)\n",
      "Requirement already satisfied: kiwisolver>=1.0.1 in /home/node/.local/lib/python3.8/site-packages (from matplotlib>=3.5.3->-r ../pycjs/requirements.txt (line 5)) (1.4.5)\n",
      "Requirement already satisfied: pillow>=6.2.0 in /home/node/.local/lib/python3.8/site-packages (from matplotlib>=3.5.3->-r ../pycjs/requirements.txt (line 5)) (10.2.0)\n",
      "Requirement already satisfied: fonttools>=4.22.0 in /home/node/.local/lib/python3.8/site-packages (from matplotlib>=3.5.3->-r ../pycjs/requirements.txt (line 5)) (4.47.2)\n",
      "Requirement already satisfied: contourpy>=1.0.1 in /home/node/.local/lib/python3.8/site-packages (from matplotlib>=3.5.3->-r ../pycjs/requirements.txt (line 5)) (1.1.1)\n",
      "Requirement already satisfied: cycler>=0.10 in /home/node/.local/lib/python3.8/site-packages (from matplotlib>=3.5.3->-r ../pycjs/requirements.txt (line 5)) (0.12.1)\n",
      "Requirement already satisfied: pyparsing>=2.3.1 in /usr/local/lib/python3.8/dist-packages (from matplotlib>=3.5.3->-r ../pycjs/requirements.txt (line 5)) (3.0.6)\n",
      "Requirement already satisfied: importlib-resources>=3.2.0 in /usr/local/lib/python3.8/dist-packages (from matplotlib>=3.5.3->-r ../pycjs/requirements.txt (line 5)) (5.4.0)\n",
      "Requirement already satisfied: pytz>=2020.1 in /usr/local/lib/python3.8/dist-packages (from pandas>=1.4.4->-r ../pycjs/requirements.txt (line 8)) (2021.3)\n",
      "Requirement already satisfied: tzdata>=2022.1 in /home/node/.local/lib/python3.8/site-packages (from pandas>=1.4.4->-r ../pycjs/requirements.txt (line 8)) (2023.4)\n",
      "Requirement already satisfied: zipp>=3.1.0 in /usr/local/lib/python3.8/dist-packages (from importlib-resources>=3.2.0->matplotlib>=3.5.3->-r ../pycjs/requirements.txt (line 5)) (3.7.0)\n",
      "Requirement already satisfied: parso<0.9.0,>=0.8.0 in /usr/local/lib/python3.8/dist-packages (from jedi>=0.16->ipython==8.0.1->-r ../pycjs/requirements.txt (line 2)) (0.8.3)\n",
      "Requirement already satisfied: MarkupSafe>=2.0 in /usr/local/lib/python3.8/dist-packages (from jinja2>=2.1->jupyterlab>=3.2.8->-r ../pycjs/requirements.txt (line 4)) (2.0.1)\n",
      "Requirement already satisfied: anyio<4,>=3.1.0 in /usr/local/lib/python3.8/dist-packages (from jupyter-server~=1.4->jupyterlab>=3.2.8->-r ../pycjs/requirements.txt (line 4)) (3.5.0)\n",
      "Requirement already satisfied: jupyter-client>=6.1.1 in /usr/local/lib/python3.8/dist-packages (from jupyter-server~=1.4->jupyterlab>=3.2.8->-r ../pycjs/requirements.txt (line 4)) (7.1.1)\n",
      "Requirement already satisfied: nbformat in /usr/local/lib/python3.8/dist-packages (from jupyter-server~=1.4->jupyterlab>=3.2.8->-r ../pycjs/requirements.txt (line 4)) (5.1.3)\n",
      "Requirement already satisfied: argon2-cffi in /usr/local/lib/python3.8/dist-packages (from jupyter-server~=1.4->jupyterlab>=3.2.8->-r ../pycjs/requirements.txt (line 4)) (21.3.0)\n",
      "Requirement already satisfied: nbconvert in /usr/local/lib/python3.8/dist-packages (from jupyter-server~=1.4->jupyterlab>=3.2.8->-r ../pycjs/requirements.txt (line 4)) (6.4.0)\n",
      "Requirement already satisfied: prometheus-client in /usr/local/lib/python3.8/dist-packages (from jupyter-server~=1.4->jupyterlab>=3.2.8->-r ../pycjs/requirements.txt (line 4)) (0.12.0)\n",
      "Requirement already satisfied: websocket-client in /usr/local/lib/python3.8/dist-packages (from jupyter-server~=1.4->jupyterlab>=3.2.8->-r ../pycjs/requirements.txt (line 4)) (1.2.3)\n",
      "Requirement already satisfied: terminado>=0.8.3 in /usr/local/lib/python3.8/dist-packages (from jupyter-server~=1.4->jupyterlab>=3.2.8->-r ../pycjs/requirements.txt (line 4)) (0.12.1)\n",
      "Requirement already satisfied: pyzmq>=17 in /usr/local/lib/python3.8/dist-packages (from jupyter-server~=1.4->jupyterlab>=3.2.8->-r ../pycjs/requirements.txt (line 4)) (22.3.0)\n",
      "Requirement already satisfied: Send2Trash in /usr/local/lib/python3.8/dist-packages (from jupyter-server~=1.4->jupyterlab>=3.2.8->-r ../pycjs/requirements.txt (line 4)) (1.8.0)\n",
      "Requirement already satisfied: babel in /usr/local/lib/python3.8/dist-packages (from jupyterlab-server~=2.3->jupyterlab>=3.2.8->-r ../pycjs/requirements.txt (line 4)) (2.9.1)\n",
      "Requirement already satisfied: json5 in /usr/local/lib/python3.8/dist-packages (from jupyterlab-server~=2.3->jupyterlab>=3.2.8->-r ../pycjs/requirements.txt (line 4)) (0.9.6)\n",
      "Requirement already satisfied: requests in /usr/lib/python3/dist-packages (from jupyterlab-server~=2.3->jupyterlab>=3.2.8->-r ../pycjs/requirements.txt (line 4)) (2.22.0)\n",
      "Requirement already satisfied: jsonschema>=3.0.1 in /usr/local/lib/python3.8/dist-packages (from jupyterlab-server~=2.3->jupyterlab>=3.2.8->-r ../pycjs/requirements.txt (line 4)) (4.4.0)\n",
      "Requirement already satisfied: entrypoints>=0.2.2 in /usr/local/lib/python3.8/dist-packages (from jupyterlab-server~=2.3->jupyterlab>=3.2.8->-r ../pycjs/requirements.txt (line 4)) (0.3)\n",
      "Requirement already satisfied: notebook<7 in /usr/local/lib/python3.8/dist-packages (from nbclassic~=0.2->jupyterlab>=3.2.8->-r ../pycjs/requirements.txt (line 4)) (6.4.7)\n",
      "Requirement already satisfied: ptyprocess>=0.5 in /usr/local/lib/python3.8/dist-packages (from pexpect>4.3->ipython==8.0.1->-r ../pycjs/requirements.txt (line 2)) (0.7.0)\n",
      "Requirement already satisfied: wcwidth in /usr/local/lib/python3.8/dist-packages (from prompt-toolkit!=3.0.0,!=3.0.1,<3.1.0,>=2.0.0->ipython==8.0.1->-r ../pycjs/requirements.txt (line 2)) (0.2.5)\n",
      "Requirement already satisfied: six>=1.5 in /usr/lib/python3/dist-packages (from python-dateutil>=2.7->matplotlib>=3.5.3->-r ../pycjs/requirements.txt (line 5)) (1.14.0)\n",
      "Requirement already satisfied: platformdirs>=2 in /usr/local/lib/python3.8/dist-packages (from black->ipython==8.0.1->-r ../pycjs/requirements.txt (line 2)) (2.4.1)\n",
      "Requirement already satisfied: click>=7.1.2 in /usr/local/lib/python3.8/dist-packages (from black->ipython==8.0.1->-r ../pycjs/requirements.txt (line 2)) (8.0.3)\n",
      "Requirement already satisfied: typing-extensions>=3.10.0.0 in /usr/local/lib/python3.8/dist-packages (from black->ipython==8.0.1->-r ../pycjs/requirements.txt (line 2)) (4.0.1)\n",
      "Requirement already satisfied: mypy-extensions>=0.4.3 in /usr/local/lib/python3.8/dist-packages (from black->ipython==8.0.1->-r ../pycjs/requirements.txt (line 2)) (0.4.3)\n",
      "Requirement already satisfied: tomli<2.0.0,>=0.2.6 in /usr/local/lib/python3.8/dist-packages (from black->ipython==8.0.1->-r ../pycjs/requirements.txt (line 2)) (1.2.3)\n",
      "Requirement already satisfied: pathspec<1,>=0.9.0 in /usr/local/lib/python3.8/dist-packages (from black->ipython==8.0.1->-r ../pycjs/requirements.txt (line 2)) (0.9.0)\n",
      "Requirement already satisfied: debugpy<2.0,>=1.0.0 in /usr/local/lib/python3.8/dist-packages (from ipykernel->ipynbname==2023.2.0.0->-r ../pycjs/requirements.txt (line 1)) (1.5.1)\n",
      "Requirement already satisfied: nest-asyncio in /usr/local/lib/python3.8/dist-packages (from ipykernel->ipynbname==2023.2.0.0->-r ../pycjs/requirements.txt (line 1)) (1.5.4)\n",
      "Requirement already satisfied: pure-eval in /usr/local/lib/python3.8/dist-packages (from stack-data->ipython==8.0.1->-r ../pycjs/requirements.txt (line 2)) (0.2.1)\n",
      "Requirement already satisfied: asttokens in /usr/local/lib/python3.8/dist-packages (from stack-data->ipython==8.0.1->-r ../pycjs/requirements.txt (line 2)) (2.0.5)\n",
      "Requirement already satisfied: executing in /usr/local/lib/python3.8/dist-packages (from stack-data->ipython==8.0.1->-r ../pycjs/requirements.txt (line 2)) (0.8.2)\n",
      "Requirement already satisfied: idna>=2.8 in /usr/lib/python3/dist-packages (from anyio<4,>=3.1.0->jupyter-server~=1.4->jupyterlab>=3.2.8->-r ../pycjs/requirements.txt (line 4)) (2.8)\n",
      "Requirement already satisfied: sniffio>=1.1 in /usr/local/lib/python3.8/dist-packages (from anyio<4,>=3.1.0->jupyter-server~=1.4->jupyterlab>=3.2.8->-r ../pycjs/requirements.txt (line 4)) (1.2.0)\n",
      "Requirement already satisfied: pyrsistent!=0.17.0,!=0.17.1,!=0.17.2,>=0.14.0 in /usr/local/lib/python3.8/dist-packages (from jsonschema>=3.0.1->jupyterlab-server~=2.3->jupyterlab>=3.2.8->-r ../pycjs/requirements.txt (line 4)) (0.18.1)\n",
      "Requirement already satisfied: attrs>=17.4.0 in /usr/local/lib/python3.8/dist-packages (from jsonschema>=3.0.1->jupyterlab-server~=2.3->jupyterlab>=3.2.8->-r ../pycjs/requirements.txt (line 4)) (21.4.0)\n",
      "Requirement already satisfied: argon2-cffi-bindings in /usr/local/lib/python3.8/dist-packages (from argon2-cffi->jupyter-server~=1.4->jupyterlab>=3.2.8->-r ../pycjs/requirements.txt (line 4)) (21.2.0)\n",
      "Requirement already satisfied: mistune<2,>=0.8.1 in /usr/local/lib/python3.8/dist-packages (from nbconvert->jupyter-server~=1.4->jupyterlab>=3.2.8->-r ../pycjs/requirements.txt (line 4)) (0.8.4)\n",
      "Requirement already satisfied: pandocfilters>=1.4.1 in /usr/local/lib/python3.8/dist-packages (from nbconvert->jupyter-server~=1.4->jupyterlab>=3.2.8->-r ../pycjs/requirements.txt (line 4)) (1.5.0)\n",
      "Requirement already satisfied: defusedxml in /usr/local/lib/python3.8/dist-packages (from nbconvert->jupyter-server~=1.4->jupyterlab>=3.2.8->-r ../pycjs/requirements.txt (line 4)) (0.7.1)\n",
      "Requirement already satisfied: bleach in /usr/local/lib/python3.8/dist-packages (from nbconvert->jupyter-server~=1.4->jupyterlab>=3.2.8->-r ../pycjs/requirements.txt (line 4)) (4.1.0)\n",
      "Requirement already satisfied: testpath in /usr/local/lib/python3.8/dist-packages (from nbconvert->jupyter-server~=1.4->jupyterlab>=3.2.8->-r ../pycjs/requirements.txt (line 4)) (0.5.0)\n",
      "Requirement already satisfied: jupyterlab-pygments in /usr/local/lib/python3.8/dist-packages (from nbconvert->jupyter-server~=1.4->jupyterlab>=3.2.8->-r ../pycjs/requirements.txt (line 4)) (0.1.2)\n",
      "Requirement already satisfied: nbclient<0.6.0,>=0.5.0 in /usr/local/lib/python3.8/dist-packages (from nbconvert->jupyter-server~=1.4->jupyterlab>=3.2.8->-r ../pycjs/requirements.txt (line 4)) (0.5.10)\n",
      "Requirement already satisfied: cffi>=1.0.1 in /usr/local/lib/python3.8/dist-packages (from argon2-cffi-bindings->argon2-cffi->jupyter-server~=1.4->jupyterlab>=3.2.8->-r ../pycjs/requirements.txt (line 4)) (1.15.0)\n",
      "Requirement already satisfied: webencodings in /usr/local/lib/python3.8/dist-packages (from bleach->nbconvert->jupyter-server~=1.4->jupyterlab>=3.2.8->-r ../pycjs/requirements.txt (line 4)) (0.5.1)\n",
      "Requirement already satisfied: pycparser in /usr/local/lib/python3.8/dist-packages (from cffi>=1.0.1->argon2-cffi-bindings->argon2-cffi->jupyter-server~=1.4->jupyterlab>=3.2.8->-r ../pycjs/requirements.txt (line 4)) (2.21)\n",
      "\u001b[33mWARNING: You are using pip version 21.3.1; however, version 23.3.2 is available.\n",
      "You should consider upgrading via the '/usr/bin/python3 -m pip install --upgrade pip' command.\u001b[0m\n"
     ]
    }
   ],
   "source": [
    "!pip install -r ../pycjs/requirements.txt"
   ]
  },
  {
   "cell_type": "code",
   "execution_count": 2,
   "id": "ece3ae23-36fa-403f-99e6-cd43d78363bd",
   "metadata": {
    "pycharm": {
     "name": "#%%\n"
    }
   },
   "outputs": [
    {
     "name": "stdout",
     "output_type": "stream",
     "text": [
      "-- Add root directory \"/home/node/notebook\" to system path.\n"
     ]
    }
   ],
   "source": [
    "import os\n",
    "import sys\n",
    "\n",
    "cur_dir = os.getcwd()\n",
    "pkg_rootdir = os.path.dirname(cur_dir)  # *注意改为项目自定义包的根路径\n",
    "# print(pkg_rootdir)\n",
    "if pkg_rootdir not in sys.path:  # 解决ipynb引用上层路径中的模块时的ModuleNotFoundError问题\n",
    "    sys.path.append(pkg_rootdir)\n",
    "    print('-- Add root directory \"{}\" to system path.'.format(pkg_rootdir))"
   ]
  },
  {
   "cell_type": "code",
   "execution_count": 3,
   "id": "b8a57dcc-5f4a-44bb-9e79-98791141fb0e",
   "metadata": {
    "pycharm": {
     "name": "#%%\n"
    }
   },
   "outputs": [
    {
     "name": "stderr",
     "output_type": "stream",
     "text": [
      "/home/node/.local/lib/python3.8/site-packages/node_vm2/__init__.py:17: FutureWarning: node_vm2 is deprecated. Please use deno_vm instead.\n",
      "  warnings.warn(\"node_vm2 is deprecated. Please use deno_vm instead.\", FutureWarning)\n"
     ]
    }
   ],
   "source": [
    "import copy\n",
    "import pandas as pd\n",
    "\n",
    "from node_vm2 import NodeVM\n",
    "\n",
    "from pycjs.open_digger import vm_option_open_digger, get_export_module_open_digger\n",
    "from pycjs.vm_context_manager import VMContext\n",
    "from pycjs.metrics import MultiMime"
   ]
  },
  {
   "cell_type": "code",
   "execution_count": 4,
   "id": "d8b412ba-6d99-4a22-adca-601ef83a7476",
   "metadata": {
    "pycharm": {
     "name": "#%%\n"
    }
   },
   "outputs": [],
   "source": [
    "year = 2023\n",
    "startYear = 2019\n",
    "endYear = year\n",
    "startMonth = 1\n",
    "endMonth = 12\n",
    "years = [i + startYear for i in range(5)]\n",
    "baseOptions = {\n",
    "   \"startYear\": startYear,\n",
    "   \"endYear\": endYear,\n",
    "   \"startMonth\": startMonth,\n",
    "   \"endMonth\": endMonth,\n",
    "   \"groupTimeRange\": 'year',\n",
    "   \"order\": 'DESC'\n",
    "}\n",
    "\n",
    "localOptions = {\n",
    "   \"limit\": 10\n",
    "}\n",
    "\n",
    "options = copy.deepcopy(baseOptions)\n",
    "options.update(localOptions)"
   ]
  },
  {
   "cell_type": "code",
   "execution_count": 5,
   "id": "83e519f1-4b04-46dd-93bd-5c688c5159a4",
   "metadata": {},
   "outputs": [
    {
     "data": {
      "text/html": [
       "<div>\n",
       "<style scoped>\n",
       "    .dataframe tbody tr th:only-of-type {\n",
       "        vertical-align: middle;\n",
       "    }\n",
       "\n",
       "    .dataframe tbody tr th {\n",
       "        vertical-align: top;\n",
       "    }\n",
       "\n",
       "    .dataframe thead th {\n",
       "        text-align: right;\n",
       "    }\n",
       "</style>\n",
       "<table border=\"1\" class=\"dataframe\">\n",
       "  <thead>\n",
       "    <tr style=\"text-align: right;\">\n",
       "      <th></th>\n",
       "      <th>id</th>\n",
       "      <th>platform</th>\n",
       "      <th>name</th>\n",
       "      <th>openrank</th>\n",
       "    </tr>\n",
       "  </thead>\n",
       "  <tbody>\n",
       "    <tr>\n",
       "      <th>0</th>\n",
       "      <td>4542716</td>\n",
       "      <td>GitHub</td>\n",
       "      <td>NixOS/nixpkgs</td>\n",
       "      <td>[10178.42, 12807.93, 16484.33, 18068.7, 22368.27]</td>\n",
       "    </tr>\n",
       "    <tr>\n",
       "      <th>1</th>\n",
       "      <td>12888993</td>\n",
       "      <td>GitHub</td>\n",
       "      <td>home-assistant/core</td>\n",
       "      <td>[7694.14, 10329.19, 11668.2, 14196.43, 15681.98]</td>\n",
       "    </tr>\n",
       "    <tr>\n",
       "      <th>2</th>\n",
       "      <td>41881900</td>\n",
       "      <td>GitHub</td>\n",
       "      <td>microsoft/vscode</td>\n",
       "      <td>[11551.64, 12556.42, 12051.88, 12239.15, 13271...</td>\n",
       "    </tr>\n",
       "    <tr>\n",
       "      <th>3</th>\n",
       "      <td>72685026</td>\n",
       "      <td>GitHub</td>\n",
       "      <td>MicrosoftDocs/azure-docs</td>\n",
       "      <td>[15179.16, 15635.02, 12386.24, 11419.23, 10400...</td>\n",
       "    </tr>\n",
       "    <tr>\n",
       "      <th>4</th>\n",
       "      <td>65600975</td>\n",
       "      <td>GitHub</td>\n",
       "      <td>pytorch/pytorch</td>\n",
       "      <td>[7157.69, 8648.41, 8850.87, 8058.33, 10182.45]</td>\n",
       "    </tr>\n",
       "    <tr>\n",
       "      <th>5</th>\n",
       "      <td>15634981</td>\n",
       "      <td>GitHub</td>\n",
       "      <td>godotengine/godot</td>\n",
       "      <td>[5848.35, 5919.27, 6159.23, 7556.08, 9906.06]</td>\n",
       "    </tr>\n",
       "    <tr>\n",
       "      <th>6</th>\n",
       "      <td>31792824</td>\n",
       "      <td>GitHub</td>\n",
       "      <td>flutter/flutter</td>\n",
       "      <td>[11750.07, 15945.87, 13022, 10033.56, 9367.81]</td>\n",
       "    </tr>\n",
       "    <tr>\n",
       "      <th>7</th>\n",
       "      <td>19745004</td>\n",
       "      <td>GitHub</td>\n",
       "      <td>odoo/odoo</td>\n",
       "      <td>[5106.76, 5544.93, 5518.5, 7004.32, 9325.34]</td>\n",
       "    </tr>\n",
       "    <tr>\n",
       "      <th>8</th>\n",
       "      <td>632909818</td>\n",
       "      <td>GitHub</td>\n",
       "      <td>digitalinnovationone/dio-lab-open-source</td>\n",
       "      <td>[0, 0, 0, 0, 8447.2]</td>\n",
       "    </tr>\n",
       "    <tr>\n",
       "      <th>9</th>\n",
       "      <td>197275551</td>\n",
       "      <td>GitHub</td>\n",
       "      <td>microsoft/winget-pkgs</td>\n",
       "      <td>[0, 1409.37, 3971.84, 5729.5, 8269.27]</td>\n",
       "    </tr>\n",
       "  </tbody>\n",
       "</table>\n",
       "</div>"
      ],
      "text/plain": [
       "          id platform                                      name  \\\n",
       "0    4542716   GitHub                             NixOS/nixpkgs   \n",
       "1   12888993   GitHub                       home-assistant/core   \n",
       "2   41881900   GitHub                          microsoft/vscode   \n",
       "3   72685026   GitHub                  MicrosoftDocs/azure-docs   \n",
       "4   65600975   GitHub                           pytorch/pytorch   \n",
       "5   15634981   GitHub                         godotengine/godot   \n",
       "6   31792824   GitHub                           flutter/flutter   \n",
       "7   19745004   GitHub                                 odoo/odoo   \n",
       "8  632909818   GitHub  digitalinnovationone/dio-lab-open-source   \n",
       "9  197275551   GitHub                     microsoft/winget-pkgs   \n",
       "\n",
       "                                            openrank  \n",
       "0  [10178.42, 12807.93, 16484.33, 18068.7, 22368.27]  \n",
       "1   [7694.14, 10329.19, 11668.2, 14196.43, 15681.98]  \n",
       "2  [11551.64, 12556.42, 12051.88, 12239.15, 13271...  \n",
       "3  [15179.16, 15635.02, 12386.24, 11419.23, 10400...  \n",
       "4     [7157.69, 8648.41, 8850.87, 8058.33, 10182.45]  \n",
       "5      [5848.35, 5919.27, 6159.23, 7556.08, 9906.06]  \n",
       "6     [11750.07, 15945.87, 13022, 10033.56, 9367.81]  \n",
       "7       [5106.76, 5544.93, 5518.5, 7004.32, 9325.34]  \n",
       "8                               [0, 0, 0, 0, 8447.2]  \n",
       "9             [0, 1409.37, 3971.84, 5729.5, 8269.27]  "
      ]
     },
     "execution_count": 5,
     "metadata": {},
     "output_type": "execute_result"
    }
   ],
   "source": [
    "# use context manager 'with'\n",
    "with NodeVM(**vm_option_open_digger) as vm:\n",
    "    # set show_indexes=True to display functions in the export module.\n",
    "    export_module = get_export_module_open_digger(vm, show_indexes=False)\n",
    "    openDigger = export_module.openDigger\n",
    "    data_repo_openrank = openDigger.index.openrank.getRepoOpenrank(options)\n",
    "    df_data_repo_openrank = pd.DataFrame(list(data_repo_openrank))\n",
    "\n",
    "df_data_repo_openrank"
   ]
  },
  {
   "cell_type": "code",
   "execution_count": 6,
   "id": "d3c21d59-54b8-4248-9b66-13aa68832832",
   "metadata": {
    "pycharm": {
     "name": "#%%\n"
    }
   },
   "outputs": [
    {
     "name": "stdout",
     "output_type": "stream",
     "text": [
      "                                              export_indexes\n",
      "0                              openDigger.label.getLabelData\n",
      "1                           openDigger.label.getPlatformData\n",
      "2                                   openDigger.render.plotly\n",
      "3                          openDigger.driver.neo4j.getClient\n",
      "4                              openDigger.driver.neo4j.query\n",
      "5                        openDigger.driver.neo4j.queryStream\n",
      "6                        openDigger.driver.neo4j.parseRecord\n",
      "7                  openDigger.driver.clickhouse.getNewClient\n",
      "8                         openDigger.driver.clickhouse.query\n",
      "9                   openDigger.driver.clickhouse.queryStream\n",
      "10                openDigger.driver.clickhouse.insertRecords\n",
      "11                 openDigger.index.activity.getRepoActivity\n",
      "12                 openDigger.index.activity.getUserActivity\n",
      "13       openDigger.index.activity.getRepoActivityWithDetail\n",
      "14       openDigger.index.activity.getUserActivityWithDetail\n",
      "15                 openDigger.index.openrank.getRepoOpenrank\n",
      "16                 openDigger.index.openrank.getUserOpenrank\n",
      "17        openDigger.index.openrank.getRepoCommunityOpenrank\n",
      "18                   openDigger.index.attention.getAttention\n",
      "19                openDigger.metric.chaoss.codeChangeCommits\n",
      "20                        openDigger.metric.chaoss.issuesNew\n",
      "21     openDigger.metric.chaoss.issuesAndChangeRequestActive\n",
      "22                     openDigger.metric.chaoss.issuesClosed\n",
      "23                        openDigger.metric.chaoss.busFactor\n",
      "24           openDigger.metric.chaoss.changeRequestsAccepted\n",
      "25           openDigger.metric.chaoss.changeRequestsDeclined\n",
      "26          openDigger.metric.chaoss.issueResolutionDuration\n",
      "27  openDigger.metric.chaoss.changeRequestResolutionDuration\n",
      "28                  openDigger.metric.chaoss.codeChangeLines\n",
      "29                  openDigger.metric.chaoss.newContributors\n",
      "30           openDigger.metric.chaoss.changeRequestsDuration\n",
      "31                openDigger.metric.chaoss.issueResponseTime\n",
      "32        openDigger.metric.chaoss.changeRequestResponseTime\n",
      "33                    openDigger.metric.chaoss.technicalFork\n",
      "34    openDigger.metric.chaoss.changeRequestsAcceptanceRatio\n",
      "35          openDigger.metric.chaoss.repoActiveDatesAndTimes\n",
      "36          openDigger.metric.chaoss.userActiveDatesAndTimes\n",
      "37                         openDigger.metric.chaoss.issueAge\n",
      "38                 openDigger.metric.chaoss.changeRequestAge\n",
      "39             openDigger.metric.chaoss.inactiveContributors\n",
      "40                     openDigger.metric.chaoss.contributors\n",
      "41                          openDigger.metric.xlab.repoStars\n",
      "42                   openDigger.metric.xlab.repoParticipants\n",
      "43             openDigger.metric.xlab.userEquivalentTimeZone\n",
      "44           openDigger.metric.xlab.contributorEmailSuffixes\n",
      "45                                        openDigger.getRank\n",
      "46                                  openDigger.quick.showAll\n"
     ]
    }
   ],
   "source": [
    "with NodeVM(**vm_option_open_digger) as vm:\n",
    "    # set show_indexes=True to display functions in the export module.\n",
    "    df_options = {\n",
    "        \"max_colwidth\": 60,\n",
    "        # \"rows\": range(40),\n",
    "        \"columns\": [\"export_indexes\"],\n",
    "        # \"apply_func\": {\"func\": lambda x: sum([len(x_elem) for x_elem in x]) < 25, \"axis\": 1}\n",
    "        }\n",
    "    get_export_module_open_digger(vm, show_indexes=True, df_options=df_options)"
   ]
  },
  {
   "cell_type": "code",
   "execution_count": 7,
   "id": "b8a39074-d898-451f-a77d-d8cf6509521c",
   "metadata": {},
   "outputs": [],
   "source": [
    "# use vm_context_manager as a manual context manager\n",
    "vmc = VMContext(**vm_option_open_digger)"
   ]
  },
  {
   "cell_type": "code",
   "execution_count": 8,
   "id": "c33a9d11-1084-48d4-aa0a-a0074b0ea542",
   "metadata": {},
   "outputs": [
    {
     "data": {
      "text/plain": [
       "<node_vm2.NodeVM at 0x7f4d254c3070>"
      ]
     },
     "execution_count": 8,
     "metadata": {},
     "output_type": "execute_result"
    }
   ],
   "source": [
    "vmc.open()"
   ]
  },
  {
   "cell_type": "code",
   "execution_count": 9,
   "id": "4479b888-109e-4227-b555-95935782b15d",
   "metadata": {},
   "outputs": [],
   "source": [
    "vm = vmc.vm\n",
    "export_module = get_export_module_open_digger(vm)\n",
    "openDigger = export_module.openDigger"
   ]
  },
  {
   "cell_type": "code",
   "execution_count": 10,
   "id": "6e290554-7740-4fe5-8c92-499d1103a8cb",
   "metadata": {},
   "outputs": [
    {
     "data": {
      "text/html": [
       "<div>\n",
       "<style scoped>\n",
       "    .dataframe tbody tr th:only-of-type {\n",
       "        vertical-align: middle;\n",
       "    }\n",
       "\n",
       "    .dataframe tbody tr th {\n",
       "        vertical-align: top;\n",
       "    }\n",
       "\n",
       "    .dataframe thead th {\n",
       "        text-align: right;\n",
       "    }\n",
       "</style>\n",
       "<table border=\"1\" class=\"dataframe\">\n",
       "  <thead>\n",
       "    <tr style=\"text-align: right;\">\n",
       "      <th></th>\n",
       "      <th>id</th>\n",
       "      <th>platform</th>\n",
       "      <th>name</th>\n",
       "      <th>openrank</th>\n",
       "    </tr>\n",
       "  </thead>\n",
       "  <tbody>\n",
       "    <tr>\n",
       "      <th>0</th>\n",
       "      <td>1580956</td>\n",
       "      <td>GitHub</td>\n",
       "      <td>chenrui333</td>\n",
       "      <td>[674.78, 1261.4, 1533.26, 988, 2039.17]</td>\n",
       "    </tr>\n",
       "    <tr>\n",
       "      <th>1</th>\n",
       "      <td>663432</td>\n",
       "      <td>GitHub</td>\n",
       "      <td>bdraco</td>\n",
       "      <td>[4.75, 777.74, 1040.31, 1654.06, 1898.51]</td>\n",
       "    </tr>\n",
       "    <tr>\n",
       "      <th>2</th>\n",
       "      <td>116184</td>\n",
       "      <td>GitHub</td>\n",
       "      <td>fabaff</td>\n",
       "      <td>[276.82, 207, 1144.26, 1208.32, 1679.7]</td>\n",
       "    </tr>\n",
       "    <tr>\n",
       "      <th>3</th>\n",
       "      <td>105994585</td>\n",
       "      <td>GitHub</td>\n",
       "      <td>p-linnane</td>\n",
       "      <td>[0, 0, 0, 1105.82, 1300.46]</td>\n",
       "    </tr>\n",
       "    <tr>\n",
       "      <th>4</th>\n",
       "      <td>195327</td>\n",
       "      <td>GitHub</td>\n",
       "      <td>frenck</td>\n",
       "      <td>[389.28, 918.57, 1739.47, 1559.47, 1210.99]</td>\n",
       "    </tr>\n",
       "    <tr>\n",
       "      <th>5</th>\n",
       "      <td>26833433</td>\n",
       "      <td>GitHub</td>\n",
       "      <td>glenn-jocher</td>\n",
       "      <td>[114.57, 371.08, 723.53, 737.96, 1205.96]</td>\n",
       "    </tr>\n",
       "    <tr>\n",
       "      <th>6</th>\n",
       "      <td>55035720</td>\n",
       "      <td>GitHub</td>\n",
       "      <td>content-bot</td>\n",
       "      <td>[23.08, 120.54, 580.66, 675.92, 1107.72]</td>\n",
       "    </tr>\n",
       "    <tr>\n",
       "      <th>7</th>\n",
       "      <td>56779163</td>\n",
       "      <td>GitHub</td>\n",
       "      <td>SpecterShell</td>\n",
       "      <td>[0, 0, 63.65, 440.1, 1103.59]</td>\n",
       "    </tr>\n",
       "    <tr>\n",
       "      <th>8</th>\n",
       "      <td>79238446</td>\n",
       "      <td>GitHub</td>\n",
       "      <td>mssonicbld</td>\n",
       "      <td>[0, 0, 56.12, 151.2, 1073.56]</td>\n",
       "    </tr>\n",
       "    <tr>\n",
       "      <th>9</th>\n",
       "      <td>28706372</td>\n",
       "      <td>GitHub</td>\n",
       "      <td>danielroe</td>\n",
       "      <td>[53.14, 127.23, 271.02, 674.22, 1034.67]</td>\n",
       "    </tr>\n",
       "  </tbody>\n",
       "</table>\n",
       "</div>"
      ],
      "text/plain": [
       "          id platform          name  \\\n",
       "0    1580956   GitHub    chenrui333   \n",
       "1     663432   GitHub        bdraco   \n",
       "2     116184   GitHub        fabaff   \n",
       "3  105994585   GitHub     p-linnane   \n",
       "4     195327   GitHub        frenck   \n",
       "5   26833433   GitHub  glenn-jocher   \n",
       "6   55035720   GitHub   content-bot   \n",
       "7   56779163   GitHub  SpecterShell   \n",
       "8   79238446   GitHub    mssonicbld   \n",
       "9   28706372   GitHub     danielroe   \n",
       "\n",
       "                                      openrank  \n",
       "0      [674.78, 1261.4, 1533.26, 988, 2039.17]  \n",
       "1    [4.75, 777.74, 1040.31, 1654.06, 1898.51]  \n",
       "2      [276.82, 207, 1144.26, 1208.32, 1679.7]  \n",
       "3                  [0, 0, 0, 1105.82, 1300.46]  \n",
       "4  [389.28, 918.57, 1739.47, 1559.47, 1210.99]  \n",
       "5    [114.57, 371.08, 723.53, 737.96, 1205.96]  \n",
       "6     [23.08, 120.54, 580.66, 675.92, 1107.72]  \n",
       "7                [0, 0, 63.65, 440.1, 1103.59]  \n",
       "8                [0, 0, 56.12, 151.2, 1073.56]  \n",
       "9     [53.14, 127.23, 271.02, 674.22, 1034.67]  "
      ]
     },
     "execution_count": 10,
     "metadata": {},
     "output_type": "execute_result"
    }
   ],
   "source": [
    "data_user_openrank = openDigger.index.openrank.getUserOpenrank(options)\n",
    "pd.DataFrame(list(data_user_openrank))"
   ]
  },
  {
   "cell_type": "code",
   "execution_count": 11,
   "id": "ca13223f-68a8-4f56-8bbb-46bb5f2996fc",
   "metadata": {},
   "outputs": [],
   "source": [
    "def row_openrank_postprocess(row):\n",
    "    years = [2019, 2020, 2021, 2022, 2023]\n",
    "    return {\n",
    "        \"x\": years,\n",
    "        \"y\": row[\"openrank\"],\n",
    "        \"name\": row[\"name\"]\n",
    "    }\n",
    "\n",
    "def processTechFieldRepoOpenrank(options, title):\n",
    "    data = openDigger.index.openrank.getRepoOpenrank(\n",
    "        dict(**baseOptions, \n",
    "             **dict(options)\n",
    "            )\n",
    "    )\n",
    "    data_records = pd.DataFrame(data).apply(row_openrank_postprocess, axis=1).values.tolist()\n",
    "    openDigger.render.plotly(\n",
    "        data_records,\n",
    "        {\"title\": f\"Top 10 OpenRank repositories of {title} 2019-2023\"},\n",
    "        MultiMime()\n",
    "    )"
   ]
  },
  {
   "cell_type": "code",
   "execution_count": 12,
   "id": "35b071e2-f0f9-4e3c-9fb8-44e735b35e6b",
   "metadata": {
    "tags": []
   },
   "outputs": [
    {
     "data": {
      "application/vnd.plotly.v1+json": {
       "data": [
        {
         "name": "elastic/kibana",
         "x": [
          2019,
          2020,
          2021,
          2022,
          2023
         ],
         "y": [
          5850.92,
          7653.21,
          7738.96,
          7880.61,
          7601.04
         ]
        },
        {
         "name": "grafana/grafana",
         "x": [
          2019,
          2020,
          2021,
          2022,
          2023
         ],
         "y": [
          3362.24,
          4710.99,
          5500.94,
          6195.07,
          7134.37
         ]
        },
        {
         "name": "ClickHouse/ClickHouse",
         "x": [
          2019,
          2020,
          2021,
          2022,
          2023
         ],
         "y": [
          2186.3,
          3327.7,
          4114.29,
          4345.95,
          4941.99
         ]
        },
        {
         "name": "airbytehq/airbyte",
         "x": [
          2019,
          2020,
          2021,
          2022,
          2023
         ],
         "y": [
          0,
          72.4,
          1625.84,
          4172.65,
          4658.86
         ]
        },
        {
         "name": "apache/doris",
         "x": [
          2019,
          2020,
          2021,
          2022,
          2023
         ],
         "y": [
          500.37,
          961.46,
          940.77,
          2296.17,
          4307.26
         ]
        },
        {
         "name": "elastic/elasticsearch",
         "x": [
          2019,
          2020,
          2021,
          2022,
          2023
         ],
         "y": [
          4503.12,
          4754.73,
          4229.9,
          3806.69,
          3729.39
         ]
        },
        {
         "name": "apache/airflow",
         "x": [
          2019,
          2020,
          2021,
          2022,
          2023
         ],
         "y": [
          1587.27,
          2775.71,
          3699.36,
          3550.43,
          3642.9
         ]
        },
        {
         "name": "StarRocks/starrocks",
         "x": [
          2019,
          2020,
          2021,
          2022,
          2023
         ],
         "y": [
          0,
          0,
          239.66,
          2220.96,
          3194.56
         ]
        },
        {
         "name": "trinodb/trino",
         "x": [
          2019,
          2020,
          2021,
          2022,
          2023
         ],
         "y": [
          951.83,
          1842.82,
          2247.44,
          2620.59,
          2703.4
         ]
        },
        {
         "name": "apache/spark",
         "x": [
          2019,
          2020,
          2021,
          2022,
          2023
         ],
         "y": [
          3050.64,
          3010.47,
          2618.08,
          2322,
          2654.02
         ]
        }
       ],
       "layout": {
        "autosize": true,
        "title": {
         "text": "Top 10 OpenRank repositories of Big Data 2019-2023"
        },
        "xaxis": {
         "autorange": true,
         "range": [
          2018.7558537227046,
          2023.2441462772954
         ],
         "type": "linear"
        },
        "yaxis": {
         "autorange": true,
         "range": [
          -650.3416019417476,
          8530.951601941748
         ],
         "type": "linear"
        }
       }
      },
      "image/png": "[encoded data removed]"
     },
     "metadata": {},
     "output_type": "display_data"
    }
   ],
   "source": [
    "processTechFieldRepoOpenrank({\"labelIntersect\": [':technology/big_data']}, 'Big Data');"
   ]
  },
  {
   "cell_type": "code",
   "execution_count": 13,
   "id": "13ddee40-597a-4b4a-a9c4-81c1f1fc42fc",
   "metadata": {},
   "outputs": [],
   "source": [
    "def row_activity_postprocess(row):\n",
    "    years = [2019, 2020, 2021, 2022, 2023]\n",
    "    return {\n",
    "        \"x\": years,\n",
    "        \"y\": row[\"activity\"],\n",
    "        \"name\": row[\"name\"]\n",
    "    }\n",
    "def processTechFieldRepoActivity(options, title):\n",
    "    data = openDigger.index.activity.getRepoActivity(\n",
    "        dict(**baseOptions, \n",
    "             **dict(options)\n",
    "            )\n",
    "    )\n",
    "    data_records = pd.DataFrame(data).apply(row_activity_postprocess, axis=1).values.tolist()\n",
    "    openDigger.render.plotly(\n",
    "        data_records, \n",
    "        {\"title\": f\"Top 10 Activity repositories of {title} 2019-2023\"},\n",
    "        MultiMime()\n",
    "    )"
   ]
  },
  {
   "cell_type": "code",
   "execution_count": 14,
   "id": "9c67752f-1eb7-4858-8bf8-0f9ceda56bfc",
   "metadata": {},
   "outputs": [
    {
     "data": {
      "application/vnd.plotly.v1+json": {
       "data": [
        {
         "name": "elastic/kibana",
         "x": [
          2019,
          2020,
          2021,
          2022,
          2023
         ],
         "y": [
          19081,
          24101.53,
          22269.45,
          21462.77,
          20396.34
         ]
        },
        {
         "name": "grafana/grafana",
         "x": [
          2019,
          2020,
          2021,
          2022,
          2023
         ],
         "y": [
          9634.56,
          12828.86,
          13856.86,
          16400.21,
          18601.91
         ]
        },
        {
         "name": "ClickHouse/ClickHouse",
         "x": [
          2019,
          2020,
          2021,
          2022,
          2023
         ],
         "y": [
          5658.17,
          8471.87,
          10070.79,
          11201.19,
          12418.45
         ]
        },
        {
         "name": "apache/doris",
         "x": [
          2019,
          2020,
          2021,
          2022,
          2023
         ],
         "y": [
          1652.61,
          2374.67,
          2483.99,
          6784.18,
          12244.03
         ]
        },
        {
         "name": "airbytehq/airbyte",
         "x": [
          2019,
          2020,
          2021,
          2022,
          2023
         ],
         "y": [
          0,
          565.88,
          5557.67,
          11392.73,
          11070.85
         ]
        },
        {
         "name": "StarRocks/starrocks",
         "x": [
          2019,
          2020,
          2021,
          2022,
          2023
         ],
         "y": [
          0,
          0,
          1403.45,
          8271.12,
          10471.99
         ]
        },
        {
         "name": "elastic/elasticsearch",
         "x": [
          2019,
          2020,
          2021,
          2022,
          2023
         ],
         "y": [
          12525.61,
          13393.13,
          11129.39,
          9928.14,
          9895.12
         ]
        },
        {
         "name": "apache/airflow",
         "x": [
          2019,
          2020,
          2021,
          2022,
          2023
         ],
         "y": [
          4806.25,
          8111.34,
          9341.88,
          9332.56,
          9253.9
         ]
        },
        {
         "name": "apache/arrow",
         "x": [
          2019,
          2020,
          2021,
          2022,
          2023
         ],
         "y": [
          3920.39,
          4094.34,
          4566.06,
          5268.79,
          7291.72
         ]
        },
        {
         "name": "metabase/metabase",
         "x": [
          2019,
          2020,
          2021,
          2022,
          2023
         ],
         "y": [
          3920.94,
          3792.18,
          4333.95,
          5605.87,
          6754.46
         ]
        }
       ],
       "layout": {
        "autosize": true,
        "title": {
         "text": "Top 10 Activity repositories of Big Data 2019-2023"
        },
        "xaxis": {
         "autorange": true,
         "range": [
          2018.7558537227046,
          2023.2441462772954
         ],
         "type": "linear"
        },
        "yaxis": {
         "autorange": true,
         "range": [
          -1988.9612135922328,
          26090.49121359223
         ],
         "type": "linear"
        }
       }
      },
      "image/png": "[encoded data removed]"
     },
     "metadata": {},
     "output_type": "display_data"
    }
   ],
   "source": [
    "processTechFieldRepoActivity({\"labelIntersect\": [':technology/big_data']}, 'Big Data')"
   ]
  },
  {
   "cell_type": "code",
   "execution_count": 15,
   "id": "63a4e8f1-c116-4ee3-a7fa-d315a6f1d747",
   "metadata": {},
   "outputs": [],
   "source": [
    "def activity_rank_postporcess(row):\n",
    "    return {\n",
    "        \"x\": [2019, 2020, 2021, 2022, 2023],\n",
    "        \"y\": row[\"values\"],\n",
    "        \"name\": row[\"name\"],\n",
    "        \"type\": 'scatter'\n",
    "    }\n",
    "def processRegionsCompanyRepoActivity(options, title):\n",
    "    data = openDigger.index.activity.getRepoActivity({\n",
    "        \"startYear\": startYear, \"endYear\": endYear, \"startMonth\": startMonth, \"endMonth\": endMonth,\n",
    "        \"groupBy\": 'Company', \"groupTimeRange\": 'year', \"order\": 'DESC',\n",
    "    })\n",
    "    \n",
    "    data_records = pd.DataFrame(data).to_dict('records')\n",
    "    data_periodranks = openDigger.getRank(data_records, lambda x: x[\"name\"], lambda x: x[\"activity\"])\n",
    "    \n",
    "    data_periodranks_records = pd.DataFrame(data_periodranks).apply(activity_rank_postporcess, axis=1).values.tolist()\n",
    "    openDigger.render.plotly(data_periodranks_records, {\n",
    "        \"title\": f\"{title}活跃度 Top 10 {startYear} - {year}\", \n",
    "        \"xaxis\": { \"type\": 'category' }, \n",
    "        \"yaxis\": { \"autorange\": 'reversed', \"dtick\": 1 } \n",
    "    }, MultiMime())"
   ]
  },
  {
   "cell_type": "code",
   "execution_count": 16,
   "id": "7cdd2827-e5ed-4bdd-90b9-32bdf6405818",
   "metadata": {},
   "outputs": [
    {
     "data": {
      "application/vnd.plotly.v1+json": {
       "data": [
        {
         "name": "Others",
         "type": "scatter",
         "x": [
          2019,
          2020,
          2021,
          2022,
          2023
         ],
         "y": [
          1,
          1,
          1,
          1,
          1
         ]
        },
        {
         "name": "Microsoft",
         "type": "scatter",
         "x": [
          2019,
          2020,
          2021,
          2022,
          2023
         ],
         "y": [
          2,
          2,
          2,
          2,
          2
         ]
        },
        {
         "name": "Google",
         "type": "scatter",
         "x": [
          2019,
          2020,
          2021,
          2022,
          2023
         ],
         "y": [
          3,
          3,
          3,
          3,
          3
         ]
        },
        {
         "name": "Amazon",
         "type": "scatter",
         "x": [
          2019,
          2020,
          2021,
          2022,
          2023
         ],
         "y": [
          5,
          4,
          4,
          4,
          4
         ]
        },
        {
         "name": "Huawei",
         "type": "scatter",
         "x": [
          2019,
          2020,
          2021,
          2022,
          2023
         ],
         "y": [
          10,
          9,
          6,
          5,
          5
         ]
        },
        {
         "name": "Meta",
         "type": "scatter",
         "x": [
          2019,
          2020,
          2021,
          2022,
          2023
         ],
         "y": [
          4,
          5,
          5,
          6,
          6
         ]
        },
        {
         "name": "Alibaba",
         "type": "scatter",
         "x": [
          2019,
          2020,
          2021,
          2022,
          2023
         ],
         "y": [
          6,
          7,
          7,
          7,
          7
         ]
        },
        {
         "name": "HashiCorp",
         "type": "scatter",
         "x": [
          2019,
          2020,
          2021,
          2022,
          2023
         ],
         "y": [
          9,
          10,
          9,
          8,
          8
         ]
        },
        {
         "name": "Elastic",
         "type": "scatter",
         "x": [
          2019,
          2020,
          2021,
          2022,
          2023
         ],
         "y": [
          7,
          6,
          8,
          9,
          9
         ]
        },
        {
         "name": "Baidu",
         "type": "scatter",
         "x": [
          2019,
          2020,
          2021,
          2022,
          2023
         ],
         "y": [
          8,
          8,
          10,
          10,
          10
         ]
        }
       ],
       "layout": {
        "autosize": true,
        "title": {
         "text": "中国企业活跃度 Top 10 2019 - 2023"
        },
        "xaxis": {
         "autorange": true,
         "range": [
          -0.24242424242424243,
          4.242424242424242
         ],
         "type": "category"
        },
        "yaxis": {
         "autorange": true,
         "dtick": 1,
         "range": [
          10.742718446601941,
          0.25728155339805825
         ],
         "type": "linear"
        }
       }
      },
      "image/png": "[encoded data removed]"
     },
     "metadata": {},
     "output_type": "display_data"
    }
   ],
   "source": [
    "processRegionsCompanyRepoActivity({\"labelIntersect\": [':regions/CN', 'Company']}, \"中国企业\")"
   ]
  },
  {
   "cell_type": "code",
   "execution_count": 17,
   "id": "a7856c29-71eb-462f-b00a-a2a38f44df16",
   "metadata": {},
   "outputs": [
    {
     "data": {
      "application/vnd.plotly.v1+json": {
       "data": [
        {
         "mode": "scatter",
         "name": "activity",
         "x": [
          "2015-1",
          "2015-2",
          "2015-3",
          "2015-4",
          "2015-5",
          "2015-6",
          "2015-7",
          "2015-8",
          "2015-9",
          "2015-10",
          "2015-11",
          "2015-12",
          "2016-1",
          "2016-2",
          "2016-3",
          "2016-4",
          "2016-5",
          "2016-6",
          "2016-7",
          "2016-8",
          "2016-9",
          "2016-10",
          "2016-11",
          "2016-12",
          "2017-1",
          "2017-2",
          "2017-3",
          "2017-4",
          "2017-5",
          "2017-6",
          "2017-7",
          "2017-8",
          "2017-9",
          "2017-10",
          "2017-11",
          "2017-12",
          "2018-1",
          "2018-2",
          "2018-3",
          "2018-4",
          "2018-5",
          "2018-6",
          "2018-7",
          "2018-8",
          "2018-9",
          "2018-10",
          "2018-11",
          "2018-12",
          "2019-1",
          "2019-2",
          "2019-3",
          "2019-4",
          "2019-5",
          "2019-6",
          "2019-7",
          "2019-8",
          "2019-9",
          "2019-10",
          "2019-11",
          "2019-12",
          "2020-1",
          "2020-2",
          "2020-3",
          "2020-4",
          "2020-5",
          "2020-6",
          "2020-7",
          "2020-8",
          "2020-9",
          "2020-10",
          "2020-11",
          "2020-12",
          "2021-1",
          "2021-2",
          "2021-3",
          "2021-4",
          "2021-5",
          "2021-6",
          "2021-7",
          "2021-8",
          "2021-9",
          "2021-10",
          "2021-11",
          "2021-12",
          "2022-1",
          "2022-2",
          "2022-3",
          "2022-4",
          "2022-5",
          "2022-6",
          "2022-7",
          "2022-8",
          "2022-9",
          "2022-10",
          "2022-11",
          "2022-12",
          "2023-1",
          "2023-2",
          "2023-3",
          "2023-4",
          "2023-5",
          "2023-6",
          "2023-7",
          "2023-8",
          "2023-9",
          "2023-10",
          "2023-11",
          "2023-12"
         ],
         "y": [
          78.96,
          88.03,
          131.18,
          121.91,
          112.17,
          105.86,
          132.85,
          131.71,
          124.17,
          124.32,
          177.96,
          197.01,
          251.5,
          241.25,
          223.35,
          197.2,
          201.26,
          183.07,
          156.27,
          172.09,
          168.06,
          147.37,
          175.9,
          151.14,
          150.32,
          196.99,
          217.16,
          160.43,
          186.07,
          201.43,
          177.21,
          192.14,
          223.45,
          206.78,
          172.17,
          134.44,
          186.06,
          191.28,
          193.23,
          215.03,
          187.6,
          150.08,
          214.87,
          238.64,
          168.91,
          218.27,
          193.98,
          165.34,
          244.35,
          249.22,
          273.79,
          288.6,
          273.38,
          274.16,
          325.76,
          298.14,
          224.81,
          293.56,
          258.5,
          192.07,
          234.93,
          240.68,
          254.33,
          276.13,
          247.56,
          252.6,
          198.36,
          196.79,
          226.76,
          215.58,
          148.81,
          202.4,
          191.93,
          203.56,
          242.04,
          227.82,
          225.35,
          163.18,
          232.63,
          218.3,
          183,
          86.79,
          237.02,
          220.87,
          224.26,
          169.44,
          193.79,
          247.14,
          189.58,
          186,
          197.68,
          264.82,
          230.6,
          244.9,
          252.29,
          214.52,
          232.72,
          246.31,
          243.23,
          211.44,
          252.08,
          262.96,
          288.27,
          323.69,
          231.71,
          318.42,
          286.17,
          243.25
         ]
        },
        {
         "mode": "scatter",
         "name": "openrank",
         "x": [
          "2015-1",
          "2015-2",
          "2015-3",
          "2015-4",
          "2015-5",
          "2015-6",
          "2015-7",
          "2015-8",
          "2015-9",
          "2015-10",
          "2015-11",
          "2015-12",
          "2016-1",
          "2016-2",
          "2016-3",
          "2016-4",
          "2016-5",
          "2016-6",
          "2016-7",
          "2016-8",
          "2016-9",
          "2016-10",
          "2016-11",
          "2016-12",
          "2017-1",
          "2017-2",
          "2017-3",
          "2017-4",
          "2017-5",
          "2017-6",
          "2017-7",
          "2017-8",
          "2017-9",
          "2017-10",
          "2017-11",
          "2017-12",
          "2018-1",
          "2018-2",
          "2018-3",
          "2018-4",
          "2018-5",
          "2018-6",
          "2018-7",
          "2018-8",
          "2018-9",
          "2018-10",
          "2018-11",
          "2018-12",
          "2019-1",
          "2019-2",
          "2019-3",
          "2019-4",
          "2019-5",
          "2019-6",
          "2019-7",
          "2019-8",
          "2019-9",
          "2019-10",
          "2019-11",
          "2019-12",
          "2020-1",
          "2020-2",
          "2020-3",
          "2020-4",
          "2020-5",
          "2020-6",
          "2020-7",
          "2020-8",
          "2020-9",
          "2020-10",
          "2020-11",
          "2020-12",
          "2021-1",
          "2021-2",
          "2021-3",
          "2021-4",
          "2021-5",
          "2021-6",
          "2021-7",
          "2021-8",
          "2021-9",
          "2021-10",
          "2021-11",
          "2021-12",
          "2022-1",
          "2022-2",
          "2022-3",
          "2022-4",
          "2022-5",
          "2022-6",
          "2022-7",
          "2022-8",
          "2022-9",
          "2022-10",
          "2022-11",
          "2022-12",
          "2023-1",
          "2023-2",
          "2023-3",
          "2023-4",
          "2023-5",
          "2023-6",
          "2023-7",
          "2023-8",
          "2023-9",
          "2023-10",
          "2023-11",
          "2023-12"
         ],
         "y": [
          5.33,
          10.89,
          18.56,
          24.15,
          29.96,
          31.49,
          37.69,
          39.77,
          38.57,
          37.4,
          46.07,
          54.27,
          68.32,
          73.34,
          76.16,
          76.4,
          75.65,
          75.65,
          78.08,
          78.81,
          74.45,
          71.95,
          77.23,
          73.94,
          74.75,
          78.06,
          85.35,
          75.54,
          78.31,
          77.14,
          84.48,
          87.02,
          96.18,
          93.16,
          88.06,
          73.12,
          77.87,
          83.13,
          85.49,
          91.05,
          88.34,
          77.83,
          87.42,
          88.51,
          86.32,
          89.07,
          87.18,
          83.33,
          92.59,
          97.65,
          104.32,
          112.67,
          109.68,
          104.5,
          116.5,
          114.61,
          101.99,
          109.68,
          105.05,
          92.53,
          82.45,
          85.31,
          88.63,
          92.61,
          89.69,
          88.71,
          75.47,
          76.75,
          88.23,
          92.99,
          79.47,
          84.54,
          83.07,
          86.01,
          93.27,
          92.65,
          97.1,
          88.7,
          92.39,
          90.35,
          90.98,
          74.4,
          87.16,
          88.98,
          86.2,
          82.98,
          83.89,
          90.01,
          92.57,
          88.8,
          91.38,
          90.17,
          94.62,
          91.32,
          91.53,
          94.85,
          95.2,
          101.17,
          103.97,
          98.22,
          104.11,
          100.11,
          105.27,
          106.53,
          106.65,
          115.84,
          124.74,
          108.98
         ]
        }
       ],
       "layout": {
        "autosize": true,
        "title": {
         "text": "Activity/OpenRank for apache/spark from 2015 to 2023"
        },
        "xaxis": {
         "autorange": true,
         "range": [
          "2015-01-01",
          "2023-12-01"
         ],
         "type": "date"
        },
        "yaxis": {
         "autorange": true,
         "range": [
          -12.471666666666666,
          343.56166666666667
         ],
         "type": "linear"
        }
       }
      },
      "image/png": "[encoded data removed]"
     },
     "metadata": {},
     "output_type": "display_data"
    }
   ],
   "source": [
    "baseOptions = {\n",
    "        \"labelUnion\": [':technology/database'],\n",
    "        \"startYear\": 2015, \"endYear\": 2023, \"startMonth\": 1, \"endMonth\": 12,\n",
    "        \"groupTimeRange\": 'month', \"limit\": 1\n",
    "    }\n",
    "openDigger.quick.showAll(openDigger,  repoName=\"apache/spark\", baseOptions=baseOptions)"
   ]
  },
  {
   "cell_type": "code",
   "execution_count": 18,
   "id": "2b9db08b-cca7-4e58-bcac-75e04f2b29b2",
   "metadata": {},
   "outputs": [
    {
     "data": {
      "text/plain": [
       "<node_vm2.NodeVM at 0x7f4d254c3070>"
      ]
     },
     "execution_count": 18,
     "metadata": {},
     "output_type": "execute_result"
    }
   ],
   "source": [
    "vmc.close()"
   ]
  },
  {
   "cell_type": "code",
   "execution_count": null,
   "id": "dbc750c6-388d-4784-9f6a-29cdd788e0bb",
   "metadata": {},
   "outputs": [],
   "source": []
  }
 ],
 "metadata": {
  "kernelspec": {
   "display_name": "Python 3 (ipykernel)",
   "language": "python",
   "name": "python3"
  },
  "language_info": {
   "codemirror_mode": {
    "name": "ipython",
    "version": 3
   },
   "file_extension": ".py",
   "mimetype": "text/x-python",
   "name": "python",
   "nbconvert_exporter": "python",
   "pygments_lexer": "ipython3",
   "version": "3.8.10"
  }
 },
 "nbformat": 4,
 "nbformat_minor": 5
}
