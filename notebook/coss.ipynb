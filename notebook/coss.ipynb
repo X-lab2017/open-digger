{
 "cells": [
  {
   "cell_type": "code",
   "execution_count": 1,
   "id": "f4156961-d3c8-4faf-8df2-ca7276f182e1",
   "metadata": {},
   "outputs": [],
   "source": [
    "var openDigger = require('../src/open_digger');"
   ]
  },
  {
   "cell_type": "markdown",
   "id": "73416250-b9b2-40df-a45c-d34cd8b69862",
   "metadata": {},
   "source": [
    "# COSS\n",
    "\n",
    "This is a notebook for commercial open source companies."
   ]
  },
  {
   "cell_type": "code",
   "execution_count": 2,
   "id": "ed47c9f4-4d11-40ed-9816-2fffc84cc2c9",
   "metadata": {},
   "outputs": [
    {
     "name": "stdout",
     "output_type": "stream",
     "text": [
      "There are 10 repos and 73 orgs for COSS in OpenDigger.\n"
     ]
    }
   ],
   "source": [
    "var cossData = openDigger.label.getGitHubData([':companies/coss']);\n",
    "console.log(`There are ${cossData.githubRepos.length} repos and ${cossData.githubOrgs.length} orgs for COSS in OpenDigger.`);"
   ]
  },
  {
   "cell_type": "markdown",
   "id": "933cbee3-f18c-4b9f-b9b2-1e2e42d6a76d",
   "metadata": {},
   "source": [
    "## Activity for global COSS"
   ]
  },
  {
   "cell_type": "code",
   "execution_count": 4,
   "id": "4d9c87e5-e9fc-40d8-8c1b-5daac0d02441",
   "metadata": {},
   "outputs": [
    {
     "data": {
      "application/vnd.plotly.v1+json": {
       "data": [
        {
         "name": "Elastic",
         "x": [
          2015,
          2016,
          2017,
          2018,
          2019,
          2020,
          2021
         ],
         "y": [
          29231.23,
          36199.47,
          36390.88,
          48098.9,
          77264.13,
          94173.01,
          91502.33
         ]
        },
        {
         "name": "HashiCorp",
         "x": [
          2015,
          2016,
          2017,
          2018,
          2019,
          2020,
          2021
         ],
         "y": [
          15958.07,
          25629.62,
          29997.89,
          29609.37,
          36336.1,
          55264.59,
          79669.16
         ]
        },
        {
         "name": "Mozilla",
         "x": [
          2015,
          2016,
          2017,
          2018,
          2019,
          2020,
          2021
         ],
         "y": [
          58088.84,
          59489.12,
          69706.7,
          71318.1,
          89571.8,
          82656.34,
          62789.97
         ]
        },
        {
         "name": "PingCAP",
         "x": [
          2015,
          2016,
          2017,
          2018,
          2019,
          2020,
          2021
         ],
         "y": [
          946.64,
          5519.89,
          11770.48,
          17303.3,
          35036.71,
          47653.8,
          46202.83
         ]
        },
        {
         "name": "Cloudbees",
         "x": [
          2015,
          2016,
          2017,
          2018,
          2019,
          2020,
          2021
         ],
         "y": [
          23049.21,
          32041.75,
          33418.03,
          29054.76,
          37367.86,
          40851.91,
          37090.39
         ]
        },
        {
         "name": "Docker",
         "x": [
          2015,
          2016,
          2017,
          2018,
          2019,
          2020,
          2021
         ],
         "y": [
          51423.39,
          64397.46,
          62191.23,
          45130.74,
          40899.75,
          43103.07,
          33372.3
         ]
        },
        {
         "name": "JetBrains",
         "x": [
          2015,
          2016,
          2017,
          2018,
          2019,
          2020,
          2021
         ],
         "y": [
          6712.95,
          7453.04,
          11343.1,
          14402.02,
          16879.16,
          24371.68,
          25781.26
         ]
        },
        {
         "name": "WordPress",
         "x": [
          2015,
          2016,
          2017,
          2018,
          2019,
          2020,
          2021
         ],
         "y": [
          993.03,
          1303.98,
          6526.59,
          16320.84,
          16620.42,
          21360.65,
          23013.03
         ]
        },
        {
         "name": "MongoDB",
         "x": [
          2015,
          2016,
          2017,
          2018,
          2019,
          2020,
          2021
         ],
         "y": [
          4865.72,
          5846.7,
          5356.27,
          7761.12,
          11143.1,
          18285.11,
          20402.79
         ]
        },
        {
         "name": "Odoo",
         "x": [
          2015,
          2016,
          2017,
          2018,
          2019,
          2020,
          2021
         ],
         "y": [
          11208.13,
          8790.24,
          10369.9,
          12613.94,
          17081.44,
          19097.91,
          19965.46
         ]
        },
        {
         "name": "Magento",
         "x": [
          2015,
          2016,
          2017,
          2018,
          2019,
          2020,
          2021
         ],
         "y": [
          5346.44,
          16089.65,
          18798.15,
          21943.29,
          31837.32,
          30968.95,
          17959.21
         ]
        },
        {
         "name": "Adobe",
         "x": [
          2015,
          2016,
          2017,
          2018,
          2019,
          2020,
          2021
         ],
         "y": [
          5346.44,
          16089.65,
          18798.15,
          21943.29,
          31837.32,
          30968.95,
          17959.21
         ]
        },
        {
         "name": "Puppet Labs",
         "x": [
          2015,
          2016,
          2017,
          2018,
          2019,
          2020,
          2021
         ],
         "y": [
          25171.92,
          26250.52,
          22865.61,
          22086.22,
          22396.63,
          21444.95,
          16398.82
         ]
        },
        {
         "name": "Databricks",
         "x": [
          2015,
          2016,
          2017,
          2018,
          2019,
          2020,
          2021
         ],
         "y": [
          19584.36,
          20233.73,
          17914.44,
          17109.04,
          19517.12,
          18391.46,
          16020.26
         ]
        },
        {
         "name": "Mapbox",
         "x": [
          2015,
          2016,
          2017,
          2018,
          2019,
          2020,
          2021
         ],
         "y": [
          16206.1,
          23350.96,
          25266,
          27164.95,
          22080.17,
          18752.39,
          15762.25
         ]
        },
        {
         "name": "Mulesoft",
         "x": [
          2015,
          2016,
          2017,
          2018,
          2019,
          2020,
          2021
         ],
         "y": [
          4383.17,
          6390.64,
          10700.55,
          9884.94,
          16192.48,
          15121.12,
          11919.97
         ]
        },
        {
         "name": "Pivotal",
         "x": [
          2015,
          2016,
          2017,
          2018,
          2019,
          2020,
          2021
         ],
         "y": [
          9151.11,
          13568.63,
          16290.48,
          15067.93,
          12794.91,
          12934.8,
          11452.86
         ]
        },
        {
         "name": "Postman",
         "x": [
          2015,
          2016,
          2017,
          2018,
          2019,
          2020,
          2021
         ],
         "y": [
          1775.78,
          5392.78,
          8231.79,
          9878.7,
          11508.13,
          12095.88,
          9032.53
         ]
        },
        {
         "name": "Zilliz",
         "x": [
          2015,
          2016,
          2017,
          2018,
          2019,
          2020,
          2021
         ],
         "y": [
          0,
          0,
          0,
          0,
          1012.24,
          4057.63,
          8600.74
         ]
        },
        {
         "name": "Jina AI",
         "x": [
          2015,
          2016,
          2017,
          2018,
          2019,
          2020,
          2021
         ],
         "y": [
          0,
          0,
          0,
          0,
          0,
          3206.07,
          8589.14
         ]
        },
        {
         "name": "Talend",
         "x": [
          2015,
          2016,
          2017,
          2018,
          2019,
          2020,
          2021
         ],
         "y": [
          556.47,
          4712.16,
          9571.9,
          10098.22,
          8589.35,
          9338.55,
          8070.26
         ]
        },
        {
         "name": "Vesoft",
         "x": [
          2015,
          2016,
          2017,
          2018,
          2019,
          2020,
          2021
         ],
         "y": [
          0,
          0,
          0,
          0,
          2315.81,
          5379.38,
          7963.58
         ]
        },
        {
         "name": "Treasure Data",
         "x": [
          2015,
          2016,
          2017,
          2018,
          2019,
          2020,
          2021
         ],
         "y": [
          1768.82,
          2568.87,
          3223.21,
          4143.6,
          5338.72,
          6623.35,
          7669.88
         ]
        },
        {
         "name": "EMQ",
         "x": [
          2015,
          2016,
          2017,
          2018,
          2019,
          2020,
          2021
         ],
         "y": [
          0,
          0,
          60.68,
          1577.43,
          5899.19,
          6261.47,
          7450.9
         ]
        },
        {
         "name": "Neo4j",
         "x": [
          2015,
          2016,
          2017,
          2018,
          2019,
          2020,
          2021
         ],
         "y": [
          4911.22,
          7166.48,
          7747.81,
          6692.76,
          5080.92,
          7095.46,
          7294.23
         ]
        },
        {
         "name": "Redis Labs",
         "x": [
          2015,
          2016,
          2017,
          2018,
          2019,
          2020,
          2021
         ],
         "y": [
          819.48,
          708.87,
          508.87,
          544.32,
          606.87,
          3120.16,
          7141.7
         ]
        },
        {
         "name": "Rapid7",
         "x": [
          2015,
          2016,
          2017,
          2018,
          2019,
          2020,
          2021
         ],
         "y": [
          6157.09,
          6276.81,
          7078.58,
          6530.08,
          6397.07,
          8863.49,
          7024.84
         ]
        },
        {
         "name": "StreamNative",
         "x": [
          2015,
          2016,
          2017,
          2018,
          2019,
          2020,
          2021
         ],
         "y": [
          0,
          254.17,
          1176.6,
          2369.57,
          4058.42,
          5059.34,
          6828.53
         ]
        },
        {
         "name": "Alfresco",
         "x": [
          2015,
          2016,
          2017,
          2018,
          2019,
          2020,
          2021
         ],
         "y": [
          1335.08,
          2396.16,
          3226.95,
          5758.59,
          7356.52,
          8545.02,
          6644.82
         ]
        },
        {
         "name": "JFrog",
         "x": [
          2015,
          2016,
          2017,
          2018,
          2019,
          2020,
          2021
         ],
         "y": [
          428.63,
          790.93,
          1212.3,
          2153.55,
          3742.56,
          5652.59,
          6462.05
         ]
        },
        {
         "name": "Oneflow",
         "x": [
          2015,
          2016,
          2017,
          2018,
          2019,
          2020,
          2021
         ],
         "y": [
          0,
          0,
          0,
          0,
          14.23,
          1624.35,
          6140.93
         ]
        },
        {
         "name": "Segment",
         "x": [
          2015,
          2016,
          2017,
          2018,
          2019,
          2020,
          2021
         ],
         "y": [
          5098.51,
          4113.64,
          4789.15,
          4612.59,
          5005,
          5415.27,
          6070.17
         ]
        },
        {
         "name": "Kaltura",
         "x": [
          2015,
          2016,
          2017,
          2018,
          2019,
          2020,
          2021
         ],
         "y": [
          4272.51,
          5218.93,
          5970.23,
          5922.66,
          6487.67,
          6478.02,
          5849.21
         ]
        },
        {
         "name": "Confluent",
         "x": [
          2015,
          2016,
          2017,
          2018,
          2019,
          2020,
          2021
         ],
         "y": [
          1704.41,
          4604.45,
          6087.83,
          5784.27,
          6154.47,
          6735.53,
          5606.77
         ]
        },
        {
         "name": "Cloudera",
         "x": [
          2015,
          2016,
          2017,
          2018,
          2019,
          2020,
          2021
         ],
         "y": [
          1648.99,
          2466.92,
          1818.53,
          1048.05,
          4745.94,
          4012.49,
          5232.59
         ]
        },
        {
         "name": "SphereEx",
         "x": [
          2015,
          2016,
          2017,
          2018,
          2019,
          2020,
          2021
         ],
         "y": [
          0,
          325.31,
          572.5,
          1516.7,
          3108.55,
          4789.24,
          4953.53
         ]
        },
        {
         "name": "Couchbase",
         "x": [
          2015,
          2016,
          2017,
          2018,
          2019,
          2020,
          2021
         ],
         "y": [
          3864.59,
          4575.22,
          4645.51,
          4478.06,
          4549.63,
          4796.77,
          4583.9
         ]
        },
        {
         "name": "API7",
         "x": [
          2015,
          2016,
          2017,
          2018,
          2019,
          2020,
          2021
         ],
         "y": [
          0,
          0,
          0,
          0,
          846.54,
          2957.59,
          4106.58
         ]
        },
        {
         "name": "TAOS Data",
         "x": [
          2015,
          2016,
          2017,
          2018,
          2019,
          2020,
          2021
         ],
         "y": [
          0,
          0,
          0,
          0,
          1445.94,
          3171.16,
          3993.09
         ]
        },
        {
         "name": "Alluxio",
         "x": [
          2015,
          2016,
          2017,
          2018,
          2019,
          2020,
          2021
         ],
         "y": [
          0,
          3595.87,
          4207.41,
          3072.07,
          3922.38,
          3101.85,
          3345.89
         ]
        },
        {
         "name": "Yunion",
         "x": [
          2015,
          2016,
          2017,
          2018,
          2019,
          2020,
          2021
         ],
         "y": [
          0,
          0,
          0,
          29.04,
          2843.08,
          3785.08,
          3251.83
         ]
        },
        {
         "name": "Timecho",
         "x": [
          2015,
          2016,
          2017,
          2018,
          2019,
          2020,
          2021
         ],
         "y": [
          0,
          0,
          0,
          0,
          1461.31,
          2557.97,
          2951.34
         ]
        },
        {
         "name": "Liferay",
         "x": [
          2015,
          2016,
          2017,
          2018,
          2019,
          2020,
          2021
         ],
         "y": [
          1815.47,
          3205.4,
          6669.03,
          4734.04,
          6245.4,
          4496.77,
          2894.76
         ]
        },
        {
         "name": "Pentaho",
         "x": [
          2015,
          2016,
          2017,
          2018,
          2019,
          2020,
          2021
         ],
         "y": [
          6734.08,
          8450.16,
          9187.4,
          6410.87,
          5753.96,
          3438.13,
          2657.9
         ]
        },
        {
         "name": "Taichi",
         "x": [
          2015,
          2016,
          2017,
          2018,
          2019,
          2020,
          2021
         ],
         "y": [
          0,
          0,
          0,
          0,
          0,
          2381.85,
          2591.56
         ]
        },
        {
         "name": "RT-Thread",
         "x": [
          2015,
          2016,
          2017,
          2018,
          2019,
          2020,
          2021
         ],
         "y": [
          397.28,
          247.58,
          763.84,
          1954.74,
          2619.96,
          2540.34,
          2462.54
         ]
        },
        {
         "name": "Instructure",
         "x": [
          2015,
          2016,
          2017,
          2018,
          2019,
          2020,
          2021
         ],
         "y": [
          1142.53,
          1171.97,
          1388.84,
          1427.98,
          2579.95,
          2895.7,
          2383.3
         ]
        },
        {
         "name": "DCloud",
         "x": [
          2015,
          2016,
          2017,
          2018,
          2019,
          2020,
          2021
         ],
         "y": [
          288.24,
          275.27,
          337.97,
          517.02,
          2618.18,
          2947.54,
          2342.46
         ]
        },
        {
         "name": "Fastly",
         "x": [
          2015,
          2016,
          2017,
          2018,
          2019,
          2020,
          2021
         ],
         "y": [
          440.68,
          793.73,
          474.35,
          629.65,
          1199.13,
          1461.16,
          2166.27
         ]
        },
        {
         "name": "StarRocks",
         "x": [
          2015,
          2016,
          2017,
          2018,
          2019,
          2020,
          2021
         ],
         "y": [
          0,
          0,
          0,
          0,
          0,
          0,
          2073.2
         ]
        },
        {
         "name": "OpenResty",
         "x": [
          2015,
          2016,
          2017,
          2018,
          2019,
          2020,
          2021
         ],
         "y": [
          1501.07,
          3520.56,
          3301.53,
          2188.32,
          2216.56,
          2490.4,
          1851.41
         ]
        },
        {
         "name": "JuiceData",
         "x": [
          2015,
          2016,
          2017,
          2018,
          2019,
          2020,
          2021
         ],
         "y": [
          0,
          0,
          0,
          20.28,
          62.68,
          157.76,
          1306.83
         ]
        },
        {
         "name": "Megvii",
         "x": [
          2015,
          2016,
          2017,
          2018,
          2019,
          2020,
          2021
         ],
         "y": [
          0,
          0,
          0,
          0,
          0,
          670.65,
          1124.34
         ]
        },
        {
         "name": "KodeRover",
         "x": [
          2015,
          2016,
          2017,
          2018,
          2019,
          2020,
          2021
         ],
         "y": [
          0,
          0,
          0,
          0,
          0,
          0,
          1092.32
         ]
        },
        {
         "name": "ThinkPHP",
         "x": [
          2015,
          2016,
          2017,
          2018,
          2019,
          2020,
          2021
         ],
         "y": [
          108.14,
          1771.35,
          1235.99,
          1407.73,
          1693.44,
          1321.27,
          993.92
         ]
        },
        {
         "name": "Goodrain",
         "x": [
          2015,
          2016,
          2017,
          2018,
          2019,
          2020,
          2021
         ],
         "y": [
          0,
          2.24,
          54.64,
          466.2,
          1157.69,
          1226.71,
          774.08
         ]
        },
        {
         "name": "Varnish",
         "x": [
          2015,
          2016,
          2017,
          2018,
          2019,
          2020,
          2021
         ],
         "y": [
          29.69,
          998.59,
          944.53,
          782.4,
          792.14,
          764.02,
          561.91
         ]
        },
        {
         "name": "Matrix Origin",
         "x": [
          2015,
          2016,
          2017,
          2018,
          2019,
          2020,
          2021
         ],
         "y": [
          0,
          0,
          0,
          0,
          0,
          0,
          551.92
         ]
        },
        {
         "name": "Kyligence",
         "x": [
          2015,
          2016,
          2017,
          2018,
          2019,
          2020,
          2021
         ],
         "y": [
          43.11,
          55.77,
          85.39,
          618.36,
          1137.68,
          864.32,
          517.46
         ]
        },
        {
         "name": "Chatopera",
         "x": [
          2015,
          2016,
          2017,
          2018,
          2019,
          2020,
          2021
         ],
         "y": [
          0,
          0,
          0,
          89.21,
          181.22,
          340.36,
          386.4
         ]
        },
        {
         "name": "Sourcefire",
         "x": [
          2015,
          2016,
          2017,
          2018,
          2019,
          2020,
          2021
         ],
         "y": [
          0,
          0,
          0,
          66.88,
          126.18,
          116.51,
          273.14
         ]
        },
        {
         "name": "Nicira",
         "x": [
          2015,
          2016,
          2017,
          2018,
          2019,
          2020,
          2021
         ],
         "y": [
          293.45,
          483.54,
          437.72,
          1087.64,
          393.74,
          169.89,
          196.38
         ]
        },
        {
         "name": "Galaxy Future",
         "x": [
          2015,
          2016,
          2017,
          2018,
          2019,
          2020,
          2021
         ],
         "y": [
          0,
          0,
          0,
          0,
          0,
          0,
          178.7
         ]
        },
        {
         "name": "Acquia",
         "x": [
          2015,
          2016,
          2017,
          2018,
          2019,
          2020,
          2021
         ],
         "y": [
          483.64,
          709.05,
          542.48,
          488.68,
          537.69,
          359.39,
          159.54
         ]
        },
        {
         "name": "EnterpriseDB",
         "x": [
          2015,
          2016,
          2017,
          2018,
          2019,
          2020,
          2021
         ],
         "y": [
          22.41,
          26.9,
          35.63,
          58.98,
          77.36,
          51.08,
          95.5
         ]
        },
        {
         "name": "Cloud Wise",
         "x": [
          2015,
          2016,
          2017,
          2018,
          2019,
          2020,
          2021
         ],
         "y": [
          0,
          0,
          15.04,
          1.41,
          0,
          0,
          54.96
         ]
        },
        {
         "name": "GAAS",
         "x": [
          2015,
          2016,
          2017,
          2018,
          2019,
          2020,
          2021
         ],
         "y": [
          0,
          0,
          0,
          0,
          199.83,
          114.41,
          52.96
         ]
        },
        {
         "name": "ZStack",
         "x": [
          2015,
          2016,
          2017,
          2018,
          2019,
          2020,
          2021
         ],
         "y": [
          0,
          0,
          1155.46,
          57.57,
          52.07,
          62.36,
          39.25
         ]
        },
        {
         "name": "Oushu",
         "x": [
          2015,
          2016,
          2017,
          2018,
          2019,
          2020,
          2021
         ],
         "y": [
          343.85,
          1539.63,
          776.95,
          390.24,
          129.33,
          27.5,
          38.01
         ]
        },
        {
         "name": "DataCanvas",
         "x": [
          2015,
          2016,
          2017,
          2018,
          2019,
          2020,
          2021
         ],
         "y": [
          0,
          0,
          0,
          0,
          0,
          0,
          20.79
         ]
        },
        {
         "name": "SequoiaDB",
         "x": [
          2015,
          2016,
          2017,
          2018,
          2019,
          2020,
          2021
         ],
         "y": [
          69.54,
          22.49,
          18.94,
          296.33,
          355.28,
          19.63,
          14.23
         ]
        },
        {
         "name": "ForgeRock",
         "x": [
          2015,
          2016,
          2017,
          2018,
          2019,
          2020,
          2021
         ],
         "y": [
          14.62,
          0,
          5.15
         ]
        }
       ],
       "layout": {
        "autosize": true,
        "title": {
         "text": "COSS activity 2015-2021"
        },
        "xaxis": {
         "autorange": true,
         "range": [
          2014.6415889256696,
          2021.3584110743304
         ],
         "type": "linear"
        },
        "yaxis": {
         "autorange": true,
         "range": [
          -7771.559077669902,
          101944.56907766989
         ],
         "type": "linear"
        }
       }
      },
      "image/png": "[encoded data removed]"
     },
     "execution_count": 4,
     "metadata": {},
     "output_type": "execute_result"
    }
   ],
   "source": [
    "openDigger.index.activity.getRepoActivity({\n",
    "    labelUnion: [':companies/coss'],\n",
    "    startYear: 2015,\n",
    "    endYear: 2021,\n",
    "    startMonth: 1,\n",
    "    endMonth: 12,\n",
    "    groupTimeRange: 'year',\n",
    "    groupBy: 'Company',\n",
    "    limit: -1,\n",
    "    order: 'DESC',\n",
    "}).then(data => {\n",
    "    openDigger.render.plotly(data.map(row => {\n",
    "        return {\n",
    "            x: [2015, 2016, 2017, 2018, 2019, 2020, 2021],\n",
    "            y: row.activity,\n",
    "            name: row.name\n",
    "        };\n",
    "    }), {title: 'COSS activity 2015-2021'});\n",
    "});"
   ]
  },
  {
   "cell_type": "markdown",
   "id": "01653183-6a26-4fd1-ac45-49d4f3bf6e5a",
   "metadata": {},
   "source": [
    "## OpenRank for global COSS"
   ]
  },
  {
   "cell_type": "code",
   "execution_count": 5,
   "id": "b42ba616-ed50-48d5-ad58-ae3ba827b704",
   "metadata": {},
   "outputs": [
    {
     "data": {
      "application/vnd.plotly.v1+json": {
       "data": [
        {
         "name": "Elastic",
         "x": [
          2015,
          2016,
          2017,
          2018,
          2019,
          2020,
          2021
         ],
         "y": [
          12235.03,
          18095.91,
          18413.26,
          20088.8,
          26350.19,
          30584.63,
          30256.75
         ]
        },
        {
         "name": "HashiCorp",
         "x": [
          2015,
          2016,
          2017,
          2018,
          2019,
          2020,
          2021
         ],
         "y": [
          6789.89,
          11444.88,
          14285.24,
          17620.36,
          21885.36,
          27663.61,
          30236.69
         ]
        },
        {
         "name": "Mozilla",
         "x": [
          2015,
          2016,
          2017,
          2018,
          2019,
          2020,
          2021
         ],
         "y": [
          10337.27,
          15999.97,
          19220.24,
          20466.73,
          25277.01,
          23837.77,
          20194.93
         ]
        },
        {
         "name": "Docker",
         "x": [
          2015,
          2016,
          2017,
          2018,
          2019,
          2020,
          2021
         ],
         "y": [
          14087.55,
          20770.14,
          21479.41,
          16795.52,
          14822.24,
          15587.39,
          13466.77
         ]
        },
        {
         "name": "Odoo",
         "x": [
          2015,
          2016,
          2017,
          2018,
          2019,
          2020,
          2021
         ],
         "y": [
          3327.87,
          3717.21,
          3954.49,
          5455.48,
          7783.67,
          11562.9,
          12758.39
         ]
        },
        {
         "name": "Adobe",
         "x": [
          2015,
          2016,
          2017,
          2018,
          2019,
          2020,
          2021
         ],
         "y": [
          1774.47,
          6541.93,
          8752.14,
          10932.3,
          13838.41,
          13642.02,
          9711.87
         ]
        },
        {
         "name": "Magento",
         "x": [
          2015,
          2016,
          2017,
          2018,
          2019,
          2020,
          2021
         ],
         "y": [
          1774.47,
          6541.93,
          8752.14,
          10932.3,
          13838.41,
          13642.02,
          9711.87
         ]
        },
        {
         "name": "PingCAP",
         "x": [
          2015,
          2016,
          2017,
          2018,
          2019,
          2020,
          2021
         ],
         "y": [
          135.77,
          755.36,
          1930.68,
          3586.41,
          6212.87,
          8072.21,
          9348.61
         ]
        },
        {
         "name": "JetBrains",
         "x": [
          2015,
          2016,
          2017,
          2018,
          2019,
          2020,
          2021
         ],
         "y": [
          2277.15,
          2533.39,
          3726.57,
          5276.07,
          5903.61,
          7972.91,
          9076.55
         ]
        },
        {
         "name": "Cloudbees",
         "x": [
          2015,
          2016,
          2017,
          2018,
          2019,
          2020,
          2021
         ],
         "y": [
          5749.1,
          8165.57,
          9621.19,
          9910.69,
          10517.45,
          11573.27,
          8992.96
         ]
        },
        {
         "name": "WordPress",
         "x": [
          2015,
          2016,
          2017,
          2018,
          2019,
          2020,
          2021
         ],
         "y": [
          489.14,
          678.51,
          2469.06,
          7329.63,
          8614.72,
          8130.97,
          8824.18
         ]
        },
        {
         "name": "Databricks",
         "x": [
          2015,
          2016,
          2017,
          2018,
          2019,
          2020,
          2021
         ],
         "y": [
          4504.5,
          7319.24,
          7235.32,
          7105.21,
          7694.04,
          7976.72,
          6979.16
         ]
        },
        {
         "name": "Mapbox",
         "x": [
          2015,
          2016,
          2017,
          2018,
          2019,
          2020,
          2021
         ],
         "y": [
          3625.69,
          6537.69,
          8358.49,
          9827.24,
          8389.93,
          6980.47,
          5815.25
         ]
        },
        {
         "name": "MongoDB",
         "x": [
          2015,
          2016,
          2017,
          2018,
          2019,
          2020,
          2021
         ],
         "y": [
          1248.96,
          1573.88,
          1492.07,
          1992.32,
          2457.65,
          3371.03,
          4282.75
         ]
        },
        {
         "name": "Puppet Labs",
         "x": [
          2015,
          2016,
          2017,
          2018,
          2019,
          2020,
          2021
         ],
         "y": [
          3921.68,
          5030.1,
          4834.72,
          4774,
          4866.43,
          4907.96,
          3957.57
         ]
        },
        {
         "name": "Postman",
         "x": [
          2015,
          2016,
          2017,
          2018,
          2019,
          2020,
          2021
         ],
         "y": [
          1113.78,
          1989.11,
          3163.26,
          4453.29,
          4768.52,
          4645.16,
          3450.88
         ]
        },
        {
         "name": "Rapid7",
         "x": [
          2015,
          2016,
          2017,
          2018,
          2019,
          2020,
          2021
         ],
         "y": [
          2003.93,
          2366.24,
          2946.73,
          3231.94,
          3148.84,
          3700.09,
          3430.85
         ]
        },
        {
         "name": "Redis Labs",
         "x": [
          2015,
          2016,
          2017,
          2018,
          2019,
          2020,
          2021
         ],
         "y": [
          1377.45,
          1282.56,
          1228.26,
          1515.93,
          1453.95,
          1853.56,
          2843.29
         ]
        },
        {
         "name": "Pivotal",
         "x": [
          2015,
          2016,
          2017,
          2018,
          2019,
          2020,
          2021
         ],
         "y": [
          2183.07,
          3409.85,
          4317.08,
          4950.94,
          4150.36,
          3185.71,
          2731.23
         ]
        },
        {
         "name": "Treasure Data",
         "x": [
          2015,
          2016,
          2017,
          2018,
          2019,
          2020,
          2021
         ],
         "y": [
          462.36,
          722.55,
          891.94,
          1203.98,
          1582.34,
          2031.32,
          2387.5
         ]
        },
        {
         "name": "EMQ",
         "x": [
          2015,
          2016,
          2017,
          2018,
          2019,
          2020,
          2021
         ],
         "y": [
          205.78,
          463.07,
          778.43,
          1080.59,
          1515.8,
          1662.75,
          2374.54
         ]
        },
        {
         "name": "SphereEx",
         "x": [
          2015,
          2016,
          2017,
          2018,
          2019,
          2020,
          2021
         ],
         "y": [
          0,
          116.03,
          211.2,
          599.38,
          1102.82,
          2029.71,
          2328.87
         ]
        },
        {
         "name": "StreamNative",
         "x": [
          2015,
          2016,
          2017,
          2018,
          2019,
          2020,
          2021
         ],
         "y": [
          0,
          45.14,
          223.81,
          719.81,
          1321,
          1613.2,
          2246.38
         ]
        },
        {
         "name": "Mulesoft",
         "x": [
          2015,
          2016,
          2017,
          2018,
          2019,
          2020,
          2021
         ],
         "y": [
          1022.18,
          1618.49,
          1914.76,
          2194.7,
          2914.77,
          2665.06,
          2243.04
         ]
        },
        {
         "name": "Confluent",
         "x": [
          2015,
          2016,
          2017,
          2018,
          2019,
          2020,
          2021
         ],
         "y": [
          233.07,
          1191.78,
          1864.29,
          2219.31,
          2322.09,
          2239.15,
          2191.29
         ]
        },
        {
         "name": "Neo4j",
         "x": [
          2015,
          2016,
          2017,
          2018,
          2019,
          2020,
          2021
         ],
         "y": [
          1342.02,
          2497.86,
          2866.3,
          2543.56,
          1795.83,
          2092.15,
          2119.79
         ]
        },
        {
         "name": "JFrog",
         "x": [
          2015,
          2016,
          2017,
          2018,
          2019,
          2020,
          2021
         ],
         "y": [
          131.68,
          260.98,
          371.45,
          579.34,
          1115.06,
          1554.53,
          1905.74
         ]
        },
        {
         "name": "Segment",
         "x": [
          2015,
          2016,
          2017,
          2018,
          2019,
          2020,
          2021
         ],
         "y": [
          989.26,
          1277.4,
          1353.9,
          1517.94,
          1546.94,
          1515.18,
          1729.85
         ]
        },
        {
         "name": "TAOS Data",
         "x": [
          2015,
          2016,
          2017,
          2018,
          2019,
          2020,
          2021
         ],
         "y": [
          0,
          0,
          0,
          0,
          491.42,
          1203.04,
          1698.25
         ]
        },
        {
         "name": "Kaltura",
         "x": [
          2015,
          2016,
          2017,
          2018,
          2019,
          2020,
          2021
         ],
         "y": [
          935.45,
          1453.02,
          1568.76,
          1692.67,
          1582.4,
          1591.11,
          1624.95
         ]
        },
        {
         "name": "Zilliz",
         "x": [
          2015,
          2016,
          2017,
          2018,
          2019,
          2020,
          2021
         ],
         "y": [
          0,
          0,
          0,
          0,
          109.3,
          980.16,
          1605.39
         ]
        },
        {
         "name": "Alfresco",
         "x": [
          2015,
          2016,
          2017,
          2018,
          2019,
          2020,
          2021
         ],
         "y": [
          401.5,
          661.97,
          938.49,
          1339.78,
          1518.7,
          1643.36,
          1595.18
         ]
        },
        {
         "name": "Cloudera",
         "x": [
          2015,
          2016,
          2017,
          2018,
          2019,
          2020,
          2021
         ],
         "y": [
          390.69,
          663.02,
          617.46,
          467.64,
          1008.95,
          1013.75,
          1568.63
         ]
        },
        {
         "name": "Jina AI",
         "x": [
          2015,
          2016,
          2017,
          2018,
          2019,
          2020,
          2021
         ],
         "y": [
          0,
          0,
          0,
          45.97,
          294.01,
          543.31,
          1534.93
         ]
        },
        {
         "name": "Talend",
         "x": [
          2015,
          2016,
          2017,
          2018,
          2019,
          2020,
          2021
         ],
         "y": [
          148.25,
          561.34,
          1477.51,
          1824.72,
          1792.46,
          1700.05,
          1449.14
         ]
        },
        {
         "name": "Vesoft",
         "x": [
          2015,
          2016,
          2017,
          2018,
          2019,
          2020,
          2021
         ],
         "y": [
          0,
          0,
          0,
          0,
          202.83,
          784.76,
          1398.65
         ]
        },
        {
         "name": "API7",
         "x": [
          2015,
          2016,
          2017,
          2018,
          2019,
          2020,
          2021
         ],
         "y": [
          0,
          0,
          0,
          0,
          185.89,
          775.73,
          1327.3
         ]
        },
        {
         "name": "Couchbase",
         "x": [
          2015,
          2016,
          2017,
          2018,
          2019,
          2020,
          2021
         ],
         "y": [
          1195.57,
          1590.46,
          1633.67,
          1720.92,
          1466.98,
          1475.41,
          1311.04
         ]
        },
        {
         "name": "Alluxio",
         "x": [
          2015,
          2016,
          2017,
          2018,
          2019,
          2020,
          2021
         ],
         "y": [
          425.97,
          1191.42,
          1522.35,
          1165.2,
          1295.89,
          1080.2,
          1086
         ]
        },
        {
         "name": "Oneflow",
         "x": [
          2015,
          2016,
          2017,
          2018,
          2019,
          2020,
          2021
         ],
         "y": [
          0,
          0,
          0,
          0,
          9.6,
          208.25,
          1079.43
         ]
        },
        {
         "name": "DCloud",
         "x": [
          2015,
          2016,
          2017,
          2018,
          2019,
          2020,
          2021
         ],
         "y": [
          150.99,
          124.42,
          167.04,
          217.09,
          937.81,
          1246.03,
          987.08
         ]
        },
        {
         "name": "Yunion",
         "x": [
          2015,
          2016,
          2017,
          2018,
          2019,
          2020,
          2021
         ],
         "y": [
          0,
          0,
          0,
          17.78,
          571.67,
          1119.57,
          935.19
         ]
        },
        {
         "name": "Timecho",
         "x": [
          2015,
          2016,
          2017,
          2018,
          2019,
          2020,
          2021
         ],
         "y": [
          0,
          0,
          0,
          0,
          223.07,
          528.14,
          888.93
         ]
        },
        {
         "name": "RT-Thread",
         "x": [
          2015,
          2016,
          2017,
          2018,
          2019,
          2020,
          2021
         ],
         "y": [
          144.17,
          94.28,
          159.51,
          497.46,
          793,
          737.08,
          846.11
         ]
        },
        {
         "name": "Taichi",
         "x": [
          2015,
          2016,
          2017,
          2018,
          2019,
          2020,
          2021
         ],
         "y": [
          0,
          0.62,
          32.11,
          28.64,
          40.7,
          606.02,
          838.75
         ]
        },
        {
         "name": "Instructure",
         "x": [
          2015,
          2016,
          2017,
          2018,
          2019,
          2020,
          2021
         ],
         "y": [
          427.21,
          511.75,
          584.99,
          656.14,
          620.04,
          658.58,
          708.97
         ]
        },
        {
         "name": "Fastly",
         "x": [
          2015,
          2016,
          2017,
          2018,
          2019,
          2020,
          2021
         ],
         "y": [
          174.28,
          306.4,
          287.02,
          352.9,
          378.29,
          445.15,
          640.6
         ]
        },
        {
         "name": "OpenResty",
         "x": [
          2015,
          2016,
          2017,
          2018,
          2019,
          2020,
          2021
         ],
         "y": [
          454.14,
          987.21,
          1179.98,
          862.24,
          760.48,
          625.97,
          539.35
         ]
        },
        {
         "name": "Pentaho",
         "x": [
          2015,
          2016,
          2017,
          2018,
          2019,
          2020,
          2021
         ],
         "y": [
          919.68,
          1266.15,
          1343.99,
          1147.95,
          918.93,
          757.18,
          495.79
         ]
        },
        {
         "name": "ThinkPHP",
         "x": [
          2015,
          2016,
          2017,
          2018,
          2019,
          2020,
          2021
         ],
         "y": [
          114.97,
          561.08,
          478.35,
          554.98,
          631.16,
          514.2,
          387.49
         ]
        },
        {
         "name": "Liferay",
         "x": [
          2015,
          2016,
          2017,
          2018,
          2019,
          2020,
          2021
         ],
         "y": [
          318.23,
          518.13,
          1049.76,
          911.89,
          974.95,
          607.82,
          340.84
         ]
        },
        {
         "name": "JuiceData",
         "x": [
          2015,
          2016,
          2017,
          2018,
          2019,
          2020,
          2021
         ],
         "y": [
          0,
          0,
          0,
          6.23,
          30.19,
          48.59,
          316.13
         ]
        },
        {
         "name": "Megvii",
         "x": [
          2015,
          2016,
          2017,
          2018,
          2019,
          2020,
          2021
         ],
         "y": [
          0,
          0,
          0,
          0,
          0,
          168.47,
          309.99
         ]
        },
        {
         "name": "StarRocks",
         "x": [
          2015,
          2016,
          2017,
          2018,
          2019,
          2020,
          2021
         ],
         "y": [
          0,
          0,
          0,
          0,
          0,
          0,
          252.65
         ]
        },
        {
         "name": "Varnish",
         "x": [
          2015,
          2016,
          2017,
          2018,
          2019,
          2020,
          2021
         ],
         "y": [
          9.49,
          283.4,
          334.17,
          301.7,
          252.6,
          258.99,
          211.35
         ]
        },
        {
         "name": "Goodrain",
         "x": [
          2015,
          2016,
          2017,
          2018,
          2019,
          2020,
          2021
         ],
         "y": [
          0,
          3.07,
          23.05,
          177.45,
          289.05,
          292.14,
          204.55
         ]
        },
        {
         "name": "Kyligence",
         "x": [
          2015,
          2016,
          2017,
          2018,
          2019,
          2020,
          2021
         ],
         "y": [
          13.58,
          16.88,
          21.04,
          122.26,
          254.56,
          231.57,
          159.57
         ]
        },
        {
         "name": "KodeRover",
         "x": [
          2015,
          2016,
          2017,
          2018,
          2019,
          2020,
          2021
         ],
         "y": [
          0,
          0,
          0,
          0,
          0,
          0,
          148.85
         ]
        },
        {
         "name": "Acquia",
         "x": [
          2015,
          2016,
          2017,
          2018,
          2019,
          2020,
          2021
         ],
         "y": [
          116.54,
          177.05,
          152.89,
          165.29,
          158.68,
          134.03,
          88.25
         ]
        },
        {
         "name": "Sourcefire",
         "x": [
          2015,
          2016,
          2017,
          2018,
          2019,
          2020,
          2021
         ],
         "y": [
          3.23,
          17.52,
          13.76,
          33.44,
          51.57,
          40.87,
          86.83
         ]
        },
        {
         "name": "Chatopera",
         "x": [
          2015,
          2016,
          2017,
          2018,
          2019,
          2020,
          2021
         ],
         "y": [
          0,
          0,
          17.11,
          60.2,
          50.08,
          73.52,
          74.27
         ]
        },
        {
         "name": "Matrix Origin",
         "x": [
          2015,
          2016,
          2017,
          2018,
          2019,
          2020,
          2021
         ],
         "y": [
          0,
          0,
          0,
          0,
          0.66,
          5.61,
          62.35
         ]
        },
        {
         "name": "Nicira",
         "x": [
          2015,
          2016,
          2017,
          2018,
          2019,
          2020,
          2021
         ],
         "y": [
          100.09,
          81.04,
          61.6,
          52.41,
          46.56,
          40.65,
          46.14
         ]
        },
        {
         "name": "SequoiaDB",
         "x": [
          2015,
          2016,
          2017,
          2018,
          2019,
          2020,
          2021
         ],
         "y": [
          39.42,
          24.14,
          15.57,
          95.7,
          292.53,
          70.91,
          24.13
         ]
        },
        {
         "name": "Cloud Wise",
         "x": [
          2015,
          2016,
          2017,
          2018,
          2019,
          2020,
          2021
         ],
         "y": [
          0,
          0,
          15.72,
          8.75,
          1.36,
          0,
          23.42
         ]
        },
        {
         "name": "GAAS",
         "x": [
          2015,
          2016,
          2017,
          2018,
          2019,
          2020,
          2021
         ],
         "y": [
          0,
          0,
          0,
          0,
          72.6,
          41.92,
          21.35
         ]
        },
        {
         "name": "Galaxy Future",
         "x": [
          2015,
          2016,
          2017,
          2018,
          2019,
          2020,
          2021
         ],
         "y": [
          0,
          0,
          0,
          0,
          0,
          0,
          17.26
         ]
        },
        {
         "name": "ZStack",
         "x": [
          2015,
          2016,
          2017,
          2018,
          2019,
          2020,
          2021
         ],
         "y": [
          83.18,
          194.4,
          206.53,
          38.56,
          20.19,
          22.79,
          12.1
         ]
        },
        {
         "name": "EnterpriseDB",
         "x": [
          2015,
          2016,
          2017,
          2018,
          2019,
          2020,
          2021
         ],
         "y": [
          5.74,
          12.92,
          9.06,
          12.17,
          9.71,
          15.33,
          11.96
         ]
        },
        {
         "name": "Oushu",
         "x": [
          2015,
          2016,
          2017,
          2018,
          2019,
          2020,
          2021
         ],
         "y": [
          52.25,
          293.92,
          200.24,
          94.57,
          40.65,
          13.68,
          11.87
         ]
        },
        {
         "name": "DataCanvas",
         "x": [
          2015,
          2016,
          2017,
          2018,
          2019,
          2020,
          2021
         ],
         "y": [
          0,
          0,
          0,
          0,
          0,
          0,
          3.38
         ]
        },
        {
         "name": "ForgeRock",
         "x": [
          2015,
          2016,
          2017,
          2018,
          2019,
          2020,
          2021
         ],
         "y": [
          8.07,
          5.71,
          8.16,
          0.96
         ]
        }
       ],
       "layout": {
        "autosize": true,
        "title": {
         "text": "COSS OpenRank 2015-2021"
        },
        "xaxis": {
         "autorange": true,
         "range": [
          2014.6415889256696,
          2021.3584110743304
         ],
         "type": "linear"
        },
        "yaxis": {
         "autorange": true,
         "range": [
          -2523.9743203883495,
          33108.60432038835
         ],
         "type": "linear"
        }
       }
      },
      "image/png": "[encoded data removed]"
     },
     "execution_count": 5,
     "metadata": {},
     "output_type": "execute_result"
    }
   ],
   "source": [
    "openDigger.index.openrank.getRepoOpenrank({\n",
    "    labelUnion: [':companies/coss'],\n",
    "    startYear: 2015,\n",
    "    endYear: 2021,\n",
    "    startMonth: 1,\n",
    "    endMonth: 12,\n",
    "    groupTimeRange: 'year',\n",
    "    groupBy: 'Company',\n",
    "    limit: -1,\n",
    "    order: 'DESC',\n",
    "}).then(data => {\n",
    "    openDigger.render.plotly(data.map(row => {\n",
    "        return {\n",
    "            x: [2015, 2016, 2017, 2018, 2019, 2020, 2021],\n",
    "            y: row.openrank,\n",
    "            name: row.name,\n",
    "        };\n",
    "    }), {title: 'COSS OpenRank 2015-2021'});\n",
    "});"
   ]
  },
  {
   "cell_type": "markdown",
   "id": "f8c50783-f05f-47b6-bf4c-b34a74e3b2c8",
   "metadata": {},
   "source": [
    "## OpenRank growth for global COSS"
   ]
  },
  {
   "cell_type": "code",
   "execution_count": 6,
   "id": "e144791c-e01d-4a5d-9d23-d5a7eaa79fe2",
   "metadata": {},
   "outputs": [
    {
     "data": {
      "application/vnd.plotly.v1+json": {
       "data": [
        {
         "name": "openrank",
         "x": [
          2015,
          2016,
          2017,
          2018,
          2019,
          2020,
          2021
         ],
         "y": [
          89975.81,
          144548.09000000003,
          170776.3200000001,
          193577.4300000002,
          225569.83000000002,
          248597.38999999993,
          242571.94000000006
         ]
        }
       ],
       "layout": {
        "autosize": true,
        "title": {
         "text": "COSS OpenRank growth 2015-2021"
        },
        "xaxis": {
         "autorange": true,
         "range": [
          2014.6433566433566,
          2021.3566433566434
         ],
         "type": "linear"
        },
        "yaxis": {
         "autorange": true,
         "range": [
          76885.67961165048,
          261687.52038834943
         ],
         "type": "linear"
        }
       }
      },
      "image/png": "[encoded data removed]"
     },
     "execution_count": 6,
     "metadata": {},
     "output_type": "execute_result"
    }
   ],
   "source": [
    "openDigger.index.openrank.getRepoOpenrank({\n",
    "    labelUnion: [':companies/coss'],\n",
    "    startYear: 2015,\n",
    "    endYear: 2021,\n",
    "    startMonth: 1,\n",
    "    endMonth: 12,\n",
    "    groupTimeRange: 'year',\n",
    "    groupBy: 'Company',\n",
    "    limit: -1,\n",
    "    order: 'DESC',\n",
    "}).then(data => {\n",
    "    var x = [2015, 2016, 2017, 2018, 2019, 2020, 2021];\n",
    "    var y = [];\n",
    "    for (var i = 0; i < x.length; i++) {\n",
    "        var openrank = 0;\n",
    "        data.forEach(row => openrank += row.openrank[i] ?? 0);\n",
    "        y.push(openrank);\n",
    "    }\n",
    "    openDigger.render.plotly([{\n",
    "        x,\n",
    "        y,\n",
    "        name: 'openrank',\n",
    "    }], {title: 'COSS OpenRank growth 2015-2021'});\n",
    "});"
   ]
  },
  {
   "cell_type": "markdown",
   "id": "7c1878d9-5b71-4e17-b43b-3c5fecae3afb",
   "metadata": {},
   "source": [
    "## Activity for Chinese COSS"
   ]
  },
  {
   "cell_type": "code",
   "execution_count": 7,
   "id": "4cfb5e18-cfec-487a-b781-3493404ea529",
   "metadata": {},
   "outputs": [
    {
     "data": {
      "application/vnd.plotly.v1+json": {
       "data": [
        {
         "name": "PingCAP",
         "x": [
          2015,
          2016,
          2017,
          2018,
          2019,
          2020,
          2021
         ],
         "y": [
          946.64,
          5519.89,
          11770.48,
          17303.3,
          35036.71,
          47653.8,
          46202.83
         ]
        },
        {
         "name": "Zilliz",
         "x": [
          2015,
          2016,
          2017,
          2018,
          2019,
          2020,
          2021
         ],
         "y": [
          0,
          0,
          0,
          0,
          1012.24,
          4057.63,
          8600.74
         ]
        },
        {
         "name": "Jina AI",
         "x": [
          2015,
          2016,
          2017,
          2018,
          2019,
          2020,
          2021
         ],
         "y": [
          0,
          0,
          0,
          0,
          0,
          3206.07,
          8589.14
         ]
        },
        {
         "name": "Vesoft",
         "x": [
          2015,
          2016,
          2017,
          2018,
          2019,
          2020,
          2021
         ],
         "y": [
          0,
          0,
          0,
          0,
          2315.81,
          5379.38,
          7963.58
         ]
        },
        {
         "name": "EMQ",
         "x": [
          2015,
          2016,
          2017,
          2018,
          2019,
          2020,
          2021
         ],
         "y": [
          0,
          0,
          60.68,
          1577.43,
          5899.19,
          6261.47,
          7450.9
         ]
        },
        {
         "name": "StreamNative",
         "x": [
          2015,
          2016,
          2017,
          2018,
          2019,
          2020,
          2021
         ],
         "y": [
          0,
          254.17,
          1176.6,
          2369.57,
          4058.42,
          5059.34,
          6828.53
         ]
        },
        {
         "name": "Oneflow",
         "x": [
          2015,
          2016,
          2017,
          2018,
          2019,
          2020,
          2021
         ],
         "y": [
          0,
          0,
          0,
          0,
          14.23,
          1624.35,
          6140.93
         ]
        },
        {
         "name": "SphereEx",
         "x": [
          2015,
          2016,
          2017,
          2018,
          2019,
          2020,
          2021
         ],
         "y": [
          0,
          325.31,
          572.5,
          1516.7,
          3108.55,
          4789.24,
          4953.53
         ]
        },
        {
         "name": "API7",
         "x": [
          2015,
          2016,
          2017,
          2018,
          2019,
          2020,
          2021
         ],
         "y": [
          0,
          0,
          0,
          0,
          846.54,
          2957.59,
          4106.58
         ]
        },
        {
         "name": "TAOS Data",
         "x": [
          2015,
          2016,
          2017,
          2018,
          2019,
          2020,
          2021
         ],
         "y": [
          0,
          0,
          0,
          0,
          1445.94,
          3171.16,
          3993.09
         ]
        },
        {
         "name": "Alluxio",
         "x": [
          2015,
          2016,
          2017,
          2018,
          2019,
          2020,
          2021
         ],
         "y": [
          0,
          3595.87,
          4207.41,
          3072.07,
          3922.38,
          3101.85,
          3345.89
         ]
        },
        {
         "name": "Yunion",
         "x": [
          2015,
          2016,
          2017,
          2018,
          2019,
          2020,
          2021
         ],
         "y": [
          0,
          0,
          0,
          29.04,
          2843.08,
          3785.08,
          3251.83
         ]
        },
        {
         "name": "Timecho",
         "x": [
          2015,
          2016,
          2017,
          2018,
          2019,
          2020,
          2021
         ],
         "y": [
          0,
          0,
          0,
          0,
          1461.31,
          2557.97,
          2951.34
         ]
        },
        {
         "name": "Taichi",
         "x": [
          2015,
          2016,
          2017,
          2018,
          2019,
          2020,
          2021
         ],
         "y": [
          0,
          0,
          0,
          0,
          0,
          2381.85,
          2591.56
         ]
        },
        {
         "name": "RT-Thread",
         "x": [
          2015,
          2016,
          2017,
          2018,
          2019,
          2020,
          2021
         ],
         "y": [
          397.28,
          247.58,
          763.84,
          1954.74,
          2619.96,
          2540.34,
          2462.54
         ]
        },
        {
         "name": "DCloud",
         "x": [
          2015,
          2016,
          2017,
          2018,
          2019,
          2020,
          2021
         ],
         "y": [
          288.24,
          275.27,
          337.97,
          517.02,
          2618.18,
          2947.54,
          2342.46
         ]
        },
        {
         "name": "StarRocks",
         "x": [
          2015,
          2016,
          2017,
          2018,
          2019,
          2020,
          2021
         ],
         "y": [
          0,
          0,
          0,
          0,
          0,
          0,
          2073.2
         ]
        },
        {
         "name": "OpenResty",
         "x": [
          2015,
          2016,
          2017,
          2018,
          2019,
          2020,
          2021
         ],
         "y": [
          1501.07,
          3520.56,
          3301.53,
          2188.32,
          2216.56,
          2490.4,
          1851.41
         ]
        },
        {
         "name": "JuiceData",
         "x": [
          2015,
          2016,
          2017,
          2018,
          2019,
          2020,
          2021
         ],
         "y": [
          0,
          0,
          0,
          20.28,
          62.68,
          157.76,
          1306.83
         ]
        },
        {
         "name": "Megvii",
         "x": [
          2015,
          2016,
          2017,
          2018,
          2019,
          2020,
          2021
         ],
         "y": [
          0,
          0,
          0,
          0,
          0,
          670.65,
          1124.34
         ]
        },
        {
         "name": "KodeRover",
         "x": [
          2015,
          2016,
          2017,
          2018,
          2019,
          2020,
          2021
         ],
         "y": [
          0,
          0,
          0,
          0,
          0,
          0,
          1092.32
         ]
        },
        {
         "name": "ThinkPHP",
         "x": [
          2015,
          2016,
          2017,
          2018,
          2019,
          2020,
          2021
         ],
         "y": [
          108.14,
          1771.35,
          1235.99,
          1407.73,
          1693.44,
          1321.27,
          993.92
         ]
        },
        {
         "name": "Goodrain",
         "x": [
          2015,
          2016,
          2017,
          2018,
          2019,
          2020,
          2021
         ],
         "y": [
          0,
          2.24,
          54.64,
          466.2,
          1157.69,
          1226.71,
          774.08
         ]
        },
        {
         "name": "Matrix Origin",
         "x": [
          2015,
          2016,
          2017,
          2018,
          2019,
          2020,
          2021
         ],
         "y": [
          0,
          0,
          0,
          0,
          0,
          0,
          551.92
         ]
        },
        {
         "name": "Kyligence",
         "x": [
          2015,
          2016,
          2017,
          2018,
          2019,
          2020,
          2021
         ],
         "y": [
          43.11,
          55.77,
          85.39,
          618.36,
          1137.68,
          864.32,
          517.46
         ]
        },
        {
         "name": "Chatopera",
         "x": [
          2015,
          2016,
          2017,
          2018,
          2019,
          2020,
          2021
         ],
         "y": [
          0,
          0,
          0,
          89.21,
          181.22,
          340.36,
          386.4
         ]
        },
        {
         "name": "Galaxy Future",
         "x": [
          2015,
          2016,
          2017,
          2018,
          2019,
          2020,
          2021
         ],
         "y": [
          0,
          0,
          0,
          0,
          0,
          0,
          178.7
         ]
        },
        {
         "name": "Cloud Wise",
         "x": [
          2015,
          2016,
          2017,
          2018,
          2019,
          2020,
          2021
         ],
         "y": [
          0,
          0,
          15.04,
          1.41,
          0,
          0,
          54.96
         ]
        },
        {
         "name": "GAAS",
         "x": [
          2015,
          2016,
          2017,
          2018,
          2019,
          2020,
          2021
         ],
         "y": [
          0,
          0,
          0,
          0,
          199.83,
          114.41,
          52.96
         ]
        },
        {
         "name": "ZStack",
         "x": [
          2015,
          2016,
          2017,
          2018,
          2019,
          2020,
          2021
         ],
         "y": [
          0,
          0,
          1155.46,
          57.57,
          52.07,
          62.36,
          39.25
         ]
        },
        {
         "name": "Oushu",
         "x": [
          2015,
          2016,
          2017,
          2018,
          2019,
          2020,
          2021
         ],
         "y": [
          343.85,
          1539.63,
          776.95,
          390.24,
          129.33,
          27.5,
          38.01
         ]
        },
        {
         "name": "DataCanvas",
         "x": [
          2015,
          2016,
          2017,
          2018,
          2019,
          2020,
          2021
         ],
         "y": [
          0,
          0,
          0,
          0,
          0,
          0,
          20.79
         ]
        },
        {
         "name": "SequoiaDB",
         "x": [
          2015,
          2016,
          2017,
          2018,
          2019,
          2020,
          2021
         ],
         "y": [
          69.54,
          22.49,
          18.94,
          296.33,
          355.28,
          19.63,
          14.23
         ]
        }
       ],
       "layout": {
        "autosize": true,
        "title": {
         "text": "Chinese COSS activity 2015-2021"
        },
        "xaxis": {
         "autorange": true,
         "range": [
          2014.6415889256696,
          2021.3584110743304
         ],
         "type": "linear"
        },
        "yaxis": {
         "autorange": true,
         "range": [
          -3932.595145631068,
          51586.39514563107
         ],
         "type": "linear"
        }
       }
      },
      "image/png": "[encoded data removed]"
     },
     "execution_count": 7,
     "metadata": {},
     "output_type": "execute_result"
    }
   ],
   "source": [
    "openDigger.index.activity.getRepoActivity({\n",
    "    labelIntersect: [':companies/coss', ':regions/China'],\n",
    "    startYear: 2015,\n",
    "    endYear: 2021,\n",
    "    startMonth: 1,\n",
    "    endMonth: 12,\n",
    "    groupTimeRange: 'year',\n",
    "    groupBy: 'Company',\n",
    "    limit: -1,\n",
    "    order: 'DESC',\n",
    "}).then(data => {\n",
    "    openDigger.render.plotly(data.map(row => {\n",
    "        return {\n",
    "            x: [2015, 2016, 2017, 2018, 2019, 2020, 2021],\n",
    "            y: row.activity,\n",
    "            name: row.name\n",
    "        };\n",
    "    }), {title: 'Chinese COSS activity 2015-2021'});\n",
    "});"
   ]
  },
  {
   "cell_type": "markdown",
   "id": "14cd690a-9140-465f-805e-2668c9700ba3",
   "metadata": {},
   "source": [
    "## OpenRank for Chinese COSS"
   ]
  },
  {
   "cell_type": "code",
   "execution_count": 8,
   "id": "f82075ec-d60d-473d-8be9-268486d5992f",
   "metadata": {},
   "outputs": [
    {
     "data": {
      "application/vnd.plotly.v1+json": {
       "data": [
        {
         "name": "PingCAP",
         "x": [
          2015,
          2016,
          2017,
          2018,
          2019,
          2020,
          2021
         ],
         "y": [
          135.77,
          755.36,
          1930.68,
          3586.41,
          6212.87,
          8072.21,
          9348.61
         ]
        },
        {
         "name": "EMQ",
         "x": [
          2015,
          2016,
          2017,
          2018,
          2019,
          2020,
          2021
         ],
         "y": [
          205.78,
          463.07,
          778.43,
          1080.59,
          1515.8,
          1662.75,
          2374.54
         ]
        },
        {
         "name": "SphereEx",
         "x": [
          2015,
          2016,
          2017,
          2018,
          2019,
          2020,
          2021
         ],
         "y": [
          0,
          116.03,
          211.2,
          599.38,
          1102.82,
          2029.71,
          2328.87
         ]
        },
        {
         "name": "StreamNative",
         "x": [
          2015,
          2016,
          2017,
          2018,
          2019,
          2020,
          2021
         ],
         "y": [
          0,
          45.14,
          223.81,
          719.81,
          1321,
          1613.2,
          2246.38
         ]
        },
        {
         "name": "TAOS Data",
         "x": [
          2015,
          2016,
          2017,
          2018,
          2019,
          2020,
          2021
         ],
         "y": [
          0,
          0,
          0,
          0,
          491.42,
          1203.04,
          1698.25
         ]
        },
        {
         "name": "Zilliz",
         "x": [
          2015,
          2016,
          2017,
          2018,
          2019,
          2020,
          2021
         ],
         "y": [
          0,
          0,
          0,
          0,
          109.3,
          980.16,
          1605.39
         ]
        },
        {
         "name": "Jina AI",
         "x": [
          2015,
          2016,
          2017,
          2018,
          2019,
          2020,
          2021
         ],
         "y": [
          0,
          0,
          0,
          45.97,
          294.01,
          543.31,
          1534.93
         ]
        },
        {
         "name": "Vesoft",
         "x": [
          2015,
          2016,
          2017,
          2018,
          2019,
          2020,
          2021
         ],
         "y": [
          0,
          0,
          0,
          0,
          202.83,
          784.76,
          1398.65
         ]
        },
        {
         "name": "API7",
         "x": [
          2015,
          2016,
          2017,
          2018,
          2019,
          2020,
          2021
         ],
         "y": [
          0,
          0,
          0,
          0,
          185.89,
          775.73,
          1327.3
         ]
        },
        {
         "name": "Alluxio",
         "x": [
          2015,
          2016,
          2017,
          2018,
          2019,
          2020,
          2021
         ],
         "y": [
          425.97,
          1191.42,
          1522.35,
          1165.2,
          1295.89,
          1080.2,
          1086
         ]
        },
        {
         "name": "Oneflow",
         "x": [
          2015,
          2016,
          2017,
          2018,
          2019,
          2020,
          2021
         ],
         "y": [
          0,
          0,
          0,
          0,
          9.6,
          208.25,
          1079.43
         ]
        },
        {
         "name": "DCloud",
         "x": [
          2015,
          2016,
          2017,
          2018,
          2019,
          2020,
          2021
         ],
         "y": [
          150.99,
          124.42,
          167.04,
          217.09,
          937.81,
          1246.03,
          987.08
         ]
        },
        {
         "name": "Yunion",
         "x": [
          2015,
          2016,
          2017,
          2018,
          2019,
          2020,
          2021
         ],
         "y": [
          0,
          0,
          0,
          17.78,
          571.67,
          1119.57,
          935.19
         ]
        },
        {
         "name": "Timecho",
         "x": [
          2015,
          2016,
          2017,
          2018,
          2019,
          2020,
          2021
         ],
         "y": [
          0,
          0,
          0,
          0,
          223.07,
          528.14,
          888.93
         ]
        },
        {
         "name": "RT-Thread",
         "x": [
          2015,
          2016,
          2017,
          2018,
          2019,
          2020,
          2021
         ],
         "y": [
          144.17,
          94.28,
          159.51,
          497.46,
          793,
          737.08,
          846.11
         ]
        },
        {
         "name": "Taichi",
         "x": [
          2015,
          2016,
          2017,
          2018,
          2019,
          2020,
          2021
         ],
         "y": [
          0,
          0.62,
          32.11,
          28.64,
          40.7,
          606.02,
          838.75
         ]
        },
        {
         "name": "OpenResty",
         "x": [
          2015,
          2016,
          2017,
          2018,
          2019,
          2020,
          2021
         ],
         "y": [
          454.14,
          987.21,
          1179.98,
          862.24,
          760.48,
          625.97,
          539.35
         ]
        },
        {
         "name": "ThinkPHP",
         "x": [
          2015,
          2016,
          2017,
          2018,
          2019,
          2020,
          2021
         ],
         "y": [
          114.97,
          561.08,
          478.35,
          554.98,
          631.16,
          514.2,
          387.49
         ]
        },
        {
         "name": "JuiceData",
         "x": [
          2015,
          2016,
          2017,
          2018,
          2019,
          2020,
          2021
         ],
         "y": [
          0,
          0,
          0,
          6.23,
          30.19,
          48.59,
          316.13
         ]
        },
        {
         "name": "Megvii",
         "x": [
          2015,
          2016,
          2017,
          2018,
          2019,
          2020,
          2021
         ],
         "y": [
          0,
          0,
          0,
          0,
          0,
          168.47,
          309.99
         ]
        },
        {
         "name": "StarRocks",
         "x": [
          2015,
          2016,
          2017,
          2018,
          2019,
          2020,
          2021
         ],
         "y": [
          0,
          0,
          0,
          0,
          0,
          0,
          252.65
         ]
        },
        {
         "name": "Goodrain",
         "x": [
          2015,
          2016,
          2017,
          2018,
          2019,
          2020,
          2021
         ],
         "y": [
          0,
          3.07,
          23.05,
          177.45,
          289.05,
          292.14,
          204.55
         ]
        },
        {
         "name": "Kyligence",
         "x": [
          2015,
          2016,
          2017,
          2018,
          2019,
          2020,
          2021
         ],
         "y": [
          13.58,
          16.88,
          21.04,
          122.26,
          254.56,
          231.57,
          159.57
         ]
        },
        {
         "name": "KodeRover",
         "x": [
          2015,
          2016,
          2017,
          2018,
          2019,
          2020,
          2021
         ],
         "y": [
          0,
          0,
          0,
          0,
          0,
          0,
          148.85
         ]
        },
        {
         "name": "Chatopera",
         "x": [
          2015,
          2016,
          2017,
          2018,
          2019,
          2020,
          2021
         ],
         "y": [
          0,
          0,
          17.11,
          60.2,
          50.08,
          73.52,
          74.27
         ]
        },
        {
         "name": "Matrix Origin",
         "x": [
          2015,
          2016,
          2017,
          2018,
          2019,
          2020,
          2021
         ],
         "y": [
          0,
          0,
          0,
          0,
          0.66,
          5.61,
          62.35
         ]
        },
        {
         "name": "SequoiaDB",
         "x": [
          2015,
          2016,
          2017,
          2018,
          2019,
          2020,
          2021
         ],
         "y": [
          39.42,
          24.14,
          15.57,
          95.7,
          292.53,
          70.91,
          24.13
         ]
        },
        {
         "name": "Cloud Wise",
         "x": [
          2015,
          2016,
          2017,
          2018,
          2019,
          2020,
          2021
         ],
         "y": [
          0,
          0,
          15.72,
          8.75,
          1.36,
          0,
          23.42
         ]
        },
        {
         "name": "GAAS",
         "x": [
          2015,
          2016,
          2017,
          2018,
          2019,
          2020,
          2021
         ],
         "y": [
          0,
          0,
          0,
          0,
          72.6,
          41.92,
          21.35
         ]
        },
        {
         "name": "Galaxy Future",
         "x": [
          2015,
          2016,
          2017,
          2018,
          2019,
          2020,
          2021
         ],
         "y": [
          0,
          0,
          0,
          0,
          0,
          0,
          17.26
         ]
        },
        {
         "name": "ZStack",
         "x": [
          2015,
          2016,
          2017,
          2018,
          2019,
          2020,
          2021
         ],
         "y": [
          83.18,
          194.4,
          206.53,
          38.56,
          20.19,
          22.79,
          12.1
         ]
        },
        {
         "name": "Oushu",
         "x": [
          2015,
          2016,
          2017,
          2018,
          2019,
          2020,
          2021
         ],
         "y": [
          52.25,
          293.92,
          200.24,
          94.57,
          40.65,
          13.68,
          11.87
         ]
        },
        {
         "name": "DataCanvas",
         "x": [
          2015,
          2016,
          2017,
          2018,
          2019,
          2020,
          2021
         ],
         "y": [
          0,
          0,
          0,
          0,
          0,
          0,
          3.38
         ]
        }
       ],
       "layout": {
        "autosize": true,
        "title": {
         "text": "Chinese COSS OpenRank 2015-2021"
        },
        "xaxis": {
         "autorange": true,
         "range": [
          2014.6415889256696,
          2021.3584110743304
         ],
         "type": "linear"
        },
        "yaxis": {
         "autorange": true,
         "range": [
          -771.4872330097088,
          10120.09723300971
         ],
         "type": "linear"
        }
       }
      },
      "image/png": "[encoded data removed]"
     },
     "execution_count": 8,
     "metadata": {},
     "output_type": "execute_result"
    }
   ],
   "source": [
    "openDigger.index.openrank.getRepoOpenrank({\n",
    "    labelIntersect: [':companies/coss', ':regions/China'],\n",
    "    startYear: 2015,\n",
    "    endYear: 2021,\n",
    "    startMonth: 1,\n",
    "    endMonth: 12,\n",
    "    groupTimeRange: 'year',\n",
    "    groupBy: 'Company',\n",
    "    limit: -1,\n",
    "    order: 'DESC',\n",
    "}).then(data => {\n",
    "    openDigger.render.plotly(data.map(row => {\n",
    "        return {\n",
    "            x: [2015, 2016, 2017, 2018, 2019, 2020, 2021],\n",
    "            y: row.openrank,\n",
    "            name: row.name\n",
    "        };\n",
    "    }), {title: 'Chinese COSS OpenRank 2015-2021'});\n",
    "});"
   ]
  },
  {
   "cell_type": "markdown",
   "id": "2d82b02e-6f13-4030-bb8e-7147f470b5ef",
   "metadata": {},
   "source": [
    "## OpenRank growth for global COSS"
   ]
  },
  {
   "cell_type": "code",
   "execution_count": 9,
   "id": "913afaa1-d12a-411c-8d69-1a86c1b2598d",
   "metadata": {},
   "outputs": [
    {
     "data": {
      "application/vnd.plotly.v1+json": {
       "data": [
        {
         "name": "openrank",
         "x": [
          2015,
          2016,
          2017,
          2018,
          2019,
          2020,
          2021
         ],
         "y": [
          1820.2200000000003,
          4871.04,
          7182.720000000001,
          9979.269999999999,
          17751.19,
          25299.530000000006,
          33093.119999999995
         ]
        }
       ],
       "layout": {
        "autosize": true,
        "title": {
         "text": "Chinese COSS OpenRank growth 2015-2021"
        },
        "xaxis": {
         "autorange": true,
         "range": [
          2014.6433566433566,
          2021.3566433566434
         ],
         "type": "linear"
        },
        "yaxis": {
         "autorange": true,
         "range": [
          -760.5533009708729,
          35673.89330097087
         ],
         "type": "linear"
        }
       }
      },
      "image/png": "[encoded data removed]"
     },
     "execution_count": 9,
     "metadata": {},
     "output_type": "execute_result"
    }
   ],
   "source": [
    "openDigger.index.openrank.getRepoOpenrank({\n",
    "    labelIntersect: [':companies/coss', ':regions/China'],\n",
    "    startYear: 2015,\n",
    "    endYear: 2021,\n",
    "    startMonth: 1,\n",
    "    endMonth: 12,\n",
    "    groupTimeRange: 'year',\n",
    "    groupBy: 'Company',\n",
    "    limit: -1\n",
    "}).then(data => {\n",
    "    var x = [2015, 2016, 2017, 2018, 2019, 2020, 2021];\n",
    "    var y = [];\n",
    "    for (var i = 0; i < x.length; i++) {\n",
    "        var openrank = 0;\n",
    "        data.forEach(row => openrank += row.openrank[i] ?? 0);\n",
    "        y.push(openrank);\n",
    "    }\n",
    "    openDigger.render.plotly([{\n",
    "        x,\n",
    "        y,\n",
    "        name: 'openrank'\n",
    "    }], {title: 'Chinese COSS OpenRank growth 2015-2021'});\n",
    "});"
   ]
  },
  {
   "cell_type": "code",
   "execution_count": null,
   "id": "c53b55c6-887e-4fdf-bb68-63f5a4872cbb",
   "metadata": {},
   "outputs": [],
   "source": []
  }
 ],
 "metadata": {
  "kernelspec": {
   "display_name": "JavaScript (Node.js)",
   "language": "javascript",
   "name": "javascript"
  },
  "language_info": {
   "file_extension": ".js",
   "mimetype": "application/javascript",
   "name": "javascript",
   "version": "16.13.2"
  }
 },
 "nbformat": 4,
 "nbformat_minor": 5
}
