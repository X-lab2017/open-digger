{
 "cells": [
  {
   "cell_type": "code",
   "execution_count": 1,
   "id": "f4156961-d3c8-4faf-8df2-ca7276f182e1",
   "metadata": {},
   "outputs": [],
   "source": [
    "var openDigger = require('../src/open_digger');"
   ]
  },
  {
   "cell_type": "markdown",
   "id": "73416250-b9b2-40df-a45c-d34cd8b69862",
   "metadata": {},
   "source": [
    "# COSS\n",
    "\n",
    "This is a notebook for commercial open source companies."
   ]
  },
  {
   "cell_type": "code",
   "execution_count": 7,
   "id": "ed47c9f4-4d11-40ed-9816-2fffc84cc2c9",
   "metadata": {},
   "outputs": [
    {
     "name": "stdout",
     "output_type": "stream",
     "text": [
      "There are 10 repos and 73 orgs for COSS in OpenDigger.\n"
     ]
    }
   ],
   "source": [
    "var cossData = openDigger.label.getGitHubData([':companies/coss']);\n",
    "console.log(`There are ${cossData.githubRepos.length} repos and ${cossData.githubOrgs.length} orgs for COSS in OpenDigger.`);"
   ]
  },
  {
   "cell_type": "markdown",
   "id": "933cbee3-f18c-4b9f-b9b2-1e2e42d6a76d",
   "metadata": {},
   "source": [
    "## Activity for global COSS"
   ]
  },
  {
   "cell_type": "code",
   "execution_count": 6,
   "id": "4d9c87e5-e9fc-40d8-8c1b-5daac0d02441",
   "metadata": {},
   "outputs": [
    {
     "data": {
      "application/vnd.plotly.v1+json": {
       "data": [
        {
         "name": "Elastic",
         "visible": true,
         "x": [
          2015,
          2016,
          2017,
          2018,
          2019,
          2020,
          2021
         ],
         "y": [
          29231.23,
          36199.47,
          36390.88,
          48099.2,
          77264.19,
          94173.12,
          91502.33
         ]
        },
        {
         "name": "HarshiCorp",
         "visible": true,
         "x": [
          2015,
          2016,
          2017,
          2018,
          2019,
          2020,
          2021
         ],
         "y": [
          15958.07,
          25629.62,
          29997.89,
          29609.37,
          36336.1,
          55264.59,
          79669.16
         ]
        },
        {
         "name": "Mozilla",
         "x": [
          2015,
          2016,
          2017,
          2018,
          2019,
          2020,
          2021
         ],
         "y": [
          58093.57,
          59489.12,
          69706.97,
          71318.1,
          89571.8,
          82656.55,
          62789.97
         ]
        },
        {
         "name": "PingCAP",
         "visible": true,
         "x": [
          2015,
          2016,
          2017,
          2018,
          2019,
          2020,
          2021
         ],
         "y": [
          946.64,
          5519.89,
          11770.48,
          17303.3,
          35036.71,
          47653.8,
          46202.83
         ]
        },
        {
         "name": "Cloudbees",
         "x": [
          2015,
          2016,
          2017,
          2018,
          2019,
          2020,
          2021
         ],
         "y": [
          23049.21,
          32041.75,
          33418.03,
          29054.76,
          37367.86,
          40851.91,
          37090.39
         ]
        },
        {
         "name": "Docker",
         "x": [
          2015,
          2016,
          2017,
          2018,
          2019,
          2020,
          2021
         ],
         "y": [
          51423.39,
          64397.46,
          62191.23,
          45130.74,
          40899.75,
          43103.07,
          33372.3
         ]
        },
        {
         "name": "JetBrains",
         "x": [
          2015,
          2016,
          2017,
          2018,
          2019,
          2020,
          2021
         ],
         "y": [
          6712.95,
          7453.04,
          11343.1,
          14402.02,
          16879.16,
          24371.68,
          25781.26
         ]
        },
        {
         "name": "WordPress",
         "x": [
          2015,
          2016,
          2017,
          2018,
          2019,
          2020,
          2021
         ],
         "y": [
          993.03,
          1303.98,
          6526.59,
          16320.84,
          16620.42,
          21360.65,
          23013.03
         ]
        },
        {
         "name": "MongoDB",
         "x": [
          2015,
          2016,
          2017,
          2018,
          2019,
          2020,
          2021
         ],
         "y": [
          4865.72,
          5846.7,
          5356.27,
          7761.12,
          11143.1,
          18285.11,
          20402.79
         ]
        },
        {
         "name": "Odoo",
         "x": [
          2015,
          2016,
          2017,
          2018,
          2019,
          2020,
          2021
         ],
         "y": [
          11208.13,
          8790.24,
          10369.9,
          12613.94,
          17081.44,
          19097.91,
          19965.46
         ]
        },
        {
         "name": "Magento",
         "x": [
          2015,
          2016,
          2017,
          2018,
          2019,
          2020,
          2021
         ],
         "y": [
          5346.44,
          16089.65,
          18799.5,
          21943.29,
          31837.32,
          30968.95,
          17959.21
         ]
        },
        {
         "name": "Adobe",
         "x": [
          2015,
          2016,
          2017,
          2018,
          2019,
          2020,
          2021
         ],
         "y": [
          5346.44,
          16089.65,
          18799.5,
          21943.29,
          31837.32,
          30968.95,
          17959.21
         ]
        },
        {
         "name": "Puppet Labs",
         "x": [
          2015,
          2016,
          2017,
          2018,
          2019,
          2020,
          2021
         ],
         "y": [
          25171.92,
          26250.52,
          22865.61,
          22086.22,
          22396.63,
          21444.95,
          16398.82
         ]
        },
        {
         "name": "Databricks",
         "x": [
          2015,
          2016,
          2017,
          2018,
          2019,
          2020,
          2021
         ],
         "y": [
          19584.56,
          20233.77,
          17914.49,
          17109.07,
          19517.12,
          18391.46,
          16020.28
         ]
        },
        {
         "name": "Mapbox",
         "x": [
          2015,
          2016,
          2017,
          2018,
          2019,
          2020,
          2021
         ],
         "y": [
          16206.1,
          23350.96,
          25266,
          27164.95,
          22080.17,
          18752.39,
          15762.25
         ]
        },
        {
         "name": "Mulesoft",
         "x": [
          2015,
          2016,
          2017,
          2018,
          2019,
          2020,
          2021
         ],
         "y": [
          4383.17,
          6390.64,
          10700.55,
          9884.94,
          16192.48,
          15121.12,
          11919.97
         ]
        },
        {
         "name": "Pivotal",
         "x": [
          2015,
          2016,
          2017,
          2018,
          2019,
          2020,
          2021
         ],
         "y": [
          9151.11,
          13568.63,
          16290.69,
          15067.93,
          12794.91,
          12934.8,
          11452.86
         ]
        },
        {
         "name": "Postman",
         "x": [
          2015,
          2016,
          2017,
          2018,
          2019,
          2020,
          2021
         ],
         "y": [
          1775.78,
          5392.78,
          8231.79,
          9878.7,
          11508.13,
          12095.88,
          9032.53
         ]
        },
        {
         "name": "Zilliz",
         "x": [
          2015,
          2016,
          2017,
          2018,
          2019,
          2020,
          2021
         ],
         "y": [
          0,
          0,
          0,
          0,
          1012.24,
          4057.63,
          8600.74
         ]
        },
        {
         "name": "Jina AI",
         "x": [
          2015,
          2016,
          2017,
          2018,
          2019,
          2020,
          2021
         ],
         "y": [
          0,
          0,
          0,
          0,
          0,
          3206.07,
          8589.14
         ]
        },
        {
         "name": "Talend",
         "x": [
          2015,
          2016,
          2017,
          2018,
          2019,
          2020,
          2021
         ],
         "y": [
          556.47,
          4712.16,
          9571.9,
          10098.22,
          8589.35,
          9338.55,
          8070.26
         ]
        },
        {
         "name": "Vesoft",
         "x": [
          2015,
          2016,
          2017,
          2018,
          2019,
          2020,
          2021
         ],
         "y": [
          0,
          0,
          0,
          0,
          2315.81,
          5379.38,
          7963.58
         ]
        },
        {
         "name": "Treasure Data",
         "x": [
          2015,
          2016,
          2017,
          2018,
          2019,
          2020,
          2021
         ],
         "y": [
          1768.82,
          2568.87,
          3223.21,
          4143.6,
          5338.72,
          6623.35,
          7669.88
         ]
        },
        {
         "name": "EMQ",
         "x": [
          2015,
          2016,
          2017,
          2018,
          2019,
          2020,
          2021
         ],
         "y": [
          0,
          0,
          60.68,
          1577.43,
          5899.19,
          6261.47,
          7450.9
         ]
        },
        {
         "name": "Neo4j",
         "x": [
          2015,
          2016,
          2017,
          2018,
          2019,
          2020,
          2021
         ],
         "y": [
          4911.22,
          7166.48,
          7747.81,
          6692.76,
          5080.92,
          7095.46,
          7294.23
         ]
        },
        {
         "name": "Redis Labs",
         "x": [
          2015,
          2016,
          2017,
          2018,
          2019,
          2020,
          2021
         ],
         "y": [
          819.48,
          708.87,
          508.87,
          544.32,
          606.87,
          3120.16,
          7141.7
         ]
        },
        {
         "name": "Rapid7",
         "x": [
          2015,
          2016,
          2017,
          2018,
          2019,
          2020,
          2021
         ],
         "y": [
          6157.09,
          6276.81,
          7078.58,
          6530.08,
          6397.07,
          8863.49,
          7024.84
         ]
        },
        {
         "name": "StreamNative",
         "x": [
          2015,
          2016,
          2017,
          2018,
          2019,
          2020,
          2021
         ],
         "y": [
          0,
          254.17,
          1176.6,
          2369.57,
          4058.42,
          5059.34,
          6828.53
         ]
        },
        {
         "name": "Alfresco",
         "x": [
          2015,
          2016,
          2017,
          2018,
          2019,
          2020,
          2021
         ],
         "y": [
          1335.08,
          2396.16,
          3226.95,
          5758.59,
          7356.52,
          8545.02,
          6644.82
         ]
        },
        {
         "name": "JFrog",
         "x": [
          2015,
          2016,
          2017,
          2018,
          2019,
          2020,
          2021
         ],
         "y": [
          428.63,
          790.93,
          1212.3,
          2153.55,
          3742.56,
          5652.59,
          6462.05
         ]
        },
        {
         "name": "Oneflow",
         "x": [
          2015,
          2016,
          2017,
          2018,
          2019,
          2020,
          2021
         ],
         "y": [
          0,
          0,
          0,
          0,
          14.23,
          1624.35,
          6140.93
         ]
        },
        {
         "name": "Segment",
         "x": [
          2015,
          2016,
          2017,
          2018,
          2019,
          2020,
          2021
         ],
         "y": [
          5098.51,
          4113.64,
          4789.15,
          4612.59,
          5005,
          5415.27,
          6070.17
         ]
        },
        {
         "name": "Kaltura",
         "x": [
          2015,
          2016,
          2017,
          2018,
          2019,
          2020,
          2021
         ],
         "y": [
          4272.51,
          5218.93,
          5970.23,
          5922.66,
          6487.67,
          6478.02,
          5849.21
         ]
        },
        {
         "name": "Confluent",
         "x": [
          2015,
          2016,
          2017,
          2018,
          2019,
          2020,
          2021
         ],
         "y": [
          1704.41,
          4604.45,
          6087.83,
          5784.27,
          6154.47,
          6735.53,
          5606.77
         ]
        },
        {
         "name": "Cloudera",
         "x": [
          2015,
          2016,
          2017,
          2018,
          2019,
          2020,
          2021
         ],
         "y": [
          1648.99,
          2466.92,
          1818.53,
          1048.05,
          4745.94,
          4012.49,
          5232.59
         ]
        },
        {
         "name": "SphereEx",
         "x": [
          2015,
          2016,
          2017,
          2018,
          2019,
          2020,
          2021
         ],
         "y": [
          0,
          325.31,
          572.5,
          1516.7,
          3108.55,
          4789.24,
          4953.53
         ]
        },
        {
         "name": "Couchbase",
         "x": [
          2015,
          2016,
          2017,
          2018,
          2019,
          2020,
          2021
         ],
         "y": [
          3864.59,
          4575.22,
          4645.51,
          4478.06,
          4549.63,
          4796.77,
          4583.9
         ]
        },
        {
         "name": "API7",
         "x": [
          2015,
          2016,
          2017,
          2018,
          2019,
          2020,
          2021
         ],
         "y": [
          0,
          0,
          0,
          0,
          846.54,
          2957.59,
          4106.58
         ]
        },
        {
         "name": "TAOS Data",
         "x": [
          2015,
          2016,
          2017,
          2018,
          2019,
          2020,
          2021
         ],
         "y": [
          0,
          0,
          0,
          0,
          1445.94,
          3171.16,
          3993.09
         ]
        },
        {
         "name": "Alluxio",
         "x": [
          2015,
          2016,
          2017,
          2018,
          2019,
          2020,
          2021
         ],
         "y": [
          0,
          3595.92,
          4207.41,
          3072.15,
          3922.38,
          3101.85,
          3345.89
         ]
        },
        {
         "name": "Yunion",
         "x": [
          2015,
          2016,
          2017,
          2018,
          2019,
          2020,
          2021
         ],
         "y": [
          0,
          0,
          0,
          29.04,
          2843.08,
          3785.08,
          3251.83
         ]
        },
        {
         "name": "Timecho",
         "x": [
          2015,
          2016,
          2017,
          2018,
          2019,
          2020,
          2021
         ],
         "y": [
          0,
          0,
          0,
          0,
          1461.31,
          2557.97,
          2951.34
         ]
        },
        {
         "name": "Liferay",
         "x": [
          2015,
          2016,
          2017,
          2018,
          2019,
          2020,
          2021
         ],
         "y": [
          1815.47,
          3205.4,
          6669.15,
          4734.04,
          6245.4,
          4496.77,
          2894.76
         ]
        },
        {
         "name": "Pentaho",
         "x": [
          2015,
          2016,
          2017,
          2018,
          2019,
          2020,
          2021
         ],
         "y": [
          6734.08,
          8450.16,
          9187.4,
          6410.87,
          5753.96,
          3438.13,
          2657.9
         ]
        },
        {
         "name": "Taichi",
         "x": [
          2015,
          2016,
          2017,
          2018,
          2019,
          2020,
          2021
         ],
         "y": [
          0,
          0,
          0,
          0,
          0,
          2381.85,
          2591.56
         ]
        },
        {
         "name": "RT-Thread",
         "x": [
          2015,
          2016,
          2017,
          2018,
          2019,
          2020,
          2021
         ],
         "y": [
          397.28,
          247.58,
          763.84,
          1954.74,
          2619.96,
          2540.34,
          2462.54
         ]
        },
        {
         "name": "Instructure",
         "x": [
          2015,
          2016,
          2017,
          2018,
          2019,
          2020,
          2021
         ],
         "y": [
          1142.53,
          1171.97,
          1388.84,
          1427.98,
          2579.95,
          2895.7,
          2383.3
         ]
        },
        {
         "name": "DCloud",
         "x": [
          2015,
          2016,
          2017,
          2018,
          2019,
          2020,
          2021
         ],
         "y": [
          288.24,
          275.27,
          337.97,
          517.02,
          2618.18,
          2947.54,
          2342.46
         ]
        },
        {
         "name": "Fastly",
         "x": [
          2015,
          2016,
          2017,
          2018,
          2019,
          2020,
          2021
         ],
         "y": [
          440.68,
          793.73,
          474.35,
          629.65,
          1199.13,
          1461.16,
          2166.27
         ]
        },
        {
         "name": "StarRocks",
         "x": [
          2015,
          2016,
          2017,
          2018,
          2019,
          2020,
          2021
         ],
         "y": [
          0,
          0,
          0,
          0,
          0,
          0,
          2073.2
         ]
        },
        {
         "name": "OpenResty",
         "x": [
          2015,
          2016,
          2017,
          2018,
          2019,
          2020,
          2021
         ],
         "y": [
          1501.07,
          3520.56,
          3301.53,
          2188.32,
          2216.56,
          2490.4,
          1851.41
         ]
        },
        {
         "name": "JuiceData",
         "x": [
          2015,
          2016,
          2017,
          2018,
          2019,
          2020,
          2021
         ],
         "y": [
          0,
          0,
          0,
          20.28,
          62.68,
          157.76,
          1306.83
         ]
        },
        {
         "name": "Megvii",
         "x": [
          2015,
          2016,
          2017,
          2018,
          2019,
          2020,
          2021
         ],
         "y": [
          0,
          0,
          0,
          0,
          0,
          670.65,
          1124.34
         ]
        },
        {
         "name": "KodeRover",
         "x": [
          2015,
          2016,
          2017,
          2018,
          2019,
          2020,
          2021
         ],
         "y": [
          0,
          0,
          0,
          0,
          0,
          0,
          1092.32
         ]
        },
        {
         "name": "ThinkPHP",
         "x": [
          2015,
          2016,
          2017,
          2018,
          2019,
          2020,
          2021
         ],
         "y": [
          108.14,
          1771.35,
          1235.99,
          1407.73,
          1693.44,
          1321.27,
          993.92
         ]
        },
        {
         "name": "Goodrain",
         "x": [
          2015,
          2016,
          2017,
          2018,
          2019,
          2020,
          2021
         ],
         "y": [
          0,
          2.24,
          54.64,
          466.2,
          1157.69,
          1226.71,
          774.08
         ]
        },
        {
         "name": "Varnish",
         "x": [
          2015,
          2016,
          2017,
          2018,
          2019,
          2020,
          2021
         ],
         "y": [
          29.69,
          998.59,
          944.53,
          782.4,
          792.14,
          764.02,
          561.91
         ]
        },
        {
         "name": "Matrix Origin",
         "x": [
          2015,
          2016,
          2017,
          2018,
          2019,
          2020,
          2021
         ],
         "y": [
          0,
          0,
          0,
          0,
          0,
          0,
          551.92
         ]
        },
        {
         "name": "Kyligence",
         "x": [
          2015,
          2016,
          2017,
          2018,
          2019,
          2020,
          2021
         ],
         "y": [
          43.11,
          55.77,
          85.39,
          618.36,
          1137.68,
          864.32,
          517.46
         ]
        },
        {
         "name": "Chatopera",
         "x": [
          2015,
          2016,
          2017,
          2018,
          2019,
          2020,
          2021
         ],
         "y": [
          0,
          0,
          0,
          89.21,
          181.22,
          340.36,
          386.4
         ]
        },
        {
         "name": "Sourcefire",
         "x": [
          2015,
          2016,
          2017,
          2018,
          2019,
          2020,
          2021
         ],
         "y": [
          0,
          0,
          0,
          66.88,
          126.18,
          116.51,
          273.14
         ]
        },
        {
         "name": "Nicira",
         "x": [
          2015,
          2016,
          2017,
          2018,
          2019,
          2020,
          2021
         ],
         "y": [
          293.45,
          483.54,
          437.72,
          1087.64,
          393.74,
          169.89,
          196.38
         ]
        },
        {
         "name": "Galaxy Future",
         "x": [
          2015,
          2016,
          2017,
          2018,
          2019,
          2020,
          2021
         ],
         "y": [
          0,
          0,
          0,
          0,
          0,
          0,
          178.7
         ]
        },
        {
         "name": "Acquia",
         "x": [
          2015,
          2016,
          2017,
          2018,
          2019,
          2020,
          2021
         ],
         "y": [
          483.64,
          709.05,
          542.48,
          488.68,
          537.69,
          359.39,
          159.54
         ]
        },
        {
         "name": "EnterpriseDB",
         "x": [
          2015,
          2016,
          2017,
          2018,
          2019,
          2020,
          2021
         ],
         "y": [
          22.41,
          26.9,
          35.63,
          58.98,
          77.36,
          51.08,
          95.5
         ]
        },
        {
         "name": "Cloud Wise",
         "x": [
          2015,
          2016,
          2017,
          2018,
          2019,
          2020,
          2021
         ],
         "y": [
          0,
          0,
          15.04,
          1.41,
          0,
          0,
          54.96
         ]
        },
        {
         "name": "GAAS",
         "x": [
          2015,
          2016,
          2017,
          2018,
          2019,
          2020,
          2021
         ],
         "y": [
          0,
          0,
          0,
          0,
          199.83,
          114.41,
          52.96
         ]
        },
        {
         "name": "ZStack",
         "x": [
          2015,
          2016,
          2017,
          2018,
          2019,
          2020,
          2021
         ],
         "y": [
          0,
          0,
          1155.46,
          57.57,
          52.07,
          62.36,
          39.25
         ]
        },
        {
         "name": "Oushu",
         "x": [
          2015,
          2016,
          2017,
          2018,
          2019,
          2020,
          2021
         ],
         "y": [
          343.85,
          1539.63,
          776.95,
          390.24,
          129.33,
          27.5,
          38.01
         ]
        },
        {
         "name": "DataCanvas",
         "x": [
          2015,
          2016,
          2017,
          2018,
          2019,
          2020,
          2021
         ],
         "y": [
          0,
          0,
          0,
          0,
          0,
          0,
          20.79
         ]
        },
        {
         "name": "SequoiaDB",
         "x": [
          2015,
          2016,
          2017,
          2018,
          2019,
          2020,
          2021
         ],
         "y": [
          69.54,
          22.49,
          18.94,
          296.33,
          355.28,
          19.63,
          14.23
         ]
        },
        {
         "name": "ForgeRock",
         "x": [
          2015,
          2016,
          2017,
          2018,
          2019,
          2020,
          2021
         ],
         "y": [
          14.62,
          0,
          5.15
         ]
        }
       ],
       "layout": {
        "autosize": true,
        "title": {
         "text": "COSS activity 2015-2021"
        },
        "xaxis": {
         "autorange": true,
         "range": [
          2014.6415889256696,
          2021.3584110743304
         ],
         "type": "linear"
        },
        "yaxis": {
         "autorange": true,
         "range": [
          -7771.568155339804,
          101944.6881553398
         ],
         "type": "linear"
        }
       }
      },
      "image/png": "[encoded data removed]"
     },
     "execution_count": 6,
     "metadata": {},
     "output_type": "execute_result"
    }
   ],
   "source": [
    "openDigger.index.activity.getRepoActivityWithDetail({\n",
    "    labelUnion: [':companies/coss'],\n",
    "    startYear: 2015,\n",
    "    endYear: 2021,\n",
    "    startMonth: 1,\n",
    "    endMonth: 12,\n",
    "    groupTimeRange: 'year',\n",
    "    groupBy: 'Company',\n",
    "    limit: -1\n",
    "}).then(data => {\n",
    "    openDigger.render.plotly(data.map(row => {\n",
    "        return {\n",
    "            x: [2015, 2016, 2017, 2018, 2019, 2020, 2021],\n",
    "            y: row.activity,\n",
    "            name: row.name\n",
    "        };\n",
    "    }), {title: 'COSS activity 2015-2021'});\n",
    "});"
   ]
  },
  {
   "cell_type": "markdown",
   "id": "01653183-6a26-4fd1-ac45-49d4f3bf6e5a",
   "metadata": {},
   "source": [
    "## OpenRank for global COSS"
   ]
  },
  {
   "cell_type": "code",
   "execution_count": 3,
   "id": "b42ba616-ed50-48d5-ad58-ae3ba827b704",
   "metadata": {},
   "outputs": [
    {
     "data": {
      "application/vnd.plotly.v1+json": {
       "data": [
        {
         "name": "HarshiCorp",
         "x": [
          2015,
          2016,
          2017,
          2018,
          2019,
          2020,
          2021
         ],
         "y": [
          6781.09,
          11435.59,
          14263.74,
          17610.32,
          21877.25,
          27656.43,
          30311.72
         ]
        },
        {
         "name": "Elastic",
         "x": [
          2015,
          2016,
          2017,
          2018,
          2019,
          2020,
          2021
         ],
         "y": [
          12235.11,
          18095.92,
          18413.3,
          20088.76,
          26350.21,
          30584.62,
          30256.75
         ]
        },
        {
         "name": "Mozilla",
         "x": [
          2015,
          2016,
          2017,
          2018,
          2019,
          2020,
          2021
         ],
         "y": [
          10344.96,
          16000.98,
          19227.81,
          20462.95,
          25381.9,
          23961.04,
          20271.35
         ]
        },
        {
         "name": "Docker",
         "x": [
          2015,
          2016,
          2017,
          2018,
          2019,
          2020,
          2021
         ],
         "y": [
          14087.51,
          20770.11,
          21479.36,
          16795.56,
          14822.2,
          15587.39,
          13466.83
         ]
        },
        {
         "name": "Odoo",
         "x": [
          2015,
          2016,
          2017,
          2018,
          2019,
          2020,
          2021
         ],
         "y": [
          3327.87,
          3717.22,
          3954.48,
          5455.47,
          7783.68,
          11562.88,
          12758.39
         ]
        },
        {
         "name": "Adobe",
         "x": [
          2015,
          2016,
          2017,
          2018,
          2019,
          2020,
          2021
         ],
         "y": [
          1774.47,
          6541.91,
          8752.16,
          10932.33,
          13838.48,
          13641.99,
          9711.91
         ]
        },
        {
         "name": "PingCAP",
         "x": [
          2015,
          2016,
          2017,
          2018,
          2019,
          2020,
          2021
         ],
         "y": [
          135.77,
          755.35,
          1930.68,
          3586.43,
          6212.94,
          8072.22,
          9348.62
         ]
        },
        {
         "name": "JetBrains",
         "x": [
          2015,
          2016,
          2017,
          2018,
          2019,
          2020,
          2021
         ],
         "y": [
          2286.84,
          2533.35,
          3709.99,
          5253.21,
          5912.15,
          7939.02,
          9034.33
         ]
        },
        {
         "name": "Cloudbees",
         "x": [
          2015,
          2016,
          2017,
          2018,
          2019,
          2020,
          2021
         ],
         "y": [
          5746.2,
          8163.86,
          9617.18,
          9904.28,
          10512.47,
          11569.35,
          8988.69
         ]
        },
        {
         "name": "WordPress",
         "x": [
          2015,
          2016,
          2017,
          2018,
          2019,
          2020,
          2021
         ],
         "y": [
          489.15,
          678.51,
          2469.05,
          7329.62,
          8614.72,
          8130.97,
          8817.89
         ]
        },
        {
         "name": "Databricks",
         "x": [
          2015,
          2016,
          2017,
          2018,
          2019,
          2020,
          2021
         ],
         "y": [
          4504.5,
          7319.24,
          7235.31,
          7105.19,
          7694.03,
          7976.7,
          6979.17
         ]
        },
        {
         "name": "Mapbox",
         "x": [
          2015,
          2016,
          2017,
          2018,
          2019,
          2020,
          2021
         ],
         "y": [
          3627.34,
          6537.69,
          8358.58,
          9827.26,
          8389.86,
          6980.45,
          5815.17
         ]
        },
        {
         "name": "MongoDB",
         "x": [
          2015,
          2016,
          2017,
          2018,
          2019,
          2020,
          2021
         ],
         "y": [
          1248.94,
          1573.89,
          1492.04,
          1992.33,
          2457.6,
          3371.06,
          4282.75
         ]
        },
        {
         "name": "Puppet Labs",
         "x": [
          2015,
          2016,
          2017,
          2018,
          2019,
          2020,
          2021
         ],
         "y": [
          3920.94,
          5023.31,
          4826.86,
          4765.96,
          4847.33,
          4881.67,
          3955.88
         ]
        },
        {
         "name": "Postman",
         "x": [
          2015,
          2016,
          2017,
          2018,
          2019,
          2020,
          2021
         ],
         "y": [
          1113.78,
          1989.1,
          3163.24,
          4453.27,
          4768.55,
          4645.14,
          3450.87
         ]
        },
        {
         "name": "Rapid7",
         "x": [
          2015,
          2016,
          2017,
          2018,
          2019,
          2020,
          2021
         ],
         "y": [
          2003.93,
          2366.2,
          2946.76,
          3231.95,
          3148.79,
          3700.09,
          3430.89
         ]
        },
        {
         "name": "Redis Labs",
         "x": [
          2015,
          2016,
          2017,
          2018,
          2019,
          2020,
          2021
         ],
         "y": [
          1377.46,
          1282.57,
          1228.26,
          1515.94,
          1453.94,
          1853.55,
          2843.3
         ]
        },
        {
         "name": "Pivotal",
         "x": [
          2015,
          2016,
          2017,
          2018,
          2019,
          2020,
          2021
         ],
         "y": [
          2183.06,
          3405.19,
          4260.1,
          4610.89,
          3898,
          3027.77,
          2604.07
         ]
        },
        {
         "name": "EMQ",
         "x": [
          2015,
          2016,
          2017,
          2018,
          2019,
          2020,
          2021
         ],
         "y": [
          205.79,
          463.09,
          778.45,
          1080.58,
          1515.8,
          1662.68,
          2374.52
         ]
        },
        {
         "name": "Treasure Data",
         "x": [
          2015,
          2016,
          2017,
          2018,
          2019,
          2020,
          2021
         ],
         "y": [
          462.37,
          722.55,
          891.95,
          1203.98,
          1582.33,
          2031.29,
          2368.52
         ]
        },
        {
         "name": "SphereEx",
         "x": [
          2015,
          2016,
          2017,
          2018,
          2019,
          2020,
          2021
         ],
         "y": [
          0,
          116.03,
          211.2,
          599.38,
          1102.82,
          2029.71,
          2328.87
         ]
        },
        {
         "name": "StreamNative",
         "x": [
          2015,
          2016,
          2017,
          2018,
          2019,
          2020,
          2021
         ],
         "y": [
          0,
          45.14,
          223.81,
          719.81,
          1321,
          1613.2,
          2246.38
         ]
        },
        {
         "name": "Mulesoft",
         "x": [
          2015,
          2016,
          2017,
          2018,
          2019,
          2020,
          2021
         ],
         "y": [
          1022.13,
          1618.4,
          1914.8,
          2194.7,
          2914.8,
          2665.04,
          2243.08
         ]
        },
        {
         "name": "Confluent",
         "x": [
          2015,
          2016,
          2017,
          2018,
          2019,
          2020,
          2021
         ],
         "y": [
          233.07,
          1191.78,
          1864.29,
          2219.31,
          2322.09,
          2239.15,
          2191.29
         ]
        },
        {
         "name": "Neo4j",
         "x": [
          2015,
          2016,
          2017,
          2018,
          2019,
          2020,
          2021
         ],
         "y": [
          1342.03,
          2497.87,
          2866.34,
          2543.53,
          1795.86,
          2092.19,
          2119.78
         ]
        },
        {
         "name": "JFrog",
         "x": [
          2015,
          2016,
          2017,
          2018,
          2019,
          2020,
          2021
         ],
         "y": [
          131.67,
          260.96,
          371.43,
          579.32,
          1115.05,
          1554.5,
          1905.75
         ]
        },
        {
         "name": "Segment",
         "x": [
          2015,
          2016,
          2017,
          2018,
          2019,
          2020,
          2021
         ],
         "y": [
          989.32,
          1277.34,
          1353.85,
          1517.85,
          1546.91,
          1515.23,
          1729.95
         ]
        },
        {
         "name": "TAOS Data",
         "x": [
          2015,
          2016,
          2017,
          2018,
          2019,
          2020,
          2021
         ],
         "y": [
          0,
          0,
          0,
          0,
          491.42,
          1203.05,
          1698.25
         ]
        },
        {
         "name": "Kaltura",
         "x": [
          2015,
          2016,
          2017,
          2018,
          2019,
          2020,
          2021
         ],
         "y": [
          935.43,
          1453.04,
          1568.82,
          1692.65,
          1582.41,
          1590.98,
          1624.88
         ]
        },
        {
         "name": "Zilliz",
         "x": [
          2015,
          2016,
          2017,
          2018,
          2019,
          2020,
          2021
         ],
         "y": [
          0,
          0,
          0,
          0,
          109.29,
          980.15,
          1605.42
         ]
        },
        {
         "name": "Alfresco",
         "x": [
          2015,
          2016,
          2017,
          2018,
          2019,
          2020,
          2021
         ],
         "y": [
          401.51,
          661.99,
          938.53,
          1339.84,
          1518.72,
          1643.36,
          1595.25
         ]
        },
        {
         "name": "Cloudera",
         "x": [
          2015,
          2016,
          2017,
          2018,
          2019,
          2020,
          2021
         ],
         "y": [
          390.67,
          663,
          617.47,
          467.63,
          1008.95,
          1013.74,
          1568.62
         ]
        },
        {
         "name": "Jina AI",
         "x": [
          2015,
          2016,
          2017,
          2018,
          2019,
          2020,
          2021
         ],
         "y": [
          0,
          0,
          0,
          45.97,
          294.01,
          543.31,
          1534.92
         ]
        },
        {
         "name": "Talend",
         "x": [
          2015,
          2016,
          2017,
          2018,
          2019,
          2020,
          2021
         ],
         "y": [
          148.25,
          561.31,
          1477.51,
          1824.72,
          1792.42,
          1700.03,
          1449.16
         ]
        },
        {
         "name": "Vesoft",
         "x": [
          2015,
          2016,
          2017,
          2018,
          2019,
          2020,
          2021
         ],
         "y": [
          0,
          0,
          0,
          0,
          202.83,
          787.89,
          1411.63
         ]
        },
        {
         "name": "API7",
         "x": [
          2015,
          2016,
          2017,
          2018,
          2019,
          2020,
          2021
         ],
         "y": [
          0,
          0,
          0,
          0,
          185.89,
          775.73,
          1327.3
         ]
        },
        {
         "name": "Couchbase",
         "x": [
          2015,
          2016,
          2017,
          2018,
          2019,
          2020,
          2021
         ],
         "y": [
          1195.57,
          1590.43,
          1633.67,
          1720.92,
          1466.95,
          1475.41,
          1311.05
         ]
        },
        {
         "name": "Alluxio",
         "x": [
          2015,
          2016,
          2017,
          2018,
          2019,
          2020,
          2021
         ],
         "y": [
          425.97,
          1191.42,
          1522.35,
          1165.2,
          1295.88,
          1080.21,
          1085.99
         ]
        },
        {
         "name": "Oneflow",
         "x": [
          2015,
          2016,
          2017,
          2018,
          2019,
          2020,
          2021
         ],
         "y": [
          0,
          0,
          0,
          0,
          9.59,
          208.22,
          1079.42
         ]
        },
        {
         "name": "DCloud",
         "x": [
          2015,
          2016,
          2017,
          2018,
          2019,
          2020,
          2021
         ],
         "y": [
          150.98,
          124.43,
          167.05,
          217.09,
          937.8,
          1246.04,
          987.07
         ]
        },
        {
         "name": "Yunion",
         "x": [
          2015,
          2016,
          2017,
          2018,
          2019,
          2020,
          2021
         ],
         "y": [
          0,
          0,
          0,
          17.78,
          571.66,
          1119.58,
          935.21
         ]
        },
        {
         "name": "Timecho",
         "x": [
          2015,
          2016,
          2017,
          2018,
          2019,
          2020,
          2021
         ],
         "y": [
          0,
          0,
          0,
          0,
          223.07,
          528.14,
          888.93
         ]
        },
        {
         "name": "RT-Thread",
         "x": [
          2015,
          2016,
          2017,
          2018,
          2019,
          2020,
          2021
         ],
         "y": [
          144.18,
          94.28,
          159.52,
          497.47,
          793.01,
          737.08,
          846.12
         ]
        },
        {
         "name": "Taichi",
         "x": [
          2015,
          2016,
          2017,
          2018,
          2019,
          2020,
          2021
         ],
         "y": [
          0,
          0.62,
          32.11,
          28.64,
          40.7,
          606.02,
          838.75
         ]
        },
        {
         "name": "Instructure",
         "x": [
          2015,
          2016,
          2017,
          2018,
          2019,
          2020,
          2021
         ],
         "y": [
          427.25,
          511.72,
          584.99,
          656.15,
          619.99,
          658.55,
          709
         ]
        },
        {
         "name": "Fastly",
         "x": [
          2015,
          2016,
          2017,
          2018,
          2019,
          2020,
          2021
         ],
         "y": [
          174.28,
          306.42,
          287.04,
          352.89,
          378.28,
          445.15,
          640.57
         ]
        },
        {
         "name": "OpenResty",
         "x": [
          2015,
          2016,
          2017,
          2018,
          2019,
          2020,
          2021
         ],
         "y": [
          454.14,
          987.21,
          1179.99,
          862.28,
          760.45,
          625.95,
          539.35
         ]
        },
        {
         "name": "Pentaho",
         "x": [
          2015,
          2016,
          2017,
          2018,
          2019,
          2020,
          2021
         ],
         "y": [
          919.68,
          1266.13,
          1343.99,
          1147.96,
          918.92,
          757.12,
          495.77
         ]
        },
        {
         "name": "ThinkPHP",
         "x": [
          2015,
          2016,
          2017,
          2018,
          2019,
          2020,
          2021
         ],
         "y": [
          114.96,
          561.1,
          478.35,
          554.98,
          631.19,
          514.21,
          387.47
         ]
        },
        {
         "name": "Liferay",
         "x": [
          2015,
          2016,
          2017,
          2018,
          2019,
          2020,
          2021
         ],
         "y": [
          318.23,
          518.11,
          1049.74,
          911.82,
          974.94,
          607.84,
          340.85
         ]
        },
        {
         "name": "JuiceData",
         "x": [
          2015,
          2016,
          2017,
          2018,
          2019,
          2020,
          2021
         ],
         "y": [
          0,
          0,
          0,
          6.23,
          30.2,
          48.59,
          316.14
         ]
        },
        {
         "name": "Megvii",
         "x": [
          2015,
          2016,
          2017,
          2018,
          2019,
          2020,
          2021
         ],
         "y": [
          0,
          0,
          0,
          0,
          0,
          168.46,
          300.43
         ]
        },
        {
         "name": "StarRocks",
         "x": [
          2015,
          2016,
          2017,
          2018,
          2019,
          2020,
          2021
         ],
         "y": [
          0,
          0,
          0,
          0,
          0,
          0,
          252.64
         ]
        },
        {
         "name": "Varnish",
         "x": [
          2015,
          2016,
          2017,
          2018,
          2019,
          2020,
          2021
         ],
         "y": [
          9.49,
          283.39,
          334.17,
          301.69,
          252.61,
          258.99,
          211.35
         ]
        },
        {
         "name": "Goodrain",
         "x": [
          2015,
          2016,
          2017,
          2018,
          2019,
          2020,
          2021
         ],
         "y": [
          0,
          3.07,
          23.05,
          177.44,
          289.05,
          292.14,
          204.54
         ]
        },
        {
         "name": "Chatopera",
         "x": [
          2015,
          2016,
          2017,
          2018,
          2019,
          2020,
          2021
         ],
         "y": [
          0,
          0,
          17.11,
          83.37,
          104.86,
          160.17,
          184.83
         ]
        },
        {
         "name": "Kyligence",
         "x": [
          2015,
          2016,
          2017,
          2018,
          2019,
          2020,
          2021
         ],
         "y": [
          13.58,
          16.88,
          21.04,
          122.26,
          254.56,
          231.57,
          159.57
         ]
        },
        {
         "name": "KodeRover",
         "x": [
          2015,
          2016,
          2017,
          2018,
          2019,
          2020,
          2021
         ],
         "y": [
          0,
          0,
          0,
          0,
          0,
          0,
          148.85
         ]
        },
        {
         "name": "Acquia",
         "x": [
          2015,
          2016,
          2017,
          2018,
          2019,
          2020,
          2021
         ],
         "y": [
          116.53,
          177.04,
          152.89,
          165.3,
          158.68,
          134.03,
          88.24
         ]
        },
        {
         "name": "Sourcefire",
         "x": [
          2015,
          2016,
          2017,
          2018,
          2019,
          2020,
          2021
         ],
         "y": [
          3.23,
          17.52,
          13.76,
          33.44,
          51.58,
          40.87,
          86.83
         ]
        },
        {
         "name": "Matrix Origin",
         "x": [
          2015,
          2016,
          2017,
          2018,
          2019,
          2020,
          2021
         ],
         "y": [
          0,
          0,
          0,
          0,
          0.66,
          5.61,
          62.35
         ]
        },
        {
         "name": "Nicira",
         "x": [
          2015,
          2016,
          2017,
          2018,
          2019,
          2020,
          2021
         ],
         "y": [
          100.09,
          81.03,
          61.6,
          52.41,
          46.56,
          40.66,
          46.14
         ]
        },
        {
         "name": "SequoiaDB",
         "x": [
          2015,
          2016,
          2017,
          2018,
          2019,
          2020,
          2021
         ],
         "y": [
          39.42,
          24.14,
          15.57,
          95.7,
          292.52,
          70.9,
          24.13
         ]
        },
        {
         "name": "Cloud Wise",
         "x": [
          2015,
          2016,
          2017,
          2018,
          2019,
          2020,
          2021
         ],
         "y": [
          0,
          0,
          15.73,
          8.75,
          1.36,
          0,
          23.42
         ]
        },
        {
         "name": "GAAS",
         "x": [
          2015,
          2016,
          2017,
          2018,
          2019,
          2020,
          2021
         ],
         "y": [
          0,
          0,
          0,
          0,
          72.6,
          41.91,
          21.35
         ]
        },
        {
         "name": "EnterpriseDB",
         "x": [
          2015,
          2016,
          2017,
          2018,
          2019,
          2020,
          2021
         ],
         "y": [
          13.58,
          14.08,
          16.89,
          24.66,
          19.8,
          22.4,
          19.15
         ]
        },
        {
         "name": "Galaxy Future",
         "x": [
          2015,
          2016,
          2017,
          2018,
          2019,
          2020,
          2021
         ],
         "y": [
          0,
          0,
          0,
          0,
          0,
          0,
          17.26
         ]
        },
        {
         "name": "ZStack",
         "x": [
          2015,
          2016,
          2017,
          2018,
          2019,
          2020,
          2021
         ],
         "y": [
          83.19,
          194.39,
          206.53,
          38.55,
          20.2,
          22.78,
          12.09
         ]
        },
        {
         "name": "Oushu",
         "x": [
          2015,
          2016,
          2017,
          2018,
          2019,
          2020,
          2021
         ],
         "y": [
          52.25,
          293.92,
          200.24,
          94.57,
          40.65,
          13.68,
          11.87
         ]
        },
        {
         "name": "DataCanvas",
         "x": [
          2015,
          2016,
          2017,
          2018,
          2019,
          2020,
          2021
         ],
         "y": [
          0,
          0,
          0,
          0,
          0,
          0,
          3.38
         ]
        }
       ],
       "layout": {
        "autosize": true,
        "title": {
         "text": "COSS OpenRank 2015-2021"
        },
        "xaxis": {
         "autorange": true,
         "range": [
          2014.6415889256696,
          2021.3584110743304
         ],
         "type": "linear"
        },
        "yaxis": {
         "autorange": true,
         "range": [
          -2523.9734951456307,
          33108.59349514563
         ],
         "type": "linear"
        }
       }
      },
      "image/png": "[encoded data removed]"
     },
     "execution_count": 3,
     "metadata": {},
     "output_type": "execute_result"
    }
   ],
   "source": [
    "openDigger.index.openrank.getRepoOpenrank({\n",
    "    labelUnion: [':companies/coss'],\n",
    "    startYear: 2015,\n",
    "    endYear: 2021,\n",
    "    startMonth: 1,\n",
    "    endMonth: 12,\n",
    "    groupTimeRange: 'year',\n",
    "    groupBy: 'Company',\n",
    "    limit: -1\n",
    "}).then(data => {\n",
    "    openDigger.render.plotly(data.map(row => {\n",
    "        return {\n",
    "            x: [2015, 2016, 2017, 2018, 2019, 2020, 2021],\n",
    "            y: row.open_rank,\n",
    "            name: row.label\n",
    "        };\n",
    "    }), {title: 'COSS OpenRank 2015-2021'});\n",
    "});"
   ]
  },
  {
   "cell_type": "markdown",
   "id": "f8c50783-f05f-47b6-bf4c-b34a74e3b2c8",
   "metadata": {},
   "source": [
    "## OpenRank growth for global COSS"
   ]
  },
  {
   "cell_type": "code",
   "execution_count": 15,
   "id": "e144791c-e01d-4a5d-9d23-d5a7eaa79fe2",
   "metadata": {},
   "outputs": [
    {
     "data": {
      "application/vnd.plotly.v1+json": {
       "data": [
        {
         "name": "openrank",
         "x": [
          2015,
          2016,
          2017,
          2018,
          2019,
          2020,
          2021
         ],
         "y": [
          88207.75999999998,
          137979.82000000007,
          161924.73000000007,
          182288.5400000001,
          211625.01999999993,
          234945.84999999998,
          232932.26000000007
         ]
        }
       ],
       "layout": {
        "autosize": true,
        "title": {
         "text": "COSS OpenRank growth 2015-2021"
        },
        "xaxis": {
         "autorange": true,
         "range": [
          2014.6433566433566,
          2021.3566433566434
         ],
         "type": "linear"
        },
        "yaxis": {
         "autorange": true,
         "range": [
          76098.30597087377,
          247055.3040291262
         ],
         "type": "linear"
        }
       }
      },
      "image/png": "[encoded data removed]"
     },
     "execution_count": 15,
     "metadata": {},
     "output_type": "execute_result"
    }
   ],
   "source": [
    "openDigger.index.openrank.getRepoOpenrank({\n",
    "    labelUnion: [':companies/coss'],\n",
    "    startYear: 2015,\n",
    "    endYear: 2021,\n",
    "    startMonth: 1,\n",
    "    endMonth: 12,\n",
    "    groupTimeRange: 'year',\n",
    "    groupBy: 'Company',\n",
    "    limit: -1\n",
    "}).then(data => {\n",
    "    var x = [2015, 2016, 2017, 2018, 2019, 2020, 2021];\n",
    "    var y = [];\n",
    "    for (var i = 0; i < x.length; i++) {\n",
    "        var openrank = 0;\n",
    "        data.forEach(row => openrank += row.open_rank[i]);\n",
    "        y.push(openrank);\n",
    "    }\n",
    "    openDigger.render.plotly([{\n",
    "        x,\n",
    "        y,\n",
    "        name: 'openrank',\n",
    "    }], {title: 'COSS OpenRank growth 2015-2021'});\n",
    "});"
   ]
  },
  {
   "cell_type": "markdown",
   "id": "7c1878d9-5b71-4e17-b43b-3c5fecae3afb",
   "metadata": {},
   "source": [
    "## Activity for Chinese COSS"
   ]
  },
  {
   "cell_type": "code",
   "execution_count": 4,
   "id": "4cfb5e18-cfec-487a-b781-3493404ea529",
   "metadata": {},
   "outputs": [
    {
     "data": {
      "application/vnd.plotly.v1+json": {
       "data": [
        {
         "name": "PingCAP",
         "x": [
          2015,
          2016,
          2017,
          2018,
          2019,
          2020,
          2021
         ],
         "y": [
          946.64,
          5519.89,
          11770.48,
          17303.3,
          35036.71,
          47653.8,
          46202.83
         ]
        },
        {
         "name": "Zilliz",
         "x": [
          2015,
          2016,
          2017,
          2018,
          2019,
          2020,
          2021
         ],
         "y": [
          0,
          0,
          0,
          0,
          1012.24,
          4057.63,
          8600.74
         ]
        },
        {
         "name": "Jina AI",
         "x": [
          2015,
          2016,
          2017,
          2018,
          2019,
          2020,
          2021
         ],
         "y": [
          0,
          0,
          0,
          0,
          0,
          3206.07,
          8589.14
         ]
        },
        {
         "name": "Vesoft",
         "x": [
          2015,
          2016,
          2017,
          2018,
          2019,
          2020,
          2021
         ],
         "y": [
          0,
          0,
          0,
          0,
          2315.81,
          5379.38,
          7963.58
         ]
        },
        {
         "name": "EMQ",
         "x": [
          2015,
          2016,
          2017,
          2018,
          2019,
          2020,
          2021
         ],
         "y": [
          0,
          0,
          60.68,
          1577.43,
          5899.19,
          6261.47,
          7450.9
         ]
        },
        {
         "name": "StreamNative",
         "x": [
          2015,
          2016,
          2017,
          2018,
          2019,
          2020,
          2021
         ],
         "y": [
          0,
          254.17,
          1176.6,
          2369.57,
          4058.42,
          5059.34,
          6828.53
         ]
        },
        {
         "name": "Oneflow",
         "x": [
          2015,
          2016,
          2017,
          2018,
          2019,
          2020,
          2021
         ],
         "y": [
          0,
          0,
          0,
          0,
          14.23,
          1624.35,
          6140.93
         ]
        },
        {
         "name": "SphereEx",
         "x": [
          2015,
          2016,
          2017,
          2018,
          2019,
          2020,
          2021
         ],
         "y": [
          0,
          325.31,
          572.5,
          1516.7,
          3108.55,
          4789.24,
          4953.53
         ]
        },
        {
         "name": "API7",
         "x": [
          2015,
          2016,
          2017,
          2018,
          2019,
          2020,
          2021
         ],
         "y": [
          0,
          0,
          0,
          0,
          846.54,
          2957.59,
          4106.58
         ]
        },
        {
         "name": "TAOS Data",
         "x": [
          2015,
          2016,
          2017,
          2018,
          2019,
          2020,
          2021
         ],
         "y": [
          0,
          0,
          0,
          0,
          1445.94,
          3171.16,
          3993.09
         ]
        },
        {
         "name": "Alluxio",
         "x": [
          2015,
          2016,
          2017,
          2018,
          2019,
          2020,
          2021
         ],
         "y": [
          0,
          3595.92,
          4207.41,
          3072.15,
          3922.38,
          3101.85,
          3345.89
         ]
        },
        {
         "name": "Yunion",
         "x": [
          2015,
          2016,
          2017,
          2018,
          2019,
          2020,
          2021
         ],
         "y": [
          0,
          0,
          0,
          29.04,
          2843.08,
          3785.08,
          3251.83
         ]
        },
        {
         "name": "Timecho",
         "x": [
          2015,
          2016,
          2017,
          2018,
          2019,
          2020,
          2021
         ],
         "y": [
          0,
          0,
          0,
          0,
          1461.31,
          2557.97,
          2951.34
         ]
        },
        {
         "name": "Taichi",
         "x": [
          2015,
          2016,
          2017,
          2018,
          2019,
          2020,
          2021
         ],
         "y": [
          0,
          0,
          0,
          0,
          0,
          2381.85,
          2591.56
         ]
        },
        {
         "name": "RT-Thread",
         "x": [
          2015,
          2016,
          2017,
          2018,
          2019,
          2020,
          2021
         ],
         "y": [
          397.28,
          247.58,
          763.84,
          1954.74,
          2619.96,
          2540.34,
          2462.54
         ]
        },
        {
         "name": "DCloud",
         "x": [
          2015,
          2016,
          2017,
          2018,
          2019,
          2020,
          2021
         ],
         "y": [
          288.24,
          275.27,
          337.97,
          517.02,
          2618.18,
          2947.54,
          2342.46
         ]
        },
        {
         "name": "StarRocks",
         "x": [
          2015,
          2016,
          2017,
          2018,
          2019,
          2020,
          2021
         ],
         "y": [
          0,
          0,
          0,
          0,
          0,
          0,
          2073.2
         ]
        },
        {
         "name": "OpenResty",
         "x": [
          2015,
          2016,
          2017,
          2018,
          2019,
          2020,
          2021
         ],
         "y": [
          1501.07,
          3520.56,
          3301.53,
          2188.32,
          2216.56,
          2490.4,
          1851.41
         ]
        },
        {
         "name": "JuiceData",
         "x": [
          2015,
          2016,
          2017,
          2018,
          2019,
          2020,
          2021
         ],
         "y": [
          0,
          0,
          0,
          20.28,
          62.68,
          157.76,
          1306.83
         ]
        },
        {
         "name": "Megvii",
         "x": [
          2015,
          2016,
          2017,
          2018,
          2019,
          2020,
          2021
         ],
         "y": [
          0,
          0,
          0,
          0,
          0,
          670.65,
          1124.34
         ]
        },
        {
         "name": "KodeRover",
         "x": [
          2015,
          2016,
          2017,
          2018,
          2019,
          2020,
          2021
         ],
         "y": [
          0,
          0,
          0,
          0,
          0,
          0,
          1092.32
         ]
        },
        {
         "name": "ThinkPHP",
         "x": [
          2015,
          2016,
          2017,
          2018,
          2019,
          2020,
          2021
         ],
         "y": [
          108.14,
          1771.35,
          1235.99,
          1407.73,
          1693.44,
          1321.27,
          993.92
         ]
        },
        {
         "name": "Goodrain",
         "x": [
          2015,
          2016,
          2017,
          2018,
          2019,
          2020,
          2021
         ],
         "y": [
          0,
          2.24,
          54.64,
          466.2,
          1157.69,
          1226.71,
          774.08
         ]
        },
        {
         "name": "Matrix Origin",
         "x": [
          2015,
          2016,
          2017,
          2018,
          2019,
          2020,
          2021
         ],
         "y": [
          0,
          0,
          0,
          0,
          0,
          0,
          551.92
         ]
        },
        {
         "name": "Kyligence",
         "x": [
          2015,
          2016,
          2017,
          2018,
          2019,
          2020,
          2021
         ],
         "y": [
          43.11,
          55.77,
          85.39,
          618.36,
          1137.68,
          864.32,
          517.46
         ]
        },
        {
         "name": "Chatopera",
         "x": [
          2015,
          2016,
          2017,
          2018,
          2019,
          2020,
          2021
         ],
         "y": [
          0,
          0,
          0,
          89.21,
          181.22,
          340.36,
          386.4
         ]
        },
        {
         "name": "Galaxy Future",
         "x": [
          2015,
          2016,
          2017,
          2018,
          2019,
          2020,
          2021
         ],
         "y": [
          0,
          0,
          0,
          0,
          0,
          0,
          178.7
         ]
        },
        {
         "name": "Cloud Wise",
         "x": [
          2015,
          2016,
          2017,
          2018,
          2019,
          2020,
          2021
         ],
         "y": [
          0,
          0,
          15.04,
          1.41,
          0,
          0,
          54.96
         ]
        },
        {
         "name": "GAAS",
         "x": [
          2015,
          2016,
          2017,
          2018,
          2019,
          2020,
          2021
         ],
         "y": [
          0,
          0,
          0,
          0,
          199.83,
          114.41,
          52.96
         ]
        },
        {
         "name": "ZStack",
         "x": [
          2015,
          2016,
          2017,
          2018,
          2019,
          2020,
          2021
         ],
         "y": [
          0,
          0,
          1155.46,
          57.57,
          52.07,
          62.36,
          39.25
         ]
        },
        {
         "name": "Oushu",
         "x": [
          2015,
          2016,
          2017,
          2018,
          2019,
          2020,
          2021
         ],
         "y": [
          343.85,
          1539.63,
          776.95,
          390.24,
          129.33,
          27.5,
          38.01
         ]
        },
        {
         "name": "DataCanvas",
         "x": [
          2015,
          2016,
          2017,
          2018,
          2019,
          2020,
          2021
         ],
         "y": [
          0,
          0,
          0,
          0,
          0,
          0,
          20.79
         ]
        },
        {
         "name": "SequoiaDB",
         "x": [
          2015,
          2016,
          2017,
          2018,
          2019,
          2020,
          2021
         ],
         "y": [
          69.54,
          22.49,
          18.94,
          296.33,
          355.28,
          19.63,
          14.23
         ]
        }
       ],
       "layout": {
        "autosize": true,
        "title": {
         "text": "Chinese COSS activity 2015-2021"
        },
        "xaxis": {
         "autorange": true,
         "range": [
          2014.6415889256696,
          2021.3584110743304
         ],
         "type": "linear"
        },
        "yaxis": {
         "autorange": true,
         "range": [
          -3932.595145631068,
          51586.39514563107
         ],
         "type": "linear"
        }
       }
      },
      "image/png": "[encoded data removed]"
     },
     "execution_count": 4,
     "metadata": {},
     "output_type": "execute_result"
    }
   ],
   "source": [
    "openDigger.index.activity.getRepoActivityWithDetail({\n",
    "    labelIntersect: [':companies/coss', ':regions/China'],\n",
    "    startYear: 2015,\n",
    "    endYear: 2021,\n",
    "    startMonth: 1,\n",
    "    endMonth: 12,\n",
    "    groupTimeRange: 'year',\n",
    "    groupBy: 'Company',\n",
    "    limit: -1\n",
    "}).then(data => {\n",
    "    openDigger.render.plotly(data.map(row => {\n",
    "        return {\n",
    "            x: [2015, 2016, 2017, 2018, 2019, 2020, 2021],\n",
    "            y: row.activity,\n",
    "            name: row.name\n",
    "        };\n",
    "    }), {title: 'Chinese COSS activity 2015-2021'});\n",
    "});"
   ]
  },
  {
   "cell_type": "markdown",
   "id": "14cd690a-9140-465f-805e-2668c9700ba3",
   "metadata": {},
   "source": [
    "## OpenRank for Chinese COSS"
   ]
  },
  {
   "cell_type": "code",
   "execution_count": 4,
   "id": "f82075ec-d60d-473d-8be9-268486d5992f",
   "metadata": {},
   "outputs": [
    {
     "data": {
      "application/vnd.plotly.v1+json": {
       "data": [
        {
         "name": "PingCAP",
         "visible": true,
         "x": [
          2015,
          2016,
          2017,
          2018,
          2019,
          2020,
          2021
         ],
         "y": [
          135.77,
          755.35,
          1930.68,
          3586.43,
          6212.94,
          8072.22,
          9348.62
         ]
        },
        {
         "name": "EMQ",
         "x": [
          2015,
          2016,
          2017,
          2018,
          2019,
          2020,
          2021
         ],
         "y": [
          205.79,
          463.09,
          778.45,
          1080.58,
          1515.8,
          1662.68,
          2374.52
         ]
        },
        {
         "name": "SphereEx",
         "x": [
          2015,
          2016,
          2017,
          2018,
          2019,
          2020,
          2021
         ],
         "y": [
          0,
          116.03,
          211.2,
          599.38,
          1102.82,
          2029.71,
          2328.87
         ]
        },
        {
         "name": "StreamNative",
         "x": [
          2015,
          2016,
          2017,
          2018,
          2019,
          2020,
          2021
         ],
         "y": [
          0,
          45.14,
          223.81,
          719.81,
          1321,
          1613.2,
          2246.38
         ]
        },
        {
         "name": "TAOS Data",
         "x": [
          2015,
          2016,
          2017,
          2018,
          2019,
          2020,
          2021
         ],
         "y": [
          0,
          0,
          0,
          0,
          491.42,
          1203.05,
          1698.25
         ]
        },
        {
         "name": "Zilliz",
         "x": [
          2015,
          2016,
          2017,
          2018,
          2019,
          2020,
          2021
         ],
         "y": [
          0,
          0,
          0,
          0,
          109.29,
          980.15,
          1605.42
         ]
        },
        {
         "name": "Jina AI",
         "x": [
          2015,
          2016,
          2017,
          2018,
          2019,
          2020,
          2021
         ],
         "y": [
          0,
          0,
          0,
          45.97,
          294.01,
          543.31,
          1534.92
         ]
        },
        {
         "name": "Vesoft",
         "x": [
          2015,
          2016,
          2017,
          2018,
          2019,
          2020,
          2021
         ],
         "y": [
          0,
          0,
          0,
          0,
          202.83,
          787.89,
          1411.63
         ]
        },
        {
         "name": "API7",
         "x": [
          2015,
          2016,
          2017,
          2018,
          2019,
          2020,
          2021
         ],
         "y": [
          0,
          0,
          0,
          0,
          185.89,
          775.73,
          1327.3
         ]
        },
        {
         "name": "Alluxio",
         "x": [
          2015,
          2016,
          2017,
          2018,
          2019,
          2020,
          2021
         ],
         "y": [
          425.97,
          1191.42,
          1522.35,
          1165.2,
          1295.88,
          1080.21,
          1085.99
         ]
        },
        {
         "name": "Oneflow",
         "x": [
          2015,
          2016,
          2017,
          2018,
          2019,
          2020,
          2021
         ],
         "y": [
          0,
          0,
          0,
          0,
          9.59,
          208.22,
          1079.42
         ]
        },
        {
         "name": "DCloud",
         "x": [
          2015,
          2016,
          2017,
          2018,
          2019,
          2020,
          2021
         ],
         "y": [
          150.98,
          124.43,
          167.05,
          217.09,
          937.8,
          1246.04,
          987.07
         ]
        },
        {
         "name": "Yunion",
         "x": [
          2015,
          2016,
          2017,
          2018,
          2019,
          2020,
          2021
         ],
         "y": [
          0,
          0,
          0,
          17.78,
          571.66,
          1119.58,
          935.21
         ]
        },
        {
         "name": "Timecho",
         "x": [
          2015,
          2016,
          2017,
          2018,
          2019,
          2020,
          2021
         ],
         "y": [
          0,
          0,
          0,
          0,
          223.07,
          528.14,
          888.93
         ]
        },
        {
         "name": "RT-Thread",
         "x": [
          2015,
          2016,
          2017,
          2018,
          2019,
          2020,
          2021
         ],
         "y": [
          144.18,
          94.28,
          159.52,
          497.47,
          793.01,
          737.08,
          846.12
         ]
        },
        {
         "name": "Taichi",
         "x": [
          2015,
          2016,
          2017,
          2018,
          2019,
          2020,
          2021
         ],
         "y": [
          0,
          0.62,
          32.11,
          28.64,
          40.7,
          606.02,
          838.75
         ]
        },
        {
         "name": "OpenResty",
         "x": [
          2015,
          2016,
          2017,
          2018,
          2019,
          2020,
          2021
         ],
         "y": [
          454.14,
          987.21,
          1179.99,
          862.28,
          760.45,
          625.95,
          539.35
         ]
        },
        {
         "name": "ThinkPHP",
         "x": [
          2015,
          2016,
          2017,
          2018,
          2019,
          2020,
          2021
         ],
         "y": [
          114.96,
          561.1,
          478.35,
          554.98,
          631.19,
          514.21,
          387.47
         ]
        },
        {
         "name": "JuiceData",
         "x": [
          2015,
          2016,
          2017,
          2018,
          2019,
          2020,
          2021
         ],
         "y": [
          0,
          0,
          0,
          6.23,
          30.2,
          48.59,
          316.14
         ]
        },
        {
         "name": "Megvii",
         "x": [
          2015,
          2016,
          2017,
          2018,
          2019,
          2020,
          2021
         ],
         "y": [
          0,
          0,
          0,
          0,
          0,
          168.46,
          300.43
         ]
        },
        {
         "name": "StarRocks",
         "x": [
          2015,
          2016,
          2017,
          2018,
          2019,
          2020,
          2021
         ],
         "y": [
          0,
          0,
          0,
          0,
          0,
          0,
          252.64
         ]
        },
        {
         "name": "Goodrain",
         "x": [
          2015,
          2016,
          2017,
          2018,
          2019,
          2020,
          2021
         ],
         "y": [
          0,
          3.07,
          23.05,
          177.44,
          289.05,
          292.14,
          204.54
         ]
        },
        {
         "name": "Chatopera",
         "x": [
          2015,
          2016,
          2017,
          2018,
          2019,
          2020,
          2021
         ],
         "y": [
          0,
          0,
          17.11,
          83.37,
          104.86,
          160.17,
          184.83
         ]
        },
        {
         "name": "Kyligence",
         "x": [
          2015,
          2016,
          2017,
          2018,
          2019,
          2020,
          2021
         ],
         "y": [
          13.58,
          16.88,
          21.04,
          122.26,
          254.56,
          231.57,
          159.57
         ]
        },
        {
         "name": "KodeRover",
         "x": [
          2015,
          2016,
          2017,
          2018,
          2019,
          2020,
          2021
         ],
         "y": [
          0,
          0,
          0,
          0,
          0,
          0,
          148.85
         ]
        },
        {
         "name": "Matrix Origin",
         "x": [
          2015,
          2016,
          2017,
          2018,
          2019,
          2020,
          2021
         ],
         "y": [
          0,
          0,
          0,
          0,
          0.66,
          5.61,
          62.35
         ]
        },
        {
         "name": "SequoiaDB",
         "x": [
          2015,
          2016,
          2017,
          2018,
          2019,
          2020,
          2021
         ],
         "y": [
          39.42,
          24.14,
          15.57,
          95.7,
          292.52,
          70.9,
          24.13
         ]
        },
        {
         "name": "Cloud Wise",
         "x": [
          2015,
          2016,
          2017,
          2018,
          2019,
          2020,
          2021
         ],
         "y": [
          0,
          0,
          15.73,
          8.75,
          1.36,
          0,
          23.42
         ]
        },
        {
         "name": "GAAS",
         "x": [
          2015,
          2016,
          2017,
          2018,
          2019,
          2020,
          2021
         ],
         "y": [
          0,
          0,
          0,
          0,
          72.6,
          41.91,
          21.35
         ]
        },
        {
         "name": "Galaxy Future",
         "x": [
          2015,
          2016,
          2017,
          2018,
          2019,
          2020,
          2021
         ],
         "y": [
          0,
          0,
          0,
          0,
          0,
          0,
          17.26
         ]
        },
        {
         "name": "ZStack",
         "x": [
          2015,
          2016,
          2017,
          2018,
          2019,
          2020,
          2021
         ],
         "y": [
          83.19,
          194.39,
          206.53,
          38.55,
          20.2,
          22.78,
          12.09
         ]
        },
        {
         "name": "Oushu",
         "x": [
          2015,
          2016,
          2017,
          2018,
          2019,
          2020,
          2021
         ],
         "y": [
          52.25,
          293.92,
          200.24,
          94.57,
          40.65,
          13.68,
          11.87
         ]
        }
       ],
       "layout": {
        "autosize": true,
        "title": {
         "text": "COSS OpenRank 2015-2021"
        },
        "xaxis": {
         "autorange": true,
         "range": [
          2014.6415889256696,
          2021.3584110743304
         ],
         "type": "linear"
        },
        "yaxis": {
         "autorange": true,
         "range": [
          -771.4880582524273,
          10120.108058252428
         ],
         "type": "linear"
        }
       }
      },
      "image/png": "[encoded data removed]"
     },
     "execution_count": 4,
     "metadata": {},
     "output_type": "execute_result"
    }
   ],
   "source": [
    "openDigger.index.openrank.getRepoOpenrank({\n",
    "    labelIntersect: [':companies/coss', ':regions/China'],\n",
    "    startYear: 2015,\n",
    "    endYear: 2021,\n",
    "    startMonth: 1,\n",
    "    endMonth: 12,\n",
    "    groupTimeRange: 'year',\n",
    "    groupBy: 'Company',\n",
    "    limit: -1\n",
    "}).then(data => {\n",
    "    openDigger.render.plotly(data.map(row => {\n",
    "        return {\n",
    "            x: [2015, 2016, 2017, 2018, 2019, 2020, 2021],\n",
    "            y: row.open_rank,\n",
    "            name: row.label\n",
    "        };\n",
    "    }), {title: 'Chinese COSS OpenRank 2015-2021'});\n",
    "});"
   ]
  },
  {
   "cell_type": "markdown",
   "id": "2d82b02e-6f13-4030-bb8e-7147f470b5ef",
   "metadata": {},
   "source": [
    "## OpenRank growth for global COSS"
   ]
  },
  {
   "cell_type": "code",
   "execution_count": 16,
   "id": "913afaa1-d12a-411c-8d69-1a86c1b2598d",
   "metadata": {},
   "outputs": [
    {
     "data": {
      "application/vnd.plotly.v1+json": {
       "data": [
        {
         "name": "openrank",
         "x": [
          2015,
          2016,
          2017,
          2018,
          2019,
          2020,
          2021
         ],
         "y": [
          1820.23,
          4871.070000000001,
          7182.779999999999,
          10002.480000000001,
          17806.010000000006,
          25389.199999999997,
          33203.69
         ]
        }
       ],
       "layout": {
        "autosize": true,
        "title": {
         "text": "Chinese COSS OpenRank growth 2015-2021"
        },
        "xaxis": {
         "autorange": true,
         "range": [
          2014.6433566433566,
          2021.3566433566434
         ],
         "type": "linear"
        },
        "yaxis": {
         "autorange": true,
         "range": [
          -769.66718446602,
          35793.58718446602
         ],
         "type": "linear"
        }
       }
      },
      "image/png": "[encoded data removed]"
     },
     "execution_count": 16,
     "metadata": {},
     "output_type": "execute_result"
    }
   ],
   "source": [
    "openDigger.index.openrank.getRepoOpenrank({\n",
    "    labelIntersect: [':companies/coss', ':regions/China'],\n",
    "    startYear: 2015,\n",
    "    endYear: 2021,\n",
    "    startMonth: 1,\n",
    "    endMonth: 12,\n",
    "    groupTimeRange: 'year',\n",
    "    groupBy: 'Company',\n",
    "    limit: -1\n",
    "}).then(data => {\n",
    "    var x = [2015, 2016, 2017, 2018, 2019, 2020, 2021];\n",
    "    var y = [];\n",
    "    for (var i = 0; i < x.length; i++) {\n",
    "        var openrank = 0;\n",
    "        data.forEach(row => openrank += row.open_rank[i]);\n",
    "        y.push(openrank);\n",
    "    }\n",
    "    openDigger.render.plotly([{\n",
    "        x,\n",
    "        y,\n",
    "        name: 'openrank'\n",
    "    }], {title: 'Chinese COSS OpenRank growth 2015-2021'});\n",
    "});"
   ]
  },
  {
   "cell_type": "code",
   "execution_count": null,
   "id": "c53b55c6-887e-4fdf-bb68-63f5a4872cbb",
   "metadata": {},
   "outputs": [],
   "source": []
  }
 ],
 "metadata": {
  "kernelspec": {
   "display_name": "JavaScript (Node.js)",
   "language": "javascript",
   "name": "javascript"
  },
  "language_info": {
   "file_extension": ".js",
   "mimetype": "application/javascript",
   "name": "javascript",
   "version": "16.13.2"
  }
 },
 "nbformat": 4,
 "nbformat_minor": 5
}
