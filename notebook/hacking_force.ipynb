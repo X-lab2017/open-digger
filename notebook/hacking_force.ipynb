{
 "cells": [
  {
   "cell_type": "code",
   "execution_count": 1,
   "id": "018c9dc9-2b28-47a7-8afc-a5000b57747e",
   "metadata": {},
   "outputs": [],
   "source": [
    "var openDigger = require('../src/open_digger')"
   ]
  },
  {
   "cell_type": "markdown",
   "id": "c88e25f7-0f42-47b6-a567-974659241bae",
   "metadata": {},
   "source": [
    "# 开源码力榜 2021\n",
    "\n",
    "该文档用于开源码力榜相关需求开发工作。"
   ]
  },
  {
   "cell_type": "markdown",
   "id": "648b940f-8582-49ca-8698-9ce8f2953857",
   "metadata": {},
   "source": [
    "## 活跃度 Top 20 查询\n",
    "\n",
    "该代码可用于中国开发者在 2021 全年最活跃开发者排名查询，仅显示 Top 20。"
   ]
  },
  {
   "cell_type": "code",
   "execution_count": 2,
   "id": "ebd60ba4-a57f-4fd6-86ee-6340b481f205",
   "metadata": {},
   "outputs": [
    {
     "name": "stdout",
     "output_type": "stream",
     "text": [
      "┌─────────┬────────────┬──────────────────────┬────────────┐\n",
      "│ (index) │     id     │         name         │  openrank  │\n",
      "├─────────┼────────────┼──────────────────────┼────────────┤\n",
      "│    0    │  '615282'  │      'sunnylqm'      │ [ 93.85 ]  │\n",
      "│    1    │  '605277'  │      'uranusjr'      │ [ 718.33 ] │\n",
      "│    2    │ '62591087' │     'wangleo61'      │ [ 13.42 ]  │\n",
      "│    3    │  '278432'  │       'pahud'        │ [ 297.64 ] │\n",
      "│    4    │ '61407528' │    'wengzhenjie'     │  [ 7.32 ]  │\n",
      "│    5    │ '5516298'  │     'terrymanu'      │ [ 403.89 ] │\n",
      "│    6    │ '37958710' │      '19883235'      │  [ 4.93 ]  │\n",
      "│    7    │ '19339784' │    'jiangjiajun'     │ [ 91.51 ]  │\n",
      "│    8    │ '44364729' │   'kongzhongsanbu'   │  [ 8.45 ]  │\n",
      "│    9    │ '14270174' │ 'littletomatodonkey' │ [ 274.81 ] │\n",
      "│   10    │ '81901872' │    'tingyanshen'     │ [ 73.61 ]  │\n",
      "│   11    │ '42690037' │     'LaoshuBaby'     │ [ 71.34 ]  │\n",
      "│   12    │  '841551'  │      'pissang'       │ [ 348.05 ] │\n",
      "│   13    │ '29879298' │     'hi-rustin'      │ [ 274.46 ] │\n",
      "│   14    │ '20186737' │    'NewByVector'     │ [ 225.96 ] │\n",
      "│   15    │  '151157'  │       'lotem'        │ [ 76.38 ]  │\n",
      "│   16    │ '21301288' │      'ruibaby'       │ [ 117.66 ] │\n",
      "│   17    │ '10363352' │      'Goooler'       │ [ 275.75 ] │\n",
      "│   18    │ '25523606' │     'yi-Xu-0100'     │ [ 267.9 ]  │\n",
      "│   19    │ '1371212'  │      'ZeyuChen'      │ [ 144.97 ] │\n",
      "└─────────┴────────────┴──────────────────────┴────────────┘\n"
     ]
    }
   ],
   "source": [
    "openDigger.index.openrank.getUserOpenrank({labelUnion: [':regions/China'], limit: 20, startYear: 2021, endYear: 2021, endMonth: 12}).then(data => console.table(data));"
   ]
  },
  {
   "cell_type": "code",
   "execution_count": null,
   "id": "f2501966-b8fb-4cef-bb36-a32232d20ab4",
   "metadata": {},
   "outputs": [],
   "source": []
  }
 ],
 "metadata": {
  "kernelspec": {
   "display_name": "JavaScript (Node.js)",
   "language": "javascript",
   "name": "javascript"
  },
  "language_info": {
   "file_extension": ".js",
   "mimetype": "application/javascript",
   "name": "javascript",
   "version": "16.13.2"
  }
 },
 "nbformat": 4,
 "nbformat_minor": 5
}
