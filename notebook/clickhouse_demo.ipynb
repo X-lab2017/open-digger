{
 "cells": [
  {
   "cell_type": "code",
   "execution_count": 1,
   "id": "b8208ce6-8333-4421-9e2d-c59b094e511b",
   "metadata": {},
   "outputs": [],
   "source": [
    "var openDigger = require('../src/open_digger')\n",
    "var query = q => openDigger.driver.clickhouse.query(q, { format: 'JSONEachRow' });"
   ]
  },
  {
   "cell_type": "markdown",
   "id": "45c01716-fb94-48f1-9891-2e2401c3e029",
   "metadata": {},
   "source": [
    "# Clickhouse demo (Update at 2022.12.15)\n",
    "\n",
    "This notebook is a comprehensive Clickhouse database demo to show how to use Clickhouse instance to analyze GitHub event data.\n",
    "\n",
    "The content is from \"Milovidov A., 2020. Everything You Ever Wanted To Know About GitHub (But Were Afraid To Ask), https://ghe.clickhouse.tech/\"."
   ]
  },
  {
   "cell_type": "markdown",
   "id": "0fb58a78-a4bd-48f1-b627-9f1a7b7bce2f",
   "metadata": {},
   "source": [
    "## Counting stars\n",
    "\n",
    "The `WatchEvent` is the event when someone gives a star to a repo."
   ]
  },
  {
   "cell_type": "code",
   "execution_count": 2,
   "id": "f873a476-7e9d-4c5c-a479-d2cad5313192",
   "metadata": {},
   "outputs": [
    {
     "name": "stdout",
     "output_type": "stream",
     "text": [
      "┌─────────┬─────────────┐\n",
      "│ (index) │ total_count │\n",
      "├─────────┼─────────────┤\n",
      "│    0    │ '314168026' │\n",
      "└─────────┴─────────────┘\n"
     ]
    }
   ],
   "source": [
    "query(`\n",
    "SELECT COUNT() AS total_count\n",
    "FROM gh_events\n",
    "WHERE type = 'WatchEvent'\n",
    "`).then(console.table);"
   ]
  },
  {
   "cell_type": "markdown",
   "id": "7bec10b9-9b9d-4728-9a35-d314cee67689",
   "metadata": {},
   "source": [
    "> There is no events when someone removes the star. This means that star removal is invisible, but it should be rare in any case, so we can calculate the approximate number of stars from these events.\n",
    "> \n",
    "> Pay attention, the star counting here is incorrect because of the following reasons:\n",
    "> \n",
    "> - The stars before 1/1/2015 are not counted by 'WatchEvent' because the data source GH Archive did not start recording Event API until 1/1/2015.\n",
    "> - Some stars are removed or re-stared several times so it may lead to missing stars or duplicated stars.\n",
    "> - `repo_name` may have been changed across the data.\n",
    "> \n",
    "> So, our suggestions are:\n",
    "> \n",
    "> - Use Github API to fetch the real-time star count.\n",
    "> - Use `repo_id` instead of `repo_name` as the indexes of analysis.\n",
    "\n",
    "There are over 300 million stars on GitHub!\n",
    "\n",
    "Let's validate the star count by comparing it for Clickhosue repository:"
   ]
  },
  {
   "cell_type": "code",
   "execution_count": 4,
   "id": "6596ca22-ae7c-4ed7-88b3-818ba1b6d6fc",
   "metadata": {},
   "outputs": [
    {
     "name": "stdout",
     "output_type": "stream",
     "text": [
      "┌─────────┬──────────────────┐\n",
      "│ (index) │ clickhouse_stars │\n",
      "├─────────┼──────────────────┤\n",
      "│    0    │     '28005'      │\n",
      "└─────────┴──────────────────┘\n"
     ]
    }
   ],
   "source": [
    "query(`\n",
    "SELECT COUNT() AS clickhouse_stars\n",
    "FROM gh_events\n",
    "WHERE type = 'WatchEvent' AND repo_name IN ('ClickHouse/ClickHouse', 'yandex/ClickHouse')\n",
    "GROUP BY action\n",
    "`).then(console.table);"
   ]
  },
  {
   "cell_type": "markdown",
   "id": "82a53bda-4b7d-46ec-b605-03a65da16ada",
   "metadata": {},
   "source": [
    "The number looks consistent with the real star count.\n",
    "\n",
    "> The repository was moved from yandex/ClickHouse to ClickHouse/ClickHouse on October 2019, so we have to sum up the numbers for two repos."
   ]
  },
  {
   "cell_type": "markdown",
   "id": "37f346af-b016-435b-a0fe-d31356af3a7c",
   "metadata": {},
   "source": [
    "## Top repositories by stars\n",
    "\n",
    "This is the first report that comes to mind."
   ]
  },
  {
   "cell_type": "code",
   "execution_count": 5,
   "id": "c04d9917-f339-4437-b216-5c59bc824afe",
   "metadata": {},
   "outputs": [
    {
     "name": "stdout",
     "output_type": "stream",
     "text": [
      "┌─────────┬──────────────────────────────────────────┬──────────┐\n",
      "│ (index) │                repo_name                 │  stars   │\n",
      "├─────────┼──────────────────────────────────────────┼──────────┤\n",
      "│    0    │             '996icu/996.ICU'             │ '273033' │\n",
      "│    1    │          'sindresorhus/awesome'          │ '249365' │\n",
      "│    2    │    'kamranahmedse/developer-roadmap'     │ '238267' │\n",
      "│    3    │               'vuejs/vue'                │ '232950' │\n",
      "│    4    │  'jwasham/coding-interview-university'   │ '226860' │\n",
      "│    5    │       'FreeCodeCamp/FreeCodeCamp'        │ '224460' │\n",
      "│    6    │             'facebook/react'             │ '224437' │\n",
      "│    7    │    'donnemartin/system-design-primer'    │ '213766' │\n",
      "│    8    │         'tensorflow/tensorflow'          │ '198006' │\n",
      "│    9    │       'freeCodeCamp/freeCodeCamp'        │ '189985' │\n",
      "│   10    │ 'EbookFoundation/free-programming-books' │ '189249' │\n",
      "│   11    │        'public-apis/public-apis'         │ '171752' │\n",
      "│   12    │        'getify/You-Dont-Know-JS'         │ '169952' │\n",
      "│   13    │            'flutter/flutter'             │ '166097' │\n",
      "│   14    │     'trekhleb/javascript-algorithms'     │ '163274' │\n",
      "│   15    │          'TheAlgorithms/Python'          │ '163123' │\n",
      "│   16    │          'vinta/awesome-python'          │ '154893' │\n",
      "│   17    │             'torvalds/linux'             │ '148222' │\n",
      "│   18    │       'jackfrued/Python-100-Days'        │ '145135' │\n",
      "│   19    │    'danistefanovic/build-your-own-x'     │ '143228' │\n",
      "└─────────┴──────────────────────────────────────────┴──────────┘\n"
     ]
    }
   ],
   "source": [
    "query(`\n",
    "SELECT repo_name, COUNT() AS stars\n",
    "FROM gh_events WHERE type = 'WatchEvent'\n",
    "GROUP BY repo_name\n",
    "ORDER BY stars DESC\n",
    "LIMIT 20\n",
    "`).then(console.table);"
   ]
  },
  {
   "cell_type": "markdown",
   "id": "94fdac2c-edaf-4f22-9dd7-2419cd4c66a7",
   "metadata": {},
   "source": [
    "The top repository ever is \"996.ICU\" — it's not for software, but more like a project to improve awareness about work schedules in different Chinese companies. But wait... it's not the top repo. We see two copies of \"FreeCodeCamp\": FreeCodeCamp/FreeCodeCamp and freeCodeCamp/freeCodeCamp. If we sum up the stars it will be 224460 + 176141 = 400601 — more than \"996.ICU\". So, the top repository on GitHub is an educational resource.\n",
    "\n",
    "Next we see: JavaScript framework, then Machine Learning framework, then another JavaScript framework, then the list of Awesome Awesomeness, then the JavaScript education resources, then another education project, another education project, UI framework, education, education, UI framework, JS something, CSS framework and finally in 17th place there is Linux. Let's stop at this point.\n",
    "\n",
    "Bottomline: GitHub is full of JavaScript frameworks and education content. But don't jump to conclusions yet — we've only scratched the surface!"
   ]
  },
  {
   "cell_type": "markdown",
   "id": "ba095aeb-7474-4e2a-ac00-d0c162a19389",
   "metadata": {},
   "source": [
    "## Distribution of repositories by star count\n",
    "\n",
    "By the way, what is the distribution of repositories by stars?"
   ]
  },
  {
   "cell_type": "code",
   "execution_count": 6,
   "id": "5ab1be24-eaef-44b9-9f81-163449ebf29b",
   "metadata": {},
   "outputs": [
    {
     "name": "stdout",
     "output_type": "stream",
     "text": [
      "┌─────────┬────────┬────────────┐\n",
      "│ (index) │ stars  │ repo_count │\n",
      "├─────────┼────────┼────────────┤\n",
      "│    0    │   1    │ '23145966' │\n",
      "│    1    │   10   │ '1622539'  │\n",
      "│    2    │  100   │  '274097'  │\n",
      "│    3    │  1000  │  '36846'   │\n",
      "│    4    │ 10000  │   '2576'   │\n",
      "│    5    │ 100000 │    '33'    │\n",
      "└─────────┴────────┴────────────┘\n"
     ]
    }
   ],
   "source": [
    "query(`SELECT exp10(floor(log10(c))) AS stars, uniq(name) AS repo_count\n",
    "FROM\n",
    "(\n",
    "    SELECT\n",
    "        repo_name AS name,\n",
    "        COUNT() AS c\n",
    "    FROM gh_events\n",
    "    WHERE type = 'WatchEvent'\n",
    "    GROUP BY name\n",
    ")\n",
    "GROUP BY stars\n",
    "ORDER BY stars\n",
    "`).then(console.table);"
   ]
  },
  {
   "cell_type": "markdown",
   "id": "fbce29bc-8c31-4569-83fe-23dc88ef5391",
   "metadata": {},
   "source": [
    "There are only 23 million repositories that have at least one star. There are only 1.6 million repositories with 10+ stars. Just 274 thousand repositories have over 100 stars, 36,846 have over 1k stars, 2,576 have over 10k stars and there are only 33 repositories with more than 100k stars."
   ]
  },
  {
   "cell_type": "markdown",
   "id": "e013476a-98f8-40ec-ad22-21a625d5b7d5",
   "metadata": {},
   "source": [
    "## The total number of reposioties on GitHub"
   ]
  },
  {
   "cell_type": "code",
   "execution_count": 7,
   "id": "4d2e430a-acf1-4852-bfe0-b944b508b4c2",
   "metadata": {},
   "outputs": [
    {
     "name": "stdout",
     "output_type": "stream",
     "text": [
      "┌─────────┬─────────────┐\n",
      "│ (index) │ total_repo  │\n",
      "├─────────┼─────────────┤\n",
      "│    0    │ '269846507' │\n",
      "└─────────┴─────────────┘\n"
     ]
    }
   ],
   "source": [
    "query(`\n",
    "SELECT uniq(repo_name) AS total_repo\n",
    "FROM gh_events\n",
    "`).then(console.table);"
   ]
  },
  {
   "cell_type": "markdown",
   "id": "9c64781b-737a-42d7-9b3f-1333d7559925",
   "metadata": {},
   "source": [
    "If we will take all stars and distribute uniformly across all the repositories, every repository will get 1.16 stars."
   ]
  },
  {
   "cell_type": "markdown",
   "id": "5b5d37de-85e3-4019-b9ce-5cd424a733b8",
   "metadata": {},
   "source": [
    "## How has the list of top repositories changed over the years?\n",
    "\n",
    "We will look at the data from 2015 to 2021."
   ]
  },
  {
   "cell_type": "code",
   "execution_count": 8,
   "id": "ee1fbdb8-b44b-4259-8c0d-61b83ab68b6b",
   "metadata": {},
   "outputs": [
    {
     "name": "stdout",
     "output_type": "stream",
     "text": [
      "┌─────────┬──────┬──────────────────────────────────────────────────┬──────────┐\n",
      "│ (index) │ year │                    repo_name                     │  stars   │\n",
      "├─────────┼──────┼──────────────────────────────────────────────────┼──────────┤\n",
      "│    0    │ 2015 │           'FreeCodeCamp/FreeCodeCamp'            │ '38362'  │\n",
      "│    1    │ 2015 │             'facebook/react-native'              │ '25337'  │\n",
      "│    2    │ 2015 │              'sindresorhus/awesome'              │ '24361'  │\n",
      "│    3    │ 2015 │                  'apple/swift'                   │ '23193'  │\n",
      "│    4    │ 2015 │                 'facebook/react'                 │ '22924'  │\n",
      "│    5    │ 2015 │         'jlevy/the-art-of-command-line'          │ '21722'  │\n",
      "│    6    │ 2015 │             'NARKOZ/hacker-scripts'              │ '20093'  │\n",
      "│    7    │ 2015 │                 'twbs/bootstrap'                 │ '19488'  │\n",
      "│    8    │ 2015 │          'google/material-design-lite'           │ '17684'  │\n",
      "│    9    │ 2015 │               'airbnb/javascript'                │ '17539'  │\n",
      "│   10    │ 2015 │                  'nvbn/thefuck'                  │ '17048'  │\n",
      "│   11    │ 2015 │           'vhf/free-programming-books'           │ '16893'  │\n",
      "│   12    │ 2015 │            'getify/You-Dont-Know-JS'             │ '16377'  │\n",
      "│   13    │ 2015 │                 'atom/electron'                  │ '16134'  │\n",
      "│   14    │ 2015 │             'tensorflow/tensorflow'              │ '15604'  │\n",
      "│   15    │ 2015 │           'FreeCodeCamp/freecodecamp'            │ '15243'  │\n",
      "│   16    │ 2015 │               'angular/angular.js'               │ '14802'  │\n",
      "│   17    │ 2015 │                    'nylas/N1'                    │ '14706'  │\n",
      "│   18    │ 2015 │                   'atom/atom'                    │ '13698'  │\n",
      "│   19    │ 2015 │                  'mbostock/d3'                   │ '13489'  │\n",
      "│   20    │ 2016 │           'FreeCodeCamp/FreeCodeCamp'            │ '181317' │\n",
      "│   21    │ 2016 │      'jwasham/google-interview-university'       │ '31149'  │\n",
      "│   22    │ 2016 │           'vhf/free-programming-books'           │ '28798'  │\n",
      "│   23    │ 2016 │                   'vuejs/vue'                    │ '28768'  │\n",
      "│   24    │ 2016 │             'tensorflow/tensorflow'              │ '28248'  │\n",
      "│   25    │ 2016 │                 'facebook/react'                 │ '25977'  │\n",
      "│   26    │ 2016 │            'getify/You-Dont-Know-JS'             │ '24941'  │\n",
      "│   27    │ 2016 │              'sindresorhus/awesome'              │ '24796'  │\n",
      "│   28    │ 2016 │             'chrislgarry/Apollo-11'              │ '23012'  │\n",
      "│   29    │ 2016 │                  'yarnpkg/yarn'                  │ '20668'  │\n",
      "│   30    │ 2016 │             'facebook/react-native'              │ '19750'  │\n",
      "│   31    │ 2016 │                 'twbs/bootstrap'                 │ '19345'  │\n",
      "│   32    │ 2016 │               'airbnb/javascript'                │ '18996'  │\n",
      "│   33    │ 2016 │                'joshbuchea/HEAD'                 │ '18360'  │\n",
      "│   34    │ 2016 │       'facebookincubator/create-react-app'       │ '18083'  │\n",
      "│   35    │ 2016 │                'firehol/netdata'                 │ '17751'  │\n",
      "│   36    │ 2016 │             'robbyrussell/oh-my-zsh'             │ '17351'  │\n",
      "│   37    │ 2016 │   'FallibleInc/security-guide-for-developers'    │ '15672'  │\n",
      "│   38    │ 2016 │                'github/gitignore'                │ '15193'  │\n",
      "│   39    │ 2016 │               'electron/electron'                │ '15124'  │\n",
      "│   40    │ 2017 │           'freeCodeCamp/freeCodeCamp'            │ '90681'  │\n",
      "│   41    │ 2017 │             'tensorflow/tensorflow'              │ '49208'  │\n",
      "│   42    │ 2017 │                   'vuejs/vue'                    │ '47984'  │\n",
      "│   43    │ 2017 │                 'facebook/react'                 │ '34454'  │\n",
      "│   44    │ 2017 │      'mr-mig/every-programmer-should-know'       │ '30416'  │\n",
      "│   45    │ 2017 │        'kamranahmedse/developer-roadmap'         │ '30392'  │\n",
      "│   46    │ 2017 │              'sindresorhus/awesome'              │ '29042'  │\n",
      "│   47    │ 2017 │            'getify/You-Dont-Know-JS'             │ '28881'  │\n",
      "│   48    │ 2017 │        'thedaviddias/Front-End-Checklist'        │ '24592'  │\n",
      "│   49    │ 2017 │       'facebookincubator/create-react-app'       │ '24451'  │\n",
      "│   50    │ 2017 │                'Microsoft/vscode'                │ '23486'  │\n",
      "│   51    │ 2017 │        'donnemartin/system-design-primer'        │ '22423'  │\n",
      "│   52    │ 2017 │             'GoogleChrome/puppeteer'             │ '22166'  │\n",
      "│   53    │ 2017 │               'airbnb/javascript'                │ '22098'  │\n",
      "│   54    │ 2017 │ 'sdmg15/Best-websites-a-programmer-should-visit' │ '21500'  │\n",
      "│   55    │ 2017 │      'jwasham/coding-interview-university'       │ '21317'  │\n",
      "│   56    │ 2017 │                 'twbs/bootstrap'                 │ '21108'  │\n",
      "│   57    │ 2017 │             'toddmotto/public-apis'              │ '20823'  │\n",
      "│   58    │ 2017 │             'robbyrussell/oh-my-zsh'             │ '19312'  │\n",
      "│   59    │ 2017 │    'kamranahmedse/design-patterns-for-humans'    │ '19270'  │\n",
      "│   60    │ 2018 │                   'vuejs/vue'                    │ '51129'  │\n",
      "│   61    │ 2018 │         'trekhleb/javascript-algorithms'         │ '38910'  │\n",
      "│   62    │ 2018 │                 'facebook/react'                 │ '38420'  │\n",
      "│   63    │ 2018 │                'flutter/flutter'                 │ '37948'  │\n",
      "│   64    │ 2018 │        'danistefanovic/build-your-own-x'         │ '37407'  │\n",
      "│   65    │ 2018 │             'tensorflow/tensorflow'              │ '36935'  │\n",
      "│   66    │ 2018 │        'kamranahmedse/developer-roadmap'         │ '35215'  │\n",
      "│   67    │ 2018 │        'donnemartin/system-design-primer'        │ '31196'  │\n",
      "│   68    │ 2018 │           'CyC2018/Interview-Notebook'           │ '29851'  │\n",
      "│   69    │ 2018 │                'Microsoft/vscode'                │ '26194'  │\n",
      "│   70    │ 2018 │             'kelseyhightower/nocode'             │ '26091'  │\n",
      "│   71    │ 2018 │        'xingshaocheng/architect-awesome'         │ '25594'  │\n",
      "│   72    │ 2018 │              'sindresorhus/awesome'              │ '24959'  │\n",
      "│   73    │ 2018 │                    'ry/deno'                     │ '22423'  │\n",
      "│   74    │ 2018 │            'getify/You-Dont-Know-JS'             │ '21990'  │\n",
      "│   75    │ 2018 │               'tensorflow/models'                │ '21488'  │\n",
      "│   76    │ 2018 │             'GoogleChrome/puppeteer'             │ '21115'  │\n",
      "│   77    │ 2018 │           'leonardomso/33-js-concepts'           │ '20828'  │\n",
      "│   78    │ 2018 │           'facebook/create-react-app'            │ '20288'  │\n",
      "│   79    │ 2018 │                  'axios/axios'                   │ '20071'  │\n",
      "│   80    │ 2019 │                 '996icu/996.ICU'                 │ '244343' │\n",
      "│   81    │ 2019 │           'jackfrued/Python-100-Days'            │ '76268'  │\n",
      "│   82    │ 2019 │              'Snailclimb/JavaGuide'              │ '53285'  │\n",
      "│   83    │ 2019 │              'TheAlgorithms/Python'              │ '48563'  │\n",
      "│   84    │ 2019 │                'CyC2018/CS-Notes'                │ '46527'  │\n",
      "│   85    │ 2019 │          'MisterBooo/LeetCodeAnimation'          │ '41415'  │\n",
      "│   86    │ 2019 │                   'vuejs/vue'                    │ '38958'  │\n",
      "│   87    │ 2019 │                'flutter/flutter'                 │ '38610'  │\n",
      "│   88    │ 2019 │              'doocs/advanced-java'               │ '35247'  │\n",
      "│   89    │ 2019 │               'microsoft/Terminal'               │ '31733'  │\n",
      "│   90    │ 2019 │        'kamranahmedse/developer-roadmap'         │ '30790'  │\n",
      "│   91    │ 2019 │         'jlevy/the-art-of-command-line'          │ '30680'  │\n",
      "│   92    │ 2019 │                'M4cs/BabySploit'                 │ '29352'  │\n",
      "│   93    │ 2019 │                 'facebook/react'                 │ '28908'  │\n",
      "│   94    │ 2019 │        'donnemartin/system-design-primer'        │ '26993'  │\n",
      "│   95    │ 2019 │             'tensorflow/tensorflow'              │ '26985'  │\n",
      "│   96    │ 2019 │                'macrozheng/mall'                 │ '26321'  │\n",
      "│   97    │ 2019 │              'sindresorhus/awesome'              │ '26250'  │\n",
      "│   98    │ 2019 │              'testerSunshine/12306'              │ '26200'  │\n",
      "│   99    │ 2019 │             'azl397985856/leetcode'              │ '25690'  │\n",
      "│   100   │ 2020 │          'labuladong/fucking-algorithm'          │ '81496'  │\n",
      "│   101   │ 2020 │      'jwasham/coding-interview-university'       │ '63016'  │\n",
      "│   102   │ 2020 │        'kamranahmedse/developer-roadmap'         │ '54210'  │\n",
      "│   103   │ 2020 │            'public-apis/public-apis'             │ '40584'  │\n",
      "│   104   │ 2020 │        'donnemartin/system-design-primer'        │ '40353'  │\n",
      "│   105   │ 2020 │     'EbookFoundation/free-programming-books'     │ '39990'  │\n",
      "│   106   │ 2020 │              'TheAlgorithms/Python'              │ '36471'  │\n",
      "│   107   │ 2020 │        'danistefanovic/build-your-own-x'         │ '36424'  │\n",
      "│   108   │ 2020 │                'CyC2018/CS-Notes'                │ '35335'  │\n",
      "│   109   │ 2020 │              'microsoft/PowerToys'               │ '35277'  │\n",
      "│   110   │ 2020 │         'trekhleb/javascript-algorithms'         │ '34985'  │\n",
      "│   111   │ 2020 │                'flutter/flutter'                 │ '33083'  │\n",
      "│   112   │ 2020 │              'Snailclimb/JavaGuide'              │ '32766'  │\n",
      "│   113   │ 2020 │                 'denoland/deno'                  │ '32702'  │\n",
      "│   114   │ 2020 │              'sindresorhus/awesome'              │ '30552'  │\n",
      "│   115   │ 2020 │                   'vuejs/vue'                    │ '28935'  │\n",
      "│   116   │ 2020 │              'ytdl-org/youtube-dl'               │ '28861'  │\n",
      "│   117   │ 2020 │             'florinpop17/app-ideas'              │ '28817'  │\n",
      "│   118   │ 2020 │           'jackfrued/Python-100-Days'            │ '27985'  │\n",
      "│   119   │ 2020 │            'CSSEGISandData/COVID-19'             │ '26920'  │\n",
      "│   120   │ 2021 │            'public-apis/public-apis'             │ '69498'  │\n",
      "│   121   │ 2021 │      'jwasham/coding-interview-university'       │ '55955'  │\n",
      "│   122   │ 2021 │     'EbookFoundation/free-programming-books'     │ '50631'  │\n",
      "│   123   │ 2021 │        'kamranahmedse/developer-roadmap'         │ '45129'  │\n",
      "│   124   │ 2021 │        'donnemartin/system-design-primer'        │ '41809'  │\n",
      "│   125   │ 2021 │         'trekhleb/javascript-algorithms'         │ '41664'  │\n",
      "│   126   │ 2021 │        'danistefanovic/build-your-own-x'         │ '36814'  │\n",
      "│   127   │ 2021 │              'sindresorhus/awesome'              │ '35549'  │\n",
      "│   128   │ 2021 │             'ossu/computer-science'              │ '33657'  │\n",
      "│   129   │ 2021 │              'TheAlgorithms/Python'              │ '31967'  │\n",
      "│   130   │ 2021 │        'microsoft/Web-Dev-For-Beginners'         │ '30902'  │\n",
      "│   131   │ 2021 │                'flutter/flutter'                 │ '30458'  │\n",
      "│   132   │ 2021 │           'microsoft/ML-For-Beginners'           │ '29376'  │\n",
      "│   133   │ 2021 │                'CyC2018/CS-Notes'                │ '29069'  │\n",
      "│   134   │ 2021 │         '30-seconds/30-seconds-of-code'          │ '26281'  │\n",
      "│   135   │ 2021 │             'ant-design/ant-design'              │ '24622'  │\n",
      "│   136   │ 2021 │          'labuladong/fucking-algorithm'          │ '24330'  │\n",
      "│   137   │ 2021 │           'freeCodeCamp/freeCodeCamp'            │ '24310'  │\n",
      "│   138   │ 2021 │                 'facebook/react'                 │ '23260'  │\n",
      "│   139   │ 2021 │              'Snailclimb/JavaGuide'              │ '23250'  │\n",
      "└─────────┴──────┴──────────────────────────────────────────────────┴──────────┘\n"
     ]
    }
   ],
   "source": [
    "query(`\n",
    "SELECT toYear(created_at) AS year, repo_name, COUNT() AS stars\n",
    "FROM gh_events\n",
    "WHERE type = 'WatchEvent' AND year <= 2021\n",
    "GROUP BY repo_name, year\n",
    "ORDER BY year, stars DESC\n",
    "LIMIT 20 BY year\n",
    "`).then(console.table);"
   ]
  },
  {
   "cell_type": "markdown",
   "id": "f5590db6-b319-4288-9f6b-d9d0250bde95",
   "metadata": {},
   "source": [
    "Looks into the data in 2020, the top repo is a Chinese educational resource to prepare for an algorithms interview. Actually, amost all of the top 10 are related to education. The only exceptions are: Deno — a JS runtime and CSSEGISandData/COVID-19 — a repo for COVID-19 data. Yes, I expected that 2020 would be about COVID-19 but happily enough it's not only about COVID-19."
   ]
  },
  {
   "cell_type": "code",
   "execution_count": 9,
   "id": "6a406405-efbb-4aa0-b96c-c8cea97fcdf8",
   "metadata": {},
   "outputs": [
    {
     "data": {
      "application/vnd.plotly.v1+json": {
       "data": [
        {
         "name": "996icu/996.icu",
         "visible": "legendonly",
         "y": [
          0,
          0,
          0,
          0,
          0,
          0,
          0,
          0,
          0,
          0,
          0,
          0,
          0,
          0,
          0,
          0,
          0,
          0,
          0,
          0,
          0,
          0,
          0,
          0,
          0,
          0,
          0,
          0,
          0,
          0,
          0,
          0,
          0,
          0,
          0,
          0,
          0,
          0,
          0,
          0,
          0,
          0,
          0,
          0,
          0,
          0,
          0,
          0,
          0,
          0,
          97017,
          129210,
          7297,
          2334,
          1977,
          1518,
          1124,
          1019,
          1354,
          1493,
          872,
          559,
          853,
          884,
          1044,
          721,
          1018,
          1146,
          1155,
          782,
          782,
          911,
          2463,
          701,
          1091,
          902,
          760,
          833,
          688,
          731,
          640,
          420,
          652,
          710,
          702,
          771,
          754,
          773,
          639,
          578,
          835,
          661,
          548,
          504,
          456,
          151
         ]
        },
        {
         "name": "donnemartin/system-design-primer",
         "y": [
          0,
          0,
          0,
          0,
          0,
          0,
          0,
          0,
          0,
          0,
          0,
          0,
          0,
          0,
          0,
          0,
          0,
          0,
          0,
          0,
          0,
          0,
          0,
          0,
          0,
          0,
          14257,
          2344,
          779,
          697,
          709,
          647,
          901,
          797,
          726,
          566,
          859,
          1082,
          1270,
          830,
          785,
          671,
          10704,
          6456,
          4045,
          1700,
          1511,
          1283,
          1914,
          1898,
          2787,
          1915,
          1800,
          4598,
          1927,
          2230,
          2049,
          1755,
          1868,
          2252,
          2668,
          2425,
          2406,
          7018,
          5209,
          2755,
          2915,
          2498,
          3082,
          2711,
          3279,
          3387,
          3423,
          2877,
          2842,
          4121,
          4496,
          3995,
          3077,
          2749,
          3267,
          1246,
          4293,
          5423,
          4090,
          3951,
          5044,
          9115,
          4488,
          3189,
          5619,
          4095,
          3965,
          3312,
          2971,
          1153
         ]
        },
        {
         "name": "ebookfoundation/free-programming-books",
         "y": [
          0,
          0,
          0,
          0,
          0,
          0,
          0,
          0,
          0,
          0,
          0,
          0,
          0,
          0,
          0,
          0,
          0,
          0,
          0,
          0,
          0,
          0,
          0,
          0,
          0,
          0,
          0,
          0,
          0,
          2485,
          1936,
          2793,
          2950,
          2130,
          1541,
          1473,
          1875,
          1449,
          1580,
          1452,
          1472,
          1875,
          1482,
          1755,
          1237,
          1516,
          1295,
          1124,
          1468,
          1232,
          2696,
          2184,
          1751,
          1432,
          1776,
          1660,
          1908,
          1414,
          2299,
          2020,
          2239,
          1660,
          2017,
          7156,
          4151,
          3321,
          2101,
          3546,
          2724,
          3848,
          3325,
          3902,
          3693,
          5058,
          3672,
          5147,
          4831,
          4467,
          3786,
          3841,
          5771,
          1342,
          3547,
          5476,
          3060,
          2691,
          6465,
          3283,
          2490,
          3394,
          5669,
          4052,
          3777,
          3139,
          4152,
          1196
         ]
        },
        {
         "name": "facebook/react",
         "y": [
          1792,
          2782,
          2400,
          2058,
          1657,
          1492,
          1681,
          1577,
          1790,
          1940,
          1857,
          1898,
          2028,
          1686,
          2422,
          2206,
          1794,
          1816,
          2159,
          2071,
          2778,
          2514,
          2374,
          2129,
          3014,
          2828,
          2990,
          2654,
          2757,
          2715,
          2975,
          2676,
          3111,
          3252,
          2894,
          2588,
          3155,
          2423,
          3366,
          2738,
          2682,
          8826,
          2845,
          2693,
          2578,
          2374,
          2544,
          2196,
          2667,
          2612,
          3209,
          2915,
          2757,
          2127,
          2311,
          2129,
          2061,
          2124,
          2055,
          1941,
          1831,
          1821,
          2026,
          2278,
          2454,
          2120,
          2545,
          2286,
          2129,
          2127,
          2095,
          2070,
          2118,
          1879,
          2345,
          2000,
          1893,
          2004,
          2100,
          2004,
          2048,
          790,
          1925,
          2154,
          2283,
          1783,
          3178,
          2404,
          2103,
          2125,
          2042,
          2571,
          1769,
          1910,
          1761,
          783
         ]
        },
        {
         "name": "freecodecamp/freecodecamp",
         "y": [
          55,
          37,
          36,
          29,
          59,
          1191,
          10637,
          6186,
          3731,
          7807,
          11098,
          12739,
          17260,
          19092,
          16645,
          16157,
          17995,
          20294,
          10347,
          10121,
          11320,
          13203,
          14379,
          14504,
          15403,
          14025,
          14616,
          14961,
          16767,
          13768,
          1195,
          1203,
          921,
          1193,
          1039,
          936,
          1033,
          926,
          1210,
          951,
          854,
          1062,
          1581,
          1270,
          1034,
          2418,
          1044,
          982,
          1155,
          1127,
          2910,
          3306,
          1607,
          1081,
          1216,
          1053,
          1186,
          1246,
          1787,
          1234,
          1136,
          1091,
          1194,
          1556,
          1619,
          1301,
          1607,
          1506,
          1486,
          1665,
          1243,
          1491,
          1495,
          2528,
          1631,
          1604,
          1581,
          1358,
          2330,
          2144,
          3994,
          1166,
          2329,
          2150,
          2459,
          2005,
          2268,
          1968,
          2318,
          1868,
          2630,
          2164,
          2329,
          2489,
          1705,
          623
         ]
        },
        {
         "name": "jwasham/coding-interview-university",
         "y": [
          0,
          0,
          0,
          0,
          0,
          0,
          0,
          0,
          0,
          0,
          0,
          0,
          0,
          0,
          0,
          0,
          0,
          0,
          0,
          0,
          0,
          0,
          0,
          0,
          0,
          54,
          3038,
          4450,
          1517,
          982,
          1124,
          1071,
          1036,
          1202,
          1031,
          5812,
          1831,
          1609,
          1530,
          2302,
          2336,
          1384,
          1085,
          1165,
          1331,
          1275,
          1013,
          1371,
          1103,
          1056,
          1456,
          1271,
          1412,
          1192,
          4262,
          5646,
          2272,
          1969,
          2429,
          1451,
          1987,
          3276,
          4496,
          6970,
          8298,
          4288,
          5536,
          6333,
          3848,
          5813,
          2849,
          9322,
          2924,
          1692,
          2686,
          9104,
          8617,
          10144,
          6954,
          2026,
          3784,
          1001,
          3442,
          3581,
          4022,
          5441,
          5240,
          3288,
          2965,
          2007,
          4866,
          4144,
          4203,
          2244,
          3595,
          806
         ]
        },
        {
         "name": "kamranahmedse/developer-roadmap",
         "y": [
          0,
          0,
          0,
          0,
          0,
          0,
          0,
          0,
          0,
          0,
          0,
          0,
          0,
          0,
          0,
          0,
          0,
          0,
          0,
          0,
          0,
          0,
          0,
          0,
          0,
          0,
          13885,
          5939,
          3244,
          1565,
          1075,
          1190,
          1113,
          961,
          777,
          643,
          9577,
          4914,
          2260,
          3229,
          1710,
          1683,
          2148,
          2038,
          1612,
          2799,
          1613,
          1632,
          6680,
          4040,
          2842,
          3149,
          2092,
          1812,
          2037,
          1878,
          1527,
          1376,
          1722,
          1635,
          2542,
          2096,
          2257,
          8179,
          4462,
          3035,
          5158,
          4933,
          5811,
          6637,
          5027,
          4073,
          6731,
          3680,
          3277,
          5192,
          4002,
          3449,
          3323,
          2876,
          3548,
          1221,
          2749,
          5081,
          3593,
          2510,
          3291,
          3723,
          2518,
          2719,
          5397,
          5630,
          4590,
          3755,
          3379,
          1426
         ]
        },
        {
         "name": "sindresorhus/awesome",
         "y": [
          420,
          263,
          297,
          359,
          6773,
          2686,
          1137,
          2878,
          2305,
          2865,
          2009,
          2369,
          2589,
          2502,
          2288,
          1635,
          1666,
          1625,
          2017,
          2339,
          2316,
          2030,
          1757,
          2032,
          3096,
          2991,
          2441,
          1963,
          1836,
          2056,
          1889,
          2129,
          1966,
          2180,
          4240,
          2255,
          2896,
          2005,
          2966,
          2143,
          1968,
          2261,
          1696,
          1838,
          1649,
          2000,
          1905,
          1632,
          2075,
          2007,
          2767,
          2523,
          2119,
          2130,
          2219,
          2099,
          1893,
          1984,
          1983,
          2451,
          2797,
          2255,
          3369,
          2280,
          2353,
          2094,
          1991,
          2177,
          2186,
          1992,
          4359,
          2699,
          1974,
          2752,
          2245,
          3994,
          2665,
          3250,
          1801,
          1519,
          2761,
          2139,
          4449,
          6000,
          5795,
          4224,
          5185,
          4531,
          4611,
          3980,
          6054,
          5334,
          4754,
          3301,
          4276,
          1811
         ]
        },
        {
         "name": "tensorflow/tensorflow",
         "y": [
          0,
          0,
          0,
          0,
          0,
          0,
          0,
          0,
          0,
          0,
          13674,
          1930,
          2160,
          1491,
          1734,
          2290,
          2771,
          2203,
          1997,
          2038,
          2358,
          3030,
          2841,
          3335,
          3879,
          5153,
          4420,
          3632,
          3822,
          3522,
          3486,
          3584,
          3394,
          4313,
          5215,
          4788,
          4225,
          3355,
          4406,
          3588,
          3530,
          2828,
          2745,
          2402,
          2546,
          2595,
          2516,
          2199,
          2271,
          2074,
          3452,
          2819,
          2616,
          1909,
          2212,
          1852,
          2062,
          2008,
          2057,
          1653,
          1368,
          1284,
          1603,
          1636,
          1693,
          1407,
          1500,
          1294,
          1256,
          1212,
          1611,
          1450,
          1238,
          1036,
          1251,
          1354,
          1060,
          1156,
          1120,
          1132,
          965,
          450,
          1018,
          999,
          1365,
          872,
          1062,
          913,
          1030,
          917,
          877,
          961,
          835,
          869,
          893,
          339
         ]
        },
        {
         "name": "vuejs/vue",
         "y": [
          0,
          0,
          0,
          0,
          0,
          0,
          0,
          0,
          0,
          1373,
          1559,
          1646,
          1710,
          1039,
          1416,
          2158,
          2184,
          1843,
          2215,
          2454,
          3002,
          3974,
          3488,
          3285,
          4091,
          4472,
          4609,
          3747,
          3807,
          3695,
          4181,
          3959,
          4228,
          4009,
          3668,
          3518,
          4644,
          3321,
          4587,
          3939,
          3674,
          10930,
          4026,
          3761,
          2995,
          2838,
          3233,
          3181,
          3464,
          2944,
          5548,
          4290,
          3588,
          3176,
          3222,
          2799,
          2291,
          2821,
          2418,
          2397,
          1847,
          2296,
          3050,
          3254,
          2568,
          2424,
          2717,
          2457,
          2669,
          1862,
          1852,
          1939,
          1848,
          1530,
          1699,
          1911,
          1547,
          1492,
          1697,
          1492,
          1640,
          599,
          1426,
          1526,
          1456,
          1067,
          1650,
          1224,
          1340,
          1285,
          1401,
          1224,
          1134,
          1093,
          919,
          398
         ]
        }
       ],
       "layout": {
        "autosize": true,
        "title": {
         "text": "Star trend for most starred repos on GitHub"
        },
        "xaxis": {
         "autorange": true,
         "range": [
          0,
          95
         ]
        },
        "yaxis": {
         "autorange": true,
         "range": [
          -1127.4444444444446,
          21421.444444444445
         ],
         "type": "linear"
        }
       }
      },
      "image/png": "[encoded data removed]"
     },
     "execution_count": 9,
     "metadata": {},
     "output_type": "execute_result"
    }
   ],
   "source": [
    "query(`\n",
    "SELECT\n",
    "    repo AS name,\n",
    "    groupArrayInsertAt(toUInt32(c), toUInt64(dateDiff('month', toDate('2015-01-01'), month))) AS data\n",
    "FROM\n",
    "(\n",
    "    SELECT\n",
    "        lower(repo_name) AS repo,\n",
    "        toStartOfMonth(created_at) AS month,\n",
    "        count() AS c\n",
    "    FROM gh_events\n",
    "    WHERE type = 'WatchEvent' AND repo IN\n",
    "    (\n",
    "        SELECT lower(repo_name) AS repo\n",
    "        FROM gh_events\n",
    "        WHERE type = 'WatchEvent'\n",
    "        GROUP BY repo\n",
    "        ORDER BY count() DESC\n",
    "        LIMIT 10\n",
    "    )\n",
    "    GROUP BY\n",
    "        repo,\n",
    "        month\n",
    ")\n",
    "GROUP BY repo\n",
    "ORDER BY repo ASC\n",
    "`).then(data => {\n",
    "    openDigger.render.plotly(data.map(row => {\n",
    "        return {\n",
    "            y: row.data,\n",
    "            name: row.name,\n",
    "        }\n",
    "    }), { title: 'Star trend for most starred repos on GitHub' });\n",
    "});"
   ]
  },
  {
   "cell_type": "markdown",
   "id": "ca057827-a022-4638-ae48-7a1c207d0118",
   "metadata": {},
   "source": [
    "## How has the total number of stars changed over time?"
   ]
  },
  {
   "cell_type": "code",
   "execution_count": 10,
   "id": "29f99941-0014-4bf1-ad9f-16886f98bf19",
   "metadata": {},
   "outputs": [
    {
     "name": "stdout",
     "output_type": "stream",
     "text": [
      "┌─────────┬──────┬────────────┬──────────────┐\n",
      "│ (index) │ year │   stars    │     bar      │\n",
      "├─────────┼──────┼────────────┼──────────────┤\n",
      "│    0    │ 2015 │ '18950116' │    '███▋'    │\n",
      "│    1    │ 2016 │ '26125809' │   '█████▏'   │\n",
      "│    2    │ 2017 │ '32596796' │  '██████▌'   │\n",
      "│    3    │ 2018 │ '36964092' │  '███████▍'  │\n",
      "│    4    │ 2019 │ '45898177' │ '█████████▏' │\n",
      "│    5    │ 2020 │ '49356912' │ '█████████▋' │\n",
      "│    6    │ 2021 │ '50020755' │ '██████████' │\n",
      "│    7    │ 2022 │ '54255369' │ '██████████' │\n",
      "└─────────┴──────┴────────────┴──────────────┘\n"
     ]
    }
   ],
   "source": [
    "query(`\n",
    "SELECT toYear(created_at) AS year, count() AS stars, bar(stars, 0, 50000000, 10) AS bar\n",
    "FROM gh_events\n",
    "WHERE type = 'WatchEvent'\n",
    "GROUP BY year\n",
    "ORDER BY year\n",
    "`).then(console.table);"
   ]
  },
  {
   "cell_type": "markdown",
   "id": "56dedaaa-734a-4454-8458-fce971bb2245",
   "metadata": {},
   "source": [
    "We see just steady linear growth with a YoY rate of about 25%."
   ]
  },
  {
   "cell_type": "markdown",
   "id": "06b8797d-091d-45f4-b332-86a25b6888d6",
   "metadata": {},
   "source": [
    "## Who are all those people giving stars?"
   ]
  },
  {
   "cell_type": "code",
   "execution_count": 11,
   "id": "cabc8e84-a0f2-4948-bebd-894893d9f07e",
   "metadata": {},
   "outputs": [
    {
     "name": "stdout",
     "output_type": "stream",
     "text": [
      "┌─────────┬───────────────────┬──────────┐\n",
      "│ (index) │    actor_login    │  stars   │\n",
      "├─────────┼───────────────────┼──────────┤\n",
      "│    0    │      'italy'      │ '264778' │\n",
      "│    1    │      '4148'       │ '232489' │\n",
      "│    2    │    'daweedkob'    │ '215744' │\n",
      "│    3    │     'salifm'      │ '202516' │\n",
      "│    4    │ 'aplus-developer' │ '134089' │\n",
      "│    5    │  'CodePromoter'   │ '133102' │\n",
      "│    6    │    'dinosoid'     │ '119101' │\n",
      "│    7    │    'alineai18'    │ '111976' │\n",
      "│    8    │    'fly51fly'     │ '90615'  │\n",
      "│    9    │     'x0rzkov'     │ '74165'  │\n",
      "│   10    │      'gkze'       │ '73206'  │\n",
      "│   11    │     '5l1v3r1'     │ '72744'  │\n",
      "│   12    │   'gauravssnl'    │ '56691'  │\n",
      "│   13    │  'romanofficial'  │ '54139'  │\n",
      "│   14    │ 'nikitavoloboev'  │ '52967'  │\n",
      "│   15    │     'esneko'      │ '52202'  │\n",
      "│   16    │     'trippup'     │ '51903'  │\n",
      "│   17    │      'baslr'      │ '50270'  │\n",
      "│   18    │       'ik5'       │ '48215'  │\n",
      "│   19    │  'thanhtoan1196'  │ '48107'  │\n",
      "└─────────┴───────────────────┴──────────┘\n"
     ]
    }
   ],
   "source": [
    "query(`\n",
    "SELECT actor_login, COUNT() AS stars\n",
    "FROM gh_events\n",
    "WHERE type = 'WatchEvent'\n",
    "GROUP BY actor_login\n",
    "ORDER BY stars DESC\n",
    "LIMIT 20\n",
    "`).then(console.table);"
   ]
  },
  {
   "cell_type": "markdown",
   "id": "65f01272-276c-4703-925f-b3e405977a15",
   "metadata": {},
   "source": [
    "I checked the results: `italy` looks like an empty account... very suspicious.\n",
    "\n",
    "In comparison, I only gave 41 stars:"
   ]
  },
  {
   "cell_type": "code",
   "execution_count": 12,
   "id": "e1ca32a2-88aa-46fa-bed5-a4fb7588da61",
   "metadata": {},
   "outputs": [
    {
     "name": "stdout",
     "output_type": "stream",
     "text": [
      "┌─────────┬─────────────┬───────┐\n",
      "│ (index) │ actor_login │ stars │\n",
      "├─────────┼─────────────┼───────┤\n",
      "│    0    │ 'frank-zsy' │ '41'  │\n",
      "└─────────┴─────────────┴───────┘\n"
     ]
    }
   ],
   "source": [
    "query(`\n",
    "SELECT actor_login, COUNT() AS stars\n",
    "FROM gh_events\n",
    "WHERE type = 'WatchEvent' AND actor_login = 'frank-zsy'\n",
    "GROUP BY actor_login\n",
    "`).then(console.table);"
   ]
  },
  {
   "cell_type": "markdown",
   "id": "e0d2771e-161e-4338-b1ff-508b8cd51494",
   "metadata": {},
   "source": [
    "And here are my favorites storted by the total number of stars:"
   ]
  },
  {
   "cell_type": "code",
   "execution_count": 13,
   "id": "b87447cd-274b-4521-99c2-b6a52b888a2b",
   "metadata": {},
   "outputs": [
    {
     "name": "stdout",
     "output_type": "stream",
     "text": [
      "┌─────────┬───────────────────────────────────┬──────────┐\n",
      "│ (index) │             repo_name             │  stars   │\n",
      "├─────────┼───────────────────────────────────┼──────────┤\n",
      "│    0    │     'getify/You-Dont-Know-JS'     │ '169952' │\n",
      "│    1    │    'resume/resume.github.com'     │ '66750'  │\n",
      "│    2    │        'huihut/interview'         │ '28777'  │\n",
      "│    3    │        'docsifyjs/docsify'        │ '16730'  │\n",
      "│    4    │        'thunlp/GNNPapers'         │ '14690'  │\n",
      "│    5    │           'neo4j/neo4j'           │ '10292'  │\n",
      "│    6    │         'sogou/workflow'          │ '10151'  │\n",
      "│    7    │     'sxei/chrome-plugin-demo'     │  '7103'  │\n",
      "│    8    │       'wuhan2020/wuhan2020'       │  '7043'  │\n",
      "│    9    │        'answerdev/answer'         │  '4209'  │\n",
      "│   10    │      'ByteLegend/ByteLegend'      │  '3598'  │\n",
      "│   11    │         'actions/runner'          │  '3499'  │\n",
      "│   12    │        'thunlp/NRLPapers'         │  '2715'  │\n",
      "│   13    │       'alibaba/GraphScope'        │  '2199'  │\n",
      "│   14    │            'anvaka/pm'            │  '1420'  │\n",
      "│   15    │ 'Serverless-Devs/Serverless-Devs' │  '1273'  │\n",
      "│   16    │         'alibaba/sealer'          │  '1082'  │\n",
      "│   17    │   'git-learning-game/oh-my-git'   │  '1037'  │\n",
      "│   18    │          'engula/engula'          │  '669'   │\n",
      "│   19    │       'pingcap/ossinsight'        │  '630'   │\n",
      "└─────────┴───────────────────────────────────┴──────────┘\n"
     ]
    }
   ],
   "source": [
    "query(`\n",
    "SELECT repo_name, COUNT() AS stars\n",
    "FROM gh_events\n",
    "WHERE type = 'WatchEvent' AND repo_name IN (\n",
    "    SELECT repo_name\n",
    "    FROM gh_events\n",
    "    WHERE type = 'WatchEvent' AND actor_login = 'frank-zsy'\n",
    ")\n",
    "GROUP BY repo_name\n",
    "ORDER BY stars DESC\n",
    "LIMIT 20\n",
    "`).then(console.table);"
   ]
  },
  {
   "cell_type": "markdown",
   "id": "6acc4b95-1615-4044-8b2c-ab8c439719b3",
   "metadata": {},
   "source": [
    "## Repository affinity list\n",
    "\n",
    "A quick question I'm eager to ask: what are the top repositories sorted by the number of stars from people who starred the ClickHouse reposiotry?"
   ]
  },
  {
   "cell_type": "code",
   "execution_count": 14,
   "id": "3444bbf8-4f05-474c-b45a-fa649164d519",
   "metadata": {},
   "outputs": [
    {
     "name": "stdout",
     "output_type": "stream",
     "text": [
      "┌─────────┬────────────────────────────────────┬────────┐\n",
      "│ (index) │             repo_name              │ stars  │\n",
      "├─────────┼────────────────────────────────────┼────────┤\n",
      "│    0    │ 'donnemartin/system-design-primer' │ '8362' │\n",
      "│    1    │      'tensorflow/tensorflow'       │ '8246' │\n",
      "│    2    │            'golang/go'             │ '7549' │\n",
      "│    3    │      'kubernetes/kubernetes'       │ '7432' │\n",
      "│    4    │       'sindresorhus/awesome'       │ '7270' │\n",
      "│    5    │           'pingcap/tidb'           │ '7089' │\n",
      "│    6    │      'prometheus/prometheus'       │ '6828' │\n",
      "│    7    │         'flutter/flutter'          │ '6411' │\n",
      "│    8    │        'avelino/awesome-go'        │ '6335' │\n",
      "│    9    │         'grafana/grafana'          │ '6306' │\n",
      "│   10    │      'ant-design/ant-design'       │ '6166' │\n",
      "│   11    │          'gin-gonic/gin'           │ '6161' │\n",
      "│   12    │            'vuejs/vue'             │ '6133' │\n",
      "│   13    │           'minio/minio'            │ '6035' │\n",
      "│   14    │  'jlevy/the-art-of-command-line'   │ '5659' │\n",
      "│   15    │          'facebook/react'          │ '5649' │\n",
      "│   16    │ 'kamranahmedse/developer-roadmap'  │ '5587' │\n",
      "│   17    │           'istio/istio'            │ '5412' │\n",
      "│   18    │          'torvalds/linux'          │ '5399' │\n",
      "│   19    │ 'danistefanovic/build-your-own-x'  │ '5387' │\n",
      "└─────────┴────────────────────────────────────┴────────┘\n"
     ]
    }
   ],
   "source": [
    "query(`\n",
    "SELECT repo_name, COUNT() AS stars\n",
    "FROM gh_events\n",
    "WHERE type = 'WatchEvent' AND actor_login IN (\n",
    "    SELECT actor_login\n",
    "    FROM gh_events\n",
    "    WHERE type = 'WatchEvent' AND repo_name IN ('ClickHouse/ClickHouse', 'yandex/ClickHouse')\n",
    ") AND repo_name NOT IN ('ClickHouse/ClickHouse', 'yandex/ClickHouse')\n",
    "GROUP BY repo_name\n",
    "ORDER BY stars DESC\n",
    "LIMIT 20\n",
    "`).then(console.table);"
   ]
  },
  {
   "cell_type": "markdown",
   "id": "427a8a61-bac7-4e38-8db1-01fe869f6cc9",
   "metadata": {},
   "source": [
    "It's Tensorflow and TiDB. Yes, ClickHouse is friends with TiDB (they are using the ClickHouse engin under the hood for analytical queries). Then golang, prometheus and kubernetes. The overall list is slightly biased towards data-intensive applications: database engines, distributed filesystems, data orcestration, etc."
   ]
  },
  {
   "cell_type": "markdown",
   "id": "64960ed2-949c-42d6-8bca-2fb2a92d04bd",
   "metadata": {},
   "source": [
    "## Finding friends through counting stars\n",
    "\n",
    "Let me find a friend by the intersection on starred repositories."
   ]
  },
  {
   "cell_type": "code",
   "execution_count": 15,
   "id": "974feb38-e091-4a1b-9eca-02f5311f8660",
   "metadata": {},
   "outputs": [
    {
     "name": "stdout",
     "output_type": "stream",
     "text": [
      "┌─────────┬────────────────┬──────────┬─────────────┬───────┐\n",
      "│ (index) │  actor_login   │ stars_my │ stars_other │ ratio │\n",
      "├─────────┼────────────────┼──────────┼─────────────┼───────┤\n",
      "│    0    │  'frank-zsy'   │   '41'   │     '0'     │ 1.079 │\n",
      "│    1    │   'hx94113'    │   '25'   │     '1'     │ 0.641 │\n",
      "│    2    │   'daydate'    │   '22'   │     '2'     │ 0.55  │\n",
      "│    3    │ 'blindpirate'  │   '58'   │    '151'    │ 0.307 │\n",
      "│    4    │ 'lidongze0629' │   '33'   │    '74'     │ 0.295 │\n",
      "│    5    │    'wtfil'     │   '27'   │    '75'     │ 0.239 │\n",
      "│    6    │  'Tara-Fuki'   │   '8'    │     '1'     │ 0.205 │\n",
      "│    7    │   'RayProud'   │   '9'    │     '7'     │  0.2  │\n",
      "│    8    │   'Jrmy-rbr'   │   '9'    │     '8'     │ 0.196 │\n",
      "│    9    │   'hcl0908'    │   '7'    │     '1'     │ 0.179 │\n",
      "│   10    │   'chenDSEE'   │   '7'    │     '2'     │ 0.175 │\n",
      "│   11    │   'wzl12356'   │   '9'    │    '15'     │ 0.17  │\n",
      "│   12    │   'Sophie36'   │   '7'    │     '5'     │ 0.163 │\n",
      "│   13    │   'fireber'    │   '6'    │     '0'     │ 0.158 │\n",
      "│   14    │ 'oooooutsider' │   '6'    │     '0'     │ 0.158 │\n",
      "│   15    │  'akselsoft'   │   '6'    │     '1'     │ 0.154 │\n",
      "│   16    │    'dplrwj'    │   '6'    │     '2'     │ 0.15  │\n",
      "│   17    │  'dpsisodia'   │   '6'    │     '2'     │ 0.15  │\n",
      "│   18    │  'Wammy1995'   │   '6'    │     '6'     │ 0.136 │\n",
      "│   19    │  'steven-wan'  │   '6'    │     '7'     │ 0.133 │\n",
      "└─────────┴────────────────┴──────────┴─────────────┴───────┘\n"
     ]
    }
   ],
   "source": [
    "query(`\n",
    "WITH repo_name IN (\n",
    "    SELECT repo_name\n",
    "    FROM gh_events\n",
    "    WHERE type = 'WatchEvent' AND actor_login = 'frank-zsy'\n",
    ") AS is_my_repo\n",
    "SELECT actor_login, SUM(is_my_repo) AS stars_my, SUM(NOT is_my_repo) AS stars_other, ROUND(stars_my / (38 + stars_other), 3) AS ratio\n",
    "FROM gh_events\n",
    "WHERE type = 'WatchEvent'\n",
    "GROUP BY actor_login\n",
    "ORDER BY ratio DESC\n",
    "LIMIT 20\n",
    "`).then(console.table);"
   ]
  },
  {
   "cell_type": "markdown",
   "id": "874f2385-3558-4f00-adec-65c81af8b935",
   "metadata": {},
   "source": [
    "Here is my friends by data... and I don't know what to do with this list."
   ]
  },
  {
   "cell_type": "markdown",
   "id": "cc799a8b-aacc-49eb-9ec1-f7cffc92e9ee",
   "metadata": {},
   "source": [
    "## Affinity by issues and PRs\n",
    "\n",
    "Authors that contributed to ClikcHouse also contributed to what repositories?"
   ]
  },
  {
   "cell_type": "code",
   "execution_count": 16,
   "id": "43a23167-67af-4343-b7ca-5e09de398d5c",
   "metadata": {},
   "outputs": [
    {
     "name": "stdout",
     "output_type": "stream",
     "text": [
      "┌─────────┬───────────────────────────────────────────────────┬────────┬─────────┐\n",
      "│ (index) │                     repo_name                     │  prs   │ authors │\n",
      "├─────────┼───────────────────────────────────────────────────┼────────┼─────────┤\n",
      "│    0    │             'apache/incubator-doris'              │ '527'  │  '31'   │\n",
      "│    1    │                  'pingcap/tidb'                   │ '825'  │  '27'   │\n",
      "│    2    │                  'apache/spark'                   │ '160'  │  '26'   │\n",
      "│    3    │             'Homebrew/homebrew-core'              │  '65'  │  '25'   │\n",
      "│    4    │                  'apache/flink'                   │ '327'  │  '24'   │\n",
      "│    5    │             'yandex/clickhouse-jdbc'              │ '103'  │  '22'   │\n",
      "│    6    │                'facebook/rocksdb'                 │  '43'  │  '19'   │\n",
      "│    7    │               'StarRocks/starrocks'               │ '378'  │  '18'   │\n",
      "│    8    │                 'grafana/grafana'                 │ '342'  │  '18'   │\n",
      "│    9    │               'kubernetes/website'                │  '28'  │  '18'   │\n",
      "│   10    │              'kubernetes/kubernetes'              │  '59'  │  '17'   │\n",
      "│   11    │                'pocoproject/poco'                 │  '41'  │  '17'   │\n",
      "│   12    │          'Altinity/clickhouse-operator'           │ '525'  │  '17'   │\n",
      "│   13    │ 'rms-support-letter/rms-support-letter.github.io' │  '18'  │  '17'   │\n",
      "│   14    │                   'helm/charts'                   │ '569'  │  '16'   │\n",
      "│   15    │               'avelino/awesome-go'                │  '41'  │  '16'   │\n",
      "│   16    │                 'ansible/ansible'                 │  '49'  │  '16'   │\n",
      "│   17    │                  'NixOS/nixpkgs'                  │ '4314' │  '16'   │\n",
      "│   18    │                  'apache/doris'                   │ '455'  │  '14'   │\n",
      "│   19    │         'DefinitelyTyped/DefinitelyTyped'         │  '88'  │  '13'   │\n",
      "└─────────┴───────────────────────────────────────────────────┴────────┴─────────┘\n"
     ]
    }
   ],
   "source": [
    "query(`\n",
    "SELECT repo_name, COUNT() AS prs, uniq(actor_login) AS authors\n",
    "FROM gh_events\n",
    "WHERE type = 'PullRequestEvent' AND action = 'opened' AND actor_login IN\n",
    "(\n",
    "    SELECT actor_login\n",
    "    FROM gh_events\n",
    "    WHERE type = 'PullRequestEvent' AND action = 'opened' AND repo_name IN ('yandex/ClickHouse', 'ClickHouse/ClickHouse')\n",
    ") AND repo_name NOT LIKE '%ClickHouse%'\n",
    "GROUP BY repo_name\n",
    "ORDER BY authors DESC\n",
    "LIMIT 20\n",
    "`).then(console.table);"
   ]
  },
  {
   "cell_type": "markdown",
   "id": "1cb65355-295d-4f9f-8e40-2dbd02258073",
   "metadata": {},
   "source": [
    "Authors that filed an issue in ClickHouse also filed issues in what repositories?"
   ]
  },
  {
   "cell_type": "code",
   "execution_count": 17,
   "id": "97f7fe1b-173c-49ff-8368-0de7220865d5",
   "metadata": {},
   "outputs": [
    {
     "name": "stdout",
     "output_type": "stream",
     "text": [
      "┌─────────┬─────────────────────────────────┬───────┬─────────┐\n",
      "│ (index) │            repo_name            │  prs  │ authors │\n",
      "├─────────┼─────────────────────────────────┼───────┼─────────┤\n",
      "│    0    │        'grafana/grafana'        │ '342' │  '120'  │\n",
      "│    1    │           'golang/go'           │ '318' │  '101'  │\n",
      "│    2    │ 'Altinity/clickhouse-operator'  │ '219' │  '82'   │\n",
      "│    3    │  'mymarilyn/clickhouse-driver'  │ '88'  │  '62'   │\n",
      "│    4    │ 'AlexAkulov/clickhouse-backup'  │ '160' │  '60'   │\n",
      "│    5    │     'elastic/elasticsearch'     │ '152' │  '59'   │\n",
      "│    6    │ 'Vertamedia/clickhouse-grafana' │ '118' │  '58'   │\n",
      "│    7    │     'kubernetes/kubernetes'     │ '150' │  '56'   │\n",
      "│    8    │        'ansible/ansible'        │ '87'  │  '51'   │\n",
      "│    9    │   'apache/incubator-superset'   │ '161' │  '51'   │\n",
      "│   10    │    'yandex/clickhouse-jdbc'     │ '79'  │  '50'   │\n",
      "│   11    │         'pingcap/tidb'          │ '787' │  '50'   │\n",
      "│   12    │    'apache/incubator-doris'     │ '241' │  '46'   │\n",
      "│   13    │        'apache/superset'        │ '71'  │  '46'   │\n",
      "│   14    │     'prometheus/prometheus'     │ '76'  │  '39'   │\n",
      "│   15    │          'minio/minio'          │ '60'  │  '38'   │\n",
      "│   16    │        'dbeaver/dbeaver'        │ '60'  │  '38'   │\n",
      "│   17    │       'microsoft/vscode'        │ '63'  │  '37'   │\n",
      "│   18    │        'prestodb/presto'        │ '120' │  '37'   │\n",
      "│   19    │       'metabase/metabase'       │ '112' │  '36'   │\n",
      "└─────────┴─────────────────────────────────┴───────┴─────────┘\n"
     ]
    }
   ],
   "source": [
    "query(`\n",
    "SELECT repo_name, COUNT() AS prs, uniq(actor_login) AS authors\n",
    "FROM gh_events\n",
    "WHERE type = 'IssuesEvent' AND action = 'opened' AND actor_login IN\n",
    "(\n",
    "    SELECT actor_login\n",
    "    FROM gh_events\n",
    "    WHERE type = 'IssuesEvent' AND action = 'opened' AND repo_name IN ('yandex/ClickHouse', 'ClickHouse/ClickHouse')\n",
    ") AND repo_name NOT LIKE '%ClickHouse%'\n",
    "GROUP BY repo_name\n",
    "ORDER BY authors DESC\n",
    "LIMIT 20\n",
    "`).then(console.table);"
   ]
  },
  {
   "cell_type": "markdown",
   "id": "ce4a7549-a2a4-4a8f-a4c0-a44009cc613c",
   "metadata": {},
   "source": [
    "## Repositories with the most stars over one day"
   ]
  },
  {
   "cell_type": "code",
   "execution_count": 18,
   "id": "5b4e350b-78be-4506-b895-0a5ac80b6605",
   "metadata": {},
   "outputs": [
    {
     "name": "stdout",
     "output_type": "stream",
     "text": [
      "┌─────────┬───────────────────────────────────────┬──────────────┬─────────┐\n",
      "│ (index) │               repo_name               │     day      │  stars  │\n",
      "├─────────┼───────────────────────────────────────┼──────────────┼─────────┤\n",
      "│    0    │           '996icu/996.ICU'            │ '2019-03-29' │ '31429' │\n",
      "│    1    │          'UsergeTeam/Userge'          │ '2022-01-02' │ '18943' │\n",
      "│    2    │     'UsergeTeam/Userge-Assistant'     │ '2022-01-02' │ '18872' │\n",
      "│    3    │           'M4cs/BabySploit'           │ '2019-09-08' │ '17707' │\n",
      "│    4    │         'microsoft/Terminal'          │ '2019-05-07' │ '12779' │\n",
      "│    5    │      'flightlessmango/MangoHud'       │ '2021-07-16' │ '9790'  │\n",
      "│    6    │             'apple/swift'             │ '2015-12-04' │ '9318'  │\n",
      "│    7    │        'TheBreakery/Bloomware'        │ '2022-02-07' │ '7667'  │\n",
      "│    8    │        'ant-design/ant-design'        │ '2021-05-16' │ '7552'  │\n",
      "│    9    │           'desktop/desktop'           │ '2020-11-16' │ '7070'  │\n",
      "│   10    │ 'WeNeedHome/SummaryOfLoanSuspension'  │ '2022-07-14' │ '6991'  │\n",
      "│   11    │         'mrpond/BlockTheSpot'         │ '2021-07-20' │ '6602'  │\n",
      "│   12    │          'amattson21/gitjob'          │ '2016-10-08' │ '6511'  │\n",
      "│   13    │            'httpie/httpie'            │ '2022-04-15' │ '6469'  │\n",
      "│   14    │ 'mr-mig/every-programmer-should-know' │ '2017-09-05' │ '6011'  │\n",
      "│   15    │    'jlevy/the-art-of-command-line'    │ '2015-06-16' │ '5598'  │\n",
      "│   16    │            'yarnpkg/yarn'             │ '2016-10-12' │ '5542'  │\n",
      "│   17    │      'DankMemer/webhook-server'       │ '2019-02-16' │ '5372'  │\n",
      "│   18    │   'NVIDIA/open-gpu-kernel-modules'    │ '2022-05-12' │ '5372'  │\n",
      "│   19    │          'Jarred-Sumner/bun'          │ '2022-07-06' │ '5036'  │\n",
      "└─────────┴───────────────────────────────────────┴──────────────┴─────────┘\n"
     ]
    }
   ],
   "source": [
    "query(`\n",
    "SELECT repo_name, toDate(created_at) AS day, COUNT() AS stars\n",
    "FROM gh_events\n",
    "WHERE type = 'WatchEvent'\n",
    "GROUP BY repo_name, day\n",
    "ORDER BY stars DESC\n",
    "LIMIT 1 BY repo_name\n",
    "LIMIT 20\n",
    "`).then(console.table);"
   ]
  },
  {
   "cell_type": "markdown",
   "id": "7e3384d5-9037-46cd-aaa1-ac010391cf80",
   "metadata": {},
   "source": [
    "## Repositories with the highest growth YoY"
   ]
  },
  {
   "cell_type": "code",
   "execution_count": 19,
   "id": "bdbba561-963c-4e2f-9fb9-a58a2e7fae43",
   "metadata": {},
   "outputs": [
    {
     "name": "stdout",
     "output_type": "stream",
     "text": [
      "┌─────────┬─────────────────────────────────────────────────────┬───────────┬───────────┬───────┐\n",
      "│ (index) │                      repo_name                      │ stars2021 │ stars2020 │  yoy  │\n",
      "├─────────┼─────────────────────────────────────────────────────┼───────────┼───────────┼───────┤\n",
      "│    0    │                  'doocs/leetcode'                   │  '8366'   │  '1000'   │ 8.366 │\n",
      "│    1    │           'Developer-Y/cs-video-courses'            │  '10273'  │  '1881'   │ 5.461 │\n",
      "│    2    │                 'appwrite/appwrite'                 │  '10909'  │  '2106'   │ 5.18  │\n",
      "│    3    │                  'Ryujinx/Ryujinx'                  │  '7967'   │  '1720'   │ 4.632 │\n",
      "│    4    │                 'authelia/authelia'                 │  '8911'   │  '2048'   │ 4.351 │\n",
      "│    5    │             'ethereumbook/ethereumbook'             │  '4752'   │  '1111'   │ 4.277 │\n",
      "│    6    │                'freqtrade/freqtrade'                │  '11151'  │  '2683'   │ 4.156 │\n",
      "│    7    │        'OpenZeppelin/openzeppelin-contracts'        │  '5712'   │  '1382'   │ 4.133 │\n",
      "│    8    │       'rougier/scientific-visualization-book'       │  '4822'   │  '1220'   │ 3.952 │\n",
      "│    9    │             'signalapp/Signal-Desktop'              │  '5924'   │  '1614'   │ 3.67  │\n",
      "│   10    │             'signalapp/Signal-Android'              │  '8565'   │  '2339'   │ 3.662 │\n",
      "│   11    │                  'lbryio/lbry-sdk'                  │  '3698'   │  '1018'   │ 3.633 │\n",
      "│   12    │ 'tuteng/Best-websites-a-programmer-should-visit-zh' │  '4024'   │  '1108'   │ 3.632 │\n",
      "│   13    │               'signalapp/Signal-iOS'                │  '3933'   │  '1088'   │ 3.615 │\n",
      "│   14    │             'doocs/source-code-hunter'              │  '5841'   │  '1618'   │ 3.61  │\n",
      "│   15    │                  'pemistahl/grex'                   │  '3506'   │  '1016'   │ 3.451 │\n",
      "│   16    │            'AllThingsSmitty/css-protips'            │  '5135'   │  '1513'   │ 3.394 │\n",
      "│   17    │      'sudheerj/javascript-interview-questions'      │  '4825'   │  '1456'   │ 3.314 │\n",
      "│   18    │                 'ethereum/solidity'                 │  '5191'   │  '1593'   │ 3.259 │\n",
      "│   19    │           'Loyalsoldier/v2ray-rules-dat'            │  '5283'   │  '1629'   │ 3.243 │\n",
      "└─────────┴─────────────────────────────────────────────────────┴───────────┴───────────┴───────┘\n"
     ]
    }
   ],
   "source": [
    "query(`\n",
    "WITH toYear(created_at) AS year\n",
    "SELECT repo_name, SUM(year = 2021) AS stars2021, SUM(year = 2020) AS stars2020, ROUND(stars2021 / stars2020, 3) AS yoy\n",
    "FROM gh_events\n",
    "WHERE type = 'WatchEvent'\n",
    "GROUP BY repo_name\n",
    "HAVING MIN(created_at) <= '2020-01-01 00:00:00' AND stars2020 >= 1000\n",
    "ORDER BY yoy DESC\n",
    "LIMIT 20\n",
    "`).then(console.table);"
   ]
  },
  {
   "cell_type": "markdown",
   "id": "35d674b8-3871-48d9-9a69-eb8e75ade657",
   "metadata": {},
   "source": [
    "A Chinese repository [doocs/leetcode](https://github.com/doocs/leetcode) has grown more than 8 times in stars in 2021!"
   ]
  },
  {
   "cell_type": "markdown",
   "id": "682657d4-808a-480d-a551-5dd5fe0f12ab",
   "metadata": {},
   "source": [
    "## Repositories with the worst stagnation"
   ]
  },
  {
   "cell_type": "code",
   "execution_count": 20,
   "id": "4cd5c564-7b92-4210-8146-29419fa04471",
   "metadata": {},
   "outputs": [
    {
     "name": "stdout",
     "output_type": "stream",
     "text": [
      "┌─────────┬─────────────────────────────────────────┬───────────┬───────────┬───────┐\n",
      "│ (index) │                repo_name                │ stars2021 │ stars2020 │  yoy  │\n",
      "├─────────┼─────────────────────────────────────────┼───────────┼───────────┼───────┤\n",
      "│    0    │              'opencv/cvat'              │    '0'    │  '1242'   │   0   │\n",
      "│    1    │              'hapijs/joi'               │    '0'    │  '1410'   │   0   │\n",
      "│    2    │            'samdenty/gqless'            │    '0'    │  '2505'   │   0   │\n",
      "│    3    │          'shuleisanshi/myblog'          │    '9'    │  '1406'   │ 0.006 │\n",
      "│    4    │ 'mdbootstrap/bootstrap-material-design' │   '43'    │  '1737'   │ 0.025 │\n",
      "│    5    │          'yuanming-hu/taichi'           │   '114'   │  '4309'   │ 0.026 │\n",
      "│    6    │          'kbariotis/templates'          │   '54'    │  '1949'   │ 0.028 │\n",
      "│    7    │          'luruke/browser-2020'          │   '248'   │  '8166'   │ 0.03  │\n",
      "│    8    │         'WaykiChain/WaykiChain'         │   '41'    │  '1143'   │ 0.036 │\n",
      "│    9    │        'victorqribeiro/isocity'         │   '103'   │  '2501'   │ 0.041 │\n",
      "│   10    │    'microsoft/ApplicationInspector'     │   '177'   │  '3877'   │ 0.046 │\n",
      "│   11    │        'pattle/simpsons-in-css'         │   '75'    │  '1540'   │ 0.049 │\n",
      "│   12    │       'ritiek/spotify-downloader'       │   '77'    │  '1463'   │ 0.053 │\n",
      "│   13    │              'cdr/sshcode'              │   '76'    │  '1409'   │ 0.054 │\n",
      "│   14    │             'antfu/vueuse'              │   '150'   │  '2616'   │ 0.057 │\n",
      "│   15    │        'tomav/docker-mailserver'        │   '112'   │  '1753'   │ 0.064 │\n",
      "│   16    │        'Yours3lf/rpi-vk-driver'         │   '68'    │  '1067'   │ 0.064 │\n",
      "│   17    │           'twilco/kosmonaut'            │   '96'    │  '1475'   │ 0.065 │\n",
      "│   18    │        'NoEndToLF/ChinaMapView'         │   '75'    │  '1159'   │ 0.065 │\n",
      "│   19    │       'VGraupera/1on1-questions'        │   '543'   │  '8309'   │ 0.065 │\n",
      "└─────────┴─────────────────────────────────────────┴───────────┴───────────┴───────┘\n"
     ]
    }
   ],
   "source": [
    "query(`\n",
    "WITH toYear(created_at) AS year\n",
    "SELECT repo_name, SUM(year = 2021) AS stars2021, SUM(year = 2020) AS stars2020, ROUND(stars2021 / stars2020, 3) AS yoy\n",
    "FROM gh_events\n",
    "WHERE type = 'WatchEvent'\n",
    "GROUP BY repo_name\n",
    "HAVING MIN(created_at) <= '2020-01-01 00:00:00' AND MAX(created_at) >= '2021-06-01 00:00:00' AND stars2020 >= 1000\n",
    "ORDER BY yoy\n",
    "LIMIT 20\n",
    "`).then(console.table);"
   ]
  },
  {
   "cell_type": "markdown",
   "id": "fff91455-6944-4c59-bdfa-089b376b61c4",
   "metadata": {},
   "source": [
    "## Repositories with the most steady growth over time"
   ]
  },
  {
   "cell_type": "code",
   "execution_count": 21,
   "id": "044bafef-c9b8-4429-b0a3-28af38f2bf4e",
   "metadata": {},
   "outputs": [
    {
     "name": "stdout",
     "output_type": "stream",
     "text": [
      "┌─────────┬─────────────────────────────────────┬─────────────┬─────────────┬─────────┐\n",
      "│ (index) │              repo_name              │ daily_stars │ total_stars │  rate   │\n",
      "├─────────┼─────────────────────────────────────┼─────────────┼─────────────┼─────────┤\n",
      "│    0    │      'auth0/node-jsonwebtoken'      │    '18'     │   '16602'   │ 922.333 │\n",
      "│    1    │          'powerline/fonts'          │    '28'     │   '24756'   │ 884.143 │\n",
      "│    2    │            'fxsjy/jieba'            │    '34'     │   '29750'   │   875   │\n",
      "│    3    │ 'zsh-users/zsh-syntax-highlighting' │    '18'     │   '15665'   │ 870.278 │\n",
      "│    4    │         'cheeriojs/cheerio'         │    '29'     │   '23578'   │ 813.034 │\n",
      "│    5    │        'WordPress/WordPress'        │    '20'     │   '15414'   │  770.7  │\n",
      "│    6    │       'jaredhanson/passport'        │    '24'     │   '18286'   │ 761.917 │\n",
      "│    7    │       'VundleVim/Vundle.vim'        │    '25'     │   '18812'   │ 752.48  │\n",
      "│    8    │          'square/retrofit'          │    '56'     │   '41681'   │ 744.304 │\n",
      "│    9    │        'tornadoweb/tornado'         │    '21'     │   '15625'   │ 744.048 │\n",
      "│   10    │            'aws/aws-cli'            │    '16'     │   '11881'   │ 742.562 │\n",
      "│   11    │        'tpope/vim-surround'         │    '14'     │   '10379'   │ 741.357 │\n",
      "│   12    │          'pxb1988/dex2jar'          │    '15'     │   '11079'   │  738.6  │\n",
      "│   13    │         'mybatis/mybatis-3'         │    '27'     │   '19730'   │ 730.741 │\n",
      "│   14    │         'expressjs/multer'          │    '15'     │   '10851'   │  723.4  │\n",
      "│   15    │        'Modernizr/Modernizr'        │    '21'     │   '15028'   │ 715.619 │\n",
      "│   16    │      'coreybutler/nvm-windows'      │    '37'     │   '26125'   │ 706.081 │\n",
      "│   17    │ 'oblador/react-native-vector-icons' │    '25'     │   '17480'   │  699.2  │\n",
      "│   18    │        'Alamofire/Alamofire'        │    '54'     │   '37718'   │ 698.481 │\n",
      "│   19    │       'tymondesigns/jwt-auth'       │    '17'     │   '11859'   │ 697.588 │\n",
      "└─────────┴─────────────────────────────────────┴─────────────┴─────────────┴─────────┘\n"
     ]
    }
   ],
   "source": [
    "query(`\n",
    "SELECT repo_name, MAX(stars) AS daily_stars, SUM(stars) AS total_stars, ROUND(total_stars / daily_stars, 3) AS rate\n",
    "FROM (\n",
    "    SELECT repo_name, toDate(created_at) AS day, COUNT() AS stars\n",
    "    FROM gh_events\n",
    "    WHERE type = 'WatchEvent'\n",
    "    GROUP BY repo_name, day\n",
    ")\n",
    "GROUP BY repo_name\n",
    "ORDER BY rate DESC\n",
    "LIMIT 20\n",
    "`).then(console.table);"
   ]
  },
  {
   "cell_type": "markdown",
   "id": "b10eee27-bcd6-4fa6-9d9c-d66c722fc57b",
   "metadata": {},
   "source": [
    "## What is the best day of the week to catch a star?"
   ]
  },
  {
   "cell_type": "code",
   "execution_count": 22,
   "id": "d763e2c4-1b65-41dd-b95d-0ef3141f8ccf",
   "metadata": {},
   "outputs": [
    {
     "name": "stdout",
     "output_type": "stream",
     "text": [
      "┌─────────┬─────┬────────────┬──────────────┐\n",
      "│ (index) │ day │   stars    │     bar      │\n",
      "├─────────┼─────┼────────────┼──────────────┤\n",
      "│    0    │  1  │ '49089155' │ '█████████▋' │\n",
      "│    1    │  2  │ '50769320' │ '██████████' │\n",
      "│    2    │  3  │ '50067794' │ '██████████' │\n",
      "│    3    │  4  │ '49335589' │ '█████████▋' │\n",
      "│    4    │  5  │ '46594976' │ '█████████▎' │\n",
      "│    5    │  6  │ '33791462' │  '██████▋'   │\n",
      "│    6    │  7  │ '34519730' │  '██████▊'   │\n",
      "└─────────┴─────┴────────────┴──────────────┘\n"
     ]
    }
   ],
   "source": [
    "query(`\n",
    "SELECT toDayOfWeek(created_at) AS day, COUNT() AS stars, bar(stars, 0, 50000000, 10) AS bar\n",
    "FROM gh_events\n",
    "WHERE type = 'WatchEvent'\n",
    "GROUP BY day\n",
    "ORDER BY day\n",
    "`).then(console.table);"
   ]
  },
  {
   "cell_type": "markdown",
   "id": "fcf52446-1e83-467b-8299-1c7131c9e64f",
   "metadata": {},
   "source": [
    "It is Tuesday! Definitely not the weekend. Maybe Wednesday or Thursday, but not Monday or Friday."
   ]
  },
  {
   "cell_type": "markdown",
   "id": "38e2ad66-775e-4850-bd82-5bbd835f44aa",
   "metadata": {},
   "source": [
    "## The total number of users on GitHub"
   ]
  },
  {
   "cell_type": "code",
   "execution_count": 23,
   "id": "be5c58e8-ccf6-4e5d-a42d-50880c14d991",
   "metadata": {},
   "outputs": [
    {
     "name": "stdout",
     "output_type": "stream",
     "text": [
      "┌─────────┬────────────┐\n",
      "│ (index) │ user_count │\n",
      "├─────────┼────────────┤\n",
      "│    0    │ '52240194' │\n",
      "└─────────┴────────────┘\n"
     ]
    }
   ],
   "source": [
    "query(`\n",
    "SELECT uniq(actor_login) AS user_count FROM gh_events\n",
    "`).then(console.table);"
   ]
  },
  {
   "cell_type": "markdown",
   "id": "f7295851-628f-40ad-949e-9ac9ff80b508",
   "metadata": {},
   "source": [
    "52.2 million. Actually, these are users that are not only registered but also participated at least once in ... something.\n",
    "\n",
    "Total number of users that gave at least one star:"
   ]
  },
  {
   "cell_type": "code",
   "execution_count": 24,
   "id": "db31a4ab-d2d4-4746-acb3-38a7d72730ef",
   "metadata": {},
   "outputs": [
    {
     "name": "stdout",
     "output_type": "stream",
     "text": [
      "┌─────────┬────────────┐\n",
      "│ (index) │ user_count │\n",
      "├─────────┼────────────┤\n",
      "│    0    │ '15146658' │\n",
      "└─────────┴────────────┘\n"
     ]
    }
   ],
   "source": [
    "query(`\n",
    "SELECT uniq(actor_login) AS user_count\n",
    "FROM gh_events\n",
    "WHERE type = 'WatchEvent'\n",
    "`).then(console.table);"
   ]
  },
  {
   "cell_type": "markdown",
   "id": "d3a4facb-d3f4-4fb7-a6b8-7ae384243132",
   "metadata": {},
   "source": [
    "Just 15 million. I've heard that some people don't give stars. They just do their job instead.\n",
    "\n",
    "Total number of users with at least one push:"
   ]
  },
  {
   "cell_type": "code",
   "execution_count": 25,
   "id": "d6957b1f-19ed-4fcd-8035-3106930b2f67",
   "metadata": {},
   "outputs": [
    {
     "name": "stdout",
     "output_type": "stream",
     "text": [
      "┌─────────┬────────────┐\n",
      "│ (index) │ user_count │\n",
      "├─────────┼────────────┤\n",
      "│    0    │ '28521474' │\n",
      "└─────────┴────────────┘\n"
     ]
    }
   ],
   "source": [
    "query(`\n",
    "SELECT uniq(actor_login) AS user_count\n",
    "FROM gh_events\n",
    "WHERE type = 'PushEvent'\n",
    "`).then(console.table);"
   ]
  },
  {
   "cell_type": "markdown",
   "id": "b90816c0-2361-48e7-87e7-108b4d069b3d",
   "metadata": {},
   "source": [
    "There are actually more people who pushed code than those who gave stars.\n",
    "\n",
    "Total number of users with at least one created PR:"
   ]
  },
  {
   "cell_type": "code",
   "execution_count": 26,
   "id": "61f51469-d067-42b8-8dae-fffbbf92492b",
   "metadata": {},
   "outputs": [
    {
     "name": "stdout",
     "output_type": "stream",
     "text": [
      "┌─────────┬────────────┐\n",
      "│ (index) │ user_count │\n",
      "├─────────┼────────────┤\n",
      "│    0    │ '9473912'  │\n",
      "└─────────┴────────────┘\n"
     ]
    }
   ],
   "source": [
    "query(`\n",
    "SELECT uniq(actor_login) AS user_count\n",
    "FROM gh_events\n",
    "WHERE type = 'PullRequestEvent' AND action = 'opened'\n",
    "`).then(console.table);"
   ]
  },
  {
   "cell_type": "markdown",
   "id": "99ce2d6e-24b7-451b-a345-cf88ece8b5e9",
   "metadata": {},
   "source": [
    "## Stars from heavy GitHub users\n",
    "\n",
    "What if we count top starred repositories but only from those who made at least one PR in at least one repo?"
   ]
  },
  {
   "cell_type": "code",
   "execution_count": 27,
   "id": "bfdafc75-b1e6-4ca3-9948-9e08adcfca80",
   "metadata": {},
   "outputs": [
    {
     "name": "stdout",
     "output_type": "stream",
     "text": [
      "┌─────────┬──────────────────────────────────────────┬──────────┐\n",
      "│ (index) │                repo_name                 │  count   │\n",
      "├─────────┼──────────────────────────────────────────┼──────────┤\n",
      "│    0    │    'kamranahmedse/developer-roadmap'     │ '148296' │\n",
      "│    1    │          'sindresorhus/awesome'          │ '145620' │\n",
      "│    2    │             'facebook/react'             │ '145283' │\n",
      "│    3    │    'donnemartin/system-design-primer'    │ '142579' │\n",
      "│    4    │               'vuejs/vue'                │ '131573' │\n",
      "│    5    │  'jwasham/coding-interview-university'   │ '131529' │\n",
      "│    6    │        'getify/You-Dont-Know-JS'         │ '119915' │\n",
      "│    7    │         'tensorflow/tensorflow'          │ '112417' │\n",
      "│    8    │        'public-apis/public-apis'         │ '104734' │\n",
      "│    9    │     'trekhleb/javascript-algorithms'     │ '104199' │\n",
      "│   10    │ 'EbookFoundation/free-programming-books' │ '100352' │\n",
      "│   11    │    'danistefanovic/build-your-own-x'     │ '99590'  │\n",
      "│   12    │             '996icu/996.ICU'             │ '96479'  │\n",
      "│   13    │            'flutter/flutter'             │ '95065'  │\n",
      "│   14    │             'torvalds/linux'             │ '94218'  │\n",
      "│   15    │           'airbnb/javascript'            │ '92520'  │\n",
      "│   16    │       'FreeCodeCamp/FreeCodeCamp'        │ '92215'  │\n",
      "│   17    │            'github/gitignore'            │ '87363'  │\n",
      "│   18    │     'jlevy/the-art-of-command-line'      │ '83910'  │\n",
      "│   19    │       'freeCodeCamp/freeCodeCamp'        │ '82730'  │\n",
      "└─────────┴──────────────────────────────────────────┴──────────┘\n"
     ]
    }
   ],
   "source": [
    "query(`\n",
    "SELECT repo_name, COUNT() AS count\n",
    "FROM gh_events\n",
    "WHERE type = 'WatchEvent' AND actor_login IN (\n",
    "    SELECT actor_login\n",
    "    FROM gh_events\n",
    "    WHERE type = 'PullRequestEvent' AND action = 'opened'\n",
    ")\n",
    "GROUP BY repo_name\n",
    "ORDER BY count DESC\n",
    "LIMIT 20\n",
    "`).then(console.table);"
   ]
  },
  {
   "cell_type": "markdown",
   "id": "20e163b1-fb4f-48d2-81c2-ee713f368484",
   "metadata": {},
   "source": [
    "The list is similar to the overall top list.\n",
    "\n",
    "What if we take authors who have made at least 10 PRs?"
   ]
  },
  {
   "cell_type": "code",
   "execution_count": 28,
   "id": "8c04835b-4baf-40f4-b364-542e1b350efa",
   "metadata": {},
   "outputs": [
    {
     "name": "stdout",
     "output_type": "stream",
     "text": [
      "┌─────────┬──────────────────────────────────────────┬─────────┐\n",
      "│ (index) │                repo_name                 │  count  │\n",
      "├─────────┼──────────────────────────────────────────┼─────────┤\n",
      "│    0    │             'facebook/react'             │ '67824' │\n",
      "│    1    │          'sindresorhus/awesome'          │ '65613' │\n",
      "│    2    │    'donnemartin/system-design-primer'    │ '64754' │\n",
      "│    3    │    'kamranahmedse/developer-roadmap'     │ '64510' │\n",
      "│    4    │        'getify/You-Dont-Know-JS'         │ '57877' │\n",
      "│    5    │               'vuejs/vue'                │ '55353' │\n",
      "│    6    │  'jwasham/coding-interview-university'   │ '53286' │\n",
      "│    7    │    'danistefanovic/build-your-own-x'     │ '48453' │\n",
      "│    8    │     'trekhleb/javascript-algorithms'     │ '47901' │\n",
      "│    9    │         'tensorflow/tensorflow'          │ '45899' │\n",
      "│   10    │        'public-apis/public-apis'         │ '45466' │\n",
      "│   11    │           'airbnb/javascript'            │ '45104' │\n",
      "│   12    │             'torvalds/linux'             │ '43178' │\n",
      "│   13    │            'flutter/flutter'             │ '40930' │\n",
      "│   14    │               'golang/go'                │ '40128' │\n",
      "│   15    │     'jlevy/the-art-of-command-line'      │ '39116' │\n",
      "│   16    │ 'EbookFoundation/free-programming-books' │ '38073' │\n",
      "│   17    │            'github/gitignore'            │ '37994' │\n",
      "│   18    │         'facebook/react-native'          │ '36267' │\n",
      "│   19    │        'resume/resume.github.com'        │ '35999' │\n",
      "└─────────┴──────────────────────────────────────────┴─────────┘\n"
     ]
    }
   ],
   "source": [
    "query(`\n",
    "SELECT repo_name, COUNT() AS count\n",
    "FROM gh_events\n",
    "WHERE type = 'WatchEvent' AND actor_login IN (\n",
    "    SELECT actor_login\n",
    "    FROM gh_events\n",
    "    WHERE type = 'PullRequestEvent' AND action = 'opened'\n",
    "    GROUP BY actor_login\n",
    "    HAVING COUNT() >= 10\n",
    ")\n",
    "GROUP BY repo_name\n",
    "ORDER BY count DESC\n",
    "LIMIT 20\n",
    "`).then(console.table);"
   ]
  },
  {
   "cell_type": "markdown",
   "id": "dc34212a-83ef-4d7c-a8cc-b1bd12eaae25",
   "metadata": {},
   "source": [
    "If we only count software, the list looks like this: React, Vue, Tensorflow, Linux, Flutter, Golang."
   ]
  },
  {
   "cell_type": "markdown",
   "id": "1272a32e-2bf3-46de-aa01-bbabbf43572a",
   "metadata": {},
   "source": [
    "## Repositories with the maximum amount of pull requests"
   ]
  },
  {
   "cell_type": "code",
   "execution_count": 29,
   "id": "0febd02f-970d-4c87-9d28-d879d4264cea",
   "metadata": {},
   "outputs": [
    {
     "name": "stdout",
     "output_type": "stream",
     "text": [
      "┌─────────┬───────────────────────────────────────────┬──────────┬───────────────────┐\n",
      "│ (index) │                 repo_name                 │  count   │ uniq(actor_login) │\n",
      "├─────────┼───────────────────────────────────────────┼──────────┼───────────────────┤\n",
      "│    0    │     'google-test/signcla-probe-repo'      │ '443997' │        '5'        │\n",
      "│    1    │      'WolseyBankWitness/rediffusion'      │ '414593' │        '7'        │\n",
      "│    2    │   'mhutchinson/mhutchinson-distributor'   │ '253720' │        '6'        │\n",
      "│    3    │              'NixOS/nixpkgs'              │ '164047' │      '5892'       │\n",
      "│    4    │  'everypolitician/everypolitician-data'   │ '157464' │       '18'        │\n",
      "│    5    │       'actions-canary/ForkPRCanary'       │ '120726' │        '5'        │\n",
      "│    6    │    'google-test/signclav2-probe-repo'     │ '120396' │        '3'        │\n",
      "│    7    │         'Homebrew/homebrew-core'          │ '107819' │      '7579'       │\n",
      "│    8    │     'brianchandotcom/liferay-portal'      │ '99814'  │       '424'       │\n",
      "│    9    │             'elastic/kibana'              │ '89457'  │      '1146'       │\n",
      "│   10    │         'Homebrew/homebrew-cask'          │ '83524'  │      '5193'       │\n",
      "│   11    │          'microsoft/winget-pkgs'          │ '79846'  │      '2359'       │\n",
      "│   12    │ 'SmartThingsCommunity/SmartThingsPublic'  │ '75792'  │       '785'       │\n",
      "│   13    │ 'test-organization-kkjeer/bot-validation' │ '75212'  │        '5'        │\n",
      "│   14    │    'test-organization-kkjeer/app-test'    │ '74944'  │        '8'        │\n",
      "│   15    │                'odoo/odoo'                │ '74511'  │      '2580'       │\n",
      "│   16    │         'JuliaRegistries/General'         │ '70158'  │       '327'       │\n",
      "│   17    │          'kubernetes/kubernetes'          │ '61953'  │      '5278'       │\n",
      "│   18    │          'saby/wasaby-controls'           │ '58405'  │       '61'        │\n",
      "│   19    │             'pytorch/pytorch'             │ '56995'  │      '3561'       │\n",
      "└─────────┴───────────────────────────────────────────┴──────────┴───────────────────┘\n"
     ]
    }
   ],
   "source": [
    "query(`\n",
    "SELECT repo_name, COUNT() AS count, uniq(actor_login)\n",
    "FROM gh_events\n",
    "WHERE type = 'PullRequestEvent' AND action = 'opened'\n",
    "GROUP BY repo_name\n",
    "ORDER BY count DESC\n",
    "LIMIT 20\n",
    "`).then(console.table);"
   ]
  },
  {
   "cell_type": "markdown",
   "id": "3ce8cbe7-dab7-4293-aef7-15d87eb7e490",
   "metadata": {},
   "source": [
    "Here we can see some very specific data. The top repository looks like a test repository where you can check signing a CLA. But there are only 5 users with PRs and they are obviously bots.\n",
    "\n",
    "Conclusion: if there are many pull requests from a small number of users, it means that this is just a part of some automated process.\n",
    "\n",
    "No. 4 is the package repository for Nix OS. It's quite understandable — if you want your package to be in the OS, just make a pull request. And there are a lot of packages. The same for No. 8 — Homebrew.\n",
    "\n",
    "Repositories with the maximum amount of pull request contributors:"
   ]
  },
  {
   "cell_type": "code",
   "execution_count": 30,
   "id": "571deabf-06f2-45d9-adb1-fd1b3892e9c4",
   "metadata": {},
   "outputs": [
    {
     "name": "stdout",
     "output_type": "stream",
     "text": [
      "┌─────────┬─────────────────────────────────────────────────────────────────────────┬──────────┬─────────┐\n",
      "│ (index) │                                repo_name                                │  count   │    u    │\n",
      "├─────────┼─────────────────────────────────────────────────────────────────────────┼──────────┼─────────┤\n",
      "│    0    │                'firstcontributions/first-contributions'                 │ '50505'  │ '46345' │\n",
      "│    1    │                            'jlord/patchwork'                            │ '43375'  │ '37724' │\n",
      "│    2    │                  'google/it-cert-automation-practice'                   │ '24274'  │ '23303' │\n",
      "│    3    │                          'octocat/Spoon-Knife'                          │ '21925'  │ '19905' │\n",
      "│    4    │                    'DefinitelyTyped/DefinitelyTyped'                    │ '46376'  │ '17479' │\n",
      "│    5    │                 'zero-to-mastery/start-here-guidelines'                 │ '16198'  │ '14225' │\n",
      "│    6    │                            'JetBrains/swot'                             │ '14726'  │ '12431' │\n",
      "│    7    │                          'freddier/hyperblog'                           │ '12091'  │ '11750' │\n",
      "│    8    │                        'solana-labs/token-list'                         │ '26799'  │ '9966'  │\n",
      "│    9    │                       'archway-network/testnets'                        │ '10394'  │ '9689'  │\n",
      "│   10    │               'udacity/course-collaboration-travel-plans'               │  '9931'  │ '9585'  │\n",
      "│   11    │                       'MicrosoftDocs/azure-docs'                        │ '28432'  │ '9390'  │\n",
      "│   12    │                          'trustwallet/assets'                           │ '20646'  │ '8749'  │\n",
      "│   13    │                   'udacity/create-your-own-adventure'                   │ '10077'  │ '8556'  │\n",
      "│   14    │                        'deadlyvipers/dojo_rules'                        │ '13065'  │ '8204'  │\n",
      "│   15    │                     'AliceWonderland/hacktoberfest'                     │  '9479'  │ '7687'  │\n",
      "│   16    │                        'Homebrew/homebrew-core'                         │ '107819' │ '7579'  │\n",
      "│   17    │      'githubschool/open-enrollment-classes-introduction-to-github'      │  '9191'  │ '7437'  │\n",
      "│   18    │        'learn-co-students/js-from-dom-to-node-bootcamp-prep-000'        │  '7472'  │ '7420'  │\n",
      "│   19    │ 'learn-co-students/javascript-intro-to-functions-lab-bootcamp-prep-000' │  '7187'  │ '7157'  │\n",
      "└─────────┴─────────────────────────────────────────────────────────────────────────┴──────────┴─────────┘\n"
     ]
    }
   ],
   "source": [
    "query(`\n",
    "SELECT repo_name, COUNT() AS count, uniq(actor_login) AS u\n",
    "FROM gh_events\n",
    "WHERE type = 'PullRequestEvent' AND action = 'opened'\n",
    "GROUP BY repo_name\n",
    "ORDER BY u DESC\n",
    "LIMIT 20\n",
    "`).then(console.table);"
   ]
  },
  {
   "cell_type": "markdown",
   "id": "18f265bc-6c04-49ed-a425-9f7d5e0abc08",
   "metadata": {},
   "source": [
    "Repository \"first-contribution\" is the obvious case: a repository that teaches you how to make a pull request... by allowing you to make a pull request to this repository. \"patchwork\" is similar. Most of the repositories in this list are similar."
   ]
  },
  {
   "cell_type": "markdown",
   "id": "8a64d34a-478c-401b-8872-42a41ffd92d4",
   "metadata": {},
   "source": [
    "## Repositories with the maxmium amount of issues."
   ]
  },
  {
   "cell_type": "code",
   "execution_count": 31,
   "id": "d840d5bb-2aa9-4293-be54-075d5094b038",
   "metadata": {},
   "outputs": [
    {
     "name": "stdout",
     "output_type": "stream",
     "text": [
      "┌─────────┬────────────────────────────────────────┬───────────┬─────────┐\n",
      "│ (index) │                   n                    │     c     │    u    │\n",
      "├─────────┼────────────────────────────────────────┼───────────┼─────────┤\n",
      "│    0    │             'pddemo/demo'              │ '1192076' │  '11'   │\n",
      "│    1    │     'koorellasuresh/ukregiontest'      │ '379340'  │   '4'   │\n",
      "│    2    │  'planft/planft-marketplace-comments'  │ '178488'  │   '2'   │\n",
      "│    3    │         'lstjsuperman/fabric'          │ '161627'  │   '1'   │\n",
      "│    4    │           'microsoft/vscode'           │ '143417'  │ '63840' │\n",
      "│    5    │        'the-barserkou/comments'        │ '133124'  │   '2'   │\n",
      "│    6    │       'jlippold/tweakcompatible'       │ '126698'  │ '11260' │\n",
      "│    7    │             'nexity/testa'             │ '118867'  │   '1'   │\n",
      "│    8    │      'adguardteam/adguardfilters'      │ '118285'  │ '1038'  │\n",
      "│    9    │          'webcompat/web-bugs'          │ '109070'  │ '5962'  │\n",
      "│   10    │        'ramos-dev/jniwebshell'         │ '103174'  │   '1'   │\n",
      "│   11    │  'imamandrews/imamandrews.github.io'   │ '102892'  │   '3'   │\n",
      "│   12    │         'chrmarti/testissues'          │  '97102'  │  '20'   │\n",
      "│   13    │           'no-cqrt/googuns'            │  '86147'  │   '1'   │\n",
      "│   14    │           'ouyanxia2/hgmgmg'           │  '78293'  │  '52'   │\n",
      "│   15    │            'khan/khan-i18n'            │  '75761'  │   '1'   │\n",
      "│   16    │ 'debricked/debricked-test-integration' │  '73879'  │   '1'   │\n",
      "│   17    │           'flutter/flutter'            │  '73360'  │ '27182' │\n",
      "│   18    │       'microsoftdocs/azure-docs'       │  '66350'  │ '31133' │\n",
      "│   19    │          'leo424y/heysiri.ml'          │  '63471'  │   '1'   │\n",
      "└─────────┴────────────────────────────────────────┴───────────┴─────────┘\n"
     ]
    }
   ],
   "source": [
    "query(`\n",
    "SELECT lower(repo_name) AS n, COUNT() AS c, uniq(actor_login) AS u\n",
    "FROM gh_events\n",
    "WHERE type = 'IssuesEvent' AND action = 'opened'\n",
    "GROUP BY n\n",
    "ORDER BY c DESC\n",
    "LIMIT 20\n",
    "`).then(console.table);"
   ]
  },
  {
   "cell_type": "markdown",
   "id": "4cb57a50-008a-4733-af63-c6a0cc8cd561",
   "metadata": {},
   "source": [
    "The first repository has a funny description: \"demo: A new issue is created in this repo every minute\". The 2nd repository no longer exists.\n",
    "\n",
    "The first meaningful result is VSCode with more than 143k issues and 63k authors. And the issues are real.\n",
    "\n",
    "Conclusion: if a repository has a high number of issues, maybe issues are created automatically.\n",
    "\n",
    "Let's add a cutoff at 1000 stars to distinguish the real issues from robot ones."
   ]
  },
  {
   "cell_type": "code",
   "execution_count": 32,
   "id": "847779c4-2e80-4d16-a413-01fbacfbb7b8",
   "metadata": {},
   "outputs": [
    {
     "name": "stdout",
     "output_type": "stream",
     "text": [
      "┌─────────┬──────────────────────────────┬──────────┬─────────┬──────────┐\n",
      "│ (index) │          repo_name           │    c     │    u    │  stars   │\n",
      "├─────────┼──────────────────────────────┼──────────┼─────────┼──────────┤\n",
      "│    0    │ 'AdguardTeam/AdguardFilters' │ '118285' │ '1038'  │  '2187'  │\n",
      "│    1    │      'microsoft/vscode'      │ '78388'  │ '40264' │ '77929'  │\n",
      "│    2    │      'flutter/flutter'       │ '73360'  │ '27182' │ '166097' │\n",
      "│    3    │  'MicrosoftDocs/azure-docs'  │ '66350'  │ '31133' │  '8643'  │\n",
      "│    4    │      'Microsoft/vscode'      │ '65029'  │ '27015' │ '81672'  │\n",
      "│    5    │   'ron190/jsql-injection'    │ '63344'  │  '46'   │  '1255'  │\n",
      "│    6    │       'elastic/kibana'       │ '45068'  │ '5125'  │ '16688'  │\n",
      "│    7    │   'cockroachdb/cockroach'    │ '43798'  │ '1455'  │ '25886'  │\n",
      "│    8    │         'golang/go'          │ '42495'  │ '13725' │ '118140' │\n",
      "│    9    │   'kubernetes/kubernetes'    │ '36290'  │ '10514' │ '93091'  │\n",
      "│   10    │     'godotengine/godot'      │ '35172'  │ '8754'  │ '57563'  │\n",
      "│   11    │   'tensorflow/tensorflow'    │ '35063'  │ '20067' │ '198006' │\n",
      "│   12    │       'rust-lang/rust'       │ '34209'  │ '8514'  │ '77984'  │\n",
      "│   13    │       'hq450/fancyss'        │ '31285'  │  '902'  │ '11066'  │\n",
      "│   14    │       'dotnet/roslyn'        │ '29485'  │ '3938'  │ '19161'  │\n",
      "│   15    │      'rancher/rancher'       │ '28271'  │ '6112'  │ '20362'  │\n",
      "│   16    │      'pytorch/pytorch'       │ '28027'  │ '10722' │ '66679'  │\n",
      "│   17    │      'ansible/ansible'       │ '25839'  │ '12785' │ '52909'  │\n",
      "│   18    │       'NixOS/nixpkgs'        │ '25710'  │ '5030'  │ '11604'  │\n",
      "│   19    │       'dart-lang/sdk'        │ '25300'  │ '4092'  │  '9907'  │\n",
      "└─────────┴──────────────────────────────┴──────────┴─────────┴──────────┘\n"
     ]
    }
   ],
   "source": [
    "query(`\n",
    "WITH type = 'IssuesEvent' AND action = 'opened' AS issue_created\n",
    "SELECT repo_name, SUM(issue_created) AS c, uniqIf(actor_login, issue_created) AS u, SUM(type = 'WatchEvent') AS stars\n",
    "FROM gh_events\n",
    "WHERE type IN ('IssuesEvent', 'WatchEvent')\n",
    "GROUP BY repo_name\n",
    "HAVING stars >= 1000\n",
    "ORDER BY c DESC\n",
    "LIMIT 20\n",
    "`).then(console.table);"
   ]
  },
  {
   "cell_type": "markdown",
   "id": "c7b844e2-f378-4041-a79c-ba2ca8b77bfa",
   "metadata": {},
   "source": [
    "Now it looks like a reasonable list of the top repositories.\n",
    "\n",
    "And for the next report, let's sort by the number of issue authors:"
   ]
  },
  {
   "cell_type": "code",
   "execution_count": 33,
   "id": "558e0cac-bc1c-4045-9194-03eb41bc9981",
   "metadata": {},
   "outputs": [
    {
     "name": "stdout",
     "output_type": "stream",
     "text": [
      "┌─────────┬───────────────────────────────────────────────────────────────┬──────────┬─────────┬──────────┐\n",
      "│ (index) │                           repo_name                           │    c     │    u    │  stars   │\n",
      "├─────────┼───────────────────────────────────────────────────────────────┼──────────┼─────────┼──────────┤\n",
      "│    0    │                      'microsoft/vscode'                       │ '78388'  │ '40264' │ '77929'  │\n",
      "│    1    │                  'MicrosoftDocs/azure-docs'                   │ '66350'  │ '31133' │  '8643'  │\n",
      "│    2    │                       'flutter/flutter'                       │ '73360'  │ '27182' │ '166097' │\n",
      "│    3    │                      'Microsoft/vscode'                       │ '65029'  │ '27015' │ '81672'  │\n",
      "│    4    │                    'tensorflow/tensorflow'                    │ '35063'  │ '20067' │ '198006' │\n",
      "│    5    │                    'facebook/react-native'                    │ '22818'  │ '13912' │ '123403' │\n",
      "│    6    │                          'golang/go'                          │ '42495'  │ '13725' │ '118140' │\n",
      "│    7    │                       'ansible/ansible'                       │ '25839'  │ '12785' │ '52909'  │\n",
      "│    8    │                       'angular/angular'                       │ '24655'  │ '11979' │ '101432' │\n",
      "│    9    │                    'ant-design/ant-design'                    │ '23565'  │ '11979' │ '105223' │\n",
      "│   10    │                  'jlippold/tweakCompatible'                   │ '126698' │ '11260' │  '555'   │\n",
      "│   11    │                     'microsoft/PowerToys'                     │ '17649'  │ '11251' │ '90124'  │\n",
      "│   12    │                     'home-assistant/core'                     │ '20382'  │ '11249' │ '28678'  │\n",
      "│   13    │                       'docker/for-win'                        │ '12647'  │ '10869' │  '1925'  │\n",
      "│   14    │                       '996icu/996.ICU'                        │ '17308'  │ '10798' │ '273033' │\n",
      "│   15    │                       'pytorch/pytorch'                       │ '28027'  │ '10722' │ '66679'  │\n",
      "│   16    │ 'githubschool/open-enrollment-classes-introduction-to-github' │ '11979'  │ '10633' │  '921'   │\n",
      "│   17    │                       'grafana/grafana'                       │ '25069'  │ '10528' │ '52678'  │\n",
      "│   18    │                  'FortAwesome/Font-Awesome'                   │ '13249'  │ '10517' │ '52316'  │\n",
      "│   19    │                    'kubernetes/kubernetes'                    │ '36290'  │ '10514' │ '93091'  │\n",
      "└─────────┴───────────────────────────────────────────────────────────────┴──────────┴─────────┴──────────┘\n"
     ]
    }
   ],
   "source": [
    "query(`\n",
    "WITH type = 'IssuesEvent' AND action = 'opened' AS issue_created\n",
    "SELECT repo_name, SUM(issue_created) AS c, uniqIf(actor_login, issue_created) AS u, SUM(type = 'WatchEvent') AS stars\n",
    "FROM gh_events\n",
    "WHERE type IN ('IssuesEvent', 'WatchEvent')\n",
    "GROUP BY repo_name\n",
    "ORDER BY u DESC\n",
    "LIMIT 20\n",
    "`).then(console.table);"
   ]
  },
  {
   "cell_type": "markdown",
   "id": "9be9ff4c-8b17-404d-b070-755834abb830",
   "metadata": {},
   "source": [
    "## Repositories with the most people who have push access"
   ]
  },
  {
   "cell_type": "code",
   "execution_count": 2,
   "id": "c5b7b5a2-06aa-4086-95d4-ff035a8b8043",
   "metadata": {},
   "outputs": [
    {
     "name": "stdout",
     "output_type": "stream",
     "text": [
      "┌─────────┬───────────────────────────────────────────────────────────────┬────────┬─────────┐\n",
      "│ (index) │                           repo_name                           │   u    │  stars  │\n",
      "├─────────┼───────────────────────────────────────────────────────────────┼────────┼─────────┤\n",
      "│    0    │ 'githubschool/open-enrollment-classes-introduction-to-github' │ '7850' │  '921'  │\n",
      "│    1    │             'githubschool/on-demand-github-pages'             │ '1100' │  '89'   │\n",
      "│    2    │                      'llvm/llvm-project'                      │ '840'  │ '7534'  │\n",
      "│    3    │                'HNGInternship/HNGInternship4'                 │ '518'  │  '44'   │\n",
      "│    4    │                  'bioconda/bioconda-recipes'                  │ '467'  │ '1356'  │\n",
      "│    5    │           'cs480-projects/cs480-projects.github.io'           │ '449'  │  '15'   │\n",
      "│    6    │                        'odoo-dev/odoo'                        │ '440'  │  '96'   │\n",
      "│    7    │                      'hnginterns/hngfun'                      │ '437'  │  '33'   │\n",
      "│    8    │                    'Automattic/wp-calypso'                    │ '434'  │ '13054' │\n",
      "│    9    │                 'tencentyun/qcloud-documents'                 │ '429'  │ '1071'  │\n",
      "│   10    │                    'HNGInternship/HNGFun'                     │ '419'  │  '21'   │\n",
      "│   11    │                         'mks65/list'                          │ '409'  │   '0'   │\n",
      "│   12    │                         'mks65/euler'                         │ '408'  │   '1'   │\n",
      "│   13    │                  'armory-training/spintroui'                  │ '390'  │   '4'   │\n",
      "│   14    │                         'mks66/line'                          │ '387'  │   '0'   │\n",
      "│   15    │                       'mks66/picmaker'                        │ '383'  │   '3'   │\n",
      "│   16    │                        'mks65/dirinfo'                        │ '382'  │   '0'   │\n",
      "│   17    │                        'mks66/matrix'                         │ '374'  │   '0'   │\n",
      "│   18    │                          'mks66/3d'                           │ '373'  │   '0'   │\n",
      "│   19    │                        'mks66/curves'                         │ '357'  │   '0'   │\n",
      "└─────────┴───────────────────────────────────────────────────────────────┴────────┴─────────┘\n"
     ]
    }
   ],
   "source": [
    "query(`\n",
    "SELECT repo_name, uniqIf(actor_login, type = 'PushEvent') AS u, SUM(type = 'WatchEvent') AS stars\n",
    "FROM gh_events\n",
    "WHERE type IN ('PushEvent', 'WatchEvent') AND toYear(created_at) <= 2020\n",
    "GROUP BY repo_name\n",
    "ORDER BY u DESC\n",
    "LIMIT 20\n",
    "`).then(console.table);"
   ]
  },
  {
   "cell_type": "markdown",
   "id": "599ff1b9-7ab9-4918-9a2a-21e0e9a60871",
   "metadata": {},
   "source": [
    "The first one is educational. It's really fantastic to have almost 8 thousand people pushing to the repository. Maybe it's just a development model where they are giving access to separate branches for a user or organization?\n",
    "\n",
    "What about repositories with the most people who have push access to the main branch."
   ]
  },
  {
   "cell_type": "code",
   "execution_count": 3,
   "id": "d2807998-18aa-42bf-b6d1-5aae8946f2f6",
   "metadata": {},
   "outputs": [
    {
     "name": "stdout",
     "output_type": "stream",
     "text": [
      "┌─────────┬───────────────────────────────────────────────────────────────┬────────┬─────────┐\n",
      "│ (index) │                           repo_name                           │   u    │  stars  │\n",
      "├─────────┼───────────────────────────────────────────────────────────────┼────────┼─────────┤\n",
      "│    0    │ 'githubschool/open-enrollment-classes-introduction-to-github' │ '5599' │  '921'  │\n",
      "│    1    │                      'llvm/llvm-project'                      │ '838'  │ '7534'  │\n",
      "│    2    │             'githubschool/on-demand-github-pages'             │ '808'  │  '89'   │\n",
      "│    3    │                'HNGInternship/HNGInternship4'                 │ '517'  │  '44'   │\n",
      "│    4    │           'cs480-projects/cs480-projects.github.io'           │ '449'  │  '15'   │\n",
      "│    5    │                      'hnginterns/hngfun'                      │ '437'  │  '33'   │\n",
      "│    6    │                  'bioconda/bioconda-recipes'                  │ '432'  │ '1356'  │\n",
      "│    7    │                 'tencentyun/qcloud-documents'                 │ '426'  │ '1071'  │\n",
      "│    8    │                    'HNGInternship/HNGFun'                     │ '419'  │  '21'   │\n",
      "│    9    │                         'mks65/list'                          │ '409'  │   '0'   │\n",
      "│   10    │                         'mks65/euler'                         │ '408'  │   '1'   │\n",
      "│   11    │                         'mks66/line'                          │ '387'  │   '0'   │\n",
      "│   12    │                       'mks66/picmaker'                        │ '383'  │   '3'   │\n",
      "│   13    │                        'mks65/dirinfo'                        │ '382'  │   '0'   │\n",
      "│   14    │                    'Automattic/wp-calypso'                    │ '378'  │ '13054' │\n",
      "│   15    │                        'mks66/matrix'                         │ '374'  │   '0'   │\n",
      "│   16    │                          'mks66/3d'                           │ '373'  │   '0'   │\n",
      "│   17    │                        'mks66/curves'                         │ '357'  │   '0'   │\n",
      "│   18    │                       'mks66/polygons'                        │ '346'  │   '0'   │\n",
      "│   19    │                        'mks66/cstack'                         │ '343'  │   '0'   │\n",
      "└─────────┴───────────────────────────────────────────────────────────────┴────────┴─────────┘\n"
     ]
    }
   ],
   "source": [
    "query(`\n",
    "SELECT repo_name, uniqIf(actor_login, type = 'PushEvent' AND match(push_ref, '/(main|master)$')) AS u, SUM(type = 'WatchEvent') AS stars\n",
    "FROM gh_events\n",
    "WHERE type IN ('PushEvent', 'WatchEvent') AND toYear(created_at) <= 2020\n",
    "GROUP BY repo_name\n",
    "ORDER BY u DESC\n",
    "LIMIT 20\n",
    "`).then(console.table);"
   ]
  },
  {
   "cell_type": "markdown",
   "id": "4bb0e057-f053-4f34-8ee0-3726f65f4d0c",
   "metadata": {},
   "source": [
    "It's almost the same."
   ]
  },
  {
   "cell_type": "markdown",
   "id": "83fb3a8a-4745-4662-ae24-10e1a78c6ddd",
   "metadata": {},
   "source": [
    "## Repositories with the maximum number of accepted invitations"
   ]
  },
  {
   "cell_type": "code",
   "execution_count": 4,
   "id": "95d8acaa-7a14-4cbf-9a97-8d4efc2e8a86",
   "metadata": {},
   "outputs": [
    {
     "name": "stdout",
     "output_type": "stream",
     "text": [
      "┌─────────┬───────────────────────────────────────────────────────────────┬─────────────┬─────────┐\n",
      "│ (index) │                           repo_name                           │ invitations │  stars  │\n",
      "├─────────┼───────────────────────────────────────────────────────────────┼─────────────┼─────────┤\n",
      "│    0    │ 'githubschool/open-enrollment-classes-introduction-to-github' │   '10309'   │  '921'  │\n",
      "│    1    │                  'openjournals/joss-reviews'                  │   '2626'    │  '638'  │\n",
      "│    2    │             'githubschool/on-demand-github-pages'             │   '1611'    │  '135'  │\n",
      "│    3    │                    'MasteringNuxt/NuxtBnB'                    │   '1554'    │  '229'  │\n",
      "│    4    │                         'zulip/zulip'                         │   '1158'    │ '18487' │\n",
      "│    5    │               'MasteringNuxt/mastering-nuxt-3'                │    '956'    │  '162'  │\n",
      "│    6    │            'InfiniteFlightAirportEditing/Airports'            │    '717'    │  '235'  │\n",
      "│    7    │                 'tencentyun/qcloud-documents'                 │    '455'    │ '2223'  │\n",
      "│    8    │                    'Automattic/wp-calypso'                    │    '437'    │ '13857' │\n",
      "│    9    │                  'zephyrproject-rtos/zephyr'                  │    '406'    │ '7479'  │\n",
      "│   10    │                      'llvm/llvm-project'                      │    '324'    │ '18020' │\n",
      "│   11    │                'leanprover-community/mathlib'                 │    '321'    │ '1378'  │\n",
      "│   12    │                   'w3c/web-platform-tests'                    │    '308'    │ '1251'  │\n",
      "│   13    │                       'dotnet/runtime'                        │    '295'    │ '11746' │\n",
      "│   14    │                'FightPandemics/FightPandemics'                │    '287'    │  '135'  │\n",
      "│   15    │                    'cockroachdb/cockroach'                    │    '284'    │ '25887' │\n",
      "│   16    │                         'oppia/oppia'                         │    '282'    │ '5687'  │\n",
      "│   17    │              'pqrs-org/KE-complex_modifications'              │    '278'    │ '1072'  │\n",
      "│   18    │                 'MicrosoftDocs/msteams-docs'                  │    '268'    │  '258'  │\n",
      "│   19    │                       'pytorch/pytorch'                       │    '253'    │ '66681' │\n",
      "└─────────┴───────────────────────────────────────────────────────────────┴─────────────┴─────────┘\n"
     ]
    }
   ],
   "source": [
    "query(`\n",
    "SELECT repo_name, SUM(type = 'MemberEvent') AS invitations, SUM(type = 'WatchEvent') AS stars\n",
    "FROM gh_events\n",
    "WHERE type IN ('MemberEvent', 'WatchEvent')\n",
    "GROUP BY repo_name\n",
    "HAVING stars >= 100\n",
    "ORDER BY invitations DESC\n",
    "LIMIT 20\n",
    "`).then(console.table);"
   ]
  },
  {
   "cell_type": "markdown",
   "id": "a6a9ff13-08bd-4b07-b84c-35a3a3ba465f",
   "metadata": {},
   "source": [
    "## Most forked repositories"
   ]
  },
  {
   "cell_type": "code",
   "execution_count": 5,
   "id": "d1026555-74ab-4fa9-ba7a-93844eabe61b",
   "metadata": {},
   "outputs": [
    {
     "name": "stdout",
     "output_type": "stream",
     "text": [
      "┌─────────┬───────────────────────────────────────────┬──────────┐\n",
      "│ (index) │                 repo_name                 │  forks   │\n",
      "├─────────┼───────────────────────────────────────────┼──────────┤\n",
      "│    0    │           'jtleek/datasharing'            │ '213462' │\n",
      "│    1    │           'octocat/Spoon-Knife'           │ '158491' │\n",
      "│    2    │      'rdpeng/ProgrammingAssignment2'      │ '134685' │\n",
      "│    3    │          'tensorflow/tensorflow'          │ '106605' │\n",
      "│    4    │            'github/gitignore'             │ '103723' │\n",
      "│    5    │           'LSPosed/MagiskOnWSA'           │ '96972'  │\n",
      "│    6    │ 'SmartThingsCommunity/SmartThingsPublic'  │ '93810'  │\n",
      "│    7    │             'twbs/bootstrap'              │ '87259'  │\n",
      "│    8    │      'nightscout/cgm-remote-monitor'      │ '83178'  │\n",
      "│    9    │ 'Pierian-Data/Complete-Python-3-Bootcamp' │ '79627'  │\n",
      "│   10    │          'barryclark/jekyll-now'          │ '77921'  │\n",
      "│   11    │ 'firstcontributions/first-contributions'  │ '64351'  │\n",
      "│   12    │   'jwasham/coding-interview-university'   │ '63375'  │\n",
      "│   13    │            'eugenp/tutorials'             │ '60745'  │\n",
      "│   14    │              'opencv/opencv'              │ '59147'  │\n",
      "│   15    │               'github/docs'               │ '58985'  │\n",
      "│   16    │             'facebook/react'              │ '57732'  │\n",
      "│   17    │            'tensorflow/models'            │ '55640'  │\n",
      "│   18    │             'jlord/patchwork'             │ '54083'  │\n",
      "│   19    │         'rdpeng/ExData_Plotting1'         │ '53851'  │\n",
      "└─────────┴───────────────────────────────────────────┴──────────┘\n"
     ]
    }
   ],
   "source": [
    "query(`\n",
    "SELECT repo_name, COUNT() AS forks\n",
    "FROM gh_events\n",
    "WHERE type = 'ForkEvent'\n",
    "GROUP BY repo_name\n",
    "ORDER BY forks DESC\n",
    "LIMIT 20\n",
    "`).then(console.table);"
   ]
  },
  {
   "cell_type": "markdown",
   "id": "bc96d455-fbbb-4f21-948f-c906bdd4b791",
   "metadata": {},
   "source": [
    "If we filter out repositories that have their main purpose to be forked, the clear winner is TensorFlow, then Bootstrap, OpenCV and React."
   ]
  },
  {
   "cell_type": "markdown",
   "id": "95ac0dc1-137c-4543-a089-f09049b05d2a",
   "metadata": {},
   "source": [
    "## Proportions between stars and forks\n",
    "\n",
    "Let's check the proportion of stars and forks."
   ]
  },
  {
   "cell_type": "code",
   "execution_count": 6,
   "id": "1b3effab-33f3-42dc-bcb2-0edbcab06cb4",
   "metadata": {},
   "outputs": [
    {
     "name": "stdout",
     "output_type": "stream",
     "text": [
      "┌─────────┬───────────────────────────────────────────┬──────────┬──────────┬───────┐\n",
      "│ (index) │                 repo_name                 │  forks   │  stars   │ ratio │\n",
      "├─────────┼───────────────────────────────────────────┼──────────┼──────────┼───────┤\n",
      "│    0    │           'jtleek/datasharing'            │ '213462' │  '6308'  │ 0.03  │\n",
      "│    1    │           'octocat/Spoon-Knife'           │ '158491' │  '5262'  │ 0.033 │\n",
      "│    2    │      'rdpeng/ProgrammingAssignment2'      │ '134685' │  '1009'  │ 0.007 │\n",
      "│    3    │          'tensorflow/tensorflow'          │ '106605' │ '198015' │ 1.857 │\n",
      "│    4    │            'github/gitignore'             │ '103723' │ '132948' │ 1.282 │\n",
      "│    5    │           'LSPosed/MagiskOnWSA'           │ '96972'  │ '19957'  │ 0.206 │\n",
      "│    6    │ 'SmartThingsCommunity/SmartThingsPublic'  │ '93810'  │  '2980'  │ 0.032 │\n",
      "│    7    │             'twbs/bootstrap'              │ '87259'  │ '119637' │ 1.371 │\n",
      "│    8    │      'nightscout/cgm-remote-monitor'      │ '83178'  │  '2508'  │ 0.03  │\n",
      "│    9    │ 'Pierian-Data/Complete-Python-3-Bootcamp' │ '79627'  │ '25158'  │ 0.316 │\n",
      "│   10    │          'barryclark/jekyll-now'          │ '77921'  │  '8560'  │ 0.11  │\n",
      "│   11    │ 'firstcontributions/first-contributions'  │ '64351'  │ '31504'  │ 0.49  │\n",
      "│   12    │   'jwasham/coding-interview-university'   │ '63375'  │ '226865' │ 3.58  │\n",
      "│   13    │            'eugenp/tutorials'             │ '60745'  │ '35787'  │ 0.589 │\n",
      "│   14    │              'opencv/opencv'              │ '59147'  │ '61997'  │ 1.048 │\n",
      "│   15    │               'github/docs'               │ '58985'  │ '15779'  │ 0.268 │\n",
      "│   16    │             'facebook/react'              │ '57732'  │ '224442' │ 3.888 │\n",
      "│   17    │            'tensorflow/models'            │ '55640'  │ '84734'  │ 1.523 │\n",
      "│   18    │             'jlord/patchwork'             │ '54083'  │  '1420'  │ 0.026 │\n",
      "│   19    │         'rdpeng/ExData_Plotting1'         │ '53851'  │  '289'   │ 0.005 │\n",
      "└─────────┴───────────────────────────────────────────┴──────────┴──────────┴───────┘\n"
     ]
    }
   ],
   "source": [
    "query(`\n",
    "SELECT repo_name, SUM(type = 'ForkEvent') AS forks, SUM(type = 'WatchEvent') AS stars, ROUND(stars/forks, 3) AS ratio\n",
    "FROM gh_events\n",
    "WHERE type IN ('ForkEvent', 'WatchEvent')\n",
    "GROUP BY repo_name\n",
    "ORDER BY forks DESC\n",
    "LIMIT 20\n",
    "`).then(console.table);"
   ]
  },
  {
   "cell_type": "markdown",
   "id": "64f9877e-7e1d-49a2-85f9-b0dfbe899d01",
   "metadata": {},
   "source": [
    "We can see a separation. Some repositories are \"for forks\" like the \"octocat/Spoon-Knife\" — they either have fork as a purpose of the repo or some of them represent a template to base something new on. Some repositories are \"for stars\" — usually it's not software but some text content, like \"996icu/996.ICU\".\n",
    "\n",
    "The overall proportion between stars and forks:"
   ]
  },
  {
   "cell_type": "code",
   "execution_count": 7,
   "id": "a9351c83-7e18-426d-98e0-cd4eb455fb9d",
   "metadata": {},
   "outputs": [
    {
     "name": "stdout",
     "output_type": "stream",
     "text": [
      "┌─────────┬─────────────┬─────────────┬───────┐\n",
      "│ (index) │    forks    │    stars    │ ratio │\n",
      "├─────────┼─────────────┼─────────────┼───────┤\n",
      "│    0    │ '113012217' │ '314184812' │ 2.78  │\n",
      "└─────────┴─────────────┴─────────────┴───────┘\n"
     ]
    }
   ],
   "source": [
    "query(`\n",
    "SELECT SUM(type = 'ForkEvent') AS forks, SUM(type = 'WatchEvent') AS stars, ROUND(stars/forks, 2) AS ratio\n",
    "FROM gh_events\n",
    "WHERE type IN ('ForkEvent', 'WatchEvent')\n",
    "`).then(console.table);"
   ]
  },
  {
   "cell_type": "markdown",
   "id": "5408a03e-fdda-4eb9-836e-f70e1ee71217",
   "metadata": {},
   "source": [
    "And the result is higher for more popular reposioties:"
   ]
  },
  {
   "cell_type": "code",
   "execution_count": 8,
   "id": "9947c2d7-6785-4921-af4c-67cf0b9a6bc7",
   "metadata": {},
   "outputs": [
    {
     "name": "stdout",
     "output_type": "stream",
     "text": [
      "┌─────────┬────────────┬─────────────┬───────┐\n",
      "│ (index) │   forks    │    stars    │ ratio │\n",
      "├─────────┼────────────┼─────────────┼───────┤\n",
      "│    0    │ '58425498' │ '228102208' │  3.9  │\n",
      "└─────────┴────────────┴─────────────┴───────┘\n"
     ]
    }
   ],
   "source": [
    "query(`\n",
    "SELECT SUM(forks) AS forks, SUM(stars) AS stars, ROUND(stars/forks, 2) AS ratio\n",
    "FROM (\n",
    "    SELECT SUM(type = 'ForkEvent') AS forks, SUM(type = 'WatchEvent') AS stars\n",
    "    FROM gh_events\n",
    "    WHERE type IN ('ForkEvent', 'WatchEvent')\n",
    "    GROUP BY repo_name\n",
    "    HAVING stars > 100\n",
    ")\n",
    "`).then(console.table);"
   ]
  },
  {
   "cell_type": "markdown",
   "id": "d6c0c3e5-a7e0-4977-91b9-f6a16023538c",
   "metadata": {},
   "source": [
    "## Issue with the most comments\n",
    "\n",
    "Total number of issue comments on GitHub:"
   ]
  },
  {
   "cell_type": "code",
   "execution_count": 9,
   "id": "e48722e6-382a-45a1-a0c6-8ce3ef704f73",
   "metadata": {},
   "outputs": [
    {
     "name": "stdout",
     "output_type": "stream",
     "text": [
      "┌─────────┬─────────────┐\n",
      "│ (index) │   count()   │\n",
      "├─────────┼─────────────┤\n",
      "│    0    │ '322930677' │\n",
      "└─────────┴─────────────┘\n"
     ]
    }
   ],
   "source": [
    "query(`\n",
    "SELECT COUNT()\n",
    "FROM gh_events\n",
    "WHERE type = 'IssueCommentEvent' AND action = 'created'\n",
    "`).then(console.table);"
   ]
  },
  {
   "cell_type": "markdown",
   "id": "2f2b1925-a517-4eaa-af31-a5c35ff46ccb",
   "metadata": {},
   "source": [
    "The top repositories by issue comments:"
   ]
  },
  {
   "cell_type": "code",
   "execution_count": 10,
   "id": "5a95e227-c414-4eb2-b7a9-d7bcb865f2f3",
   "metadata": {},
   "outputs": [
    {
     "name": "stdout",
     "output_type": "stream",
     "text": [
      "┌─────────┬──────────────────────────────────┬───────────┐\n",
      "│ (index) │            repo_name             │  count()  │\n",
      "├─────────┼──────────────────────────────────┼───────────┤\n",
      "│    0    │     'kubernetes/kubernetes'      │ '1707150' │\n",
      "│    1    │          'apache/spark'          │ '788626'  │\n",
      "│    2    │         'rust-lang/rust'         │ '683432'  │\n",
      "│    3    │         'elastic/kibana'         │ '602998'  │\n",
      "│    4    │ 'google-test/signcla-probe-repo' │ '583011'  │\n",
      "│    5    │     'microsoft/winget-pkgs'      │ '554820'  │\n",
      "│    6    │          'cms-sw/cmssw'          │ '541578'  │\n",
      "│    7    │         'NixOS/nixpkgs'          │ '530175'  │\n",
      "│    8    │        'flutter/flutter'         │ '514855'  │\n",
      "│    9    │        'openshift/origin'        │ '506718'  │\n",
      "│   10    │       'openshift/release'        │ '438689'  │\n",
      "│   11    │ 'brianchandotcom/liferay-portal' │ '428312'  │\n",
      "│   12    │    'MicrosoftDocs/azure-docs'    │ '365503'  │\n",
      "│   13    │          'istio/istio'           │ '360877'  │\n",
      "│   14    │     'cockroachdb/cockroach'      │ '342266'  │\n",
      "│   15    │        'pytorch/pytorch'         │ '337423'  │\n",
      "│   16    │        'microsoft/vscode'        │ '322778'  │\n",
      "│   17    │     'tensorflow/tensorflow'      │ '322388'  │\n",
      "│   18    │          'nodejs/node'           │ '314191'  │\n",
      "│   19    │           'golang/go'            │ '303025'  │\n",
      "└─────────┴──────────────────────────────────┴───────────┘\n"
     ]
    }
   ],
   "source": [
    "query(`\n",
    "SELECT repo_name, COUNT()\n",
    "FROM gh_events\n",
    "WHERE type = 'IssueCommentEvent' AND action = 'created'\n",
    "GROUP BY repo_name\n",
    "ORDER BY COUNT() DESC\n",
    "LIMIT 20\n",
    "`).then(console.table);"
   ]
  },
  {
   "cell_type": "markdown",
   "id": "6171e20f-e99e-486e-8d08-f6e1ef99b622",
   "metadata": {},
   "source": [
    "The proportion between issue comments and issues:"
   ]
  },
  {
   "cell_type": "code",
   "execution_count": 11,
   "id": "08547bea-a70b-4877-a45c-decaf62fa7bd",
   "metadata": {},
   "outputs": [
    {
     "name": "stdout",
     "output_type": "stream",
     "text": [
      "┌─────────┬──────────────────────────────────┬───────────┬──────────┬───────┐\n",
      "│ (index) │            repo_name             │ comments  │  issues  │ ratio │\n",
      "├─────────┼──────────────────────────────────┼───────────┼──────────┼───────┤\n",
      "│    0    │     'kubernetes/kubernetes'      │ '1707150' │ '102577' │ 16.64 │\n",
      "│    1    │          'apache/spark'          │ '788626'  │ '35018'  │ 22.52 │\n",
      "│    2    │         'rust-lang/rust'         │ '683432'  │ '83068'  │ 8.23  │\n",
      "│    3    │         'elastic/kibana'         │ '602998'  │ '132884' │ 4.54  │\n",
      "│    4    │ 'google-test/signcla-probe-repo' │ '583011'  │ '447312' │  1.3  │\n",
      "│    5    │     'microsoft/winget-pkgs'      │ '554820'  │ '88524'  │ 6.27  │\n",
      "│    6    │          'cms-sw/cmssw'          │ '541578'  │ '33245'  │ 16.29 │\n",
      "│    7    │         'NixOS/nixpkgs'          │ '530175'  │ '136636' │ 3.88  │\n",
      "│    8    │        'flutter/flutter'         │ '514855'  │ '102396' │ 5.03  │\n",
      "│    9    │        'openshift/origin'        │ '506718'  │ '26237'  │ 19.31 │\n",
      "│   10    │       'openshift/release'        │ '438689'  │ '34148'  │ 12.85 │\n",
      "│   11    │ 'brianchandotcom/liferay-portal' │ '428312'  │ '103420' │ 4.14  │\n",
      "│   12    │    'MicrosoftDocs/azure-docs'    │ '365503'  │ '99428'  │ 3.68  │\n",
      "│   13    │          'istio/istio'           │ '360877'  │ '37215'  │  9.7  │\n",
      "│   14    │     'cockroachdb/cockroach'      │ '342266'  │ '80691'  │ 4.24  │\n",
      "│   15    │        'pytorch/pytorch'         │ '337423'  │ '77070'  │ 4.38  │\n",
      "│   16    │        'microsoft/vscode'        │ '322778'  │ '83191'  │ 3.88  │\n",
      "│   17    │     'tensorflow/tensorflow'      │ '322388'  │ '49930'  │ 6.46  │\n",
      "│   18    │          'nodejs/node'           │ '314191'  │ '41421'  │ 7.59  │\n",
      "│   19    │           'golang/go'            │ '303025'  │ '46127'  │ 6.57  │\n",
      "└─────────┴──────────────────────────────────┴───────────┴──────────┴───────┘\n"
     ]
    }
   ],
   "source": [
    "query(`\n",
    "SELECT repo_name, COUNT(action = 'created') AS comments, uniq(issue_number) AS issues, ROUND(comments/issues, 2) AS ratio\n",
    "FROM gh_events\n",
    "WHERE type = 'IssueCommentEvent'\n",
    "GROUP BY repo_name\n",
    "ORDER BY comments DESC\n",
    "LIMIT 20\n",
    "`).then(console.table);"
   ]
  },
  {
   "cell_type": "markdown",
   "id": "5c724ce3-8234-469d-bd5f-e876676b59a5",
   "metadata": {},
   "source": [
    "Kubernetes has the most active discussions among the top repositories. In contrast, the repository with the least comments per issue. And \"google-test/signcla-probe-repo\", is clearly not for discussions.\n",
    "\n",
    "Now let's find the most active issues..."
   ]
  },
  {
   "cell_type": "code",
   "execution_count": 12,
   "id": "a43328da-32b5-4c62-8546-0622aad61eb5",
   "metadata": {},
   "outputs": [
    {
     "name": "stdout",
     "output_type": "stream",
     "text": [
      "┌─────────┬──────────────────────────────────────────────────────────┬──────────────┬──────────┐\n",
      "│ (index) │                        repo_name                         │ issue_number │ comments │\n",
      "├─────────┼──────────────────────────────────────────────────────────┼──────────────┼──────────┤\n",
      "│    0    │           'gafusion/regression_notifications'            │      1       │ '21888'  │\n",
      "│    1    │                   'sauron-demo/sauron'                   │      1       │ '21022'  │\n",
      "│    2    │             'odoo-mergebot-testing-org/repo'             │      1       │ '13153'  │\n",
      "│    3    │               'HarshCasper/Rotten-Scripts'               │      7       │ '11717'  │\n",
      "│    4    │                  'Blaquez-home/roslyn'                   │      2       │ '11071'  │\n",
      "│    5    │                   'keycloak/keycloak'                    │      60      │  '8397'  │\n",
      "│    6    │           'zeit-github-test/github-utils-test'           │      1       │  '8295'  │\n",
      "│    7    │             'odoo-mergebot-testing-org/proj'             │      1       │  '7507'  │\n",
      "│    8    │                    'jeremyjia/Games'                     │     743      │  '6774'  │\n",
      "│    9    │                    'Omicron666/godot'                    │      55      │  '6061'  │\n",
      "│   10    │                      'openshift/oc'                      │     270      │  '5909'  │\n",
      "│   11    │               'tphongio/elasticbox-plugin'               │      1       │  '5668'  │\n",
      "│   12    │           'openfoodfacts/openfoodfacts-server'           │     3767     │  '5098'  │\n",
      "│   13    │                    'codecov/ci-repo'                     │      4       │  '5026'  │\n",
      "│   14    │             'Blaquez-home/azure-sdk-for-net'             │      2       │  '4719'  │\n",
      "│   15    │                      'openshift/oc'                      │     814      │  '4706'  │\n",
      "│   16    │ 'openshift/cluster-resource-override-admission-operator' │      29      │  '4562'  │\n",
      "│   17    │                   'kubeflow/pipelines'                   │     5071     │  '4534'  │\n",
      "│   18    │             'odoo-mergebot-testing-org/proj'             │      2       │  '4175'  │\n",
      "│   19    │                 'ingvagabund/kubernetes'                 │      58      │  '4134'  │\n",
      "└─────────┴──────────────────────────────────────────────────────────┴──────────────┴──────────┘\n"
     ]
    }
   ],
   "source": [
    "query(`\n",
    "SELECT repo_name, issue_number, COUNT() AS comments\n",
    "FROM gh_events\n",
    "WHERE type = 'IssueCommentEvent' AND action = 'created'\n",
    "GROUP BY repo_name, issue_number\n",
    "ORDER BY comments DESC\n",
    "LIMIT 20\n",
    "`).then(console.table);"
   ]
  },
  {
   "cell_type": "markdown",
   "id": "c613dff2-fb77-41fd-8492-5fbdabb3faa8",
   "metadata": {},
   "source": [
    "The top repositories have the most comments in their first issue. It looks like technical comments made by some script. Nothing interesting here, and actually I did not find these comments on the GitHub website (maybe they have already been deleted)."
   ]
  },
  {
   "cell_type": "markdown",
   "id": "5d897378-3a63-4313-af38-e445b9fb23c4",
   "metadata": {},
   "source": [
    "## Top commented issues for each of the top repositories"
   ]
  },
  {
   "cell_type": "code",
   "execution_count": 13,
   "id": "056449f1-7a96-4836-861d-df9d5b093e65",
   "metadata": {},
   "outputs": [
    {
     "name": "stdout",
     "output_type": "stream",
     "text": [
      "┌─────────┬───────────────────────────────────────────────────────────┬───────────────┬─────────┬──────────────┬─────────────┐\n",
      "│ (index) │                            URL                            │ max(comments) │ authors │ issue_number │    stars    │\n",
      "├─────────┼───────────────────────────────────────────────────────────┼───────────────┼─────────┼──────────────┼─────────────┤\n",
      "│    0    │     'https://github.com/flutter/flutter/issues/51752'     │     '504'     │  '40'   │    51752     │ '507936858' │\n",
      "│    1    │  'https://github.com/kubernetes/kubernetes/issues/46254'  │    '1281'     │  '11'   │    46254     │ '343423766' │\n",
      "│    2    │   'https://github.com/tensorflow/tensorflow/issues/22'    │     '632'     │  '157'  │      22      │ '320388270' │\n",
      "│    3    │  'https://github.com/facebook/react-native/issues/4968'   │     '512'     │  '305'  │     4968     │ '275561132' │\n",
      "│    4    │     'https://github.com/rust-lang/rust/issues/65590'      │     '896'     │  '10'   │    65590     │ '195128478' │\n",
      "│    5    │        'https://github.com/golang/go/issues/15292'        │     '873'     │  '162'  │    15292     │ '138584085' │\n",
      "│    6    │     'https://github.com/angular/angular/issues/5689'      │     '307'     │  '83'   │     5689     │ '123248385' │\n",
      "│    7    │     'https://github.com/facebook/react/issues/13991'      │     '469'     │  '357'  │    13991     │ '116485398' │\n",
      "│    8    │       'https://github.com/nodejs/node/issues/5020'        │     '468'     │  '79'   │     5020     │ '109882344' │\n",
      "│    9    │     'https://github.com/Microsoft/vscode/issues/224'      │     '417'     │  '150'  │     224      │ '73668144'  │\n",
      "│   10    │     'https://github.com/microsoft/vscode/issues/8017'     │     '235'     │  '93'   │     8017     │ '71392124'  │\n",
      "│   11    │       'https://github.com/996icu/996.ICU/issues/20'       │    '1305'     │ '1038'  │      20      │ '52422720'  │\n",
      "│   12    │     'https://github.com/electron/electron/issues/673'     │     '234'     │  '61'   │     673      │ '48196275'  │\n",
      "│   13    │ 'https://github.com/FortAwesome/Font-Awesome/issues/7574' │     '408'     │  '328'  │     7574     │ '45671868'  │\n",
      "│   14    │    'https://github.com/godotengine/godot/issues/16863'    │     '513'     │  '89'   │    16863     │ '45362008'  │\n",
      "│   15    │        'https://github.com/atom/atom/issues/2956'         │     '238'     │  '95'   │     2956     │ '44277524'  │\n",
      "│   16    │     'https://github.com/bitcoin/bitcoin/issues/26525'     │     '188'     │  '59'   │    26525     │ '43689153'  │\n",
      "│   17    │        'https://github.com/vuejs/vue/issues/2873'         │     '214'     │  '63'   │     2873     │ '41932440'  │\n",
      "│   18    │  'https://github.com/ant-design/ant-design/issues/13848'  │     '913'     │  '536'  │    13848     │ '41669496'  │\n",
      "│   19    │      'https://github.com/pytorch/pytorch/issues/494'      │     '789'     │  '127'  │     494      │ '38341575'  │\n",
      "└─────────┴───────────────────────────────────────────────────────────┴───────────────┴─────────┴──────────────┴─────────────┘\n"
     ]
    }
   ],
   "source": [
    "query(`\n",
    "SELECT\n",
    "    CONCAT('https://github.com/', repo_name, '/issues/', toString(issue_number)) AS URL,\n",
    "    MAX(comments),\n",
    "    argMax(authors, comments) AS authors,\n",
    "    argMax(issue_number, comments) AS issue_number,\n",
    "    SUM(stars) AS stars\n",
    "FROM (\n",
    "    SELECT * FROM (\n",
    "        SELECT repo_name, issue_number, COUNT() AS comments, uniq(actor_login) AS authors\n",
    "        FROM gh_events\n",
    "        WHERE type = 'IssueCommentEvent' AND action = 'created'\n",
    "        GROUP BY repo_name, issue_number\n",
    "        HAVING authors >= 10\n",
    "    ) AS t1\n",
    "    INNER JOIN\n",
    "    (\n",
    "        SELECT repo_name, COUNT() AS stars\n",
    "        FROM gh_events\n",
    "        WHERE type = 'WatchEvent'\n",
    "        GROUP BY repo_name\n",
    "        HAVING stars > 10000\n",
    "    ) AS t2 USING (repo_name)\n",
    ")\n",
    "GROUP BY repo_name\n",
    "ORDER BY stars DESC\n",
    "LIMIT 20\n",
    "`).then(console.table);"
   ]
  },
  {
   "cell_type": "markdown",
   "id": "f52f7b76-1a0b-433c-88cf-4e5f67dd87ac",
   "metadata": {},
   "source": [
    "I hope you will find the most crucial discussions here. Enjoy!"
   ]
  },
  {
   "cell_type": "markdown",
   "id": "82950cc1-fd68-4914-ad43-8993bc61397c",
   "metadata": {},
   "source": [
    "## Commits with the most comments\n",
    "\n",
    "It's rarely the case when a single commit has comments.\n",
    "\n",
    "Here are the top repositories by the number of commit comments:"
   ]
  },
  {
   "cell_type": "code",
   "execution_count": 14,
   "id": "4809a14b-4e58-45e8-9d04-44d45d9c6acb",
   "metadata": {},
   "outputs": [
    {
     "name": "stdout",
     "output_type": "stream",
     "text": [
      "┌─────────┬─────────────────────────────────────┬──────────┬─────────┐\n",
      "│ (index) │              repo_name              │ comments │ authors │\n",
      "├─────────┼─────────────────────────────────────┼──────────┼─────────┤\n",
      "│    0    │     'bambootest-bot/githubtest'     │ '110701' │   '1'   │\n",
      "│    1    │          'NREL/EnergyPlus'          │ '91080'  │  '50'   │\n",
      "│    2    │  'iterativv/NostalgiaForInfinity'   │ '67088'  │  '15'   │\n",
      "│    3    │        'PaddlePaddle/Paddle'        │ '52679'  │  '50'   │\n",
      "│    4    │       'siggetest/githubtest'        │ '51350'  │   '1'   │\n",
      "│    5    │      'xamarin/xamarin-macios'       │ '50585'  │  '36'   │\n",
      "│    6    │       'w4ctech/front-end-rss'       │ '43978'  │   '1'   │\n",
      "│    7    │             'dcos/dcos'             │ '42592'  │  '16'   │\n",
      "│    8    │   'PipecraftNet/v2hot.github.io'    │ '33192'  │   '1'   │\n",
      "│    9    │          'sxadxsx/upptime'          │ '28534'  │   '1'   │\n",
      "│   10    │  'GuilhermeManteigas/DSC-website'   │ '27724'  │   '1'   │\n",
      "│   11    │ 'doourdo27/linux-command-autobuild' │ '24305'  │   '1'   │\n",
      "│   12    │       'kubernetes/kubernetes'       │ '21307'  │  '308'  │\n",
      "│   13    │      'wyattowalsh/wyattowalsh'      │ '18934'  │   '1'   │\n",
      "│   14    │      'joschi/asdf-vm-twitter'       │ '18585'  │   '3'   │\n",
      "│   15    │   'leetcode-pp/leetcode-pp-node'    │ '17892'  │   '1'   │\n",
      "│   16    │   'jupitersh/jupitersh.github.io'   │ '17552'  │   '2'   │\n",
      "│   17    │  'tgrzesik/express-simple-server'   │ '16339'  │   '2'   │\n",
      "│   18    │        'cypress-io/cypress'         │ '14698'  │  '51'   │\n",
      "│   19    │           'kwcckw/CogAlg'           │ '14093'  │   '5'   │\n",
      "└─────────┴─────────────────────────────────────┴──────────┴─────────┘\n"
     ]
    }
   ],
   "source": [
    "query(`\n",
    "SELECT repo_name, COUNT() AS comments, uniq(actor_login) AS authors\n",
    "FROM gh_events\n",
    "WHERE type = 'CommitCommentEvent'\n",
    "GROUP BY repo_name\n",
    "ORDER BY comments DESC\n",
    "LIMIT 20\n",
    "`).then(console.table);"
   ]
  },
  {
   "cell_type": "markdown",
   "id": "2c6636b3-de32-48b1-979b-aa650f0917d0",
   "metadata": {},
   "source": [
    "If there are many comments but a small number of comment authors, usually they are comments from the CI robot."
   ]
  },
  {
   "cell_type": "markdown",
   "id": "d986214f-686b-47d9-bdc1-b97a7478c64d",
   "metadata": {},
   "source": [
    "## The most tough code reviews"
   ]
  },
  {
   "cell_type": "code",
   "execution_count": 15,
   "id": "7006f438-c841-400b-b095-0ace59713120",
   "metadata": {},
   "outputs": [
    {
     "name": "stdout",
     "output_type": "stream",
     "text": [
      "┌─────────┬─────────────────────────────────────────────────────────────┬─────────┐\n",
      "│ (index) │                             URL                             │ authors │\n",
      "├─────────┼─────────────────────────────────────────────────────────────┼─────────┤\n",
      "│    0    │        'https://github.com/torvalds/linux/pull/684'         │  '66'   │\n",
      "│    1    │           'https://github.com/NixOS/rfcs/pull/49'           │  '53'   │\n",
      "│    2    │         'https://github.com/sunpy/sunpy/pull/3391'          │  '52'   │\n",
      "│    3    │ 'https://github.com/dashbitco/mix_phx_gen_auth_demo/pull/1' │  '51'   │\n",
      "│    4    │          'https://github.com/reactjs/rfcs/pull/2'           │  '44'   │\n",
      "│    5    │          'https://github.com/php/php-rfcs/pull/1'           │  '40'   │\n",
      "│    6    │    'https://github.com/matrix-org/matrix-doc/pull/1772'     │  '40'   │\n",
      "│    7    │    'https://github.com/danielmiessler/SecLists/pull/155'    │  '38'   │\n",
      "│    8    │       'https://github.com/pingcap/docs-cn/pull/11115'       │  '37'   │\n",
      "│    9    │      'https://github.com/github/site-policy/pull/397'       │  '36'   │\n",
      "│   10    │       'https://github.com/pingcap/docs-cn/pull/11835'       │  '36'   │\n",
      "│   11    │       'https://github.com/symfony/symfony/pull/33553'       │  '35'   │\n",
      "│   12    │     'https://github.com/kubernetes/community/pull/306'      │  '34'   │\n",
      "│   13    │       'https://github.com/pingcap/docs-cn/pull/8061'        │  '34'   │\n",
      "│   14    │        'https://github.com/rust-lang/rfcs/pull/2850'        │  '33'   │\n",
      "│   15    │      'https://github.com/date-fns/date-fns/pull/1671'       │  '32'   │\n",
      "│   16    │       'https://github.com/NixOS/nixpkgs/pull/140136'        │  '32'   │\n",
      "│   17    │        'https://github.com/rust-lang/rfcs/pull/3090'        │  '32'   │\n",
      "│   18    │       'https://github.com/github/site-policy/pull/1'        │  '31'   │\n",
      "│   19    │       'https://github.com/pingcap/docs-cn/pull/12100'       │  '31'   │\n",
      "└─────────┴─────────────────────────────────────────────────────────────┴─────────┘\n"
     ]
    }
   ],
   "source": [
    "query(`\n",
    "SELECT\n",
    "    concat('https://github.com/', repo_name, '/pull/', toString(issue_number)) AS URL,\n",
    "    uniq(actor_login) AS authors\n",
    "FROM gh_events\n",
    "WHERE type = 'PullRequestReviewCommentEvent' AND action = 'created'\n",
    "GROUP BY repo_name, issue_number\n",
    "ORDER BY authors DESC\n",
    "LIMIT 20\n",
    "`).then(console.table);"
   ]
  },
  {
   "cell_type": "markdown",
   "id": "d201ea79-2445-4661-8e60-46e0106e3884",
   "metadata": {},
   "source": [
    "The [first entry](https://github.com/torvalds/linux/pull/684) is true insanity. But there are many interesting ones like the [proposal](https://github.com/rust-lang/rfcs/pull/2850) to add inline assembly to Rust."
   ]
  },
  {
   "cell_type": "markdown",
   "id": "14079f70-d574-4b60-a270-a4eaa73efaaf",
   "metadata": {},
   "source": [
    "## Authors with the most pushes"
   ]
  },
  {
   "cell_type": "code",
   "execution_count": 16,
   "id": "85e5f9a3-8e84-45a6-abe8-1ae124094c0b",
   "metadata": {},
   "outputs": [
    {
     "name": "stdout",
     "output_type": "stream",
     "text": [
      "┌─────────┬───────────────────────────┬─────────────┬───────────┐\n",
      "│ (index) │        actor_login        │      c      │   repos   │\n",
      "├─────────┼───────────────────────────┼─────────────┼───────────┤\n",
      "│    0    │   'github-actions[bot]'   │ '130095995' │ '652062'  │\n",
      "│    1    │        'LombiqBot'        │ '65038500'  │   '150'   │\n",
      "│    2    │      'renovate[bot]'      │ '11979134'  │ '102683'  │\n",
      "│    3    │        'pull[bot]'        │ '11379261'  │ '229519'  │\n",
      "│    4    │      'renovate-bot'       │  '7917484'  │  '1655'   │\n",
      "│    5    │       'commit-b0t'        │  '6883218'  │    '3'    │\n",
      "│    6    │     'direwolf-github'     │  '6716780'  │ '3372396' │\n",
      "│    7    │     'dependabot[bot]'     │  '6678221'  │ '713852'  │\n",
      "│    8    │  'OpenLocalizationTest'   │  '4863831'  │   '713'   │\n",
      "│    9    │          'znyt'           │  '4579809'  │   '116'   │\n",
      "│   10    │     'breakingheatmap'     │  '3319741'  │    '1'    │\n",
      "│   11    │        'newstools'        │  '2837324'  │  '1029'   │\n",
      "│   12    │ 'dependabot-preview[bot]' │  '2779438'  │  '48081'  │\n",
      "│   13    │     'peter-clifford'      │  '2621392'  │    '4'    │\n",
      "│   14    │        'tmtmtmtm'         │  '2354100'  │  '1373'   │\n",
      "│   15    │        'labeneko'         │  '2314451'  │   '142'   │\n",
      "│   16    │       'ssbattousai'       │  '2307608'  │  '1025'   │\n",
      "│   17    │          'Dids'           │  '2276794'  │   '211'   │\n",
      "│   18    │         'himobi'          │  '2219796'  │    '1'    │\n",
      "│   19    │        'milesholt'        │  '2012184'  │    '5'    │\n",
      "└─────────┴───────────────────────────┴─────────────┴───────────┘\n"
     ]
    }
   ],
   "source": [
    "query(`\n",
    "SELECT actor_login, COUNT() AS c, uniq(repo_name) AS repos\n",
    "FROM gh_events\n",
    "WHERE type = 'PushEvent'\n",
    "GROUP BY actor_login\n",
    "ORDER BY c DESC\n",
    "LIMIT 20\n",
    "`).then(console.table);"
   ]
  },
  {
   "cell_type": "markdown",
   "id": "a9bd8820-ddf9-4d71-a0de-89fbaec8c7bd",
   "metadata": {},
   "source": [
    "Obviously most of them are bots."
   ]
  },
  {
   "cell_type": "markdown",
   "id": "9592d02f-2b2b-4de9-b981-2083778e93e8",
   "metadata": {},
   "source": [
    "## Organizations by the number of stars"
   ]
  },
  {
   "cell_type": "code",
   "execution_count": 17,
   "id": "6dd8e2af-ff92-4db1-98f4-3dc803815c92",
   "metadata": {},
   "outputs": [
    {
     "name": "stdout",
     "output_type": "stream",
     "text": [
      "┌─────────┬────────────────────┬───────────┐\n",
      "│ (index) │     org_login      │   stars   │\n",
      "├─────────┼────────────────────┼───────────┤\n",
      "│    0    │      'google'      │ '1747033' │\n",
      "│    1    │    'microsoft'     │ '1474724' │\n",
      "│    2    │     'facebook'     │ '1170031' │\n",
      "│    3    │      'apache'      │ '762542'  │\n",
      "│    4    │     'alibaba'      │ '761910'  │\n",
      "│    5    │    'Microsoft'     │ '680246'  │\n",
      "│    6    │      'vuejs'       │ '612062'  │\n",
      "│    7    │ 'aplus-framework'  │ '587433'  │\n",
      "│    8    │    'tensorflow'    │ '504241'  │\n",
      "│    9    │     'fossasia'     │ '499294'  │\n",
      "│   10    │ 'facebookresearch' │ '454961'  │\n",
      "│   11    │      'github'      │ '449520'  │\n",
      "│   12    │      'airbnb'      │ '421702'  │\n",
      "│   13    │     'Tencent'      │ '412832'  │\n",
      "│   14    │     'symfony'      │ '339887'  │\n",
      "│   15    │  'TheAlgorithms'   │ '326881'  │\n",
      "│   16    │      'dotnet'      │ '286694'  │\n",
      "│   17    │     'angular'      │ '285845'  │\n",
      "│   18    │      'square'      │ '267802'  │\n",
      "│   19    │    'kubernetes'    │ '258727'  │\n",
      "└─────────┴────────────────────┴───────────┘\n"
     ]
    }
   ],
   "source": [
    "query(`\n",
    "SELECT org_login, COUNT() AS stars\n",
    "FROM gh_events\n",
    "WHERE type = 'WatchEvent' AND org_login != ''\n",
    "GROUP BY org_login\n",
    "ORDER BY stars DESC\n",
    "LIMIT 20\n",
    "`).then(console.table);"
   ]
  },
  {
   "cell_type": "markdown",
   "id": "e97535ce-fe7a-4017-8031-c98f1b06bf31",
   "metadata": {},
   "source": [
    "You may notice that Google is slightly ahead of Microsoft. Actually, it depends on how you count. Maybe you should sum up Tensorflow, Kubernetes, Flutter, Golang, and Chrome for Google; GitHub and DotNet for Microsoft; Facebook Research and React for Facebook."
   ]
  },
  {
   "cell_type": "markdown",
   "id": "e7bdaea5-ae4a-42c4-b517-507dc47103db",
   "metadata": {},
   "source": [
    "## Organizations by the number of repositories"
   ]
  },
  {
   "cell_type": "code",
   "execution_count": 18,
   "id": "368eecfb-cc7a-42a5-8e46-858e838373c4",
   "metadata": {},
   "outputs": [
    {
     "name": "stdout",
     "output_type": "stream",
     "text": [
      "┌─────────┬─────────────────────────────┬──────────┐\n",
      "│ (index) │          org_login          │  repos   │\n",
      "├─────────┼─────────────────────────────┼──────────┤\n",
      "│    0    │        'tf-vcs-e2e'         │ '457349' │\n",
      "│    1    │     'learn-co-students'     │ '329929' │\n",
      "│    2    │ 'circle-test-organization'  │ '295231' │\n",
      "│    3    │    'codeserver-test-org'    │ '141256' │\n",
      "│    4    │       'experiment50'        │ '99802'  │\n",
      "│    5    │         'blucodon'          │ '92336'  │\n",
      "│    6    │          'bluauto'          │ '74793'  │\n",
      "│    7    │        'aur-archive'        │ '70405'  │\n",
      "│    8    │        'turbocanary'        │ '68560'  │\n",
      "│    9    │         'GITenberg'         │ '67717'  │\n",
      "│   10    │        'aur-mirror'         │ '58144'  │\n",
      "│   11    │        'wp-plugins'         │ '52708'  │\n",
      "│   12    │     'terraformtesting'      │ '52121'  │\n",
      "│   13    │         'cb-kubecd'         │ '45141'  │\n",
      "│   14    │        'the-domains'        │ '42581'  │\n",
      "│   15    │  'textcreationpartnership'  │ '42199'  │\n",
      "│   16    │       'hail-ci-test'        │ '40397'  │\n",
      "│   17    │    'octokit-fixture-org'    │ '37265'  │\n",
      "│   18    │ 'odoo-mergebot-testing-org' │ '31422'  │\n",
      "│   19    │        'Sym123Blue'         │ '30299'  │\n",
      "└─────────┴─────────────────────────────┴──────────┘\n"
     ]
    }
   ],
   "source": [
    "query(`\n",
    "SELECT org_login, uniq(repo_name) AS repos\n",
    "FROM gh_events\n",
    "WHERE org_login != ''\n",
    "GROUP BY org_login\n",
    "ORDER BY repos DESC\n",
    "LIMIT 20\n",
    "`).then(console.table);"
   ]
  },
  {
   "cell_type": "markdown",
   "id": "f8f88075-0130-49c2-8c49-e497598b8c30",
   "metadata": {},
   "source": [
    "## Organizations by the size of community\n",
    "\n",
    "The size of community that is visible on GitHub."
   ]
  },
  {
   "cell_type": "code",
   "execution_count": 19,
   "id": "b34370ee-93fc-4db1-b77b-ff5b7d9709ac",
   "metadata": {},
   "outputs": [
    {
     "name": "stdout",
     "output_type": "stream",
     "text": [
      "┌─────────┬──────────────────────┬──────────┬────────────┬───────────────┬─────────────────┬────────────────┬──────────────┐\n",
      "│ (index) │      org_login       │ authors  │ pr_authors │ issue_authors │ comment_authors │ review_authors │ push_authors │\n",
      "├─────────┼──────────────────────┼──────────┼────────────┼───────────────┼─────────────────┼────────────────┼──────────────┤\n",
      "│    0    │     'microsoft'      │ '368976' │  '47042'   │   '222229'    │    '274980'     │    '16676'     │   '10359'    │\n",
      "│    1    │       'google'       │ '141120' │  '48930'   │    '65297'    │     '92079'     │     '8995'     │    '3898'    │\n",
      "│    2    │      'facebook'      │ '134475' │  '20860'   │    '55767'    │    '110875'     │     '5767'     │    '1065'    │\n",
      "│    3    │   'microsoftdocs'    │ '131512' │  '30003'   │    '87288'    │     '68946'     │     '2945'     │    '1778'    │\n",
      "│    4    │       'apache'       │ '101443' │  '44294'   │    '41693'    │     '74186'     │    '20675'     │    '2994'    │\n",
      "│    5    │       'docker'       │ '96178'  │   '7767'   │    '42996'    │     '73173'     │     '1939'     │    '289'     │\n",
      "│    6    │       'azure'        │ '89402'  │  '19706'   │    '52315'    │     '67969'     │     '9092'     │    '5146'    │\n",
      "│    7    │      'angular'       │ '76600'  │   '7951'   │    '33852'    │     '64917'     │     '2129'     │    '192'     │\n",
      "│    8    │       'dotnet'       │ '72443'  │  '10494'   │    '43656'    │     '54936'     │     '4369'     │    '1059'    │\n",
      "│    9    │        'aws'         │ '70443'  │  '10198'   │    '34976'    │     '57179'     │     '3871'     │    '1625'    │\n",
      "│   10    │     'tensorflow'     │ '67551'  │   '9556'   │    '33485'    │     '57196'     │     '3117'     │    '640'     │\n",
      "│   11    │     'hashicorp'      │ '62913'  │  '12661'   │    '31931'    │     '48390'     │     '3131'     │    '910'     │\n",
      "│   12    │     'kubernetes'     │ '61124'  │  '15624'   │    '29288'    │     '51007'     │     '7227'     │    '372'     │\n",
      "│   13    │      'flutter'       │ '58096'  │   '4487'   │    '29353'    │     '47910'     │     '1762'     │    '352'     │\n",
      "│   14    │      'alibaba'       │ '55529'  │   '6712'   │    '36166'    │     '38098'     │     '1357'     │    '1122'    │\n",
      "│   15    │      'elastic'       │ '47423'  │   '8300'   │    '23364'    │     '37855'     │     '2462'     │    '1104'    │\n",
      "│   16    │ 'firstcontributions' │ '47137'  │  '46528'   │     '381'     │     '3508'      │     '147'      │     '8'      │\n",
      "│   17    │       'vuejs'        │ '44986'  │   '9570'   │    '21533'    │     '33037'     │     '1390'     │     '96'     │\n",
      "│   18    │   'home-assistant'   │ '44149'  │   '8463'   │    '21261'    │     '37385'     │     '3379'     │    '152'     │\n",
      "│   19    │ 'learn-co-students'  │ '41475'  │  '41282'   │     '878'     │     '1799'      │     '180'      │    '684'     │\n",
      "└─────────┴──────────────────────┴──────────┴────────────┴───────────────┴─────────────────┴────────────────┴──────────────┘\n"
     ]
    }
   ],
   "source": [
    "query(`\n",
    "SELECT\n",
    "    lower(org_login) AS org_login,\n",
    "    uniq(actor_login) AS authors,\n",
    "    uniqIf(actor_login, type = 'PullRequestEvent') AS pr_authors,\n",
    "    uniqIf(actor_login, type = 'IssuesEvent') AS issue_authors,\n",
    "    uniqIf(actor_login, type = 'IssueCommentEvent') AS comment_authors,\n",
    "    uniqIf(actor_login, type = 'PullRequestReviewCommentEvent') AS review_authors,\n",
    "    uniqIf(actor_login, type = 'PushEvent') AS push_authors\n",
    "FROM gh_events\n",
    "WHERE type IN ('PullRequestEvent', 'IssuesEvent', 'IssueCommentEvent', 'PullRequestReviewCommentEvent', 'PushEvent') AND org_login != ''\n",
    "GROUP BY org_login\n",
    "ORDER BY authors DESC\n",
    "LIMIT 20\n",
    "`).then(console.table);"
   ]
  },
  {
   "cell_type": "markdown",
   "id": "ff0caac4-a424-4ea5-b3e9-5d6f5690e4a9",
   "metadata": {},
   "source": [
    "Microsoft wins in 4 out of 6 categories. Apache wins for the number of code reviewers (I thought they are using JIRA, but actually it's not always the case). Google wins for the number of PR authors.\n",
    "\n",
    "Please take it with a grain of salt. Not every team is using GitHub as their issue tracker or code review system. Linux and Postgres are using maillists. LLVM is using Bugzilla and Phabricator."
   ]
  },
  {
   "cell_type": "markdown",
   "id": "eca72d5a-1178-4d3e-9a8f-fa89acdd5401",
   "metadata": {},
   "source": [
    "## Repositories by amount of modified code\n",
    "\n",
    "I want to get the repositories with the most added and removed code over time. If I do it in a naive way, the multiple forks of cdn.js repository will be on top. By the way, cdn.js is the largest repository in GitHub by size in bytes (it contains all popular JavaScript libraries, the total size is 254GB). To get something interesting, I added a threshold for the number of diff size and also for the ratio of added and removed code (in actively developing codebases, the ratio should be close to one)."
   ]
  },
  {
   "cell_type": "code",
   "execution_count": 20,
   "id": "70b6260c-8585-460a-9a66-644c3cf86910",
   "metadata": {},
   "outputs": [
    {
     "name": "stdout",
     "output_type": "stream",
     "text": [
      "┌─────────┬──────────────────────────────────────────────┬──────────┬─────────┬────────────┬────────────┐\n",
      "│ (index) │                  repo_name                   │   prs    │ authors │    adds    │    dels    │\n",
      "├─────────┼──────────────────────────────────────────────┼──────────┼─────────┼────────────┼────────────┤\n",
      "│    0    │    'everypolitician/everypolitician-data'    │ '149895' │  '18'   │ '66497776' │ '70973322' │\n",
      "│    1    │       'brianchandotcom/liferay-portal'       │ '98607'  │  '422'  │ '31200693' │ '14021387' │\n",
      "│    2    │               'elastic/kibana'               │ '88704'  │ '1112'  │ '20883805' │ '10046409' │\n",
      "│    3    │ 'googleapis/google-api-java-client-services' │ '11915'  │  '29'   │ '16761639' │ '12495040' │\n",
      "│    4    │         'code-dot-org/code-dot-org'          │ '44641'  │  '160'  │ '19104377' │ '9303339'  │\n",
      "│    5    │    'AzureSDKAutomation/azure-sdk-for-go'     │ '34801'  │   '5'   │ '17465828' │ '10482499' │\n",
      "│    6    │               'dotnet/roslyn'                │ '32360'  │  '700'  │ '16669248' │ '7869868'  │\n",
      "│    7    │   'googleapis/discovery-artifact-manager'    │  '4849'  │  '23'   │ '12303207' │ '11996186' │\n",
      "│    8    │  'AzureSDKAutomation/azure-sdk-for-python'   │  '7855'  │  '10'   │ '15695947' │ '6471637'  │\n",
      "│    9    │         'Azure/azure-sdk-for-python'         │ '17137'  │  '613'  │ '15896190' │ '6234287'  │\n",
      "│   10    │   'AzureSDKAutomation/azure-sdk-for-java'    │  '8744'  │   '2'   │ '17001132' │ '2729919'  │\n",
      "│   11    │    'AzureSDKAutomation/azure-sdk-for-js'     │  '7105'  │   '4'   │ '13924004' │ '5680475'  │\n",
      "│   12    │          'Azure/azure-sdk-for-net'           │ '17955'  │ '1426'  │ '14354757' │ '5039042'  │\n",
      "│   13    │          'Azure/azure-sdk-for-java'          │ '19976'  │  '484'  │ '14807218' │ '3753662'  │\n",
      "│   14    │         'shuyangzhou/liferay-portal'         │  '7374'  │  '131'  │ '11806878' │ '6620929'  │\n",
      "│   15    │               'brain-tec/odoo'               │ '16497'  │  '32'   │ '12019840' │ '6361017'  │\n",
      "│   16    │           'Azure/azure-sdk-for-js'           │ '15182'  │  '357'  │ '11672700' │ '4828560'  │\n",
      "│   17    │    'AzureSDKAutomation/azure-sdk-for-net'    │  '6069'  │   '3'   │ '12442355' │ '3821118'  │\n",
      "│   18    │           'cockroachdb/cockroach'            │ '43590'  │  '715'  │ '9962998'  │ '5354800'  │\n",
      "│   19    │           'kubernetes/kubernetes'            │ '61004'  │ '5148'  │ '10143490' │ '5121620'  │\n",
      "└─────────┴──────────────────────────────────────────────┴──────────┴─────────┴────────────┴────────────┘\n"
     ]
    }
   ],
   "source": [
    "query(`\n",
    "SELECT\n",
    "    repo_name,\n",
    "    COUNT() AS prs,\n",
    "    uniq(actor_login) AS authors,\n",
    "    sum(pull_additions) AS adds,\n",
    "    sum(pull_deletions) AS dels\n",
    "FROM gh_events\n",
    "WHERE type = 'PullRequestEvent' AND action = 'opened' AND pull_additions < 10000 AND pull_deletions < 10000\n",
    "GROUP BY repo_name\n",
    "HAVING (adds / dels) < 10\n",
    "ORDER BY adds + dels DESC\n",
    "LIMIT 20\n",
    "`).then(console.table);"
   ]
  },
  {
   "cell_type": "markdown",
   "id": "ebd06c16-9b97-4454-a8cd-23feb7846ba4",
   "metadata": {},
   "source": [
    "## Repositories by the number of pushes"
   ]
  },
  {
   "cell_type": "code",
   "execution_count": 21,
   "id": "13e34541-f6ed-424c-8c87-382ae918de24",
   "metadata": {},
   "outputs": [
    {
     "name": "stdout",
     "output_type": "stream",
     "text": [
      "┌─────────┬───────────────────────────┬──────────┬─────────┐\n",
      "│ (index) │         repo_name         │  pushes  │ authors │\n",
      "├─────────┼───────────────────────────┼──────────┼─────────┤\n",
      "│    0    │     'CocoaPods/Specs'     │ '622261' │  '13'   │\n",
      "│    1    │        'odoo/odoo'        │ '431113' │  '98'   │\n",
      "│    2    │   'docker-library/docs'   │ '361358' │   '6'   │\n",
      "│    3    │     'pytorch/pytorch'     │ '326588' │  '413'  │\n",
      "│    4    │       'unifyai/ivy'       │ '222022' │  '70'   │\n",
      "│    5    │   'openstack/openstack'   │ '206950' │   '2'   │\n",
      "│    6    │      'NixOS/nixpkgs'      │ '200416' │  '244'  │\n",
      "│    7    │  'Automattic/wp-calypso'  │ '163226' │  '609'  │\n",
      "│    8    │    'chromium/chromium'    │ '153032' │   '4'   │\n",
      "│    9    │     'greatfire/wiki'      │ '139741' │   '4'   │\n",
      "│   10    │    'llvm/llvm-project'    │ '120274' │ '1371'  │\n",
      "│   11    │ 'Homebrew/homebrew-core'  │ '118072' │  '55'   │\n",
      "│   12    │ 'sourcegraph/sourcegraph' │ '114261' │  '217'  │\n",
      "│   13    │    'getsentry/sentry'     │ '109736' │  '188'  │\n",
      "│   14    │     'elastic/kibana'      │ '102545' │  '541'  │\n",
      "│   15    │    'edx/edx-platform'     │ '98905'  │  '309'  │\n",
      "│   16    │   'WordPress/gutenberg'   │ '95458'  │  '247'  │\n",
      "│   17    │  'cockroachdb/cockroach'  │ '95112'  │  '221'  │\n",
      "│   18    │  'elastic/elasticsearch'  │ '94004'  │  '339'  │\n",
      "│   19    │    'JetBrains/kotlin'     │ '92006'  │  '141'  │\n",
      "└─────────┴───────────────────────────┴──────────┴─────────┘\n"
     ]
    }
   ],
   "source": [
    "query(`\n",
    "SELECT\n",
    "    repo_name,\n",
    "    COUNT() AS pushes,\n",
    "    uniq(actor_login) AS authors\n",
    "FROM gh_events\n",
    "WHERE (type = 'PushEvent') AND (repo_name IN\n",
    "(\n",
    "    SELECT repo_name\n",
    "    FROM gh_events\n",
    "    WHERE type = 'WatchEvent'\n",
    "    GROUP BY repo_name\n",
    "    ORDER BY COUNT() DESC\n",
    "    LIMIT 10000\n",
    "))\n",
    "GROUP BY repo_name\n",
    "ORDER BY pushes DESC\n",
    "LIMIT 20\n",
    "`).then(console.table);"
   ]
  },
  {
   "cell_type": "markdown",
   "id": "e105fa89-eae3-48d0-9754-8575b0749b72",
   "metadata": {},
   "source": [
    "## Authors with the most code reviews"
   ]
  },
  {
   "cell_type": "code",
   "execution_count": 2,
   "id": "3495ad7b-5dd5-4df7-b7fe-80f1c753d2ac",
   "metadata": {},
   "outputs": [
    {
     "name": "stdout",
     "output_type": "stream",
     "text": [
      "┌─────────┬────────────────────────────┬──────────┬─────────┬─────────┬─────────────────────────────────────────────────────┐\n",
      "│ (index) │        actor_login         │  count   │  repos  │   prs   │                       comment                       │\n",
      "├─────────┼────────────────────────────┼──────────┼─────────┼─────────┼─────────────────────────────────────────────────────┤\n",
      "│    0    │       'houndci-bot'        │ '286616' │ '5877'  │ '78672' │            'Line is too long. [105/100]'            │\n",
      "│    1    │        'codacy-bot'        │ '215741' │ '2312'  │ '21564' │          '![Codacy](https://www.codacy.c'           │\n",
      "│    2    │         'houndci'          │ '96476'  │ '2607'  │ '24426' │               'unexpected token kEND'               │\n",
      "│    3    │        'hound[bot]'        │ '69446'  │ '1754'  │ '14181' │          \"'import' is only available in \"           │\n",
      "│    4    │ 'github-learning-lab[bot]' │ '68011'  │ '16125' │ '28995' │          '```suggestion The time is: {{ '           │\n",
      "│    5    │     'codeclimate[bot]'     │ '39046'  │ '1451'  │ '11850' │          'Surrounding space missing for '           │\n",
      "│    6    │       'foreign-sub'        │ '30204'  │   '3'   │  '196'  │          'Codacy found an issue: [Use of'           │\n",
      "│    7    │         'jreback'          │ '29867'  │  '35'   │ '6057'  │          'so some of the files are not i'           │\n",
      "│    8    │  'staging-muse-bot[bot]'   │ '29829'  │  '19'   │  '108'  │                  'comment ignored'                  │\n",
      "│    9    │         'seanlip'          │ '29205'  │  '18'   │ '2725'  │          \"These buttons don't really mat\"           │\n",
      "│   10    │      'CyrusNajmabadi'      │ '28442'  │  '56'   │ '3507'  │          \"Actually, 'No' was intentional\"           │\n",
      "│   11    │        'TOMARUMARU'        │ '28285'  │ '4240'  │ '9762'  │                     'こちらも'                      │\n",
      "│   12    │       'stephentoub'        │ '28156'  │  '69'   │ '6190'  │          'Rather than checking BypassPro'           │\n",
      "│   13    │          'i-date'          │ '24632'  │ '4102'  │ '6539'  │ '一つのproductは出品した一人のuserに所属する関係で' │\n",
      "│   14    │       'stickler-ci'        │ '24034'  │  '457'  │ '7791'  │          'Doc comment for parameter $res'           │\n",
      "│   15    │         'liggitt'          │ '23592'  │  '131'  │ '5467'  │          'deleting the service breaks th'           │\n",
      "│   16    │        'vkurennov'         │ '23237'  │  '666'  │ '3674'  │          'И почему опять возможность гол'           │\n",
      "│   17    │      'MartinHjelmare'      │ '22172'  │  '48'   │ '4054'  │          'You can make this into a guard'           │\n",
      "│   18    │      'shingoteshima'       │ '21259'  │ '3747'  │ '7006'  │     'コメントアウト不要であれば消しましょう。'      │\n",
      "│   19    │       'golangcibot'        │ '20980'  │  '885'  │ '8303'  │            'File is not `goimports`-ed'             │\n",
      "└─────────┴────────────────────────────┴──────────┴─────────┴─────────┴─────────────────────────────────────────────────────┘\n"
     ]
    }
   ],
   "source": [
    "query(`\n",
    "SELECT\n",
    "    actor_login,\n",
    "    COUNT() AS count,\n",
    "    uniq(repo_name) AS repos,\n",
    "    uniq(repo_name, issue_number) AS prs,\n",
    "    replaceRegexpAll(substringUTF8(anyHeavy(body), 1, 30), '[\\r\\n]', ' ') AS comment\n",
    "FROM gh_events\n",
    "WHERE type = 'PullRequestReviewCommentEvent' AND action = 'created' AND toYear(created_at) <= 2020\n",
    "GROUP BY actor_login\n",
    "ORDER BY count DESC\n",
    "LIMIT 20\n",
    "`).then(console.table);"
   ]
  },
  {
   "cell_type": "markdown",
   "id": "3dba1240-0f6f-44a3-83d2-f372417708c0",
   "metadata": {},
   "source": [
    "Most of the most active reviewers are robots that do style checking and static analysis. But there are real people: [Jeff Reback](https://github.com/jreback). You can also find teachers who review code from students."
   ]
  },
  {
   "cell_type": "markdown",
   "id": "840562b3-9713-40a6-b965-6e2a7bf929de",
   "metadata": {},
   "source": [
    "## Top lables\n",
    "\n",
    "What are the most popular labels for issues and pull requests?"
   ]
  },
  {
   "cell_type": "code",
   "execution_count": 3,
   "id": "39f02c9e-297c-4469-8301-35080eb14bc4",
   "metadata": {},
   "outputs": [
    {
     "name": "stdout",
     "output_type": "stream",
     "text": [
      "┌─────────┬─────────────────────┬────────────┐\n",
      "│ (index) │        label        │     c      │\n",
      "├─────────┼─────────────────────┼────────────┤\n",
      "│    0    │   'dependencies'    │ '39161021' │\n",
      "│    1    │        'bug'        │ '17862538' │\n",
      "│    2    │    'enhancement'    │ '16074173' │\n",
      "│    3    │     'question'      │ '4322742'  │\n",
      "│    4    │    'javascript'     │ '4201723'  │\n",
      "│    5    │     'approved'      │ '3667577'  │\n",
      "│    6    │    'help wanted'    │ '3152736'  │\n",
      "│    7    │       'lgtm'        │ '2863106'  │\n",
      "│    8    │     'cla: yes'      │ '2256855'  │\n",
      "│    9    │   'cncf-cla: yes'   │ '2243569'  │\n",
      "│   10    │    'greenkeeper'    │ '2209534'  │\n",
      "│   11    │      'status'       │ '2071749'  │\n",
      "│   12    │      'size/XS'      │ '1891552'  │\n",
      "│   13    │        'Bug'        │ '1779556'  │\n",
      "│   14    │      'feature'      │ '1748421'  │\n",
      "│   15    │   'documentation'   │ '1603380'  │\n",
      "│   16    │ 'good first issue'  │ '1536495'  │\n",
      "│   17    │      'size/L'       │ '1482261'  │\n",
      "│   18    │     'kind/bug'      │ '1311667'  │\n",
      "│   19    │ 'release-note-none' │ '1215742'  │\n",
      "└─────────┴─────────────────────┴────────────┘\n"
     ]
    }
   ],
   "source": [
    "query(`\n",
    "SELECT\n",
    "    label,\n",
    "    COUNT() AS c\n",
    "FROM gh_events\n",
    "ARRAY JOIN issue_labels.name AS label\n",
    "WHERE type IN ('IssuesEvent', 'PullRequestEvent', 'IssueCommentEvent') AND action IN ('created', 'opened', 'labeled')\n",
    "GROUP BY label\n",
    "ORDER BY c DESC\n",
    "LIMIT 20\n",
    "`).then(console.table);"
   ]
  },
  {
   "cell_type": "markdown",
   "id": "85d86d20-bb16-4543-a20f-9b14b0afafff",
   "metadata": {},
   "source": [
    "There are more bugs than enhancements. Fortunately, only by a little. \"Javascript\" is the only programming-language related label at the top.\n",
    "\n",
    "The diversity of bugs and features is overwhelming:"
   ]
  },
  {
   "cell_type": "code",
   "execution_count": 4,
   "id": "61877958-4943-46c6-bb1c-49f512a999af",
   "metadata": {},
   "outputs": [
    {
     "name": "stdout",
     "output_type": "stream",
     "text": [
      "┌─────────┬────────────────────────────┬────────────┐\n",
      "│ (index) │           label            │     c      │\n",
      "├─────────┼────────────────────────────┼────────────┤\n",
      "│    0    │           'bug'            │ '17862538' │\n",
      "│    1    │           'Bug'            │ '1779556'  │\n",
      "│    2    │         'feature'          │ '1748421'  │\n",
      "│    3    │         'kind/bug'         │ '1311667'  │\n",
      "│    4    │    'bugzilla/valid-bug'    │  '775343'  │\n",
      "│    5    │     'feature request'      │  '673334'  │\n",
      "│    6    │       'kind/feature'       │  '657014'  │\n",
      "│    7    │        'type: bug'         │  '647673'  │\n",
      "│    8    │         'Feature'          │  '583649'  │\n",
      "│    9    │        'Type: Bug'         │  '409901'  │\n",
      "│   10    │     'feature-request'      │  '389593'  │\n",
      "│   11    │         'type:bug'         │  '302032'  │\n",
      "│   12    │  'bugzilla/severity-high'  │  '290834'  │\n",
      "│   13    │ 'bugzilla/severity-medium' │  '277575'  │\n",
      "│   14    │     'Feature Request'      │  '268235'  │\n",
      "│   15    │       'new feature'        │  '216290'  │\n",
      "│   16    │   'bugzilla/invalid-bug'   │  '213122'  │\n",
      "│   17    │         'type/bug'         │  '192226'  │\n",
      "│   18    │        '[Type] Bug'        │  '159564'  │\n",
      "│   19    │      'type: feature'       │  '143799'  │\n",
      "└─────────┴────────────────────────────┴────────────┘\n"
     ]
    }
   ],
   "source": [
    "query(`\n",
    "SELECT\n",
    "    label,\n",
    "    COUNT() AS c\n",
    "FROM gh_events\n",
    "ARRAY JOIN issue_labels.name AS label\n",
    "WHERE type IN ('IssuesEvent', 'PullRequestEvent', 'IssueCommentEvent') AND action IN ('created', 'opened', 'labeled') AND (label ILIKE '%bug%' OR label ILIKE '%feature%')\n",
    "GROUP BY label\n",
    "ORDER BY c DESC\n",
    "LIMIT 20\n",
    "`).then(console.table);"
   ]
  },
  {
   "cell_type": "code",
   "execution_count": 5,
   "id": "3920a35a-3577-420b-8124-883631db5e67",
   "metadata": {},
   "outputs": [
    {
     "name": "stdout",
     "output_type": "stream",
     "text": [
      "┌─────────┬────────────┬───────────┬───────────────────┐\n",
      "│ (index) │    bugs    │ features  │       ratio       │\n",
      "├─────────┼────────────┼───────────┼───────────────────┤\n",
      "│    0    │ '28972336' │ '7546825' │ 3.839009914765481 │\n",
      "└─────────┴────────────┴───────────┴───────────────────┘\n"
     ]
    }
   ],
   "source": [
    "query(`\n",
    "SELECT\n",
    "    sum(label ILIKE '%bug%') AS bugs,\n",
    "    sum(label ILIKE '%feature%') AS features,\n",
    "    bugs / features AS ratio\n",
    "FROM gh_events\n",
    "ARRAY JOIN issue_labels.name AS label\n",
    "WHERE type IN ('IssuesEvent', 'PullRequestEvent', 'IssueCommentEvent') AND action IN ('created', 'opened', 'labeled') AND (label ILIKE '%bug%' OR label ILIKE '%feature%')\n",
    "`).then(console.table);"
   ]
  },
  {
   "cell_type": "markdown",
   "id": "dc8aace9-2308-4690-8fdc-696c414257fd",
   "metadata": {},
   "source": [
    "Every feature generates 3.84 bugs on average."
   ]
  },
  {
   "cell_type": "markdown",
   "id": "694a112e-3bd4-4d57-b978-8b0e52d9b2d0",
   "metadata": {},
   "source": [
    "## The longest repository names"
   ]
  },
  {
   "cell_type": "code",
   "execution_count": 6,
   "id": "a9870b6b-b305-4bd4-a01c-e097922fce5f",
   "metadata": {},
   "outputs": [
    {
     "name": "stdout",
     "output_type": "stream",
     "text": [
      "┌─────────┬─────────┬────────────────────────────────────────────────────────────────────────────────────────────────────────────────────────────────────────────────┐\n",
      "│ (index) │ count() │                                                                   repo_name                                                                    │\n",
      "├─────────┼─────────┼────────────────────────────────────────────────────────────────────────────────────────────────────────────────────────────────────────────────┤\n",
      "│    0    │   '1'   │ 'JonathanJonathanJonathanJonathanJonatha/JonathanJonathanJonathanJonathanJonathanJonathanJonathanJonathanJonathanJonathanJonathanJonathanJona' │\n",
      "│    1    │   '1'   │ 'WWWWWWWWWWWWWWWWWWWWWWWWWWWMWWWWWWWWWWW/WWWWWWWWWWWWWWWWWWWWWWWWWWWWWWWWWWWWWWWWWWWWWWWWWWWWWWWWWWWWWWWWWWWWWWWWWWWWWWWWWWWWWWWWWWWWWWWWWWWW' │\n",
      "│    2    │   '1'   │ 'joooooooooooooooooooooooooooooooooooooj/jooooooooooooooooooooooooooooooooooooooooooooooooooooooooooooooooooooooooooooooooooooooooooooooooooo' │\n",
      "│    3    │   '1'   │ 'ELECTRONICATOMATHEMATICORRELANGEOMITALD/data-image-png-base64-iVBORw0KGgoAAAANSUhEUgAAAhIAAAISCAYAAACZPSa-AAAgAElEQVR4nO3dW5bbOrJFUVrD-e-y68' │\n",
      "│    4    │   '7'   │ 'strackoverflowwwwwwwwwwwwwwwwwwwwwwwwww/maximum-repository-title-length-is-super-long-but-its-a-free-country-so-go-ahead-and-make-it-longggg' │\n",
      "│    5    │  '15'   │ 'fkdjfkdkfjskfjsldkfjvndkslakfjgkdlskfjg/fksfekgkslgkkdjfkdlskfjkfkdlslakdjfkekjlklfkjdkslkjfojksjdfaskdjfsalkdfj-laskfjls-kdajfoasjfpoawefjk' │\n",
      "│    6    │   '4'   │ 'joooooooooooooooooooooooooooooooooooooj/jooooooooooooooooooooooooooooooooooooooooooooooooooooooooooooooooooooooooooooooooooooooooooooooooooj' │\n",
      "│    7    │  '45'   │ 'uwuwuwuwuwuwuwuwuwuwuwuwuwuwuwuwuwuwuwu/uwuwuwuwuwuwuwuwuwuwuwuwuwuwuwuwuwuwuwuuwuwuwuwuwuwuwuwuwuwuwuwuwuwuwuwuwuwuwuuwuwuwuwuwuwuwuwuwuwuw' │\n",
      "│    8    │   '1'   │ 'UDtUf4aRyjv7nU3YTg056xCJw1ghAJYXgad7oB5/hJJRB7rpa3IXwX8HRsA1B4jCDmlZBY9fAzXZWNPyhrsXYG5kCeC4RPFqKQ4I9sAu1aNzX2G6wAkBjm8BjPfKjdubEqkmeAIkIwgu' │\n",
      "│    9    │   '1'   │ '1ABC2DEF3GHI4JKL5MNO6PQRS7TUV8WXYZ90RON/data-image-png-base64-iVBORw0KGgoAAAANSUhEUgAAAhIAAAISCAYAAACZPSa-AAAgAElEQVR4nO3dW5bbOrJFUVrD-e-y68' │\n",
      "│   10    │   '2'   │ 'GOOMBAAAAAAAAAAAAAAAAAAAAAAAAAAAAAAAAAA/GOOMBAAAAAAAAAAAAAAAAAAAAAAAAAAAAAAAAAAAAAAAAAAAAAAAAAAAAAAAAAAAAAAAAAAAAAAAAAAAAAAAAAAAAAAAAAAAAAAA' │\n",
      "│   11    │   '5'   │ 'accounts-inheritance-finders-of-america/eeeeeeeeeeeeeeeeeeeeeeeeeeeeeeeeeeeeeeeeeeeeeeeeeeeeeeeeeeeeeeeeeeeeeeeeeeeeeeeeeeeeeeeeeeeeeeeeeeee' │\n",
      "│   12    │   '1'   │ 'dldadnasjndfsjafajnsdfadnfadfkoafasdklk/fjkdasifjasdiofasiodfasjdogasdgajsdpgasdpgasjkdgo-askdpgspkdgvjaspgpasjidpgjiajisdgpjioasdpigasgpjia' │\n",
      "│   13    │   '1'   │ 'PERIODICTABLEOFELEMENTSYNTHETICOMPOUNDS/data-image-png-base64-iVBORw0KGgoAAAANSUhEUgAAAhIAAAISCAYAAACZPSa-AAAgAElEQVR4nO3dW5bbOrJFUVrD-e-y68' │\n",
      "│   14    │   '1'   │ 'a-a-a-a-a-a-a-a-a-a-a-a-a-a-a-a-a-a-a-a/a-a-a-a-a-a-a-a-a-a-a-a-a-a-a-a-a-a-a-a-a-a-a-a-a-a-a-a-a-a-a-a-a-a-a-a-a-a-a-a-a-a-a-a-a-a-a-a-a-a-' │\n",
      "│   15    │   '1'   │ 'git-git-git-git-git-git-git-git-git-git/git.git.git.git.git.git.git.git.git.git.git.git.git.git.git.git.git.git.git.git.git.git.git.git.git.' │\n",
      "│   16    │   '2'   │ 'xvideos-xnxx-pornhub-xhamster-jerkmate/chengren-chengrenshequ-chengrendizhi-chengrenwangzhan-chengrenpian-chengrenshipin-chengrenshipin-seq'  │\n",
      "│   17    │   '1'   │ 'ALPHANUMERICALDRONTELOGICALCHEMYSTERIOS/https-www.google.com-search-q-Maki-BOT-E2-80-94-Yesterday-at-11-3A32-PM-Role-name-changed-From-ne-1'  │\n",
      "│   18    │   '3'   │ 'biubiubiubiubiubiubiubiubiubiubiubiubiu/biubiubiubiubiubiubiubiubiubiubiubiubiubiubiubiubiubiubiubiubiubiubiubiubiubiubiubiubiubiubiubiubiu'  │\n",
      "│   19    │   '1'   │ 'COMNETORGINFOBIZUSNAMEDOMAINSCIENCENTAG/https-www.google.com-search-q-Maki-BOT-E2-80-94-Yesterday-at-11-3A32-PM-Role-name-changed-From-ne-1'  │\n",
      "└─────────┴─────────┴────────────────────────────────────────────────────────────────────────────────────────────────────────────────────────────────────────────────┘\n"
     ]
    }
   ],
   "source": [
    "query(`\n",
    "SELECT COUNT(), repo_name\n",
    "FROM gh_events\n",
    "WHERE type = 'WatchEvent'\n",
    "GROUP BY repo_name\n",
    "ORDER BY length(repo_name) DESC\n",
    "LIMIT 20\n",
    "`).then(console.table);"
   ]
  },
  {
   "cell_type": "markdown",
   "id": "1fb51796-46ee-4756-bb75-1a4f97f109f6",
   "metadata": {},
   "source": [
    "The most favorite of the insane is the \"132 e's\". Did you miss the [story](https://iliana.fyi/blog/e98e/)?"
   ]
  },
  {
   "cell_type": "markdown",
   "id": "68a179ce-ad6a-43a7-86fb-bb4f4d7feaa3",
   "metadata": {},
   "source": [
    "## The shortest repository names"
   ]
  },
  {
   "cell_type": "code",
   "execution_count": 7,
   "id": "f80797c6-426c-4b35-8bb7-0c8b05e33fbc",
   "metadata": {},
   "outputs": [
    {
     "name": "stdout",
     "output_type": "stream",
     "text": [
      "┌─────────┬───────────┬─────────┐\n",
      "│ (index) │ repo_name │ count() │\n",
      "├─────────┼───────────┼─────────┤\n",
      "│    0    │   'f/f'   │  '11'   │\n",
      "│    1    │   'e/m'   │   '1'   │\n",
      "│    2    │   's/s'   │   '3'   │\n",
      "│    3    │   '2/2'   │   '3'   │\n",
      "│    4    │   '2/1'   │   '1'   │\n",
      "│    5    │  'Xe/h'   │   '7'   │\n",
      "│    6    │  '69/a'   │   '3'   │\n",
      "│    7    │  'as/a'   │  '343'  │\n",
      "│    8    │  '3x/n'   │   '2'   │\n",
      "│    9    │  'hf/q'   │   '5'   │\n",
      "│   10    │  '7f/h'   │   '2'   │\n",
      "│   11    │  'Xe/x'   │  '68'   │\n",
      "│   12    │  'i/AI'   │   '1'   │\n",
      "│   13    │  'f/pq'   │  '163'  │\n",
      "│   14    │  'mg/i'   │   '4'   │\n",
      "│   15    │  'tj/n'   │ '16671' │\n",
      "│   16    │  'cv/t'   │  '32'   │\n",
      "│   17    │  '9H/Z'   │   '1'   │\n",
      "│   18    │  'gc/e'   │   '1'   │\n",
      "│   19    │  '9H/F'   │   '2'   │\n",
      "└─────────┴───────────┴─────────┘\n"
     ]
    }
   ],
   "source": [
    "query(`\n",
    "SELECT repo_name, COUNT()\n",
    "FROM gh_events\n",
    "WHERE type = 'WatchEvent' AND repo_name LIKE '%_/_%'\n",
    "GROUP BY repo_name\n",
    "ORDER BY length(repo_name) ASC\n",
    "LIMIT 20\n",
    "`).then(console.table);"
   ]
  },
  {
   "cell_type": "markdown",
   "id": "9a268556-5d84-48a6-b9b6-e0836da8fc53",
   "metadata": {},
   "source": [
    "I'm surprised that tj/n is a real thing. f/pq is also a real thing and also related to node.js. Maybe node.js developers are addicted to short names?"
   ]
  },
  {
   "cell_type": "markdown",
   "id": "b6683f83-863d-4612-b99c-7379c68397cd",
   "metadata": {},
   "source": [
    "## Repositories with ClickHouse-realted comments"
   ]
  },
  {
   "cell_type": "code",
   "execution_count": 2,
   "id": "729a1a91-41af-4759-a40d-352b5621cfa9",
   "metadata": {},
   "outputs": [
    {
     "name": "stdout",
     "output_type": "stream",
     "text": [
      "┌─────────┬─────────────────────────────────────┬─────────┐\n",
      "│ (index) │              repo_name              │ count() │\n",
      "├─────────┼─────────────────────────────────────┼─────────┤\n",
      "│    0    │       'ClickHouse/ClickHouse'       │ '17878' │\n",
      "│    1    │         'yandex/ClickHouse'         │ '3405'  │\n",
      "│    2    │    'ClickHouse/clickhouse-jdbc'     │ '1049'  │\n",
      "│    3    │   'AlexAkulov/clickhouse-backup'    │  '990'  │\n",
      "│    4    │   'Altinity/clickhouse-operator'    │  '961'  │\n",
      "│    5    │         'airbytehq/airbyte'         │  '758'  │\n",
      "│    6    │     'ClickHouse/clickhouse-go'      │  '601'  │\n",
      "│    7    │          'PostHog/posthog'          │  '586'  │\n",
      "│    8    │         'ibis-project/ibis'         │  '569'  │\n",
      "│    9    │          'getsentry/snuba'          │  '419'  │\n",
      "│   10    │    'mymarilyn/clickhouse-driver'    │  '378'  │\n",
      "│   11    │   'Vertamedia/clickhouse-grafana'   │  '333'  │\n",
      "│   12    │       'datafuselabs/databend'       │  '319'  │\n",
      "│   13    │ 'housepower/ClickHouse-Native-JDBC' │  '317'  │\n",
      "│   14    │    'ClickHouse/clickhouse-odbc'     │  '313'  │\n",
      "│   15    │     'DataDog/integrations-core'     │  '299'  │\n",
      "│   16    │     'PostHog/charts-clickhouse'     │  '299'  │\n",
      "│   17    │         'erda-project/erda'         │  '294'  │\n",
      "│   18    │  'xzkostyan/clickhouse-sqlalchemy'  │  '211'  │\n",
      "│   19    │     'sentry-kubernetes/charts'      │  '210'  │\n",
      "└─────────┴─────────────────────────────────────┴─────────┘\n"
     ]
    }
   ],
   "source": [
    "query(`\n",
    "SELECT repo_name, COUNT()\n",
    "FROM gh_events\n",
    "WHERE type = 'IssueCommentEvent' AND body ILIKE '%ClickHouse%'\n",
    "GROUP BY repo_name\n",
    "ORDER BY COUNT() DESC\n",
    "LIMIT 20\n",
    "`).then(console.table);"
   ]
  },
  {
   "cell_type": "markdown",
   "id": "779e1901-71b1-46f2-a4bf-7d072b8adb30",
   "metadata": {},
   "source": [
    "The most popular is Sentry Snuba, then ClickHouse Kubernetes Operator, ClickHouse Grafana, then Python, Go, ODBC, JDBC drivers."
   ]
  },
  {
   "cell_type": "markdown",
   "id": "2270be94-9561-41a2-b46a-d011788b7b7f",
   "metadata": {},
   "source": [
    "## Most popular comments on GitHub"
   ]
  },
  {
   "cell_type": "code",
   "execution_count": 2,
   "id": "3103ec61-2333-4780-a170-c3a010ac4bf4",
   "metadata": {},
   "outputs": [
    {
     "name": "stdout",
     "output_type": "stream",
     "text": [
      "┌─────────┬──────────────────────┬──────────┐\n",
      "│ (index) │         body         │ count()  │\n",
      "├─────────┼──────────────────────┼──────────┤\n",
      "│    0    │ 'Superseded by #6.'  │ '848802' │\n",
      "│    1    │ 'Superseded by #7.'  │ '795429' │\n",
      "│    2    │ 'Superseded by #5.'  │ '723298' │\n",
      "│    3    │ 'Superseded by #9.'  │ '713050' │\n",
      "│    4    │ 'Superseded by #8.'  │ '704076' │\n",
      "│    5    │ 'Superseded by #4.'  │ '638744' │\n",
      "│    6    │ 'Superseded by #10.' │ '627573' │\n",
      "│    7    │ 'Superseded by #11.' │ '599726' │\n",
      "│    8    │ 'Superseded by #12.' │ '577443' │\n",
      "│    9    │      'Thanks!'       │ '560428' │\n",
      "│   10    │ 'Superseded by #16.' │ '535624' │\n",
      "│   11    │ 'Superseded by #17.' │ '535345' │\n",
      "│   12    │ 'Superseded by #21.' │ '529687' │\n",
      "│   13    │ 'Superseded by #13.' │ '529110' │\n",
      "│   14    │ 'Superseded by #20.' │ '526920' │\n",
      "│   15    │ 'Superseded by #18.' │ '523926' │\n",
      "│   16    │ 'Superseded by #14.' │ '518783' │\n",
      "│   17    │ 'Superseded by #19.' │ '517929' │\n",
      "│   18    │ 'Superseded by #15.' │ '514886' │\n",
      "│   19    │ 'Superseded by #3.'  │ '506982' │\n",
      "└─────────┴──────────────────────┴──────────┘\n"
     ]
    }
   ],
   "source": [
    "query(`\n",
    "SELECT body, COUNT()\n",
    "FROM gh_events\n",
    "WHERE type = 'IssueCommentEvent' AND notEmpty(body) AND length(body) < 100\n",
    "GROUP BY body\n",
    "ORDER BY COUNT() DESC\n",
    "LIMIT 20\n",
    "`).then(console.table);"
   ]
  },
  {
   "cell_type": "markdown",
   "id": "e020fa8d-43e4-4688-ad2d-900c6a9a23b4",
   "metadata": {},
   "source": [
    "The `Superseded by #..` are comments created by dependabot automatically."
   ]
  },
  {
   "cell_type": "markdown",
   "id": "967a5445-ce2a-4c0e-b3ca-ae467fb5f53b",
   "metadata": {},
   "source": [
    "## GitHub roulette\n",
    "\n",
    "If we roll a dice and SELECT 20 ramdon repositories with proprtional to the number of stars, what will we get?"
   ]
  },
  {
   "cell_type": "code",
   "execution_count": 3,
   "id": "85dd9cf7-d7de-40d0-adbd-38a3417bdbc4",
   "metadata": {},
   "outputs": [
    {
     "name": "stdout",
     "output_type": "stream",
     "text": [
      "┌─────────┬───────────────────────────────────────┐\n",
      "│ (index) │               repo_name               │\n",
      "├─────────┼───────────────────────────────────────┤\n",
      "│    0    │           'typicode/hotel'            │\n",
      "│    1    │          'philipxjm/Steward'          │\n",
      "│    2    │          'Jay113355/NBTEdit'          │\n",
      "│    3    │         'atom/teletype-crdt'          │\n",
      "│    4    │        'RainwayApp/sachiel-ts'        │\n",
      "│    5    │         'typesense/typesense'         │\n",
      "│    6    │       'Snakehater/3DEnviroment'       │\n",
      "│    7    │            'zeit/next.js'             │\n",
      "│    8    │        'electronicarts/EASTL'         │\n",
      "│    9    │           'genn-team/genn'            │\n",
      "│   10    │ 'danielbeach/dataEngineeringTemplate' │\n",
      "│   11    │   'wrathkuiye/spring-cloud-gateway'   │\n",
      "│   12    │       'willthames/ansible-lint'       │\n",
      "│   13    │        'carla-simulator/carla'        │\n",
      "│   14    │        'devfullcycle/goexpert'        │\n",
      "│   15    │            'eleven-sh/cli'            │\n",
      "│   16    │             'jpr5/ngrep'              │\n",
      "│   17    │        'mpurland/ReactiveBind'        │\n",
      "│   18    │      'cursospython/CursosPython'      │\n",
      "│   19    │        'ryanoasis/nerd-fonts'         │\n",
      "└─────────┴───────────────────────────────────────┘\n"
     ]
    }
   ],
   "source": [
    "query(`\n",
    "SELECT repo_name\n",
    "FROM gh_events\n",
    "WHERE type = 'WatchEvent'\n",
    "ORDER BY RAND()\n",
    "LIMIT 20\n",
    "`).then(console.table);"
   ]
  },
  {
   "cell_type": "markdown",
   "id": "88aeab66-584f-4ae3-abf2-d4af74fb2ae2",
   "metadata": {},
   "source": [
    "This is the true \"face\" of GitHub. Run a few queries and you can estimate and taste the Octoverse this way."
   ]
  }
 ],
 "metadata": {
  "kernelspec": {
   "display_name": "JavaScript (Node.js)",
   "language": "javascript",
   "name": "javascript"
  },
  "language_info": {
   "file_extension": ".js",
   "mimetype": "application/javascript",
   "name": "javascript",
   "version": "16.13.2"
  }
 },
 "nbformat": 4,
 "nbformat_minor": 5
}
