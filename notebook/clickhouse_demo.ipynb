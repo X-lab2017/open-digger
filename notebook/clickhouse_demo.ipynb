{
 "cells": [
  {
   "cell_type": "code",
   "execution_count": 1,
   "id": "b8208ce6-8333-4421-9e2d-c59b094e511b",
   "metadata": {},
   "outputs": [],
   "source": [
    "var openDigger = require('../src/open_digger')\n",
    "var query = openDigger.driver.clickhouse.query;"
   ]
  },
  {
   "cell_type": "markdown",
   "id": "45c01716-fb94-48f1-9891-2e2401c3e029",
   "metadata": {},
   "source": [
    "# Clickhouse demo\n",
    "\n",
    "This notebook is a comprehensive Clickhouse database demo to show how to use Clickhouse instance to analyze GitHub event data.\n",
    "\n",
    "The content is from \"Milovidov A., 2020. Everything You Ever Wanted To Know About GitHub (But Were Afraid To Ask), https://ghe.clickhouse.tech/\"."
   ]
  },
  {
   "cell_type": "markdown",
   "id": "0fb58a78-a4bd-48f1-b627-9f1a7b7bce2f",
   "metadata": {},
   "source": [
    "## Counting stars\n",
    "\n",
    "The `WatchEvent` is the event when someone gives a star to a repo."
   ]
  },
  {
   "cell_type": "code",
   "execution_count": 28,
   "id": "f873a476-7e9d-4c5c-a479-d2cad5313192",
   "metadata": {},
   "outputs": [
    {
     "name": "stdout",
     "output_type": "stream",
     "text": [
      "┌─────────┬─────────────┐\n",
      "│ (index) │ total_count │\n",
      "├─────────┼─────────────┤\n",
      "│    0    │ '283543268' │\n",
      "└─────────┴─────────────┘\n"
     ]
    }
   ],
   "source": [
    "query(`\n",
    "SELECT COUNT() AS total_count\n",
    "FROM github_log.events\n",
    "WHERE type = 'WatchEvent'\n",
    "`).then(console.table);"
   ]
  },
  {
   "cell_type": "markdown",
   "id": "7bec10b9-9b9d-4728-9a35-d314cee67689",
   "metadata": {},
   "source": [
    "> There is no events when someone removes the star. This means that star removal is invisible, but it should be rare in any case, so we can calculate the approximate number of stars from these events.\n",
    "> \n",
    "> Pay attention, the star counting here is incorrect because of the following reasons:\n",
    "> \n",
    "> - The stars before 1/1/2015 are not counted by 'WatchEvent' because the data source GH Archive did not start recording Event API until 1/1/2015.\n",
    "> - Some stars are removed or re-stared several times so it may lead to missing stars or duplicated stars.\n",
    "> - `repo_name` may have been changed across the data.\n",
    "> \n",
    "> So, our suggestions are:\n",
    "> \n",
    "> - Use Github API to fetch the real-time star count.\n",
    "> - Use `repo_id` instead of `repo_name` as the indexes of analysis.\n",
    "\n",
    "There are over 200 million stars on GitHub!\n",
    "\n",
    "Let's validate the star count by comparing it for Clickhosue repository:"
   ]
  },
  {
   "cell_type": "code",
   "execution_count": 29,
   "id": "6596ca22-ae7c-4ed7-88b3-818ba1b6d6fc",
   "metadata": {},
   "outputs": [
    {
     "name": "stdout",
     "output_type": "stream",
     "text": [
      "┌─────────┬──────────────────┐\n",
      "│ (index) │ clickhouse_stars │\n",
      "├─────────┼──────────────────┤\n",
      "│    0    │     '25275'      │\n",
      "└─────────┴──────────────────┘\n"
     ]
    }
   ],
   "source": [
    "query(`\n",
    "SELECT COUNT() AS clickhouse_stars\n",
    "FROM github_log.events\n",
    "WHERE type = 'WatchEvent' AND repo_name IN ('ClickHouse/ClickHouse', 'yandex/ClickHouse')\n",
    "GROUP BY action\n",
    "`).then(console.table);"
   ]
  },
  {
   "cell_type": "markdown",
   "id": "82a53bda-4b7d-46ec-b605-03a65da16ada",
   "metadata": {},
   "source": [
    "The number looks consistent with the real star count.\n",
    "\n",
    "> The repository was moved from yandex/ClickHouse to ClickHouse/ClickHouse on October 2019, so we have to sum up the numbers for two repos."
   ]
  },
  {
   "cell_type": "markdown",
   "id": "37f346af-b016-435b-a0fe-d31356af3a7c",
   "metadata": {},
   "source": [
    "## Top repositories by stars\n",
    "\n",
    "This is the first report that comes to mind."
   ]
  },
  {
   "cell_type": "code",
   "execution_count": 30,
   "id": "c04d9917-f339-4437-b216-5c59bc824afe",
   "metadata": {},
   "outputs": [
    {
     "name": "stdout",
     "output_type": "stream",
     "text": [
      "┌─────────┬──────────────────────────────────────────┬──────────┐\n",
      "│ (index) │                repo_name                 │  stars   │\n",
      "├─────────┼──────────────────────────────────────────┼──────────┤\n",
      "│    0    │             '996icu/996.ICU'             │ '269284' │\n",
      "│    1    │               'vuejs/vue'                │ '225458' │\n",
      "│    2    │       'FreeCodeCamp/FreeCodeCamp'        │ '224460' │\n",
      "│    3    │          'sindresorhus/awesome'          │ '219746' │\n",
      "│    4    │             'facebook/react'             │ '211408' │\n",
      "│    5    │    'kamranahmedse/developer-roadmap'     │ '211287' │\n",
      "│    6    │  'jwasham/coding-interview-university'   │ '204941' │\n",
      "│    7    │         'tensorflow/tensorflow'          │ '192288' │\n",
      "│    8    │    'donnemartin/system-design-primer'    │ '189378' │\n",
      "│    9    │       'freeCodeCamp/freeCodeCamp'        │ '176142' │\n",
      "│   10    │ 'EbookFoundation/free-programming-books' │ '163799' │\n",
      "│   11    │        'getify/You-Dont-Know-JS'         │ '160868' │\n",
      "│   12    │            'flutter/flutter'             │ '157672' │\n",
      "│   13    │          'TheAlgorithms/Python'          │ '148453' │\n",
      "│   14    │     'trekhleb/javascript-algorithms'     │ '147907' │\n",
      "│   15    │        'public-apis/public-apis'         │ '145162' │\n",
      "│   16    │    'danistefanovic/build-your-own-x'     │ '143230' │\n",
      "│   17    │             'torvalds/linux'             │ '135869' │\n",
      "│   18    │       'jackfrued/Python-100-Days'        │ '134569' │\n",
      "│   19    │            'CyC2018/CS-Notes'            │ '132873' │\n",
      "└─────────┴──────────────────────────────────────────┴──────────┘\n"
     ]
    }
   ],
   "source": [
    "query(`\n",
    "SELECT repo_name, COUNT() AS stars\n",
    "FROM github_log.events WHERE type = 'WatchEvent'\n",
    "GROUP BY repo_name\n",
    "ORDER BY stars DESC\n",
    "LIMIT 20\n",
    "`).then(console.table);"
   ]
  },
  {
   "cell_type": "markdown",
   "id": "94fdac2c-edaf-4f22-9dd7-2419cd4c66a7",
   "metadata": {},
   "source": [
    "The top repository ever is \"996.ICU\" — it's not for software, but more like a project to improve awareness about work schedules in different Chinese companies. But wait... it's not the top repo. We see two copies of \"FreeCodeCamp\": FreeCodeCamp/FreeCodeCamp and freeCodeCamp/freeCodeCamp. If we sum up the stars it will be 224460 + 176141 = 400601 — more than \"996.ICU\". So, the top repository on GitHub is an educational resource.\n",
    "\n",
    "Next we see: JavaScript framework, then Machine Learning framework, then another JavaScript framework, then the list of Awesome Awesomeness, then the JavaScript education resources, then another education project, another education project, UI framework, education, education, UI framework, JS something, CSS framework and finally in 17th place there is Linux. Let's stop at this point.\n",
    "\n",
    "Bottomline: GitHub is full of JavaScript frameworks and education content. But don't jump to conclusions yet — we've only scratched the surface!"
   ]
  },
  {
   "cell_type": "markdown",
   "id": "ba095aeb-7474-4e2a-ac00-d0c162a19389",
   "metadata": {},
   "source": [
    "## Distribution of repositories by star count\n",
    "\n",
    "By the way, what is the distribution of repositories by stars?"
   ]
  },
  {
   "cell_type": "code",
   "execution_count": 32,
   "id": "5ab1be24-eaef-44b9-9f81-163449ebf29b",
   "metadata": {},
   "outputs": [
    {
     "name": "stdout",
     "output_type": "stream",
     "text": [
      "┌─────────┬────────┬────────────┐\n",
      "│ (index) │ stars  │ repo_count │\n",
      "├─────────┼────────┼────────────┤\n",
      "│    0    │   1    │ '20372322' │\n",
      "│    1    │   10   │ '1458353'  │\n",
      "│    2    │  100   │  '252240'  │\n",
      "│    3    │  1000  │  '33769'   │\n",
      "│    4    │ 10000  │   '2290'   │\n",
      "│    5    │ 100000 │    '30'    │\n",
      "└─────────┴────────┴────────────┘\n"
     ]
    }
   ],
   "source": [
    "query(`SELECT exp10(floor(log10(c))) AS stars, uniq(name) AS repo_count\n",
    "FROM\n",
    "(\n",
    "    SELECT\n",
    "        repo_name AS name,\n",
    "        COUNT() AS c\n",
    "    FROM github_log.events\n",
    "    WHERE type = 'WatchEvent'\n",
    "    GROUP BY name\n",
    ")\n",
    "GROUP BY stars\n",
    "ORDER BY stars\n",
    "`).then(console.table);"
   ]
  },
  {
   "cell_type": "markdown",
   "id": "fbce29bc-8c31-4569-83fe-23dc88ef5391",
   "metadata": {},
   "source": [
    "There are only 22 million repositories that have at least one star. There are only 1.4 million repositories with 10+ stars. Just 280,000 repositories have over 100 stars, 36,000 have over 1k stars, 2,290 have over 10k stars and there are only 30 repositories with more than 100k stars."
   ]
  },
  {
   "cell_type": "markdown",
   "id": "e013476a-98f8-40ec-ad22-21a625d5b7d5",
   "metadata": {},
   "source": [
    "## The total number of reposioties on GitHub"
   ]
  },
  {
   "cell_type": "code",
   "execution_count": 33,
   "id": "4d2e430a-acf1-4852-bfe0-b944b508b4c2",
   "metadata": {},
   "outputs": [
    {
     "name": "stdout",
     "output_type": "stream",
     "text": [
      "┌─────────┬─────────────┐\n",
      "│ (index) │ total_repo  │\n",
      "├─────────┼─────────────┤\n",
      "│    0    │ '230019574' │\n",
      "└─────────┴─────────────┘\n"
     ]
    }
   ],
   "source": [
    "query(`\n",
    "SELECT uniq(repo_name) AS total_repo\n",
    "FROM github_log.events\n",
    "`).then(console.table);"
   ]
  },
  {
   "cell_type": "markdown",
   "id": "9c64781b-737a-42d7-9b3f-1333d7559925",
   "metadata": {},
   "source": [
    "If we will take all stars and distribute uniformly across all the repositories, every repository will get 1.23 stars."
   ]
  },
  {
   "cell_type": "markdown",
   "id": "5b5d37de-85e3-4019-b9ce-5cd424a733b8",
   "metadata": {},
   "source": [
    "## How has the list of top repositories changed over the years?\n",
    "\n",
    "We will look at the data from 2015 to 2021."
   ]
  },
  {
   "cell_type": "code",
   "execution_count": 34,
   "id": "ee1fbdb8-b44b-4259-8c0d-61b83ab68b6b",
   "metadata": {},
   "outputs": [
    {
     "name": "stdout",
     "output_type": "stream",
     "text": [
      "┌─────────┬──────┬──────────────────────────────────────────────────┬──────────┐\n",
      "│ (index) │ year │                    repo_name                     │  stars   │\n",
      "├─────────┼──────┼──────────────────────────────────────────────────┼──────────┤\n",
      "│    0    │ 2015 │           'FreeCodeCamp/FreeCodeCamp'            │ '38362'  │\n",
      "│    1    │ 2015 │             'facebook/react-native'              │ '25337'  │\n",
      "│    2    │ 2015 │              'sindresorhus/awesome'              │ '24361'  │\n",
      "│    3    │ 2015 │                  'apple/swift'                   │ '23193'  │\n",
      "│    4    │ 2015 │                 'facebook/react'                 │ '22924'  │\n",
      "│    5    │ 2015 │         'jlevy/the-art-of-command-line'          │ '21722'  │\n",
      "│    6    │ 2015 │             'NARKOZ/hacker-scripts'              │ '20093'  │\n",
      "│    7    │ 2015 │                 'twbs/bootstrap'                 │ '19488'  │\n",
      "│    8    │ 2015 │          'google/material-design-lite'           │ '17684'  │\n",
      "│    9    │ 2015 │               'airbnb/javascript'                │ '17539'  │\n",
      "│   10    │ 2015 │                  'nvbn/thefuck'                  │ '17048'  │\n",
      "│   11    │ 2015 │           'vhf/free-programming-books'           │ '16893'  │\n",
      "│   12    │ 2015 │            'getify/You-Dont-Know-JS'             │ '16377'  │\n",
      "│   13    │ 2015 │                 'atom/electron'                  │ '16134'  │\n",
      "│   14    │ 2015 │             'tensorflow/tensorflow'              │ '15604'  │\n",
      "│   15    │ 2015 │           'FreeCodeCamp/freecodecamp'            │ '15243'  │\n",
      "│   16    │ 2015 │               'angular/angular.js'               │ '14802'  │\n",
      "│   17    │ 2015 │                    'nylas/N1'                    │ '14706'  │\n",
      "│   18    │ 2015 │                   'atom/atom'                    │ '13698'  │\n",
      "│   19    │ 2015 │                  'mbostock/d3'                   │ '13489'  │\n",
      "│   20    │ 2016 │           'FreeCodeCamp/FreeCodeCamp'            │ '181317' │\n",
      "│   21    │ 2016 │      'jwasham/google-interview-university'       │ '31149'  │\n",
      "│   22    │ 2016 │           'vhf/free-programming-books'           │ '28798'  │\n",
      "│   23    │ 2016 │                   'vuejs/vue'                    │ '28768'  │\n",
      "│   24    │ 2016 │             'tensorflow/tensorflow'              │ '28248'  │\n",
      "│   25    │ 2016 │                 'facebook/react'                 │ '25977'  │\n",
      "│   26    │ 2016 │            'getify/You-Dont-Know-JS'             │ '24941'  │\n",
      "│   27    │ 2016 │              'sindresorhus/awesome'              │ '24796'  │\n",
      "│   28    │ 2016 │             'chrislgarry/Apollo-11'              │ '23012'  │\n",
      "│   29    │ 2016 │                  'yarnpkg/yarn'                  │ '20668'  │\n",
      "│   30    │ 2016 │             'facebook/react-native'              │ '19750'  │\n",
      "│   31    │ 2016 │                 'twbs/bootstrap'                 │ '19345'  │\n",
      "│   32    │ 2016 │               'airbnb/javascript'                │ '18996'  │\n",
      "│   33    │ 2016 │                'joshbuchea/HEAD'                 │ '18360'  │\n",
      "│   34    │ 2016 │       'facebookincubator/create-react-app'       │ '18083'  │\n",
      "│   35    │ 2016 │                'firehol/netdata'                 │ '17751'  │\n",
      "│   36    │ 2016 │             'robbyrussell/oh-my-zsh'             │ '17351'  │\n",
      "│   37    │ 2016 │   'FallibleInc/security-guide-for-developers'    │ '15672'  │\n",
      "│   38    │ 2016 │                'github/gitignore'                │ '15193'  │\n",
      "│   39    │ 2016 │               'electron/electron'                │ '15124'  │\n",
      "│   40    │ 2017 │           'freeCodeCamp/freeCodeCamp'            │ '90681'  │\n",
      "│   41    │ 2017 │             'tensorflow/tensorflow'              │ '49208'  │\n",
      "│   42    │ 2017 │                   'vuejs/vue'                    │ '47984'  │\n",
      "│   43    │ 2017 │                 'facebook/react'                 │ '34454'  │\n",
      "│   44    │ 2017 │      'mr-mig/every-programmer-should-know'       │ '30416'  │\n",
      "│   45    │ 2017 │        'kamranahmedse/developer-roadmap'         │ '30392'  │\n",
      "│   46    │ 2017 │              'sindresorhus/awesome'              │ '29042'  │\n",
      "│   47    │ 2017 │            'getify/You-Dont-Know-JS'             │ '28881'  │\n",
      "│   48    │ 2017 │        'thedaviddias/Front-End-Checklist'        │ '24592'  │\n",
      "│   49    │ 2017 │       'facebookincubator/create-react-app'       │ '24451'  │\n",
      "│   50    │ 2017 │                'Microsoft/vscode'                │ '23486'  │\n",
      "│   51    │ 2017 │        'donnemartin/system-design-primer'        │ '22423'  │\n",
      "│   52    │ 2017 │             'GoogleChrome/puppeteer'             │ '22166'  │\n",
      "│   53    │ 2017 │               'airbnb/javascript'                │ '22098'  │\n",
      "│   54    │ 2017 │ 'sdmg15/Best-websites-a-programmer-should-visit' │ '21500'  │\n",
      "│   55    │ 2017 │      'jwasham/coding-interview-university'       │ '21317'  │\n",
      "│   56    │ 2017 │                 'twbs/bootstrap'                 │ '21108'  │\n",
      "│   57    │ 2017 │             'toddmotto/public-apis'              │ '20824'  │\n",
      "│   58    │ 2017 │             'robbyrussell/oh-my-zsh'             │ '19312'  │\n",
      "│   59    │ 2017 │    'kamranahmedse/design-patterns-for-humans'    │ '19270'  │\n",
      "│   60    │ 2018 │                   'vuejs/vue'                    │ '51129'  │\n",
      "│   61    │ 2018 │         'trekhleb/javascript-algorithms'         │ '38910'  │\n",
      "│   62    │ 2018 │                 'facebook/react'                 │ '38420'  │\n",
      "│   63    │ 2018 │                'flutter/flutter'                 │ '37948'  │\n",
      "│   64    │ 2018 │        'danistefanovic/build-your-own-x'         │ '37408'  │\n",
      "│   65    │ 2018 │             'tensorflow/tensorflow'              │ '36935'  │\n",
      "│   66    │ 2018 │        'kamranahmedse/developer-roadmap'         │ '35215'  │\n",
      "│   67    │ 2018 │        'donnemartin/system-design-primer'        │ '31196'  │\n",
      "│   68    │ 2018 │           'CyC2018/Interview-Notebook'           │ '29851'  │\n",
      "│   69    │ 2018 │                'Microsoft/vscode'                │ '26194'  │\n",
      "│   70    │ 2018 │             'kelseyhightower/nocode'             │ '26091'  │\n",
      "│   71    │ 2018 │        'xingshaocheng/architect-awesome'         │ '25594'  │\n",
      "│   72    │ 2018 │              'sindresorhus/awesome'              │ '24959'  │\n",
      "│   73    │ 2018 │                    'ry/deno'                     │ '22423'  │\n",
      "│   74    │ 2018 │            'getify/You-Dont-Know-JS'             │ '21990'  │\n",
      "│   75    │ 2018 │               'tensorflow/models'                │ '21488'  │\n",
      "│   76    │ 2018 │             'GoogleChrome/puppeteer'             │ '21115'  │\n",
      "│   77    │ 2018 │           'leonardomso/33-js-concepts'           │ '20828'  │\n",
      "│   78    │ 2018 │           'facebook/create-react-app'            │ '20289'  │\n",
      "│   79    │ 2018 │                  'axios/axios'                   │ '20071'  │\n",
      "│   80    │ 2019 │                 '996icu/996.ICU'                 │ '244343' │\n",
      "│   81    │ 2019 │           'jackfrued/Python-100-Days'            │ '76269'  │\n",
      "│   82    │ 2019 │              'Snailclimb/JavaGuide'              │ '53285'  │\n",
      "│   83    │ 2019 │              'TheAlgorithms/Python'              │ '48564'  │\n",
      "│   84    │ 2019 │                'CyC2018/CS-Notes'                │ '46527'  │\n",
      "│   85    │ 2019 │          'MisterBooo/LeetCodeAnimation'          │ '41415'  │\n",
      "│   86    │ 2019 │                   'vuejs/vue'                    │ '38958'  │\n",
      "│   87    │ 2019 │                'flutter/flutter'                 │ '38610'  │\n",
      "│   88    │ 2019 │              'doocs/advanced-java'               │ '35247'  │\n",
      "│   89    │ 2019 │               'microsoft/Terminal'               │ '31733'  │\n",
      "│   90    │ 2019 │        'kamranahmedse/developer-roadmap'         │ '30790'  │\n",
      "│   91    │ 2019 │         'jlevy/the-art-of-command-line'          │ '30680'  │\n",
      "│   92    │ 2019 │                'M4cs/BabySploit'                 │ '29352'  │\n",
      "│   93    │ 2019 │                 'facebook/react'                 │ '28908'  │\n",
      "│   94    │ 2019 │        'donnemartin/system-design-primer'        │ '26993'  │\n",
      "│   95    │ 2019 │             'tensorflow/tensorflow'              │ '26985'  │\n",
      "│   96    │ 2019 │                'macrozheng/mall'                 │ '26321'  │\n",
      "│   97    │ 2019 │              'sindresorhus/awesome'              │ '26250'  │\n",
      "│   98    │ 2019 │              'testerSunshine/12306'              │ '26200'  │\n",
      "│   99    │ 2019 │             'azl397985856/leetcode'              │ '25690'  │\n",
      "│   100   │ 2020 │          'labuladong/fucking-algorithm'          │ '81496'  │\n",
      "│   101   │ 2020 │      'jwasham/coding-interview-university'       │ '63016'  │\n",
      "│   102   │ 2020 │        'kamranahmedse/developer-roadmap'         │ '54210'  │\n",
      "│   103   │ 2020 │            'public-apis/public-apis'             │ '40584'  │\n",
      "│   104   │ 2020 │        'donnemartin/system-design-primer'        │ '40353'  │\n",
      "│   105   │ 2020 │     'EbookFoundation/free-programming-books'     │ '39990'  │\n",
      "│   106   │ 2020 │              'TheAlgorithms/Python'              │ '36471'  │\n",
      "│   107   │ 2020 │        'danistefanovic/build-your-own-x'         │ '36424'  │\n",
      "│   108   │ 2020 │                'CyC2018/CS-Notes'                │ '35335'  │\n",
      "│   109   │ 2020 │              'microsoft/PowerToys'               │ '35277'  │\n",
      "│   110   │ 2020 │         'trekhleb/javascript-algorithms'         │ '34985'  │\n",
      "│   111   │ 2020 │                'flutter/flutter'                 │ '33083'  │\n",
      "│   112   │ 2020 │              'Snailclimb/JavaGuide'              │ '32766'  │\n",
      "│   113   │ 2020 │                 'denoland/deno'                  │ '32702'  │\n",
      "│   114   │ 2020 │              'sindresorhus/awesome'              │ '30552'  │\n",
      "│   115   │ 2020 │                   'vuejs/vue'                    │ '28935'  │\n",
      "│   116   │ 2020 │              'ytdl-org/youtube-dl'               │ '28861'  │\n",
      "│   117   │ 2020 │             'florinpop17/app-ideas'              │ '28817'  │\n",
      "│   118   │ 2020 │           'jackfrued/Python-100-Days'            │ '27985'  │\n",
      "│   119   │ 2020 │            'CSSEGISandData/COVID-19'             │ '26920'  │\n",
      "│   120   │ 2021 │            'public-apis/public-apis'             │ '69498'  │\n",
      "│   121   │ 2021 │      'jwasham/coding-interview-university'       │ '55955'  │\n",
      "│   122   │ 2021 │     'EbookFoundation/free-programming-books'     │ '50631'  │\n",
      "│   123   │ 2021 │        'kamranahmedse/developer-roadmap'         │ '45129'  │\n",
      "│   124   │ 2021 │        'donnemartin/system-design-primer'        │ '41809'  │\n",
      "│   125   │ 2021 │         'trekhleb/javascript-algorithms'         │ '41664'  │\n",
      "│   126   │ 2021 │        'danistefanovic/build-your-own-x'         │ '36814'  │\n",
      "│   127   │ 2021 │              'sindresorhus/awesome'              │ '35549'  │\n",
      "│   128   │ 2021 │             'ossu/computer-science'              │ '33657'  │\n",
      "│   129   │ 2021 │              'TheAlgorithms/Python'              │ '31967'  │\n",
      "│   130   │ 2021 │        'microsoft/Web-Dev-For-Beginners'         │ '30902'  │\n",
      "│   131   │ 2021 │                'flutter/flutter'                 │ '30458'  │\n",
      "│   132   │ 2021 │           'microsoft/ML-For-Beginners'           │ '29376'  │\n",
      "│   133   │ 2021 │                'CyC2018/CS-Notes'                │ '29069'  │\n",
      "│   134   │ 2021 │         '30-seconds/30-seconds-of-code'          │ '26281'  │\n",
      "│   135   │ 2021 │             'ant-design/ant-design'              │ '24622'  │\n",
      "│   136   │ 2021 │          'labuladong/fucking-algorithm'          │ '24330'  │\n",
      "│   137   │ 2021 │           'freeCodeCamp/freeCodeCamp'            │ '24310'  │\n",
      "│   138   │ 2021 │                 'facebook/react'                 │ '23260'  │\n",
      "│   139   │ 2021 │              'Snailclimb/JavaGuide'              │ '23250'  │\n",
      "└─────────┴──────┴──────────────────────────────────────────────────┴──────────┘\n"
     ]
    }
   ],
   "source": [
    "query(`\n",
    "SELECT toYear(created_at) AS year, repo_name, COUNT() AS stars\n",
    "FROM github_log.events\n",
    "WHERE type = 'WatchEvent' AND year <= 2021\n",
    "GROUP BY repo_name, year\n",
    "ORDER BY year, stars DESC\n",
    "LIMIT 20 BY year\n",
    "`).then(console.table);"
   ]
  },
  {
   "cell_type": "markdown",
   "id": "f5590db6-b319-4288-9f6b-d9d0250bde95",
   "metadata": {},
   "source": [
    "Looks into the data in 2020, the top repo is a Chinese educational resource to prepare for an algorithms interview. Actually, amost all of the top 10 are related to education. The only exceptions are: Deno — a JS runtime and CSSEGISandData/COVID-19 — a repo for COVID-19 data. Yes, I expected that 2020 would be about COVID-19 but happily enough it's not only about COVID-19."
   ]
  },
  {
   "cell_type": "code",
   "execution_count": 39,
   "id": "6a406405-efbb-4aa0-b96c-c8cea97fcdf8",
   "metadata": {},
   "outputs": [
    {
     "data": {
      "application/vnd.plotly.v1+json": {
       "data": [
        {
         "name": "996icu/996.icu",
         "visible": "legendonly",
         "y": [
          0,
          0,
          0,
          0,
          0,
          0,
          0,
          0,
          0,
          0,
          0,
          0,
          0,
          0,
          0,
          0,
          0,
          0,
          0,
          0,
          0,
          0,
          0,
          0,
          0,
          0,
          0,
          0,
          0,
          0,
          0,
          0,
          0,
          0,
          0,
          0,
          0,
          0,
          0,
          0,
          0,
          0,
          0,
          0,
          0,
          0,
          0,
          0,
          0,
          0,
          97017,
          129210,
          7297,
          2334,
          1977,
          1518,
          1124,
          1019,
          1354,
          1493,
          872,
          559,
          853,
          884,
          1044,
          721,
          1018,
          1146,
          1155,
          782,
          782,
          911,
          2463,
          701,
          1091,
          902,
          760,
          833,
          688,
          731,
          640,
          420,
          652,
          710,
          702,
          771,
          754,
          773,
          623
         ]
        },
        {
         "name": "donnemartin/system-design-primer",
         "y": [
          0,
          0,
          0,
          0,
          0,
          0,
          0,
          0,
          0,
          0,
          0,
          0,
          0,
          0,
          0,
          0,
          0,
          0,
          0,
          0,
          0,
          0,
          0,
          0,
          0,
          0,
          14257,
          2344,
          779,
          697,
          709,
          647,
          901,
          797,
          726,
          566,
          859,
          1082,
          1270,
          830,
          785,
          671,
          10704,
          6456,
          4045,
          1700,
          1511,
          1283,
          1914,
          1898,
          2787,
          1915,
          1800,
          4598,
          1927,
          2230,
          2049,
          1755,
          1868,
          2252,
          2668,
          2425,
          2406,
          7018,
          5209,
          2755,
          2915,
          2498,
          3082,
          2711,
          3279,
          3387,
          3423,
          2877,
          2842,
          4121,
          4496,
          3995,
          3077,
          2749,
          3267,
          1246,
          4293,
          5423,
          4090,
          3951,
          5044,
          9115,
          4404
         ]
        },
        {
         "name": "ebookfoundation/free-programming-books",
         "y": [
          0,
          0,
          0,
          0,
          0,
          0,
          0,
          0,
          0,
          0,
          0,
          0,
          0,
          0,
          0,
          0,
          0,
          0,
          0,
          0,
          0,
          0,
          0,
          0,
          0,
          0,
          0,
          0,
          0,
          2485,
          1936,
          2793,
          2950,
          2130,
          1541,
          1473,
          1875,
          1449,
          1580,
          1452,
          1472,
          1875,
          1482,
          1755,
          1237,
          1516,
          1295,
          1124,
          1468,
          1232,
          2696,
          2184,
          1751,
          1432,
          1776,
          1660,
          1908,
          1414,
          2299,
          2020,
          2239,
          1660,
          2017,
          7156,
          4151,
          3321,
          2101,
          3546,
          2724,
          3848,
          3325,
          3902,
          3693,
          5058,
          3672,
          5147,
          4831,
          4467,
          3786,
          3841,
          5771,
          1342,
          3547,
          5476,
          3060,
          2691,
          6465,
          3283,
          2419
         ]
        },
        {
         "name": "facebook/react",
         "y": [
          1792,
          2782,
          2400,
          2058,
          1657,
          1492,
          1681,
          1577,
          1790,
          1940,
          1857,
          1898,
          2028,
          1686,
          2422,
          2206,
          1794,
          1816,
          2159,
          2071,
          2778,
          2514,
          2374,
          2129,
          3014,
          2828,
          2990,
          2654,
          2757,
          2715,
          2975,
          2676,
          3111,
          3252,
          2894,
          2588,
          3155,
          2423,
          3366,
          2738,
          2682,
          8826,
          2845,
          2693,
          2578,
          2374,
          2544,
          2196,
          2667,
          2612,
          3209,
          2915,
          2757,
          2127,
          2311,
          2129,
          2061,
          2124,
          2055,
          1941,
          1831,
          1821,
          2026,
          2278,
          2454,
          2120,
          2545,
          2286,
          2129,
          2127,
          2095,
          2070,
          2118,
          1879,
          2345,
          2000,
          1893,
          2004,
          2100,
          2004,
          2048,
          790,
          1925,
          2154,
          2283,
          1783,
          3178,
          2404,
          2035
         ]
        },
        {
         "name": "freecodecamp/freecodecamp",
         "y": [
          55,
          37,
          36,
          29,
          59,
          1191,
          10637,
          6186,
          3731,
          7807,
          11098,
          12739,
          17260,
          19092,
          16645,
          16157,
          17995,
          20294,
          10347,
          10121,
          11320,
          13203,
          14379,
          14504,
          15403,
          14025,
          14616,
          14961,
          16767,
          13768,
          1195,
          1203,
          921,
          1193,
          1039,
          936,
          1033,
          926,
          1210,
          951,
          854,
          1062,
          1581,
          1270,
          1034,
          2418,
          1044,
          982,
          1155,
          1127,
          2910,
          3306,
          1607,
          1081,
          1216,
          1053,
          1186,
          1246,
          1787,
          1234,
          1136,
          1091,
          1194,
          1556,
          1619,
          1301,
          1607,
          1506,
          1486,
          1665,
          1243,
          1491,
          1495,
          2528,
          1631,
          1604,
          1581,
          1358,
          2330,
          2144,
          3994,
          1166,
          2329,
          2150,
          2459,
          2005,
          2268,
          1968,
          2283
         ]
        },
        {
         "name": "jwasham/coding-interview-university",
         "y": [
          0,
          0,
          0,
          0,
          0,
          0,
          0,
          0,
          0,
          0,
          0,
          0,
          0,
          0,
          0,
          0,
          0,
          0,
          0,
          0,
          0,
          0,
          0,
          0,
          0,
          54,
          3038,
          4450,
          1517,
          982,
          1124,
          1071,
          1036,
          1202,
          1031,
          5812,
          1831,
          1609,
          1530,
          2302,
          2336,
          1384,
          1085,
          1165,
          1331,
          1275,
          1013,
          1371,
          1103,
          1056,
          1456,
          1271,
          1412,
          1192,
          4262,
          5646,
          2272,
          1969,
          2429,
          1451,
          1987,
          3276,
          4496,
          6970,
          8298,
          4288,
          5536,
          6333,
          3848,
          5813,
          2849,
          9322,
          2924,
          1692,
          2686,
          9104,
          8617,
          10144,
          6954,
          2026,
          3784,
          1001,
          3442,
          3581,
          4022,
          5441,
          5240,
          3288,
          2911
         ]
        },
        {
         "name": "kamranahmedse/developer-roadmap",
         "y": [
          0,
          0,
          0,
          0,
          0,
          0,
          0,
          0,
          0,
          0,
          0,
          0,
          0,
          0,
          0,
          0,
          0,
          0,
          0,
          0,
          0,
          0,
          0,
          0,
          0,
          0,
          13885,
          5939,
          3244,
          1565,
          1075,
          1190,
          1113,
          961,
          777,
          643,
          9577,
          4914,
          2260,
          3229,
          1710,
          1683,
          2148,
          2038,
          1612,
          2799,
          1613,
          1632,
          6680,
          4040,
          2842,
          3149,
          2092,
          1812,
          2037,
          1878,
          1527,
          1376,
          1722,
          1635,
          2542,
          2096,
          2257,
          8179,
          4462,
          3035,
          5158,
          4933,
          5811,
          6637,
          5027,
          4073,
          6731,
          3680,
          3277,
          5192,
          4002,
          3449,
          3323,
          2876,
          3548,
          1221,
          2749,
          5081,
          3593,
          2510,
          3291,
          3723,
          2434
         ]
        },
        {
         "name": "sindresorhus/awesome",
         "y": [
          420,
          263,
          297,
          359,
          6773,
          2686,
          1137,
          2878,
          2305,
          2865,
          2009,
          2369,
          2589,
          2502,
          2288,
          1635,
          1666,
          1625,
          2017,
          2339,
          2316,
          2030,
          1757,
          2032,
          3096,
          2991,
          2441,
          1963,
          1836,
          2056,
          1889,
          2129,
          1966,
          2180,
          4240,
          2255,
          2896,
          2005,
          2966,
          2143,
          1968,
          2261,
          1696,
          1838,
          1649,
          2000,
          1905,
          1632,
          2075,
          2007,
          2767,
          2523,
          2119,
          2130,
          2219,
          2099,
          1893,
          1984,
          1983,
          2451,
          2797,
          2255,
          3369,
          2280,
          2353,
          2094,
          1991,
          2177,
          2186,
          1992,
          4359,
          2699,
          1974,
          2752,
          2245,
          3994,
          2665,
          3250,
          1801,
          1519,
          2761,
          2139,
          4449,
          6000,
          5795,
          4224,
          5185,
          4531,
          4502
         ]
        },
        {
         "name": "tensorflow/tensorflow",
         "y": [
          0,
          0,
          0,
          0,
          0,
          0,
          0,
          0,
          0,
          0,
          13674,
          1930,
          2160,
          1491,
          1734,
          2290,
          2771,
          2203,
          1997,
          2038,
          2358,
          3030,
          2841,
          3335,
          3879,
          5153,
          4420,
          3632,
          3822,
          3522,
          3486,
          3584,
          3394,
          4313,
          5215,
          4788,
          4225,
          3355,
          4406,
          3588,
          3530,
          2828,
          2745,
          2402,
          2546,
          2595,
          2516,
          2199,
          2271,
          2074,
          3452,
          2819,
          2616,
          1909,
          2212,
          1852,
          2062,
          2008,
          2057,
          1653,
          1368,
          1284,
          1603,
          1636,
          1693,
          1407,
          1500,
          1294,
          1256,
          1212,
          1611,
          1450,
          1238,
          1036,
          1251,
          1354,
          1060,
          1156,
          1120,
          1132,
          965,
          450,
          1018,
          999,
          1365,
          872,
          1062,
          913,
          1003
         ]
        },
        {
         "name": "vuejs/vue",
         "y": [
          0,
          0,
          0,
          0,
          0,
          0,
          0,
          0,
          0,
          1373,
          1559,
          1646,
          1710,
          1039,
          1416,
          2158,
          2184,
          1843,
          2215,
          2454,
          3002,
          3974,
          3488,
          3285,
          4091,
          4472,
          4609,
          3747,
          3807,
          3695,
          4181,
          3959,
          4228,
          4009,
          3668,
          3518,
          4644,
          3321,
          4587,
          3939,
          3674,
          10930,
          4026,
          3761,
          2995,
          2838,
          3233,
          3181,
          3464,
          2944,
          5548,
          4290,
          3588,
          3176,
          3222,
          2799,
          2291,
          2821,
          2418,
          2397,
          1847,
          2296,
          3050,
          3254,
          2568,
          2424,
          2717,
          2457,
          2669,
          1862,
          1852,
          1939,
          1848,
          1530,
          1699,
          1911,
          1547,
          1492,
          1697,
          1492,
          1640,
          599,
          1426,
          1526,
          1456,
          1067,
          1650,
          1224,
          1302
         ]
        }
       ],
       "layout": {
        "autosize": true,
        "title": {
         "text": "Star trend for most starred repos on GitHub"
        },
        "xaxis": {
         "autorange": true,
         "range": [
          0,
          88
         ]
        },
        "yaxis": {
         "autorange": true,
         "range": [
          -1127.4444444444446,
          21421.444444444445
         ],
         "type": "linear"
        }
       }
      },
      "image/png": "[encoded data removed]"
     },
     "execution_count": 39,
     "metadata": {},
     "output_type": "execute_result"
    }
   ],
   "source": [
    "query(`\n",
    "SELECT\n",
    "    repo AS name,\n",
    "    groupArrayInsertAt(toUInt32(c), toUInt64(dateDiff('month', toDate('2015-01-01'), month))) AS data\n",
    "FROM\n",
    "(\n",
    "    SELECT\n",
    "        lower(repo_name) AS repo,\n",
    "        toStartOfMonth(created_at) AS month,\n",
    "        count() AS c\n",
    "    FROM github_log.events\n",
    "    WHERE type = 'WatchEvent' AND repo IN\n",
    "    (\n",
    "        SELECT lower(repo_name) AS repo\n",
    "        FROM github_log.events\n",
    "        WHERE type = 'WatchEvent'\n",
    "        GROUP BY repo\n",
    "        ORDER BY count() DESC\n",
    "        LIMIT 10\n",
    "    )\n",
    "    GROUP BY\n",
    "        repo,\n",
    "        month\n",
    ")\n",
    "GROUP BY repo\n",
    "ORDER BY repo ASC\n",
    "`).then(data => {\n",
    "    openDigger.render.plotly(data.map(row => {\n",
    "        return {\n",
    "            y: row.data,\n",
    "            name: row.name,\n",
    "        }\n",
    "    }), { title: 'Star trend for most starred repos on GitHub' });\n",
    "});"
   ]
  },
  {
   "cell_type": "markdown",
   "id": "ca057827-a022-4638-ae48-7a1c207d0118",
   "metadata": {},
   "source": [
    "## How has the total number of stars changed over time?"
   ]
  },
  {
   "cell_type": "code",
   "execution_count": 40,
   "id": "29f99941-0014-4bf1-ad9f-16886f98bf19",
   "metadata": {},
   "outputs": [
    {
     "name": "stdout",
     "output_type": "stream",
     "text": [
      "┌─────────┬──────┬────────────┬──────────────┐\n",
      "│ (index) │ year │   stars    │     bar      │\n",
      "├─────────┼──────┼────────────┼──────────────┤\n",
      "│    0    │ 2015 │ '18950120' │    '███▋'    │\n",
      "│    1    │ 2016 │ '26125822' │   '█████▏'   │\n",
      "│    2    │ 2017 │ '32596822' │  '██████▌'   │\n",
      "│    3    │ 2018 │ '36964114' │  '███████▍'  │\n",
      "│    4    │ 2019 │ '45898397' │ '█████████▏' │\n",
      "│    5    │ 2020 │ '49357914' │ '█████████▋' │\n",
      "│    6    │ 2021 │ '50020951' │ '██████████' │\n",
      "│    7    │ 2022 │ '23629128' │   '████▋'    │\n",
      "└─────────┴──────┴────────────┴──────────────┘\n"
     ]
    }
   ],
   "source": [
    "query(`\n",
    "SELECT toYear(created_at) AS year, count() AS stars, bar(stars, 0, 50000000, 10) AS bar\n",
    "FROM github_log.events\n",
    "WHERE type = 'WatchEvent'\n",
    "GROUP BY year\n",
    "ORDER BY year\n",
    "`).then(console.table);"
   ]
  },
  {
   "cell_type": "markdown",
   "id": "56dedaaa-734a-4454-8458-fce971bb2245",
   "metadata": {},
   "source": [
    "We see just steady linear growth with a YoY rate of about 25%."
   ]
  },
  {
   "cell_type": "markdown",
   "id": "06b8797d-091d-45f4-b332-86a25b6888d6",
   "metadata": {},
   "source": [
    "## Who are all those people giving stars?"
   ]
  },
  {
   "cell_type": "code",
   "execution_count": 43,
   "id": "cabc8e84-a0f2-4948-bebd-894893d9f07e",
   "metadata": {},
   "outputs": [
    {
     "name": "stdout",
     "output_type": "stream",
     "text": [
      "┌─────────┬───────────────────┬──────────┐\n",
      "│ (index) │    actor_login    │  stars   │\n",
      "├─────────┼───────────────────┼──────────┤\n",
      "│    0    │      'italy'      │ '264778' │\n",
      "│    1    │      '4148'       │ '232489' │\n",
      "│    2    │     'salifm'      │ '202516' │\n",
      "│    3    │    'fly51fly'     │ '81938'  │\n",
      "│    4    │     'x0rzkov'     │ '74165'  │\n",
      "│    5    │  'CodePromoter'   │ '69735'  │\n",
      "│    6    │    'dinosoid'     │ '67502'  │\n",
      "│    7    │      'gkze'       │ '66127'  │\n",
      "│    8    │ 'aplus-developer' │ '59907'  │\n",
      "│    9    │     '5l1v3r1'     │ '54928'  │\n",
      "│   10    │   'gauravssnl'    │ '53609'  │\n",
      "│   11    │     'trippup'     │ '51609'  │\n",
      "│   12    │      'baslr'      │ '50270'  │\n",
      "│   13    │  'romanofficial'  │ '48723'  │\n",
      "│   14    │       'ik5'       │ '47782'  │\n",
      "│   15    │  'thanhtoan1196'  │ '47714'  │\n",
      "│   16    │     'esneko'      │ '46565'  │\n",
      "│   17    │    'alineai18'    │ '46400'  │\n",
      "│   18    │  'StarTheWorld'   │ '45690'  │\n",
      "│   19    │ 'nikitavoloboev'  │ '44290'  │\n",
      "└─────────┴───────────────────┴──────────┘\n"
     ]
    }
   ],
   "source": [
    "query(`\n",
    "SELECT actor_login, COUNT() AS stars\n",
    "FROM github_log.events\n",
    "WHERE type = 'WatchEvent'\n",
    "GROUP BY actor_login\n",
    "ORDER BY stars DESC\n",
    "LIMIT 20\n",
    "`).then(console.table);"
   ]
  },
  {
   "cell_type": "markdown",
   "id": "65f01272-276c-4703-925f-b3e405977a15",
   "metadata": {},
   "source": [
    "I checked the results: `italy` looks like an empty account... very suspicious.\n",
    "\n",
    "In comparison, I only gave 38 stars:"
   ]
  },
  {
   "cell_type": "code",
   "execution_count": 44,
   "id": "e1ca32a2-88aa-46fa-bed5-a4fb7588da61",
   "metadata": {},
   "outputs": [
    {
     "name": "stdout",
     "output_type": "stream",
     "text": [
      "┌─────────┬─────────────┬───────┐\n",
      "│ (index) │ actor_login │ stars │\n",
      "├─────────┼─────────────┼───────┤\n",
      "│    0    │ 'frank-zsy' │ '38'  │\n",
      "└─────────┴─────────────┴───────┘\n"
     ]
    }
   ],
   "source": [
    "query(`\n",
    "SELECT actor_login, COUNT() AS stars\n",
    "FROM github_log.events\n",
    "WHERE type = 'WatchEvent' AND actor_login = 'frank-zsy'\n",
    "GROUP BY actor_login\n",
    "`).then(console.table);"
   ]
  },
  {
   "cell_type": "markdown",
   "id": "e0d2771e-161e-4338-b1ff-508b8cd51494",
   "metadata": {},
   "source": [
    "And here are my favorites storted by the total number of stars:"
   ]
  },
  {
   "cell_type": "code",
   "execution_count": 46,
   "id": "b87447cd-274b-4521-99c2-b6a52b888a2b",
   "metadata": {},
   "outputs": [
    {
     "name": "stdout",
     "output_type": "stream",
     "text": [
      "┌─────────┬───────────────────────────────────┬──────────┐\n",
      "│ (index) │             repo_name             │  stars   │\n",
      "├─────────┼───────────────────────────────────┼──────────┤\n",
      "│    0    │     'getify/You-Dont-Know-JS'     │ '160868' │\n",
      "│    1    │    'resume/resume.github.com'     │ '64168'  │\n",
      "│    2    │        'docsifyjs/docsify'        │ '15131'  │\n",
      "│    3    │        'thunlp/GNNPapers'         │ '13751'  │\n",
      "│    4    │           'neo4j/neo4j'           │  '9611'  │\n",
      "│    5    │         'sogou/workflow'          │  '8583'  │\n",
      "│    6    │       'wuhan2020/wuhan2020'       │  '7018'  │\n",
      "│    7    │     'sxei/chrome-plugin-demo'     │  '6754'  │\n",
      "│    8    │         'actions/runner'          │  '3003'  │\n",
      "│    9    │        'thunlp/NRLPapers'         │  '2699'  │\n",
      "│   10    │      'ByteLegend/ByteLegend'      │  '2525'  │\n",
      "│   11    │       'alibaba/GraphScope'        │  '1684'  │\n",
      "│   12    │            'anvaka/pm'            │  '1391'  │\n",
      "│   13    │         'alibaba/sealer'          │  '1082'  │\n",
      "│   14    │ 'Serverless-Devs/Serverless-Devs' │  '1066'  │\n",
      "│   15    │   'git-learning-game/oh-my-git'   │  '803'   │\n",
      "│   16    │          'engula/engula'          │  '603'   │\n",
      "│   17    │      '2020NCOV/ncov-report'       │  '227'   │\n",
      "│   18    │       'pingcap/ossinsight'        │  '106'   │\n",
      "│   19    │         'sangyx/nCoV-Map'         │   '89'   │\n",
      "└─────────┴───────────────────────────────────┴──────────┘\n"
     ]
    }
   ],
   "source": [
    "query(`\n",
    "SELECT repo_name, COUNT() AS stars\n",
    "FROM github_log.events\n",
    "WHERE type = 'WatchEvent' AND repo_name IN (\n",
    "    SELECT repo_name\n",
    "    FROM github_log.events\n",
    "    WHERE type = 'WatchEvent' AND actor_login = 'frank-zsy'\n",
    ")\n",
    "GROUP BY repo_name\n",
    "ORDER BY stars DESC\n",
    "LIMIT 20\n",
    "`).then(console.table);"
   ]
  },
  {
   "cell_type": "markdown",
   "id": "6acc4b95-1615-4044-8b2c-ab8c439719b3",
   "metadata": {},
   "source": [
    "## Repository affinity list\n",
    "\n",
    "A quick question I'm eager to ask: what are the top repositories sorted by the number of stars from people who starred the ClickHouse reposiotry?"
   ]
  },
  {
   "cell_type": "code",
   "execution_count": 2,
   "id": "3444bbf8-4f05-474c-b45a-fa649164d519",
   "metadata": {},
   "outputs": [
    {
     "name": "stdout",
     "output_type": "stream",
     "text": [
      "┌─────────┬────────────────────────────────────┬────────┐\n",
      "│ (index) │             repo_name              │ stars  │\n",
      "├─────────┼────────────────────────────────────┼────────┤\n",
      "│    0    │      'tensorflow/tensorflow'       │ '7579' │\n",
      "│    1    │ 'donnemartin/system-design-primer' │ '7421' │\n",
      "│    2    │            'golang/go'             │ '6774' │\n",
      "│    3    │      'kubernetes/kubernetes'       │ '6618' │\n",
      "│    4    │       'sindresorhus/awesome'       │ '6533' │\n",
      "│    5    │           'pingcap/tidb'           │ '6467' │\n",
      "│    6    │      'prometheus/prometheus'       │ '6183' │\n",
      "│    7    │         'flutter/flutter'          │ '5860' │\n",
      "│    8    │         'grafana/grafana'          │ '5666' │\n",
      "│    9    │      'ant-design/ant-design'       │ '5629' │\n",
      "│   10    │        'avelino/awesome-go'        │ '5608' │\n",
      "│   11    │            'vuejs/vue'             │ '5589' │\n",
      "│   12    │          'gin-gonic/gin'           │ '5479' │\n",
      "│   13    │           'minio/minio'            │ '5362' │\n",
      "│   14    │          'facebook/react'          │ '5051' │\n",
      "│   15    │  'jlevy/the-art-of-command-line'   │ '5049' │\n",
      "│   16    │ 'danistefanovic/build-your-own-x'  │ '5018' │\n",
      "│   17    │           'istio/istio'            │ '4948' │\n",
      "│   18    │ 'kamranahmedse/developer-roadmap'  │ '4936' │\n",
      "│   19    │      'elastic/elasticsearch'       │ '4823' │\n",
      "└─────────┴────────────────────────────────────┴────────┘\n"
     ]
    }
   ],
   "source": [
    "query(`\n",
    "SELECT repo_name, COUNT() AS stars\n",
    "FROM github_log.events\n",
    "WHERE type = 'WatchEvent' AND actor_login IN (\n",
    "    SELECT actor_login\n",
    "    FROM github_log.events\n",
    "    WHERE type = 'WatchEvent' AND repo_name IN ('ClickHouse/ClickHouse', 'yandex/ClickHouse')\n",
    ") AND repo_name NOT IN ('ClickHouse/ClickHouse', 'yandex/ClickHouse')\n",
    "GROUP BY repo_name\n",
    "ORDER BY stars DESC\n",
    "LIMIT 20\n",
    "`).then(console.table);"
   ]
  },
  {
   "cell_type": "markdown",
   "id": "427a8a61-bac7-4e38-8db1-01fe869f6cc9",
   "metadata": {},
   "source": [
    "It's Tensorflow and TiDB. Yes, ClickHouse is friends with TiDB (they are using the ClickHouse engin under the hood for analytical queries). Then golang, prometheus and kubernetes. The overall list is slightly biased towards data-intensive applications: database engines, distributed filesystems, data orcestration, etc."
   ]
  },
  {
   "cell_type": "markdown",
   "id": "64960ed2-949c-42d6-8bca-2fb2a92d04bd",
   "metadata": {},
   "source": [
    "## Finding friends through counting stars\n",
    "\n",
    "Let me find a friend by the intersection on starred repositories."
   ]
  },
  {
   "cell_type": "code",
   "execution_count": 3,
   "id": "974feb38-e091-4a1b-9eca-02f5311f8660",
   "metadata": {},
   "outputs": [
    {
     "name": "stdout",
     "output_type": "stream",
     "text": [
      "┌─────────┬────────────────┬──────────┬─────────────┬───────┐\n",
      "│ (index) │  actor_login   │ stars_my │ stars_other │ ratio │\n",
      "├─────────┼────────────────┼──────────┼─────────────┼───────┤\n",
      "│    0    │  'frank-zsy'   │   '38'   │     '0'     │   1   │\n",
      "│    1    │   'hx94113'    │   '25'   │     '1'     │ 0.641 │\n",
      "│    2    │   'daydate'    │   '19'   │     '2'     │ 0.475 │\n",
      "│    3    │ 'lidongze0629' │   '32'   │    '65'     │ 0.311 │\n",
      "│    4    │ 'blindpirate'  │   '58'   │    '150'    │ 0.309 │\n",
      "│    5    │    'wtfil'     │   '27'   │    '73'     │ 0.243 │\n",
      "│    6    │  'Tara-Fuki'   │   '8'    │     '1'     │ 0.205 │\n",
      "│    7    │   'RayProud'   │   '9'    │     '7'     │  0.2  │\n",
      "│    8    │   'Jrmy-rbr'   │   '9'    │     '8'     │ 0.196 │\n",
      "│    9    │   'hcl0908'    │   '7'    │     '1'     │ 0.179 │\n",
      "│   10    │   'chenDSEE'   │   '7'    │     '1'     │ 0.179 │\n",
      "│   11    │   'wzl12356'   │   '9'    │    '15'     │ 0.17  │\n",
      "│   12    │   'Sophie36'   │   '7'    │     '5'     │ 0.163 │\n",
      "│   13    │   'fireber'    │   '6'    │     '0'     │ 0.158 │\n",
      "│   14    │ 'oooooutsider' │   '6'    │     '0'     │ 0.158 │\n",
      "│   15    │  'akselsoft'   │   '6'    │     '1'     │ 0.154 │\n",
      "│   16    │  'dpsisodia'   │   '6'    │     '2'     │ 0.15  │\n",
      "│   17    │    'dplrwj'    │   '6'    │     '2'     │ 0.15  │\n",
      "│   18    │  'Wammy1995'   │   '6'    │     '6'     │ 0.136 │\n",
      "│   19    │  'steven-wan'  │   '6'    │     '7'     │ 0.133 │\n",
      "└─────────┴────────────────┴──────────┴─────────────┴───────┘\n"
     ]
    }
   ],
   "source": [
    "query(`\n",
    "WITH repo_name IN (\n",
    "    SELECT repo_name\n",
    "    FROM github_log.events\n",
    "    WHERE type = 'WatchEvent' AND actor_login = 'frank-zsy'\n",
    ") AS is_my_repo\n",
    "SELECT actor_login, SUM(is_my_repo) AS stars_my, SUM(NOT is_my_repo) AS stars_other, ROUND(stars_my / (38 + stars_other), 3) AS ratio\n",
    "FROM github_log.events\n",
    "WHERE type = 'WatchEvent'\n",
    "GROUP BY actor_login\n",
    "ORDER BY ratio DESC\n",
    "LIMIT 20\n",
    "`).then(console.table);"
   ]
  },
  {
   "cell_type": "markdown",
   "id": "874f2385-3558-4f00-adec-65c81af8b935",
   "metadata": {},
   "source": [
    "Here is my friends by data... and I don't know what to do with this list."
   ]
  },
  {
   "cell_type": "markdown",
   "id": "cc799a8b-aacc-49eb-9ec1-f7cffc92e9ee",
   "metadata": {},
   "source": [
    "## Affinity by issues and PRs\n",
    "\n",
    "Authors that contributed to ClikcHouse also contributed to what repositories?"
   ]
  },
  {
   "cell_type": "code",
   "execution_count": 4,
   "id": "43a23167-67af-4343-b7ca-5e09de398d5c",
   "metadata": {},
   "outputs": [
    {
     "name": "stdout",
     "output_type": "stream",
     "text": [
      "┌─────────┬───────────────────────────────────────────────────┬────────┬─────────┐\n",
      "│ (index) │                     repo_name                     │  prs   │ authors │\n",
      "├─────────┼───────────────────────────────────────────────────┼────────┼─────────┤\n",
      "│    0    │             'apache/incubator-doris'              │ '440'  │  '27'   │\n",
      "│    1    │                  'apache/spark'                   │  '95'  │  '22'   │\n",
      "│    2    │             'yandex/clickhouse-jdbc'              │ '103'  │  '22'   │\n",
      "│    3    │             'Homebrew/homebrew-core'              │  '57'  │  '22'   │\n",
      "│    4    │                  'pingcap/tidb'                   │ '803'  │  '20'   │\n",
      "│    5    │                  'apache/flink'                   │ '293'  │  '19'   │\n",
      "│    6    │                 'grafana/grafana'                 │ '291'  │  '17'   │\n",
      "│    7    │                'facebook/rocksdb'                 │  '36'  │  '17'   │\n",
      "│    8    │              'kubernetes/kubernetes'              │  '54'  │  '16'   │\n",
      "│    9    │ 'rms-support-letter/rms-support-letter.github.io' │  '17'  │  '16'   │\n",
      "│   10    │               'kubernetes/website'                │  '24'  │  '15'   │\n",
      "│   11    │          'Altinity/clickhouse-operator'           │ '498'  │  '15'   │\n",
      "│   12    │                'pocoproject/poco'                 │  '30'  │  '15'   │\n",
      "│   13    │               'avelino/awesome-go'                │  '40'  │  '15'   │\n",
      "│   14    │                 'ansible/ansible'                 │  '42'  │  '14'   │\n",
      "│   15    │                   'helm/charts'                   │  '40'  │  '13'   │\n",
      "│   16    │                  'NixOS/nixpkgs'                  │ '2642' │  '13'   │\n",
      "│   17    │                    'golang/go'                    │  '24'  │  '12'   │\n",
      "│   18    │                 'pingcap/kvproto'                 │  '36'  │  '12'   │\n",
      "│   19    │               'Vertamedia/chproxy'                │  '36'  │  '12'   │\n",
      "└─────────┴───────────────────────────────────────────────────┴────────┴─────────┘\n"
     ]
    }
   ],
   "source": [
    "query(`\n",
    "SELECT repo_name, COUNT() AS prs, uniq(actor_login) AS authors\n",
    "FROM github_log.events\n",
    "WHERE type = 'PullRequestEvent' AND action = 'opened' AND actor_login IN\n",
    "(\n",
    "    SELECT actor_login\n",
    "    FROM github_log.events\n",
    "    WHERE type = 'PullRequestEvent' AND action = 'opened' AND repo_name IN ('yandex/ClickHouse', 'ClickHouse/ClickHouse')\n",
    ") AND repo_name NOT LIKE '%ClickHouse%'\n",
    "GROUP BY repo_name\n",
    "ORDER BY authors DESC\n",
    "LIMIT 20\n",
    "`).then(console.table);"
   ]
  },
  {
   "cell_type": "markdown",
   "id": "1cb65355-295d-4f9f-8e40-2dbd02258073",
   "metadata": {},
   "source": [
    "Authors that filed an issue in ClickHouse also filed issues in what repositories?"
   ]
  },
  {
   "cell_type": "code",
   "execution_count": 5,
   "id": "97f7fe1b-173c-49ff-8368-0de7220865d5",
   "metadata": {},
   "outputs": [
    {
     "name": "stdout",
     "output_type": "stream",
     "text": [
      "┌─────────┬─────────────────────────────────┬───────┬─────────┐\n",
      "│ (index) │            repo_name            │  prs  │ authors │\n",
      "├─────────┼─────────────────────────────────┼───────┼─────────┤\n",
      "│    0    │        'grafana/grafana'        │ '315' │  '107'  │\n",
      "│    1    │           'golang/go'           │ '283' │  '86'   │\n",
      "│    2    │ 'Altinity/clickhouse-operator'  │ '179' │  '63'   │\n",
      "│    3    │ 'Vertamedia/clickhouse-grafana' │ '112' │  '55'   │\n",
      "│    4    │  'mymarilyn/clickhouse-driver'  │ '80'  │  '54'   │\n",
      "│    5    │     'kubernetes/kubernetes'     │ '143' │  '53'   │\n",
      "│    6    │    'yandex/clickhouse-jdbc'     │ '79'  │  '50'   │\n",
      "│    7    │   'apache/incubator-superset'   │ '159' │  '49'   │\n",
      "│    8    │        'ansible/ansible'        │ '78'  │  '48'   │\n",
      "│    9    │     'elastic/elasticsearch'     │ '133' │  '47'   │\n",
      "│   10    │ 'AlexAkulov/clickhouse-backup'  │ '111' │  '46'   │\n",
      "│   11    │         'pingcap/tidb'          │ '288' │  '43'   │\n",
      "│   12    │    'apache/incubator-doris'     │ '208' │  '40'   │\n",
      "│   13    │      'kshvakov/clickhouse'      │ '71'  │  '36'   │\n",
      "│   14    │        'apache/superset'        │ '56'  │  '36'   │\n",
      "│   15    │        'prestodb/presto'        │ '117' │  '34'   │\n",
      "│   16    │          'minio/minio'          │ '54'  │  '34'   │\n",
      "│   17    │     'prometheus/prometheus'     │ '68'  │  '33'   │\n",
      "│   18    │       'metabase/metabase'       │ '105' │  '33'   │\n",
      "│   19    │        'sysown/proxysql'        │ '70'  │  '32'   │\n",
      "└─────────┴─────────────────────────────────┴───────┴─────────┘\n"
     ]
    }
   ],
   "source": [
    "query(`\n",
    "SELECT repo_name, COUNT() AS prs, uniq(actor_login) AS authors\n",
    "FROM github_log.events\n",
    "WHERE type = 'IssuesEvent' AND action = 'opened' AND actor_login IN\n",
    "(\n",
    "    SELECT actor_login\n",
    "    FROM github_log.events\n",
    "    WHERE type = 'IssuesEvent' AND action = 'opened' AND repo_name IN ('yandex/ClickHouse', 'ClickHouse/ClickHouse')\n",
    ") AND repo_name NOT LIKE '%ClickHouse%'\n",
    "GROUP BY repo_name\n",
    "ORDER BY authors DESC\n",
    "LIMIT 20\n",
    "`).then(console.table);"
   ]
  },
  {
   "cell_type": "markdown",
   "id": "ce4a7549-a2a4-4a8f-a4c0-a44009cc613c",
   "metadata": {},
   "source": [
    "## Repositories with the most stars over one day"
   ]
  },
  {
   "cell_type": "code",
   "execution_count": 6,
   "id": "5b4e350b-78be-4506-b895-0a5ac80b6605",
   "metadata": {},
   "outputs": [
    {
     "name": "stdout",
     "output_type": "stream",
     "text": [
      "┌─────────┬───────────────────────────────────────┬──────────────┬─────────┐\n",
      "│ (index) │               repo_name               │     day      │  stars  │\n",
      "├─────────┼───────────────────────────────────────┼──────────────┼─────────┤\n",
      "│    0    │           '996icu/996.ICU'            │ '2019-03-29' │ '31429' │\n",
      "│    1    │          'UsergeTeam/Userge'          │ '2022-01-02' │ '18943' │\n",
      "│    2    │     'UsergeTeam/Userge-Assistant'     │ '2022-01-02' │ '18872' │\n",
      "│    3    │           'M4cs/BabySploit'           │ '2019-09-08' │ '17707' │\n",
      "│    4    │         'microsoft/Terminal'          │ '2019-05-07' │ '12779' │\n",
      "│    5    │      'flightlessmango/MangoHud'       │ '2021-07-16' │ '9790'  │\n",
      "│    6    │             'apple/swift'             │ '2015-12-04' │ '9318'  │\n",
      "│    7    │        'TheBreakery/Bloomware'        │ '2022-02-07' │ '7667'  │\n",
      "│    8    │        'ant-design/ant-design'        │ '2021-05-16' │ '7552'  │\n",
      "│    9    │           'desktop/desktop'           │ '2020-11-16' │ '7070'  │\n",
      "│   10    │         'mrpond/BlockTheSpot'         │ '2021-07-20' │ '6602'  │\n",
      "│   11    │          'amattson21/gitjob'          │ '2016-10-08' │ '6511'  │\n",
      "│   12    │            'httpie/httpie'            │ '2022-04-15' │ '6469'  │\n",
      "│   13    │ 'mr-mig/every-programmer-should-know' │ '2017-09-05' │ '6011'  │\n",
      "│   14    │    'jlevy/the-art-of-command-line'    │ '2015-06-16' │ '5598'  │\n",
      "│   15    │            'yarnpkg/yarn'             │ '2016-10-12' │ '5542'  │\n",
      "│   16    │   'NVIDIA/open-gpu-kernel-modules'    │ '2022-05-12' │ '5372'  │\n",
      "│   17    │      'DankMemer/webhook-server'       │ '2019-02-16' │ '5372'  │\n",
      "│   18    │        'tensorflow/tensorflow'        │ '2015-11-10' │ '4983'  │\n",
      "│   19    │   'danistefanovic/build-your-own-x'   │ '2018-05-13' │ '4898'  │\n",
      "└─────────┴───────────────────────────────────────┴──────────────┴─────────┘\n"
     ]
    }
   ],
   "source": [
    "query(`\n",
    "SELECT repo_name, toDate(created_at) AS day, COUNT() AS stars\n",
    "FROM github_log.events\n",
    "WHERE type = 'WatchEvent'\n",
    "GROUP BY repo_name, day\n",
    "ORDER BY stars DESC\n",
    "LIMIT 1 BY repo_name\n",
    "LIMIT 20\n",
    "`).then(console.table);"
   ]
  },
  {
   "cell_type": "markdown",
   "id": "7e3384d5-9037-46cd-aaa1-ac010391cf80",
   "metadata": {},
   "source": [
    "## Repositories with the highest growth YoY"
   ]
  },
  {
   "cell_type": "code",
   "execution_count": 13,
   "id": "bdbba561-963c-4e2f-9fb9-a58a2e7fae43",
   "metadata": {},
   "outputs": [
    {
     "name": "stdout",
     "output_type": "stream",
     "text": [
      "┌─────────┬─────────────────────────────────────────────────────┬───────────┬───────────┬───────┐\n",
      "│ (index) │                      repo_name                      │ stars2021 │ stars2020 │  yoy  │\n",
      "├─────────┼─────────────────────────────────────────────────────┼───────────┼───────────┼───────┤\n",
      "│    0    │                  'doocs/leetcode'                   │  '8366'   │  '1000'   │ 8.366 │\n",
      "│    1    │           'Developer-Y/cs-video-courses'            │  '10273'  │  '1881'   │ 5.461 │\n",
      "│    2    │                 'appwrite/appwrite'                 │  '10909'  │  '2106'   │ 5.18  │\n",
      "│    3    │                  'Ryujinx/Ryujinx'                  │  '7967'   │  '1720'   │ 4.632 │\n",
      "│    4    │                 'authelia/authelia'                 │  '8911'   │  '2048'   │ 4.351 │\n",
      "│    5    │             'ethereumbook/ethereumbook'             │  '4752'   │  '1111'   │ 4.277 │\n",
      "│    6    │                'freqtrade/freqtrade'                │  '11151'  │  '2683'   │ 4.156 │\n",
      "│    7    │        'OpenZeppelin/openzeppelin-contracts'        │  '5712'   │  '1382'   │ 4.133 │\n",
      "│    8    │       'rougier/scientific-visualization-book'       │  '4822'   │  '1220'   │ 3.952 │\n",
      "│    9    │             'signalapp/Signal-Desktop'              │  '5924'   │  '1614'   │ 3.67  │\n",
      "│   10    │             'signalapp/Signal-Android'              │  '8565'   │  '2339'   │ 3.662 │\n",
      "│   11    │                  'lbryio/lbry-sdk'                  │  '3698'   │  '1018'   │ 3.633 │\n",
      "│   12    │ 'tuteng/Best-websites-a-programmer-should-visit-zh' │  '4024'   │  '1108'   │ 3.632 │\n",
      "│   13    │               'signalapp/Signal-iOS'                │  '3933'   │  '1088'   │ 3.615 │\n",
      "│   14    │             'doocs/source-code-hunter'              │  '5841'   │  '1618'   │ 3.61  │\n",
      "│   15    │                  'pemistahl/grex'                   │  '3506'   │  '1016'   │ 3.451 │\n",
      "│   16    │            'AllThingsSmitty/css-protips'            │  '5135'   │  '1513'   │ 3.394 │\n",
      "│   17    │      'sudheerj/javascript-interview-questions'      │  '4825'   │  '1456'   │ 3.314 │\n",
      "│   18    │                 'ethereum/solidity'                 │  '5191'   │  '1593'   │ 3.259 │\n",
      "│   19    │           'Loyalsoldier/v2ray-rules-dat'            │  '5283'   │  '1629'   │ 3.243 │\n",
      "└─────────┴─────────────────────────────────────────────────────┴───────────┴───────────┴───────┘\n"
     ]
    }
   ],
   "source": [
    "query(`\n",
    "WITH toYear(created_at) AS year\n",
    "SELECT repo_name, SUM(year = 2021) AS stars2021, SUM(year = 2020) AS stars2020, ROUND(stars2021 / stars2020, 3) AS yoy\n",
    "FROM github_log.events\n",
    "WHERE type = 'WatchEvent'\n",
    "GROUP BY repo_name\n",
    "HAVING MIN(created_at) <= '2020-01-01 00:00:00' AND stars2020 >= 1000\n",
    "ORDER BY yoy DESC\n",
    "LIMIT 20\n",
    "`).then(console.table);"
   ]
  },
  {
   "cell_type": "markdown",
   "id": "35d674b8-3871-48d9-9a69-eb8e75ade657",
   "metadata": {},
   "source": [
    "A Chinese repository [doocs/leetcode](https://github.com/doocs/leetcode) has grown more than 8 times in stars in 2021!"
   ]
  },
  {
   "cell_type": "markdown",
   "id": "682657d4-808a-480d-a551-5dd5fe0f12ab",
   "metadata": {},
   "source": [
    "## Repositories with the worst stagnation"
   ]
  },
  {
   "cell_type": "code",
   "execution_count": 15,
   "id": "4cd5c564-7b92-4210-8146-29419fa04471",
   "metadata": {},
   "outputs": [
    {
     "name": "stdout",
     "output_type": "stream",
     "text": [
      "┌─────────┬─────────────────────────────────────────┬───────────┬───────────┬───────┐\n",
      "│ (index) │                repo_name                │ stars2021 │ stars2020 │  yoy  │\n",
      "├─────────┼─────────────────────────────────────────┼───────────┼───────────┼───────┤\n",
      "│    0    │            'samdenty/gqless'            │    '0'    │  '2505'   │   0   │\n",
      "│    1    │          'shuleisanshi/myblog'          │    '9'    │  '1406'   │ 0.006 │\n",
      "│    2    │ 'mdbootstrap/bootstrap-material-design' │   '43'    │  '1737'   │ 0.025 │\n",
      "│    3    │          'yuanming-hu/taichi'           │   '114'   │  '4309'   │ 0.026 │\n",
      "│    4    │          'kbariotis/templates'          │   '54'    │  '1949'   │ 0.028 │\n",
      "│    5    │          'luruke/browser-2020'          │   '248'   │  '8166'   │ 0.03  │\n",
      "│    6    │         'WaykiChain/WaykiChain'         │   '41'    │  '1143'   │ 0.036 │\n",
      "│    7    │        'victorqribeiro/isocity'         │   '103'   │  '2501'   │ 0.041 │\n",
      "│    8    │    'microsoft/ApplicationInspector'     │   '177'   │  '3877'   │ 0.046 │\n",
      "│    9    │        'pattle/simpsons-in-css'         │   '75'    │  '1540'   │ 0.049 │\n",
      "│   10    │       'ritiek/spotify-downloader'       │   '77'    │  '1463'   │ 0.053 │\n",
      "│   11    │              'cdr/sshcode'              │   '76'    │  '1409'   │ 0.054 │\n",
      "│   12    │             'antfu/vueuse'              │   '150'   │  '2616'   │ 0.057 │\n",
      "│   13    │        'Yours3lf/rpi-vk-driver'         │   '68'    │  '1067'   │ 0.064 │\n",
      "│   14    │           'twilco/kosmonaut'            │   '96'    │  '1475'   │ 0.065 │\n",
      "│   15    │        'NoEndToLF/ChinaMapView'         │   '75'    │  '1159'   │ 0.065 │\n",
      "│   16    │       'VGraupera/1on1-questions'        │   '543'   │  '8309'   │ 0.065 │\n",
      "│   17    │      'hwayne/awesome-cold-showers'      │   '229'   │  '3046'   │ 0.075 │\n",
      "│   18    │             'mozilla/send'              │   '421'   │  '5551'   │ 0.076 │\n",
      "│   19    │            'axa-group/Parsr'            │   '201'   │  '2559'   │ 0.079 │\n",
      "└─────────┴─────────────────────────────────────────┴───────────┴───────────┴───────┘\n"
     ]
    }
   ],
   "source": [
    "query(`\n",
    "WITH toYear(created_at) AS year\n",
    "SELECT repo_name, SUM(year = 2021) AS stars2021, SUM(year = 2020) AS stars2020, ROUND(stars2021 / stars2020, 3) AS yoy\n",
    "FROM github_log.events\n",
    "WHERE type = 'WatchEvent'\n",
    "GROUP BY repo_name\n",
    "HAVING MIN(created_at) <= '2020-01-01 00:00:00' AND MAX(created_at) >= '2021-06-01 00:00:00' AND stars2020 >= 1000\n",
    "ORDER BY yoy\n",
    "LIMIT 20\n",
    "`).then(console.table);"
   ]
  },
  {
   "cell_type": "markdown",
   "id": "fff91455-6944-4c59-bdfa-089b376b61c4",
   "metadata": {},
   "source": [
    "## Repositories with the most steady growth over time"
   ]
  },
  {
   "cell_type": "code",
   "execution_count": 19,
   "id": "044bafef-c9b8-4429-b0a3-28af38f2bf4e",
   "metadata": {},
   "outputs": [
    {
     "name": "stdout",
     "output_type": "stream",
     "text": [
      "┌─────────┬─────────────────────────────────────┬─────────────┬─────────────┬─────────┐\n",
      "│ (index) │              repo_name              │ daily_stars │ total_stars │  rate   │\n",
      "├─────────┼─────────────────────────────────────┼─────────────┼─────────────┼─────────┤\n",
      "│    0    │      'auth0/node-jsonwebtoken'      │    '18'     │   '15911'   │ 883.944 │\n",
      "│    1    │          'powerline/fonts'          │    '28'     │   '23859'   │ 852.107 │\n",
      "│    2    │            'fxsjy/jieba'            │    '34'     │   '28560'   │   840   │\n",
      "│    3    │           'mongodb/mongo'           │    '23'     │   '18628'   │ 809.913 │\n",
      "│    4    │ 'zsh-users/zsh-syntax-highlighting' │    '18'     │   '14258'   │ 792.111 │\n",
      "│    5    │         'cheeriojs/cheerio'         │    '29'     │   '22813'   │ 786.655 │\n",
      "│    6    │       'VundleVim/Vundle.vim'        │    '25'     │   '18316'   │ 732.64  │\n",
      "│    7    │        'WordPress/WordPress'        │    '20'     │   '14591'   │ 729.55  │\n",
      "│    8    │       'jaredhanson/passport'        │    '24'     │   '17475'   │ 728.125 │\n",
      "│    9    │          'square/retrofit'          │    '56'     │   '40601'   │ 725.018 │\n",
      "│   10    │        'tornadoweb/tornado'         │    '21'     │   '15182'   │ 722.952 │\n",
      "│   11    │        'Modernizr/Modernizr'        │    '21'     │   '14756'   │ 702.667 │\n",
      "│   12    │         'mybatis/mybatis-3'         │    '27'     │   '18839'   │ 697.741 │\n",
      "│   13    │          'pxb1988/dex2jar'          │    '15'     │   '10419'   │  694.6  │\n",
      "│   14    │            'aws/aws-cli'            │    '16'     │   '11070'   │ 691.875 │\n",
      "│   15    │         'expressjs/multer'          │    '15'     │   '10353'   │  690.2  │\n",
      "│   16    │       'tymondesigns/jwt-auth'       │    '17'     │   '11620'   │ 683.529 │\n",
      "│   17    │       'codemirror/CodeMirror'       │    '31'     │   '21155'   │ 682.419 │\n",
      "│   18    │        'tpope/vim-surround'         │    '14'     │   '9512'    │ 679.429 │\n",
      "│   19    │ 'oblador/react-native-vector-icons' │    '25'     │   '16925'   │   677   │\n",
      "└─────────┴─────────────────────────────────────┴─────────────┴─────────────┴─────────┘\n"
     ]
    }
   ],
   "source": [
    "query(`\n",
    "SELECT repo_name, MAX(stars) AS daily_stars, SUM(stars) AS total_stars, ROUND(total_stars / daily_stars, 3) AS rate\n",
    "FROM (\n",
    "    SELECT repo_name, toDate(created_at) AS day, COUNT() AS stars\n",
    "    FROM github_log.events\n",
    "    WHERE type = 'WatchEvent'\n",
    "    GROUP BY repo_name, day\n",
    ")\n",
    "GROUP BY repo_name\n",
    "ORDER BY rate DESC\n",
    "LIMIT 20\n",
    "`).then(console.table);"
   ]
  },
  {
   "cell_type": "markdown",
   "id": "b10eee27-bcd6-4fa6-9d9c-d66c722fc57b",
   "metadata": {},
   "source": [
    "## What is the best day of the week to catch a star?"
   ]
  },
  {
   "cell_type": "code",
   "execution_count": 20,
   "id": "d763e2c4-1b65-41dd-b95d-0ef3141f8ccf",
   "metadata": {},
   "outputs": [
    {
     "name": "stdout",
     "output_type": "stream",
     "text": [
      "┌─────────┬─────┬────────────┬──────────────┐\n",
      "│ (index) │ day │   stars    │     bar      │\n",
      "├─────────┼─────┼────────────┼──────────────┤\n",
      "│    0    │  1  │ '44494265' │ '████████▊'  │\n",
      "│    1    │  2  │ '45920356' │ '█████████▏' │\n",
      "│    2    │  3  │ '45341955' │ '█████████'  │\n",
      "│    3    │  4  │ '44721612' │ '████████▊'  │\n",
      "│    4    │  5  │ '42145692' │ '████████▍'  │\n",
      "│    5    │  6  │ '30139959' │   '██████'   │\n",
      "│    6    │  7  │ '30787020' │  '██████▏'   │\n",
      "└─────────┴─────┴────────────┴──────────────┘\n"
     ]
    }
   ],
   "source": [
    "query(`\n",
    "SELECT toDayOfWeek(created_at) AS day, COUNT() AS stars, bar(stars, 0, 50000000, 10) AS bar\n",
    "FROM github_log.events\n",
    "WHERE type = 'WatchEvent'\n",
    "GROUP BY day\n",
    "ORDER BY day\n",
    "`).then(console.table);"
   ]
  },
  {
   "cell_type": "markdown",
   "id": "fcf52446-1e83-467b-8299-1c7131c9e64f",
   "metadata": {},
   "source": [
    "It is Tuesday! Definitely not the weekend. Maybe Wednesday or Thursday, but not Monday or Friday."
   ]
  },
  {
   "cell_type": "markdown",
   "id": "38e2ad66-775e-4850-bd82-5bbd835f44aa",
   "metadata": {},
   "source": [
    "## The total number of users on GitHub"
   ]
  },
  {
   "cell_type": "code",
   "execution_count": 22,
   "id": "be5c58e8-ccf6-4e5d-a42d-50880c14d991",
   "metadata": {},
   "outputs": [
    {
     "name": "stdout",
     "output_type": "stream",
     "text": [
      "┌─────────┬────────────┐\n",
      "│ (index) │ user_count │\n",
      "├─────────┼────────────┤\n",
      "│    0    │ '46532452' │\n",
      "└─────────┴────────────┘\n"
     ]
    }
   ],
   "source": [
    "query(`\n",
    "SELECT uniq(actor_login) AS user_count FROM github_log.events\n",
    "`).then(console.table);"
   ]
  },
  {
   "cell_type": "markdown",
   "id": "f7295851-628f-40ad-949e-9ac9ff80b508",
   "metadata": {},
   "source": [
    "46.5 million. Actually, these are users that are not only registered but also participated at least once in ... something.\n",
    "\n",
    "Total number of users that gave at least one star:"
   ]
  },
  {
   "cell_type": "code",
   "execution_count": 23,
   "id": "db31a4ab-d2d4-4746-acb3-38a7d72730ef",
   "metadata": {},
   "outputs": [
    {
     "name": "stdout",
     "output_type": "stream",
     "text": [
      "┌─────────┬────────────┐\n",
      "│ (index) │ user_count │\n",
      "├─────────┼────────────┤\n",
      "│    0    │ '13493956' │\n",
      "└─────────┴────────────┘\n"
     ]
    }
   ],
   "source": [
    "query(`\n",
    "SELECT uniq(actor_login) AS user_count\n",
    "FROM github_log.events\n",
    "WHERE type = 'WatchEvent'\n",
    "`).then(console.table);"
   ]
  },
  {
   "cell_type": "markdown",
   "id": "d3a4facb-d3f4-4fb7-a6b8-7ae384243132",
   "metadata": {},
   "source": [
    "Just 13 million. I've heard that some people don't give stars. They just do their job instead.\n",
    "\n",
    "Total number of users with at least one push:"
   ]
  },
  {
   "cell_type": "code",
   "execution_count": 24,
   "id": "d6957b1f-19ed-4fcd-8035-3106930b2f67",
   "metadata": {},
   "outputs": [
    {
     "name": "stdout",
     "output_type": "stream",
     "text": [
      "┌─────────┬────────────┐\n",
      "│ (index) │ user_count │\n",
      "├─────────┼────────────┤\n",
      "│    0    │ '25366226' │\n",
      "└─────────┴────────────┘\n"
     ]
    }
   ],
   "source": [
    "query(`\n",
    "SELECT uniq(actor_login) AS user_count\n",
    "FROM github_log.events\n",
    "WHERE type = 'PushEvent'\n",
    "`).then(console.table);"
   ]
  },
  {
   "cell_type": "markdown",
   "id": "b90816c0-2361-48e7-87e7-108b4d069b3d",
   "metadata": {},
   "source": [
    "There are actually more people who pushed code than those who gave stars.\n",
    "\n",
    "Total number of users with at least one created PR:"
   ]
  },
  {
   "cell_type": "code",
   "execution_count": 26,
   "id": "61f51469-d067-42b8-8dae-fffbbf92492b",
   "metadata": {},
   "outputs": [
    {
     "name": "stdout",
     "output_type": "stream",
     "text": [
      "┌─────────┬────────────┐\n",
      "│ (index) │ user_count │\n",
      "├─────────┼────────────┤\n",
      "│    0    │ '8498541'  │\n",
      "└─────────┴────────────┘\n"
     ]
    }
   ],
   "source": [
    "query(`\n",
    "SELECT uniq(actor_login) AS user_count\n",
    "FROM github_log.events\n",
    "WHERE type = 'PullRequestEvent' AND action = 'opened'\n",
    "`).then(console.table);"
   ]
  },
  {
   "cell_type": "markdown",
   "id": "99ce2d6e-24b7-451b-a345-cf88ece8b5e9",
   "metadata": {},
   "source": [
    "## Stars from heavy GitHub users\n",
    "\n",
    "What if we count top starred repositories but only from those who made at least one PR in at least one repo?"
   ]
  },
  {
   "cell_type": "code",
   "execution_count": 27,
   "id": "bfdafc75-b1e6-4ca3-9948-9e08adcfca80",
   "metadata": {},
   "outputs": [
    {
     "name": "stdout",
     "output_type": "stream",
     "text": [
      "┌─────────┬──────────────────────────────────────────┬──────────┐\n",
      "│ (index) │                repo_name                 │  count   │\n",
      "├─────────┼──────────────────────────────────────────┼──────────┤\n",
      "│    0    │             'facebook/react'             │ '135402' │\n",
      "│    1    │          'sindresorhus/awesome'          │ '133398' │\n",
      "│    2    │    'kamranahmedse/developer-roadmap'     │ '131681' │\n",
      "│    3    │               'vuejs/vue'                │ '125947' │\n",
      "│    4    │    'donnemartin/system-design-primer'    │ '125731' │\n",
      "│    5    │  'jwasham/coding-interview-university'   │ '116848' │\n",
      "│    6    │        'getify/You-Dont-Know-JS'         │ '113009' │\n",
      "│    7    │         'tensorflow/tensorflow'          │ '108333' │\n",
      "│    8    │    'danistefanovic/build-your-own-x'     │ '97240'  │\n",
      "│    9    │     'trekhleb/javascript-algorithms'     │ '93612'  │\n",
      "│   10    │             '996icu/996.ICU'             │ '92952'  │\n",
      "│   11    │       'FreeCodeCamp/FreeCodeCamp'        │ '91144'  │\n",
      "│   12    │            'flutter/flutter'             │ '88933'  │\n",
      "│   13    │           'airbnb/javascript'            │ '87224'  │\n",
      "│   14    │        'public-apis/public-apis'         │ '87133'  │\n",
      "│   15    │ 'EbookFoundation/free-programming-books' │ '85822'  │\n",
      "│   16    │             'torvalds/linux'             │ '85750'  │\n",
      "│   17    │            'github/gitignore'            │ '81048'  │\n",
      "│   18    │       'freeCodeCamp/freeCodeCamp'        │ '75205'  │\n",
      "│   19    │         'facebook/react-native'          │ '74332'  │\n",
      "└─────────┴──────────────────────────────────────────┴──────────┘\n"
     ]
    }
   ],
   "source": [
    "query(`\n",
    "SELECT repo_name, COUNT() AS count\n",
    "FROM github_log.events\n",
    "WHERE type = 'WatchEvent' AND actor_login IN (\n",
    "    SELECT actor_login\n",
    "    FROM github_log.events\n",
    "    WHERE type = 'PullRequestEvent' AND action = 'opened'\n",
    ")\n",
    "GROUP BY repo_name\n",
    "ORDER BY count DESC\n",
    "LIMIT 20\n",
    "`).then(console.table);"
   ]
  },
  {
   "cell_type": "markdown",
   "id": "20e163b1-fb4f-48d2-81c2-ee713f368484",
   "metadata": {},
   "source": [
    "The list is similar to the overall top list.\n",
    "\n",
    "What if we take authors who have made at least 10 PRs?"
   ]
  },
  {
   "cell_type": "code",
   "execution_count": 28,
   "id": "8c04835b-4baf-40f4-b364-542e1b350efa",
   "metadata": {},
   "outputs": [
    {
     "name": "stdout",
     "output_type": "stream",
     "text": [
      "┌─────────┬──────────────────────────────────────────┬─────────┐\n",
      "│ (index) │                repo_name                 │  count  │\n",
      "├─────────┼──────────────────────────────────────────┼─────────┤\n",
      "│    0    │             'facebook/react'             │ '62283' │\n",
      "│    1    │          'sindresorhus/awesome'          │ '59585' │\n",
      "│    2    │    'kamranahmedse/developer-roadmap'     │ '56523' │\n",
      "│    3    │    'donnemartin/system-design-primer'    │ '56245' │\n",
      "│    4    │        'getify/You-Dont-Know-JS'         │ '53809' │\n",
      "│    5    │               'vuejs/vue'                │ '51812' │\n",
      "│    6    │  'jwasham/coding-interview-university'   │ '46237' │\n",
      "│    7    │    'danistefanovic/build-your-own-x'     │ '45834' │\n",
      "│    8    │         'tensorflow/tensorflow'          │ '43327' │\n",
      "│    9    │     'trekhleb/javascript-algorithms'     │ '42253' │\n",
      "│   10    │           'airbnb/javascript'            │ '41949' │\n",
      "│   11    │             'torvalds/linux'             │ '38485' │\n",
      "│   12    │            'flutter/flutter'             │ '37461' │\n",
      "│   13    │        'public-apis/public-apis'         │ '36785' │\n",
      "│   14    │               'golang/go'                │ '36498' │\n",
      "│   15    │            'github/gitignore'            │ '34627' │\n",
      "│   16    │     'jlevy/the-art-of-command-line'      │ '34296' │\n",
      "│   17    │         'facebook/react-native'          │ '33982' │\n",
      "│   18    │        'resume/resume.github.com'        │ '33931' │\n",
      "│   19    │ 'EbookFoundation/free-programming-books' │ '31448' │\n",
      "└─────────┴──────────────────────────────────────────┴─────────┘\n"
     ]
    }
   ],
   "source": [
    "query(`\n",
    "SELECT repo_name, COUNT() AS count\n",
    "FROM github_log.events\n",
    "WHERE type = 'WatchEvent' AND actor_login IN (\n",
    "    SELECT actor_login\n",
    "    FROM github_log.events\n",
    "    WHERE type = 'PullRequestEvent' AND action = 'opened'\n",
    "    GROUP BY actor_login\n",
    "    HAVING COUNT() >= 10\n",
    ")\n",
    "GROUP BY repo_name\n",
    "ORDER BY count DESC\n",
    "LIMIT 20\n",
    "`).then(console.table);"
   ]
  },
  {
   "cell_type": "markdown",
   "id": "dc34212a-83ef-4d7c-a8cc-b1bd12eaae25",
   "metadata": {},
   "source": [
    "If we only count software, the list looks like this: React, Vue, Tensorflow, Linux, Flutter, Golang."
   ]
  },
  {
   "cell_type": "markdown",
   "id": "1272a32e-2bf3-46de-aa01-bbabbf43572a",
   "metadata": {},
   "source": [
    "## Repositories with the maximum amount of pull requests"
   ]
  },
  {
   "cell_type": "code",
   "execution_count": 30,
   "id": "0febd02f-970d-4c87-9d28-d879d4264cea",
   "metadata": {},
   "outputs": [
    {
     "name": "stdout",
     "output_type": "stream",
     "text": [
      "┌─────────┬───────────────────────────────────────────┬──────────┬───────────────────┐\n",
      "│ (index) │                 repo_name                 │  count   │ uniq(actor_login) │\n",
      "├─────────┼───────────────────────────────────────────┼──────────┼───────────────────┤\n",
      "│    0    │     'google-test/signcla-probe-repo'      │ '443999' │        '4'        │\n",
      "│    1    │      'WolseyBankWitness/rediffusion'      │ '202735' │        '6'        │\n",
      "│    2    │  'everypolitician/everypolitician-data'   │ '157462' │       '18'        │\n",
      "│    3    │   'mhutchinson/mhutchinson-distributor'   │ '144574' │        '6'        │\n",
      "│    4    │              'NixOS/nixpkgs'              │ '137643' │      '5217'       │\n",
      "│    5    │         'Homebrew/homebrew-core'          │ '93470'  │      '7171'       │\n",
      "│    6    │     'brianchandotcom/liferay-portal'      │ '91204'  │       '369'       │\n",
      "│    7    │       'actions-canary/ForkPRCanary'       │ '87740'  │        '4'        │\n",
      "│    8    │             'elastic/kibana'              │ '81290'  │      '1055'       │\n",
      "│    9    │ 'test-organization-kkjeer/bot-validation' │ '75215'  │        '5'        │\n",
      "│   10    │    'test-organization-kkjeer/app-test'    │ '74948'  │        '8'        │\n",
      "│   11    │ 'SmartThingsCommunity/SmartThingsPublic'  │ '74854'  │       '778'       │\n",
      "│   12    │         'Homebrew/homebrew-cask'          │ '71380'  │      '4857'       │\n",
      "│   13    │                'odoo/odoo'                │ '68198'  │      '2347'       │\n",
      "│   14    │    'google-test/signclav2-probe-repo'     │ '65438'  │        '3'        │\n",
      "│   15    │          'kubernetes/kubernetes'          │ '59225'  │      '4963'       │\n",
      "│   16    │          'saby/wasaby-controls'           │ '58403'  │       '61'        │\n",
      "│   17    │         'JuliaRegistries/General'         │ '58365'  │       '290'       │\n",
      "│   18    │           'sauron-demo/sauron'            │ '53932'  │        '1'        │\n",
      "│   19    │          'microsoft/winget-pkgs'          │ '53854'  │      '1910'       │\n",
      "└─────────┴───────────────────────────────────────────┴──────────┴───────────────────┘\n"
     ]
    }
   ],
   "source": [
    "query(`\n",
    "SELECT repo_name, COUNT() AS count, uniq(actor_login)\n",
    "FROM github_log.events\n",
    "WHERE type = 'PullRequestEvent' AND action = 'opened'\n",
    "GROUP BY repo_name\n",
    "ORDER BY count DESC\n",
    "LIMIT 20\n",
    "`).then(console.table);"
   ]
  },
  {
   "cell_type": "markdown",
   "id": "3ce8cbe7-dab7-4293-aef7-15d87eb7e490",
   "metadata": {},
   "source": [
    "Here we can see some very specific data. The top repository looks like a test repository where you can check signing a CLA. But there are only 4 users with PRs and they are obviously bots.\n",
    "\n",
    "Conclusion: if there are many pull requests from a small number of users, it means that this is just a part of some automated process.\n",
    "\n",
    "No. 4 is the package repository for Nix OS. It's quite understandable — if you want your package to be in the OS, just make a pull request. And there are a lot of packages. The same for No. 5 — Homebrew.\n",
    "\n",
    "And there is one empty repository with a huge number of trash pull requests: [sauron](https://github.com/sauron-demo/sauron). Looks like a script got out of control.\n",
    "\n",
    "Repositories with the maximum amount of pull request contributors:"
   ]
  },
  {
   "cell_type": "code",
   "execution_count": 31,
   "id": "571deabf-06f2-45d9-adb1-fd1b3892e9c4",
   "metadata": {},
   "outputs": [
    {
     "name": "stdout",
     "output_type": "stream",
     "text": [
      "┌─────────┬─────────────────────────────────────────────────────────────────────────┬─────────┬─────────┐\n",
      "│ (index) │                                repo_name                                │  count  │    u    │\n",
      "├─────────┼─────────────────────────────────────────────────────────────────────────┼─────────┼─────────┤\n",
      "│    0    │                'firstcontributions/first-contributions'                 │ '39919' │ '36936' │\n",
      "│    1    │                            'jlord/patchwork'                            │ '41917' │ '36479' │\n",
      "│    2    │                  'google/it-cert-automation-practice'                   │ '20671' │ '19933' │\n",
      "│    3    │                          'octocat/Spoon-Knife'                          │ '20648' │ '18731' │\n",
      "│    4    │                    'DefinitelyTyped/DefinitelyTyped'                    │ '44162' │ '16679' │\n",
      "│    5    │                 'zero-to-mastery/start-here-guidelines'                 │ '14035' │ '12421' │\n",
      "│    6    │                            'JetBrains/swot'                             │ '13118' │ '11067' │\n",
      "│    7    │                          'freddier/hyperblog'                           │ '10377' │ '10083' │\n",
      "│    8    │                       'archway-network/testnets'                        │ '10392' │ '9688'  │\n",
      "│    9    │                        'solana-labs/token-list'                         │ '25556' │ '9548'  │\n",
      "│   10    │               'udacity/course-collaboration-travel-plans'               │ '9441'  │ '9112'  │\n",
      "│   11    │                   'udacity/create-your-own-adventure'                   │ '10063' │ '8544'  │\n",
      "│   12    │                       'MicrosoftDocs/azure-docs'                        │ '25668' │ '8364'  │\n",
      "│   13    │                        'deadlyvipers/dojo_rules'                        │ '13065' │ '8204'  │\n",
      "│   14    │                          'trustwallet/assets'                           │ '18583' │ '7875'  │\n",
      "│   15    │      'githubschool/open-enrollment-classes-introduction-to-github'      │ '9191'  │ '7437'  │\n",
      "│   16    │        'learn-co-students/js-from-dom-to-node-bootcamp-prep-000'        │ '7471'  │ '7419'  │\n",
      "│   17    │                        'Homebrew/homebrew-core'                         │ '93470' │ '7171'  │\n",
      "│   18    │ 'learn-co-students/javascript-intro-to-functions-lab-bootcamp-prep-000' │ '7187'  │ '7157'  │\n",
      "│   19    │                    'education/GitHubGraduation-2021'                    │ '8806'  │ '7021'  │\n",
      "└─────────┴─────────────────────────────────────────────────────────────────────────┴─────────┴─────────┘\n"
     ]
    }
   ],
   "source": [
    "query(`\n",
    "SELECT repo_name, COUNT() AS count, uniq(actor_login) AS u\n",
    "FROM github_log.events\n",
    "WHERE type = 'PullRequestEvent' AND action = 'opened'\n",
    "GROUP BY repo_name\n",
    "ORDER BY u DESC\n",
    "LIMIT 20\n",
    "`).then(console.table);"
   ]
  },
  {
   "cell_type": "markdown",
   "id": "18f265bc-6c04-49ed-a425-9f7d5e0abc08",
   "metadata": {},
   "source": [
    "Repository \"first-contribution\" is the obvious case: a repository that teaches you how to make a pull request... by allowing you to make a pull request to this repository. \"patchwork\" is similar. Most of the repositories in this list are similar."
   ]
  },
  {
   "cell_type": "markdown",
   "id": "8a64d34a-478c-401b-8872-42a41ffd92d4",
   "metadata": {},
   "source": [
    "## Repositories with the maxmium amount of issues."
   ]
  },
  {
   "cell_type": "code",
   "execution_count": 33,
   "id": "d840d5bb-2aa9-4293-be54-075d5094b038",
   "metadata": {},
   "outputs": [
    {
     "name": "stdout",
     "output_type": "stream",
     "text": [
      "┌─────────┬────────────────────────────────────────┬──────────┬─────────┐\n",
      "│ (index) │                   n                    │    c     │    u    │\n",
      "├─────────┼────────────────────────────────────────┼──────────┼─────────┤\n",
      "│    0    │             'pddemo/demo'              │ '932840' │  '11'   │\n",
      "│    1    │     'koorellasuresh/ukregiontest'      │ '379342' │   '4'   │\n",
      "│    2    │  'planft/planft-marketplace-comments'  │ '178488' │   '2'   │\n",
      "│    3    │         'lstjsuperman/fabric'          │ '161630' │   '1'   │\n",
      "│    4    │        'the-barserkou/comments'        │ '133124' │   '2'   │\n",
      "│    5    │           'microsoft/vscode'           │ '131676' │ '58418' │\n",
      "│    6    │       'jlippold/tweakcompatible'       │ '126702' │ '11260' │\n",
      "│    7    │             'nexity/testa'             │ '118867' │   '1'   │\n",
      "│    8    │      'adguardteam/adguardfilters'      │ '103484' │  '929'  │\n",
      "│    9    │        'ramos-dev/jniwebshell'         │ '103174' │   '1'   │\n",
      "│   10    │  'imamandrews/imamandrews.github.io'   │ '102892' │   '3'   │\n",
      "│   11    │          'webcompat/web-bugs'          │ '99434'  │ '5279'  │\n",
      "│   12    │         'chrmarti/testissues'          │ '97101'  │  '20'   │\n",
      "│   13    │           'no-cqrt/googuns'            │ '86162'  │   '1'   │\n",
      "│   14    │           'ouyanxia2/hgmgmg'           │ '78293'  │  '52'   │\n",
      "│   15    │            'khan/khan-i18n'            │ '75761'  │   '1'   │\n",
      "│   16    │ 'debricked/debricked-test-integration' │ '73881'  │   '1'   │\n",
      "│   17    │           'flutter/flutter'            │ '66578'  │ '24746' │\n",
      "│   18    │        'ron190/jsql-injection'         │ '63375'  │  '43'   │\n",
      "│   19    │       'microsoftdocs/azure-docs'       │ '60873'  │ '28594' │\n",
      "└─────────┴────────────────────────────────────────┴──────────┴─────────┘\n"
     ]
    }
   ],
   "source": [
    "query(`\n",
    "SELECT lower(repo_name) AS n, COUNT() AS c, uniq(actor_login) AS u\n",
    "FROM github_log.events\n",
    "WHERE type = 'IssuesEvent' AND action = 'opened'\n",
    "GROUP BY n\n",
    "ORDER BY c DESC\n",
    "LIMIT 20\n",
    "`).then(console.table);"
   ]
  },
  {
   "cell_type": "markdown",
   "id": "4cb57a50-008a-4733-af63-c6a0cc8cd561",
   "metadata": {},
   "source": [
    "The first repository has a funny description: \"demo: A new issue is created in this repo every minute\". The 2nd repository no longer exists.\n",
    "\n",
    "The first meaningful result is VSCode with more than 130k issues and 58k authors. And the issues are real.\n",
    "\n",
    "Conclusion: if a repository has a high number of issues, maybe issues are created automatically.\n",
    "\n",
    "Let's add a cutoff at 1000 stars to distinguish the real issues from robot ones."
   ]
  },
  {
   "cell_type": "code",
   "execution_count": 34,
   "id": "847779c4-2e80-4d16-a413-01fbacfbb7b8",
   "metadata": {},
   "outputs": [
    {
     "name": "stdout",
     "output_type": "stream",
     "text": [
      "┌─────────┬──────────────────────────────┬──────────┬─────────┬──────────┐\n",
      "│ (index) │          repo_name           │    c     │    u    │  stars   │\n",
      "├─────────┼──────────────────────────────┼──────────┼─────────┼──────────┤\n",
      "│    0    │ 'AdguardTeam/AdguardFilters' │ '103492' │  '929'  │  '1895'  │\n",
      "│    1    │      'microsoft/vscode'      │ '66648'  │ '34668' │ '68482'  │\n",
      "│    2    │      'flutter/flutter'       │ '66579'  │ '24746' │ '157679' │\n",
      "│    3    │      'Microsoft/vscode'      │ '65029'  │ '27015' │ '81672'  │\n",
      "│    4    │   'ron190/jsql-injection'    │ '63375'  │  '43'   │  '1151'  │\n",
      "│    5    │  'MicrosoftDocs/azure-docs'  │ '60874'  │ '28594' │  '7493'  │\n",
      "│    6    │       'elastic/kibana'       │ '40370'  │ '4907'  │ '15997'  │\n",
      "│    7    │         'golang/go'          │ '39552'  │ '12835' │ '110100' │\n",
      "│    8    │   'cockroachdb/cockroach'    │ '38604'  │ '1357'  │ '24215'  │\n",
      "│    9    │   'kubernetes/kubernetes'    │ '35174'  │ '10076' │ '86936'  │\n",
      "│   10    │   'tensorflow/tensorflow'    │ '33765'  │ '19376' │ '192293' │\n",
      "│   11    │       'rust-lang/rust'       │ '31640'  │ '7798'  │ '68938'  │\n",
      "│   12    │       'hq450/fancyss'        │ '31137'  │  '793'  │ '10213'  │\n",
      "│   13    │     'godotengine/godot'      │ '31088'  │ '7551'  │ '50205'  │\n",
      "│   14    │       'dotnet/roslyn'        │ '28106'  │ '3741'  │ '18204'  │\n",
      "│   15    │      'rancher/rancher'       │ '27090'  │ '5759'  │ '19152'  │\n",
      "│   16    │      'ansible/ansible'       │ '25323'  │ '12527' │ '50176'  │\n",
      "│   17    │      'pytorch/pytorch'       │ '24820'  │ '9692'  │ '61581'  │\n",
      "│   18    │       'dart-lang/sdk'        │ '23932'  │ '3853'  │  '9266'  │\n",
      "│   19    │      'angular/angular'       │ '23902'  │ '11577' │ '96500'  │\n",
      "└─────────┴──────────────────────────────┴──────────┴─────────┴──────────┘\n"
     ]
    }
   ],
   "source": [
    "query(`\n",
    "WITH type = 'IssuesEvent' AND action = 'opened' AS issue_created\n",
    "SELECT repo_name, SUM(issue_created) AS c, uniqIf(actor_login, issue_created) AS u, SUM(type = 'WatchEvent') AS stars\n",
    "FROM github_log.events\n",
    "WHERE type IN ('IssuesEvent', 'WatchEvent')\n",
    "GROUP BY repo_name\n",
    "HAVING stars >= 1000\n",
    "ORDER BY c DESC\n",
    "LIMIT 20\n",
    "`).then(console.table);"
   ]
  },
  {
   "cell_type": "markdown",
   "id": "c7b844e2-f378-4041-a79c-ba2ca8b77bfa",
   "metadata": {},
   "source": [
    "Now it looks like a reasonable list of the top repositories.\n",
    "\n",
    "And for the next report, let's sort by the number of issue authors:"
   ]
  },
  {
   "cell_type": "code",
   "execution_count": 35,
   "id": "558e0cac-bc1c-4045-9194-03eb41bc9981",
   "metadata": {},
   "outputs": [
    {
     "name": "stdout",
     "output_type": "stream",
     "text": [
      "┌─────────┬───────────────────────────────────────────────────────────────┬──────────┬─────────┬──────────┐\n",
      "│ (index) │                           repo_name                           │    c     │    u    │  stars   │\n",
      "├─────────┼───────────────────────────────────────────────────────────────┼──────────┼─────────┼──────────┤\n",
      "│    0    │                      'microsoft/vscode'                       │ '66648'  │ '34668' │ '68482'  │\n",
      "│    1    │                  'MicrosoftDocs/azure-docs'                   │ '60874'  │ '28594' │  '7493'  │\n",
      "│    2    │                      'Microsoft/vscode'                       │ '65029'  │ '27015' │ '81672'  │\n",
      "│    3    │                       'flutter/flutter'                       │ '66579'  │ '24746' │ '157679' │\n",
      "│    4    │                    'tensorflow/tensorflow'                    │ '33765'  │ '19376' │ '192293' │\n",
      "│    5    │                    'facebook/react-native'                    │ '21978'  │ '13327' │ '118923' │\n",
      "│    6    │                          'golang/go'                          │ '39552'  │ '12835' │ '110100' │\n",
      "│    7    │                       'ansible/ansible'                       │ '25323'  │ '12527' │ '50176'  │\n",
      "│    8    │                       'angular/angular'                       │ '23902'  │ '11577' │ '96500'  │\n",
      "│    9    │                  'jlippold/tweakCompatible'                   │ '126702' │ '11260' │  '551'   │\n",
      "│   10    │                    'ant-design/ant-design'                    │ '22094'  │ '11119' │ '101405' │\n",
      "│   11    │                       '996icu/996.ICU'                        │ '17308'  │ '10798' │ '269288' │\n",
      "│   12    │ 'githubschool/open-enrollment-classes-introduction-to-github' │ '11979'  │ '10633' │  '921'   │\n",
      "│   13    │                       'docker/for-win'                        │ '12307'  │ '10586' │  '1812'  │\n",
      "│   14    │                  'FortAwesome/Font-Awesome'                   │ '12927'  │ '10270' │ '50713'  │\n",
      "│   15    │                    'kubernetes/kubernetes'                    │ '35174'  │ '10076' │ '86936'  │\n",
      "│   16    │                 'ContinuumIO/anaconda-issues'                 │ '12268'  │ '10029' │  '770'   │\n",
      "│   17    │                     'hashicorp/terraform'                     │ '17812'  │ '10016' │ '32905'  │\n",
      "│   18    │                          'atom/atom'                          │ '13527'  │ '9913'  │ '62862'  │\n",
      "│   19    │                           'npm/npm'                           │ '12236'  │ '9887'  │ '15470'  │\n",
      "└─────────┴───────────────────────────────────────────────────────────────┴──────────┴─────────┴──────────┘\n"
     ]
    }
   ],
   "source": [
    "query(`\n",
    "WITH type = 'IssuesEvent' AND action = 'opened' AS issue_created\n",
    "SELECT repo_name, SUM(issue_created) AS c, uniqIf(actor_login, issue_created) AS u, SUM(type = 'WatchEvent') AS stars\n",
    "FROM github_log.events\n",
    "WHERE type IN ('IssuesEvent', 'WatchEvent')\n",
    "GROUP BY repo_name\n",
    "ORDER BY u DESC\n",
    "LIMIT 20\n",
    "`).then(console.table);"
   ]
  },
  {
   "cell_type": "markdown",
   "id": "9be9ff4c-8b17-404d-b070-755834abb830",
   "metadata": {},
   "source": [
    "## Repositories with the most people who have push access"
   ]
  },
  {
   "cell_type": "code",
   "execution_count": 36,
   "id": "c5b7b5a2-06aa-4086-95d4-ff035a8b8043",
   "metadata": {},
   "outputs": [
    {
     "name": "stdout",
     "output_type": "stream",
     "text": [
      "┌─────────┬───────────────────────────────────────────────────────────────┬────────┬─────────┐\n",
      "│ (index) │                           repo_name                           │   u    │  stars  │\n",
      "├─────────┼───────────────────────────────────────────────────────────────┼────────┼─────────┤\n",
      "│    0    │ 'githubschool/open-enrollment-classes-introduction-to-github' │ '7850' │  '921'  │\n",
      "│    1    │                      'llvm/llvm-project'                      │ '1234' │ '14799' │\n",
      "│    2    │             'githubschool/on-demand-github-pages'             │ '1100' │  '127'  │\n",
      "│    3    │                        'odoo-dev/odoo'                        │ '603'  │  '110'  │\n",
      "│    4    │           'cs480-projects/cs480-projects.github.io'           │ '569'  │  '18'   │\n",
      "│    5    │                    'Automattic/wp-calypso'                    │ '547'  │ '13691' │\n",
      "│    6    │                'HNGInternship/HNGInternship4'                 │ '518'  │  '44'   │\n",
      "│    7    │                  'bioconda/bioconda-recipes'                  │ '513'  │ '1549'  │\n",
      "│    8    │          'wecode-bootcamp-korea/westagram-frontend'           │ '502'  │  '31'   │\n",
      "│    9    │                    'DataDog/documentation'                    │ '497'  │  '225'  │\n",
      "│   10    │                       'elastic/kibana'                        │ '474'  │ '15997' │\n",
      "│   11    │         'department-of-veterans-affairs/va.gov-team'          │ '472'  │  '222'  │\n",
      "│   12    │                    'betagouv/beta.gouv.fr'                    │ '444'  │  '166'  │\n",
      "│   13    │                 'tencentyun/qcloud-documents'                 │ '443'  │ '1970'  │\n",
      "│   14    │                      'hnginterns/hngfun'                      │ '437'  │  '34'   │\n",
      "│   15    │                 'Azure/azure-rest-api-specs'                  │ '427'  │ '1755'  │\n",
      "│   16    │                    'HNGInternship/HNGFun'                     │ '419'  │  '21'   │\n",
      "│   17    │                         'mks65/list'                          │ '409'  │   '0'   │\n",
      "│   18    │                         'mks65/euler'                         │ '408'  │   '1'   │\n",
      "│   19    │          'Unity-Technologies/DOTS-training-samples'           │ '401'  │ '1100'  │\n",
      "└─────────┴───────────────────────────────────────────────────────────────┴────────┴─────────┘\n"
     ]
    }
   ],
   "source": [
    "query(`\n",
    "SELECT repo_name, uniqIf(actor_login, type = 'PushEvent') AS u, SUM(type = 'WatchEvent') AS stars\n",
    "FROM github_log.events\n",
    "WHERE type IN ('PushEvent', 'WatchEvent')\n",
    "GROUP BY repo_name\n",
    "ORDER BY u DESC\n",
    "LIMIT 20\n",
    "`).then(console.table);"
   ]
  },
  {
   "cell_type": "markdown",
   "id": "599ff1b9-7ab9-4918-9a2a-21e0e9a60871",
   "metadata": {},
   "source": [
    "The first one is educational. It's really fantastic to have almost 8 thousand people pushing to the repository. Maybe it's just a development model where they are giving access to separate branches for a user or organization?\n",
    "\n",
    "What about repositories with the most people who have push access to the main branch."
   ]
  },
  {
   "cell_type": "code",
   "execution_count": 38,
   "id": "d2807998-18aa-42bf-b6d1-5aae8946f2f6",
   "metadata": {},
   "outputs": [
    {
     "name": "stdout",
     "output_type": "stream",
     "text": [
      "┌─────────┬───────────────────────────────────────────────────────────────┬────────┬─────────┐\n",
      "│ (index) │                           repo_name                           │   u    │  stars  │\n",
      "├─────────┼───────────────────────────────────────────────────────────────┼────────┼─────────┤\n",
      "│    0    │ 'githubschool/open-enrollment-classes-introduction-to-github' │ '5599' │  '921'  │\n",
      "│    1    │                      'llvm/llvm-project'                      │ '1232' │ '14799' │\n",
      "│    2    │             'githubschool/on-demand-github-pages'             │ '808'  │  '127'  │\n",
      "│    3    │           'cs480-projects/cs480-projects.github.io'           │ '569'  │  '18'   │\n",
      "│    4    │                'HNGInternship/HNGInternship4'                 │ '517'  │  '44'   │\n",
      "│    5    │                  'bioconda/bioconda-recipes'                  │ '470'  │ '1549'  │\n",
      "│    6    │         'department-of-veterans-affairs/va.gov-team'          │ '466'  │  '222'  │\n",
      "│    7    │                 'tencentyun/qcloud-documents'                 │ '438'  │ '1970'  │\n",
      "│    8    │                      'hnginterns/hngfun'                      │ '437'  │  '34'   │\n",
      "│    9    │                       'elastic/kibana'                        │ '435'  │ '15997' │\n",
      "│   10    │                    'HNGInternship/HNGFun'                     │ '419'  │  '21'   │\n",
      "│   11    │                    'betagouv/beta.gouv.fr'                    │ '417'  │  '166'  │\n",
      "│   12    │                         'mks65/list'                          │ '409'  │   '0'   │\n",
      "│   13    │                         'mks65/euler'                         │ '408'  │   '1'   │\n",
      "│   14    │                         'mks66/line'                          │ '387'  │   '0'   │\n",
      "│   15    │         'IGM-RichMedia-at-RIT/430-Git-Exercise-Part2'         │ '384'  │   '0'   │\n",
      "│   16    │                       'mks66/picmaker'                        │ '383'  │   '3'   │\n",
      "│   17    │                        'mks65/dirinfo'                        │ '382'  │   '0'   │\n",
      "│   18    │                    'Automattic/wp-calypso'                    │ '378'  │ '13691' │\n",
      "│   19    │                        'mks66/matrix'                         │ '374'  │   '0'   │\n",
      "└─────────┴───────────────────────────────────────────────────────────────┴────────┴─────────┘\n"
     ]
    }
   ],
   "source": [
    "query(`\n",
    "SELECT repo_name, uniqIf(actor_login, type = 'PushEvent' AND match(push_ref, '/(main|master)$')) AS u, SUM(type = 'WatchEvent') AS stars\n",
    "FROM github_log.events\n",
    "WHERE type IN ('PushEvent', 'WatchEvent')\n",
    "GROUP BY repo_name\n",
    "ORDER BY u DESC\n",
    "LIMIT 20\n",
    "`).then(console.table);"
   ]
  },
  {
   "cell_type": "markdown",
   "id": "4bb0e057-f053-4f34-8ee0-3726f65f4d0c",
   "metadata": {},
   "source": [
    "It's almost the same."
   ]
  },
  {
   "cell_type": "markdown",
   "id": "83fb3a8a-4745-4662-ae24-10e1a78c6ddd",
   "metadata": {},
   "source": [
    "## Repositories with the maximum number of accepted invitations"
   ]
  },
  {
   "cell_type": "code",
   "execution_count": 40,
   "id": "95d8acaa-7a14-4cbf-9a97-8d4efc2e8a86",
   "metadata": {},
   "outputs": [
    {
     "name": "stdout",
     "output_type": "stream",
     "text": [
      "┌─────────┬───────────────────────────────────────────────────────────────┬─────────────┬─────────┐\n",
      "│ (index) │                           repo_name                           │ invitations │  stars  │\n",
      "├─────────┼───────────────────────────────────────────────────────────────┼─────────────┼─────────┤\n",
      "│    0    │ 'githubschool/open-enrollment-classes-introduction-to-github' │   '10309'   │  '921'  │\n",
      "│    1    │                  'openjournals/joss-reviews'                  │   '2626'    │  '588'  │\n",
      "│    2    │             'githubschool/on-demand-github-pages'             │   '1611'    │  '127'  │\n",
      "│    3    │                    'MasteringNuxt/NuxtBnB'                    │   '1141'    │  '193'  │\n",
      "│    4    │                         'zulip/zulip'                         │   '1029'    │ '17351' │\n",
      "│    5    │            'InfiniteFlightAirportEditing/Airports'            │    '717'    │  '230'  │\n",
      "│    6    │                 'tencentyun/qcloud-documents'                 │    '450'    │ '1970'  │\n",
      "│    7    │                    'Automattic/wp-calypso'                    │    '431'    │ '13691' │\n",
      "│    8    │                  'zephyrproject-rtos/zephyr'                  │    '381'    │ '6581'  │\n",
      "│    9    │                      'llvm/llvm-project'                      │    '323'    │ '14799' │\n",
      "│   10    │                   'w3c/web-platform-tests'                    │    '308'    │ '1251'  │\n",
      "│   11    │                'FightPandemics/FightPandemics'                │    '287'    │  '135'  │\n",
      "│   12    │                         'oppia/oppia'                         │    '268'    │ '5458'  │\n",
      "│   13    │                'leanprover-community/mathlib'                 │    '265'    │ '1184'  │\n",
      "│   14    │                    'cockroachdb/cockroach'                    │    '257'    │ '24215' │\n",
      "│   15    │              'pqrs-org/KE-complex_modifications'              │    '244'    │  '959'  │\n",
      "│   16    │                 'MicrosoftDocs/msteams-docs'                  │    '239'    │  '215'  │\n",
      "│   17    │                      'magento/magento2'                       │    '228'    │ '10036' │\n",
      "│   18    │               'PicPay/picpay-desafio-frontend'                │    '219'    │  '177'  │\n",
      "│   19    │                       'gatsbyjs/gatsby'                       │    '219'    │ '58124' │\n",
      "└─────────┴───────────────────────────────────────────────────────────────┴─────────────┴─────────┘\n"
     ]
    }
   ],
   "source": [
    "query(`\n",
    "SELECT repo_name, SUM(type = 'MemberEvent') AS invitations, SUM(type = 'WatchEvent') AS stars\n",
    "FROM github_log.events\n",
    "WHERE type IN ('MemberEvent', 'WatchEvent')\n",
    "GROUP BY repo_name\n",
    "HAVING stars >= 100\n",
    "ORDER BY invitations DESC\n",
    "LIMIT 20\n",
    "`).then(console.table);"
   ]
  },
  {
   "cell_type": "markdown",
   "id": "a6a9ff13-08bd-4b07-b84c-35a3a3ba465f",
   "metadata": {},
   "source": [
    "## Most forked repositories"
   ]
  },
  {
   "cell_type": "code",
   "execution_count": 41,
   "id": "d1026555-74ab-4fa9-ba7a-93844eabe61b",
   "metadata": {},
   "outputs": [
    {
     "name": "stdout",
     "output_type": "stream",
     "text": [
      "┌─────────┬───────────────────────────────────────────┬──────────┐\n",
      "│ (index) │                 repo_name                 │  forks   │\n",
      "├─────────┼───────────────────────────────────────────┼──────────┤\n",
      "│    0    │           'jtleek/datasharing'            │ '210684' │\n",
      "│    1    │           'octocat/Spoon-Knife'           │ '150586' │\n",
      "│    2    │      'rdpeng/ProgrammingAssignment2'      │ '132470' │\n",
      "│    3    │          'tensorflow/tensorflow'          │ '104770' │\n",
      "│    4    │            'github/gitignore'             │ '96880'  │\n",
      "│    5    │ 'SmartThingsCommunity/SmartThingsPublic'  │ '91478'  │\n",
      "│    6    │             'twbs/bootstrap'              │ '84911'  │\n",
      "│    7    │      'nightscout/cgm-remote-monitor'      │ '78439'  │\n",
      "│    8    │           'LSPosed/MagiskOnWSA'           │ '76093'  │\n",
      "│    9    │          'barryclark/jekyll-now'          │ '75183'  │\n",
      "│   10    │ 'Pierian-Data/Complete-Python-3-Bootcamp' │ '73096'  │\n",
      "│   11    │   'jwasham/coding-interview-university'   │ '57986'  │\n",
      "│   12    │            'eugenp/tutorials'             │ '57145'  │\n",
      "│   13    │              'opencv/opencv'              │ '56158'  │\n",
      "│   14    │            'tensorflow/models'            │ '54707'  │\n",
      "│   15    │               'github/docs'               │ '54381'  │\n",
      "│   16    │             'facebook/react'              │ '54037'  │\n",
      "│   17    │         'rdpeng/ExData_Plotting1'         │ '53288'  │\n",
      "│   18    │             'jlord/patchwork'             │ '52084'  │\n",
      "│   19    │ 'firstcontributions/first-contributions'  │ '51292'  │\n",
      "└─────────┴───────────────────────────────────────────┴──────────┘\n"
     ]
    }
   ],
   "source": [
    "query(`\n",
    "SELECT repo_name, COUNT() AS forks\n",
    "FROM github_log.events\n",
    "WHERE type = 'ForkEvent'\n",
    "GROUP BY repo_name\n",
    "ORDER BY forks DESC\n",
    "LIMIT 20\n",
    "`).then(console.table);"
   ]
  },
  {
   "cell_type": "markdown",
   "id": "bc96d455-fbbb-4f21-948f-c906bdd4b791",
   "metadata": {},
   "source": [
    "If we filter out repositories that have their main purpose to be forked, the clear winner is TensorFlow, then Bootstrap, OpenCV and React."
   ]
  },
  {
   "cell_type": "markdown",
   "id": "95ac0dc1-137c-4543-a089-f09049b05d2a",
   "metadata": {},
   "source": [
    "## Proportions between stars and forks\n",
    "\n",
    "Let's check the proportion of stars and forks."
   ]
  },
  {
   "cell_type": "code",
   "execution_count": 42,
   "id": "1b3effab-33f3-42dc-bcb2-0edbcab06cb4",
   "metadata": {},
   "outputs": [
    {
     "name": "stdout",
     "output_type": "stream",
     "text": [
      "┌─────────┬───────────────────────────────────────────┬──────────┬──────────┬───────┐\n",
      "│ (index) │                 repo_name                 │  forks   │  stars   │ ratio │\n",
      "├─────────┼───────────────────────────────────────────┼──────────┼──────────┼───────┤\n",
      "│    0    │           'jtleek/datasharing'            │ '210684' │  '6158'  │ 0.029 │\n",
      "│    1    │           'octocat/Spoon-Knife'           │ '150586' │  '4595'  │ 0.031 │\n",
      "│    2    │      'rdpeng/ProgrammingAssignment2'      │ '132470' │  '962'   │ 0.007 │\n",
      "│    3    │          'tensorflow/tensorflow'          │ '104770' │ '192293' │ 1.835 │\n",
      "│    4    │            'github/gitignore'             │ '96880'  │ '124234' │ 1.282 │\n",
      "│    5    │ 'SmartThingsCommunity/SmartThingsPublic'  │ '91478'  │  '2841'  │ 0.031 │\n",
      "│    6    │             'twbs/bootstrap'              │ '84911'  │ '114926' │ 1.353 │\n",
      "│    7    │      'nightscout/cgm-remote-monitor'      │ '78439'  │  '2309'  │ 0.029 │\n",
      "│    8    │           'LSPosed/MagiskOnWSA'           │ '76093'  │ '15454'  │ 0.203 │\n",
      "│    9    │          'barryclark/jekyll-now'          │ '75183'  │  '8344'  │ 0.111 │\n",
      "│   10    │ 'Pierian-Data/Complete-Python-3-Bootcamp' │ '73096'  │ '22835'  │ 0.312 │\n",
      "│   11    │   'jwasham/coding-interview-university'   │ '57986'  │ '204949' │ 3.534 │\n",
      "│   12    │            'eugenp/tutorials'             │ '57145'  │ '33333'  │ 0.583 │\n",
      "│   13    │              'opencv/opencv'              │ '56158'  │ '58005'  │ 1.033 │\n",
      "│   14    │            'tensorflow/models'            │ '54707'  │ '83129'  │ 1.52  │\n",
      "│   15    │               'github/docs'               │ '54381'  │ '12992'  │ 0.239 │\n",
      "│   16    │             'facebook/react'              │ '54037'  │ '211421' │ 3.913 │\n",
      "│   17    │         'rdpeng/ExData_Plotting1'         │ '53288'  │  '280'   │ 0.005 │\n",
      "│   18    │             'jlord/patchwork'             │ '52084'  │  '1385'  │ 0.027 │\n",
      "│   19    │ 'firstcontributions/first-contributions'  │ '51292'  │ '23844'  │ 0.465 │\n",
      "└─────────┴───────────────────────────────────────────┴──────────┴──────────┴───────┘\n"
     ]
    }
   ],
   "source": [
    "query(`\n",
    "SELECT repo_name, SUM(type = 'ForkEvent') AS forks, SUM(type = 'WatchEvent') AS stars, ROUND(stars/forks, 3) AS ratio\n",
    "FROM github_log.events\n",
    "WHERE type IN ('ForkEvent', 'WatchEvent')\n",
    "GROUP BY repo_name\n",
    "ORDER BY forks DESC\n",
    "LIMIT 20\n",
    "`).then(console.table);"
   ]
  },
  {
   "cell_type": "markdown",
   "id": "64f9877e-7e1d-49a2-85f9-b0dfbe899d01",
   "metadata": {},
   "source": [
    "We can see a separation. Some repositories are \"for forks\" like the \"octocat/Spoon-Knife\" — they either have fork as a purpose of the repo or some of them represent a template to base something new on. Some repositories are \"for stars\" — usually it's not software but some text content, like \"996icu/996.ICU\".\n",
    "\n",
    "The overall proportion between stars and forks:"
   ]
  },
  {
   "cell_type": "code",
   "execution_count": 43,
   "id": "a9351c83-7e18-426d-98e0-cd4eb455fb9d",
   "metadata": {},
   "outputs": [
    {
     "name": "stdout",
     "output_type": "stream",
     "text": [
      "┌─────────┬─────────────┬─────────────┬───────┐\n",
      "│ (index) │    forks    │    stars    │ ratio │\n",
      "├─────────┼─────────────┼─────────────┼───────┤\n",
      "│    0    │ '102662142' │ '283580387' │ 2.76  │\n",
      "└─────────┴─────────────┴─────────────┴───────┘\n"
     ]
    }
   ],
   "source": [
    "query(`\n",
    "SELECT SUM(type = 'ForkEvent') AS forks, SUM(type = 'WatchEvent') AS stars, ROUND(stars/forks, 2) AS ratio\n",
    "FROM github_log.events\n",
    "WHERE type IN ('ForkEvent', 'WatchEvent')\n",
    "`).then(console.table);"
   ]
  },
  {
   "cell_type": "markdown",
   "id": "5408a03e-fdda-4eb9-836e-f70e1ee71217",
   "metadata": {},
   "source": [
    "And the result is higher for more popular reposioties:"
   ]
  },
  {
   "cell_type": "code",
   "execution_count": 45,
   "id": "9947c2d7-6785-4921-af4c-67cf0b9a6bc7",
   "metadata": {},
   "outputs": [
    {
     "name": "stdout",
     "output_type": "stream",
     "text": [
      "┌─────────┬────────────┬─────────────┬───────┐\n",
      "│ (index) │   forks    │    stars    │ ratio │\n",
      "├─────────┼────────────┼─────────────┼───────┤\n",
      "│    0    │ '53390966' │ '206692224' │ 3.87  │\n",
      "└─────────┴────────────┴─────────────┴───────┘\n"
     ]
    }
   ],
   "source": [
    "query(`\n",
    "SELECT SUM(forks) AS forks, SUM(stars) AS stars, ROUND(stars/forks, 2) AS ratio\n",
    "FROM (\n",
    "    SELECT SUM(type = 'ForkEvent') AS forks, SUM(type = 'WatchEvent') AS stars\n",
    "    FROM github_log.events\n",
    "    WHERE type IN ('ForkEvent', 'WatchEvent')\n",
    "    GROUP BY repo_name\n",
    "    HAVING stars > 100\n",
    ")\n",
    "`).then(console.table);"
   ]
  },
  {
   "cell_type": "markdown",
   "id": "d6c0c3e5-a7e0-4977-91b9-f6a16023538c",
   "metadata": {},
   "source": [
    "## Issue with the most comments\n",
    "\n",
    "Total number of issue comments on GitHub:"
   ]
  },
  {
   "cell_type": "code",
   "execution_count": 47,
   "id": "e48722e6-382a-45a1-a0c6-8ce3ef704f73",
   "metadata": {},
   "outputs": [
    {
     "name": "stdout",
     "output_type": "stream",
     "text": [
      "┌─────────┬─────────────┐\n",
      "│ (index) │   COUNT()   │\n",
      "├─────────┼─────────────┤\n",
      "│    0    │ '286123286' │\n",
      "└─────────┴─────────────┘\n"
     ]
    }
   ],
   "source": [
    "query(`\n",
    "SELECT COUNT()\n",
    "FROM github_log.events\n",
    "WHERE type = 'IssueCommentEvent' AND action = 'created'\n",
    "`).then(console.table);"
   ]
  },
  {
   "cell_type": "markdown",
   "id": "2f2b1925-a517-4eaa-af31-a5c35ff46ccb",
   "metadata": {},
   "source": [
    "The top repositories by issue comments:"
   ]
  },
  {
   "cell_type": "code",
   "execution_count": 48,
   "id": "5a95e227-c414-4eb2-b7a9-d7bcb865f2f3",
   "metadata": {},
   "outputs": [
    {
     "name": "stdout",
     "output_type": "stream",
     "text": [
      "┌─────────┬────────────────────────────────────────┬───────────┐\n",
      "│ (index) │               repo_name                │  COUNT()  │\n",
      "├─────────┼────────────────────────────────────────┼───────────┤\n",
      "│    0    │        'kubernetes/kubernetes'         │ '1639810' │\n",
      "│    1    │             'apache/spark'             │ '778892'  │\n",
      "│    2    │            'rust-lang/rust'            │ '621506'  │\n",
      "│    3    │    'google-test/signcla-probe-repo'    │ '583032'  │\n",
      "│    4    │            'elastic/kibana'            │ '533425'  │\n",
      "│    5    │             'cms-sw/cmssw'             │ '511148'  │\n",
      "│    6    │           'openshift/origin'           │ '498328'  │\n",
      "│    7    │            'NixOS/nixpkgs'             │ '479746'  │\n",
      "│    8    │           'flutter/flutter'            │ '468858'  │\n",
      "│    9    │    'brianchandotcom/liferay-portal'    │ '406238'  │\n",
      "│   10    │          'openshift/release'           │ '369572'  │\n",
      "│   11    │        'microsoft/winget-pkgs'         │ '344561'  │\n",
      "│   12    │             'istio/istio'              │ '341351'  │\n",
      "│   13    │       'MicrosoftDocs/azure-docs'       │ '331325'  │\n",
      "│   14    │        'tensorflow/tensorflow'         │ '308836'  │\n",
      "│   15    │        'cockroachdb/cockroach'         │ '303800'  │\n",
      "│   16    │             'nodejs/node'              │ '297940'  │\n",
      "│   17    │ 'everypolitician/everypolitician-data' │ '290276'  │\n",
      "│   18    │           'ansible/ansible'            │ '288121'  │\n",
      "│   19    │              'golang/go'               │ '281087'  │\n",
      "└─────────┴────────────────────────────────────────┴───────────┘\n"
     ]
    }
   ],
   "source": [
    "query(`\n",
    "SELECT repo_name, COUNT()\n",
    "FROM github_log.events\n",
    "WHERE type = 'IssueCommentEvent' AND action = 'created'\n",
    "GROUP BY repo_name\n",
    "ORDER BY COUNT() DESC\n",
    "LIMIT 20\n",
    "`).then(console.table);"
   ]
  },
  {
   "cell_type": "markdown",
   "id": "6171e20f-e99e-486e-8d08-f6e1ef99b622",
   "metadata": {},
   "source": [
    "The proportion between issue comments and issues:"
   ]
  },
  {
   "cell_type": "code",
   "execution_count": 49,
   "id": "08547bea-a70b-4877-a45c-decaf62fa7bd",
   "metadata": {},
   "outputs": [
    {
     "name": "stdout",
     "output_type": "stream",
     "text": [
      "┌─────────┬────────────────────────────────────────┬───────────┬──────────┬───────┐\n",
      "│ (index) │               repo_name                │ comments  │  issues  │ ratio │\n",
      "├─────────┼────────────────────────────────────────┼───────────┼──────────┼───────┤\n",
      "│    0    │        'kubernetes/kubernetes'         │ '1639810' │ '98388'  │ 16.67 │\n",
      "│    1    │             'apache/spark'             │ '778892'  │ '32770'  │ 23.77 │\n",
      "│    2    │            'rust-lang/rust'            │ '621506'  │ '75263'  │ 8.26  │\n",
      "│    3    │    'google-test/signcla-probe-repo'    │ '583032'  │ '447312' │  1.3  │\n",
      "│    4    │            'elastic/kibana'            │ '533425'  │ '119291' │ 4.47  │\n",
      "│    5    │             'cms-sw/cmssw'             │ '511148'  │ '31058'  │ 16.46 │\n",
      "│    6    │           'openshift/origin'           │ '498328'  │ '25812'  │ 19.31 │\n",
      "│    7    │            'NixOS/nixpkgs'             │ '479746'  │ '119238' │ 4.02  │\n",
      "│    8    │           'flutter/flutter'            │ '468858'  │ '92966'  │ 5.04  │\n",
      "│    9    │    'brianchandotcom/liferay-portal'    │ '406238'  │ '94006'  │ 4.32  │\n",
      "│   10    │          'openshift/release'           │ '369572'  │ '28327'  │ 13.05 │\n",
      "│   11    │        'microsoft/winget-pkgs'         │ '344561'  │ '59110'  │ 5.83  │\n",
      "│   12    │             'istio/istio'              │ '341351'  │ '34850'  │ 9.79  │\n",
      "│   13    │       'MicrosoftDocs/azure-docs'       │ '331325'  │ '90538'  │ 3.66  │\n",
      "│   14    │        'tensorflow/tensorflow'         │ '308836'  │ '47936'  │ 6.44  │\n",
      "│   15    │        'cockroachdb/cockroach'         │ '303800'  │ '70447'  │ 4.31  │\n",
      "│   16    │             'nodejs/node'              │ '297940'  │ '39040'  │ 7.63  │\n",
      "│   17    │ 'everypolitician/everypolitician-data' │ '290276'  │ '161333' │  1.8  │\n",
      "│   18    │           'ansible/ansible'            │ '288121'  │ '59901'  │ 4.81  │\n",
      "│   19    │              'golang/go'               │ '281087'  │ '42726'  │ 6.58  │\n",
      "└─────────┴────────────────────────────────────────┴───────────┴──────────┴───────┘\n"
     ]
    }
   ],
   "source": [
    "query(`\n",
    "SELECT repo_name, COUNT(action = 'created') AS comments, uniq(issue_number) AS issues, ROUND(comments/issues, 2) AS ratio\n",
    "FROM github_log.events\n",
    "WHERE type = 'IssueCommentEvent'\n",
    "GROUP BY repo_name\n",
    "ORDER BY comments DESC\n",
    "LIMIT 20\n",
    "`).then(console.table);"
   ]
  },
  {
   "cell_type": "markdown",
   "id": "5c724ce3-8234-469d-bd5f-e876676b59a5",
   "metadata": {},
   "source": [
    "Spark has the most active discussions among the top repositories. In contrast, the repository with the least comments per issue. And \"google-test/signcla-probe-repo\", is clearly not for discussions.\n",
    "\n",
    "Now let's find the most active issues..."
   ]
  },
  {
   "cell_type": "code",
   "execution_count": 51,
   "id": "a43328da-32b5-4c62-8546-0622aad61eb5",
   "metadata": {},
   "outputs": [
    {
     "name": "stdout",
     "output_type": "stream",
     "text": [
      "┌─────────┬──────────────────────────────────────────────────────────┬──────────────┬──────────┐\n",
      "│ (index) │                        repo_name                         │ issue_number │ comments │\n",
      "├─────────┼──────────────────────────────────────────────────────────┼──────────────┼──────────┤\n",
      "│    0    │                   'sauron-demo/sauron'                   │      1       │ '21022'  │\n",
      "│    1    │           'gafusion/regression_notifications'            │      1       │ '20596'  │\n",
      "│    2    │             'odoo-mergebot-testing-org/repo'             │      1       │ '13153'  │\n",
      "│    3    │           'zeit-github-test/github-utils-test'           │      1       │  '8296'  │\n",
      "│    4    │             'odoo-mergebot-testing-org/proj'             │      1       │  '7507'  │\n",
      "│    5    │                  'Blaquez-home/roslyn'                   │      2       │  '6548'  │\n",
      "│    6    │                      'openshift/oc'                      │     270      │  '5909'  │\n",
      "│    7    │               'tphongio/elasticbox-plugin'               │      1       │  '5668'  │\n",
      "│    8    │           'openfoodfacts/openfoodfacts-server'           │     3767     │  '5098'  │\n",
      "│    9    │                    'codecov/ci-repo'                     │      4       │  '5026'  │\n",
      "│   10    │                      'openshift/oc'                      │     814      │  '4706'  │\n",
      "│   11    │ 'openshift/cluster-resource-override-admission-operator' │      29      │  '4562'  │\n",
      "│   12    │                   'kubeflow/pipelines'                   │     5071     │  '4344'  │\n",
      "│   13    │                    'Omicron666/godot'                    │      55      │  '4273'  │\n",
      "│   14    │                    'jeremyjia/Games'                     │     743      │  '4249'  │\n",
      "│   15    │             'odoo-mergebot-testing-org/proj'             │      2       │  '4175'  │\n",
      "│   16    │                 'ingvagabund/kubernetes'                 │      58      │  '4134'  │\n",
      "│   17    │         'garethjevans/jenkins-cwp-quickstart01'          │      1       │  '4091'  │\n",
      "│   18    │                 'cxflowtestuser/VB_3845'                 │      48      │  '3860'  │\n",
      "│   19    │                      'CC-ZICO/FORK'                      │      3       │  '3803'  │\n",
      "└─────────┴──────────────────────────────────────────────────────────┴──────────────┴──────────┘\n"
     ]
    }
   ],
   "source": [
    "query(`\n",
    "SELECT repo_name, issue_number, COUNT() AS comments\n",
    "FROM github_log.events\n",
    "WHERE type = 'IssueCommentEvent' AND action = 'created'\n",
    "GROUP BY repo_name, issue_number\n",
    "ORDER BY comments DESC\n",
    "LIMIT 20\n",
    "`).then(console.table);"
   ]
  },
  {
   "cell_type": "markdown",
   "id": "c613dff2-fb77-41fd-8492-5fbdabb3faa8",
   "metadata": {},
   "source": [
    "The top repositories have the most comments in their first issue. It looks like technical comments made by some script. Nothing interesting here, and actually I did not find these comments on the GitHub website (maybe they have already been deleted)."
   ]
  },
  {
   "cell_type": "markdown",
   "id": "5d897378-3a63-4313-af38-e445b9fb23c4",
   "metadata": {},
   "source": [
    "## Top commented issues for each of the top repositories"
   ]
  },
  {
   "cell_type": "code",
   "execution_count": 54,
   "id": "056449f1-7a96-4836-861d-df9d5b093e65",
   "metadata": {},
   "outputs": [
    {
     "name": "stdout",
     "output_type": "stream",
     "text": [
      "┌─────────┬───────────────────────────────────────────────────────────┬───────────────┬─────────┬──────────────┬─────────────┐\n",
      "│ (index) │                            URL                            │ MAX(comments) │ authors │ issue_number │    stars    │\n",
      "├─────────┼───────────────────────────────────────────────────────────┼───────────────┼─────────┼──────────────┼─────────────┤\n",
      "│    0    │     'https://github.com/flutter/flutter/issues/51752'     │     '496'     │  '38'   │    51752     │ '446231570' │\n",
      "│    1    │  'https://github.com/kubernetes/kubernetes/issues/46254'  │    '1281'     │  '11'   │    46254     │ '308361992' │\n",
      "│    2    │   'https://github.com/tensorflow/tensorflow/issues/22'    │     '632'     │  '157'  │      22      │ '302476889' │\n",
      "│    3    │  'https://github.com/facebook/react-native/issues/4968'   │     '512'     │  '305'  │     4968     │ '253900605' │\n",
      "│    4    │     'https://github.com/rust-lang/rust/issues/65590'      │     '896'     │  '10'   │    65590     │ '153387050' │\n",
      "│    5    │        'https://github.com/golang/go/issues/15292'        │     '873'     │  '162'  │    15292     │ '120339300' │\n",
      "│    6    │     'https://github.com/angular/angular/issues/5689'      │     '307'     │  '83'   │     5689     │ '114738500' │\n",
      "│    7    │     'https://github.com/facebook/react/issues/13991'      │     '433'     │  '331'  │    13991     │ '106133342' │\n",
      "│    8    │       'https://github.com/nodejs/node/issues/5020'        │     '468'     │  '79'   │     5020     │ '99439704'  │\n",
      "│    9    │     'https://github.com/Microsoft/vscode/issues/224'      │     '417'     │  '150'  │     224      │ '73668144'  │\n",
      "│   10    │     'https://github.com/microsoft/vscode/issues/8017'     │     '235'     │  '93'   │     8017     │ '53415960'  │\n",
      "│   11    │       'https://github.com/996icu/996.ICU/issues/20'       │    '1305'     │ '1038'  │      20      │ '51703296'  │\n",
      "│   12    │ 'https://github.com/FortAwesome/Font-Awesome/issues/7574' │     '408'     │  '328'  │     7574     │ '43511754'  │\n",
      "│   13    │        'https://github.com/atom/atom/issues/2956'         │     '238'     │  '95'   │     2956     │ '42368988'  │\n",
      "│   14    │     'https://github.com/electron/electron/issues/673'     │     '232'     │  '60'   │     673      │ '41312502'  │\n",
      "│   15    │        'https://github.com/vuejs/vue/issues/2873'         │     '214'     │  '63'   │     2873     │ '39232476'  │\n",
      "│   16    │     'https://github.com/bitcoin/bitcoin/issues/6312'      │     '175'     │  '18'   │     6312     │ '38286692'  │\n",
      "│   17    │  'https://github.com/ant-design/ant-design/issues/13848'  │     '913'     │  '536'  │    13848     │ '36404395'  │\n",
      "│   18    │    'https://github.com/godotengine/godot/issues/16863'    │     '513'     │  '89'   │    16863     │ '35695755'  │\n",
      "│   19    │     'https://github.com/gatsbyjs/gatsby/issues/19618'     │     '176'     │  '86'   │    19618     │ '32433192'  │\n",
      "└─────────┴───────────────────────────────────────────────────────────┴───────────────┴─────────┴──────────────┴─────────────┘\n"
     ]
    }
   ],
   "source": [
    "query(`\n",
    "SELECT\n",
    "    CONCAT('https://github.com/', repo_name, '/issues/', toString(issue_number)) AS URL,\n",
    "    MAX(comments),\n",
    "    argMax(authors, comments) AS authors,\n",
    "    argMax(issue_number, comments) AS issue_number,\n",
    "    SUM(stars) AS stars\n",
    "FROM (\n",
    "    SELECT * FROM (\n",
    "        SELECT repo_name, issue_number, COUNT() AS comments, uniq(actor_login) AS authors\n",
    "        FROM github_log.events\n",
    "        WHERE type = 'IssueCommentEvent' AND action = 'created'\n",
    "        GROUP BY repo_name, issue_number\n",
    "        HAVING authors >= 10\n",
    "    ) AS t1\n",
    "    INNER JOIN\n",
    "    (\n",
    "        SELECT repo_name, COUNT() AS stars\n",
    "        FROM github_log.events\n",
    "        WHERE type = 'WatchEvent'\n",
    "        GROUP BY repo_name\n",
    "        HAVING stars > 10000\n",
    "    ) AS t2 USING (repo_name)\n",
    ")\n",
    "GROUP BY repo_name\n",
    "ORDER BY stars DESC\n",
    "LIMIT 20\n",
    "`).then(console.table);"
   ]
  },
  {
   "cell_type": "markdown",
   "id": "f52f7b76-1a0b-433c-88cf-4e5f67dd87ac",
   "metadata": {},
   "source": [
    "I hope you will find the most crucial discussions here. Enjoy!"
   ]
  },
  {
   "cell_type": "markdown",
   "id": "82950cc1-fd68-4914-ad43-8993bc61397c",
   "metadata": {},
   "source": [
    "## Commits with the most comments\n",
    "\n",
    "It's rarely the case when a single commit has comments.\n",
    "\n",
    "Here are the top repositories by the number of commit comments:"
   ]
  },
  {
   "cell_type": "code",
   "execution_count": 55,
   "id": "4809a14b-4e58-45e8-9d04-44d45d9c6acb",
   "metadata": {},
   "outputs": [
    {
     "name": "stdout",
     "output_type": "stream",
     "text": [
      "┌─────────┬─────────────────────────────────────────┬──────────┬─────────┐\n",
      "│ (index) │                repo_name                │ comments │ authors │\n",
      "├─────────┼─────────────────────────────────────────┼──────────┼─────────┤\n",
      "│    0    │            'NREL/EnergyPlus'            │ '86362'  │  '47'   │\n",
      "│    1    │       'bambootest-bot/githubtest'       │ '85014'  │   '1'   │\n",
      "│    2    │         'siggetest/githubtest'          │ '51350'  │   '1'   │\n",
      "│    3    │          'PaddlePaddle/Paddle'          │ '50832'  │  '45'   │\n",
      "│    4    │         'w4ctech/front-end-rss'         │ '42747'  │   '1'   │\n",
      "│    5    │               'dcos/dcos'               │ '42592'  │  '16'   │\n",
      "│    6    │        'xamarin/xamarin-macios'         │ '40383'  │  '34'   │\n",
      "│    7    │    'iterativv/NostalgiaForInfinity'     │ '32232'  │  '12'   │\n",
      "│    8    │   'doourdo27/linux-command-autobuild'   │ '24305'  │   '1'   │\n",
      "│    9    │         'kubernetes/kubernetes'         │ '21271'  │  '298'  │\n",
      "│   10    │    'GuilhermeManteigas/DSC-website'     │ '20523'  │   '1'   │\n",
      "│   11    │     'PipecraftNet/v2hot.github.io'      │ '19613'  │   '1'   │\n",
      "│   12    │    'tgrzesik/express-simple-server'     │ '14391'  │   '2'   │\n",
      "│   13    │        'wyattowalsh/wyattowalsh'        │ '14321'  │   '1'   │\n",
      "│   14    │ 'zeit-github-test/github-e2e-tests-dev' │ '13401'  │   '3'   │\n",
      "│   15    │     'jupitersh/jupitersh.github.io'     │ '13384'  │   '2'   │\n",
      "│   16    │        'joschi/asdf-vm-twitter'         │ '13105'  │   '1'   │\n",
      "│   17    │   'mozilla-mobile/android-components'   │ '12740'  │  '14'   │\n",
      "│   18    │     'leetcode-pp/leetcode-pp-node'      │ '12537'  │   '1'   │\n",
      "│   19    │            'NREL/OpenStudio'            │ '11880'  │  '28'   │\n",
      "└─────────┴─────────────────────────────────────────┴──────────┴─────────┘\n"
     ]
    }
   ],
   "source": [
    "query(`\n",
    "SELECT repo_name, COUNT() AS comments, uniq(actor_login) AS authors\n",
    "FROM github_log.events\n",
    "WHERE type = 'CommitCommentEvent'\n",
    "GROUP BY repo_name\n",
    "ORDER BY comments DESC\n",
    "LIMIT 20\n",
    "`).then(console.table);"
   ]
  },
  {
   "cell_type": "markdown",
   "id": "2c6636b3-de32-48b1-979b-aa650f0917d0",
   "metadata": {},
   "source": [
    "If there are many comments but a small number of comment authors, usually they are comments from the CI robot."
   ]
  },
  {
   "cell_type": "markdown",
   "id": "d986214f-686b-47d9-bdc1-b97a7478c64d",
   "metadata": {},
   "source": [
    "## The most tough code reviews"
   ]
  },
  {
   "cell_type": "code",
   "execution_count": 57,
   "id": "7006f438-c841-400b-b095-0ace59713120",
   "metadata": {},
   "outputs": [
    {
     "name": "stdout",
     "output_type": "stream",
     "text": [
      "┌─────────┬─────────────────────────────────────────────────────────────┬─────────┐\n",
      "│ (index) │                             URL                             │ authors │\n",
      "├─────────┼─────────────────────────────────────────────────────────────┼─────────┤\n",
      "│    0    │        'https://github.com/torvalds/linux/pull/684'         │  '66'   │\n",
      "│    1    │           'https://github.com/NixOS/rfcs/pull/49'           │  '53'   │\n",
      "│    2    │         'https://github.com/sunpy/sunpy/pull/3391'          │  '52'   │\n",
      "│    3    │ 'https://github.com/dashbitco/mix_phx_gen_auth_demo/pull/1' │  '51'   │\n",
      "│    4    │          'https://github.com/reactjs/rfcs/pull/2'           │  '44'   │\n",
      "│    5    │    'https://github.com/matrix-org/matrix-doc/pull/1772'     │  '40'   │\n",
      "│    6    │          'https://github.com/php/php-rfcs/pull/1'           │  '40'   │\n",
      "│    7    │    'https://github.com/danielmiessler/SecLists/pull/155'    │  '38'   │\n",
      "│    8    │      'https://github.com/github/site-policy/pull/397'       │  '36'   │\n",
      "│    9    │       'https://github.com/symfony/symfony/pull/33553'       │  '35'   │\n",
      "│   10    │     'https://github.com/kubernetes/community/pull/306'      │  '34'   │\n",
      "│   11    │       'https://github.com/pingcap/docs-cn/pull/8061'        │  '34'   │\n",
      "│   12    │        'https://github.com/rust-lang/rfcs/pull/2850'        │  '33'   │\n",
      "│   13    │       'https://github.com/NixOS/nixpkgs/pull/140136'        │  '32'   │\n",
      "│   14    │        'https://github.com/rust-lang/rfcs/pull/3090'        │  '32'   │\n",
      "│   15    │      'https://github.com/date-fns/date-fns/pull/1671'       │  '32'   │\n",
      "│   16    │       'https://github.com/github/site-policy/pull/1'        │  '31'   │\n",
      "│   17    │         'https://github.com/tc39/ecma262/pull/1062'         │  '30'   │\n",
      "│   18    │       'https://github.com/996icu/996.ICU/pull/25509'        │  '30'   │\n",
      "│   19    │         'https://github.com/dotnet/designs/pull/92'         │  '30'   │\n",
      "└─────────┴─────────────────────────────────────────────────────────────┴─────────┘\n"
     ]
    }
   ],
   "source": [
    "query(`\n",
    "SELECT\n",
    "    concat('https://github.com/', repo_name, '/pull/', toString(issue_number)) AS URL,\n",
    "    uniq(actor_login) AS authors\n",
    "FROM github_log.events\n",
    "WHERE type = 'PullRequestReviewCommentEvent' AND action = 'created'\n",
    "GROUP BY repo_name, issue_number\n",
    "ORDER BY authors DESC\n",
    "LIMIT 20\n",
    "`).then(console.table);"
   ]
  },
  {
   "cell_type": "markdown",
   "id": "d201ea79-2445-4661-8e60-46e0106e3884",
   "metadata": {},
   "source": [
    "The [first entry](https://github.com/torvalds/linux/pull/684) is true insanity. But there are many interesting ones like the [proposal](https://github.com/rust-lang/rfcs/pull/2850) to add inline assembly to Rust."
   ]
  },
  {
   "cell_type": "markdown",
   "id": "14079f70-d574-4b60-a270-a4eaa73efaaf",
   "metadata": {},
   "source": [
    "## Authors with the most pushes"
   ]
  },
  {
   "cell_type": "code",
   "execution_count": 59,
   "id": "85e5f9a3-8e84-45a6-abe8-1ae124094c0b",
   "metadata": {},
   "outputs": [
    {
     "name": "stdout",
     "output_type": "stream",
     "text": [
      "┌─────────┬───────────────────────────┬────────────┬───────────┐\n",
      "│ (index) │        actor_login        │     c      │   repos   │\n",
      "├─────────┼───────────────────────────┼────────────┼───────────┤\n",
      "│    0    │   'github-actions[bot]'   │ '76827509' │ '425266'  │\n",
      "│    1    │        'LombiqBot'        │ '57088724' │   '148'   │\n",
      "│    2    │        'pull[bot]'        │ '9749118'  │ '201382'  │\n",
      "│    3    │      'renovate[bot]'      │ '9341943'  │  '62738'  │\n",
      "│    4    │      'renovate-bot'       │ '6937231'  │  '1415'   │\n",
      "│    5    │       'commit-b0t'        │ '6884165'  │    '3'    │\n",
      "│    6    │     'direwolf-github'     │ '5615741'  │ '2759840' │\n",
      "│    7    │  'OpenLocalizationTest'   │ '4863832'  │   '713'   │\n",
      "│    8    │     'dependabot[bot]'     │ '4786070'  │ '602239'  │\n",
      "│    9    │          'znyt'           │ '4171838'  │   '116'   │\n",
      "│   10    │     'breakingheatmap'     │ '3319742'  │    '1'    │\n",
      "│   11    │        'newstools'        │ '2837336'  │  '1029'   │\n",
      "│   12    │ 'dependabot-preview[bot]' │ '2779510'  │  '48081'  │\n",
      "│   13    │     'peter-clifford'      │ '2621935'  │    '4'    │\n",
      "│   14    │        'tmtmtmtm'         │ '2331472'  │  '1303'   │\n",
      "│   15    │       'ssbattousai'       │ '2302664'  │   '990'   │\n",
      "│   16    │          'Dids'           │ '2276383'  │   '189'   │\n",
      "│   17    │       'unitydemo2'        │ '2000658'  │   '19'    │\n",
      "│   18    │        'grid-bot'         │ '1992420'  │  '42314'  │\n",
      "│   19    │         'himobi'          │ '1969585'  │    '1'    │\n",
      "└─────────┴───────────────────────────┴────────────┴───────────┘\n"
     ]
    }
   ],
   "source": [
    "query(`\n",
    "SELECT actor_login, COUNT() AS c, uniq(repo_name) AS repos\n",
    "FROM github_log.events\n",
    "WHERE type = 'PushEvent'\n",
    "GROUP BY actor_login\n",
    "ORDER BY c DESC\n",
    "LIMIT 20\n",
    "`).then(console.table);"
   ]
  },
  {
   "cell_type": "markdown",
   "id": "a9bd8820-ddf9-4d71-a0de-89fbaec8c7bd",
   "metadata": {},
   "source": [
    "Obviously most of them are bots."
   ]
  },
  {
   "cell_type": "markdown",
   "id": "9592d02f-2b2b-4de9-b981-2083778e93e8",
   "metadata": {},
   "source": [
    "## Organizations by the number of stars"
   ]
  },
  {
   "cell_type": "code",
   "execution_count": 63,
   "id": "6dd8e2af-ff92-4db1-98f4-3dc803815c92",
   "metadata": {},
   "outputs": [
    {
     "name": "stdout",
     "output_type": "stream",
     "text": [
      "┌─────────┬────────────────────┬───────────┐\n",
      "│ (index) │     org_login      │   stars   │\n",
      "├─────────┼────────────────────┼───────────┤\n",
      "│    0    │      'google'      │ '1637536' │\n",
      "│    1    │    'microsoft'     │ '1280579' │\n",
      "│    2    │     'facebook'     │ '1116194' │\n",
      "│    3    │     'alibaba'      │ '710840'  │\n",
      "│    4    │      'apache'      │ '696335'  │\n",
      "│    5    │    'Microsoft'     │ '680246'  │\n",
      "│    6    │      'vuejs'       │ '585187'  │\n",
      "│    7    │     'fossasia'     │ '488646'  │\n",
      "│    8    │    'tensorflow'    │ '487747'  │\n",
      "│    9    │      'github'      │ '415543'  │\n",
      "│   10    │ 'facebookresearch' │ '407815'  │\n",
      "│   11    │      'airbnb'      │ '407420'  │\n",
      "│   12    │     'Tencent'      │ '381252'  │\n",
      "│   13    │     'symfony'      │ '328240'  │\n",
      "│   14    │  'TheAlgorithms'   │ '288806'  │\n",
      "│   15    │     'angular'      │ '278312'  │\n",
      "│   16    │      'dotnet'      │ '261664'  │\n",
      "│   17    │      'square'      │ '261045'  │\n",
      "│   18    │ 'aplus-framework'  │ '250853'  │\n",
      "│   19    │   'shadowsocks'    │ '249301'  │\n",
      "└─────────┴────────────────────┴───────────┘\n"
     ]
    }
   ],
   "source": [
    "query(`\n",
    "SELECT org_login, COUNT() AS stars\n",
    "FROM github_log.events\n",
    "WHERE type = 'WatchEvent' AND org_login != ''\n",
    "GROUP BY org_login\n",
    "ORDER BY stars DESC\n",
    "LIMIT 20\n",
    "`).then(console.table);"
   ]
  },
  {
   "cell_type": "markdown",
   "id": "e97535ce-fe7a-4017-8031-c98f1b06bf31",
   "metadata": {},
   "source": [
    "You may notice that Google is slightly ahead of Microsoft. Actually, it depends on how you count. Maybe you should sum up Tensorflow, Kubernetes, Flutter, Golang, and Chrome for Google; GitHub and DotNet for Microsoft; Facebook Research and React for Facebook."
   ]
  },
  {
   "cell_type": "markdown",
   "id": "e7bdaea5-ae4a-42c4-b517-507dc47103db",
   "metadata": {},
   "source": [
    "## Organizations by the number of repositories"
   ]
  },
  {
   "cell_type": "code",
   "execution_count": 65,
   "id": "368eecfb-cc7a-42a5-8e46-858e838373c4",
   "metadata": {},
   "outputs": [
    {
     "name": "stdout",
     "output_type": "stream",
     "text": [
      "┌─────────┬─────────────────────────────┬──────────┐\n",
      "│ (index) │          org_login          │  repos   │\n",
      "├─────────┼─────────────────────────────┼──────────┤\n",
      "│    0    │     'learn-co-students'     │ '329858' │\n",
      "│    1    │ 'circle-test-organization'  │ '295213' │\n",
      "│    2    │    'codeserver-test-org'    │ '141256' │\n",
      "│    3    │       'experiment50'        │ '99802'  │\n",
      "│    4    │         'blucodon'          │ '84525'  │\n",
      "│    5    │          'bluauto'          │ '74793'  │\n",
      "│    6    │        'aur-archive'        │ '70405'  │\n",
      "│    7    │         'GITenberg'         │ '66489'  │\n",
      "│    8    │        'aur-mirror'         │ '58144'  │\n",
      "│    9    │        'wp-plugins'         │ '52708'  │\n",
      "│   10    │     'terraformtesting'      │ '49623'  │\n",
      "│   11    │         'cb-kubecd'         │ '45141'  │\n",
      "│   12    │        'the-domains'        │ '42581'  │\n",
      "│   13    │  'textcreationpartnership'  │ '42197'  │\n",
      "│   14    │        'turbocanary'        │ '36935'  │\n",
      "│   15    │    'octokit-fixture-org'    │ '35998'  │\n",
      "│   16    │       'hail-ci-test'        │ '35436'  │\n",
      "│   17    │        'Sym123Blue'         │ '30246'  │\n",
      "│   18    │ 'odoo-mergebot-testing-org' │ '28043'  │\n",
      "│   19    │     'londonappbrewery'      │ '27784'  │\n",
      "└─────────┴─────────────────────────────┴──────────┘\n"
     ]
    }
   ],
   "source": [
    "query(`\n",
    "SELECT org_login, uniq(repo_name) AS repos\n",
    "FROM github_log.events\n",
    "WHERE org_login != ''\n",
    "GROUP BY org_login\n",
    "ORDER BY repos DESC\n",
    "LIMIT 20\n",
    "`).then(console.table);"
   ]
  },
  {
   "cell_type": "markdown",
   "id": "f8f88075-0130-49c2-8c49-e497598b8c30",
   "metadata": {},
   "source": [
    "## Organizations by the size of community\n",
    "\n",
    "The size of community that is visible on GitHub."
   ]
  },
  {
   "cell_type": "code",
   "execution_count": 68,
   "id": "b34370ee-93fc-4db1-b77b-ff5b7d9709ac",
   "metadata": {},
   "outputs": [
    {
     "name": "stdout",
     "output_type": "stream",
     "text": [
      "┌─────────┬──────────────────────┬──────────┬────────────┬───────────────┬─────────────────┬────────────────┬──────────────┐\n",
      "│ (index) │      org_login       │ authors  │ pr_authors │ issue_authors │ comment_authors │ review_authors │ push_authors │\n",
      "├─────────┼──────────────────────┼──────────┼────────────┼───────────────┼─────────────────┼────────────────┼──────────────┤\n",
      "│    0    │     'microsoft'      │ '332359' │  '42618'   │   '200858'    │    '249077'     │    '15049'     │    '9332'    │\n",
      "│    1    │       'google'       │ '130073' │  '43771'   │    '61086'    │     '86478'     │     '8353'     │    '3640'    │\n",
      "│    2    │      'facebook'      │ '127748' │  '19795'   │    '53266'    │    '104844'     │     '5479'     │    '1008'    │\n",
      "│    3    │   'microsoftdocs'    │ '121581' │  '27188'   │    '81079'    │     '63906'     │     '2577'     │    '1657'    │\n",
      "│    4    │       'docker'       │ '91937'  │   '7434'   │    '41413'    │     '69847'     │     '1865'     │    '279'     │\n",
      "│    5    │       'apache'       │ '91035'  │  '40367'   │    '35980'    │     '66548'     │    '18678'     │    '2716'    │\n",
      "│    6    │       'azure'        │ '80997'  │  '17781'   │    '47371'    │     '61687'     │     '8121'     │    '4478'    │\n",
      "│    7    │      'angular'       │ '75165'  │   '7740'   │    '33078'    │     '63907'     │     '2059'     │    '188'     │\n",
      "│    8    │     'tensorflow'     │ '65248'  │   '9166'   │    '32102'    │     '55103'     │     '2993'     │    '610'     │\n",
      "│    9    │       'dotnet'       │ '65059'  │   '9714'   │    '39052'    │     '49701'     │     '4050'     │    '998'     │\n",
      "│   10    │        'aws'         │ '63122'  │   '9038'   │    '31830'    │     '51463'     │     '3293'     │    '1400'    │\n",
      "│   11    │     'kubernetes'     │ '56922'  │  '14529'   │    '27277'    │     '47723'     │     '6739'     │    '361'     │\n",
      "│   12    │     'hashicorp'      │ '55685'  │  '11123'   │    '28384'    │     '43018'     │     '2763'     │    '799'     │\n",
      "│   13    │      'flutter'       │ '53532'  │   '4062'   │    '26705'    │     '44453'     │     '1574'     │    '317'     │\n",
      "│   14    │      'alibaba'       │ '50684'  │   '5976'   │    '32903'    │     '34836'     │     '1178'     │    '1022'    │\n",
      "│   15    │      'elastic'       │ '45250'  │   '7853'   │    '22244'    │     '36201'     │     '2261'     │    '1012'    │\n",
      "│   16    │       'vuejs'        │ '42247'  │   '8964'   │    '20281'    │     '31016'     │     '1285'     │     '90'     │\n",
      "│   17    │ 'learn-co-students'  │ '41413'  │  '41223'   │     '878'     │     '1795'      │     '180'      │    '684'     │\n",
      "│   18    │    'fortawesome'     │ '37594'  │   '500'    │    '11145'    │     '31482'     │      '52'      │     '17'     │\n",
      "│   19    │ 'firstcontributions' │ '37501'  │  '37071'   │     '278'     │     '2941'      │     '114'      │     '7'      │\n",
      "└─────────┴──────────────────────┴──────────┴────────────┴───────────────┴─────────────────┴────────────────┴──────────────┘\n"
     ]
    }
   ],
   "source": [
    "query(`\n",
    "SELECT\n",
    "    lower(org_login) AS org_login,\n",
    "    uniq(actor_login) AS authors,\n",
    "    uniqIf(actor_login, type = 'PullRequestEvent') AS pr_authors,\n",
    "    uniqIf(actor_login, type = 'IssuesEvent') AS issue_authors,\n",
    "    uniqIf(actor_login, type = 'IssueCommentEvent') AS comment_authors,\n",
    "    uniqIf(actor_login, type = 'PullRequestReviewCommentEvent') AS review_authors,\n",
    "    uniqIf(actor_login, type = 'PushEvent') AS push_authors\n",
    "FROM github_log.events\n",
    "WHERE type IN ('PullRequestEvent', 'IssuesEvent', 'IssueCommentEvent', 'PullRequestReviewCommentEvent', 'PushEvent') AND org_login != ''\n",
    "GROUP BY org_login\n",
    "ORDER BY authors DESC\n",
    "LIMIT 20\n",
    "`).then(console.table);"
   ]
  },
  {
   "cell_type": "markdown",
   "id": "ff0caac4-a424-4ea5-b3e9-5d6f5690e4a9",
   "metadata": {},
   "source": [
    "Microsoft wins in 4 out of 6 categories. Apache wins for the number of code reviewers (I thought they are using JIRA, but actually it's not always the case). Google wins for the number of PR authors.\n",
    "\n",
    "Please take it with a grain of salt. Not every team is using GitHub as their issue tracker or code review system. Linux and Postgres are using maillists. LLVM is using Bugzilla and Phabricator."
   ]
  },
  {
   "cell_type": "markdown",
   "id": "eca72d5a-1178-4d3e-9a8f-fa89acdd5401",
   "metadata": {},
   "source": [
    "## Repositories by amount of modified code\n",
    "\n",
    "I want to get the repositories with the most added and removed code over time. If I do it in a naive way, the multiple forks of cdn.js repository will be on top. By the way, cdn.js is the largest repository in GitHub by size in bytes (it contains all popular JavaScript libraries, the total size is 254GB). To get something interesting, I added a threshold for the number of diff size and also for the ratio of added and removed code (in actively developing codebases, the ratio should be close to one)."
   ]
  },
  {
   "cell_type": "code",
   "execution_count": 69,
   "id": "70b6260c-8585-460a-9a66-644c3cf86910",
   "metadata": {},
   "outputs": [
    {
     "name": "stdout",
     "output_type": "stream",
     "text": [
      "┌─────────┬──────────────────────────────────────────────┬──────────┬─────────┬────────────┬────────────┐\n",
      "│ (index) │                  repo_name                   │   prs    │ authors │    adds    │    dels    │\n",
      "├─────────┼──────────────────────────────────────────────┼──────────┼─────────┼────────────┼────────────┤\n",
      "│    0    │    'everypolitician/everypolitician-data'    │ '149893' │  '18'   │ '66497741' │ '70973310' │\n",
      "│    1    │       'brianchandotcom/liferay-portal'       │ '90061'  │  '367'  │ '29203693' │ '13239250' │\n",
      "│    2    │ 'googleapis/google-api-java-client-services' │ '10312'  │  '24'   │ '15827439' │ '12422269' │\n",
      "│    3    │               'elastic/kibana'               │ '80582'  │ '1021'  │ '18977937' │ '9180492'  │\n",
      "│    4    │    'AzureSDKAutomation/azure-sdk-for-go'     │ '34801'  │   '5'   │ '17465828' │ '10482499' │\n",
      "│    5    │         'code-dot-org/code-dot-org'          │ '42113'  │  '147'  │ '18057968' │ '8725600'  │\n",
      "│    6    │               'dotnet/roslyn'                │ '29811'  │  '668'  │ '15366706' │ '7300685'  │\n",
      "│    7    │  'AzureSDKAutomation/azure-sdk-for-python'   │  '7854'  │   '9'   │ '15695947' │ '6471637'  │\n",
      "│    8    │   'AzureSDKAutomation/azure-sdk-for-java'    │  '8744'  │   '2'   │ '17001132' │ '2729919'  │\n",
      "│    9    │    'AzureSDKAutomation/azure-sdk-for-js'     │  '7105'  │   '4'   │ '13924004' │ '5680475'  │\n",
      "│   10    │         'Azure/azure-sdk-for-python'         │ '15151'  │  '485'  │ '14022586' │ '5373950'  │\n",
      "│   11    │   'googleapis/discovery-artifact-manager'    │  '3658'  │  '22'   │ '9523831'  │ '9276294'  │\n",
      "│   12    │         'shuyangzhou/liferay-portal'         │  '7174'  │  '129'  │ '11735468' │ '6543538'  │\n",
      "│   13    │          'Azure/azure-sdk-for-net'           │ '15603'  │ '1279'  │ '12842059' │ '4412675'  │\n",
      "│   14    │          'Azure/azure-sdk-for-java'          │ '17746'  │  '422'  │ '13441557' │ '3227985'  │\n",
      "│   15    │               'brain-tec/odoo'               │ '15618'  │  '29'   │ '10686970' │ '5711942'  │\n",
      "│   16    │    'AzureSDKAutomation/azure-sdk-for-net'    │  '6069'  │   '3'   │ '12442355' │ '3821118'  │\n",
      "│   17    │           'Azure/azure-sdk-for-js'           │ '13817'  │  '306'  │ '10837721' │ '4303574'  │\n",
      "│   18    │           'kubernetes/kubernetes'            │ '58337'  │ '4838'  │ '9665889'  │ '4869787'  │\n",
      "│   19    │           'cockroachdb/cockroach'            │ '38307'  │  '677'  │ '8950720'  │ '4889489'  │\n",
      "└─────────┴──────────────────────────────────────────────┴──────────┴─────────┴────────────┴────────────┘\n"
     ]
    }
   ],
   "source": [
    "query(`\n",
    "SELECT\n",
    "    repo_name,\n",
    "    COUNT() AS prs,\n",
    "    uniq(actor_login) AS authors,\n",
    "    sum(pull_additions) AS adds,\n",
    "    sum(pull_deletions) AS dels\n",
    "FROM github_log.events\n",
    "WHERE type = 'PullRequestEvent' AND action = 'opened' AND pull_additions < 10000 AND pull_deletions < 10000\n",
    "GROUP BY repo_name\n",
    "HAVING (adds / dels) < 10\n",
    "ORDER BY adds + dels DESC\n",
    "LIMIT 20\n",
    "`).then(console.table);"
   ]
  },
  {
   "cell_type": "markdown",
   "id": "ebd06c16-9b97-4454-a8cd-23feb7846ba4",
   "metadata": {},
   "source": [
    "## Repositories by the number of pushes"
   ]
  },
  {
   "cell_type": "code",
   "execution_count": 70,
   "id": "13e34541-f6ed-424c-8c87-382ae918de24",
   "metadata": {},
   "outputs": [
    {
     "name": "stdout",
     "output_type": "stream",
     "text": [
      "┌─────────┬───────────────────────────┬──────────┬─────────┐\n",
      "│ (index) │         repo_name         │  pushes  │ authors │\n",
      "├─────────┼───────────────────────────┼──────────┼─────────┤\n",
      "│    0    │     'CocoaPods/Specs'     │ '582646' │  '13'   │\n",
      "│    1    │   'docker-library/docs'   │ '355498' │   '6'   │\n",
      "│    2    │        'odoo/odoo'        │ '354203' │  '98'   │\n",
      "│    3    │     'pytorch/pytorch'     │ '268125' │  '359'  │\n",
      "│    4    │   'openstack/openstack'   │ '200160' │   '2'   │\n",
      "│    5    │      'NixOS/nixpkgs'      │ '174215' │  '218'  │\n",
      "│    6    │  'Automattic/wp-calypso'  │ '150776' │  '547'  │\n",
      "│    7    │     'greatfire/wiki'      │ '139740' │   '4'   │\n",
      "│    8    │    'llvm/llvm-project'    │ '103007' │ '1234'  │\n",
      "│    9    │    'chromium/chromium'    │ '100989' │   '4'   │\n",
      "│   10    │    'edx/edx-platform'     │ '98905'  │  '309'  │\n",
      "│   11    │ 'Homebrew/homebrew-core'  │ '93453'  │  '54'   │\n",
      "│   12    │ 'sourcegraph/sourcegraph' │ '93161'  │  '186'  │\n",
      "│   13    │    'getsentry/sentry'     │ '93092'  │  '147'  │\n",
      "│   14    │     'elastic/kibana'      │ '93067'  │  '474'  │\n",
      "│   15    │  'elastic/elasticsearch'  │ '89908'  │  '315'  │\n",
      "│   16    │     'freebsd/freebsd'     │ '86975'  │   '1'   │\n",
      "│   17    │    'JetBrains/kotlin'     │ '84769'  │  '130'  │\n",
      "│   18    │   'WordPress/gutenberg'   │ '82430'  │  '237'  │\n",
      "│   19    │  'cockroachdb/cockroach'  │ '81402'  │  '198'  │\n",
      "└─────────┴───────────────────────────┴──────────┴─────────┘\n"
     ]
    }
   ],
   "source": [
    "query(`\n",
    "SELECT\n",
    "    repo_name,\n",
    "    COUNT() AS pushes,\n",
    "    uniq(actor_login) AS authors\n",
    "FROM github_log.events\n",
    "WHERE (type = 'PushEvent') AND (repo_name IN\n",
    "(\n",
    "    SELECT repo_name\n",
    "    FROM github_log.events\n",
    "    WHERE type = 'WatchEvent'\n",
    "    GROUP BY repo_name\n",
    "    ORDER BY COUNT() DESC\n",
    "    LIMIT 10000\n",
    "))\n",
    "GROUP BY repo_name\n",
    "ORDER BY pushes DESC\n",
    "LIMIT 20\n",
    "`).then(console.table);"
   ]
  },
  {
   "cell_type": "markdown",
   "id": "e105fa89-eae3-48d0-9754-8575b0749b72",
   "metadata": {},
   "source": [
    "## Authors with the most code reviews"
   ]
  },
  {
   "cell_type": "code",
   "execution_count": 73,
   "id": "3495ad7b-5dd5-4df7-b7fe-80f1c753d2ac",
   "metadata": {},
   "outputs": [
    {
     "name": "stdout",
     "output_type": "stream",
     "text": [
      "┌─────────┬────────────────────────────┬──────────┬─────────┬─────────┬──────────────────────────────────┐\n",
      "│ (index) │        actor_login         │  count   │  repos  │   prs   │             comment              │\n",
      "├─────────┼────────────────────────────┼──────────┼─────────┼─────────┼──────────────────────────────────┤\n",
      "│    0    │       'houndci-bot'        │ '290524' │ '5895'  │ '79679' │    'too many blank lines (2)'    │\n",
      "│    1    │        'codacy-bot'        │ '215873' │ '2312'  │ '21564' │ '![Codacy](https://app.codacy.c' │\n",
      "│    2    │ 'github-learning-lab[bot]' │ '183385' │ '40400' │ '74793' │ '## Step 4: Add a page title  Y' │\n",
      "│    3    │        'hound[bot]'        │ '126173' │ '2190'  │ '21605' │       'Missing semicolon.'       │\n",
      "│    4    │         'houndci'          │ '96540'  │ '2607'  │ '24426' │ 'Prefer double-quoted strings u' │\n",
      "│    5    │   'github-actions[bot]'    │ '72728'  │ '2760'  │ '16928' │ '<table data-meta=\"generated_by' │\n",
      "│    6    │     'codeclimate[bot]'     │ '50607'  │ '1822'  │ '16601' │ 'Similar blocks of code found i' │\n",
      "│    7    │    'sonatype-lift[bot]'    │ '43702'  │ '1404'  │ '3773'  │ '*UnusedVariable:*  The local v' │\n",
      "│    8    │     'sourcery-ai[bot]'     │ '38790'  │ '6619'  │ '9252'  │ 'Function `Processor._lock_soft' │\n",
      "│    9    │      'CyrusNajmabadi'      │ '35936'  │  '63'   │ '4428'  │ 'this logic moved into the call' │\n",
      "│   10    │         'jreback'          │ '33567'  │  '37'   │ '7294'  │ 'prob can pull stuff out of thi' │\n",
      "│   11    │       'stephentoub'        │ '32862'  │  '75'   │ '7392'  │ '> It is not clear to me what S' │\n",
      "│   12    │      'MartinHjelmare'      │ '32406'  │  '70'   │ '6568'  │ 'Ok, change config schema to us' │\n",
      "│   13    │         'seanlip'          │ '32370'  │  '24'   │ '3070'  │ \"Don't do this, use ng-style in\" │\n",
      "│   14    │       'foreign-sub'        │ '30204'  │   '3'   │  '196'  │ 'Codacy found an issue: [Use of' │\n",
      "│   15    │  'staging-muse-bot[bot]'   │ '29860'  │  '25'   │  '119'  │        'comment ignored'         │\n",
      "│   16    │        'TOMARUMARU'        │ '28285'  │ '4240'  │ '9762'  │     '外部キー制約は不要です'     │\n",
      "│   17    │         'liggitt'          │ '27910'  │  '148'  │ '6480'  │ 'not from admission attributes?' │\n",
      "│   18    │      'DmitryChitalov'      │ '27696'  │  '546'  │ '5833'  │           'выполнено'            │\n",
      "│   19    │        'vkurennov'         │ '25765'  │  '785'  │ '4240'  │ 'кроме того, этому вообще не ме' │\n",
      "└─────────┴────────────────────────────┴──────────┴─────────┴─────────┴──────────────────────────────────┘\n"
     ]
    }
   ],
   "source": [
    "query(`\n",
    "SELECT\n",
    "    actor_login,\n",
    "    COUNT() AS count,\n",
    "    uniq(repo_name) AS repos,\n",
    "    uniq(repo_name, issue_number) AS prs,\n",
    "    replaceRegexpAll(substringUTF8(anyHeavy(pull_review_comment_body), 1, 30), '[\\r\\n]', ' ') AS comment\n",
    "FROM github_log.events\n",
    "WHERE type = 'PullRequestReviewCommentEvent' AND action = 'created'\n",
    "GROUP BY actor_login\n",
    "ORDER BY count DESC\n",
    "LIMIT 20\n",
    "`).then(console.table);"
   ]
  },
  {
   "cell_type": "markdown",
   "id": "3dba1240-0f6f-44a3-83d2-f372417708c0",
   "metadata": {},
   "source": [
    "Most of the most active reviewers are robots that do style checking and static analysis. But there are real people: [Jeff Reback](https://github.com/jreback). You can also find teachers who review code from students."
   ]
  },
  {
   "cell_type": "markdown",
   "id": "840562b3-9713-40a6-b965-6e2a7bf929de",
   "metadata": {},
   "source": [
    "## Top lables\n",
    "\n",
    "What are the most popular labels for issues and pull requests?"
   ]
  },
  {
   "cell_type": "code",
   "execution_count": 77,
   "id": "39f02c9e-297c-4469-8301-35080eb14bc4",
   "metadata": {},
   "outputs": [
    {
     "name": "stdout",
     "output_type": "stream",
     "text": [
      "┌─────────┬────────────────────┬────────────┐\n",
      "│ (index) │       label        │     c      │\n",
      "├─────────┼────────────────────┼────────────┤\n",
      "│    0    │   'dependencies'   │ '30164516' │\n",
      "│    1    │       'bug'        │ '15892435' │\n",
      "│    2    │   'enhancement'    │ '14633959' │\n",
      "│    3    │     'question'     │ '4015196'  │\n",
      "│    4    │     'approved'     │ '3289411'  │\n",
      "│    5    │   'help wanted'    │ '2918721'  │\n",
      "│    6    │    'javascript'    │ '2907656'  │\n",
      "│    7    │       'lgtm'       │ '2583169'  │\n",
      "│    8    │     'cla: yes'     │ '2242255'  │\n",
      "│    9    │   'greenkeeper'    │ '2209443'  │\n",
      "│   10    │  'cncf-cla: yes'   │ '2049165'  │\n",
      "│   11    │     'size/XS'      │ '1652787'  │\n",
      "│   12    │       'Bug'        │ '1596843'  │\n",
      "│   13    │     'feature'      │ '1575005'  │\n",
      "│   14    │  'documentation'   │ '1341686'  │\n",
      "│   15    │      'size/L'      │ '1312934'  │\n",
      "│   16    │ 'good first issue' │ '1287016'  │\n",
      "│   17    │      'status'      │ '1189244'  │\n",
      "│   18    │     'kind/bug'     │ '1124014'  │\n",
      "│   19    │   'in progress'    │ '1082162'  │\n",
      "└─────────┴────────────────────┴────────────┘\n"
     ]
    }
   ],
   "source": [
    "query(`\n",
    "SELECT\n",
    "    label,\n",
    "    COUNT() AS c\n",
    "FROM github_log.events\n",
    "ARRAY JOIN issue_labels.name AS label\n",
    "WHERE type IN ('IssuesEvent', 'PullRequestEvent', 'IssueCommentEvent') AND action IN ('created', 'opened', 'labeled')\n",
    "GROUP BY label\n",
    "ORDER BY c DESC\n",
    "LIMIT 20\n",
    "`).then(console.table);"
   ]
  },
  {
   "cell_type": "markdown",
   "id": "85d86d20-bb16-4543-a20f-9b14b0afafff",
   "metadata": {},
   "source": [
    "There are more bugs than enhancements. Fortunately, only by a little. \"Javascript\" is the only programming-language related label at the top.\n",
    "\n",
    "The diversity of bugs and features is overwhelming:"
   ]
  },
  {
   "cell_type": "code",
   "execution_count": 78,
   "id": "61877958-4943-46c6-bb1c-49f512a999af",
   "metadata": {},
   "outputs": [
    {
     "name": "stdout",
     "output_type": "stream",
     "text": [
      "┌─────────┬────────────────────────────┬────────────┐\n",
      "│ (index) │           label            │     c      │\n",
      "├─────────┼────────────────────────────┼────────────┤\n",
      "│    0    │           'bug'            │ '15892435' │\n",
      "│    1    │           'Bug'            │ '1596843'  │\n",
      "│    2    │         'feature'          │ '1575005'  │\n",
      "│    3    │         'kind/bug'         │ '1124014'  │\n",
      "│    4    │    'bugzilla/valid-bug'    │  '705206'  │\n",
      "│    5    │     'feature request'      │  '607051'  │\n",
      "│    6    │        'type: bug'         │  '559648'  │\n",
      "│    7    │       'kind/feature'       │  '558435'  │\n",
      "│    8    │         'Feature'          │  '540907'  │\n",
      "│    9    │        'Type: Bug'         │  '367491'  │\n",
      "│   10    │     'feature-request'      │  '339033'  │\n",
      "│   11    │  'bugzilla/severity-high'  │  '275256'  │\n",
      "│   12    │         'type:bug'         │  '266314'  │\n",
      "│   13    │ 'bugzilla/severity-medium' │  '256773'  │\n",
      "│   14    │     'Feature Request'      │  '252355'  │\n",
      "│   15    │   'bugzilla/invalid-bug'   │  '199099'  │\n",
      "│   16    │       'new feature'        │  '194205'  │\n",
      "│   17    │         'type/bug'         │  '157048'  │\n",
      "│   18    │        '[Type] Bug'        │  '144847'  │\n",
      "│   19    │      'type: feature'       │  '130090'  │\n",
      "└─────────┴────────────────────────────┴────────────┘\n"
     ]
    }
   ],
   "source": [
    "query(`\n",
    "SELECT\n",
    "    label,\n",
    "    COUNT() AS c\n",
    "FROM github_log.events\n",
    "ARRAY JOIN issue_labels.name AS label\n",
    "WHERE type IN ('IssuesEvent', 'PullRequestEvent', 'IssueCommentEvent') AND action IN ('created', 'opened', 'labeled') AND (label ILIKE '%bug%' OR label ILIKE '%feature%')\n",
    "GROUP BY label\n",
    "ORDER BY c DESC\n",
    "LIMIT 20\n",
    "`).then(console.table);"
   ]
  },
  {
   "cell_type": "code",
   "execution_count": 79,
   "id": "3920a35a-3577-420b-8124-883631db5e67",
   "metadata": {},
   "outputs": [
    {
     "name": "stdout",
     "output_type": "stream",
     "text": [
      "┌─────────┬────────────┬───────────┬────────────────────┐\n",
      "│ (index) │    bugs    │ features  │       ratio        │\n",
      "├─────────┼────────────┼───────────┼────────────────────┤\n",
      "│    0    │ '25718238' │ '6730930' │ 3.8209040949764743 │\n",
      "└─────────┴────────────┴───────────┴────────────────────┘\n"
     ]
    }
   ],
   "source": [
    "query(`\n",
    "SELECT\n",
    "    sum(label ILIKE '%bug%') AS bugs,\n",
    "    sum(label ILIKE '%feature%') AS features,\n",
    "    bugs / features AS ratio\n",
    "FROM github_log.events\n",
    "ARRAY JOIN issue_labels.name AS label\n",
    "WHERE type IN ('IssuesEvent', 'PullRequestEvent', 'IssueCommentEvent') AND action IN ('created', 'opened', 'labeled') AND (label ILIKE '%bug%' OR label ILIKE '%feature%')\n",
    "`).then(console.table);"
   ]
  },
  {
   "cell_type": "markdown",
   "id": "dc8aace9-2308-4690-8fdc-696c414257fd",
   "metadata": {},
   "source": [
    "Every feature generates 3.82 bugs on average."
   ]
  },
  {
   "cell_type": "markdown",
   "id": "694a112e-3bd4-4d57-b978-8b0e52d9b2d0",
   "metadata": {},
   "source": [
    "## The longest repository names"
   ]
  },
  {
   "cell_type": "code",
   "execution_count": 80,
   "id": "a9870b6b-b305-4bd4-a01c-e097922fce5f",
   "metadata": {},
   "outputs": [
    {
     "name": "stdout",
     "output_type": "stream",
     "text": [
      "┌─────────┬─────────┬────────────────────────────────────────────────────────────────────────────────────────────────────────────────────────────────────────────────┐\n",
      "│ (index) │ COUNT() │                                                                   repo_name                                                                    │\n",
      "├─────────┼─────────┼────────────────────────────────────────────────────────────────────────────────────────────────────────────────────────────────────────────────┤\n",
      "│    0    │   '1'   │ 'WWWWWWWWWWWWWWWWWWWWWWWWWWWMWWWWWWWWWWW/WWWWWWWWWWWWWWWWWWWWWWWWWWWWWWWWWWWWWWWWWWWWWWWWWWWWWWWWWWWWWWWWWWWWWWWWWWWWWWWWWWWWWWWWWWWWWWWWWWWW' │\n",
      "│    1    │  '15'   │ 'fkdjfkdkfjskfjsldkfjvndkslakfjgkdlskfjg/fksfekgkslgkkdjfkdlskfjkfkdlslakdjfkekjlklfkjdkslkjfojksjdfaskdjfsalkdfj-laskfjls-kdajfoasjfpoawefjk' │\n",
      "│    2    │   '1'   │ 'git-git-git-git-git-git-git-git-git-git/git.git.git.git.git.git.git.git.git.git.git.git.git.git.git.git.git.git.git.git.git.git.git.git.git.' │\n",
      "│    3    │   '1'   │ 'PERIODICTABLEOFELEMENTSYNTHETICOMPOUNDS/data-image-png-base64-iVBORw0KGgoAAAANSUhEUgAAAhIAAAISCAYAAACZPSa-AAAgAElEQVR4nO3dW5bbOrJFUVrD-e-y68' │\n",
      "│    4    │   '5'   │ 'accounts-inheritance-finders-of-america/eeeeeeeeeeeeeeeeeeeeeeeeeeeeeeeeeeeeeeeeeeeeeeeeeeeeeeeeeeeeeeeeeeeeeeeeeeeeeeeeeeeeeeeeeeeeeeeeeeee' │\n",
      "│    5    │  '40'   │ 'uwuwuwuwuwuwuwuwuwuwuwuwuwuwuwuwuwuwuwu/uwuwuwuwuwuwuwuwuwuwuwuwuwuwuwuwuwuwuwuuwuwuwuwuwuwuwuwuwuwuwuwuwuwuwuwuwuwuwuuwuwuwuwuwuwuwuwuwuwuw' │\n",
      "│    6    │   '1'   │ 'a-a-a-a-a-a-a-a-a-a-a-a-a-a-a-a-a-a-a-a/a-a-a-a-a-a-a-a-a-a-a-a-a-a-a-a-a-a-a-a-a-a-a-a-a-a-a-a-a-a-a-a-a-a-a-a-a-a-a-a-a-a-a-a-a-a-a-a-a-a-' │\n",
      "│    7    │   '1'   │ 'joooooooooooooooooooooooooooooooooooooj/jooooooooooooooooooooooooooooooooooooooooooooooooooooooooooooooooooooooooooooooooooooooooooooooooooo' │\n",
      "│    8    │   '7'   │ 'strackoverflowwwwwwwwwwwwwwwwwwwwwwwwww/maximum-repository-title-length-is-super-long-but-its-a-free-country-so-go-ahead-and-make-it-longggg' │\n",
      "│    9    │   '1'   │ 'UDtUf4aRyjv7nU3YTg056xCJw1ghAJYXgad7oB5/hJJRB7rpa3IXwX8HRsA1B4jCDmlZBY9fAzXZWNPyhrsXYG5kCeC4RPFqKQ4I9sAu1aNzX2G6wAkBjm8BjPfKjdubEqkmeAIkIwgu' │\n",
      "│   10    │   '1'   │ 'JonathanJonathanJonathanJonathanJonatha/JonathanJonathanJonathanJonathanJonathanJonathanJonathanJonathanJonathanJonathanJonathanJonathanJona' │\n",
      "│   11    │   '1'   │ '1ABC2DEF3GHI4JKL5MNO6PQRS7TUV8WXYZ90RON/data-image-png-base64-iVBORw0KGgoAAAANSUhEUgAAAhIAAAISCAYAAACZPSa-AAAgAElEQVR4nO3dW5bbOrJFUVrD-e-y68' │\n",
      "│   12    │   '1'   │ 'ELECTRONICATOMATHEMATICORRELANGEOMITALD/data-image-png-base64-iVBORw0KGgoAAAANSUhEUgAAAhIAAAISCAYAAACZPSa-AAAgAElEQVR4nO3dW5bbOrJFUVrD-e-y68' │\n",
      "│   13    │   '4'   │ 'joooooooooooooooooooooooooooooooooooooj/jooooooooooooooooooooooooooooooooooooooooooooooooooooooooooooooooooooooooooooooooooooooooooooooooooj' │\n",
      "│   14    │   '2'   │ 'GOOMBAAAAAAAAAAAAAAAAAAAAAAAAAAAAAAAAAA/GOOMBAAAAAAAAAAAAAAAAAAAAAAAAAAAAAAAAAAAAAAAAAAAAAAAAAAAAAAAAAAAAAAAAAAAAAAAAAAAAAAAAAAAAAAAAAAAAAAA' │\n",
      "│   15    │   '1'   │ 'dldadnasjndfsjafajnsdfadnfadfkoafasdklk/fjkdasifjasdiofasiodfasjdogasdgajsdpgasdpgasjkdgo-askdpgspkdgvjaspgpasjidpgjiajisdgpjioasdpigasgpjia' │\n",
      "│   16    │   '2'   │ 'yyyyyyyyyyyyyyyyyyyyyyyyyyyyyyyyyyyyyy/yyyyyyyyyyyyyyyyyyyyyyyyyyyyyyyyyyyyyyyyyyyyyyyyyyyyyyyyyyyyyyyyyyyyyyyyyyyyyyyyyyyyyyyyyyyyyyyyyyyy'  │\n",
      "│   17    │   '3'   │ 'biubiubiubiubiubiubiubiubiubiubiubiubiu/biubiubiubiubiubiubiubiubiubiubiubiubiubiubiubiubiubiubiubiubiubiubiubiubiubiubiubiubiubiubiubiubiu'  │\n",
      "│   18    │   '2'   │ 'xvideos-xnxx-pornhub-xhamster-jerkmate/chengren-chengrenshequ-chengrendizhi-chengrenwangzhan-chengrenpian-chengrenshipin-chengrenshipin-seq'  │\n",
      "│   19    │   '1'   │ 'COMNETORGINFOBIZUSNAMEDOMAINSCIENCENTAG/https-www.google.com-search-q-Maki-BOT-E2-80-94-Yesterday-at-11-3A32-PM-Role-name-changed-From-ne-1'  │\n",
      "└─────────┴─────────┴────────────────────────────────────────────────────────────────────────────────────────────────────────────────────────────────────────────────┘\n"
     ]
    }
   ],
   "source": [
    "query(`\n",
    "SELECT COUNT(), repo_name\n",
    "FROM github_log.events\n",
    "WHERE type = 'WatchEvent'\n",
    "GROUP BY repo_name\n",
    "ORDER BY length(repo_name) DESC\n",
    "LIMIT 20\n",
    "`).then(console.table);"
   ]
  },
  {
   "cell_type": "markdown",
   "id": "1fb51796-46ee-4756-bb75-1a4f97f109f6",
   "metadata": {},
   "source": [
    "The most favorite of the insane is the \"132 e's\". Did you miss the [story](https://iliana.fyi/blog/e98e/)?"
   ]
  },
  {
   "cell_type": "markdown",
   "id": "68a179ce-ad6a-43a7-86fb-bb4f4d7feaa3",
   "metadata": {},
   "source": [
    "## The shortest repository names"
   ]
  },
  {
   "cell_type": "code",
   "execution_count": 81,
   "id": "f80797c6-426c-4b35-8bb7-0c8b05e33fbc",
   "metadata": {},
   "outputs": [
    {
     "name": "stdout",
     "output_type": "stream",
     "text": [
      "┌─────────┬───────────┬─────────┐\n",
      "│ (index) │ repo_name │ COUNT() │\n",
      "├─────────┼───────────┼─────────┤\n",
      "│    0    │   '2/1'   │   '1'   │\n",
      "│    1    │   'f/f'   │   '9'   │\n",
      "│    2    │   'e/m'   │   '1'   │\n",
      "│    3    │   's/s'   │   '2'   │\n",
      "│    4    │   '2/2'   │   '1'   │\n",
      "│    5    │  'i/AI'   │   '1'   │\n",
      "│    6    │  'Xe/h'   │   '7'   │\n",
      "│    7    │  'as/a'   │  '334'  │\n",
      "│    8    │  'nd/e'   │   '1'   │\n",
      "│    9    │  'f/pq'   │  '162'  │\n",
      "│   10    │  'f/r3'   │   '6'   │\n",
      "│   11    │  '9H/Z'   │   '1'   │\n",
      "│   12    │  'gc/e'   │   '1'   │\n",
      "│   13    │  'tj/n'   │ '15825' │\n",
      "│   14    │  '69/a'   │   '3'   │\n",
      "│   15    │  '9H/F'   │   '2'   │\n",
      "│   16    │  'Xe/x'   │  '46'   │\n",
      "│   17    │  '3x/n'   │   '2'   │\n",
      "│   18    │  'mg/i'   │   '4'   │\n",
      "│   19    │  '7f/h'   │   '2'   │\n",
      "└─────────┴───────────┴─────────┘\n"
     ]
    }
   ],
   "source": [
    "query(`\n",
    "SELECT repo_name, COUNT()\n",
    "FROM github_log.events\n",
    "WHERE type = 'WatchEvent' AND repo_name LIKE '%_/_%'\n",
    "GROUP BY repo_name\n",
    "ORDER BY length(repo_name) ASC\n",
    "LIMIT 20\n",
    "`).then(console.table);"
   ]
  },
  {
   "cell_type": "markdown",
   "id": "9a268556-5d84-48a6-b9b6-e0836da8fc53",
   "metadata": {},
   "source": [
    "I'm surprised that tj/n is a real thing. f/pq is also a real thing and also related to node.js. Maybe node.js developers are addicted to short names?"
   ]
  },
  {
   "cell_type": "markdown",
   "id": "b6683f83-863d-4612-b99c-7379c68397cd",
   "metadata": {},
   "source": [
    "## Repositories with ClickHouse-realted comments"
   ]
  },
  {
   "cell_type": "code",
   "execution_count": 5,
   "id": "729a1a91-41af-4759-a40d-352b5621cfa9",
   "metadata": {},
   "outputs": [
    {
     "name": "stdout",
     "output_type": "stream",
     "text": [
      "┌─────────┬─────────────────────────────────────┬─────────┐\n",
      "│ (index) │              repo_name              │ COUNT() │\n",
      "├─────────┼─────────────────────────────────────┼─────────┤\n",
      "│    0    │       'ClickHouse/ClickHouse'       │ '13613' │\n",
      "│    1    │         'yandex/ClickHouse'         │ '3405'  │\n",
      "│    2    │   'Altinity/clickhouse-operator'    │  '831'  │\n",
      "│    3    │    'ClickHouse/clickhouse-jdbc'     │  '792'  │\n",
      "│    4    │   'AlexAkulov/clickhouse-backup'    │  '723'  │\n",
      "│    5    │          'PostHog/posthog'          │  '470'  │\n",
      "│    6    │         'ibis-project/ibis'         │  '361'  │\n",
      "│    7    │     'ClickHouse/clickhouse-go'      │  '348'  │\n",
      "│    8    │    'mymarilyn/clickhouse-driver'    │  '344'  │\n",
      "│    9    │   'Vertamedia/clickhouse-grafana'   │  '333'  │\n",
      "│   10    │ 'housepower/ClickHouse-Native-JDBC' │  '307'  │\n",
      "│   11    │    'ClickHouse/clickhouse-odbc'     │  '302'  │\n",
      "│   12    │          'getsentry/snuba'          │  '294'  │\n",
      "│   13    │     'DataDog/integrations-core'     │  '282'  │\n",
      "│   14    │     'PostHog/charts-clickhouse'     │  '198'  │\n",
      "│   15    │       'datafuselabs/databend'       │  '179'  │\n",
      "│   16    │  'xzkostyan/clickhouse-sqlalchemy'  │  '172'  │\n",
      "│   17    │      'yandex/clickhouse-odbc'       │  '149'  │\n",
      "│   18    │      'yandex/clickhouse-jdbc'       │  '148'  │\n",
      "│   19    │        'kshvakov/clickhouse'        │  '147'  │\n",
      "└─────────┴─────────────────────────────────────┴─────────┘\n"
     ]
    }
   ],
   "source": [
    "query(`\n",
    "SELECT repo_name, COUNT()\n",
    "FROM github_log.events\n",
    "WHERE type = 'IssueCommentEvent' AND issue_comment_body ILIKE '%ClickHouse%'\n",
    "GROUP BY repo_name\n",
    "ORDER BY COUNT() DESC\n",
    "LIMIT 20\n",
    "`).then(console.table);"
   ]
  },
  {
   "cell_type": "markdown",
   "id": "779e1901-71b1-46f2-a4bf-7d072b8adb30",
   "metadata": {},
   "source": [
    "The most popular is Sentry Snuba, then ClickHouse Kubernetes Operator, ClickHouse Grafana, then Python, Go, ODBC, JDBC drivers."
   ]
  },
  {
   "cell_type": "markdown",
   "id": "2270be94-9561-41a2-b46a-d011788b7b7f",
   "metadata": {},
   "source": [
    "## Most popular comments on GitHub"
   ]
  },
  {
   "cell_type": "code",
   "execution_count": 4,
   "id": "3103ec61-2333-4780-a170-c3a010ac4bf4",
   "metadata": {},
   "outputs": [
    {
     "name": "stdout",
     "output_type": "stream",
     "text": [
      "┌─────────┬──────────────────────┬──────────┐\n",
      "│ (index) │  issue_comment_body  │ COUNT()  │\n",
      "├─────────┼──────────────────────┼──────────┤\n",
      "│    0    │ 'Superseded by #6.'  │ '758807' │\n",
      "│    1    │ 'Superseded by #7.'  │ '709195' │\n",
      "│    2    │ 'Superseded by #5.'  │ '643050' │\n",
      "│    3    │ 'Superseded by #8.'  │ '613488' │\n",
      "│    4    │ 'Superseded by #9.'  │ '575173' │\n",
      "│    5    │ 'Superseded by #4.'  │ '549048' │\n",
      "│    6    │ 'Superseded by #10.' │ '533009' │\n",
      "│    7    │      'Thanks!'       │ '526677' │\n",
      "│    8    │ 'Superseded by #11.' │ '506341' │\n",
      "│    9    │ 'Superseded by #12.' │ '490379' │\n",
      "│   10    │ 'Superseded by #17.' │ '456005' │\n",
      "│   11    │ 'Superseded by #21.' │ '453637' │\n",
      "│   12    │ 'Superseded by #16.' │ '452151' │\n",
      "│   13    │ 'Superseded by #20.' │ '449368' │\n",
      "│   14    │ 'Superseded by #13.' │ '448386' │\n",
      "│   15    │ 'Superseded by #18.' │ '445320' │\n",
      "│   16    │        'LGTM'        │ '442674' │\n",
      "│   17    │ 'Superseded by #14.' │ '438877' │\n",
      "│   18    │ 'Superseded by #19.' │ '438668' │\n",
      "│   19    │ 'Superseded by #15.' │ '435045' │\n",
      "└─────────┴──────────────────────┴──────────┘\n"
     ]
    }
   ],
   "source": [
    "query(`\n",
    "SELECT issue_comment_body, COUNT()\n",
    "FROM github_log.events\n",
    "WHERE notEmpty(issue_comment_body) AND length(issue_comment_body) < 100\n",
    "GROUP BY issue_comment_body\n",
    "ORDER BY COUNT() DESC\n",
    "LIMIT 20\n",
    "`).then(console.table);"
   ]
  },
  {
   "cell_type": "markdown",
   "id": "e020fa8d-43e4-4688-ad2d-900c6a9a23b4",
   "metadata": {},
   "source": [
    "The `Superseded by #..` are comments created by dependabot automatically."
   ]
  },
  {
   "cell_type": "markdown",
   "id": "967a5445-ce2a-4c0e-b3ca-ae467fb5f53b",
   "metadata": {},
   "source": [
    "## GitHub roulette\n",
    "\n",
    "If we roll a dice and SELECT 20 ramdon repositories with proprtional to the number of stars, what will we get?"
   ]
  },
  {
   "cell_type": "code",
   "execution_count": 3,
   "id": "85dd9cf7-d7de-40d0-adbd-38a3417bdbc4",
   "metadata": {},
   "outputs": [
    {
     "name": "stdout",
     "output_type": "stream",
     "text": [
      "┌─────────┬───────────────────────────────────────────────────────┐\n",
      "│ (index) │                       repo_name                       │\n",
      "├─────────┼───────────────────────────────────────────────────────┤\n",
      "│    0    │                   'ksonnet/ksonnet'                   │\n",
      "│    1    │                   'leoiceo/OpenSA'                    │\n",
      "│    2    │               'tomrunia/PyTorchConv3D'                │\n",
      "│    3    │          'alphaSeclab/awesome-network-stuff'          │\n",
      "│    4    │         'Microsoft/Windows-universal-samples'         │\n",
      "│    5    │          'binhnguyennus/awesome-scalability'          │\n",
      "│    6    │                 'kiranpithani/kiran'                  │\n",
      "│    7    │                   'flutter/flutter'                   │\n",
      "│    8    │                'danielweinmann/unlock'                │\n",
      "│    9    │        'devicehive/devicehive-audio-analysis'         │\n",
      "│   10    │             'slamdata/purescript-halogen'             │\n",
      "│   11    │                 'fossasia/mbdyn-gci'                  │\n",
      "│   12    │         'Wolfsblvt/BlossomsPokemonGoManager'          │\n",
      "│   13    │             'moxystudio/node-cross-spawn'             │\n",
      "│   14    │                    'rogchap/v8go'                     │\n",
      "│   15    │               'btholt/citr-v7-project'                │\n",
      "│   16    │                     'revel/revel'                     │\n",
      "│   17    │                'chrisui/react-hotkeys'                │\n",
      "│   18    │                   'larrycai/sdcamp'                   │\n",
      "│   19    │ 'stemmlerjs/software-design-and-architecture-roadmap' │\n",
      "└─────────┴───────────────────────────────────────────────────────┘\n"
     ]
    }
   ],
   "source": [
    "query(`\n",
    "SELECT repo_name\n",
    "FROM github_log.events\n",
    "WHERE type = 'WatchEvent'\n",
    "ORDER BY RAND()\n",
    "LIMIT 20\n",
    "`).then(console.table);"
   ]
  },
  {
   "cell_type": "markdown",
   "id": "88aeab66-584f-4ae3-abf2-d4af74fb2ae2",
   "metadata": {},
   "source": [
    "This is the true \"face\" of GitHub. Run a few queries and you can estimate and taste the Octoverse this way."
   ]
  }
 ],
 "metadata": {
  "kernelspec": {
   "display_name": "JavaScript (Node.js)",
   "language": "javascript",
   "name": "javascript"
  },
  "language_info": {
   "file_extension": ".js",
   "mimetype": "application/javascript",
   "name": "javascript",
   "version": "16.13.2"
  }
 },
 "nbformat": 4,
 "nbformat_minor": 5
}
