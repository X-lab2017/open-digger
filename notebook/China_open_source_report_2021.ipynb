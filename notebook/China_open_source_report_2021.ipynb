{
 "cells": [
  {
   "cell_type": "code",
   "execution_count": 3,
   "id": "9f9b6185-531a-4608-b6f7-15338e445a54",
   "metadata": {},
   "outputs": [],
   "source": [
    "var openDigger = require('../src/open_digger');"
   ]
  },
  {
   "cell_type": "markdown",
   "id": "e8ebfa1b-677a-48d4-8a86-471735bdaa80",
   "metadata": {},
   "source": [
    "# 中国开源年报\n",
    "\n",
    "该 Notebook 用于生成中国开源年报相关数据。如：\n",
    "\n",
    "- [2021 中国开源年度报告](https://kaiyuanshe.cn/document/china-os-report-2021/2021%20%E4%B8%AD%E5%9B%BD%E5%BC%80%E6%BA%90%E5%B9%B4%E5%BA%A6%E6%8A%A5%E5%91%8A.pdf)"
   ]
  },
  {
   "cell_type": "code",
   "execution_count": 6,
   "id": "6a8399aa-df62-451f-8558-a4609b37d365",
   "metadata": {},
   "outputs": [],
   "source": [
    "var startYear = 2021, startMonth = 1, endYear = 2021, endMonth = 12, groupTimeRange = 'year';"
   ]
  },
  {
   "cell_type": "markdown",
   "id": "c5ad5c28-b200-4d9d-bd36-0e39ecfdd97f",
   "metadata": {},
   "source": [
    "## 世界活跃度排名 Top 10"
   ]
  },
  {
   "cell_type": "code",
   "execution_count": 7,
   "id": "e369cb2e-2bba-4d7b-a536-15c6b52d0c17",
   "metadata": {},
   "outputs": [
    {
     "name": "stdout",
     "output_type": "stream",
     "text": [
      "┌─────────┬────────────────────────────┬──────────────────┬──────────────┐\n",
      "│ (index) │         repo_name          │       org        │   activity   │\n",
      "├─────────┼────────────────────────────┼──────────────────┼──────────────┤\n",
      "│    0    │      'NixOS/nixpkgs'       │     'NixOS'      │ [ 47577.25 ] │\n",
      "│    1    │     'flutter/flutter'      │    'flutter'     │ [ 44728.43 ] │\n",
      "│    2    │     'microsoft/vscode'     │   'microsoft'    │ [ 43074.38 ] │\n",
      "│    3    │   'home-assistant/core'    │ 'home-assistant' │ [ 40730.21 ] │\n",
      "│    4    │ 'MicrosoftDocs/azure-docs' │ 'MicrosoftDocs'  │ [ 38754.57 ] │\n",
      "│    5    │  'kubernetes/kubernetes'   │   'kubernetes'   │ [ 31782.33 ] │\n",
      "│    6    │      'dotnet/runtime'      │     'dotnet'     │ [ 29550.61 ] │\n",
      "│    7    │     'pytorch/pytorch'      │    'pytorch'     │ [ 29465.54 ] │\n",
      "│    8    │      'elastic/kibana'      │    'elastic'     │ [ 28752.45 ] │\n",
      "│    9    │      'rust-lang/rust'      │   'rust-lang'    │ [ 25010.61 ] │\n",
      "└─────────┴────────────────────────────┴──────────────────┴──────────────┘\n"
     ]
    }
   ],
   "source": [
    "openDigger.index.activity.getRepoActivity({startYear, endYear, startMonth, endMonth, groupTimeRange}).then(data => {\n",
    "    console.table(data);\n",
    "});"
   ]
  },
  {
   "cell_type": "markdown",
   "id": "998ca7fb-1ee5-4955-84a7-278969da7d2a",
   "metadata": {},
   "source": [
    "## 中国活跃度排名 Top 30"
   ]
  },
  {
   "cell_type": "code",
   "execution_count": 13,
   "id": "3ab8708d-cf53-432c-b34e-2f17fee5ffc8",
   "metadata": {},
   "outputs": [
    {
     "name": "stdout",
     "output_type": "stream",
     "text": [
      "┌─────────┬────────────────────────────────┬────────────────┬──────────────┐\n",
      "│ (index) │           repo_name            │      org       │   activity   │\n",
      "├─────────┼────────────────────────────────┼────────────────┼──────────────┤\n",
      "│    0    │     'PaddlePaddle/Paddle'      │ 'PaddlePaddle' │ [ 13336.85 ] │\n",
      "│    1    │         'pingcap/tidb'         │   'pingcap'    │ [ 11493.58 ] │\n",
      "│    2    │         'apache/flink'         │    'apache'    │ [ 8531.78 ]  │\n",
      "│    3    │          'apache/tvm'          │    'apache'    │ [ 6347.71 ]  │\n",
      "│    4    │    'PaddlePaddle/PaddleOCR'    │ 'PaddlePaddle' │ [ 5397.16 ]  │\n",
      "│    5    │    'apache/shardingsphere'     │    'apache'    │ [ 4959.86 ]  │\n",
      "│    6    │          'tikv/tikv'           │     'tikv'     │ [ 4815.41 ]  │\n",
      "│    7    │        'alibaba/nacos'         │   'alibaba'    │ [ 4654.82 ]  │\n",
      "│    8    │         'NervJS/taro'          │    'NervJS'    │ [ 4378.31 ]  │\n",
      "│    9    │        'apache/echarts'        │    'apache'    │ [ 4328.61 ]  │\n",
      "│   10    │        'apache/apisix'         │    'apache'    │ [ 4112.71 ]  │\n",
      "│   11    │       'pingcap/docs-cn'        │   'pingcap'    │ [ 4029.97 ]  │\n",
      "│   12    │   'apache/dolphinscheduler'    │    'apache'    │ [ 3874.89 ]  │\n",
      "│   13    │ 'PaddlePaddle/PaddleDetection' │ 'PaddlePaddle' │ [ 3850.87 ]  │\n",
      "│   14    │       'goharbor/harbor'        │   'goharbor'   │ [ 3618.19 ]  │\n",
      "│   15    │         'apache/dubbo'         │    'apache'    │ [ 3316.82 ]  │\n",
      "│   16    │          'k3s-io/k3s'          │    'k3s-io'    │ [ 3185.36 ]  │\n",
      "│   17    │      'apache/skywalking'       │    'apache'    │ [ 3166.53 ]  │\n",
      "│   18    │ 'tencentyun/qcloud-documents'  │  'tencentyun'  │ [ 3103.36 ]  │\n",
      "│   19    │         'apache/ozone'         │    'apache'    │ [ 3005.59 ]  │\n",
      "│   20    │         'pingcap/docs'         │   'pingcap'    │ [ 2980.96 ]  │\n",
      "│   21    │   'PaddlePaddle/Paddle-Lite'   │ 'PaddlePaddle' │ [ 2966.95 ]  │\n",
      "│   22    │         'apache/iotdb'         │    'apache'    │ [ 2955.66 ]  │\n",
      "│   23    │    'apache/incubator-doris'    │    'apache'    │ [ 2885.83 ]  │\n",
      "│   24    │        'pingcap/tiflow'        │   'pingcap'    │ [ 2788.22 ]  │\n",
      "│   25    │    'PaddlePaddle/PaddleNLP'    │ 'PaddlePaddle' │ [ 2620.75 ]  │\n",
      "│   26    │   'apache/incubator-shenyu'    │    'apache'    │ [ 2439.73 ]  │\n",
      "│   27    │         'youzan/vant'          │    'youzan'    │ [ 2418.38 ]  │\n",
      "│   28    │       'xitu/gold-miner'        │     'xitu'     │ [ 2331.39 ]  │\n",
      "│   29    │    'kubesphere/kubesphere'     │  'kubesphere'  │ [ 2248.34 ]  │\n",
      "└─────────┴────────────────────────────────┴────────────────┴──────────────┘\n"
     ]
    }
   ],
   "source": [
    "openDigger.index.activity.getRepoActivity({labelIntersect: [':regions/China'], startYear, endYear, startMonth, endMonth, groupTimeRange, limit: 30}).then(data => {\n",
    "    console.table(data);\n",
    "});"
   ]
  },
  {
   "cell_type": "markdown",
   "id": "8ee19f2a-ad09-4c17-94ae-c80190f5d9bb",
   "metadata": {},
   "source": [
    "## 中国企业活跃度排名"
   ]
  },
  {
   "cell_type": "code",
   "execution_count": 14,
   "id": "3de0ee21-0cb6-4b2c-9741-144af7ddbed9",
   "metadata": {},
   "outputs": [
    {
     "name": "stdout",
     "output_type": "stream",
     "text": [
      "┌─────────┬───────────────┬────────────┬──────────────┐\n",
      "│ (index) │     label     │ repo_count │   activity   │\n",
      "├─────────┼───────────────┼────────────┼──────────────┤\n",
      "│    0    │   'Alibaba'   │    867     │ [ 76574.25 ] │\n",
      "│    1    │    'Baidu'    │    244     │ [ 60428.08 ] │\n",
      "│    2    │   'PingCAP'   │    121     │ [ 46647.69 ] │\n",
      "│    3    │   'Tencent'   │    294     │ [ 25703.63 ] │\n",
      "│    4    │   'Huawei'    │    118     │ [ 10095.76 ] │\n",
      "│    5    │  'QingCloud'  │     48     │ [ 9396.54 ]  │\n",
      "│    6    │   'Vesoft'    │     43     │ [ 7988.11 ]  │\n",
      "│    7    │     'JD'      │     51     │ [ 6488.17 ]  │\n",
      "│    8    │  'ByteDance'  │     73     │  [ 4931.7 ]  │\n",
      "│    9    │   'Youzan'    │     20     │ [ 4267.54 ]  │\n",
      "│   10    │    'Didi'     │     50     │ [ 3619.75 ]  │\n",
      "│   11    │   'Juejin'    │     10     │ [ 2520.49 ]  │\n",
      "│   12    │   'DCloud'    │     25     │ [ 2344.73 ]  │\n",
      "│   13    │   'Deepin'    │    100     │ [ 2303.19 ]  │\n",
      "│   14    │   'Xiaomi'    │     45     │ [ 1980.46 ]  │\n",
      "│   15    │ 'Linux China' │     7      │ [ 1503.77 ]  │\n",
      "│   16    │   'WeBank'    │     32     │ [ 1370.02 ]  │\n",
      "│   17    │   'Netease'   │     36     │ [ 1250.73 ]  │\n",
      "│   18    │  'Bilibili'   │     25     │ [ 1108.93 ]  │\n",
      "│   19    │   'Meituan'   │     29     │ [ 1051.51 ]  │\n",
      "│   20    │  'Ant group'  │     15     │  [ 954.1 ]   │\n",
      "│   21    │      360      │     64     │  [ 807.09 ]  │\n",
      "│   22    │    'CTrip'    │     9      │  [ 307.91 ]  │\n",
      "│   23    │    'Qunar'    │     12     │  [ 187.21 ]  │\n",
      "│   24    │   'Vipshop'   │     6      │  [ 169.82 ]  │\n",
      "└─────────┴───────────────┴────────────┴──────────────┘\n"
     ]
    }
   ],
   "source": [
    "openDigger.index.activity.getRepoActivity({labelIntersect: [':regions/China', 'Company'], startYear, endYear, startMonth, endMonth, groupTimeRange, groupBy: 'Company', limit: -1}).then(data => {\n",
    "    console.table(data);\n",
    "});"
   ]
  },
  {
   "cell_type": "markdown",
   "id": "abddf2c4-df60-4758-b3b0-bc677521ac15",
   "metadata": {},
   "source": [
    "## Apache 基金会中国项目活跃度 Top 20"
   ]
  },
  {
   "cell_type": "code",
   "execution_count": 15,
   "id": "d24987cc-7965-4a09-9c1b-8fe1a9221171",
   "metadata": {},
   "outputs": [
    {
     "name": "stdout",
     "output_type": "stream",
     "text": [
      "┌─────────┬───────────────────────────────────┬──────────┬─────────────┐\n",
      "│ (index) │             repo_name             │   org    │  activity   │\n",
      "├─────────┼───────────────────────────────────┼──────────┼─────────────┤\n",
      "│    0    │          'apache/flink'           │ 'apache' │ [ 8531.78 ] │\n",
      "│    1    │           'apache/tvm'            │ 'apache' │ [ 6347.71 ] │\n",
      "│    2    │      'apache/shardingsphere'      │ 'apache' │ [ 4959.86 ] │\n",
      "│    3    │         'apache/echarts'          │ 'apache' │ [ 4328.61 ] │\n",
      "│    4    │          'apache/apisix'          │ 'apache' │ [ 4112.71 ] │\n",
      "│    5    │     'apache/dolphinscheduler'     │ 'apache' │ [ 3874.89 ] │\n",
      "│    6    │          'apache/dubbo'           │ 'apache' │ [ 3316.82 ] │\n",
      "│    7    │        'apache/skywalking'        │ 'apache' │ [ 3166.53 ] │\n",
      "│    8    │          'apache/ozone'           │ 'apache' │ [ 3005.59 ] │\n",
      "│    9    │          'apache/iotdb'           │ 'apache' │ [ 2955.66 ] │\n",
      "│   10    │     'apache/incubator-doris'      │ 'apache' │ [ 2885.83 ] │\n",
      "│   11    │     'apache/incubator-shenyu'     │ 'apache' │ [ 2439.73 ] │\n",
      "│   12    │         'apache/rocketmq'         │ 'apache' │ [ 2136.4 ]  │\n",
      "│   13    │     'apache/incubator-kyuubi'     │ 'apache' │ [ 1452.29 ] │\n",
      "│   14    │         'apache/dubbo-go'         │ 'apache' │ [ 1251.73 ] │\n",
      "│   15    │        'apache/carbondata'        │ 'apache' │ [ 1051.53 ] │\n",
      "│   16    │      'apache/incubator-brpc'      │ 'apache' │ [ 785.39 ]  │\n",
      "│   17    │     'apache/incubator-linkis'     │ 'apache' │ [ 784.61 ]  │\n",
      "│   18    │ 'apache/servicecomb-java-chassis' │ 'apache' │ [ 753.71 ]  │\n",
      "│   19    │     'apache/incubator-inlong'     │ 'apache' │ [ 725.94 ]  │\n",
      "└─────────┴───────────────────────────────────┴──────────┴─────────────┘\n"
     ]
    }
   ],
   "source": [
    "openDigger.index.activity.getRepoActivity({labelIntersect: [':regions/China', ':foundations/apache'], startYear, endYear, startMonth, endMonth, groupTimeRange, limit: 20}).then(data => {\n",
    "    console.table(data);\n",
    "});"
   ]
  },
  {
   "cell_type": "markdown",
   "id": "7be4b4b9-e4d5-4637-85eb-d1d543534712",
   "metadata": {},
   "source": [
    "## CNCF 基金会中国项目活跃度 Top 20"
   ]
  },
  {
   "cell_type": "code",
   "execution_count": 16,
   "id": "ca26d42b-b83b-4fa5-b333-d65c1c70230b",
   "metadata": {},
   "outputs": [
    {
     "name": "stdout",
     "output_type": "stream",
     "text": [
      "┌─────────┬────────────────────────────────┬─────────────────────┬─────────────┐\n",
      "│ (index) │           repo_name            │         org         │  activity   │\n",
      "├─────────┼────────────────────────────────┼─────────────────────┼─────────────┤\n",
      "│    0    │          'tikv/tikv'           │       'tikv'        │ [ 4815.41 ] │\n",
      "│    1    │       'goharbor/harbor'        │     'goharbor'      │ [ 3618.19 ] │\n",
      "│    2    │          'k3s-io/k3s'          │      'k3s-io'       │ [ 3185.36 ] │\n",
      "│    3    │       'oam-dev/kubevela'       │      'oam-dev'      │ [ 2242.23 ] │\n",
      "│    4    │    'chaos-mesh/chaos-mesh'     │    'chaos-mesh'     │ [ 2159.87 ] │\n",
      "│    5    │      'kubeedge/kubeedge'       │     'kubeedge'      │ [ 2113.32 ] │\n",
      "│    6    │      'volcano-sh/volcano'      │    'volcano-sh'     │ [ 1489.76 ] │\n",
      "│    7    │      'karmada-io/karmada'      │    'karmada-io'     │ [ 1463.98 ] │\n",
      "│    8    │     'openyurtio/openyurt'      │    'openyurtio'     │  [ 1093 ]   │\n",
      "│    9    │   'fluid-cloudnative/fluid'    │ 'fluid-cloudnative' │ [ 969.62 ]  │\n",
      "│   10    │      'openkruise/kruise'       │    'openkruise'     │ [ 957.56 ]  │\n",
      "│   11    │ 'alibaba/inclavare-containers' │      'alibaba'      │ [ 806.16 ]  │\n",
      "│   12    │      'WasmEdge/WasmEdge'       │     'WasmEdge'      │ [ 785.65 ]  │\n",
      "│   13    │       'kubeovn/kube-ovn'       │      'kubeovn'      │ [ 581.31 ]  │\n",
      "│   14    │     'nocalhost/nocalhost'      │     'nocalhost'     │  [ 572.4 ]  │\n",
      "│   15    │   'dragonflyoss/Dragonfly2'    │   'dragonflyoss'    │ [ 560.17 ]  │\n",
      "│   16    │          'v6d-io/v6d'          │      'v6d-io'       │ [ 410.54 ]  │\n",
      "│   17    │     'superedge/superedge'      │     'superedge'     │ [ 408.81 ]  │\n",
      "│   18    │       'bfenetworks/bfe'        │    'bfenetworks'    │ [ 331.68 ]  │\n",
      "│   19    │       'kubedl-io/kubedl'       │     'kubedl-io'     │ [ 301.27 ]  │\n",
      "└─────────┴────────────────────────────────┴─────────────────────┴─────────────┘\n"
     ]
    }
   ],
   "source": [
    "openDigger.index.activity.getRepoActivity({labelIntersect: [':regions/China', ':foundations/linux_foundation/cncf'], startYear, endYear, startMonth, endMonth, groupTimeRange, limit: 20}).then(data => {\n",
    "    console.table(data);\n",
    "});"
   ]
  },
  {
   "cell_type": "markdown",
   "id": "93c0bb80-3f9b-4456-8245-35afc9d1a872",
   "metadata": {},
   "source": [
    "## Linux Foundation 中国项目活跃度 Top 20"
   ]
  },
  {
   "cell_type": "code",
   "execution_count": 17,
   "id": "6e485b38-e8cf-4af9-baa7-f84b04799436",
   "metadata": {},
   "outputs": [
    {
     "name": "stdout",
     "output_type": "stream",
     "text": [
      "┌─────────┬─────────────────────────────────────────────┬────────────────────┬─────────────┐\n",
      "│ (index) │                  repo_name                  │        org         │  activity   │\n",
      "├─────────┼─────────────────────────────────────────────┼────────────────────┼─────────────┤\n",
      "│    0    │        'projectacrn/acrn-hypervisor'        │   'projectacrn'    │ [ 1985.88 ] │\n",
      "│    1    │     'cloud-hypervisor/cloud-hypervisor'     │ 'cloud-hypervisor' │ [ 1210.03 ] │\n",
      "│    2    │           'sodafoundation/delfin'           │  'sodafoundation'  │ [ 744.81 ]  │\n",
      "│    3    │               'occlum/occlum'               │      'occlum'      │  [ 606.3 ]  │\n",
      "│    4    │        'sodafoundation/multi-cloud'         │  'sodafoundation'  │ [ 317.81 ]  │\n",
      "│    5    │            'baetyl/baetyl-cloud'            │      'baetyl'      │   [ 311 ]   │\n",
      "│    6    │       'sodafoundation/documentation'        │  'sodafoundation'  │  [ 252.9 ]  │\n",
      "│    7    │         'cloud-hypervisor/libvirt'          │ 'cloud-hypervisor' │ [ 163.31 ]  │\n",
      "│    8    │                'occlum/ngo'                 │      'occlum'      │  [ 150.4 ]  │\n",
      "│    9    │   'sodafoundation/architecture-analysis'    │  'sodafoundation'  │ [ 145.67 ]  │\n",
      "│   10    │             'TarsCloud/TarsCpp'             │    'TarsCloud'     │ [ 144.74 ]  │\n",
      "│   11    │         'sodafoundation/installer'          │  'sodafoundation'  │ [ 141.76 ]  │\n",
      "│   12    │         'sodafoundation/dashboard'          │  'sodafoundation'  │ [ 140.42 ]  │\n",
      "│   13    │             'baetyl/baetyl-go'              │      'baetyl'      │ [ 139.88 ]  │\n",
      "│   14    │ 'cloud-hypervisor/rust-hypervisor-firmware' │ 'cloud-hypervisor' │ [ 135.67 ]  │\n",
      "│   15    │               'baetyl/baetyl'               │      'baetyl'      │ [ 129.29 ]  │\n",
      "│   16    │             'TarsCloud/TarsGo'              │    'TarsCloud'     │ [ 118.67 ]  │\n",
      "│   17    │          'openmessaging/benchmark'          │  'openmessaging'   │ [ 102.44 ]  │\n",
      "│   18    │             'TarsCloud/TarsWeb'             │    'TarsCloud'     │ [ 100.57 ]  │\n",
      "│   19    │              'TarsCloud/Tars'               │    'TarsCloud'     │  [ 96.82 ]  │\n",
      "└─────────┴─────────────────────────────────────────────┴────────────────────┴─────────────┘\n"
     ]
    }
   ],
   "source": [
    "openDigger.index.activity.getRepoActivity({labelIntersect: [':regions/China', ':foundations/linux_foundation'], startYear, endYear, startMonth, endMonth, groupTimeRange, limit: 20}).then(data => {\n",
    "    console.table(data);\n",
    "});"
   ]
  },
  {
   "cell_type": "code",
   "execution_count": null,
   "id": "49717c0c-f859-4c75-b2fd-6c6f487e719a",
   "metadata": {},
   "outputs": [],
   "source": []
  }
 ],
 "metadata": {
  "kernelspec": {
   "display_name": "JavaScript (Node.js)",
   "language": "javascript",
   "name": "javascript"
  },
  "language_info": {
   "file_extension": ".js",
   "mimetype": "application/javascript",
   "name": "javascript",
   "version": "16.13.2"
  }
 },
 "nbformat": 4,
 "nbformat_minor": 5
}
