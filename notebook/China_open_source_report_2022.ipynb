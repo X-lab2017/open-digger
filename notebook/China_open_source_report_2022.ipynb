{
 "cells": [
  {
   "attachments": {},
   "cell_type": "markdown",
   "id": "986653dd",
   "metadata": {},
   "source": [
    "# 2022中国开源年度报告"
   ]
  },
  {
   "attachments": {},
   "cell_type": "markdown",
   "id": "81a95dd6",
   "metadata": {},
   "source": [
    "## 活跃度、影响力指标介绍"
   ]
  },
  {
   "attachments": {},
   "cell_type": "markdown",
   "id": "21c260c7",
   "metadata": {},
   "source": [
    "## 世界OpenRank排名Top10"
   ]
  },
  {
   "attachments": {},
   "cell_type": "markdown",
   "id": "eec20abd",
   "metadata": {},
   "source": [
    "## 中国影响力排名 Top 30"
   ]
  },
  {
   "attachments": {},
   "cell_type": "markdown",
   "id": "759aaca1",
   "metadata": {},
   "source": [
    "## 中国企业开源数据分析（数量可调整）"
   ]
  },
  {
   "attachments": {},
   "cell_type": "markdown",
   "id": "7671b256",
   "metadata": {},
   "source": [
    "## 中国开发者年度榜单（前50）"
   ]
  },
  {
   "attachments": {},
   "cell_type": "markdown",
   "id": "f28748ad",
   "metadata": {},
   "source": [
    "## 基金会Top20"
   ]
  },
  {
   "attachments": {},
   "cell_type": "markdown",
   "id": "0016055f",
   "metadata": {},
   "source": [
    "## 领域数据Top10（按照今年的Top10计算，给出15年至今的发展趋势）"
   ]
  },
  {
   "attachments": {},
   "cell_type": "markdown",
   "id": "01670f67",
   "metadata": {},
   "source": [
    "## 开源项目时区打点分布图（选取几个典型的案例）"
   ]
  },
  {
   "cell_type": "markdown",
   "id": "a95b29fa",
   "metadata": {},
   "source": []
  }
 ],
 "metadata": {
  "kernelspec": {
   "display_name": "JavaScript (Node.js)",
   "language": "javascript",
   "name": "javascript"
  },
  "language_info": {
   "file_extension": ".js",
   "mimetype": "application/javascript",
   "name": "javascript",
   "version": "16.13.2"
  }
 },
 "nbformat": 4,
 "nbformat_minor": 5
}
