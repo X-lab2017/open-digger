{
 "cells": [
  {
   "cell_type": "code",
   "execution_count": 3,
   "id": "018c9dc9-2b28-47a7-8afc-a5000b57747e",
   "metadata": {},
   "outputs": [],
   "source": [
    "var openDigger = require('../src/open_digger')"
   ]
  },
  {
   "cell_type": "markdown",
   "id": "c88e25f7-0f42-47b6-a567-974659241bae",
   "metadata": {},
   "source": [
    "# 开源码力榜 2021\n",
    "\n",
    "该文档用于开源码力榜相关需求开发工作。"
   ]
  },
  {
   "cell_type": "markdown",
   "id": "28447e05-2069-4b2a-9755-dc22729b58d6",
   "metadata": {},
   "source": [
    "### 特定开发者最活跃相关项目查询\n",
    "\n",
    "该代码用于查询特定开发者账号在 2021 全年最活跃的相关项目。"
   ]
  },
  {
   "cell_type": "code",
   "execution_count": 4,
   "id": "03015120-6cd0-409a-aefa-b720e5586972",
   "metadata": {},
   "outputs": [
    {
     "name": "stdout",
     "output_type": "stream",
     "text": [
      "vueuse/vueuse,vitejs/vite,windicss/vite-plugin-windicss,slidevjs/slidev,windicss/windicss,antfu/unplugin-vue-components,vitejs/awesome-vite,antfu/vitesse,lokalise/i18n-ally,antfu/vite-ssg\n"
     ]
    }
   ],
   "source": [
    "var login = 'antfu', activities = [];\n",
    "for (let m = 1; m < 12; m++) activities.push(`COALESCE(a.activity_2021${m},0)`);\n",
    "var query = `MATCH (u:User{login:'${login}'})-[a:ACTION]->(r:Repo) RETURN r.name AS repo_name, (${activities.join('+')}) AS activity ORDER BY activity DESC LIMIT 10;`;\n",
    "openDigger.driver.neo4j.query(query).then(data => console.log(data.map(i => i.repo_name).join(',')));"
   ]
  },
  {
   "cell_type": "code",
   "execution_count": null,
   "id": "ebd60ba4-a57f-4fd6-86ee-6340b481f205",
   "metadata": {},
   "outputs": [],
   "source": []
  }
 ],
 "metadata": {
  "kernelspec": {
   "display_name": "JavaScript (Node.js)",
   "language": "javascript",
   "name": "javascript"
  },
  "language_info": {
   "file_extension": ".js",
   "mimetype": "application/javascript",
   "name": "javascript",
   "version": "16.13.2"
  }
 },
 "nbformat": 4,
 "nbformat_minor": 5
}
